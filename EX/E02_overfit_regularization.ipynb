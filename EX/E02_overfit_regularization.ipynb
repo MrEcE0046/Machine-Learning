{
 "cells": [
  {
   "attachments": {},
   "cell_type": "markdown",
   "metadata": {},
   "source": [
    "\n",
    "<a href=\"https://colab.research.google.com/github/kokchun/Machine-learning-AI22/blob/main/Exercises/E03_overfit_regularization.ipynb\" target=\"_parent\"><img align=\"left\" src=\"https://colab.research.google.com/assets/colab-badge.svg\" alt=\"Open In Colab\"/></a> &nbsp; to see hints and answers."
   ]
  },
  {
   "cell_type": "markdown",
   "metadata": {},
   "source": [
    "---\n",
    "# Overfit and regularization exercises \n",
    "\n",
    "---\n",
    "These are introductory exercises in Machine learning with focus in **overfitting and regularization** .\n",
    "\n",
    "<p class = \"alert alert-info\" role=\"alert\"><b>Note</b> that sometimes you don't get exactly the same answer as I get, but it doesn't neccessarily mean it is wrong. Could be some parameters, randomization, that we have different. Also very important is that in the future there won't be any answer sheets, use your skills in data analysis, mathematics and statistics to back up your work.</p>\n",
    "\n",
    "<p class = \"alert alert-info\" role=\"alert\"><b>Note</b> that in cases when you start to repeat code, try not to. Create functions to reuse code instead. </p>\n",
    "\n",
    "<p class = \"alert alert-info\" role=\"alert\"><b>Remember</b> to use <b>descriptive variable, function, index </b> and <b> column names</b> in order to get readable code </p>\n",
    "\n",
    "The number of stars (\\*), (\\*\\*), (\\*\\*\\*) denotes the difficulty level of the task\n",
    "\n",
    "---"
   ]
  },
  {
   "attachments": {},
   "cell_type": "markdown",
   "metadata": {},
   "source": [
    "## 0. Tips data EDA (*)\n",
    "\n",
    "In the whole exercise, we will work with the \"tips\" dataset from seaborn dataset. Start by loading dataset \"tips\" from the ```load_dataset``` method in seaborn module. The goal will be to use polynomial linear regression to predict tips. \n",
    "\n",
    "&nbsp; a) Start by doing some initial EDA such as info(), describe().\n",
    "\n",
    "&nbsp; b) Use describe only on those columns that are relevant to get statistical information from. Plot the descriptive statistics for each numerical column, with a adequate plot type (e.g. barplot).\n",
    "\n",
    "&nbsp; c) Based on the initial EDA, make some more plots on things you think could be worthwhile to investigate. \n",
    "\n",
    "&nbsp; d) Try discuss your findings with yourself/colleague and draw some conclusions if possible. Note that in reality, it is important to be able to communicate your findings so that other people in your team/customers/stakeholders etc. get an understanding of the data and realizes the importance of your role as a data scientist/analyst.\n",
    "\n",
    "<details>\n",
    "\n",
    "<summary>Answer</summary>\n",
    "\n",
    "\n",
    "b)\n",
    "<img src=\"../assets/df_describe.png\" height=\"300\"/>\n",
    "\n",
    "c) Here are some example plots\n",
    "\n",
    "<img src=\"../assets/tips_EDA.png\" height=\"300\"/>\n",
    "\n",
    "<img src=\"../assets/tips_smoke_sex.png\" width=\"500\"/>\n",
    "\n",
    "<img src=\"../assets/tips_bar_sex.png\" width=\"300\"/>\n",
    "\n",
    "\n",
    "d) For example: \n",
    "- there are almost double amount of females represented in the dataset\n",
    "- there are very few tables with 1 person eating, and they usually give very low tip\n",
    "- female and male tip somewhat similar\n",
    "\n",
    "</details>\n",
    "\n",
    "---"
   ]
  },
  {
   "cell_type": "code",
   "execution_count": 168,
   "metadata": {},
   "outputs": [
    {
     "data": {
      "application/vnd.microsoft.datawrangler.viewer.v0+json": {
       "columns": [
        {
         "name": "index",
         "rawType": "int64",
         "type": "integer"
        },
        {
         "name": "total_bill",
         "rawType": "float64",
         "type": "float"
        },
        {
         "name": "tip",
         "rawType": "float64",
         "type": "float"
        },
        {
         "name": "sex",
         "rawType": "category",
         "type": "unknown"
        },
        {
         "name": "smoker",
         "rawType": "category",
         "type": "unknown"
        },
        {
         "name": "day",
         "rawType": "category",
         "type": "unknown"
        },
        {
         "name": "time",
         "rawType": "category",
         "type": "unknown"
        },
        {
         "name": "size",
         "rawType": "int64",
         "type": "integer"
        }
       ],
       "conversionMethod": "pd.DataFrame",
       "ref": "3f4a04d0-7ba8-42b1-8e81-c48536f62660",
       "rows": [
        [
         "0",
         "16.99",
         "1.01",
         "Female",
         "No",
         "Sun",
         "Dinner",
         "2"
        ],
        [
         "1",
         "10.34",
         "1.66",
         "Male",
         "No",
         "Sun",
         "Dinner",
         "3"
        ],
        [
         "2",
         "21.01",
         "3.5",
         "Male",
         "No",
         "Sun",
         "Dinner",
         "3"
        ],
        [
         "3",
         "23.68",
         "3.31",
         "Male",
         "No",
         "Sun",
         "Dinner",
         "2"
        ],
        [
         "4",
         "24.59",
         "3.61",
         "Female",
         "No",
         "Sun",
         "Dinner",
         "4"
        ],
        [
         "5",
         "25.29",
         "4.71",
         "Male",
         "No",
         "Sun",
         "Dinner",
         "4"
        ],
        [
         "6",
         "8.77",
         "2.0",
         "Male",
         "No",
         "Sun",
         "Dinner",
         "2"
        ],
        [
         "7",
         "26.88",
         "3.12",
         "Male",
         "No",
         "Sun",
         "Dinner",
         "4"
        ],
        [
         "8",
         "15.04",
         "1.96",
         "Male",
         "No",
         "Sun",
         "Dinner",
         "2"
        ],
        [
         "9",
         "14.78",
         "3.23",
         "Male",
         "No",
         "Sun",
         "Dinner",
         "2"
        ],
        [
         "10",
         "10.27",
         "1.71",
         "Male",
         "No",
         "Sun",
         "Dinner",
         "2"
        ],
        [
         "11",
         "35.26",
         "5.0",
         "Female",
         "No",
         "Sun",
         "Dinner",
         "4"
        ],
        [
         "12",
         "15.42",
         "1.57",
         "Male",
         "No",
         "Sun",
         "Dinner",
         "2"
        ],
        [
         "13",
         "18.43",
         "3.0",
         "Male",
         "No",
         "Sun",
         "Dinner",
         "4"
        ],
        [
         "14",
         "14.83",
         "3.02",
         "Female",
         "No",
         "Sun",
         "Dinner",
         "2"
        ],
        [
         "15",
         "21.58",
         "3.92",
         "Male",
         "No",
         "Sun",
         "Dinner",
         "2"
        ],
        [
         "16",
         "10.33",
         "1.67",
         "Female",
         "No",
         "Sun",
         "Dinner",
         "3"
        ],
        [
         "17",
         "16.29",
         "3.71",
         "Male",
         "No",
         "Sun",
         "Dinner",
         "3"
        ],
        [
         "18",
         "16.97",
         "3.5",
         "Female",
         "No",
         "Sun",
         "Dinner",
         "3"
        ],
        [
         "19",
         "20.65",
         "3.35",
         "Male",
         "No",
         "Sat",
         "Dinner",
         "3"
        ],
        [
         "20",
         "17.92",
         "4.08",
         "Male",
         "No",
         "Sat",
         "Dinner",
         "2"
        ],
        [
         "21",
         "20.29",
         "2.75",
         "Female",
         "No",
         "Sat",
         "Dinner",
         "2"
        ],
        [
         "22",
         "15.77",
         "2.23",
         "Female",
         "No",
         "Sat",
         "Dinner",
         "2"
        ],
        [
         "23",
         "39.42",
         "7.58",
         "Male",
         "No",
         "Sat",
         "Dinner",
         "4"
        ],
        [
         "24",
         "19.82",
         "3.18",
         "Male",
         "No",
         "Sat",
         "Dinner",
         "2"
        ],
        [
         "25",
         "17.81",
         "2.34",
         "Male",
         "No",
         "Sat",
         "Dinner",
         "4"
        ],
        [
         "26",
         "13.37",
         "2.0",
         "Male",
         "No",
         "Sat",
         "Dinner",
         "2"
        ],
        [
         "27",
         "12.69",
         "2.0",
         "Male",
         "No",
         "Sat",
         "Dinner",
         "2"
        ],
        [
         "28",
         "21.7",
         "4.3",
         "Male",
         "No",
         "Sat",
         "Dinner",
         "2"
        ],
        [
         "29",
         "19.65",
         "3.0",
         "Female",
         "No",
         "Sat",
         "Dinner",
         "2"
        ],
        [
         "30",
         "9.55",
         "1.45",
         "Male",
         "No",
         "Sat",
         "Dinner",
         "2"
        ],
        [
         "31",
         "18.35",
         "2.5",
         "Male",
         "No",
         "Sat",
         "Dinner",
         "4"
        ],
        [
         "32",
         "15.06",
         "3.0",
         "Female",
         "No",
         "Sat",
         "Dinner",
         "2"
        ],
        [
         "33",
         "20.69",
         "2.45",
         "Female",
         "No",
         "Sat",
         "Dinner",
         "4"
        ],
        [
         "34",
         "17.78",
         "3.27",
         "Male",
         "No",
         "Sat",
         "Dinner",
         "2"
        ],
        [
         "35",
         "24.06",
         "3.6",
         "Male",
         "No",
         "Sat",
         "Dinner",
         "3"
        ],
        [
         "36",
         "16.31",
         "2.0",
         "Male",
         "No",
         "Sat",
         "Dinner",
         "3"
        ],
        [
         "37",
         "16.93",
         "3.07",
         "Female",
         "No",
         "Sat",
         "Dinner",
         "3"
        ],
        [
         "38",
         "18.69",
         "2.31",
         "Male",
         "No",
         "Sat",
         "Dinner",
         "3"
        ],
        [
         "39",
         "31.27",
         "5.0",
         "Male",
         "No",
         "Sat",
         "Dinner",
         "3"
        ],
        [
         "40",
         "16.04",
         "2.24",
         "Male",
         "No",
         "Sat",
         "Dinner",
         "3"
        ],
        [
         "41",
         "17.46",
         "2.54",
         "Male",
         "No",
         "Sun",
         "Dinner",
         "2"
        ],
        [
         "42",
         "13.94",
         "3.06",
         "Male",
         "No",
         "Sun",
         "Dinner",
         "2"
        ],
        [
         "43",
         "9.68",
         "1.32",
         "Male",
         "No",
         "Sun",
         "Dinner",
         "2"
        ],
        [
         "44",
         "30.4",
         "5.6",
         "Male",
         "No",
         "Sun",
         "Dinner",
         "4"
        ],
        [
         "45",
         "18.29",
         "3.0",
         "Male",
         "No",
         "Sun",
         "Dinner",
         "2"
        ],
        [
         "46",
         "22.23",
         "5.0",
         "Male",
         "No",
         "Sun",
         "Dinner",
         "2"
        ],
        [
         "47",
         "32.4",
         "6.0",
         "Male",
         "No",
         "Sun",
         "Dinner",
         "4"
        ],
        [
         "48",
         "28.55",
         "2.05",
         "Male",
         "No",
         "Sun",
         "Dinner",
         "3"
        ],
        [
         "49",
         "18.04",
         "3.0",
         "Male",
         "No",
         "Sun",
         "Dinner",
         "2"
        ]
       ],
       "shape": {
        "columns": 7,
        "rows": 244
       }
      },
      "text/html": [
       "<div>\n",
       "<style scoped>\n",
       "    .dataframe tbody tr th:only-of-type {\n",
       "        vertical-align: middle;\n",
       "    }\n",
       "\n",
       "    .dataframe tbody tr th {\n",
       "        vertical-align: top;\n",
       "    }\n",
       "\n",
       "    .dataframe thead th {\n",
       "        text-align: right;\n",
       "    }\n",
       "</style>\n",
       "<table border=\"1\" class=\"dataframe\">\n",
       "  <thead>\n",
       "    <tr style=\"text-align: right;\">\n",
       "      <th></th>\n",
       "      <th>total_bill</th>\n",
       "      <th>tip</th>\n",
       "      <th>sex</th>\n",
       "      <th>smoker</th>\n",
       "      <th>day</th>\n",
       "      <th>time</th>\n",
       "      <th>size</th>\n",
       "    </tr>\n",
       "  </thead>\n",
       "  <tbody>\n",
       "    <tr>\n",
       "      <th>0</th>\n",
       "      <td>16.99</td>\n",
       "      <td>1.01</td>\n",
       "      <td>Female</td>\n",
       "      <td>No</td>\n",
       "      <td>Sun</td>\n",
       "      <td>Dinner</td>\n",
       "      <td>2</td>\n",
       "    </tr>\n",
       "    <tr>\n",
       "      <th>1</th>\n",
       "      <td>10.34</td>\n",
       "      <td>1.66</td>\n",
       "      <td>Male</td>\n",
       "      <td>No</td>\n",
       "      <td>Sun</td>\n",
       "      <td>Dinner</td>\n",
       "      <td>3</td>\n",
       "    </tr>\n",
       "    <tr>\n",
       "      <th>2</th>\n",
       "      <td>21.01</td>\n",
       "      <td>3.50</td>\n",
       "      <td>Male</td>\n",
       "      <td>No</td>\n",
       "      <td>Sun</td>\n",
       "      <td>Dinner</td>\n",
       "      <td>3</td>\n",
       "    </tr>\n",
       "    <tr>\n",
       "      <th>3</th>\n",
       "      <td>23.68</td>\n",
       "      <td>3.31</td>\n",
       "      <td>Male</td>\n",
       "      <td>No</td>\n",
       "      <td>Sun</td>\n",
       "      <td>Dinner</td>\n",
       "      <td>2</td>\n",
       "    </tr>\n",
       "    <tr>\n",
       "      <th>4</th>\n",
       "      <td>24.59</td>\n",
       "      <td>3.61</td>\n",
       "      <td>Female</td>\n",
       "      <td>No</td>\n",
       "      <td>Sun</td>\n",
       "      <td>Dinner</td>\n",
       "      <td>4</td>\n",
       "    </tr>\n",
       "    <tr>\n",
       "      <th>...</th>\n",
       "      <td>...</td>\n",
       "      <td>...</td>\n",
       "      <td>...</td>\n",
       "      <td>...</td>\n",
       "      <td>...</td>\n",
       "      <td>...</td>\n",
       "      <td>...</td>\n",
       "    </tr>\n",
       "    <tr>\n",
       "      <th>239</th>\n",
       "      <td>29.03</td>\n",
       "      <td>5.92</td>\n",
       "      <td>Male</td>\n",
       "      <td>No</td>\n",
       "      <td>Sat</td>\n",
       "      <td>Dinner</td>\n",
       "      <td>3</td>\n",
       "    </tr>\n",
       "    <tr>\n",
       "      <th>240</th>\n",
       "      <td>27.18</td>\n",
       "      <td>2.00</td>\n",
       "      <td>Female</td>\n",
       "      <td>Yes</td>\n",
       "      <td>Sat</td>\n",
       "      <td>Dinner</td>\n",
       "      <td>2</td>\n",
       "    </tr>\n",
       "    <tr>\n",
       "      <th>241</th>\n",
       "      <td>22.67</td>\n",
       "      <td>2.00</td>\n",
       "      <td>Male</td>\n",
       "      <td>Yes</td>\n",
       "      <td>Sat</td>\n",
       "      <td>Dinner</td>\n",
       "      <td>2</td>\n",
       "    </tr>\n",
       "    <tr>\n",
       "      <th>242</th>\n",
       "      <td>17.82</td>\n",
       "      <td>1.75</td>\n",
       "      <td>Male</td>\n",
       "      <td>No</td>\n",
       "      <td>Sat</td>\n",
       "      <td>Dinner</td>\n",
       "      <td>2</td>\n",
       "    </tr>\n",
       "    <tr>\n",
       "      <th>243</th>\n",
       "      <td>18.78</td>\n",
       "      <td>3.00</td>\n",
       "      <td>Female</td>\n",
       "      <td>No</td>\n",
       "      <td>Thur</td>\n",
       "      <td>Dinner</td>\n",
       "      <td>2</td>\n",
       "    </tr>\n",
       "  </tbody>\n",
       "</table>\n",
       "<p>244 rows × 7 columns</p>\n",
       "</div>"
      ],
      "text/plain": [
       "     total_bill   tip     sex smoker   day    time  size\n",
       "0         16.99  1.01  Female     No   Sun  Dinner     2\n",
       "1         10.34  1.66    Male     No   Sun  Dinner     3\n",
       "2         21.01  3.50    Male     No   Sun  Dinner     3\n",
       "3         23.68  3.31    Male     No   Sun  Dinner     2\n",
       "4         24.59  3.61  Female     No   Sun  Dinner     4\n",
       "..          ...   ...     ...    ...   ...     ...   ...\n",
       "239       29.03  5.92    Male     No   Sat  Dinner     3\n",
       "240       27.18  2.00  Female    Yes   Sat  Dinner     2\n",
       "241       22.67  2.00    Male    Yes   Sat  Dinner     2\n",
       "242       17.82  1.75    Male     No   Sat  Dinner     2\n",
       "243       18.78  3.00  Female     No  Thur  Dinner     2\n",
       "\n",
       "[244 rows x 7 columns]"
      ]
     },
     "execution_count": 168,
     "metadata": {},
     "output_type": "execute_result"
    }
   ],
   "source": [
    "import seaborn as sns\n",
    "import pandas as pd\n",
    "\n",
    "df = sns.load_dataset(\"tips\")\n",
    "df"
   ]
  },
  {
   "cell_type": "code",
   "execution_count": 169,
   "metadata": {},
   "outputs": [
    {
     "name": "stdout",
     "output_type": "stream",
     "text": [
      "<class 'pandas.core.frame.DataFrame'>\n",
      "RangeIndex: 244 entries, 0 to 243\n",
      "Data columns (total 7 columns):\n",
      " #   Column      Non-Null Count  Dtype   \n",
      "---  ------      --------------  -----   \n",
      " 0   total_bill  244 non-null    float64 \n",
      " 1   tip         244 non-null    float64 \n",
      " 2   sex         244 non-null    category\n",
      " 3   smoker      244 non-null    category\n",
      " 4   day         244 non-null    category\n",
      " 5   time        244 non-null    category\n",
      " 6   size        244 non-null    int64   \n",
      "dtypes: category(4), float64(2), int64(1)\n",
      "memory usage: 7.4 KB\n"
     ]
    }
   ],
   "source": [
    "df.info()"
   ]
  },
  {
   "cell_type": "code",
   "execution_count": 170,
   "metadata": {},
   "outputs": [
    {
     "data": {
      "application/vnd.microsoft.datawrangler.viewer.v0+json": {
       "columns": [
        {
         "name": "index",
         "rawType": "object",
         "type": "string"
        },
        {
         "name": "total_bill",
         "rawType": "float64",
         "type": "float"
        },
        {
         "name": "tip",
         "rawType": "float64",
         "type": "float"
        },
        {
         "name": "size",
         "rawType": "float64",
         "type": "float"
        }
       ],
       "conversionMethod": "pd.DataFrame",
       "ref": "1bcdf5e5-30e1-443b-b877-2201cf760b14",
       "rows": [
        [
         "count",
         "244.0",
         "244.0",
         "244.0"
        ],
        [
         "mean",
         "19.78594262295082",
         "2.99827868852459",
         "2.569672131147541"
        ],
        [
         "std",
         "8.902411954856856",
         "1.3836381890011822",
         "0.9510998047322344"
        ],
        [
         "min",
         "3.07",
         "1.0",
         "1.0"
        ],
        [
         "25%",
         "13.3475",
         "2.0",
         "2.0"
        ],
        [
         "50%",
         "17.795",
         "2.9",
         "2.0"
        ],
        [
         "75%",
         "24.127499999999998",
         "3.5625",
         "3.0"
        ],
        [
         "max",
         "50.81",
         "10.0",
         "6.0"
        ]
       ],
       "shape": {
        "columns": 3,
        "rows": 8
       }
      },
      "text/html": [
       "<div>\n",
       "<style scoped>\n",
       "    .dataframe tbody tr th:only-of-type {\n",
       "        vertical-align: middle;\n",
       "    }\n",
       "\n",
       "    .dataframe tbody tr th {\n",
       "        vertical-align: top;\n",
       "    }\n",
       "\n",
       "    .dataframe thead th {\n",
       "        text-align: right;\n",
       "    }\n",
       "</style>\n",
       "<table border=\"1\" class=\"dataframe\">\n",
       "  <thead>\n",
       "    <tr style=\"text-align: right;\">\n",
       "      <th></th>\n",
       "      <th>total_bill</th>\n",
       "      <th>tip</th>\n",
       "      <th>size</th>\n",
       "    </tr>\n",
       "  </thead>\n",
       "  <tbody>\n",
       "    <tr>\n",
       "      <th>count</th>\n",
       "      <td>244.000000</td>\n",
       "      <td>244.000000</td>\n",
       "      <td>244.000000</td>\n",
       "    </tr>\n",
       "    <tr>\n",
       "      <th>mean</th>\n",
       "      <td>19.785943</td>\n",
       "      <td>2.998279</td>\n",
       "      <td>2.569672</td>\n",
       "    </tr>\n",
       "    <tr>\n",
       "      <th>std</th>\n",
       "      <td>8.902412</td>\n",
       "      <td>1.383638</td>\n",
       "      <td>0.951100</td>\n",
       "    </tr>\n",
       "    <tr>\n",
       "      <th>min</th>\n",
       "      <td>3.070000</td>\n",
       "      <td>1.000000</td>\n",
       "      <td>1.000000</td>\n",
       "    </tr>\n",
       "    <tr>\n",
       "      <th>25%</th>\n",
       "      <td>13.347500</td>\n",
       "      <td>2.000000</td>\n",
       "      <td>2.000000</td>\n",
       "    </tr>\n",
       "    <tr>\n",
       "      <th>50%</th>\n",
       "      <td>17.795000</td>\n",
       "      <td>2.900000</td>\n",
       "      <td>2.000000</td>\n",
       "    </tr>\n",
       "    <tr>\n",
       "      <th>75%</th>\n",
       "      <td>24.127500</td>\n",
       "      <td>3.562500</td>\n",
       "      <td>3.000000</td>\n",
       "    </tr>\n",
       "    <tr>\n",
       "      <th>max</th>\n",
       "      <td>50.810000</td>\n",
       "      <td>10.000000</td>\n",
       "      <td>6.000000</td>\n",
       "    </tr>\n",
       "  </tbody>\n",
       "</table>\n",
       "</div>"
      ],
      "text/plain": [
       "       total_bill         tip        size\n",
       "count  244.000000  244.000000  244.000000\n",
       "mean    19.785943    2.998279    2.569672\n",
       "std      8.902412    1.383638    0.951100\n",
       "min      3.070000    1.000000    1.000000\n",
       "25%     13.347500    2.000000    2.000000\n",
       "50%     17.795000    2.900000    2.000000\n",
       "75%     24.127500    3.562500    3.000000\n",
       "max     50.810000   10.000000    6.000000"
      ]
     },
     "execution_count": 170,
     "metadata": {},
     "output_type": "execute_result"
    }
   ],
   "source": [
    "df.describe()"
   ]
  },
  {
   "cell_type": "code",
   "execution_count": 171,
   "metadata": {},
   "outputs": [
    {
     "data": {
      "application/vnd.microsoft.datawrangler.viewer.v0+json": {
       "columns": [
        {
         "name": "index",
         "rawType": "int64",
         "type": "integer"
        },
        {
         "name": "total_bill",
         "rawType": "bool",
         "type": "boolean"
        },
        {
         "name": "tip",
         "rawType": "bool",
         "type": "boolean"
        },
        {
         "name": "sex",
         "rawType": "bool",
         "type": "boolean"
        },
        {
         "name": "smoker",
         "rawType": "bool",
         "type": "boolean"
        },
        {
         "name": "day",
         "rawType": "bool",
         "type": "boolean"
        },
        {
         "name": "time",
         "rawType": "bool",
         "type": "boolean"
        },
        {
         "name": "size",
         "rawType": "bool",
         "type": "boolean"
        }
       ],
       "conversionMethod": "pd.DataFrame",
       "ref": "a56b0e22-e0aa-4c4d-8d7f-8f7adff0623f",
       "rows": [
        [
         "0",
         "False",
         "False",
         "False",
         "False",
         "False",
         "False",
         "False"
        ],
        [
         "1",
         "False",
         "False",
         "False",
         "False",
         "False",
         "False",
         "False"
        ],
        [
         "2",
         "False",
         "False",
         "False",
         "False",
         "False",
         "False",
         "False"
        ],
        [
         "3",
         "False",
         "False",
         "False",
         "False",
         "False",
         "False",
         "False"
        ],
        [
         "4",
         "False",
         "False",
         "False",
         "False",
         "False",
         "False",
         "False"
        ],
        [
         "5",
         "False",
         "False",
         "False",
         "False",
         "False",
         "False",
         "False"
        ],
        [
         "6",
         "False",
         "False",
         "False",
         "False",
         "False",
         "False",
         "False"
        ],
        [
         "7",
         "False",
         "False",
         "False",
         "False",
         "False",
         "False",
         "False"
        ],
        [
         "8",
         "False",
         "False",
         "False",
         "False",
         "False",
         "False",
         "False"
        ],
        [
         "9",
         "False",
         "False",
         "False",
         "False",
         "False",
         "False",
         "False"
        ],
        [
         "10",
         "False",
         "False",
         "False",
         "False",
         "False",
         "False",
         "False"
        ],
        [
         "11",
         "False",
         "False",
         "False",
         "False",
         "False",
         "False",
         "False"
        ],
        [
         "12",
         "False",
         "False",
         "False",
         "False",
         "False",
         "False",
         "False"
        ],
        [
         "13",
         "False",
         "False",
         "False",
         "False",
         "False",
         "False",
         "False"
        ],
        [
         "14",
         "False",
         "False",
         "False",
         "False",
         "False",
         "False",
         "False"
        ],
        [
         "15",
         "False",
         "False",
         "False",
         "False",
         "False",
         "False",
         "False"
        ],
        [
         "16",
         "False",
         "False",
         "False",
         "False",
         "False",
         "False",
         "False"
        ],
        [
         "17",
         "False",
         "False",
         "False",
         "False",
         "False",
         "False",
         "False"
        ],
        [
         "18",
         "False",
         "False",
         "False",
         "False",
         "False",
         "False",
         "False"
        ],
        [
         "19",
         "False",
         "False",
         "False",
         "False",
         "False",
         "False",
         "False"
        ],
        [
         "20",
         "False",
         "False",
         "False",
         "False",
         "False",
         "False",
         "False"
        ],
        [
         "21",
         "False",
         "False",
         "False",
         "False",
         "False",
         "False",
         "False"
        ],
        [
         "22",
         "False",
         "False",
         "False",
         "False",
         "False",
         "False",
         "False"
        ],
        [
         "23",
         "False",
         "False",
         "False",
         "False",
         "False",
         "False",
         "False"
        ],
        [
         "24",
         "False",
         "False",
         "False",
         "False",
         "False",
         "False",
         "False"
        ],
        [
         "25",
         "False",
         "False",
         "False",
         "False",
         "False",
         "False",
         "False"
        ],
        [
         "26",
         "False",
         "False",
         "False",
         "False",
         "False",
         "False",
         "False"
        ],
        [
         "27",
         "False",
         "False",
         "False",
         "False",
         "False",
         "False",
         "False"
        ],
        [
         "28",
         "False",
         "False",
         "False",
         "False",
         "False",
         "False",
         "False"
        ],
        [
         "29",
         "False",
         "False",
         "False",
         "False",
         "False",
         "False",
         "False"
        ],
        [
         "30",
         "False",
         "False",
         "False",
         "False",
         "False",
         "False",
         "False"
        ],
        [
         "31",
         "False",
         "False",
         "False",
         "False",
         "False",
         "False",
         "False"
        ],
        [
         "32",
         "False",
         "False",
         "False",
         "False",
         "False",
         "False",
         "False"
        ],
        [
         "33",
         "False",
         "False",
         "False",
         "False",
         "False",
         "False",
         "False"
        ],
        [
         "34",
         "False",
         "False",
         "False",
         "False",
         "False",
         "False",
         "False"
        ],
        [
         "35",
         "False",
         "False",
         "False",
         "False",
         "False",
         "False",
         "False"
        ],
        [
         "36",
         "False",
         "False",
         "False",
         "False",
         "False",
         "False",
         "False"
        ],
        [
         "37",
         "False",
         "False",
         "False",
         "False",
         "False",
         "False",
         "False"
        ],
        [
         "38",
         "False",
         "False",
         "False",
         "False",
         "False",
         "False",
         "False"
        ],
        [
         "39",
         "False",
         "False",
         "False",
         "False",
         "False",
         "False",
         "False"
        ],
        [
         "40",
         "False",
         "False",
         "False",
         "False",
         "False",
         "False",
         "False"
        ],
        [
         "41",
         "False",
         "False",
         "False",
         "False",
         "False",
         "False",
         "False"
        ],
        [
         "42",
         "False",
         "False",
         "False",
         "False",
         "False",
         "False",
         "False"
        ],
        [
         "43",
         "False",
         "False",
         "False",
         "False",
         "False",
         "False",
         "False"
        ],
        [
         "44",
         "False",
         "False",
         "False",
         "False",
         "False",
         "False",
         "False"
        ],
        [
         "45",
         "False",
         "False",
         "False",
         "False",
         "False",
         "False",
         "False"
        ],
        [
         "46",
         "False",
         "False",
         "False",
         "False",
         "False",
         "False",
         "False"
        ],
        [
         "47",
         "False",
         "False",
         "False",
         "False",
         "False",
         "False",
         "False"
        ],
        [
         "48",
         "False",
         "False",
         "False",
         "False",
         "False",
         "False",
         "False"
        ],
        [
         "49",
         "False",
         "False",
         "False",
         "False",
         "False",
         "False",
         "False"
        ]
       ],
       "shape": {
        "columns": 7,
        "rows": 244
       }
      },
      "text/html": [
       "<div>\n",
       "<style scoped>\n",
       "    .dataframe tbody tr th:only-of-type {\n",
       "        vertical-align: middle;\n",
       "    }\n",
       "\n",
       "    .dataframe tbody tr th {\n",
       "        vertical-align: top;\n",
       "    }\n",
       "\n",
       "    .dataframe thead th {\n",
       "        text-align: right;\n",
       "    }\n",
       "</style>\n",
       "<table border=\"1\" class=\"dataframe\">\n",
       "  <thead>\n",
       "    <tr style=\"text-align: right;\">\n",
       "      <th></th>\n",
       "      <th>total_bill</th>\n",
       "      <th>tip</th>\n",
       "      <th>sex</th>\n",
       "      <th>smoker</th>\n",
       "      <th>day</th>\n",
       "      <th>time</th>\n",
       "      <th>size</th>\n",
       "    </tr>\n",
       "  </thead>\n",
       "  <tbody>\n",
       "    <tr>\n",
       "      <th>0</th>\n",
       "      <td>False</td>\n",
       "      <td>False</td>\n",
       "      <td>False</td>\n",
       "      <td>False</td>\n",
       "      <td>False</td>\n",
       "      <td>False</td>\n",
       "      <td>False</td>\n",
       "    </tr>\n",
       "    <tr>\n",
       "      <th>1</th>\n",
       "      <td>False</td>\n",
       "      <td>False</td>\n",
       "      <td>False</td>\n",
       "      <td>False</td>\n",
       "      <td>False</td>\n",
       "      <td>False</td>\n",
       "      <td>False</td>\n",
       "    </tr>\n",
       "    <tr>\n",
       "      <th>2</th>\n",
       "      <td>False</td>\n",
       "      <td>False</td>\n",
       "      <td>False</td>\n",
       "      <td>False</td>\n",
       "      <td>False</td>\n",
       "      <td>False</td>\n",
       "      <td>False</td>\n",
       "    </tr>\n",
       "    <tr>\n",
       "      <th>3</th>\n",
       "      <td>False</td>\n",
       "      <td>False</td>\n",
       "      <td>False</td>\n",
       "      <td>False</td>\n",
       "      <td>False</td>\n",
       "      <td>False</td>\n",
       "      <td>False</td>\n",
       "    </tr>\n",
       "    <tr>\n",
       "      <th>4</th>\n",
       "      <td>False</td>\n",
       "      <td>False</td>\n",
       "      <td>False</td>\n",
       "      <td>False</td>\n",
       "      <td>False</td>\n",
       "      <td>False</td>\n",
       "      <td>False</td>\n",
       "    </tr>\n",
       "    <tr>\n",
       "      <th>...</th>\n",
       "      <td>...</td>\n",
       "      <td>...</td>\n",
       "      <td>...</td>\n",
       "      <td>...</td>\n",
       "      <td>...</td>\n",
       "      <td>...</td>\n",
       "      <td>...</td>\n",
       "    </tr>\n",
       "    <tr>\n",
       "      <th>239</th>\n",
       "      <td>False</td>\n",
       "      <td>False</td>\n",
       "      <td>False</td>\n",
       "      <td>False</td>\n",
       "      <td>False</td>\n",
       "      <td>False</td>\n",
       "      <td>False</td>\n",
       "    </tr>\n",
       "    <tr>\n",
       "      <th>240</th>\n",
       "      <td>False</td>\n",
       "      <td>False</td>\n",
       "      <td>False</td>\n",
       "      <td>False</td>\n",
       "      <td>False</td>\n",
       "      <td>False</td>\n",
       "      <td>False</td>\n",
       "    </tr>\n",
       "    <tr>\n",
       "      <th>241</th>\n",
       "      <td>False</td>\n",
       "      <td>False</td>\n",
       "      <td>False</td>\n",
       "      <td>False</td>\n",
       "      <td>False</td>\n",
       "      <td>False</td>\n",
       "      <td>False</td>\n",
       "    </tr>\n",
       "    <tr>\n",
       "      <th>242</th>\n",
       "      <td>False</td>\n",
       "      <td>False</td>\n",
       "      <td>False</td>\n",
       "      <td>False</td>\n",
       "      <td>False</td>\n",
       "      <td>False</td>\n",
       "      <td>False</td>\n",
       "    </tr>\n",
       "    <tr>\n",
       "      <th>243</th>\n",
       "      <td>False</td>\n",
       "      <td>False</td>\n",
       "      <td>False</td>\n",
       "      <td>False</td>\n",
       "      <td>False</td>\n",
       "      <td>False</td>\n",
       "      <td>False</td>\n",
       "    </tr>\n",
       "  </tbody>\n",
       "</table>\n",
       "<p>244 rows × 7 columns</p>\n",
       "</div>"
      ],
      "text/plain": [
       "     total_bill    tip    sex  smoker    day   time   size\n",
       "0         False  False  False   False  False  False  False\n",
       "1         False  False  False   False  False  False  False\n",
       "2         False  False  False   False  False  False  False\n",
       "3         False  False  False   False  False  False  False\n",
       "4         False  False  False   False  False  False  False\n",
       "..          ...    ...    ...     ...    ...    ...    ...\n",
       "239       False  False  False   False  False  False  False\n",
       "240       False  False  False   False  False  False  False\n",
       "241       False  False  False   False  False  False  False\n",
       "242       False  False  False   False  False  False  False\n",
       "243       False  False  False   False  False  False  False\n",
       "\n",
       "[244 rows x 7 columns]"
      ]
     },
     "execution_count": 171,
     "metadata": {},
     "output_type": "execute_result"
    }
   ],
   "source": [
    "df.isna()"
   ]
  },
  {
   "cell_type": "code",
   "execution_count": 172,
   "metadata": {},
   "outputs": [
    {
     "data": {
      "application/vnd.microsoft.datawrangler.viewer.v0+json": {
       "columns": [
        {
         "name": "index",
         "rawType": "int64",
         "type": "integer"
        },
        {
         "name": "total_bill",
         "rawType": "float64",
         "type": "float"
        },
        {
         "name": "tip",
         "rawType": "float64",
         "type": "float"
        },
        {
         "name": "sex",
         "rawType": "category",
         "type": "unknown"
        },
        {
         "name": "smoker",
         "rawType": "category",
         "type": "unknown"
        },
        {
         "name": "day",
         "rawType": "category",
         "type": "unknown"
        },
        {
         "name": "time",
         "rawType": "category",
         "type": "unknown"
        },
        {
         "name": "size",
         "rawType": "int64",
         "type": "integer"
        }
       ],
       "conversionMethod": "pd.DataFrame",
       "ref": "01fffbea-a56c-47ef-8f0d-9b9ddd473641",
       "rows": [
        [
         "0",
         "16.99",
         "1.01",
         "Female",
         "No",
         "Sun",
         "Dinner",
         "2"
        ],
        [
         "1",
         "10.34",
         "1.66",
         "Male",
         "No",
         "Sun",
         "Dinner",
         "3"
        ],
        [
         "2",
         "21.01",
         "3.5",
         "Male",
         "No",
         "Sun",
         "Dinner",
         "3"
        ],
        [
         "3",
         "23.68",
         "3.31",
         "Male",
         "No",
         "Sun",
         "Dinner",
         "2"
        ],
        [
         "4",
         "24.59",
         "3.61",
         "Female",
         "No",
         "Sun",
         "Dinner",
         "4"
        ],
        [
         "5",
         "25.29",
         "4.71",
         "Male",
         "No",
         "Sun",
         "Dinner",
         "4"
        ],
        [
         "6",
         "8.77",
         "2.0",
         "Male",
         "No",
         "Sun",
         "Dinner",
         "2"
        ],
        [
         "7",
         "26.88",
         "3.12",
         "Male",
         "No",
         "Sun",
         "Dinner",
         "4"
        ],
        [
         "8",
         "15.04",
         "1.96",
         "Male",
         "No",
         "Sun",
         "Dinner",
         "2"
        ],
        [
         "9",
         "14.78",
         "3.23",
         "Male",
         "No",
         "Sun",
         "Dinner",
         "2"
        ],
        [
         "10",
         "10.27",
         "1.71",
         "Male",
         "No",
         "Sun",
         "Dinner",
         "2"
        ],
        [
         "11",
         "35.26",
         "5.0",
         "Female",
         "No",
         "Sun",
         "Dinner",
         "4"
        ],
        [
         "12",
         "15.42",
         "1.57",
         "Male",
         "No",
         "Sun",
         "Dinner",
         "2"
        ],
        [
         "13",
         "18.43",
         "3.0",
         "Male",
         "No",
         "Sun",
         "Dinner",
         "4"
        ],
        [
         "14",
         "14.83",
         "3.02",
         "Female",
         "No",
         "Sun",
         "Dinner",
         "2"
        ],
        [
         "15",
         "21.58",
         "3.92",
         "Male",
         "No",
         "Sun",
         "Dinner",
         "2"
        ],
        [
         "16",
         "10.33",
         "1.67",
         "Female",
         "No",
         "Sun",
         "Dinner",
         "3"
        ],
        [
         "17",
         "16.29",
         "3.71",
         "Male",
         "No",
         "Sun",
         "Dinner",
         "3"
        ],
        [
         "18",
         "16.97",
         "3.5",
         "Female",
         "No",
         "Sun",
         "Dinner",
         "3"
        ],
        [
         "19",
         "20.65",
         "3.35",
         "Male",
         "No",
         "Sat",
         "Dinner",
         "3"
        ],
        [
         "20",
         "17.92",
         "4.08",
         "Male",
         "No",
         "Sat",
         "Dinner",
         "2"
        ],
        [
         "21",
         "20.29",
         "2.75",
         "Female",
         "No",
         "Sat",
         "Dinner",
         "2"
        ],
        [
         "22",
         "15.77",
         "2.23",
         "Female",
         "No",
         "Sat",
         "Dinner",
         "2"
        ],
        [
         "23",
         "39.42",
         "7.58",
         "Male",
         "No",
         "Sat",
         "Dinner",
         "4"
        ],
        [
         "24",
         "19.82",
         "3.18",
         "Male",
         "No",
         "Sat",
         "Dinner",
         "2"
        ],
        [
         "25",
         "17.81",
         "2.34",
         "Male",
         "No",
         "Sat",
         "Dinner",
         "4"
        ],
        [
         "26",
         "13.37",
         "2.0",
         "Male",
         "No",
         "Sat",
         "Dinner",
         "2"
        ],
        [
         "27",
         "12.69",
         "2.0",
         "Male",
         "No",
         "Sat",
         "Dinner",
         "2"
        ],
        [
         "28",
         "21.7",
         "4.3",
         "Male",
         "No",
         "Sat",
         "Dinner",
         "2"
        ],
        [
         "29",
         "19.65",
         "3.0",
         "Female",
         "No",
         "Sat",
         "Dinner",
         "2"
        ],
        [
         "30",
         "9.55",
         "1.45",
         "Male",
         "No",
         "Sat",
         "Dinner",
         "2"
        ],
        [
         "31",
         "18.35",
         "2.5",
         "Male",
         "No",
         "Sat",
         "Dinner",
         "4"
        ],
        [
         "32",
         "15.06",
         "3.0",
         "Female",
         "No",
         "Sat",
         "Dinner",
         "2"
        ],
        [
         "33",
         "20.69",
         "2.45",
         "Female",
         "No",
         "Sat",
         "Dinner",
         "4"
        ],
        [
         "34",
         "17.78",
         "3.27",
         "Male",
         "No",
         "Sat",
         "Dinner",
         "2"
        ],
        [
         "35",
         "24.06",
         "3.6",
         "Male",
         "No",
         "Sat",
         "Dinner",
         "3"
        ],
        [
         "36",
         "16.31",
         "2.0",
         "Male",
         "No",
         "Sat",
         "Dinner",
         "3"
        ],
        [
         "37",
         "16.93",
         "3.07",
         "Female",
         "No",
         "Sat",
         "Dinner",
         "3"
        ],
        [
         "38",
         "18.69",
         "2.31",
         "Male",
         "No",
         "Sat",
         "Dinner",
         "3"
        ],
        [
         "39",
         "31.27",
         "5.0",
         "Male",
         "No",
         "Sat",
         "Dinner",
         "3"
        ],
        [
         "40",
         "16.04",
         "2.24",
         "Male",
         "No",
         "Sat",
         "Dinner",
         "3"
        ],
        [
         "41",
         "17.46",
         "2.54",
         "Male",
         "No",
         "Sun",
         "Dinner",
         "2"
        ],
        [
         "42",
         "13.94",
         "3.06",
         "Male",
         "No",
         "Sun",
         "Dinner",
         "2"
        ],
        [
         "43",
         "9.68",
         "1.32",
         "Male",
         "No",
         "Sun",
         "Dinner",
         "2"
        ],
        [
         "44",
         "30.4",
         "5.6",
         "Male",
         "No",
         "Sun",
         "Dinner",
         "4"
        ],
        [
         "45",
         "18.29",
         "3.0",
         "Male",
         "No",
         "Sun",
         "Dinner",
         "2"
        ],
        [
         "46",
         "22.23",
         "5.0",
         "Male",
         "No",
         "Sun",
         "Dinner",
         "2"
        ],
        [
         "47",
         "32.4",
         "6.0",
         "Male",
         "No",
         "Sun",
         "Dinner",
         "4"
        ],
        [
         "48",
         "28.55",
         "2.05",
         "Male",
         "No",
         "Sun",
         "Dinner",
         "3"
        ],
        [
         "49",
         "18.04",
         "3.0",
         "Male",
         "No",
         "Sun",
         "Dinner",
         "2"
        ]
       ],
       "shape": {
        "columns": 7,
        "rows": 244
       }
      },
      "text/html": [
       "<div>\n",
       "<style scoped>\n",
       "    .dataframe tbody tr th:only-of-type {\n",
       "        vertical-align: middle;\n",
       "    }\n",
       "\n",
       "    .dataframe tbody tr th {\n",
       "        vertical-align: top;\n",
       "    }\n",
       "\n",
       "    .dataframe thead th {\n",
       "        text-align: right;\n",
       "    }\n",
       "</style>\n",
       "<table border=\"1\" class=\"dataframe\">\n",
       "  <thead>\n",
       "    <tr style=\"text-align: right;\">\n",
       "      <th></th>\n",
       "      <th>total_bill</th>\n",
       "      <th>tip</th>\n",
       "      <th>sex</th>\n",
       "      <th>smoker</th>\n",
       "      <th>day</th>\n",
       "      <th>time</th>\n",
       "      <th>size</th>\n",
       "    </tr>\n",
       "  </thead>\n",
       "  <tbody>\n",
       "    <tr>\n",
       "      <th>0</th>\n",
       "      <td>16.99</td>\n",
       "      <td>1.01</td>\n",
       "      <td>Female</td>\n",
       "      <td>No</td>\n",
       "      <td>Sun</td>\n",
       "      <td>Dinner</td>\n",
       "      <td>2</td>\n",
       "    </tr>\n",
       "    <tr>\n",
       "      <th>1</th>\n",
       "      <td>10.34</td>\n",
       "      <td>1.66</td>\n",
       "      <td>Male</td>\n",
       "      <td>No</td>\n",
       "      <td>Sun</td>\n",
       "      <td>Dinner</td>\n",
       "      <td>3</td>\n",
       "    </tr>\n",
       "    <tr>\n",
       "      <th>2</th>\n",
       "      <td>21.01</td>\n",
       "      <td>3.50</td>\n",
       "      <td>Male</td>\n",
       "      <td>No</td>\n",
       "      <td>Sun</td>\n",
       "      <td>Dinner</td>\n",
       "      <td>3</td>\n",
       "    </tr>\n",
       "    <tr>\n",
       "      <th>3</th>\n",
       "      <td>23.68</td>\n",
       "      <td>3.31</td>\n",
       "      <td>Male</td>\n",
       "      <td>No</td>\n",
       "      <td>Sun</td>\n",
       "      <td>Dinner</td>\n",
       "      <td>2</td>\n",
       "    </tr>\n",
       "    <tr>\n",
       "      <th>4</th>\n",
       "      <td>24.59</td>\n",
       "      <td>3.61</td>\n",
       "      <td>Female</td>\n",
       "      <td>No</td>\n",
       "      <td>Sun</td>\n",
       "      <td>Dinner</td>\n",
       "      <td>4</td>\n",
       "    </tr>\n",
       "    <tr>\n",
       "      <th>...</th>\n",
       "      <td>...</td>\n",
       "      <td>...</td>\n",
       "      <td>...</td>\n",
       "      <td>...</td>\n",
       "      <td>...</td>\n",
       "      <td>...</td>\n",
       "      <td>...</td>\n",
       "    </tr>\n",
       "    <tr>\n",
       "      <th>239</th>\n",
       "      <td>29.03</td>\n",
       "      <td>5.92</td>\n",
       "      <td>Male</td>\n",
       "      <td>No</td>\n",
       "      <td>Sat</td>\n",
       "      <td>Dinner</td>\n",
       "      <td>3</td>\n",
       "    </tr>\n",
       "    <tr>\n",
       "      <th>240</th>\n",
       "      <td>27.18</td>\n",
       "      <td>2.00</td>\n",
       "      <td>Female</td>\n",
       "      <td>Yes</td>\n",
       "      <td>Sat</td>\n",
       "      <td>Dinner</td>\n",
       "      <td>2</td>\n",
       "    </tr>\n",
       "    <tr>\n",
       "      <th>241</th>\n",
       "      <td>22.67</td>\n",
       "      <td>2.00</td>\n",
       "      <td>Male</td>\n",
       "      <td>Yes</td>\n",
       "      <td>Sat</td>\n",
       "      <td>Dinner</td>\n",
       "      <td>2</td>\n",
       "    </tr>\n",
       "    <tr>\n",
       "      <th>242</th>\n",
       "      <td>17.82</td>\n",
       "      <td>1.75</td>\n",
       "      <td>Male</td>\n",
       "      <td>No</td>\n",
       "      <td>Sat</td>\n",
       "      <td>Dinner</td>\n",
       "      <td>2</td>\n",
       "    </tr>\n",
       "    <tr>\n",
       "      <th>243</th>\n",
       "      <td>18.78</td>\n",
       "      <td>3.00</td>\n",
       "      <td>Female</td>\n",
       "      <td>No</td>\n",
       "      <td>Thur</td>\n",
       "      <td>Dinner</td>\n",
       "      <td>2</td>\n",
       "    </tr>\n",
       "  </tbody>\n",
       "</table>\n",
       "<p>244 rows × 7 columns</p>\n",
       "</div>"
      ],
      "text/plain": [
       "     total_bill   tip     sex smoker   day    time  size\n",
       "0         16.99  1.01  Female     No   Sun  Dinner     2\n",
       "1         10.34  1.66    Male     No   Sun  Dinner     3\n",
       "2         21.01  3.50    Male     No   Sun  Dinner     3\n",
       "3         23.68  3.31    Male     No   Sun  Dinner     2\n",
       "4         24.59  3.61  Female     No   Sun  Dinner     4\n",
       "..          ...   ...     ...    ...   ...     ...   ...\n",
       "239       29.03  5.92    Male     No   Sat  Dinner     3\n",
       "240       27.18  2.00  Female    Yes   Sat  Dinner     2\n",
       "241       22.67  2.00    Male    Yes   Sat  Dinner     2\n",
       "242       17.82  1.75    Male     No   Sat  Dinner     2\n",
       "243       18.78  3.00  Female     No  Thur  Dinner     2\n",
       "\n",
       "[244 rows x 7 columns]"
      ]
     },
     "execution_count": 172,
     "metadata": {},
     "output_type": "execute_result"
    }
   ],
   "source": [
    "df.dropna()"
   ]
  },
  {
   "cell_type": "code",
   "execution_count": 173,
   "metadata": {},
   "outputs": [
    {
     "data": {
      "image/png": "[encoded data removed]",
      "text/plain": [
       "<Figure size 640x480 with 1 Axes>"
      ]
     },
     "metadata": {},
     "output_type": "display_data"
    }
   ],
   "source": [
    "import matplotlib.pyplot as plt\n",
    "\n",
    "plt.scatter(df['tip'], df['total_bill'], c=df['sex'].map({'Male': 'blue', 'Female': 'red'}))\n",
    "plt.xlabel('Tip')\n",
    "plt.ylabel('Total Bill')\n",
    "plt.title('Scatterplot av Total Bill vs Tip')\n",
    "plt.legend(handles=[plt.Line2D([0], [0], marker='o', color='w', label='Male', markerfacecolor='blue', markersize=7),\n",
    "                     plt.Line2D([0], [0], marker='o', color='w', label='Female', markerfacecolor='red', markersize=7)],\n",
    "           loc='upper left')\n",
    "plt.grid(True)\n",
    "plt.show()"
   ]
  },
  {
   "cell_type": "code",
   "execution_count": 174,
   "metadata": {},
   "outputs": [
    {
     "data": {
      "image/png": "[encoded data removed]",
      "text/plain": [
       "<Figure size 640x480 with 1 Axes>"
      ]
     },
     "metadata": {},
     "output_type": "display_data"
    }
   ],
   "source": [
    "import matplotlib.pyplot as plt\n",
    "\n",
    "# Skapa scatterplot med etiketter för varje kön\n",
    "plt.scatter(df[df['sex'] == 'Male']['tip'], df[df['sex'] == 'Male']['total_bill'], c='blue', label='Male')  # Scatter för Male\n",
    "plt.scatter(df[df['sex'] == 'Female']['tip'], df[df['sex'] == 'Female']['total_bill'], c='red', label='Female')  # Scatter för Female\n",
    "\n",
    "# Etiketter och titel\n",
    "plt.xlabel('Tip')\n",
    "plt.ylabel('Total Bill')\n",
    "plt.title('Scatterplot av Total Bill vs Tip')\n",
    "\n",
    "# Automatisk legend baserat på de etiketter vi lade till\n",
    "plt.legend(loc='upper left')\n",
    "\n",
    "# Aktivera grid\n",
    "plt.grid(True)\n",
    "\n",
    "# Visa grafen\n",
    "plt.show()\n"
   ]
  },
  {
   "cell_type": "code",
   "execution_count": 175,
   "metadata": {},
   "outputs": [
    {
     "data": {
      "text/plain": [
       "<Axes: xlabel='tip', ylabel='total_bill'>"
      ]
     },
     "execution_count": 175,
     "metadata": {},
     "output_type": "execute_result"
    },
    {
     "data": {
      "image/png": "[encoded data removed]",
      "text/plain": [
       "<Figure size 640x480 with 1 Axes>"
      ]
     },
     "metadata": {},
     "output_type": "display_data"
    }
   ],
   "source": [
    "sns.scatterplot(x=\"tip\", y=\"total_bill\", data=df, hue=\"day\")"
   ]
  },
  {
   "cell_type": "code",
   "execution_count": 176,
   "metadata": {},
   "outputs": [
    {
     "data": {
      "text/plain": [
       "<Axes: xlabel='tip', ylabel='total_bill'>"
      ]
     },
     "execution_count": 176,
     "metadata": {},
     "output_type": "execute_result"
    },
    {
     "data": {
      "image/png": "[encoded data removed]",
      "text/plain": [
       "<Figure size 640x480 with 1 Axes>"
      ]
     },
     "metadata": {},
     "output_type": "display_data"
    }
   ],
   "source": [
    "sns.scatterplot(x=\"tip\", y=\"total_bill\", data=df, hue=\"sex\")"
   ]
  },
  {
   "cell_type": "code",
   "execution_count": 177,
   "metadata": {},
   "outputs": [
    {
     "data": {
      "text/plain": [
       "<Axes: xlabel='tip', ylabel='Count'>"
      ]
     },
     "execution_count": 177,
     "metadata": {},
     "output_type": "execute_result"
    },
    {
     "data": {
      "image/png": "[encoded data removed]",
      "text/plain": [
       "<Figure size 640x480 with 1 Axes>"
      ]
     },
     "metadata": {},
     "output_type": "display_data"
    }
   ],
   "source": [
    "sns.histplot(df[\"tip\"], kde=True, bins=15)"
   ]
  },
  {
   "cell_type": "code",
   "execution_count": 178,
   "metadata": {},
   "outputs": [
    {
     "data": {
      "text/plain": [
       "<Axes: xlabel='sex', ylabel='tip'>"
      ]
     },
     "execution_count": 178,
     "metadata": {},
     "output_type": "execute_result"
    },
    {
     "data": {
      "image/png": "[encoded data removed]",
      "text/plain": [
       "<Figure size 640x480 with 1 Axes>"
      ]
     },
     "metadata": {},
     "output_type": "display_data"
    }
   ],
   "source": [
    "sns.barplot(x=\"sex\",y=\"tip\", data=df, legend=False)"
   ]
  },
  {
   "cell_type": "code",
   "execution_count": 179,
   "metadata": {},
   "outputs": [
    {
     "data": {
      "text/plain": [
       "<Axes: xlabel='day', ylabel='tip'>"
      ]
     },
     "execution_count": 179,
     "metadata": {},
     "output_type": "execute_result"
    },
    {
     "data": {
      "image/png": "[encoded data removed]",
      "text/plain": [
       "<Figure size 640x480 with 1 Axes>"
      ]
     },
     "metadata": {},
     "output_type": "display_data"
    }
   ],
   "source": [
    "sns.boxplot(x=\"day\", y=\"tip\", data=df, hue=\"sex\")"
   ]
  },
  {
   "cell_type": "code",
   "execution_count": 180,
   "metadata": {},
   "outputs": [
    {
     "data": {
      "text/plain": [
       "<Axes: xlabel='day', ylabel='tip'>"
      ]
     },
     "execution_count": 180,
     "metadata": {},
     "output_type": "execute_result"
    },
    {
     "data": {
      "image/png": "[encoded data removed]",
      "text/plain": [
       "<Figure size 640x480 with 1 Axes>"
      ]
     },
     "metadata": {},
     "output_type": "display_data"
    }
   ],
   "source": [
    "sns.stripplot(x=\"day\", y=\"tip\", data=df, hue=\"sex\", dodge=True)"
   ]
  },
  {
   "cell_type": "code",
   "execution_count": 181,
   "metadata": {},
   "outputs": [
    {
     "data": {
      "text/plain": [
       "<seaborn.axisgrid.JointGrid at 0x185c4a8a850>"
      ]
     },
     "execution_count": 181,
     "metadata": {},
     "output_type": "execute_result"
    },
    {
     "data": {
      "image/png": "[encoded data removed]",
      "text/plain": [
       "<Figure size 600x600 with 3 Axes>"
      ]
     },
     "metadata": {},
     "output_type": "display_data"
    }
   ],
   "source": [
    "sns.jointplot(x=\"tip\", y=\"total_bill\", data=df, kind=\"reg\")"
   ]
  },
  {
   "cell_type": "code",
   "execution_count": 182,
   "metadata": {},
   "outputs": [
    {
     "data": {
      "text/plain": [
       "<seaborn.axisgrid.PairGrid at 0x185c4e8e4d0>"
      ]
     },
     "execution_count": 182,
     "metadata": {},
     "output_type": "execute_result"
    },
    {
     "data": {
      "image/png": "[encoded data removed]",
      "text/plain": [
       "<Figure size 572x500 with 6 Axes>"
      ]
     },
     "metadata": {},
     "output_type": "display_data"
    }
   ],
   "source": [
    "sns.pairplot(df.select_dtypes([\"number\"]), hue=\"tip\")"
   ]
  },
  {
   "cell_type": "code",
   "execution_count": 183,
   "metadata": {},
   "outputs": [
    {
     "data": {
      "text/plain": [
       "<Axes: >"
      ]
     },
     "execution_count": 183,
     "metadata": {},
     "output_type": "execute_result"
    },
    {
     "data": {
      "image/png": "[encoded data removed]",
      "text/plain": [
       "<Figure size 640x480 with 2 Axes>"
      ]
     },
     "metadata": {},
     "output_type": "display_data"
    }
   ],
   "source": [
    "df_drop = df.drop(columns=[\"sex\", \"smoker\", \"day\", \"time\"])\n",
    "sns.heatmap(df_drop.corr(), annot=True)\n",
    "# Mindre är bättre"
   ]
  },
  {
   "cell_type": "code",
   "execution_count": 184,
   "metadata": {},
   "outputs": [
    {
     "data": {
      "image/png": "[encoded data removed]",
      "text/plain": [
       "<Figure size 640x480 with 1 Axes>"
      ]
     },
     "metadata": {},
     "output_type": "display_data"
    }
   ],
   "source": [
    "plt.boxplot([df[df[\"time\"] == time][\"total_bill\"] for time in df[\"time\"].unique()])\n",
    "plt.xlabel(\"time\")\n",
    "plt.ylabel(\"Total Bill\")\n",
    "plt.title(\"Boxplot av Total Bill för varje Day\")\n",
    "plt.show()"
   ]
  },
  {
   "cell_type": "code",
   "execution_count": 185,
   "metadata": {},
   "outputs": [
    {
     "data": {
      "text/html": [
       "<style type=\"text/css\">\n",
       "#T_2576f_row0_col0, #T_2576f_row18_col0 {\n",
       "  background-color: #a2c1ff;\n",
       "  color: #000000;\n",
       "}\n",
       "#T_2576f_row0_col1, #T_2576f_row0_col6, #T_2576f_row3_col6, #T_2576f_row6_col0, #T_2576f_row6_col6, #T_2576f_row8_col6, #T_2576f_row9_col6, #T_2576f_row10_col6, #T_2576f_row12_col6, #T_2576f_row14_col6, #T_2576f_row15_col6 {\n",
       "  background-color: #3b4cc0;\n",
       "  color: #f1f1f1;\n",
       "}\n",
       "#T_2576f_row1_col0, #T_2576f_row16_col0 {\n",
       "  background-color: #4c66d6;\n",
       "  color: #f1f1f1;\n",
       "}\n",
       "#T_2576f_row1_col1 {\n",
       "  background-color: #6e90f2;\n",
       "  color: #f1f1f1;\n",
       "}\n",
       "#T_2576f_row1_col6, #T_2576f_row2_col6, #T_2576f_row14_col1, #T_2576f_row16_col6, #T_2576f_row17_col6, #T_2576f_row18_col6, #T_2576f_row19_col6 {\n",
       "  background-color: #dddcdc;\n",
       "  color: #000000;\n",
       "}\n",
       "#T_2576f_row2_col0 {\n",
       "  background-color: #d3dbe7;\n",
       "  color: #000000;\n",
       "}\n",
       "#T_2576f_row2_col1, #T_2576f_row5_col0, #T_2576f_row18_col1 {\n",
       "  background-color: #f4c5ad;\n",
       "  color: #000000;\n",
       "}\n",
       "#T_2576f_row3_col0 {\n",
       "  background-color: #ecd3c5;\n",
       "  color: #000000;\n",
       "}\n",
       "#T_2576f_row3_col1 {\n",
       "  background-color: #eed0c0;\n",
       "  color: #000000;\n",
       "}\n",
       "#T_2576f_row4_col0 {\n",
       "  background-color: #f1ccb8;\n",
       "  color: #000000;\n",
       "}\n",
       "#T_2576f_row4_col1 {\n",
       "  background-color: #f6bda2;\n",
       "  color: #000000;\n",
       "}\n",
       "#T_2576f_row4_col6, #T_2576f_row5_col6, #T_2576f_row7_col6, #T_2576f_row11_col0, #T_2576f_row11_col1, #T_2576f_row11_col6, #T_2576f_row13_col6 {\n",
       "  background-color: #b40426;\n",
       "  color: #f1f1f1;\n",
       "}\n",
       "#T_2576f_row5_col1 {\n",
       "  background-color: #cd423b;\n",
       "  color: #f1f1f1;\n",
       "}\n",
       "#T_2576f_row6_col1 {\n",
       "  background-color: #8caffe;\n",
       "  color: #000000;\n",
       "}\n",
       "#T_2576f_row7_col0 {\n",
       "  background-color: #f7b194;\n",
       "  color: #000000;\n",
       "}\n",
       "#T_2576f_row7_col1 {\n",
       "  background-color: #e4d9d2;\n",
       "  color: #000000;\n",
       "}\n",
       "#T_2576f_row8_col0, #T_2576f_row8_col1 {\n",
       "  background-color: #88abfd;\n",
       "  color: #000000;\n",
       "}\n",
       "#T_2576f_row9_col0, #T_2576f_row14_col0 {\n",
       "  background-color: #85a8fc;\n",
       "  color: #f1f1f1;\n",
       "}\n",
       "#T_2576f_row9_col1 {\n",
       "  background-color: #ead4c8;\n",
       "  color: #000000;\n",
       "}\n",
       "#T_2576f_row10_col0 {\n",
       "  background-color: #4b64d5;\n",
       "  color: #f1f1f1;\n",
       "}\n",
       "#T_2576f_row10_col1 {\n",
       "  background-color: #7295f4;\n",
       "  color: #f1f1f1;\n",
       "}\n",
       "#T_2576f_row12_col0 {\n",
       "  background-color: #8db0fe;\n",
       "  color: #000000;\n",
       "}\n",
       "#T_2576f_row12_col1 {\n",
       "  background-color: #6687ed;\n",
       "  color: #f1f1f1;\n",
       "}\n",
       "#T_2576f_row13_col0 {\n",
       "  background-color: #b5cdfa;\n",
       "  color: #000000;\n",
       "}\n",
       "#T_2576f_row13_col1 {\n",
       "  background-color: #dcdddd;\n",
       "  color: #000000;\n",
       "}\n",
       "#T_2576f_row15_col0 {\n",
       "  background-color: #d8dce2;\n",
       "  color: #000000;\n",
       "}\n",
       "#T_2576f_row15_col1 {\n",
       "  background-color: #f6a283;\n",
       "  color: #000000;\n",
       "}\n",
       "#T_2576f_row16_col1 {\n",
       "  background-color: #6f92f3;\n",
       "  color: #f1f1f1;\n",
       "}\n",
       "#T_2576f_row17_col0 {\n",
       "  background-color: #98b9ff;\n",
       "  color: #000000;\n",
       "}\n",
       "#T_2576f_row17_col1 {\n",
       "  background-color: #f7b497;\n",
       "  color: #000000;\n",
       "}\n",
       "#T_2576f_row19_col0 {\n",
       "  background-color: #cedaeb;\n",
       "  color: #000000;\n",
       "}\n",
       "#T_2576f_row19_col1 {\n",
       "  background-color: #f0cdbb;\n",
       "  color: #000000;\n",
       "}\n",
       "</style>\n",
       "<table id=\"T_2576f\">\n",
       "  <thead>\n",
       "    <tr>\n",
       "      <th class=\"blank level0\" >&nbsp;</th>\n",
       "      <th id=\"T_2576f_level0_col0\" class=\"col_heading level0 col0\" >total_bill</th>\n",
       "      <th id=\"T_2576f_level0_col1\" class=\"col_heading level0 col1\" >tip</th>\n",
       "      <th id=\"T_2576f_level0_col2\" class=\"col_heading level0 col2\" >sex</th>\n",
       "      <th id=\"T_2576f_level0_col3\" class=\"col_heading level0 col3\" >smoker</th>\n",
       "      <th id=\"T_2576f_level0_col4\" class=\"col_heading level0 col4\" >day</th>\n",
       "      <th id=\"T_2576f_level0_col5\" class=\"col_heading level0 col5\" >time</th>\n",
       "      <th id=\"T_2576f_level0_col6\" class=\"col_heading level0 col6\" >size</th>\n",
       "    </tr>\n",
       "  </thead>\n",
       "  <tbody>\n",
       "    <tr>\n",
       "      <th id=\"T_2576f_level0_row0\" class=\"row_heading level0 row0\" >0</th>\n",
       "      <td id=\"T_2576f_row0_col0\" class=\"data row0 col0\" >17.0</td>\n",
       "      <td id=\"T_2576f_row0_col1\" class=\"data row0 col1\" >1.0</td>\n",
       "      <td id=\"T_2576f_row0_col2\" class=\"data row0 col2\" >Female</td>\n",
       "      <td id=\"T_2576f_row0_col3\" class=\"data row0 col3\" >No</td>\n",
       "      <td id=\"T_2576f_row0_col4\" class=\"data row0 col4\" >Sun</td>\n",
       "      <td id=\"T_2576f_row0_col5\" class=\"data row0 col5\" >Dinner</td>\n",
       "      <td id=\"T_2576f_row0_col6\" class=\"data row0 col6\" >2</td>\n",
       "    </tr>\n",
       "    <tr>\n",
       "      <th id=\"T_2576f_level0_row1\" class=\"row_heading level0 row1\" >1</th>\n",
       "      <td id=\"T_2576f_row1_col0\" class=\"data row1 col0\" >10.3</td>\n",
       "      <td id=\"T_2576f_row1_col1\" class=\"data row1 col1\" >1.7</td>\n",
       "      <td id=\"T_2576f_row1_col2\" class=\"data row1 col2\" >Male</td>\n",
       "      <td id=\"T_2576f_row1_col3\" class=\"data row1 col3\" >No</td>\n",
       "      <td id=\"T_2576f_row1_col4\" class=\"data row1 col4\" >Sun</td>\n",
       "      <td id=\"T_2576f_row1_col5\" class=\"data row1 col5\" >Dinner</td>\n",
       "      <td id=\"T_2576f_row1_col6\" class=\"data row1 col6\" >3</td>\n",
       "    </tr>\n",
       "    <tr>\n",
       "      <th id=\"T_2576f_level0_row2\" class=\"row_heading level0 row2\" >2</th>\n",
       "      <td id=\"T_2576f_row2_col0\" class=\"data row2 col0\" >21.0</td>\n",
       "      <td id=\"T_2576f_row2_col1\" class=\"data row2 col1\" >3.5</td>\n",
       "      <td id=\"T_2576f_row2_col2\" class=\"data row2 col2\" >Male</td>\n",
       "      <td id=\"T_2576f_row2_col3\" class=\"data row2 col3\" >No</td>\n",
       "      <td id=\"T_2576f_row2_col4\" class=\"data row2 col4\" >Sun</td>\n",
       "      <td id=\"T_2576f_row2_col5\" class=\"data row2 col5\" >Dinner</td>\n",
       "      <td id=\"T_2576f_row2_col6\" class=\"data row2 col6\" >3</td>\n",
       "    </tr>\n",
       "    <tr>\n",
       "      <th id=\"T_2576f_level0_row3\" class=\"row_heading level0 row3\" >3</th>\n",
       "      <td id=\"T_2576f_row3_col0\" class=\"data row3 col0\" >23.7</td>\n",
       "      <td id=\"T_2576f_row3_col1\" class=\"data row3 col1\" >3.3</td>\n",
       "      <td id=\"T_2576f_row3_col2\" class=\"data row3 col2\" >Male</td>\n",
       "      <td id=\"T_2576f_row3_col3\" class=\"data row3 col3\" >No</td>\n",
       "      <td id=\"T_2576f_row3_col4\" class=\"data row3 col4\" >Sun</td>\n",
       "      <td id=\"T_2576f_row3_col5\" class=\"data row3 col5\" >Dinner</td>\n",
       "      <td id=\"T_2576f_row3_col6\" class=\"data row3 col6\" >2</td>\n",
       "    </tr>\n",
       "    <tr>\n",
       "      <th id=\"T_2576f_level0_row4\" class=\"row_heading level0 row4\" >4</th>\n",
       "      <td id=\"T_2576f_row4_col0\" class=\"data row4 col0\" >24.6</td>\n",
       "      <td id=\"T_2576f_row4_col1\" class=\"data row4 col1\" >3.6</td>\n",
       "      <td id=\"T_2576f_row4_col2\" class=\"data row4 col2\" >Female</td>\n",
       "      <td id=\"T_2576f_row4_col3\" class=\"data row4 col3\" >No</td>\n",
       "      <td id=\"T_2576f_row4_col4\" class=\"data row4 col4\" >Sun</td>\n",
       "      <td id=\"T_2576f_row4_col5\" class=\"data row4 col5\" >Dinner</td>\n",
       "      <td id=\"T_2576f_row4_col6\" class=\"data row4 col6\" >4</td>\n",
       "    </tr>\n",
       "    <tr>\n",
       "      <th id=\"T_2576f_level0_row5\" class=\"row_heading level0 row5\" >5</th>\n",
       "      <td id=\"T_2576f_row5_col0\" class=\"data row5 col0\" >25.3</td>\n",
       "      <td id=\"T_2576f_row5_col1\" class=\"data row5 col1\" >4.7</td>\n",
       "      <td id=\"T_2576f_row5_col2\" class=\"data row5 col2\" >Male</td>\n",
       "      <td id=\"T_2576f_row5_col3\" class=\"data row5 col3\" >No</td>\n",
       "      <td id=\"T_2576f_row5_col4\" class=\"data row5 col4\" >Sun</td>\n",
       "      <td id=\"T_2576f_row5_col5\" class=\"data row5 col5\" >Dinner</td>\n",
       "      <td id=\"T_2576f_row5_col6\" class=\"data row5 col6\" >4</td>\n",
       "    </tr>\n",
       "    <tr>\n",
       "      <th id=\"T_2576f_level0_row6\" class=\"row_heading level0 row6\" >6</th>\n",
       "      <td id=\"T_2576f_row6_col0\" class=\"data row6 col0\" >8.8</td>\n",
       "      <td id=\"T_2576f_row6_col1\" class=\"data row6 col1\" >2.0</td>\n",
       "      <td id=\"T_2576f_row6_col2\" class=\"data row6 col2\" >Male</td>\n",
       "      <td id=\"T_2576f_row6_col3\" class=\"data row6 col3\" >No</td>\n",
       "      <td id=\"T_2576f_row6_col4\" class=\"data row6 col4\" >Sun</td>\n",
       "      <td id=\"T_2576f_row6_col5\" class=\"data row6 col5\" >Dinner</td>\n",
       "      <td id=\"T_2576f_row6_col6\" class=\"data row6 col6\" >2</td>\n",
       "    </tr>\n",
       "    <tr>\n",
       "      <th id=\"T_2576f_level0_row7\" class=\"row_heading level0 row7\" >7</th>\n",
       "      <td id=\"T_2576f_row7_col0\" class=\"data row7 col0\" >26.9</td>\n",
       "      <td id=\"T_2576f_row7_col1\" class=\"data row7 col1\" >3.1</td>\n",
       "      <td id=\"T_2576f_row7_col2\" class=\"data row7 col2\" >Male</td>\n",
       "      <td id=\"T_2576f_row7_col3\" class=\"data row7 col3\" >No</td>\n",
       "      <td id=\"T_2576f_row7_col4\" class=\"data row7 col4\" >Sun</td>\n",
       "      <td id=\"T_2576f_row7_col5\" class=\"data row7 col5\" >Dinner</td>\n",
       "      <td id=\"T_2576f_row7_col6\" class=\"data row7 col6\" >4</td>\n",
       "    </tr>\n",
       "    <tr>\n",
       "      <th id=\"T_2576f_level0_row8\" class=\"row_heading level0 row8\" >8</th>\n",
       "      <td id=\"T_2576f_row8_col0\" class=\"data row8 col0\" >15.0</td>\n",
       "      <td id=\"T_2576f_row8_col1\" class=\"data row8 col1\" >2.0</td>\n",
       "      <td id=\"T_2576f_row8_col2\" class=\"data row8 col2\" >Male</td>\n",
       "      <td id=\"T_2576f_row8_col3\" class=\"data row8 col3\" >No</td>\n",
       "      <td id=\"T_2576f_row8_col4\" class=\"data row8 col4\" >Sun</td>\n",
       "      <td id=\"T_2576f_row8_col5\" class=\"data row8 col5\" >Dinner</td>\n",
       "      <td id=\"T_2576f_row8_col6\" class=\"data row8 col6\" >2</td>\n",
       "    </tr>\n",
       "    <tr>\n",
       "      <th id=\"T_2576f_level0_row9\" class=\"row_heading level0 row9\" >9</th>\n",
       "      <td id=\"T_2576f_row9_col0\" class=\"data row9 col0\" >14.8</td>\n",
       "      <td id=\"T_2576f_row9_col1\" class=\"data row9 col1\" >3.2</td>\n",
       "      <td id=\"T_2576f_row9_col2\" class=\"data row9 col2\" >Male</td>\n",
       "      <td id=\"T_2576f_row9_col3\" class=\"data row9 col3\" >No</td>\n",
       "      <td id=\"T_2576f_row9_col4\" class=\"data row9 col4\" >Sun</td>\n",
       "      <td id=\"T_2576f_row9_col5\" class=\"data row9 col5\" >Dinner</td>\n",
       "      <td id=\"T_2576f_row9_col6\" class=\"data row9 col6\" >2</td>\n",
       "    </tr>\n",
       "    <tr>\n",
       "      <th id=\"T_2576f_level0_row10\" class=\"row_heading level0 row10\" >10</th>\n",
       "      <td id=\"T_2576f_row10_col0\" class=\"data row10 col0\" >10.3</td>\n",
       "      <td id=\"T_2576f_row10_col1\" class=\"data row10 col1\" >1.7</td>\n",
       "      <td id=\"T_2576f_row10_col2\" class=\"data row10 col2\" >Male</td>\n",
       "      <td id=\"T_2576f_row10_col3\" class=\"data row10 col3\" >No</td>\n",
       "      <td id=\"T_2576f_row10_col4\" class=\"data row10 col4\" >Sun</td>\n",
       "      <td id=\"T_2576f_row10_col5\" class=\"data row10 col5\" >Dinner</td>\n",
       "      <td id=\"T_2576f_row10_col6\" class=\"data row10 col6\" >2</td>\n",
       "    </tr>\n",
       "    <tr>\n",
       "      <th id=\"T_2576f_level0_row11\" class=\"row_heading level0 row11\" >11</th>\n",
       "      <td id=\"T_2576f_row11_col0\" class=\"data row11 col0\" >35.3</td>\n",
       "      <td id=\"T_2576f_row11_col1\" class=\"data row11 col1\" >5.0</td>\n",
       "      <td id=\"T_2576f_row11_col2\" class=\"data row11 col2\" >Female</td>\n",
       "      <td id=\"T_2576f_row11_col3\" class=\"data row11 col3\" >No</td>\n",
       "      <td id=\"T_2576f_row11_col4\" class=\"data row11 col4\" >Sun</td>\n",
       "      <td id=\"T_2576f_row11_col5\" class=\"data row11 col5\" >Dinner</td>\n",
       "      <td id=\"T_2576f_row11_col6\" class=\"data row11 col6\" >4</td>\n",
       "    </tr>\n",
       "    <tr>\n",
       "      <th id=\"T_2576f_level0_row12\" class=\"row_heading level0 row12\" >12</th>\n",
       "      <td id=\"T_2576f_row12_col0\" class=\"data row12 col0\" >15.4</td>\n",
       "      <td id=\"T_2576f_row12_col1\" class=\"data row12 col1\" >1.6</td>\n",
       "      <td id=\"T_2576f_row12_col2\" class=\"data row12 col2\" >Male</td>\n",
       "      <td id=\"T_2576f_row12_col3\" class=\"data row12 col3\" >No</td>\n",
       "      <td id=\"T_2576f_row12_col4\" class=\"data row12 col4\" >Sun</td>\n",
       "      <td id=\"T_2576f_row12_col5\" class=\"data row12 col5\" >Dinner</td>\n",
       "      <td id=\"T_2576f_row12_col6\" class=\"data row12 col6\" >2</td>\n",
       "    </tr>\n",
       "    <tr>\n",
       "      <th id=\"T_2576f_level0_row13\" class=\"row_heading level0 row13\" >13</th>\n",
       "      <td id=\"T_2576f_row13_col0\" class=\"data row13 col0\" >18.4</td>\n",
       "      <td id=\"T_2576f_row13_col1\" class=\"data row13 col1\" >3.0</td>\n",
       "      <td id=\"T_2576f_row13_col2\" class=\"data row13 col2\" >Male</td>\n",
       "      <td id=\"T_2576f_row13_col3\" class=\"data row13 col3\" >No</td>\n",
       "      <td id=\"T_2576f_row13_col4\" class=\"data row13 col4\" >Sun</td>\n",
       "      <td id=\"T_2576f_row13_col5\" class=\"data row13 col5\" >Dinner</td>\n",
       "      <td id=\"T_2576f_row13_col6\" class=\"data row13 col6\" >4</td>\n",
       "    </tr>\n",
       "    <tr>\n",
       "      <th id=\"T_2576f_level0_row14\" class=\"row_heading level0 row14\" >14</th>\n",
       "      <td id=\"T_2576f_row14_col0\" class=\"data row14 col0\" >14.8</td>\n",
       "      <td id=\"T_2576f_row14_col1\" class=\"data row14 col1\" >3.0</td>\n",
       "      <td id=\"T_2576f_row14_col2\" class=\"data row14 col2\" >Female</td>\n",
       "      <td id=\"T_2576f_row14_col3\" class=\"data row14 col3\" >No</td>\n",
       "      <td id=\"T_2576f_row14_col4\" class=\"data row14 col4\" >Sun</td>\n",
       "      <td id=\"T_2576f_row14_col5\" class=\"data row14 col5\" >Dinner</td>\n",
       "      <td id=\"T_2576f_row14_col6\" class=\"data row14 col6\" >2</td>\n",
       "    </tr>\n",
       "    <tr>\n",
       "      <th id=\"T_2576f_level0_row15\" class=\"row_heading level0 row15\" >15</th>\n",
       "      <td id=\"T_2576f_row15_col0\" class=\"data row15 col0\" >21.6</td>\n",
       "      <td id=\"T_2576f_row15_col1\" class=\"data row15 col1\" >3.9</td>\n",
       "      <td id=\"T_2576f_row15_col2\" class=\"data row15 col2\" >Male</td>\n",
       "      <td id=\"T_2576f_row15_col3\" class=\"data row15 col3\" >No</td>\n",
       "      <td id=\"T_2576f_row15_col4\" class=\"data row15 col4\" >Sun</td>\n",
       "      <td id=\"T_2576f_row15_col5\" class=\"data row15 col5\" >Dinner</td>\n",
       "      <td id=\"T_2576f_row15_col6\" class=\"data row15 col6\" >2</td>\n",
       "    </tr>\n",
       "    <tr>\n",
       "      <th id=\"T_2576f_level0_row16\" class=\"row_heading level0 row16\" >16</th>\n",
       "      <td id=\"T_2576f_row16_col0\" class=\"data row16 col0\" >10.3</td>\n",
       "      <td id=\"T_2576f_row16_col1\" class=\"data row16 col1\" >1.7</td>\n",
       "      <td id=\"T_2576f_row16_col2\" class=\"data row16 col2\" >Female</td>\n",
       "      <td id=\"T_2576f_row16_col3\" class=\"data row16 col3\" >No</td>\n",
       "      <td id=\"T_2576f_row16_col4\" class=\"data row16 col4\" >Sun</td>\n",
       "      <td id=\"T_2576f_row16_col5\" class=\"data row16 col5\" >Dinner</td>\n",
       "      <td id=\"T_2576f_row16_col6\" class=\"data row16 col6\" >3</td>\n",
       "    </tr>\n",
       "    <tr>\n",
       "      <th id=\"T_2576f_level0_row17\" class=\"row_heading level0 row17\" >17</th>\n",
       "      <td id=\"T_2576f_row17_col0\" class=\"data row17 col0\" >16.3</td>\n",
       "      <td id=\"T_2576f_row17_col1\" class=\"data row17 col1\" >3.7</td>\n",
       "      <td id=\"T_2576f_row17_col2\" class=\"data row17 col2\" >Male</td>\n",
       "      <td id=\"T_2576f_row17_col3\" class=\"data row17 col3\" >No</td>\n",
       "      <td id=\"T_2576f_row17_col4\" class=\"data row17 col4\" >Sun</td>\n",
       "      <td id=\"T_2576f_row17_col5\" class=\"data row17 col5\" >Dinner</td>\n",
       "      <td id=\"T_2576f_row17_col6\" class=\"data row17 col6\" >3</td>\n",
       "    </tr>\n",
       "    <tr>\n",
       "      <th id=\"T_2576f_level0_row18\" class=\"row_heading level0 row18\" >18</th>\n",
       "      <td id=\"T_2576f_row18_col0\" class=\"data row18 col0\" >17.0</td>\n",
       "      <td id=\"T_2576f_row18_col1\" class=\"data row18 col1\" >3.5</td>\n",
       "      <td id=\"T_2576f_row18_col2\" class=\"data row18 col2\" >Female</td>\n",
       "      <td id=\"T_2576f_row18_col3\" class=\"data row18 col3\" >No</td>\n",
       "      <td id=\"T_2576f_row18_col4\" class=\"data row18 col4\" >Sun</td>\n",
       "      <td id=\"T_2576f_row18_col5\" class=\"data row18 col5\" >Dinner</td>\n",
       "      <td id=\"T_2576f_row18_col6\" class=\"data row18 col6\" >3</td>\n",
       "    </tr>\n",
       "    <tr>\n",
       "      <th id=\"T_2576f_level0_row19\" class=\"row_heading level0 row19\" >19</th>\n",
       "      <td id=\"T_2576f_row19_col0\" class=\"data row19 col0\" >20.6</td>\n",
       "      <td id=\"T_2576f_row19_col1\" class=\"data row19 col1\" >3.4</td>\n",
       "      <td id=\"T_2576f_row19_col2\" class=\"data row19 col2\" >Male</td>\n",
       "      <td id=\"T_2576f_row19_col3\" class=\"data row19 col3\" >No</td>\n",
       "      <td id=\"T_2576f_row19_col4\" class=\"data row19 col4\" >Sat</td>\n",
       "      <td id=\"T_2576f_row19_col5\" class=\"data row19 col5\" >Dinner</td>\n",
       "      <td id=\"T_2576f_row19_col6\" class=\"data row19 col6\" >3</td>\n",
       "    </tr>\n",
       "  </tbody>\n",
       "</table>\n"
      ],
      "text/plain": [
       "<pandas.io.formats.style.Styler at 0x185c81aa1d0>"
      ]
     },
     "execution_count": 185,
     "metadata": {},
     "output_type": "execute_result"
    }
   ],
   "source": [
    "df = df.iloc[:20]\n",
    "df.style.format(precision=1).background_gradient(cmap=\"coolwarm\")"
   ]
  },
  {
   "cell_type": "code",
   "execution_count": 186,
   "metadata": {},
   "outputs": [
    {
     "data": {
      "text/html": [
       "<style type=\"text/css\">\n",
       "#T_4251d_row0_col0 {\n",
       "  width: 10em;\n",
       "  background: linear-gradient(90deg, green 48.2%, transparent 48.2%);\n",
       "}\n",
       "#T_4251d_row1_col0, #T_4251d_row16_col0 {\n",
       "  width: 10em;\n",
       "  background: linear-gradient(90deg, green 29.3%, transparent 29.3%);\n",
       "}\n",
       "#T_4251d_row2_col0 {\n",
       "  width: 10em;\n",
       "  background: linear-gradient(90deg, green 59.6%, transparent 59.6%);\n",
       "}\n",
       "#T_4251d_row3_col0 {\n",
       "  width: 10em;\n",
       "  background: linear-gradient(90deg, green 67.2%, transparent 67.2%);\n",
       "}\n",
       "#T_4251d_row4_col0 {\n",
       "  width: 10em;\n",
       "  background: linear-gradient(90deg, green 69.7%, transparent 69.7%);\n",
       "}\n",
       "#T_4251d_row5_col0 {\n",
       "  width: 10em;\n",
       "  background: linear-gradient(90deg, green 71.7%, transparent 71.7%);\n",
       "}\n",
       "#T_4251d_row6_col0 {\n",
       "  width: 10em;\n",
       "  background: linear-gradient(90deg, green 24.9%, transparent 24.9%);\n",
       "}\n",
       "#T_4251d_row7_col0 {\n",
       "  width: 10em;\n",
       "  background: linear-gradient(90deg, green 76.2%, transparent 76.2%);\n",
       "}\n",
       "#T_4251d_row8_col0 {\n",
       "  width: 10em;\n",
       "  background: linear-gradient(90deg, green 42.7%, transparent 42.7%);\n",
       "}\n",
       "#T_4251d_row9_col0 {\n",
       "  width: 10em;\n",
       "  background: linear-gradient(90deg, green 41.9%, transparent 41.9%);\n",
       "}\n",
       "#T_4251d_row10_col0 {\n",
       "  width: 10em;\n",
       "  background: linear-gradient(90deg, green 29.1%, transparent 29.1%);\n",
       "}\n",
       "#T_4251d_row11_col0 {\n",
       "  width: 10em;\n",
       "  background: linear-gradient(90deg, green 100.0%, transparent 100.0%);\n",
       "}\n",
       "#T_4251d_row12_col0 {\n",
       "  width: 10em;\n",
       "  background: linear-gradient(90deg, green 43.7%, transparent 43.7%);\n",
       "}\n",
       "#T_4251d_row13_col0 {\n",
       "  width: 10em;\n",
       "  background: linear-gradient(90deg, green 52.3%, transparent 52.3%);\n",
       "}\n",
       "#T_4251d_row14_col0 {\n",
       "  width: 10em;\n",
       "  background: linear-gradient(90deg, green 42.1%, transparent 42.1%);\n",
       "}\n",
       "#T_4251d_row15_col0 {\n",
       "  width: 10em;\n",
       "  background: linear-gradient(90deg, green 61.2%, transparent 61.2%);\n",
       "}\n",
       "#T_4251d_row17_col0 {\n",
       "  width: 10em;\n",
       "  background: linear-gradient(90deg, green 46.2%, transparent 46.2%);\n",
       "}\n",
       "#T_4251d_row18_col0 {\n",
       "  width: 10em;\n",
       "  background: linear-gradient(90deg, green 48.1%, transparent 48.1%);\n",
       "}\n",
       "#T_4251d_row19_col0 {\n",
       "  width: 10em;\n",
       "  background: linear-gradient(90deg, green 58.6%, transparent 58.6%);\n",
       "}\n",
       "</style>\n",
       "<table id=\"T_4251d\">\n",
       "  <thead>\n",
       "    <tr>\n",
       "      <th class=\"blank level0\" >&nbsp;</th>\n",
       "      <th id=\"T_4251d_level0_col0\" class=\"col_heading level0 col0\" >total_bill</th>\n",
       "      <th id=\"T_4251d_level0_col1\" class=\"col_heading level0 col1\" >tip</th>\n",
       "      <th id=\"T_4251d_level0_col2\" class=\"col_heading level0 col2\" >sex</th>\n",
       "      <th id=\"T_4251d_level0_col3\" class=\"col_heading level0 col3\" >smoker</th>\n",
       "      <th id=\"T_4251d_level0_col4\" class=\"col_heading level0 col4\" >day</th>\n",
       "      <th id=\"T_4251d_level0_col5\" class=\"col_heading level0 col5\" >time</th>\n",
       "      <th id=\"T_4251d_level0_col6\" class=\"col_heading level0 col6\" >size</th>\n",
       "    </tr>\n",
       "  </thead>\n",
       "  <tbody>\n",
       "    <tr>\n",
       "      <th id=\"T_4251d_level0_row0\" class=\"row_heading level0 row0\" >0</th>\n",
       "      <td id=\"T_4251d_row0_col0\" class=\"data row0 col0\" >17.0</td>\n",
       "      <td id=\"T_4251d_row0_col1\" class=\"data row0 col1\" >1.0</td>\n",
       "      <td id=\"T_4251d_row0_col2\" class=\"data row0 col2\" >Female</td>\n",
       "      <td id=\"T_4251d_row0_col3\" class=\"data row0 col3\" >No</td>\n",
       "      <td id=\"T_4251d_row0_col4\" class=\"data row0 col4\" >Sun</td>\n",
       "      <td id=\"T_4251d_row0_col5\" class=\"data row0 col5\" >Dinner</td>\n",
       "      <td id=\"T_4251d_row0_col6\" class=\"data row0 col6\" >2</td>\n",
       "    </tr>\n",
       "    <tr>\n",
       "      <th id=\"T_4251d_level0_row1\" class=\"row_heading level0 row1\" >1</th>\n",
       "      <td id=\"T_4251d_row1_col0\" class=\"data row1 col0\" >10.3</td>\n",
       "      <td id=\"T_4251d_row1_col1\" class=\"data row1 col1\" >1.7</td>\n",
       "      <td id=\"T_4251d_row1_col2\" class=\"data row1 col2\" >Male</td>\n",
       "      <td id=\"T_4251d_row1_col3\" class=\"data row1 col3\" >No</td>\n",
       "      <td id=\"T_4251d_row1_col4\" class=\"data row1 col4\" >Sun</td>\n",
       "      <td id=\"T_4251d_row1_col5\" class=\"data row1 col5\" >Dinner</td>\n",
       "      <td id=\"T_4251d_row1_col6\" class=\"data row1 col6\" >3</td>\n",
       "    </tr>\n",
       "    <tr>\n",
       "      <th id=\"T_4251d_level0_row2\" class=\"row_heading level0 row2\" >2</th>\n",
       "      <td id=\"T_4251d_row2_col0\" class=\"data row2 col0\" >21.0</td>\n",
       "      <td id=\"T_4251d_row2_col1\" class=\"data row2 col1\" >3.5</td>\n",
       "      <td id=\"T_4251d_row2_col2\" class=\"data row2 col2\" >Male</td>\n",
       "      <td id=\"T_4251d_row2_col3\" class=\"data row2 col3\" >No</td>\n",
       "      <td id=\"T_4251d_row2_col4\" class=\"data row2 col4\" >Sun</td>\n",
       "      <td id=\"T_4251d_row2_col5\" class=\"data row2 col5\" >Dinner</td>\n",
       "      <td id=\"T_4251d_row2_col6\" class=\"data row2 col6\" >3</td>\n",
       "    </tr>\n",
       "    <tr>\n",
       "      <th id=\"T_4251d_level0_row3\" class=\"row_heading level0 row3\" >3</th>\n",
       "      <td id=\"T_4251d_row3_col0\" class=\"data row3 col0\" >23.7</td>\n",
       "      <td id=\"T_4251d_row3_col1\" class=\"data row3 col1\" >3.3</td>\n",
       "      <td id=\"T_4251d_row3_col2\" class=\"data row3 col2\" >Male</td>\n",
       "      <td id=\"T_4251d_row3_col3\" class=\"data row3 col3\" >No</td>\n",
       "      <td id=\"T_4251d_row3_col4\" class=\"data row3 col4\" >Sun</td>\n",
       "      <td id=\"T_4251d_row3_col5\" class=\"data row3 col5\" >Dinner</td>\n",
       "      <td id=\"T_4251d_row3_col6\" class=\"data row3 col6\" >2</td>\n",
       "    </tr>\n",
       "    <tr>\n",
       "      <th id=\"T_4251d_level0_row4\" class=\"row_heading level0 row4\" >4</th>\n",
       "      <td id=\"T_4251d_row4_col0\" class=\"data row4 col0\" >24.6</td>\n",
       "      <td id=\"T_4251d_row4_col1\" class=\"data row4 col1\" >3.6</td>\n",
       "      <td id=\"T_4251d_row4_col2\" class=\"data row4 col2\" >Female</td>\n",
       "      <td id=\"T_4251d_row4_col3\" class=\"data row4 col3\" >No</td>\n",
       "      <td id=\"T_4251d_row4_col4\" class=\"data row4 col4\" >Sun</td>\n",
       "      <td id=\"T_4251d_row4_col5\" class=\"data row4 col5\" >Dinner</td>\n",
       "      <td id=\"T_4251d_row4_col6\" class=\"data row4 col6\" >4</td>\n",
       "    </tr>\n",
       "    <tr>\n",
       "      <th id=\"T_4251d_level0_row5\" class=\"row_heading level0 row5\" >5</th>\n",
       "      <td id=\"T_4251d_row5_col0\" class=\"data row5 col0\" >25.3</td>\n",
       "      <td id=\"T_4251d_row5_col1\" class=\"data row5 col1\" >4.7</td>\n",
       "      <td id=\"T_4251d_row5_col2\" class=\"data row5 col2\" >Male</td>\n",
       "      <td id=\"T_4251d_row5_col3\" class=\"data row5 col3\" >No</td>\n",
       "      <td id=\"T_4251d_row5_col4\" class=\"data row5 col4\" >Sun</td>\n",
       "      <td id=\"T_4251d_row5_col5\" class=\"data row5 col5\" >Dinner</td>\n",
       "      <td id=\"T_4251d_row5_col6\" class=\"data row5 col6\" >4</td>\n",
       "    </tr>\n",
       "    <tr>\n",
       "      <th id=\"T_4251d_level0_row6\" class=\"row_heading level0 row6\" >6</th>\n",
       "      <td id=\"T_4251d_row6_col0\" class=\"data row6 col0\" >8.8</td>\n",
       "      <td id=\"T_4251d_row6_col1\" class=\"data row6 col1\" >2.0</td>\n",
       "      <td id=\"T_4251d_row6_col2\" class=\"data row6 col2\" >Male</td>\n",
       "      <td id=\"T_4251d_row6_col3\" class=\"data row6 col3\" >No</td>\n",
       "      <td id=\"T_4251d_row6_col4\" class=\"data row6 col4\" >Sun</td>\n",
       "      <td id=\"T_4251d_row6_col5\" class=\"data row6 col5\" >Dinner</td>\n",
       "      <td id=\"T_4251d_row6_col6\" class=\"data row6 col6\" >2</td>\n",
       "    </tr>\n",
       "    <tr>\n",
       "      <th id=\"T_4251d_level0_row7\" class=\"row_heading level0 row7\" >7</th>\n",
       "      <td id=\"T_4251d_row7_col0\" class=\"data row7 col0\" >26.9</td>\n",
       "      <td id=\"T_4251d_row7_col1\" class=\"data row7 col1\" >3.1</td>\n",
       "      <td id=\"T_4251d_row7_col2\" class=\"data row7 col2\" >Male</td>\n",
       "      <td id=\"T_4251d_row7_col3\" class=\"data row7 col3\" >No</td>\n",
       "      <td id=\"T_4251d_row7_col4\" class=\"data row7 col4\" >Sun</td>\n",
       "      <td id=\"T_4251d_row7_col5\" class=\"data row7 col5\" >Dinner</td>\n",
       "      <td id=\"T_4251d_row7_col6\" class=\"data row7 col6\" >4</td>\n",
       "    </tr>\n",
       "    <tr>\n",
       "      <th id=\"T_4251d_level0_row8\" class=\"row_heading level0 row8\" >8</th>\n",
       "      <td id=\"T_4251d_row8_col0\" class=\"data row8 col0\" >15.0</td>\n",
       "      <td id=\"T_4251d_row8_col1\" class=\"data row8 col1\" >2.0</td>\n",
       "      <td id=\"T_4251d_row8_col2\" class=\"data row8 col2\" >Male</td>\n",
       "      <td id=\"T_4251d_row8_col3\" class=\"data row8 col3\" >No</td>\n",
       "      <td id=\"T_4251d_row8_col4\" class=\"data row8 col4\" >Sun</td>\n",
       "      <td id=\"T_4251d_row8_col5\" class=\"data row8 col5\" >Dinner</td>\n",
       "      <td id=\"T_4251d_row8_col6\" class=\"data row8 col6\" >2</td>\n",
       "    </tr>\n",
       "    <tr>\n",
       "      <th id=\"T_4251d_level0_row9\" class=\"row_heading level0 row9\" >9</th>\n",
       "      <td id=\"T_4251d_row9_col0\" class=\"data row9 col0\" >14.8</td>\n",
       "      <td id=\"T_4251d_row9_col1\" class=\"data row9 col1\" >3.2</td>\n",
       "      <td id=\"T_4251d_row9_col2\" class=\"data row9 col2\" >Male</td>\n",
       "      <td id=\"T_4251d_row9_col3\" class=\"data row9 col3\" >No</td>\n",
       "      <td id=\"T_4251d_row9_col4\" class=\"data row9 col4\" >Sun</td>\n",
       "      <td id=\"T_4251d_row9_col5\" class=\"data row9 col5\" >Dinner</td>\n",
       "      <td id=\"T_4251d_row9_col6\" class=\"data row9 col6\" >2</td>\n",
       "    </tr>\n",
       "    <tr>\n",
       "      <th id=\"T_4251d_level0_row10\" class=\"row_heading level0 row10\" >10</th>\n",
       "      <td id=\"T_4251d_row10_col0\" class=\"data row10 col0\" >10.3</td>\n",
       "      <td id=\"T_4251d_row10_col1\" class=\"data row10 col1\" >1.7</td>\n",
       "      <td id=\"T_4251d_row10_col2\" class=\"data row10 col2\" >Male</td>\n",
       "      <td id=\"T_4251d_row10_col3\" class=\"data row10 col3\" >No</td>\n",
       "      <td id=\"T_4251d_row10_col4\" class=\"data row10 col4\" >Sun</td>\n",
       "      <td id=\"T_4251d_row10_col5\" class=\"data row10 col5\" >Dinner</td>\n",
       "      <td id=\"T_4251d_row10_col6\" class=\"data row10 col6\" >2</td>\n",
       "    </tr>\n",
       "    <tr>\n",
       "      <th id=\"T_4251d_level0_row11\" class=\"row_heading level0 row11\" >11</th>\n",
       "      <td id=\"T_4251d_row11_col0\" class=\"data row11 col0\" >35.3</td>\n",
       "      <td id=\"T_4251d_row11_col1\" class=\"data row11 col1\" >5.0</td>\n",
       "      <td id=\"T_4251d_row11_col2\" class=\"data row11 col2\" >Female</td>\n",
       "      <td id=\"T_4251d_row11_col3\" class=\"data row11 col3\" >No</td>\n",
       "      <td id=\"T_4251d_row11_col4\" class=\"data row11 col4\" >Sun</td>\n",
       "      <td id=\"T_4251d_row11_col5\" class=\"data row11 col5\" >Dinner</td>\n",
       "      <td id=\"T_4251d_row11_col6\" class=\"data row11 col6\" >4</td>\n",
       "    </tr>\n",
       "    <tr>\n",
       "      <th id=\"T_4251d_level0_row12\" class=\"row_heading level0 row12\" >12</th>\n",
       "      <td id=\"T_4251d_row12_col0\" class=\"data row12 col0\" >15.4</td>\n",
       "      <td id=\"T_4251d_row12_col1\" class=\"data row12 col1\" >1.6</td>\n",
       "      <td id=\"T_4251d_row12_col2\" class=\"data row12 col2\" >Male</td>\n",
       "      <td id=\"T_4251d_row12_col3\" class=\"data row12 col3\" >No</td>\n",
       "      <td id=\"T_4251d_row12_col4\" class=\"data row12 col4\" >Sun</td>\n",
       "      <td id=\"T_4251d_row12_col5\" class=\"data row12 col5\" >Dinner</td>\n",
       "      <td id=\"T_4251d_row12_col6\" class=\"data row12 col6\" >2</td>\n",
       "    </tr>\n",
       "    <tr>\n",
       "      <th id=\"T_4251d_level0_row13\" class=\"row_heading level0 row13\" >13</th>\n",
       "      <td id=\"T_4251d_row13_col0\" class=\"data row13 col0\" >18.4</td>\n",
       "      <td id=\"T_4251d_row13_col1\" class=\"data row13 col1\" >3.0</td>\n",
       "      <td id=\"T_4251d_row13_col2\" class=\"data row13 col2\" >Male</td>\n",
       "      <td id=\"T_4251d_row13_col3\" class=\"data row13 col3\" >No</td>\n",
       "      <td id=\"T_4251d_row13_col4\" class=\"data row13 col4\" >Sun</td>\n",
       "      <td id=\"T_4251d_row13_col5\" class=\"data row13 col5\" >Dinner</td>\n",
       "      <td id=\"T_4251d_row13_col6\" class=\"data row13 col6\" >4</td>\n",
       "    </tr>\n",
       "    <tr>\n",
       "      <th id=\"T_4251d_level0_row14\" class=\"row_heading level0 row14\" >14</th>\n",
       "      <td id=\"T_4251d_row14_col0\" class=\"data row14 col0\" >14.8</td>\n",
       "      <td id=\"T_4251d_row14_col1\" class=\"data row14 col1\" >3.0</td>\n",
       "      <td id=\"T_4251d_row14_col2\" class=\"data row14 col2\" >Female</td>\n",
       "      <td id=\"T_4251d_row14_col3\" class=\"data row14 col3\" >No</td>\n",
       "      <td id=\"T_4251d_row14_col4\" class=\"data row14 col4\" >Sun</td>\n",
       "      <td id=\"T_4251d_row14_col5\" class=\"data row14 col5\" >Dinner</td>\n",
       "      <td id=\"T_4251d_row14_col6\" class=\"data row14 col6\" >2</td>\n",
       "    </tr>\n",
       "    <tr>\n",
       "      <th id=\"T_4251d_level0_row15\" class=\"row_heading level0 row15\" >15</th>\n",
       "      <td id=\"T_4251d_row15_col0\" class=\"data row15 col0\" >21.6</td>\n",
       "      <td id=\"T_4251d_row15_col1\" class=\"data row15 col1\" >3.9</td>\n",
       "      <td id=\"T_4251d_row15_col2\" class=\"data row15 col2\" >Male</td>\n",
       "      <td id=\"T_4251d_row15_col3\" class=\"data row15 col3\" >No</td>\n",
       "      <td id=\"T_4251d_row15_col4\" class=\"data row15 col4\" >Sun</td>\n",
       "      <td id=\"T_4251d_row15_col5\" class=\"data row15 col5\" >Dinner</td>\n",
       "      <td id=\"T_4251d_row15_col6\" class=\"data row15 col6\" >2</td>\n",
       "    </tr>\n",
       "    <tr>\n",
       "      <th id=\"T_4251d_level0_row16\" class=\"row_heading level0 row16\" >16</th>\n",
       "      <td id=\"T_4251d_row16_col0\" class=\"data row16 col0\" >10.3</td>\n",
       "      <td id=\"T_4251d_row16_col1\" class=\"data row16 col1\" >1.7</td>\n",
       "      <td id=\"T_4251d_row16_col2\" class=\"data row16 col2\" >Female</td>\n",
       "      <td id=\"T_4251d_row16_col3\" class=\"data row16 col3\" >No</td>\n",
       "      <td id=\"T_4251d_row16_col4\" class=\"data row16 col4\" >Sun</td>\n",
       "      <td id=\"T_4251d_row16_col5\" class=\"data row16 col5\" >Dinner</td>\n",
       "      <td id=\"T_4251d_row16_col6\" class=\"data row16 col6\" >3</td>\n",
       "    </tr>\n",
       "    <tr>\n",
       "      <th id=\"T_4251d_level0_row17\" class=\"row_heading level0 row17\" >17</th>\n",
       "      <td id=\"T_4251d_row17_col0\" class=\"data row17 col0\" >16.3</td>\n",
       "      <td id=\"T_4251d_row17_col1\" class=\"data row17 col1\" >3.7</td>\n",
       "      <td id=\"T_4251d_row17_col2\" class=\"data row17 col2\" >Male</td>\n",
       "      <td id=\"T_4251d_row17_col3\" class=\"data row17 col3\" >No</td>\n",
       "      <td id=\"T_4251d_row17_col4\" class=\"data row17 col4\" >Sun</td>\n",
       "      <td id=\"T_4251d_row17_col5\" class=\"data row17 col5\" >Dinner</td>\n",
       "      <td id=\"T_4251d_row17_col6\" class=\"data row17 col6\" >3</td>\n",
       "    </tr>\n",
       "    <tr>\n",
       "      <th id=\"T_4251d_level0_row18\" class=\"row_heading level0 row18\" >18</th>\n",
       "      <td id=\"T_4251d_row18_col0\" class=\"data row18 col0\" >17.0</td>\n",
       "      <td id=\"T_4251d_row18_col1\" class=\"data row18 col1\" >3.5</td>\n",
       "      <td id=\"T_4251d_row18_col2\" class=\"data row18 col2\" >Female</td>\n",
       "      <td id=\"T_4251d_row18_col3\" class=\"data row18 col3\" >No</td>\n",
       "      <td id=\"T_4251d_row18_col4\" class=\"data row18 col4\" >Sun</td>\n",
       "      <td id=\"T_4251d_row18_col5\" class=\"data row18 col5\" >Dinner</td>\n",
       "      <td id=\"T_4251d_row18_col6\" class=\"data row18 col6\" >3</td>\n",
       "    </tr>\n",
       "    <tr>\n",
       "      <th id=\"T_4251d_level0_row19\" class=\"row_heading level0 row19\" >19</th>\n",
       "      <td id=\"T_4251d_row19_col0\" class=\"data row19 col0\" >20.6</td>\n",
       "      <td id=\"T_4251d_row19_col1\" class=\"data row19 col1\" >3.4</td>\n",
       "      <td id=\"T_4251d_row19_col2\" class=\"data row19 col2\" >Male</td>\n",
       "      <td id=\"T_4251d_row19_col3\" class=\"data row19 col3\" >No</td>\n",
       "      <td id=\"T_4251d_row19_col4\" class=\"data row19 col4\" >Sat</td>\n",
       "      <td id=\"T_4251d_row19_col5\" class=\"data row19 col5\" >Dinner</td>\n",
       "      <td id=\"T_4251d_row19_col6\" class=\"data row19 col6\" >3</td>\n",
       "    </tr>\n",
       "  </tbody>\n",
       "</table>\n"
      ],
      "text/plain": [
       "<pandas.io.formats.style.Styler at 0x185c8020190>"
      ]
     },
     "execution_count": 186,
     "metadata": {},
     "output_type": "execute_result"
    }
   ],
   "source": [
    "df.style.format(precision=1).bar(subset=\"total_bill\", color=\"green\")"
   ]
  },
  {
   "cell_type": "code",
   "execution_count": 187,
   "metadata": {},
   "outputs": [
    {
     "data": {
      "text/html": [
       "<style type=\"text/css\">\n",
       "#T_377a1_row1_col0, #T_377a1_row6_col0, #T_377a1_row10_col0, #T_377a1_row16_col0 {\n",
       "  background-color: yellow;\n",
       "}\n",
       "</style>\n",
       "<table id=\"T_377a1\">\n",
       "  <thead>\n",
       "    <tr>\n",
       "      <th class=\"blank level0\" >&nbsp;</th>\n",
       "      <th id=\"T_377a1_level0_col0\" class=\"col_heading level0 col0\" >total_bill</th>\n",
       "      <th id=\"T_377a1_level0_col1\" class=\"col_heading level0 col1\" >tip</th>\n",
       "      <th id=\"T_377a1_level0_col2\" class=\"col_heading level0 col2\" >sex</th>\n",
       "      <th id=\"T_377a1_level0_col3\" class=\"col_heading level0 col3\" >smoker</th>\n",
       "      <th id=\"T_377a1_level0_col4\" class=\"col_heading level0 col4\" >day</th>\n",
       "      <th id=\"T_377a1_level0_col5\" class=\"col_heading level0 col5\" >time</th>\n",
       "      <th id=\"T_377a1_level0_col6\" class=\"col_heading level0 col6\" >size</th>\n",
       "    </tr>\n",
       "  </thead>\n",
       "  <tbody>\n",
       "    <tr>\n",
       "      <th id=\"T_377a1_level0_row0\" class=\"row_heading level0 row0\" >0</th>\n",
       "      <td id=\"T_377a1_row0_col0\" class=\"data row0 col0\" >17.0</td>\n",
       "      <td id=\"T_377a1_row0_col1\" class=\"data row0 col1\" >1.0</td>\n",
       "      <td id=\"T_377a1_row0_col2\" class=\"data row0 col2\" >Female</td>\n",
       "      <td id=\"T_377a1_row0_col3\" class=\"data row0 col3\" >No</td>\n",
       "      <td id=\"T_377a1_row0_col4\" class=\"data row0 col4\" >Sun</td>\n",
       "      <td id=\"T_377a1_row0_col5\" class=\"data row0 col5\" >Dinner</td>\n",
       "      <td id=\"T_377a1_row0_col6\" class=\"data row0 col6\" >2</td>\n",
       "    </tr>\n",
       "    <tr>\n",
       "      <th id=\"T_377a1_level0_row1\" class=\"row_heading level0 row1\" >1</th>\n",
       "      <td id=\"T_377a1_row1_col0\" class=\"data row1 col0\" >10.3</td>\n",
       "      <td id=\"T_377a1_row1_col1\" class=\"data row1 col1\" >1.7</td>\n",
       "      <td id=\"T_377a1_row1_col2\" class=\"data row1 col2\" >Male</td>\n",
       "      <td id=\"T_377a1_row1_col3\" class=\"data row1 col3\" >No</td>\n",
       "      <td id=\"T_377a1_row1_col4\" class=\"data row1 col4\" >Sun</td>\n",
       "      <td id=\"T_377a1_row1_col5\" class=\"data row1 col5\" >Dinner</td>\n",
       "      <td id=\"T_377a1_row1_col6\" class=\"data row1 col6\" >3</td>\n",
       "    </tr>\n",
       "    <tr>\n",
       "      <th id=\"T_377a1_level0_row2\" class=\"row_heading level0 row2\" >2</th>\n",
       "      <td id=\"T_377a1_row2_col0\" class=\"data row2 col0\" >21.0</td>\n",
       "      <td id=\"T_377a1_row2_col1\" class=\"data row2 col1\" >3.5</td>\n",
       "      <td id=\"T_377a1_row2_col2\" class=\"data row2 col2\" >Male</td>\n",
       "      <td id=\"T_377a1_row2_col3\" class=\"data row2 col3\" >No</td>\n",
       "      <td id=\"T_377a1_row2_col4\" class=\"data row2 col4\" >Sun</td>\n",
       "      <td id=\"T_377a1_row2_col5\" class=\"data row2 col5\" >Dinner</td>\n",
       "      <td id=\"T_377a1_row2_col6\" class=\"data row2 col6\" >3</td>\n",
       "    </tr>\n",
       "    <tr>\n",
       "      <th id=\"T_377a1_level0_row3\" class=\"row_heading level0 row3\" >3</th>\n",
       "      <td id=\"T_377a1_row3_col0\" class=\"data row3 col0\" >23.7</td>\n",
       "      <td id=\"T_377a1_row3_col1\" class=\"data row3 col1\" >3.3</td>\n",
       "      <td id=\"T_377a1_row3_col2\" class=\"data row3 col2\" >Male</td>\n",
       "      <td id=\"T_377a1_row3_col3\" class=\"data row3 col3\" >No</td>\n",
       "      <td id=\"T_377a1_row3_col4\" class=\"data row3 col4\" >Sun</td>\n",
       "      <td id=\"T_377a1_row3_col5\" class=\"data row3 col5\" >Dinner</td>\n",
       "      <td id=\"T_377a1_row3_col6\" class=\"data row3 col6\" >2</td>\n",
       "    </tr>\n",
       "    <tr>\n",
       "      <th id=\"T_377a1_level0_row4\" class=\"row_heading level0 row4\" >4</th>\n",
       "      <td id=\"T_377a1_row4_col0\" class=\"data row4 col0\" >24.6</td>\n",
       "      <td id=\"T_377a1_row4_col1\" class=\"data row4 col1\" >3.6</td>\n",
       "      <td id=\"T_377a1_row4_col2\" class=\"data row4 col2\" >Female</td>\n",
       "      <td id=\"T_377a1_row4_col3\" class=\"data row4 col3\" >No</td>\n",
       "      <td id=\"T_377a1_row4_col4\" class=\"data row4 col4\" >Sun</td>\n",
       "      <td id=\"T_377a1_row4_col5\" class=\"data row4 col5\" >Dinner</td>\n",
       "      <td id=\"T_377a1_row4_col6\" class=\"data row4 col6\" >4</td>\n",
       "    </tr>\n",
       "    <tr>\n",
       "      <th id=\"T_377a1_level0_row5\" class=\"row_heading level0 row5\" >5</th>\n",
       "      <td id=\"T_377a1_row5_col0\" class=\"data row5 col0\" >25.3</td>\n",
       "      <td id=\"T_377a1_row5_col1\" class=\"data row5 col1\" >4.7</td>\n",
       "      <td id=\"T_377a1_row5_col2\" class=\"data row5 col2\" >Male</td>\n",
       "      <td id=\"T_377a1_row5_col3\" class=\"data row5 col3\" >No</td>\n",
       "      <td id=\"T_377a1_row5_col4\" class=\"data row5 col4\" >Sun</td>\n",
       "      <td id=\"T_377a1_row5_col5\" class=\"data row5 col5\" >Dinner</td>\n",
       "      <td id=\"T_377a1_row5_col6\" class=\"data row5 col6\" >4</td>\n",
       "    </tr>\n",
       "    <tr>\n",
       "      <th id=\"T_377a1_level0_row6\" class=\"row_heading level0 row6\" >6</th>\n",
       "      <td id=\"T_377a1_row6_col0\" class=\"data row6 col0\" >8.8</td>\n",
       "      <td id=\"T_377a1_row6_col1\" class=\"data row6 col1\" >2.0</td>\n",
       "      <td id=\"T_377a1_row6_col2\" class=\"data row6 col2\" >Male</td>\n",
       "      <td id=\"T_377a1_row6_col3\" class=\"data row6 col3\" >No</td>\n",
       "      <td id=\"T_377a1_row6_col4\" class=\"data row6 col4\" >Sun</td>\n",
       "      <td id=\"T_377a1_row6_col5\" class=\"data row6 col5\" >Dinner</td>\n",
       "      <td id=\"T_377a1_row6_col6\" class=\"data row6 col6\" >2</td>\n",
       "    </tr>\n",
       "    <tr>\n",
       "      <th id=\"T_377a1_level0_row7\" class=\"row_heading level0 row7\" >7</th>\n",
       "      <td id=\"T_377a1_row7_col0\" class=\"data row7 col0\" >26.9</td>\n",
       "      <td id=\"T_377a1_row7_col1\" class=\"data row7 col1\" >3.1</td>\n",
       "      <td id=\"T_377a1_row7_col2\" class=\"data row7 col2\" >Male</td>\n",
       "      <td id=\"T_377a1_row7_col3\" class=\"data row7 col3\" >No</td>\n",
       "      <td id=\"T_377a1_row7_col4\" class=\"data row7 col4\" >Sun</td>\n",
       "      <td id=\"T_377a1_row7_col5\" class=\"data row7 col5\" >Dinner</td>\n",
       "      <td id=\"T_377a1_row7_col6\" class=\"data row7 col6\" >4</td>\n",
       "    </tr>\n",
       "    <tr>\n",
       "      <th id=\"T_377a1_level0_row8\" class=\"row_heading level0 row8\" >8</th>\n",
       "      <td id=\"T_377a1_row8_col0\" class=\"data row8 col0\" >15.0</td>\n",
       "      <td id=\"T_377a1_row8_col1\" class=\"data row8 col1\" >2.0</td>\n",
       "      <td id=\"T_377a1_row8_col2\" class=\"data row8 col2\" >Male</td>\n",
       "      <td id=\"T_377a1_row8_col3\" class=\"data row8 col3\" >No</td>\n",
       "      <td id=\"T_377a1_row8_col4\" class=\"data row8 col4\" >Sun</td>\n",
       "      <td id=\"T_377a1_row8_col5\" class=\"data row8 col5\" >Dinner</td>\n",
       "      <td id=\"T_377a1_row8_col6\" class=\"data row8 col6\" >2</td>\n",
       "    </tr>\n",
       "    <tr>\n",
       "      <th id=\"T_377a1_level0_row9\" class=\"row_heading level0 row9\" >9</th>\n",
       "      <td id=\"T_377a1_row9_col0\" class=\"data row9 col0\" >14.8</td>\n",
       "      <td id=\"T_377a1_row9_col1\" class=\"data row9 col1\" >3.2</td>\n",
       "      <td id=\"T_377a1_row9_col2\" class=\"data row9 col2\" >Male</td>\n",
       "      <td id=\"T_377a1_row9_col3\" class=\"data row9 col3\" >No</td>\n",
       "      <td id=\"T_377a1_row9_col4\" class=\"data row9 col4\" >Sun</td>\n",
       "      <td id=\"T_377a1_row9_col5\" class=\"data row9 col5\" >Dinner</td>\n",
       "      <td id=\"T_377a1_row9_col6\" class=\"data row9 col6\" >2</td>\n",
       "    </tr>\n",
       "    <tr>\n",
       "      <th id=\"T_377a1_level0_row10\" class=\"row_heading level0 row10\" >10</th>\n",
       "      <td id=\"T_377a1_row10_col0\" class=\"data row10 col0\" >10.3</td>\n",
       "      <td id=\"T_377a1_row10_col1\" class=\"data row10 col1\" >1.7</td>\n",
       "      <td id=\"T_377a1_row10_col2\" class=\"data row10 col2\" >Male</td>\n",
       "      <td id=\"T_377a1_row10_col3\" class=\"data row10 col3\" >No</td>\n",
       "      <td id=\"T_377a1_row10_col4\" class=\"data row10 col4\" >Sun</td>\n",
       "      <td id=\"T_377a1_row10_col5\" class=\"data row10 col5\" >Dinner</td>\n",
       "      <td id=\"T_377a1_row10_col6\" class=\"data row10 col6\" >2</td>\n",
       "    </tr>\n",
       "    <tr>\n",
       "      <th id=\"T_377a1_level0_row11\" class=\"row_heading level0 row11\" >11</th>\n",
       "      <td id=\"T_377a1_row11_col0\" class=\"data row11 col0\" >35.3</td>\n",
       "      <td id=\"T_377a1_row11_col1\" class=\"data row11 col1\" >5.0</td>\n",
       "      <td id=\"T_377a1_row11_col2\" class=\"data row11 col2\" >Female</td>\n",
       "      <td id=\"T_377a1_row11_col3\" class=\"data row11 col3\" >No</td>\n",
       "      <td id=\"T_377a1_row11_col4\" class=\"data row11 col4\" >Sun</td>\n",
       "      <td id=\"T_377a1_row11_col5\" class=\"data row11 col5\" >Dinner</td>\n",
       "      <td id=\"T_377a1_row11_col6\" class=\"data row11 col6\" >4</td>\n",
       "    </tr>\n",
       "    <tr>\n",
       "      <th id=\"T_377a1_level0_row12\" class=\"row_heading level0 row12\" >12</th>\n",
       "      <td id=\"T_377a1_row12_col0\" class=\"data row12 col0\" >15.4</td>\n",
       "      <td id=\"T_377a1_row12_col1\" class=\"data row12 col1\" >1.6</td>\n",
       "      <td id=\"T_377a1_row12_col2\" class=\"data row12 col2\" >Male</td>\n",
       "      <td id=\"T_377a1_row12_col3\" class=\"data row12 col3\" >No</td>\n",
       "      <td id=\"T_377a1_row12_col4\" class=\"data row12 col4\" >Sun</td>\n",
       "      <td id=\"T_377a1_row12_col5\" class=\"data row12 col5\" >Dinner</td>\n",
       "      <td id=\"T_377a1_row12_col6\" class=\"data row12 col6\" >2</td>\n",
       "    </tr>\n",
       "    <tr>\n",
       "      <th id=\"T_377a1_level0_row13\" class=\"row_heading level0 row13\" >13</th>\n",
       "      <td id=\"T_377a1_row13_col0\" class=\"data row13 col0\" >18.4</td>\n",
       "      <td id=\"T_377a1_row13_col1\" class=\"data row13 col1\" >3.0</td>\n",
       "      <td id=\"T_377a1_row13_col2\" class=\"data row13 col2\" >Male</td>\n",
       "      <td id=\"T_377a1_row13_col3\" class=\"data row13 col3\" >No</td>\n",
       "      <td id=\"T_377a1_row13_col4\" class=\"data row13 col4\" >Sun</td>\n",
       "      <td id=\"T_377a1_row13_col5\" class=\"data row13 col5\" >Dinner</td>\n",
       "      <td id=\"T_377a1_row13_col6\" class=\"data row13 col6\" >4</td>\n",
       "    </tr>\n",
       "    <tr>\n",
       "      <th id=\"T_377a1_level0_row14\" class=\"row_heading level0 row14\" >14</th>\n",
       "      <td id=\"T_377a1_row14_col0\" class=\"data row14 col0\" >14.8</td>\n",
       "      <td id=\"T_377a1_row14_col1\" class=\"data row14 col1\" >3.0</td>\n",
       "      <td id=\"T_377a1_row14_col2\" class=\"data row14 col2\" >Female</td>\n",
       "      <td id=\"T_377a1_row14_col3\" class=\"data row14 col3\" >No</td>\n",
       "      <td id=\"T_377a1_row14_col4\" class=\"data row14 col4\" >Sun</td>\n",
       "      <td id=\"T_377a1_row14_col5\" class=\"data row14 col5\" >Dinner</td>\n",
       "      <td id=\"T_377a1_row14_col6\" class=\"data row14 col6\" >2</td>\n",
       "    </tr>\n",
       "    <tr>\n",
       "      <th id=\"T_377a1_level0_row15\" class=\"row_heading level0 row15\" >15</th>\n",
       "      <td id=\"T_377a1_row15_col0\" class=\"data row15 col0\" >21.6</td>\n",
       "      <td id=\"T_377a1_row15_col1\" class=\"data row15 col1\" >3.9</td>\n",
       "      <td id=\"T_377a1_row15_col2\" class=\"data row15 col2\" >Male</td>\n",
       "      <td id=\"T_377a1_row15_col3\" class=\"data row15 col3\" >No</td>\n",
       "      <td id=\"T_377a1_row15_col4\" class=\"data row15 col4\" >Sun</td>\n",
       "      <td id=\"T_377a1_row15_col5\" class=\"data row15 col5\" >Dinner</td>\n",
       "      <td id=\"T_377a1_row15_col6\" class=\"data row15 col6\" >2</td>\n",
       "    </tr>\n",
       "    <tr>\n",
       "      <th id=\"T_377a1_level0_row16\" class=\"row_heading level0 row16\" >16</th>\n",
       "      <td id=\"T_377a1_row16_col0\" class=\"data row16 col0\" >10.3</td>\n",
       "      <td id=\"T_377a1_row16_col1\" class=\"data row16 col1\" >1.7</td>\n",
       "      <td id=\"T_377a1_row16_col2\" class=\"data row16 col2\" >Female</td>\n",
       "      <td id=\"T_377a1_row16_col3\" class=\"data row16 col3\" >No</td>\n",
       "      <td id=\"T_377a1_row16_col4\" class=\"data row16 col4\" >Sun</td>\n",
       "      <td id=\"T_377a1_row16_col5\" class=\"data row16 col5\" >Dinner</td>\n",
       "      <td id=\"T_377a1_row16_col6\" class=\"data row16 col6\" >3</td>\n",
       "    </tr>\n",
       "    <tr>\n",
       "      <th id=\"T_377a1_level0_row17\" class=\"row_heading level0 row17\" >17</th>\n",
       "      <td id=\"T_377a1_row17_col0\" class=\"data row17 col0\" >16.3</td>\n",
       "      <td id=\"T_377a1_row17_col1\" class=\"data row17 col1\" >3.7</td>\n",
       "      <td id=\"T_377a1_row17_col2\" class=\"data row17 col2\" >Male</td>\n",
       "      <td id=\"T_377a1_row17_col3\" class=\"data row17 col3\" >No</td>\n",
       "      <td id=\"T_377a1_row17_col4\" class=\"data row17 col4\" >Sun</td>\n",
       "      <td id=\"T_377a1_row17_col5\" class=\"data row17 col5\" >Dinner</td>\n",
       "      <td id=\"T_377a1_row17_col6\" class=\"data row17 col6\" >3</td>\n",
       "    </tr>\n",
       "    <tr>\n",
       "      <th id=\"T_377a1_level0_row18\" class=\"row_heading level0 row18\" >18</th>\n",
       "      <td id=\"T_377a1_row18_col0\" class=\"data row18 col0\" >17.0</td>\n",
       "      <td id=\"T_377a1_row18_col1\" class=\"data row18 col1\" >3.5</td>\n",
       "      <td id=\"T_377a1_row18_col2\" class=\"data row18 col2\" >Female</td>\n",
       "      <td id=\"T_377a1_row18_col3\" class=\"data row18 col3\" >No</td>\n",
       "      <td id=\"T_377a1_row18_col4\" class=\"data row18 col4\" >Sun</td>\n",
       "      <td id=\"T_377a1_row18_col5\" class=\"data row18 col5\" >Dinner</td>\n",
       "      <td id=\"T_377a1_row18_col6\" class=\"data row18 col6\" >3</td>\n",
       "    </tr>\n",
       "    <tr>\n",
       "      <th id=\"T_377a1_level0_row19\" class=\"row_heading level0 row19\" >19</th>\n",
       "      <td id=\"T_377a1_row19_col0\" class=\"data row19 col0\" >20.6</td>\n",
       "      <td id=\"T_377a1_row19_col1\" class=\"data row19 col1\" >3.4</td>\n",
       "      <td id=\"T_377a1_row19_col2\" class=\"data row19 col2\" >Male</td>\n",
       "      <td id=\"T_377a1_row19_col3\" class=\"data row19 col3\" >No</td>\n",
       "      <td id=\"T_377a1_row19_col4\" class=\"data row19 col4\" >Sat</td>\n",
       "      <td id=\"T_377a1_row19_col5\" class=\"data row19 col5\" >Dinner</td>\n",
       "      <td id=\"T_377a1_row19_col6\" class=\"data row19 col6\" >3</td>\n",
       "    </tr>\n",
       "  </tbody>\n",
       "</table>\n"
      ],
      "text/plain": [
       "<pandas.io.formats.style.Styler at 0x185c82f4e50>"
      ]
     },
     "execution_count": 187,
     "metadata": {},
     "output_type": "execute_result"
    }
   ],
   "source": [
    "df.style.format(precision=1).highlight_between(subset=\"total_bill\", left=5, right=12)"
   ]
  },
  {
   "cell_type": "code",
   "execution_count": 188,
   "metadata": {},
   "outputs": [
    {
     "data": {
      "text/html": [
       "<style type=\"text/css\">\n",
       "#T_25f80_row0_col0, #T_25f80_row18_col0 {\n",
       "  background-color: #bcc7e1;\n",
       "  color: #000000;\n",
       "}\n",
       "#T_25f80_row0_col1 {\n",
       "  width: 10em;\n",
       "  background: linear-gradient(90deg, pink 20.2%, transparent 20.2%);\n",
       "}\n",
       "#T_25f80_row0_col6, #T_25f80_row1_col6, #T_25f80_row2_col6, #T_25f80_row3_col6, #T_25f80_row6_col6, #T_25f80_row8_col6, #T_25f80_row9_col6, #T_25f80_row10_col6, #T_25f80_row12_col6, #T_25f80_row14_col6, #T_25f80_row15_col6, #T_25f80_row16_col6, #T_25f80_row17_col6, #T_25f80_row18_col6, #T_25f80_row19_col6 {\n",
       "  background-color: yellow;\n",
       "}\n",
       "#T_25f80_row1_col0, #T_25f80_row16_col0 {\n",
       "  background-color: #f6eff7;\n",
       "  color: #000000;\n",
       "}\n",
       "#T_25f80_row1_col1 {\n",
       "  width: 10em;\n",
       "  background: linear-gradient(90deg, pink 33.2%, transparent 33.2%);\n",
       "}\n",
       "#T_25f80_row2_col0 {\n",
       "  background-color: #83afd3;\n",
       "  color: #f1f1f1;\n",
       "}\n",
       "#T_25f80_row2_col1, #T_25f80_row18_col1 {\n",
       "  width: 10em;\n",
       "  background: linear-gradient(90deg, pink 70.0%, transparent 70.0%);\n",
       "}\n",
       "#T_25f80_row3_col0 {\n",
       "  background-color: #549cc7;\n",
       "  color: #f1f1f1;\n",
       "}\n",
       "#T_25f80_row3_col1 {\n",
       "  width: 10em;\n",
       "  background: linear-gradient(90deg, pink 66.2%, transparent 66.2%);\n",
       "}\n",
       "#T_25f80_row4_col0 {\n",
       "  background-color: #4496c3;\n",
       "  color: #f1f1f1;\n",
       "}\n",
       "#T_25f80_row4_col1 {\n",
       "  width: 10em;\n",
       "  background: linear-gradient(90deg, pink 72.2%, transparent 72.2%);\n",
       "}\n",
       "#T_25f80_row5_col0 {\n",
       "  background-color: #3790c0;\n",
       "  color: #f1f1f1;\n",
       "}\n",
       "#T_25f80_row5_col1 {\n",
       "  width: 10em;\n",
       "  background: linear-gradient(90deg, pink 94.2%, transparent 94.2%);\n",
       "}\n",
       "#T_25f80_row6_col0 {\n",
       "  background-color: #fff7fb;\n",
       "  color: #000000;\n",
       "}\n",
       "#T_25f80_row6_col1 {\n",
       "  width: 10em;\n",
       "  background: linear-gradient(90deg, pink 40.0%, transparent 40.0%);\n",
       "}\n",
       "#T_25f80_row7_col0 {\n",
       "  background-color: #1e80b8;\n",
       "  color: #f1f1f1;\n",
       "}\n",
       "#T_25f80_row7_col1 {\n",
       "  width: 10em;\n",
       "  background: linear-gradient(90deg, pink 62.4%, transparent 62.4%);\n",
       "}\n",
       "#T_25f80_row8_col0 {\n",
       "  background-color: #d3d4e7;\n",
       "  color: #000000;\n",
       "}\n",
       "#T_25f80_row8_col1 {\n",
       "  width: 10em;\n",
       "  background: linear-gradient(90deg, pink 39.2%, transparent 39.2%);\n",
       "}\n",
       "#T_25f80_row9_col0, #T_25f80_row14_col0 {\n",
       "  background-color: #d5d5e8;\n",
       "  color: #000000;\n",
       "}\n",
       "#T_25f80_row9_col1 {\n",
       "  width: 10em;\n",
       "  background: linear-gradient(90deg, pink 64.6%, transparent 64.6%);\n",
       "}\n",
       "#T_25f80_row10_col0 {\n",
       "  background-color: #f7f0f7;\n",
       "  color: #000000;\n",
       "}\n",
       "#T_25f80_row10_col1 {\n",
       "  width: 10em;\n",
       "  background: linear-gradient(90deg, pink 34.2%, transparent 34.2%);\n",
       "}\n",
       "#T_25f80_row11_col0 {\n",
       "  background-color: #023858;\n",
       "  color: #f1f1f1;\n",
       "}\n",
       "#T_25f80_row11_col1 {\n",
       "  width: 10em;\n",
       "  background: linear-gradient(90deg, pink 100.0%, transparent 100.0%);\n",
       "}\n",
       "#T_25f80_row12_col0 {\n",
       "  background-color: #d0d1e6;\n",
       "  color: #000000;\n",
       "}\n",
       "#T_25f80_row12_col1 {\n",
       "  width: 10em;\n",
       "  background: linear-gradient(90deg, pink 31.4%, transparent 31.4%);\n",
       "}\n",
       "#T_25f80_row13_col0 {\n",
       "  background-color: #a9bfdc;\n",
       "  color: #000000;\n",
       "}\n",
       "#T_25f80_row13_col1 {\n",
       "  width: 10em;\n",
       "  background: linear-gradient(90deg, pink 60.0%, transparent 60.0%);\n",
       "}\n",
       "#T_25f80_row14_col1 {\n",
       "  width: 10em;\n",
       "  background: linear-gradient(90deg, pink 60.4%, transparent 60.4%);\n",
       "}\n",
       "#T_25f80_row15_col0 {\n",
       "  background-color: #7bacd1;\n",
       "  color: #f1f1f1;\n",
       "}\n",
       "#T_25f80_row15_col1 {\n",
       "  width: 10em;\n",
       "  background: linear-gradient(90deg, pink 78.4%, transparent 78.4%);\n",
       "}\n",
       "#T_25f80_row16_col1 {\n",
       "  width: 10em;\n",
       "  background: linear-gradient(90deg, pink 33.4%, transparent 33.4%);\n",
       "}\n",
       "#T_25f80_row17_col0 {\n",
       "  background-color: #c5cce3;\n",
       "  color: #000000;\n",
       "}\n",
       "#T_25f80_row17_col1 {\n",
       "  width: 10em;\n",
       "  background: linear-gradient(90deg, pink 74.2%, transparent 74.2%);\n",
       "}\n",
       "#T_25f80_row19_col0 {\n",
       "  background-color: #89b1d4;\n",
       "  color: #000000;\n",
       "}\n",
       "#T_25f80_row19_col1 {\n",
       "  width: 10em;\n",
       "  background: linear-gradient(90deg, pink 67.0%, transparent 67.0%);\n",
       "}\n",
       "</style>\n",
       "<table id=\"T_25f80\">\n",
       "  <thead>\n",
       "    <tr>\n",
       "      <th class=\"blank level0\" >&nbsp;</th>\n",
       "      <th id=\"T_25f80_level0_col0\" class=\"col_heading level0 col0\" >total_bill</th>\n",
       "      <th id=\"T_25f80_level0_col1\" class=\"col_heading level0 col1\" >tip</th>\n",
       "      <th id=\"T_25f80_level0_col2\" class=\"col_heading level0 col2\" >sex</th>\n",
       "      <th id=\"T_25f80_level0_col3\" class=\"col_heading level0 col3\" >smoker</th>\n",
       "      <th id=\"T_25f80_level0_col4\" class=\"col_heading level0 col4\" >day</th>\n",
       "      <th id=\"T_25f80_level0_col5\" class=\"col_heading level0 col5\" >time</th>\n",
       "      <th id=\"T_25f80_level0_col6\" class=\"col_heading level0 col6\" >size</th>\n",
       "    </tr>\n",
       "  </thead>\n",
       "  <tbody>\n",
       "    <tr>\n",
       "      <th id=\"T_25f80_level0_row0\" class=\"row_heading level0 row0\" >0</th>\n",
       "      <td id=\"T_25f80_row0_col0\" class=\"data row0 col0\" >17.0</td>\n",
       "      <td id=\"T_25f80_row0_col1\" class=\"data row0 col1\" >1.0</td>\n",
       "      <td id=\"T_25f80_row0_col2\" class=\"data row0 col2\" >Female</td>\n",
       "      <td id=\"T_25f80_row0_col3\" class=\"data row0 col3\" >No</td>\n",
       "      <td id=\"T_25f80_row0_col4\" class=\"data row0 col4\" >Sun</td>\n",
       "      <td id=\"T_25f80_row0_col5\" class=\"data row0 col5\" >Dinner</td>\n",
       "      <td id=\"T_25f80_row0_col6\" class=\"data row0 col6\" >2</td>\n",
       "    </tr>\n",
       "    <tr>\n",
       "      <th id=\"T_25f80_level0_row1\" class=\"row_heading level0 row1\" >1</th>\n",
       "      <td id=\"T_25f80_row1_col0\" class=\"data row1 col0\" >10.3</td>\n",
       "      <td id=\"T_25f80_row1_col1\" class=\"data row1 col1\" >1.7</td>\n",
       "      <td id=\"T_25f80_row1_col2\" class=\"data row1 col2\" >Male</td>\n",
       "      <td id=\"T_25f80_row1_col3\" class=\"data row1 col3\" >No</td>\n",
       "      <td id=\"T_25f80_row1_col4\" class=\"data row1 col4\" >Sun</td>\n",
       "      <td id=\"T_25f80_row1_col5\" class=\"data row1 col5\" >Dinner</td>\n",
       "      <td id=\"T_25f80_row1_col6\" class=\"data row1 col6\" >3</td>\n",
       "    </tr>\n",
       "    <tr>\n",
       "      <th id=\"T_25f80_level0_row2\" class=\"row_heading level0 row2\" >2</th>\n",
       "      <td id=\"T_25f80_row2_col0\" class=\"data row2 col0\" >21.0</td>\n",
       "      <td id=\"T_25f80_row2_col1\" class=\"data row2 col1\" >3.5</td>\n",
       "      <td id=\"T_25f80_row2_col2\" class=\"data row2 col2\" >Male</td>\n",
       "      <td id=\"T_25f80_row2_col3\" class=\"data row2 col3\" >No</td>\n",
       "      <td id=\"T_25f80_row2_col4\" class=\"data row2 col4\" >Sun</td>\n",
       "      <td id=\"T_25f80_row2_col5\" class=\"data row2 col5\" >Dinner</td>\n",
       "      <td id=\"T_25f80_row2_col6\" class=\"data row2 col6\" >3</td>\n",
       "    </tr>\n",
       "    <tr>\n",
       "      <th id=\"T_25f80_level0_row3\" class=\"row_heading level0 row3\" >3</th>\n",
       "      <td id=\"T_25f80_row3_col0\" class=\"data row3 col0\" >23.7</td>\n",
       "      <td id=\"T_25f80_row3_col1\" class=\"data row3 col1\" >3.3</td>\n",
       "      <td id=\"T_25f80_row3_col2\" class=\"data row3 col2\" >Male</td>\n",
       "      <td id=\"T_25f80_row3_col3\" class=\"data row3 col3\" >No</td>\n",
       "      <td id=\"T_25f80_row3_col4\" class=\"data row3 col4\" >Sun</td>\n",
       "      <td id=\"T_25f80_row3_col5\" class=\"data row3 col5\" >Dinner</td>\n",
       "      <td id=\"T_25f80_row3_col6\" class=\"data row3 col6\" >2</td>\n",
       "    </tr>\n",
       "    <tr>\n",
       "      <th id=\"T_25f80_level0_row4\" class=\"row_heading level0 row4\" >4</th>\n",
       "      <td id=\"T_25f80_row4_col0\" class=\"data row4 col0\" >24.6</td>\n",
       "      <td id=\"T_25f80_row4_col1\" class=\"data row4 col1\" >3.6</td>\n",
       "      <td id=\"T_25f80_row4_col2\" class=\"data row4 col2\" >Female</td>\n",
       "      <td id=\"T_25f80_row4_col3\" class=\"data row4 col3\" >No</td>\n",
       "      <td id=\"T_25f80_row4_col4\" class=\"data row4 col4\" >Sun</td>\n",
       "      <td id=\"T_25f80_row4_col5\" class=\"data row4 col5\" >Dinner</td>\n",
       "      <td id=\"T_25f80_row4_col6\" class=\"data row4 col6\" >4</td>\n",
       "    </tr>\n",
       "    <tr>\n",
       "      <th id=\"T_25f80_level0_row5\" class=\"row_heading level0 row5\" >5</th>\n",
       "      <td id=\"T_25f80_row5_col0\" class=\"data row5 col0\" >25.3</td>\n",
       "      <td id=\"T_25f80_row5_col1\" class=\"data row5 col1\" >4.7</td>\n",
       "      <td id=\"T_25f80_row5_col2\" class=\"data row5 col2\" >Male</td>\n",
       "      <td id=\"T_25f80_row5_col3\" class=\"data row5 col3\" >No</td>\n",
       "      <td id=\"T_25f80_row5_col4\" class=\"data row5 col4\" >Sun</td>\n",
       "      <td id=\"T_25f80_row5_col5\" class=\"data row5 col5\" >Dinner</td>\n",
       "      <td id=\"T_25f80_row5_col6\" class=\"data row5 col6\" >4</td>\n",
       "    </tr>\n",
       "    <tr>\n",
       "      <th id=\"T_25f80_level0_row6\" class=\"row_heading level0 row6\" >6</th>\n",
       "      <td id=\"T_25f80_row6_col0\" class=\"data row6 col0\" >8.8</td>\n",
       "      <td id=\"T_25f80_row6_col1\" class=\"data row6 col1\" >2.0</td>\n",
       "      <td id=\"T_25f80_row6_col2\" class=\"data row6 col2\" >Male</td>\n",
       "      <td id=\"T_25f80_row6_col3\" class=\"data row6 col3\" >No</td>\n",
       "      <td id=\"T_25f80_row6_col4\" class=\"data row6 col4\" >Sun</td>\n",
       "      <td id=\"T_25f80_row6_col5\" class=\"data row6 col5\" >Dinner</td>\n",
       "      <td id=\"T_25f80_row6_col6\" class=\"data row6 col6\" >2</td>\n",
       "    </tr>\n",
       "    <tr>\n",
       "      <th id=\"T_25f80_level0_row7\" class=\"row_heading level0 row7\" >7</th>\n",
       "      <td id=\"T_25f80_row7_col0\" class=\"data row7 col0\" >26.9</td>\n",
       "      <td id=\"T_25f80_row7_col1\" class=\"data row7 col1\" >3.1</td>\n",
       "      <td id=\"T_25f80_row7_col2\" class=\"data row7 col2\" >Male</td>\n",
       "      <td id=\"T_25f80_row7_col3\" class=\"data row7 col3\" >No</td>\n",
       "      <td id=\"T_25f80_row7_col4\" class=\"data row7 col4\" >Sun</td>\n",
       "      <td id=\"T_25f80_row7_col5\" class=\"data row7 col5\" >Dinner</td>\n",
       "      <td id=\"T_25f80_row7_col6\" class=\"data row7 col6\" >4</td>\n",
       "    </tr>\n",
       "    <tr>\n",
       "      <th id=\"T_25f80_level0_row8\" class=\"row_heading level0 row8\" >8</th>\n",
       "      <td id=\"T_25f80_row8_col0\" class=\"data row8 col0\" >15.0</td>\n",
       "      <td id=\"T_25f80_row8_col1\" class=\"data row8 col1\" >2.0</td>\n",
       "      <td id=\"T_25f80_row8_col2\" class=\"data row8 col2\" >Male</td>\n",
       "      <td id=\"T_25f80_row8_col3\" class=\"data row8 col3\" >No</td>\n",
       "      <td id=\"T_25f80_row8_col4\" class=\"data row8 col4\" >Sun</td>\n",
       "      <td id=\"T_25f80_row8_col5\" class=\"data row8 col5\" >Dinner</td>\n",
       "      <td id=\"T_25f80_row8_col6\" class=\"data row8 col6\" >2</td>\n",
       "    </tr>\n",
       "    <tr>\n",
       "      <th id=\"T_25f80_level0_row9\" class=\"row_heading level0 row9\" >9</th>\n",
       "      <td id=\"T_25f80_row9_col0\" class=\"data row9 col0\" >14.8</td>\n",
       "      <td id=\"T_25f80_row9_col1\" class=\"data row9 col1\" >3.2</td>\n",
       "      <td id=\"T_25f80_row9_col2\" class=\"data row9 col2\" >Male</td>\n",
       "      <td id=\"T_25f80_row9_col3\" class=\"data row9 col3\" >No</td>\n",
       "      <td id=\"T_25f80_row9_col4\" class=\"data row9 col4\" >Sun</td>\n",
       "      <td id=\"T_25f80_row9_col5\" class=\"data row9 col5\" >Dinner</td>\n",
       "      <td id=\"T_25f80_row9_col6\" class=\"data row9 col6\" >2</td>\n",
       "    </tr>\n",
       "    <tr>\n",
       "      <th id=\"T_25f80_level0_row10\" class=\"row_heading level0 row10\" >10</th>\n",
       "      <td id=\"T_25f80_row10_col0\" class=\"data row10 col0\" >10.3</td>\n",
       "      <td id=\"T_25f80_row10_col1\" class=\"data row10 col1\" >1.7</td>\n",
       "      <td id=\"T_25f80_row10_col2\" class=\"data row10 col2\" >Male</td>\n",
       "      <td id=\"T_25f80_row10_col3\" class=\"data row10 col3\" >No</td>\n",
       "      <td id=\"T_25f80_row10_col4\" class=\"data row10 col4\" >Sun</td>\n",
       "      <td id=\"T_25f80_row10_col5\" class=\"data row10 col5\" >Dinner</td>\n",
       "      <td id=\"T_25f80_row10_col6\" class=\"data row10 col6\" >2</td>\n",
       "    </tr>\n",
       "    <tr>\n",
       "      <th id=\"T_25f80_level0_row11\" class=\"row_heading level0 row11\" >11</th>\n",
       "      <td id=\"T_25f80_row11_col0\" class=\"data row11 col0\" >35.3</td>\n",
       "      <td id=\"T_25f80_row11_col1\" class=\"data row11 col1\" >5.0</td>\n",
       "      <td id=\"T_25f80_row11_col2\" class=\"data row11 col2\" >Female</td>\n",
       "      <td id=\"T_25f80_row11_col3\" class=\"data row11 col3\" >No</td>\n",
       "      <td id=\"T_25f80_row11_col4\" class=\"data row11 col4\" >Sun</td>\n",
       "      <td id=\"T_25f80_row11_col5\" class=\"data row11 col5\" >Dinner</td>\n",
       "      <td id=\"T_25f80_row11_col6\" class=\"data row11 col6\" >4</td>\n",
       "    </tr>\n",
       "    <tr>\n",
       "      <th id=\"T_25f80_level0_row12\" class=\"row_heading level0 row12\" >12</th>\n",
       "      <td id=\"T_25f80_row12_col0\" class=\"data row12 col0\" >15.4</td>\n",
       "      <td id=\"T_25f80_row12_col1\" class=\"data row12 col1\" >1.6</td>\n",
       "      <td id=\"T_25f80_row12_col2\" class=\"data row12 col2\" >Male</td>\n",
       "      <td id=\"T_25f80_row12_col3\" class=\"data row12 col3\" >No</td>\n",
       "      <td id=\"T_25f80_row12_col4\" class=\"data row12 col4\" >Sun</td>\n",
       "      <td id=\"T_25f80_row12_col5\" class=\"data row12 col5\" >Dinner</td>\n",
       "      <td id=\"T_25f80_row12_col6\" class=\"data row12 col6\" >2</td>\n",
       "    </tr>\n",
       "    <tr>\n",
       "      <th id=\"T_25f80_level0_row13\" class=\"row_heading level0 row13\" >13</th>\n",
       "      <td id=\"T_25f80_row13_col0\" class=\"data row13 col0\" >18.4</td>\n",
       "      <td id=\"T_25f80_row13_col1\" class=\"data row13 col1\" >3.0</td>\n",
       "      <td id=\"T_25f80_row13_col2\" class=\"data row13 col2\" >Male</td>\n",
       "      <td id=\"T_25f80_row13_col3\" class=\"data row13 col3\" >No</td>\n",
       "      <td id=\"T_25f80_row13_col4\" class=\"data row13 col4\" >Sun</td>\n",
       "      <td id=\"T_25f80_row13_col5\" class=\"data row13 col5\" >Dinner</td>\n",
       "      <td id=\"T_25f80_row13_col6\" class=\"data row13 col6\" >4</td>\n",
       "    </tr>\n",
       "    <tr>\n",
       "      <th id=\"T_25f80_level0_row14\" class=\"row_heading level0 row14\" >14</th>\n",
       "      <td id=\"T_25f80_row14_col0\" class=\"data row14 col0\" >14.8</td>\n",
       "      <td id=\"T_25f80_row14_col1\" class=\"data row14 col1\" >3.0</td>\n",
       "      <td id=\"T_25f80_row14_col2\" class=\"data row14 col2\" >Female</td>\n",
       "      <td id=\"T_25f80_row14_col3\" class=\"data row14 col3\" >No</td>\n",
       "      <td id=\"T_25f80_row14_col4\" class=\"data row14 col4\" >Sun</td>\n",
       "      <td id=\"T_25f80_row14_col5\" class=\"data row14 col5\" >Dinner</td>\n",
       "      <td id=\"T_25f80_row14_col6\" class=\"data row14 col6\" >2</td>\n",
       "    </tr>\n",
       "    <tr>\n",
       "      <th id=\"T_25f80_level0_row15\" class=\"row_heading level0 row15\" >15</th>\n",
       "      <td id=\"T_25f80_row15_col0\" class=\"data row15 col0\" >21.6</td>\n",
       "      <td id=\"T_25f80_row15_col1\" class=\"data row15 col1\" >3.9</td>\n",
       "      <td id=\"T_25f80_row15_col2\" class=\"data row15 col2\" >Male</td>\n",
       "      <td id=\"T_25f80_row15_col3\" class=\"data row15 col3\" >No</td>\n",
       "      <td id=\"T_25f80_row15_col4\" class=\"data row15 col4\" >Sun</td>\n",
       "      <td id=\"T_25f80_row15_col5\" class=\"data row15 col5\" >Dinner</td>\n",
       "      <td id=\"T_25f80_row15_col6\" class=\"data row15 col6\" >2</td>\n",
       "    </tr>\n",
       "    <tr>\n",
       "      <th id=\"T_25f80_level0_row16\" class=\"row_heading level0 row16\" >16</th>\n",
       "      <td id=\"T_25f80_row16_col0\" class=\"data row16 col0\" >10.3</td>\n",
       "      <td id=\"T_25f80_row16_col1\" class=\"data row16 col1\" >1.7</td>\n",
       "      <td id=\"T_25f80_row16_col2\" class=\"data row16 col2\" >Female</td>\n",
       "      <td id=\"T_25f80_row16_col3\" class=\"data row16 col3\" >No</td>\n",
       "      <td id=\"T_25f80_row16_col4\" class=\"data row16 col4\" >Sun</td>\n",
       "      <td id=\"T_25f80_row16_col5\" class=\"data row16 col5\" >Dinner</td>\n",
       "      <td id=\"T_25f80_row16_col6\" class=\"data row16 col6\" >3</td>\n",
       "    </tr>\n",
       "    <tr>\n",
       "      <th id=\"T_25f80_level0_row17\" class=\"row_heading level0 row17\" >17</th>\n",
       "      <td id=\"T_25f80_row17_col0\" class=\"data row17 col0\" >16.3</td>\n",
       "      <td id=\"T_25f80_row17_col1\" class=\"data row17 col1\" >3.7</td>\n",
       "      <td id=\"T_25f80_row17_col2\" class=\"data row17 col2\" >Male</td>\n",
       "      <td id=\"T_25f80_row17_col3\" class=\"data row17 col3\" >No</td>\n",
       "      <td id=\"T_25f80_row17_col4\" class=\"data row17 col4\" >Sun</td>\n",
       "      <td id=\"T_25f80_row17_col5\" class=\"data row17 col5\" >Dinner</td>\n",
       "      <td id=\"T_25f80_row17_col6\" class=\"data row17 col6\" >3</td>\n",
       "    </tr>\n",
       "    <tr>\n",
       "      <th id=\"T_25f80_level0_row18\" class=\"row_heading level0 row18\" >18</th>\n",
       "      <td id=\"T_25f80_row18_col0\" class=\"data row18 col0\" >17.0</td>\n",
       "      <td id=\"T_25f80_row18_col1\" class=\"data row18 col1\" >3.5</td>\n",
       "      <td id=\"T_25f80_row18_col2\" class=\"data row18 col2\" >Female</td>\n",
       "      <td id=\"T_25f80_row18_col3\" class=\"data row18 col3\" >No</td>\n",
       "      <td id=\"T_25f80_row18_col4\" class=\"data row18 col4\" >Sun</td>\n",
       "      <td id=\"T_25f80_row18_col5\" class=\"data row18 col5\" >Dinner</td>\n",
       "      <td id=\"T_25f80_row18_col6\" class=\"data row18 col6\" >3</td>\n",
       "    </tr>\n",
       "    <tr>\n",
       "      <th id=\"T_25f80_level0_row19\" class=\"row_heading level0 row19\" >19</th>\n",
       "      <td id=\"T_25f80_row19_col0\" class=\"data row19 col0\" >20.6</td>\n",
       "      <td id=\"T_25f80_row19_col1\" class=\"data row19 col1\" >3.4</td>\n",
       "      <td id=\"T_25f80_row19_col2\" class=\"data row19 col2\" >Male</td>\n",
       "      <td id=\"T_25f80_row19_col3\" class=\"data row19 col3\" >No</td>\n",
       "      <td id=\"T_25f80_row19_col4\" class=\"data row19 col4\" >Sat</td>\n",
       "      <td id=\"T_25f80_row19_col5\" class=\"data row19 col5\" >Dinner</td>\n",
       "      <td id=\"T_25f80_row19_col6\" class=\"data row19 col6\" >3</td>\n",
       "    </tr>\n",
       "  </tbody>\n",
       "</table>\n"
      ],
      "text/plain": [
       "<pandas.io.formats.style.Styler at 0x185c4ae5810>"
      ]
     },
     "execution_count": 188,
     "metadata": {},
     "output_type": "execute_result"
    }
   ],
   "source": [
    "def super_style(style):\n",
    "    style.format(precision=1).bar(vmin=0, color=\"pink\", subset=[\"tip\"])\n",
    "    style.format(precision=1).background_gradient(subset=[\"total_bill\"])\n",
    "    style.format(precision=1).highlight_between(left=2, right=3, subset=[\"size\"])\n",
    "    return style\n",
    "\n",
    "df.style.pipe(super_style)"
   ]
  },
  {
   "cell_type": "code",
   "execution_count": 189,
   "metadata": {},
   "outputs": [
    {
     "name": "stderr",
     "output_type": "stream",
     "text": [
      "C:\\Users\\emil_\\AppData\\Local\\Temp\\ipykernel_884\\3725635402.py:3: FutureWarning:\n",
      "\n",
      "The default of observed=False is deprecated and will be changed to True in a future version of pandas. Pass observed=False to retain current behavior or observed=True to adopt the future default and silence this warning.\n",
      "\n"
     ]
    },
    {
     "data": {
      "application/vnd.plotly.v1+json": {
       "config": {
        "plotlyServerURL": "https://plot.ly"
       },
       "data": [
        {
         "alignmentgroup": "True",
         "hovertemplate": "variable=total_bill<br>day=%{x}<br>value=%{y}<extra></extra>",
         "legendgroup": "total_bill",
         "marker": {
          "color": "#636efa",
          "pattern": {
           "shape": ""
          }
         },
         "name": "total_bill",
         "offsetgroup": "total_bill",
         "orientation": "v",
         "showlegend": true,
         "textposition": "auto",
         "type": "bar",
         "x": [
          "Thur",
          "Fri",
          "Sat",
          "Sun"
         ],
         "xaxis": "x",
         "y": [
          17.682741935483868,
          17.15157894736842,
          20.44137931034483,
          21.41
         ],
         "yaxis": "y"
        }
       ],
       "layout": {
        "barmode": "relative",
        "legend": {
         "title": {
          "text": "variable"
         },
         "tracegroupgap": 0
        },
        "margin": {
         "t": 60
        },
        "template": {
         "data": {
          "bar": [
           {
            "error_x": {
             "color": "#2a3f5f"
            },
            "error_y": {
             "color": "#2a3f5f"
            },
            "marker": {
             "line": {
              "color": "#E5ECF6",
              "width": 0.5
             },
             "pattern": {
              "fillmode": "overlay",
              "size": 10,
              "solidity": 0.2
             }
            },
            "type": "bar"
           }
          ],
          "barpolar": [
           {
            "marker": {
             "line": {
              "color": "#E5ECF6",
              "width": 0.5
             },
             "pattern": {
              "fillmode": "overlay",
              "size": 10,
              "solidity": 0.2
             }
            },
            "type": "barpolar"
           }
          ],
          "carpet": [
           {
            "aaxis": {
             "endlinecolor": "#2a3f5f",
             "gridcolor": "white",
             "linecolor": "white",
             "minorgridcolor": "white",
             "startlinecolor": "#2a3f5f"
            },
            "baxis": {
             "endlinecolor": "#2a3f5f",
             "gridcolor": "white",
             "linecolor": "white",
             "minorgridcolor": "white",
             "startlinecolor": "#2a3f5f"
            },
            "type": "carpet"
           }
          ],
          "choropleth": [
           {
            "colorbar": {
             "outlinewidth": 0,
             "ticks": ""
            },
            "type": "choropleth"
           }
          ],
          "contour": [
           {
            "colorbar": {
             "outlinewidth": 0,
             "ticks": ""
            },
            "colorscale": [
             [
              0,
              "#0d0887"
             ],
             [
              0.1111111111111111,
              "#46039f"
             ],
             [
              0.2222222222222222,
              "#7201a8"
             ],
             [
              0.3333333333333333,
              "#9c179e"
             ],
             [
              0.4444444444444444,
              "#bd3786"
             ],
             [
              0.5555555555555556,
              "#d8576b"
             ],
             [
              0.6666666666666666,
              "#ed7953"
             ],
             [
              0.7777777777777778,
              "#fb9f3a"
             ],
             [
              0.8888888888888888,
              "#fdca26"
             ],
             [
              1,
              "#f0f921"
             ]
            ],
            "type": "contour"
           }
          ],
          "contourcarpet": [
           {
            "colorbar": {
             "outlinewidth": 0,
             "ticks": ""
            },
            "type": "contourcarpet"
           }
          ],
          "heatmap": [
           {
            "colorbar": {
             "outlinewidth": 0,
             "ticks": ""
            },
            "colorscale": [
             [
              0,
              "#0d0887"
             ],
             [
              0.1111111111111111,
              "#46039f"
             ],
             [
              0.2222222222222222,
              "#7201a8"
             ],
             [
              0.3333333333333333,
              "#9c179e"
             ],
             [
              0.4444444444444444,
              "#bd3786"
             ],
             [
              0.5555555555555556,
              "#d8576b"
             ],
             [
              0.6666666666666666,
              "#ed7953"
             ],
             [
              0.7777777777777778,
              "#fb9f3a"
             ],
             [
              0.8888888888888888,
              "#fdca26"
             ],
             [
              1,
              "#f0f921"
             ]
            ],
            "type": "heatmap"
           }
          ],
          "heatmapgl": [
           {
            "colorbar": {
             "outlinewidth": 0,
             "ticks": ""
            },
            "colorscale": [
             [
              0,
              "#0d0887"
             ],
             [
              0.1111111111111111,
              "#46039f"
             ],
             [
              0.2222222222222222,
              "#7201a8"
             ],
             [
              0.3333333333333333,
              "#9c179e"
             ],
             [
              0.4444444444444444,
              "#bd3786"
             ],
             [
              0.5555555555555556,
              "#d8576b"
             ],
             [
              0.6666666666666666,
              "#ed7953"
             ],
             [
              0.7777777777777778,
              "#fb9f3a"
             ],
             [
              0.8888888888888888,
              "#fdca26"
             ],
             [
              1,
              "#f0f921"
             ]
            ],
            "type": "heatmapgl"
           }
          ],
          "histogram": [
           {
            "marker": {
             "pattern": {
              "fillmode": "overlay",
              "size": 10,
              "solidity": 0.2
             }
            },
            "type": "histogram"
           }
          ],
          "histogram2d": [
           {
            "colorbar": {
             "outlinewidth": 0,
             "ticks": ""
            },
            "colorscale": [
             [
              0,
              "#0d0887"
             ],
             [
              0.1111111111111111,
              "#46039f"
             ],
             [
              0.2222222222222222,
              "#7201a8"
             ],
             [
              0.3333333333333333,
              "#9c179e"
             ],
             [
              0.4444444444444444,
              "#bd3786"
             ],
             [
              0.5555555555555556,
              "#d8576b"
             ],
             [
              0.6666666666666666,
              "#ed7953"
             ],
             [
              0.7777777777777778,
              "#fb9f3a"
             ],
             [
              0.8888888888888888,
              "#fdca26"
             ],
             [
              1,
              "#f0f921"
             ]
            ],
            "type": "histogram2d"
           }
          ],
          "histogram2dcontour": [
           {
            "colorbar": {
             "outlinewidth": 0,
             "ticks": ""
            },
            "colorscale": [
             [
              0,
              "#0d0887"
             ],
             [
              0.1111111111111111,
              "#46039f"
             ],
             [
              0.2222222222222222,
              "#7201a8"
             ],
             [
              0.3333333333333333,
              "#9c179e"
             ],
             [
              0.4444444444444444,
              "#bd3786"
             ],
             [
              0.5555555555555556,
              "#d8576b"
             ],
             [
              0.6666666666666666,
              "#ed7953"
             ],
             [
              0.7777777777777778,
              "#fb9f3a"
             ],
             [
              0.8888888888888888,
              "#fdca26"
             ],
             [
              1,
              "#f0f921"
             ]
            ],
            "type": "histogram2dcontour"
           }
          ],
          "mesh3d": [
           {
            "colorbar": {
             "outlinewidth": 0,
             "ticks": ""
            },
            "type": "mesh3d"
           }
          ],
          "parcoords": [
           {
            "line": {
             "colorbar": {
              "outlinewidth": 0,
              "ticks": ""
             }
            },
            "type": "parcoords"
           }
          ],
          "pie": [
           {
            "automargin": true,
            "type": "pie"
           }
          ],
          "scatter": [
           {
            "fillpattern": {
             "fillmode": "overlay",
             "size": 10,
             "solidity": 0.2
            },
            "type": "scatter"
           }
          ],
          "scatter3d": [
           {
            "line": {
             "colorbar": {
              "outlinewidth": 0,
              "ticks": ""
             }
            },
            "marker": {
             "colorbar": {
              "outlinewidth": 0,
              "ticks": ""
             }
            },
            "type": "scatter3d"
           }
          ],
          "scattercarpet": [
           {
            "marker": {
             "colorbar": {
              "outlinewidth": 0,
              "ticks": ""
             }
            },
            "type": "scattercarpet"
           }
          ],
          "scattergeo": [
           {
            "marker": {
             "colorbar": {
              "outlinewidth": 0,
              "ticks": ""
             }
            },
            "type": "scattergeo"
           }
          ],
          "scattergl": [
           {
            "marker": {
             "colorbar": {
              "outlinewidth": 0,
              "ticks": ""
             }
            },
            "type": "scattergl"
           }
          ],
          "scattermapbox": [
           {
            "marker": {
             "colorbar": {
              "outlinewidth": 0,
              "ticks": ""
             }
            },
            "type": "scattermapbox"
           }
          ],
          "scatterpolar": [
           {
            "marker": {
             "colorbar": {
              "outlinewidth": 0,
              "ticks": ""
             }
            },
            "type": "scatterpolar"
           }
          ],
          "scatterpolargl": [
           {
            "marker": {
             "colorbar": {
              "outlinewidth": 0,
              "ticks": ""
             }
            },
            "type": "scatterpolargl"
           }
          ],
          "scatterternary": [
           {
            "marker": {
             "colorbar": {
              "outlinewidth": 0,
              "ticks": ""
             }
            },
            "type": "scatterternary"
           }
          ],
          "surface": [
           {
            "colorbar": {
             "outlinewidth": 0,
             "ticks": ""
            },
            "colorscale": [
             [
              0,
              "#0d0887"
             ],
             [
              0.1111111111111111,
              "#46039f"
             ],
             [
              0.2222222222222222,
              "#7201a8"
             ],
             [
              0.3333333333333333,
              "#9c179e"
             ],
             [
              0.4444444444444444,
              "#bd3786"
             ],
             [
              0.5555555555555556,
              "#d8576b"
             ],
             [
              0.6666666666666666,
              "#ed7953"
             ],
             [
              0.7777777777777778,
              "#fb9f3a"
             ],
             [
              0.8888888888888888,
              "#fdca26"
             ],
             [
              1,
              "#f0f921"
             ]
            ],
            "type": "surface"
           }
          ],
          "table": [
           {
            "cells": {
             "fill": {
              "color": "#EBF0F8"
             },
             "line": {
              "color": "white"
             }
            },
            "header": {
             "fill": {
              "color": "#C8D4E3"
             },
             "line": {
              "color": "white"
             }
            },
            "type": "table"
           }
          ]
         },
         "layout": {
          "annotationdefaults": {
           "arrowcolor": "#2a3f5f",
           "arrowhead": 0,
           "arrowwidth": 1
          },
          "autotypenumbers": "strict",
          "coloraxis": {
           "colorbar": {
            "outlinewidth": 0,
            "ticks": ""
           }
          },
          "colorscale": {
           "diverging": [
            [
             0,
             "#8e0152"
            ],
            [
             0.1,
             "#c51b7d"
            ],
            [
             0.2,
             "#de77ae"
            ],
            [
             0.3,
             "#f1b6da"
            ],
            [
             0.4,
             "#fde0ef"
            ],
            [
             0.5,
             "#f7f7f7"
            ],
            [
             0.6,
             "#e6f5d0"
            ],
            [
             0.7,
             "#b8e186"
            ],
            [
             0.8,
             "#7fbc41"
            ],
            [
             0.9,
             "#4d9221"
            ],
            [
             1,
             "#276419"
            ]
           ],
           "sequential": [
            [
             0,
             "#0d0887"
            ],
            [
             0.1111111111111111,
             "#46039f"
            ],
            [
             0.2222222222222222,
             "#7201a8"
            ],
            [
             0.3333333333333333,
             "#9c179e"
            ],
            [
             0.4444444444444444,
             "#bd3786"
            ],
            [
             0.5555555555555556,
             "#d8576b"
            ],
            [
             0.6666666666666666,
             "#ed7953"
            ],
            [
             0.7777777777777778,
             "#fb9f3a"
            ],
            [
             0.8888888888888888,
             "#fdca26"
            ],
            [
             1,
             "#f0f921"
            ]
           ],
           "sequentialminus": [
            [
             0,
             "#0d0887"
            ],
            [
             0.1111111111111111,
             "#46039f"
            ],
            [
             0.2222222222222222,
             "#7201a8"
            ],
            [
             0.3333333333333333,
             "#9c179e"
            ],
            [
             0.4444444444444444,
             "#bd3786"
            ],
            [
             0.5555555555555556,
             "#d8576b"
            ],
            [
             0.6666666666666666,
             "#ed7953"
            ],
            [
             0.7777777777777778,
             "#fb9f3a"
            ],
            [
             0.8888888888888888,
             "#fdca26"
            ],
            [
             1,
             "#f0f921"
            ]
           ]
          },
          "colorway": [
           "#636efa",
           "#EF553B",
           "#00cc96",
           "#ab63fa",
           "#FFA15A",
           "#19d3f3",
           "#FF6692",
           "#B6E880",
           "#FF97FF",
           "#FECB52"
          ],
          "font": {
           "color": "#2a3f5f"
          },
          "geo": {
           "bgcolor": "white",
           "lakecolor": "white",
           "landcolor": "#E5ECF6",
           "showlakes": true,
           "showland": true,
           "subunitcolor": "white"
          },
          "hoverlabel": {
           "align": "left"
          },
          "hovermode": "closest",
          "mapbox": {
           "style": "light"
          },
          "paper_bgcolor": "white",
          "plot_bgcolor": "#E5ECF6",
          "polar": {
           "angularaxis": {
            "gridcolor": "white",
            "linecolor": "white",
            "ticks": ""
           },
           "bgcolor": "#E5ECF6",
           "radialaxis": {
            "gridcolor": "white",
            "linecolor": "white",
            "ticks": ""
           }
          },
          "scene": {
           "xaxis": {
            "backgroundcolor": "#E5ECF6",
            "gridcolor": "white",
            "gridwidth": 2,
            "linecolor": "white",
            "showbackground": true,
            "ticks": "",
            "zerolinecolor": "white"
           },
           "yaxis": {
            "backgroundcolor": "#E5ECF6",
            "gridcolor": "white",
            "gridwidth": 2,
            "linecolor": "white",
            "showbackground": true,
            "ticks": "",
            "zerolinecolor": "white"
           },
           "zaxis": {
            "backgroundcolor": "#E5ECF6",
            "gridcolor": "white",
            "gridwidth": 2,
            "linecolor": "white",
            "showbackground": true,
            "ticks": "",
            "zerolinecolor": "white"
           }
          },
          "shapedefaults": {
           "line": {
            "color": "#2a3f5f"
           }
          },
          "ternary": {
           "aaxis": {
            "gridcolor": "white",
            "linecolor": "white",
            "ticks": ""
           },
           "baxis": {
            "gridcolor": "white",
            "linecolor": "white",
            "ticks": ""
           },
           "bgcolor": "#E5ECF6",
           "caxis": {
            "gridcolor": "white",
            "linecolor": "white",
            "ticks": ""
           }
          },
          "title": {
           "x": 0.05
          },
          "xaxis": {
           "automargin": true,
           "gridcolor": "white",
           "linecolor": "white",
           "ticks": "",
           "title": {
            "standoff": 15
           },
           "zerolinecolor": "white",
           "zerolinewidth": 2
          },
          "yaxis": {
           "automargin": true,
           "gridcolor": "white",
           "linecolor": "white",
           "ticks": "",
           "title": {
            "standoff": 15
           },
           "zerolinecolor": "white",
           "zerolinewidth": 2
          }
         }
        },
        "xaxis": {
         "anchor": "y",
         "domain": [
          0,
          1
         ],
         "title": {
          "text": "day"
         }
        },
        "yaxis": {
         "anchor": "x",
         "domain": [
          0,
          1
         ],
         "title": {
          "text": "value"
         }
        }
       }
      }
     },
     "metadata": {},
     "output_type": "display_data"
    }
   ],
   "source": [
    "df = sns.load_dataset(\"tips\")\n",
    "pd.options.plotting.backend=\"plotly\"\n",
    "df.groupby(\"day\")[\"total_bill\"].mean().plot(kind=\"bar\")"
   ]
  },
  {
   "cell_type": "code",
   "execution_count": 190,
   "metadata": {},
   "outputs": [
    {
     "data": {
      "application/vnd.plotly.v1+json": {
       "config": {
        "plotlyServerURL": "https://plot.ly"
       },
       "data": [
        {
         "hovertemplate": "total_bill=%{x}<br>tip=%{y}<extra></extra>",
         "legendgroup": "",
         "marker": {
          "color": "#636efa",
          "symbol": "circle"
         },
         "mode": "markers",
         "name": "",
         "orientation": "v",
         "showlegend": false,
         "type": "scatter",
         "x": [
          16.99,
          10.34,
          21.01,
          23.68,
          24.59,
          25.29,
          8.77,
          26.88,
          15.04,
          14.78,
          10.27,
          35.26,
          15.42,
          18.43,
          14.83,
          21.58,
          10.33,
          16.29,
          16.97,
          20.65,
          17.92,
          20.29,
          15.77,
          39.42,
          19.82,
          17.81,
          13.37,
          12.69,
          21.7,
          19.65,
          9.55,
          18.35,
          15.06,
          20.69,
          17.78,
          24.06,
          16.31,
          16.93,
          18.69,
          31.27,
          16.04,
          17.46,
          13.94,
          9.68,
          30.4,
          18.29,
          22.23,
          32.4,
          28.55,
          18.04,
          12.54,
          10.29,
          34.81,
          9.94,
          25.56,
          19.49,
          38.01,
          26.41,
          11.24,
          48.27,
          20.29,
          13.81,
          11.02,
          18.29,
          17.59,
          20.08,
          16.45,
          3.07,
          20.23,
          15.01,
          12.02,
          17.07,
          26.86,
          25.28,
          14.73,
          10.51,
          17.92,
          27.2,
          22.76,
          17.29,
          19.44,
          16.66,
          10.07,
          32.68,
          15.98,
          34.83,
          13.03,
          18.28,
          24.71,
          21.16,
          28.97,
          22.49,
          5.75,
          16.32,
          22.75,
          40.17,
          27.28,
          12.03,
          21.01,
          12.46,
          11.35,
          15.38,
          44.3,
          22.42,
          20.92,
          15.36,
          20.49,
          25.21,
          18.24,
          14.31,
          14,
          7.25,
          38.07,
          23.95,
          25.71,
          17.31,
          29.93,
          10.65,
          12.43,
          24.08,
          11.69,
          13.42,
          14.26,
          15.95,
          12.48,
          29.8,
          8.52,
          14.52,
          11.38,
          22.82,
          19.08,
          20.27,
          11.17,
          12.26,
          18.26,
          8.51,
          10.33,
          14.15,
          16,
          13.16,
          17.47,
          34.3,
          41.19,
          27.05,
          16.43,
          8.35,
          18.64,
          11.87,
          9.78,
          7.51,
          14.07,
          13.13,
          17.26,
          24.55,
          19.77,
          29.85,
          48.17,
          25,
          13.39,
          16.49,
          21.5,
          12.66,
          16.21,
          13.81,
          17.51,
          24.52,
          20.76,
          31.71,
          10.59,
          10.63,
          50.81,
          15.81,
          7.25,
          31.85,
          16.82,
          32.9,
          17.89,
          14.48,
          9.6,
          34.63,
          34.65,
          23.33,
          45.35,
          23.17,
          40.55,
          20.69,
          20.9,
          30.46,
          18.15,
          23.1,
          15.69,
          19.81,
          28.44,
          15.48,
          16.58,
          7.56,
          10.34,
          43.11,
          13,
          13.51,
          18.71,
          12.74,
          13,
          16.4,
          20.53,
          16.47,
          26.59,
          38.73,
          24.27,
          12.76,
          30.06,
          25.89,
          48.33,
          13.27,
          28.17,
          12.9,
          28.15,
          11.59,
          7.74,
          30.14,
          12.16,
          13.42,
          8.58,
          15.98,
          13.42,
          16.27,
          10.09,
          20.45,
          13.28,
          22.12,
          24.01,
          15.69,
          11.61,
          10.77,
          15.53,
          10.07,
          12.6,
          32.83,
          35.83,
          29.03,
          27.18,
          22.67,
          17.82,
          18.78
         ],
         "xaxis": "x",
         "y": [
          1.01,
          1.66,
          3.5,
          3.31,
          3.61,
          4.71,
          2,
          3.12,
          1.96,
          3.23,
          1.71,
          5,
          1.57,
          3,
          3.02,
          3.92,
          1.67,
          3.71,
          3.5,
          3.35,
          4.08,
          2.75,
          2.23,
          7.58,
          3.18,
          2.34,
          2,
          2,
          4.3,
          3,
          1.45,
          2.5,
          3,
          2.45,
          3.27,
          3.6,
          2,
          3.07,
          2.31,
          5,
          2.24,
          2.54,
          3.06,
          1.32,
          5.6,
          3,
          5,
          6,
          2.05,
          3,
          2.5,
          2.6,
          5.2,
          1.56,
          4.34,
          3.51,
          3,
          1.5,
          1.76,
          6.73,
          3.21,
          2,
          1.98,
          3.76,
          2.64,
          3.15,
          2.47,
          1,
          2.01,
          2.09,
          1.97,
          3,
          3.14,
          5,
          2.2,
          1.25,
          3.08,
          4,
          3,
          2.71,
          3,
          3.4,
          1.83,
          5,
          2.03,
          5.17,
          2,
          4,
          5.85,
          3,
          3,
          3.5,
          1,
          4.3,
          3.25,
          4.73,
          4,
          1.5,
          3,
          1.5,
          2.5,
          3,
          2.5,
          3.48,
          4.08,
          1.64,
          4.06,
          4.29,
          3.76,
          4,
          3,
          1,
          4,
          2.55,
          4,
          3.5,
          5.07,
          1.5,
          1.8,
          2.92,
          2.31,
          1.68,
          2.5,
          2,
          2.52,
          4.2,
          1.48,
          2,
          2,
          2.18,
          1.5,
          2.83,
          1.5,
          2,
          3.25,
          1.25,
          2,
          2,
          2,
          2.75,
          3.5,
          6.7,
          5,
          5,
          2.3,
          1.5,
          1.36,
          1.63,
          1.73,
          2,
          2.5,
          2,
          2.74,
          2,
          2,
          5.14,
          5,
          3.75,
          2.61,
          2,
          3.5,
          2.5,
          2,
          2,
          3,
          3.48,
          2.24,
          4.5,
          1.61,
          2,
          10,
          3.16,
          5.15,
          3.18,
          4,
          3.11,
          2,
          2,
          4,
          3.55,
          3.68,
          5.65,
          3.5,
          6.5,
          3,
          5,
          3.5,
          2,
          3.5,
          4,
          1.5,
          4.19,
          2.56,
          2.02,
          4,
          1.44,
          2,
          5,
          2,
          2,
          4,
          2.01,
          2,
          2.5,
          4,
          3.23,
          3.41,
          3,
          2.03,
          2.23,
          2,
          5.16,
          9,
          2.5,
          6.5,
          1.1,
          3,
          1.5,
          1.44,
          3.09,
          2.2,
          3.48,
          1.92,
          3,
          1.58,
          2.5,
          2,
          3,
          2.72,
          2.88,
          2,
          3,
          3.39,
          1.47,
          3,
          1.25,
          1,
          1.17,
          4.67,
          5.92,
          2,
          2,
          1.75,
          3
         ],
         "yaxis": "y"
        }
       ],
       "layout": {
        "legend": {
         "tracegroupgap": 0
        },
        "margin": {
         "t": 60
        },
        "template": {
         "data": {
          "bar": [
           {
            "error_x": {
             "color": "#2a3f5f"
            },
            "error_y": {
             "color": "#2a3f5f"
            },
            "marker": {
             "line": {
              "color": "#E5ECF6",
              "width": 0.5
             },
             "pattern": {
              "fillmode": "overlay",
              "size": 10,
              "solidity": 0.2
             }
            },
            "type": "bar"
           }
          ],
          "barpolar": [
           {
            "marker": {
             "line": {
              "color": "#E5ECF6",
              "width": 0.5
             },
             "pattern": {
              "fillmode": "overlay",
              "size": 10,
              "solidity": 0.2
             }
            },
            "type": "barpolar"
           }
          ],
          "carpet": [
           {
            "aaxis": {
             "endlinecolor": "#2a3f5f",
             "gridcolor": "white",
             "linecolor": "white",
             "minorgridcolor": "white",
             "startlinecolor": "#2a3f5f"
            },
            "baxis": {
             "endlinecolor": "#2a3f5f",
             "gridcolor": "white",
             "linecolor": "white",
             "minorgridcolor": "white",
             "startlinecolor": "#2a3f5f"
            },
            "type": "carpet"
           }
          ],
          "choropleth": [
           {
            "colorbar": {
             "outlinewidth": 0,
             "ticks": ""
            },
            "type": "choropleth"
           }
          ],
          "contour": [
           {
            "colorbar": {
             "outlinewidth": 0,
             "ticks": ""
            },
            "colorscale": [
             [
              0,
              "#0d0887"
             ],
             [
              0.1111111111111111,
              "#46039f"
             ],
             [
              0.2222222222222222,
              "#7201a8"
             ],
             [
              0.3333333333333333,
              "#9c179e"
             ],
             [
              0.4444444444444444,
              "#bd3786"
             ],
             [
              0.5555555555555556,
              "#d8576b"
             ],
             [
              0.6666666666666666,
              "#ed7953"
             ],
             [
              0.7777777777777778,
              "#fb9f3a"
             ],
             [
              0.8888888888888888,
              "#fdca26"
             ],
             [
              1,
              "#f0f921"
             ]
            ],
            "type": "contour"
           }
          ],
          "contourcarpet": [
           {
            "colorbar": {
             "outlinewidth": 0,
             "ticks": ""
            },
            "type": "contourcarpet"
           }
          ],
          "heatmap": [
           {
            "colorbar": {
             "outlinewidth": 0,
             "ticks": ""
            },
            "colorscale": [
             [
              0,
              "#0d0887"
             ],
             [
              0.1111111111111111,
              "#46039f"
             ],
             [
              0.2222222222222222,
              "#7201a8"
             ],
             [
              0.3333333333333333,
              "#9c179e"
             ],
             [
              0.4444444444444444,
              "#bd3786"
             ],
             [
              0.5555555555555556,
              "#d8576b"
             ],
             [
              0.6666666666666666,
              "#ed7953"
             ],
             [
              0.7777777777777778,
              "#fb9f3a"
             ],
             [
              0.8888888888888888,
              "#fdca26"
             ],
             [
              1,
              "#f0f921"
             ]
            ],
            "type": "heatmap"
           }
          ],
          "heatmapgl": [
           {
            "colorbar": {
             "outlinewidth": 0,
             "ticks": ""
            },
            "colorscale": [
             [
              0,
              "#0d0887"
             ],
             [
              0.1111111111111111,
              "#46039f"
             ],
             [
              0.2222222222222222,
              "#7201a8"
             ],
             [
              0.3333333333333333,
              "#9c179e"
             ],
             [
              0.4444444444444444,
              "#bd3786"
             ],
             [
              0.5555555555555556,
              "#d8576b"
             ],
             [
              0.6666666666666666,
              "#ed7953"
             ],
             [
              0.7777777777777778,
              "#fb9f3a"
             ],
             [
              0.8888888888888888,
              "#fdca26"
             ],
             [
              1,
              "#f0f921"
             ]
            ],
            "type": "heatmapgl"
           }
          ],
          "histogram": [
           {
            "marker": {
             "pattern": {
              "fillmode": "overlay",
              "size": 10,
              "solidity": 0.2
             }
            },
            "type": "histogram"
           }
          ],
          "histogram2d": [
           {
            "colorbar": {
             "outlinewidth": 0,
             "ticks": ""
            },
            "colorscale": [
             [
              0,
              "#0d0887"
             ],
             [
              0.1111111111111111,
              "#46039f"
             ],
             [
              0.2222222222222222,
              "#7201a8"
             ],
             [
              0.3333333333333333,
              "#9c179e"
             ],
             [
              0.4444444444444444,
              "#bd3786"
             ],
             [
              0.5555555555555556,
              "#d8576b"
             ],
             [
              0.6666666666666666,
              "#ed7953"
             ],
             [
              0.7777777777777778,
              "#fb9f3a"
             ],
             [
              0.8888888888888888,
              "#fdca26"
             ],
             [
              1,
              "#f0f921"
             ]
            ],
            "type": "histogram2d"
           }
          ],
          "histogram2dcontour": [
           {
            "colorbar": {
             "outlinewidth": 0,
             "ticks": ""
            },
            "colorscale": [
             [
              0,
              "#0d0887"
             ],
             [
              0.1111111111111111,
              "#46039f"
             ],
             [
              0.2222222222222222,
              "#7201a8"
             ],
             [
              0.3333333333333333,
              "#9c179e"
             ],
             [
              0.4444444444444444,
              "#bd3786"
             ],
             [
              0.5555555555555556,
              "#d8576b"
             ],
             [
              0.6666666666666666,
              "#ed7953"
             ],
             [
              0.7777777777777778,
              "#fb9f3a"
             ],
             [
              0.8888888888888888,
              "#fdca26"
             ],
             [
              1,
              "#f0f921"
             ]
            ],
            "type": "histogram2dcontour"
           }
          ],
          "mesh3d": [
           {
            "colorbar": {
             "outlinewidth": 0,
             "ticks": ""
            },
            "type": "mesh3d"
           }
          ],
          "parcoords": [
           {
            "line": {
             "colorbar": {
              "outlinewidth": 0,
              "ticks": ""
             }
            },
            "type": "parcoords"
           }
          ],
          "pie": [
           {
            "automargin": true,
            "type": "pie"
           }
          ],
          "scatter": [
           {
            "fillpattern": {
             "fillmode": "overlay",
             "size": 10,
             "solidity": 0.2
            },
            "type": "scatter"
           }
          ],
          "scatter3d": [
           {
            "line": {
             "colorbar": {
              "outlinewidth": 0,
              "ticks": ""
             }
            },
            "marker": {
             "colorbar": {
              "outlinewidth": 0,
              "ticks": ""
             }
            },
            "type": "scatter3d"
           }
          ],
          "scattercarpet": [
           {
            "marker": {
             "colorbar": {
              "outlinewidth": 0,
              "ticks": ""
             }
            },
            "type": "scattercarpet"
           }
          ],
          "scattergeo": [
           {
            "marker": {
             "colorbar": {
              "outlinewidth": 0,
              "ticks": ""
             }
            },
            "type": "scattergeo"
           }
          ],
          "scattergl": [
           {
            "marker": {
             "colorbar": {
              "outlinewidth": 0,
              "ticks": ""
             }
            },
            "type": "scattergl"
           }
          ],
          "scattermapbox": [
           {
            "marker": {
             "colorbar": {
              "outlinewidth": 0,
              "ticks": ""
             }
            },
            "type": "scattermapbox"
           }
          ],
          "scatterpolar": [
           {
            "marker": {
             "colorbar": {
              "outlinewidth": 0,
              "ticks": ""
             }
            },
            "type": "scatterpolar"
           }
          ],
          "scatterpolargl": [
           {
            "marker": {
             "colorbar": {
              "outlinewidth": 0,
              "ticks": ""
             }
            },
            "type": "scatterpolargl"
           }
          ],
          "scatterternary": [
           {
            "marker": {
             "colorbar": {
              "outlinewidth": 0,
              "ticks": ""
             }
            },
            "type": "scatterternary"
           }
          ],
          "surface": [
           {
            "colorbar": {
             "outlinewidth": 0,
             "ticks": ""
            },
            "colorscale": [
             [
              0,
              "#0d0887"
             ],
             [
              0.1111111111111111,
              "#46039f"
             ],
             [
              0.2222222222222222,
              "#7201a8"
             ],
             [
              0.3333333333333333,
              "#9c179e"
             ],
             [
              0.4444444444444444,
              "#bd3786"
             ],
             [
              0.5555555555555556,
              "#d8576b"
             ],
             [
              0.6666666666666666,
              "#ed7953"
             ],
             [
              0.7777777777777778,
              "#fb9f3a"
             ],
             [
              0.8888888888888888,
              "#fdca26"
             ],
             [
              1,
              "#f0f921"
             ]
            ],
            "type": "surface"
           }
          ],
          "table": [
           {
            "cells": {
             "fill": {
              "color": "#EBF0F8"
             },
             "line": {
              "color": "white"
             }
            },
            "header": {
             "fill": {
              "color": "#C8D4E3"
             },
             "line": {
              "color": "white"
             }
            },
            "type": "table"
           }
          ]
         },
         "layout": {
          "annotationdefaults": {
           "arrowcolor": "#2a3f5f",
           "arrowhead": 0,
           "arrowwidth": 1
          },
          "autotypenumbers": "strict",
          "coloraxis": {
           "colorbar": {
            "outlinewidth": 0,
            "ticks": ""
           }
          },
          "colorscale": {
           "diverging": [
            [
             0,
             "#8e0152"
            ],
            [
             0.1,
             "#c51b7d"
            ],
            [
             0.2,
             "#de77ae"
            ],
            [
             0.3,
             "#f1b6da"
            ],
            [
             0.4,
             "#fde0ef"
            ],
            [
             0.5,
             "#f7f7f7"
            ],
            [
             0.6,
             "#e6f5d0"
            ],
            [
             0.7,
             "#b8e186"
            ],
            [
             0.8,
             "#7fbc41"
            ],
            [
             0.9,
             "#4d9221"
            ],
            [
             1,
             "#276419"
            ]
           ],
           "sequential": [
            [
             0,
             "#0d0887"
            ],
            [
             0.1111111111111111,
             "#46039f"
            ],
            [
             0.2222222222222222,
             "#7201a8"
            ],
            [
             0.3333333333333333,
             "#9c179e"
            ],
            [
             0.4444444444444444,
             "#bd3786"
            ],
            [
             0.5555555555555556,
             "#d8576b"
            ],
            [
             0.6666666666666666,
             "#ed7953"
            ],
            [
             0.7777777777777778,
             "#fb9f3a"
            ],
            [
             0.8888888888888888,
             "#fdca26"
            ],
            [
             1,
             "#f0f921"
            ]
           ],
           "sequentialminus": [
            [
             0,
             "#0d0887"
            ],
            [
             0.1111111111111111,
             "#46039f"
            ],
            [
             0.2222222222222222,
             "#7201a8"
            ],
            [
             0.3333333333333333,
             "#9c179e"
            ],
            [
             0.4444444444444444,
             "#bd3786"
            ],
            [
             0.5555555555555556,
             "#d8576b"
            ],
            [
             0.6666666666666666,
             "#ed7953"
            ],
            [
             0.7777777777777778,
             "#fb9f3a"
            ],
            [
             0.8888888888888888,
             "#fdca26"
            ],
            [
             1,
             "#f0f921"
            ]
           ]
          },
          "colorway": [
           "#636efa",
           "#EF553B",
           "#00cc96",
           "#ab63fa",
           "#FFA15A",
           "#19d3f3",
           "#FF6692",
           "#B6E880",
           "#FF97FF",
           "#FECB52"
          ],
          "font": {
           "color": "#2a3f5f"
          },
          "geo": {
           "bgcolor": "white",
           "lakecolor": "white",
           "landcolor": "#E5ECF6",
           "showlakes": true,
           "showland": true,
           "subunitcolor": "white"
          },
          "hoverlabel": {
           "align": "left"
          },
          "hovermode": "closest",
          "mapbox": {
           "style": "light"
          },
          "paper_bgcolor": "white",
          "plot_bgcolor": "#E5ECF6",
          "polar": {
           "angularaxis": {
            "gridcolor": "white",
            "linecolor": "white",
            "ticks": ""
           },
           "bgcolor": "#E5ECF6",
           "radialaxis": {
            "gridcolor": "white",
            "linecolor": "white",
            "ticks": ""
           }
          },
          "scene": {
           "xaxis": {
            "backgroundcolor": "#E5ECF6",
            "gridcolor": "white",
            "gridwidth": 2,
            "linecolor": "white",
            "showbackground": true,
            "ticks": "",
            "zerolinecolor": "white"
           },
           "yaxis": {
            "backgroundcolor": "#E5ECF6",
            "gridcolor": "white",
            "gridwidth": 2,
            "linecolor": "white",
            "showbackground": true,
            "ticks": "",
            "zerolinecolor": "white"
           },
           "zaxis": {
            "backgroundcolor": "#E5ECF6",
            "gridcolor": "white",
            "gridwidth": 2,
            "linecolor": "white",
            "showbackground": true,
            "ticks": "",
            "zerolinecolor": "white"
           }
          },
          "shapedefaults": {
           "line": {
            "color": "#2a3f5f"
           }
          },
          "ternary": {
           "aaxis": {
            "gridcolor": "white",
            "linecolor": "white",
            "ticks": ""
           },
           "baxis": {
            "gridcolor": "white",
            "linecolor": "white",
            "ticks": ""
           },
           "bgcolor": "#E5ECF6",
           "caxis": {
            "gridcolor": "white",
            "linecolor": "white",
            "ticks": ""
           }
          },
          "title": {
           "x": 0.05
          },
          "xaxis": {
           "automargin": true,
           "gridcolor": "white",
           "linecolor": "white",
           "ticks": "",
           "title": {
            "standoff": 15
           },
           "zerolinecolor": "white",
           "zerolinewidth": 2
          },
          "yaxis": {
           "automargin": true,
           "gridcolor": "white",
           "linecolor": "white",
           "ticks": "",
           "title": {
            "standoff": 15
           },
           "zerolinecolor": "white",
           "zerolinewidth": 2
          }
         }
        },
        "xaxis": {
         "anchor": "y",
         "domain": [
          0,
          1
         ],
         "title": {
          "text": "total_bill"
         }
        },
        "yaxis": {
         "anchor": "x",
         "domain": [
          0,
          1
         ],
         "title": {
          "text": "tip"
         }
        }
       }
      }
     },
     "metadata": {},
     "output_type": "display_data"
    }
   ],
   "source": [
    "pd.options.plotting.backend=\"plotly\"\n",
    "df.plot.scatter(x=\"total_bill\",y=\"tip\")"
   ]
  },
  {
   "cell_type": "markdown",
   "metadata": {},
   "source": [
    "## 1. Train|test split (*)\n",
    "\n",
    "Split the data into training part and testing part, using sklearn's train_test_split with test size of 0.3 and random_state 42."
   ]
  },
  {
   "cell_type": "code",
   "execution_count": 191,
   "metadata": {},
   "outputs": [
    {
     "data": {
      "text/plain": [
       "((170, 2), (74, 2), (170,), (74,))"
      ]
     },
     "execution_count": 191,
     "metadata": {},
     "output_type": "execute_result"
    }
   ],
   "source": [
    "from sklearn.model_selection import train_test_split\n",
    "\n",
    "X, y = df.drop(columns=[\"sex\", \"smoker\", \"day\", \"time\", \"tip\"]), df[\"tip\"]\n",
    "X\n",
    "\n",
    "X_train, X_test, y_train, y_test = train_test_split(X, y, test_size=0.3, random_state=42)\n",
    "\n",
    "X_train.shape, X_test.shape, y_train.shape, y_test.shape"
   ]
  },
  {
   "cell_type": "markdown",
   "metadata": {},
   "source": [
    "---\n",
    "## 2. Feature standardization (*)\n",
    "\n",
    "We need to normalize the data and in this case will be using feature standardization. Implement this yourself following this formula:\n",
    "\n",
    "$$X_{train}' = \\frac{X_{train}-\\mu_{train}}{\\sigma_{train}}$$\n",
    "\n",
    "$$X_{test}' = \\frac{X_{test}-\\mu_{train}}{\\sigma_{train}}$$\n",
    "\n",
    ", where $'$ denotes scaled, $\\mu_{train}$ is the mean of the training data, $\\sigma_{train}$ is the standard deviation of the training data. Note that it is very important that the mean and standard deviation is computed from the training data and not from testing data to avoid data leakage. Control the standard deviation and mean of $X_{train}'$ and $X_{test}'$. Is the results as you expect, why, why not?\n",
    "\n",
    "<details>\n",
    "\n",
    "<summary>Answer</summary>\n",
    "\n",
    "scaled_X_train (total_bill, size) mean: [ 6.79195262e-17 -1.98534000e-16]\n",
    "\n",
    "scaled_X_test (total_bill, size) mean: [-0.19137999 -0.04477934]\n",
    "\n",
    "scaled_X_train (total_bill, size) std: [1. 1.]\n",
    "\n",
    "scaled_X_test (total_bill, size) std: [0.92495673 1.06638889]\n",
    "\n",
    "</details>"
   ]
  },
  {
   "cell_type": "code",
   "execution_count": 192,
   "metadata": {},
   "outputs": [
    {
     "data": {
      "text/plain": [
       "(6.791952621236252e-17, -1.9853399969767506e-16)"
      ]
     },
     "execution_count": 192,
     "metadata": {},
     "output_type": "execute_result"
    }
   ],
   "source": [
    "import numpy as np\n",
    "\n",
    "mean_X_train = X_train.mean()\n",
    "std_X_train = X_train.std()\n",
    "scaled_X_train = (X_train - mean_X_train) / std_X_train # normalisering av X_train\n",
    "\n",
    "mean_X_test = X_test.mean()\n",
    "std_X_test = X_test.std()\n",
    "scaled_X_test = (X_test - mean_X_test) / std_X_test # normalisering av X_test\n",
    "\n",
    "scaled_X_train[\"total_bill\"].mean(), scaled_X_train[\"size\"].mean()"
   ]
  },
  {
   "cell_type": "code",
   "execution_count": 193,
   "metadata": {},
   "outputs": [
    {
     "name": "stdout",
     "output_type": "stream",
     "text": [
      "6.791952621236252e-17 -1.0449157878825003e-16\n",
      "6.791952621236252e-17 -1.0449157878825003e-16\n"
     ]
    }
   ],
   "source": [
    "from sklearn.preprocessing import StandardScaler\n",
    "\"\"\" Standardisera train och test med scikit learn \"\"\"\n",
    "\n",
    "scaler = StandardScaler()\n",
    "scale_X_train = scaler.fit_transform(X_train)\n",
    "scale_X_test = scaler.transform(X_test)\n",
    "\n",
    "print(scale_X_train[:,0].mean(), scale_X_train[:,1].mean())\n",
    "print(np.mean(scale_X_train[:,0]), np.mean(scale_X_train[:,1])) # med numpy"
   ]
  },
  {
   "cell_type": "markdown",
   "metadata": {},
   "source": [
    "---\n",
    "## 3. Polynomial features (*)\n",
    "\n",
    "We want to investigate ```Polynomialfeatures``` from scikit-klearn in this task. Start by instantiating an object of type ```PolynomialFeatures``` with degree 2. Now do the following: \n",
    "\n",
    "- use the method fit on $X_{train}'$\n",
    "- transform $X_{train}'$\n",
    "- transform $X_{test}'$\n",
    "\n",
    "Compare this transformed $X_{test}'$ with $X_{test}''$ where $X_{test}''$ comes from fitting the polynomial features to $X_{test}'$ and transforming $X_{test}'$. You can check directly by using ```==``` and then sum it up. If the value is same as the length, then you know that they are the same, as a boolean True evaluates to 1. \n"
   ]
  },
  {
   "cell_type": "code",
   "execution_count": 194,
   "metadata": {},
   "outputs": [
    {
     "name": "stdout",
     "output_type": "stream",
     "text": [
      "(170, 2) (170, 6)\n",
      "Matching element False\n"
     ]
    }
   ],
   "source": [
    "from sklearn.preprocessing import PolynomialFeatures\n",
    "\n",
    "poly_feature = PolynomialFeatures(degree= 2)\n",
    "poly_X_train = poly_feature.fit_transform(scale_X_train)\n",
    "poly_X_test = poly_feature.transform(scale_X_test)\n",
    "\n",
    "# print(poly_X_train.shape, poly_X_test.shape)\n",
    "print(scale_X_train.shape, poly_X_train.shape)\n",
    "\n",
    "compare = scale_X_train == poly_X_train[:,:2]\n",
    "print(\"Matching element\", compare.all())"
   ]
  },
  {
   "cell_type": "markdown",
   "metadata": {},
   "source": [
    "---\n",
    "## 4. Polynomial regression  (*)\n",
    "\n",
    "We will now investigate the training loss and testing loss for different degrees of polynomial. Loop through degrees 1 to 4 (inclusive) and:\n",
    "- instantiate an object of PolynomialFeatures with that degree\n",
    "- fit and transform $X_{train}'$ and $X_{test}$ to create polynomial features\n",
    "- perform linear regression on these polynomial features (polynomial regression)\n",
    "- predict on both the training and testing data to record RMSE for training and testing for each iteration of the loop\n",
    "\n",
    "Now plot the results in the same figure. Do you notice anything special? \n",
    "\n",
    "<details>\n",
    "\n",
    "<summary>Answer</summary>\n",
    "\n",
    "<img src=\"../assets/E3_overfitting.png\" height=\"300\"/>\n",
    "\n",
    "</details>"
   ]
  },
  {
   "cell_type": "code",
   "execution_count": 195,
   "metadata": {},
   "outputs": [
    {
     "data": {
      "image/png": "[encoded data removed]",
      "text/plain": [
       "<Figure size 640x480 with 1 Axes>"
      ]
     },
     "metadata": {},
     "output_type": "display_data"
    }
   ],
   "source": [
    "from sklearn.linear_model import LinearRegression\n",
    "from sklearn.metrics import mean_squared_error\n",
    "\n",
    "def poly_regression(scale_X_train, X_test, y_train, y_test):\n",
    "    train_rmse = []\n",
    "    test_rmse = []\n",
    "    deg = (1,2,3,4)\n",
    "\n",
    "    for i in deg:\n",
    "        poly_features = PolynomialFeatures(degree=i)\n",
    "\n",
    "\n",
    "        poly_X_train = poly_features.fit_transform(scale_X_train)\n",
    "        poly_X_test = poly_features.transform(scale_X_test) # borde det inte vara X_test här?\n",
    "\n",
    "        model = LinearRegression()\n",
    "        model.fit(poly_X_train, y_train)\n",
    "\n",
    "        y_pred_psX_train = model.predict(poly_X_train)\n",
    "        y_pred = model.predict(poly_X_test)\n",
    "        \n",
    "        psX_train_RMSE = np.sqrt(mean_squared_error(y_train, y_pred_psX_train))\n",
    "        test_RMSE = np.sqrt(mean_squared_error(y_test, y_pred))\n",
    "\n",
    "        train_rmse.append(psX_train_RMSE)\n",
    "        test_rmse.append(test_RMSE)\n",
    "    \n",
    "    return train_rmse,test_rmse\n",
    "\n",
    "train_rmse, test_rmse = poly_regression(scale_X_train, X_test, y_train, y_test)\n",
    "\n",
    "train_rmse, test_rmse\n",
    "plt.plot(range(1,5), train_rmse, label=\"Training\")\n",
    "plt.plot(range(1,5), test_rmse, label=\"Test\")\n",
    "plt.xlabel(\"Degrees of polynomial\")\n",
    "plt.ylabel(\"Loss\")\n",
    "plt.legend()\n",
    "plt.show()\n",
    "\n",
    "\n"
   ]
  },
  {
   "cell_type": "markdown",
   "metadata": {},
   "source": [
    "---\n",
    "## 5. Regularization methods (*)\n",
    "\n",
    "Now we will try the regularization methods: ridge regression, lasso regression and elasticnet regression. In the following tasks, use degree = 4. \n",
    "\n",
    "&nbsp; a) Use ridge regression with cross-validation and test out different alpha-values. I used $\\alpha=[0.01, 0.1, 0.5, 1, 5, 10]$ in the cross-validation. \n",
    "- Check which alpha, that the cross-validation chose as the best one. \n",
    "- Check the weights.\n",
    "- Check MAE, MSE, RMSE.\n",
    "\n",
    "&nbsp; b) Use lasso regression with cross-validation and choose number of alphas to 100. If you get a warning that the algorithm is not converging, increase the max iterations, I chose 10000 iterations. \n",
    "- Check which alpha, that the cross-validation chose as the best one. \n",
    "- Check the weights.\n",
    "- Check MAE, MSE, RMSE.\n",
    "\n",
    "&nbsp; c) Use elasticnet regression with cross-validation and choose number of alphas to 100. If you get a warning that the algorithm is not converging, increase the max iterations, I chose 10000 iterations. Choose a set of $\\ell_1$ ratios for it to try out. I chose $\\ell_1 = [.001, .01, .05, .1, .5, .9, .95, 1]$\n",
    "- Check which alpha, that the cross-validation chose as the best one. \n",
    "- Check the weights.\n",
    "- Check MAE, MSE, RMSE.\n",
    "\n",
    "<details>\n",
    "\n",
    "<summary>Answer</summary>\n",
    "\n",
    "a) \n",
    "\n",
    "Chosen alpha from cross-validation 5.0\n",
    "\n",
    "Weights: [ 0.          0.91469637  0.23893931 -0.67583593  0.20550801 -0.01369317\n",
    " -0.26007685  0.31867863 -0.03429744 -0.12484035  0.16000319 -0.18105113\n",
    "  0.24878399 -0.12692847  0.05002613]\n",
    "\n",
    "Mean absolute error: 0.831\n",
    "\n",
    "Mean squared error: 2.208\n",
    "\n",
    "Root mean squared error: 1.486\n",
    "\n",
    "b) \n",
    "\n",
    "Chosen alpha from cross-validation 0.208\n",
    "\n",
    "Weights: [ 0.          0.23469707  0.         -0.         -0.          0.\n",
    "  0.08814685  0.09735986  0.          0.03219702  0.          0.\n",
    "  0.         -0.          0.        ]\n",
    "\n",
    "Mean absolute error: 0.823\n",
    "\n",
    "Mean squared error: 1.345\n",
    "\n",
    "Root mean squared error: 1.160\n",
    "\n",
    "c)\n",
    "\n",
    "Chosen alpha from cross-validation 0.107\n",
    "\n",
    "Mean absolute error: 0.761\n",
    "\n",
    "Root mean squared error: 1.139\n",
    "\n",
    "L1_ratio: 0.9\n",
    "\n",
    "Weights: [ 0.          0.23469707  0.         -0.         -0.          0.\n",
    "  0.08814685  0.09735986  0.          0.03219702  0.          0.\n",
    "  0.         -0.          0.        ]\n",
    "\n",
    "\n",
    "</details>"
   ]
  },
  {
   "cell_type": "code",
   "execution_count": 196,
   "metadata": {},
   "outputs": [
    {
     "name": "stdout",
     "output_type": "stream",
     "text": [
      "Best alpha choosen by RidgeCV: 5.0\n",
      "[ 0.          0.91433889  0.23803646 -0.67393371  0.20651601 -0.01502712\n",
      " -0.25974303  0.31834213 -0.03541485 -0.12391278  0.1589648  -0.18093215\n",
      "  0.24867839 -0.12671385  0.04977343]\n",
      "Testing MAE: 0.83\n",
      "Testing MSE: 2.22\n",
      "Testing RMSE: 1.49\n"
     ]
    }
   ],
   "source": [
    "#a)\n",
    "from sklearn.linear_model import RidgeCV\n",
    "from sklearn.metrics import mean_squared_error, mean_absolute_error\n",
    "\n",
    "def ridge_regressionCV(scale_X_train, scale_X_test, y_train, y_test):\n",
    "\n",
    "    poly_feature = PolynomialFeatures(degree= 4) # 4e grads funktioner (inkl interaktionstermerna)\n",
    "    X_poly_train = poly_feature.fit_transform(scale_X_train) # anpassar och omvandlar scaled träningsdata\n",
    "    X_poly_test = poly_feature.transform(scale_X_test) # omvandlar testdata till polynomfunktioner\n",
    "\n",
    "    alphas = [0.01, 0.1, 0.5, 1, 5, 10]\n",
    "\n",
    "    model_ridge = RidgeCV(alphas=alphas, store_cv_results=True) # Inbyggd krossvalidering och Store som lagrar resultaten och undersöker hur varje alpha presterar.\n",
    "    model_ridge.fit(X_poly_train, y_train) # Tränar träningsdata\n",
    "\n",
    "    best_alpha = model_ridge.alpha_ # RidgeCV lagrar bästa alpha värdet när modellen är tränad.\n",
    "\n",
    "    y_pred = model_ridge.predict(X_poly_test)\n",
    "    MAE = mean_absolute_error(y_test, y_pred)\n",
    "    MSE = mean_squared_error(y_test, y_pred)\n",
    "    RMSE = np.sqrt(MSE)\n",
    "\n",
    "    ridge_weight = model_ridge.coef_ # coef_ hämtar koefficinterna (vikterna) för varje funktion (både orginala och poly funktioner). Vikterna representerar hur mycket varje funktion bidrar till modellens prediktion.\n",
    "\n",
    "    print(f\"Best alpha choosen by RidgeCV: {best_alpha}\")\n",
    "    print(ridge_weight)\n",
    "    print(f\"Testing MAE: {MAE:.2f}\")\n",
    "    print(f\"Testing MSE: {MSE:.2f}\")\n",
    "    print(f\"Testing RMSE: {RMSE:.2f}\")\n",
    "\n",
    "ridge_regressionCV(scale_X_train, scale_X_test, y_train, y_test)"
   ]
  },
  {
   "cell_type": "code",
   "execution_count": 197,
   "metadata": {},
   "outputs": [
    {
     "name": "stdout",
     "output_type": "stream",
     "text": [
      "Best alpha choosen by LassoCV: 0.2101676095425171\n",
      "[ 0.          0.2295082   0.         -0.         -0.          0.\n",
      "  0.08795486  0.09662404  0.          0.03202518  0.          0.\n",
      "  0.         -0.          0.        ]\n",
      "Testing MAE: 0.82\n",
      "Testing MSE: 1.35\n",
      "Testing RMSE: 1.16\n"
     ]
    }
   ],
   "source": [
    "#b)\n",
    "from sklearn.linear_model import LassoCV\n",
    "\n",
    "def lasso_regression(scale_X_train, scale_X_test, y_train, y_test):\n",
    "\n",
    "    poly_feature = PolynomialFeatures(degree=4)\n",
    "    X_poly_train = poly_feature.fit_transform(scale_X_train)\n",
    "    X_poly_test = poly_feature.transform(scale_X_test)\n",
    "\n",
    "    model_lassoCV = LassoCV(eps=0.001, n_alphas=100, max_iter=10000, cv=5)\n",
    "    model_lassoCV.fit(X_poly_train, y_train)\n",
    "\n",
    "    best_alpha = model_lassoCV.alpha_\n",
    "\n",
    "    y_pred = model_lassoCV.predict(X_poly_test)\n",
    "\n",
    "    MAE = mean_absolute_error(y_test, y_pred)\n",
    "    MSE = mean_squared_error(y_test, y_pred)\n",
    "    RMSE = np.sqrt(MSE)\n",
    "\n",
    "    lasso_weights = model_lassoCV.coef_\n",
    "\n",
    "    print(f\"Best alpha choosen by LassoCV: {best_alpha}\")\n",
    "    print(lasso_weights)\n",
    "    print(f\"Testing MAE: {MAE:.2f}\")\n",
    "    print(f\"Testing MSE: {MSE:.2f}\")\n",
    "    print(f\"Testing RMSE: {RMSE:.2f}\")\n",
    "\n",
    "lasso_regression(scale_X_train, scale_X_test, y_train, y_test)"
   ]
  },
  {
   "cell_type": "code",
   "execution_count": 201,
   "metadata": {},
   "outputs": [
    {
     "name": "stdout",
     "output_type": "stream",
     "text": [
      "Best l1 choosen by ElasticNetCV: 0.9\n",
      "Best alpha choosen by ElasticNetCV: 0.10839018107107092\n",
      "[ 0.          0.51628455  0.09794359 -0.2112758   0.          0.\n",
      "  0.          0.11342458  0.          0.01797787  0.03695473  0.\n",
      "  0.          0.          0.        ]\n",
      "Testing MAE: 0.76\n",
      "Testing MSE: 1.30\n",
      "Testing RMSE: 1.14\n"
     ]
    }
   ],
   "source": [
    "from sklearn.linear_model import ElasticNetCV\n",
    "\n",
    "# c)\n",
    "\n",
    "def elasticnet_regression(scale_X_train, scale_X_test, y_train, y_test):\n",
    "\n",
    "    poly_feature = PolynomialFeatures(degree=4)\n",
    "    X_poly_train = poly_feature.fit_transform(scale_X_train)\n",
    "    X_poly_test = poly_feature.transform(scale_X_test)\n",
    "\n",
    "    model_elasticnetCV = ElasticNetCV(l1_ratio=[0.001, 0.01, 0.05, .1, .5, .9, .95, 1], eps=0.001, n_alphas=100, max_iter=10000)\n",
    "    model_elasticnetCV.fit(X_poly_train, y_train)\n",
    "\n",
    "    best_l1 = model_elasticnetCV.l1_ratio_\n",
    "    best_alpha = model_elasticnetCV.alpha_\n",
    "\n",
    "    y_pred = model_elasticnetCV.predict(X_poly_test)\n",
    "\n",
    "    MAE = mean_absolute_error(y_test, y_pred)\n",
    "    MSE = mean_squared_error(y_test, y_pred)\n",
    "    RMSE = np.sqrt(MSE)\n",
    "\n",
    "    elasticnet_weights = model_elasticnetCV.coef_\n",
    "\n",
    "    print(f\"Best l1 choosen by ElasticNetCV: {best_l1}\")\n",
    "    print(f\"Best alpha choosen by ElasticNetCV: {best_alpha}\")\n",
    "\n",
    "    print(elasticnet_weights)\n",
    "    print(f\"Testing MAE: {MAE:.2f}\")\n",
    "    print(f\"Testing MSE: {MSE:.2f}\")\n",
    "    print(f\"Testing RMSE: {RMSE:.2f}\")\n",
    "\n",
    "elasticnet_regression(scale_X_train, scale_X_test, y_train, y_test)"
   ]
  },
  {
   "cell_type": "markdown",
   "metadata": {},
   "source": [
    "---\n",
    "\n",
    "Kokchun Giang\n",
    "\n",
    "[LinkedIn][linkedIn_kokchun]\n",
    "\n",
    "[GitHub portfolio][github_portfolio]\n",
    "\n",
    "[linkedIn_kokchun]: https://www.linkedin.com/in/kokchungiang/\n",
    "[github_portfolio]: https://github.com/kokchun/Portfolio-Kokchun-Giang\n",
    "\n",
    "---"
   ]
  }
 ],
 "metadata": {
  "kernelspec": {
   "display_name": ".venv",
   "language": "python",
   "name": "python3"
  },
  "language_info": {
   "codemirror_mode": {
    "name": "ipython",
    "version": 3
   },
   "file_extension": ".py",
   "mimetype": "text/x-python",
   "name": "python",
   "nbconvert_exporter": "python",
   "pygments_lexer": "ipython3",
   "version": "3.11.9"
  },
  "orig_nbformat": 4
 },
 "nbformat": 4,
 "nbformat_minor": 2
}
