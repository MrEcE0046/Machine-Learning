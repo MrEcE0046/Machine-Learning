{
 "cells": [
  {
   "cell_type": "code",
   "execution_count": null,
   "metadata": {},
   "outputs": [],
   "source": [
    "import numpy as np\n",
    "import matplotlib.pyplot as plt\n",
    "\n",
    "def ground_truth(x):\n",
    "    return np.square(x) + .5*x + 3\n",
    "\n",
    "def draw_data(X, y):\n",
    "    fix, ax = plt.figure(dpi=100), plt.axes()\n",
    "    ax.plot(X, y, \".\", label=\"Data\")\n",
    "\n",
    "    x = np.linspace(-3, 3, samples)\n",
    "    ax.plot(x, ground_truth(x), label=\"Ground Truth\")\n",
    "\n",
    "    ax.set(title=\"$y=x^2 + \")"
   ]
  },
  {
   "cell_type": "code",
   "execution_count": null,
   "metadata": {},
   "outputs": [],
   "source": [
    "from sklearn.preprocessing import PolynomialFeatures\n",
    "\n",
    "poly = PolynomialFeatures(degree= 2, include_bias=False)\n",
    "\n",
    "poly_features = poly.fit_transform(X)\n",
    "\n",
    "poly_features[:4, X[:4], np.square(X[:4])]"
   ]
  },
  {
   "cell_type": "code",
   "execution_count": null,
   "metadata": {},
   "outputs": [],
   "source": [
    "from sklearn.linear_model import LinearRegression\n",
    "\n",
    "model = LinearRegression\n",
    "model.fit(poly_features, y)\n",
    "\n",
    "model.coef_, model.intercept_"
   ]
  },
  {
   "cell_type": "code",
   "execution_count": null,
   "metadata": {},
   "outputs": [],
   "source": []
  }
 ],
 "metadata": {
  "kernelspec": {
   "display_name": ".venv",
   "language": "python",
   "name": "python3"
  },
  "language_info": {
   "name": "python",
   "version": "3.11.9"
  }
 },
 "nbformat": 4,
 "nbformat_minor": 2
}
