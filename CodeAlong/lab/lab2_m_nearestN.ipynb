{
 "cells": [
  {
   "cell_type": "code",
   "execution_count": 1,
   "metadata": {},
   "outputs": [],
   "source": [
    "import pandas as pd\n",
    "from scipy.sparse import csr_matrix\n",
    "\n",
    "\n",
    "tags = pd.read_csv(\"tags.csv\")\n",
    "movies = pd.read_csv(\"movies.csv\")\n",
    "ratings = pd.read_csv(\"ratings.csv\")"
   ]
  },
  {
   "cell_type": "code",
   "execution_count": 2,
   "metadata": {},
   "outputs": [
    {
     "data": {
      "application/vnd.microsoft.datawrangler.viewer.v0+json": {
       "columns": [
        {
         "name": "index",
         "rawType": "int64",
         "type": "integer"
        },
        {
         "name": "movieId",
         "rawType": "int64",
         "type": "integer"
        },
        {
         "name": "title",
         "rawType": "object",
         "type": "string"
        },
        {
         "name": "genres",
         "rawType": "object",
         "type": "string"
        }
       ],
       "conversionMethod": "pd.DataFrame",
       "ref": "162ac3c3-572f-473e-8ee1-ce86b16e5d5d",
       "rows": [
        [
         "0",
         "1",
         "Toy Story (1995)",
         "Adventure Animation Children Comedy Fantasy"
        ],
        [
         "1",
         "2",
         "Jumanji (1995)",
         "Adventure Children Fantasy"
        ],
        [
         "2",
         "3",
         "Grumpier Old Men (1995)",
         "Comedy Romance"
        ],
        [
         "3",
         "4",
         "Waiting to Exhale (1995)",
         "Comedy Drama Romance"
        ],
        [
         "4",
         "5",
         "Father of the Bride Part II (1995)",
         "Comedy"
        ],
        [
         "5",
         "6",
         "Heat (1995)",
         "Action Crime Thriller"
        ],
        [
         "6",
         "7",
         "Sabrina (1995)",
         "Comedy Romance"
        ],
        [
         "7",
         "8",
         "Tom and Huck (1995)",
         "Adventure Children"
        ],
        [
         "8",
         "9",
         "Sudden Death (1995)",
         "Action"
        ],
        [
         "9",
         "10",
         "GoldenEye (1995)",
         "Action Adventure Thriller"
        ],
        [
         "10",
         "11",
         "American President, The (1995)",
         "Comedy Drama Romance"
        ],
        [
         "11",
         "12",
         "Dracula: Dead and Loving It (1995)",
         "Comedy Horror"
        ],
        [
         "12",
         "13",
         "Balto (1995)",
         "Adventure Animation Children"
        ],
        [
         "13",
         "14",
         "Nixon (1995)",
         "Drama"
        ],
        [
         "14",
         "15",
         "Cutthroat Island (1995)",
         "Action Adventure Romance"
        ],
        [
         "15",
         "16",
         "Casino (1995)",
         "Crime Drama"
        ],
        [
         "16",
         "17",
         "Sense and Sensibility (1995)",
         "Drama Romance"
        ],
        [
         "17",
         "18",
         "Four Rooms (1995)",
         "Comedy"
        ],
        [
         "18",
         "19",
         "Ace Ventura: When Nature Calls (1995)",
         "Comedy"
        ],
        [
         "19",
         "20",
         "Money Train (1995)",
         "Action Comedy Crime Drama Thriller"
        ],
        [
         "20",
         "21",
         "Get Shorty (1995)",
         "Comedy Crime Thriller"
        ],
        [
         "21",
         "22",
         "Copycat (1995)",
         "Crime Drama Horror Mystery Thriller"
        ],
        [
         "22",
         "23",
         "Assassins (1995)",
         "Action Crime Thriller"
        ],
        [
         "23",
         "24",
         "Powder (1995)",
         "Drama Sci-Fi"
        ],
        [
         "24",
         "25",
         "Leaving Las Vegas (1995)",
         "Drama Romance"
        ],
        [
         "25",
         "26",
         "Othello (1995)",
         "Drama"
        ],
        [
         "26",
         "27",
         "Now and Then (1995)",
         "Children Drama"
        ],
        [
         "27",
         "28",
         "Persuasion (1995)",
         "Drama Romance"
        ],
        [
         "28",
         "29",
         "City of Lost Children, The (Cité des enfants perdus, La) (1995)",
         "Adventure Drama Fantasy Mystery Sci-Fi"
        ],
        [
         "29",
         "30",
         "Shanghai Triad (Yao a yao yao dao waipo qiao) (1995)",
         "Crime Drama"
        ],
        [
         "30",
         "31",
         "Dangerous Minds (1995)",
         "Drama"
        ],
        [
         "31",
         "32",
         "Twelve Monkeys (a.k.a. 12 Monkeys) (1995)",
         "Mystery Sci-Fi Thriller"
        ],
        [
         "32",
         "33",
         "Wings of Courage (1995)",
         "Adventure Romance IMAX"
        ],
        [
         "33",
         "34",
         "Babe (1995)",
         "Children Drama"
        ],
        [
         "34",
         "35",
         "Carrington (1995)",
         "Drama Romance"
        ],
        [
         "35",
         "36",
         "Dead Man Walking (1995)",
         "Crime Drama"
        ],
        [
         "36",
         "37",
         "Across the Sea of Time (1995)",
         "Documentary IMAX"
        ],
        [
         "37",
         "38",
         "It Takes Two (1995)",
         "Children Comedy"
        ],
        [
         "38",
         "39",
         "Clueless (1995)",
         "Comedy Romance"
        ],
        [
         "39",
         "40",
         "Cry, the Beloved Country (1995)",
         "Drama"
        ],
        [
         "40",
         "41",
         "Richard III (1995)",
         "Drama War"
        ],
        [
         "41",
         "42",
         "Dead Presidents (1995)",
         "Action Crime Drama"
        ],
        [
         "42",
         "43",
         "Restoration (1995)",
         "Drama"
        ],
        [
         "43",
         "44",
         "Mortal Kombat (1995)",
         "Action Adventure Fantasy"
        ],
        [
         "44",
         "45",
         "To Die For (1995)",
         "Comedy Drama Thriller"
        ],
        [
         "45",
         "46",
         "How to Make an American Quilt (1995)",
         "Drama Romance"
        ],
        [
         "46",
         "47",
         "Seven (a.k.a. Se7en) (1995)",
         "Mystery Thriller"
        ],
        [
         "47",
         "48",
         "Pocahontas (1995)",
         "Animation Children Drama Musical Romance"
        ],
        [
         "48",
         "49",
         "When Night Is Falling (1995)",
         "Drama Romance"
        ],
        [
         "49",
         "50",
         "Usual Suspects, The (1995)",
         "Crime Mystery Thriller"
        ]
       ],
       "shape": {
        "columns": 3,
        "rows": 86537
       }
      },
      "text/html": [
       "<div>\n",
       "<style scoped>\n",
       "    .dataframe tbody tr th:only-of-type {\n",
       "        vertical-align: middle;\n",
       "    }\n",
       "\n",
       "    .dataframe tbody tr th {\n",
       "        vertical-align: top;\n",
       "    }\n",
       "\n",
       "    .dataframe thead th {\n",
       "        text-align: right;\n",
       "    }\n",
       "</style>\n",
       "<table border=\"1\" class=\"dataframe\">\n",
       "  <thead>\n",
       "    <tr style=\"text-align: right;\">\n",
       "      <th></th>\n",
       "      <th>movieId</th>\n",
       "      <th>title</th>\n",
       "      <th>genres</th>\n",
       "    </tr>\n",
       "  </thead>\n",
       "  <tbody>\n",
       "    <tr>\n",
       "      <th>0</th>\n",
       "      <td>1</td>\n",
       "      <td>Toy Story (1995)</td>\n",
       "      <td>Adventure Animation Children Comedy Fantasy</td>\n",
       "    </tr>\n",
       "    <tr>\n",
       "      <th>1</th>\n",
       "      <td>2</td>\n",
       "      <td>Jumanji (1995)</td>\n",
       "      <td>Adventure Children Fantasy</td>\n",
       "    </tr>\n",
       "    <tr>\n",
       "      <th>2</th>\n",
       "      <td>3</td>\n",
       "      <td>Grumpier Old Men (1995)</td>\n",
       "      <td>Comedy Romance</td>\n",
       "    </tr>\n",
       "    <tr>\n",
       "      <th>3</th>\n",
       "      <td>4</td>\n",
       "      <td>Waiting to Exhale (1995)</td>\n",
       "      <td>Comedy Drama Romance</td>\n",
       "    </tr>\n",
       "    <tr>\n",
       "      <th>4</th>\n",
       "      <td>5</td>\n",
       "      <td>Father of the Bride Part II (1995)</td>\n",
       "      <td>Comedy</td>\n",
       "    </tr>\n",
       "    <tr>\n",
       "      <th>...</th>\n",
       "      <td>...</td>\n",
       "      <td>...</td>\n",
       "      <td>...</td>\n",
       "    </tr>\n",
       "    <tr>\n",
       "      <th>86532</th>\n",
       "      <td>288967</td>\n",
       "      <td>State of Siege: Temple Attack (2021)</td>\n",
       "      <td>Action Drama</td>\n",
       "    </tr>\n",
       "    <tr>\n",
       "      <th>86533</th>\n",
       "      <td>288971</td>\n",
       "      <td>Ouija Japan (2021)</td>\n",
       "      <td>Action Horror</td>\n",
       "    </tr>\n",
       "    <tr>\n",
       "      <th>86534</th>\n",
       "      <td>288975</td>\n",
       "      <td>The Men Who Made the Movies: Howard Hawks (1973)</td>\n",
       "      <td>Documentary</td>\n",
       "    </tr>\n",
       "    <tr>\n",
       "      <th>86535</th>\n",
       "      <td>288977</td>\n",
       "      <td>Skinford: Death Sentence (2023)</td>\n",
       "      <td>Crime Thriller</td>\n",
       "    </tr>\n",
       "    <tr>\n",
       "      <th>86536</th>\n",
       "      <td>288983</td>\n",
       "      <td>UNZIPPED: An Autopsy of American Inequality (2...</td>\n",
       "      <td>Documentary</td>\n",
       "    </tr>\n",
       "  </tbody>\n",
       "</table>\n",
       "<p>86537 rows × 3 columns</p>\n",
       "</div>"
      ],
      "text/plain": [
       "       movieId                                              title  \\\n",
       "0            1                                   Toy Story (1995)   \n",
       "1            2                                     Jumanji (1995)   \n",
       "2            3                            Grumpier Old Men (1995)   \n",
       "3            4                           Waiting to Exhale (1995)   \n",
       "4            5                 Father of the Bride Part II (1995)   \n",
       "...        ...                                                ...   \n",
       "86532   288967               State of Siege: Temple Attack (2021)   \n",
       "86533   288971                                 Ouija Japan (2021)   \n",
       "86534   288975   The Men Who Made the Movies: Howard Hawks (1973)   \n",
       "86535   288977                    Skinford: Death Sentence (2023)   \n",
       "86536   288983  UNZIPPED: An Autopsy of American Inequality (2...   \n",
       "\n",
       "                                            genres  \n",
       "0      Adventure Animation Children Comedy Fantasy  \n",
       "1                       Adventure Children Fantasy  \n",
       "2                                   Comedy Romance  \n",
       "3                             Comedy Drama Romance  \n",
       "4                                           Comedy  \n",
       "...                                            ...  \n",
       "86532                                 Action Drama  \n",
       "86533                                Action Horror  \n",
       "86534                                  Documentary  \n",
       "86535                               Crime Thriller  \n",
       "86536                                  Documentary  \n",
       "\n",
       "[86537 rows x 3 columns]"
      ]
     },
     "execution_count": 2,
     "metadata": {},
     "output_type": "execute_result"
    }
   ],
   "source": [
    "movies[\"genres\"] = movies[\"genres\"].str.replace(\"|\", \" \", regex=False)\n",
    "movies"
   ]
  },
  {
   "cell_type": "code",
   "execution_count": 3,
   "metadata": {},
   "outputs": [],
   "source": [
    "# filtererad_data = tags[tags[\"tag\"].str.contains(\"^[a-zA-Z]+$\", na=False)]\n",
    "tags = tags[tags['tag'].apply(lambda x: isinstance(x, str))]\n",
    "# tags"
   ]
  },
  {
   "cell_type": "code",
   "execution_count": 4,
   "metadata": {},
   "outputs": [
    {
     "data": {
      "application/vnd.microsoft.datawrangler.viewer.v0+json": {
       "columns": [
        {
         "name": "index",
         "rawType": "int64",
         "type": "integer"
        },
        {
         "name": "movieId",
         "rawType": "int64",
         "type": "integer"
        },
        {
         "name": "tag",
         "rawType": "object",
         "type": "string"
        }
       ],
       "conversionMethod": "pd.DataFrame",
       "ref": "458b2ef2-93f1-4424-86a1-49e0a3f72085",
       "rows": [
        [
         "0",
         "1",
         "emotional Os dois viram loyal friend remote controlled toy car match piggy bank double prize falling out a window CGI ss DARING RESCUES game of life board game toy comes to life family film nostalgic tim allen fun child antagonist Family cartoon falling from height anthropomorphism cowboy doll Best of Rotten Tomatoes: All Time buy male villain disney rescue dachshund sunroof cowboy ramp voice acting false accusation fishing rod light hearted buzz lightyear character buddy movie Toy Story cowboy boot toy tea set UNLIKELY FRIENDSHIPS spaceman toy buddy reflection é˜®ä¸€é¸£ Animation  want to see again biohazard sign claw crane funny animated fictional tv commercial scene during opening credits first of trilogy bedroom child's birthday party family dart mutant toy cgi animation envy ringing a doorbell hat bad guy touching story laughter woody character porcelain National Film Registry enemies become friends CG animation animmation joss whedon kids and family childish fireplace mr potato head low fantasy playskool soothing pterodactyl talking to a toy BD-Video suburb house yelling catchphrase crate dog encouragement antenna friend rejection action figure tough guy staircase turbo boost computer generated imagery jumping through a sunroof lovable characters karate comic hero bo peep character running calling someone an idiot toy dinosaur villain Pixar Pixar animation child villain accepting reality action famous song exciting plot toys radio controlled backfire digital comedy gratitude dental braces etch a sketch signature favoritism selflessness Buzz Lightyear brother sister relationship fantasy kids movie comeuppance poster talking toy globe anthropomorphic toy birthday present battery technological marvel new home unny ohio pet as gift thunderstorm 55 movies every kid should see--Entertainment Weekly utah teapot sliding down a banister computer animation Comedy  Animation Tom Hanks car classic twister the game subjective camera 3d parachute shark arcade erlend's DVDs toyota little boy scheming Tumey's VHS birthday party surprise ending time travel learning a lesson spacesuit neighbor Engaging teamwork self awareness Oscar (Special Achievement) scene before opening credits delivery new toy slow motion scene two word title locked in skateboard gliding pizza van title spoken by character pizzeria bull terrier wilhelm scream lots of heart national film registry asking directions 3 dimensional toy robot recliner chair surgical mask fear Owned good animation lifting a female into the air jack in the box ad for toys jealousy violence depression squeeze toy x291-LIVE-John Lasseter toybox arcade game toolbox Tumey's To See Again Tim Allen fun family movie toyota truck tom hanks karate chop friends battleship game male protagonist mr. potato head character card game forced puns  sleeping dog redemption American Animation mixed soundtrack first part CLV cute itaege baby christmas fight flashlight hockey puck urban setting martial arts water bright audio flashback cartoon dog soundtrack loyalty 1990s directorial debut affection walkie talkie lipstick on face doorbell home first of series innovative remorse package christmas present commercial feel-good boy next door candy land the board game Watched unlikely friendships face mask frustration toy animal rain shed Woody blinds tyrannosaurus rex animated single mother dog as gift window arm mother son relationship storage shed ventilation shaft humorous falling from a window child bully resourcefulness rousing monsters looking out a window rocket famous line very good reference to mattel story telling someone to shut up bully comeuppance TÃ©a Leoni does not star in this movie male antagonist pixar part of trilogy villian hurts toys doll reconnaissance mission mission reference to marie antoinette DVD-Video HEROIC MISSION wallpaper nesting egg CGI classic rated-G rag doll elementary school girl sheriff pet dog Want 2009 reissue in Stereoscopic 3-D leggings troubled production neighborhood time lapse photography fanciful family relationships baby monitor confrontation great movie child's birthday character's point of view camera shot Cartoon escape attempt troll doll banister original story Oscar (Best Picture) binoculars so funny blockbuster chrysler automobile mockery corkboard escape plastic army men light adventure shepherdess beautiful surrounded boy soldier children desk 3D famous score whimsica magnifying glass toy dog child's bedroom moving pull string doll meeting animated dog fistfight burn child destroys own toy shivering view through binoculars bouncy ball visual pun sci-fi microphone backyard rival operation game gas station brawl thunder TOYS COME TO LIFE https://movielens.org/tag/:animation kids rainy day watchlist fast and a furious ballet flats moving van sunlight almost favorite dinosaur space explorer cartoon showdown astronaut very nice pliers birthday heartfelt medical mask chased by a dog lifting someone into the air dolls hasbro bullying dartboard internal logic fails chrysler lebaron convertible animation friendship space ranger christmas day cgi cult film clock explosion jumping from height interesting Disney animated feature good cartoon chindren push button first cgi film unusual friendship children cartoon seatbelt little girl ya boy witty imdb top 250 van alien misunderstanding funny lines child destroys another's toy clever warm slinky dog talking in one's sleep John Lasseter mattel brat toy story doubt gift rescue mission torture guilty conscience good time magic 8 ball the boys avi cult favorite hero's journey Disney love interest toy soldier toy fire truck car crash mouth USA bed toys played flying threat chasing a truck television commercial apology weightlifting favorite hero action figures rivalry product placement dead battery"
        ],
        [
         "1",
         "2",
         "pigtails plant discount store namesake dybbuk box childhood reference to wilt chamberlain Kirsten Dunst disappearance car through wall handcuffs underwater scene investment banker trapped in a game brochure 1860s multiple versions of the same character conveyor belt new hampshire stampede footwear predator prey Fantasy night rampage suitcase driving a car into a building pelican family jungle adventure quicksand reference to libra the constellation elephant male police officer perilous escape real estate agent Chris Van Allsburg psychotronic film earthquake heartwarming chest homeless person Serial Escalation person thought dead is alive christmas presents see also:Zathura bicycle chase childish coming of age fireplace boring tire drumbeat screenplay adapted by author aunt niece relationship timeline change bullet time father son relationship bearded man based on young adult novel bum Robin Williams bad cgi revolver Children poison ivy long haired female mutation courage reference to tarzan shoes 4k Joe Johnston shared universe boarding school new england older version of character childhood recaptured arachnid christmas party lace comedy beach board vehicle based on children's book brother sister relationship nighttime fantasy animal driving a car black eye small town child turning into animal Jumanji predator scary excavation new home rainforest loss of parents rolling dice cult classic animal attack looting animal killing 1960s abandoned factory car classic axe blunderbuss leaf based on a book quadruped 20th century long haired woman time travel surprise ending Adaptation of Book fainting held at gunpoint psychiatrist Saturn Award (Best Special Effects) handgun orchestral music score shotgun motorcycle impersonating a police officer friends who live together police vehicle columbia tristar home video wooden chest title spoken by character For children transported back in time human hunting a human squatter factory herds of CGI animals overalls violence subtitled scene prologue reference to a zodiac sign first love attic fib police car refrigerator mansion hit by a car canoe cgi effect stealing a bicycle male protagonist based on novel looking through a keyhole animals supernatural fantasy forest spider attack river first part Filmed in BC feline grounded CLV itaege blonde woman alternate timeline christmas fight turning into a monkey no opening credits magic board game bug aunt nephew relationship adapted from:book cracked windshield 1990s nervous breakdown shoe factory hunter reference to ringling brothers handcuffed monsoon first of series time snob police officer magic pregnant woman partner woodland dice blonde child reference to a horoscope rifle reptile male hunter vine rain hiding in a closet board game breaking the fourth wall Baker viu firearm rhinoceros cemetery tail mother son relationship child bully surrealism not for kids police monkey arrest carnivorous plant old photograph missing child fiction big game hunter tween girl santa claus costume Artifact of Doom danger animatronic library girl car crashes into a store family name flood trombone child in jeopardy title directed by man bloody lip poison hacksaw construction site time lapse photography Saturn Award (Best Supporting Actress) chaos crocodile fictional board game hostage situation paint can live action and animation law enforcement officer recluse wisecrack humor 19th century sneaker vines blockbuster nemesis adventure columbia tristar boy title directed by male game Lebbat franchise children long haired girl actor playing multiple roles moving fish out of water vandalism orphan wood driving without a license adventurer plant attack game piece title written by male car accident motorcycle police officer beat up predatory reptile rainy day watchlist kids laundry detergent human becoming an animal car theft sniper rifle Dynamic CGI Action return to the past saying thank you giant insect endless screaming blunder businessman The Game Come to Life mosquito spider lion explorer presumed dead weapon lifting someone into the air title same as book confession lush wonder bread insect attack part computer animation horrifying (but not Horror genre) thrill critter statue friendship bat cutting one's own hair cgi cult film brown haired boy family legacy mustached man illegal gun sale gun bridge playing a board game improvised weapon kid flick little girl reference to the twilight zone heavy rain reference to clue the board game vortex altering history realtor jungle man mother daughter relationship sidearm Everything Trying to Kill You cgi animal rich family crawler competition one word title supernatural power gun store motor vehicle car crash animal driving a vehicle view through rifle scope bicycle fortune teller carnivore exterminator vegetation sporting goods store cutting face while shaving apology zebra convertible jungle"
        ],
        [
         "2",
         "3",
         "Walter Matthau Minnesota old people that is actually funny comedy Ann Margaret wedding fishing Sophia Loren grun running Daryl Hannah Jack Lemmon CLV old comedinha de velhinhos engraÃƒÂ§ada duringcreditsstinger good soundtrack sequel fever NO_FA_GANES comedinha de velhinhos engraÃ§ada best friend old men Howard Deutch midwest old man sequel funny Burgess Meredith Funniest Movies moldy old age"
        ],
        [
         "3",
         "4",
         "girl movie slurs revenge based on novel or book divorce CLV single mother characters chick flick interracial relationship"
        ],
        [
         "4",
         "5",
         "steve martin worst movies ever humorous wedding daughter seen 2021 midlife crisis Steve Martin sentimental it thought it was funny but it wasn't Touching narration parent child relationship remake confidence Diane Keaton father - child relationship CLV heartwarming Comedy growing old seen more than once baby fourth wall 4th wall watched under duress sequel fever aging contraception regret sequel Fantasy father gynecologist pregnancy childhood classics family"
        ],
        [
         "5",
         "6",
         "setting:LA murder neo-noir slow paced los angeles visceral detective ex-con real life adultery suicide betrayal Rob violent R slick ending lame In The Nucleus Jon Voight Bibliothek Music  who cares DVDs guns complex characters Strong bad man thieves bank robbery gang robert de niro HD MKV obsession relationships Mary Kircher bank job lame Reflection tragic end suspense ensemble cast R:violence police erlend's DVDs heists Robert De Niro realistic action Michael Mann loner Violence  captivating somber Top 10 ever great acting Al Pacino Bank Heist Recommendz Top Pick cult film cat and mouse ONE LAST HEIST Captivating heist Can't remember understated mine Viviane Vives Al and Robert need to own long bank heist gunfight too long hollywoodization Action battle of wits violence Heist atmospheric imdb top 250 witty Want dialogue heist movie professionals Los Angeles overrated dumbed down ClearPlay Val Kilmer realistic boring Al criminal mastermind amazing cast authentic gunfights thief al pacino cliched netflix queue teenage girl R:language synthesizer soundtrack blu-ray honor Al Pacino Vs Robert De Niro tough guy cinematic 1 philosophy career criminal crime bleak male-female relationship one last job tense electronic soundtrack owned seen 2011 CLV btaege 7.5-FilmAffinity Ashley Judd Realistic Tumey's DVDs robbery chase Natalie Portman individualism authenticity Crime action Bechdel Test:Fail Seen 2010 soundtrack Third Act Problems crime epic cars es un poc de lo de sempre great soundtrack vontatott"
        ],
        [
         "6",
         "7",
         "fantasy romance based on a play comedy solarium character name as title fashion assistant interrupted kiss marriage proposal helicopter ride midlife crisis romantique breakout new york city ugly duckling vogue magazine bentley motor vehicle unfaithful fiance martha's vineyard voice over narration based on play unrequited love finding yourself long island new york NO_FA_GANES paris Paris jet plane marriage engagement love transformation businessman automobile american abroad upstairs-downstairs romance cinderella story womanizer mother son relationship relationships dinner date Nancy Marchand workaholic fairy tale confession remake family estate Drama party family business surprise ending passionate kiss business merger love story remakeOf:Sabrina(1954) sibling relationship photographer slow dancing fusion business deal british car forbidden love tycoon makeover flat screen television bentley the car kiss ends with a kiss sophistication playboy reference to bill bojangles robinson remadeAs:Sabrina(1995) chick flick fiance fiancee relationship love triangle coming of age chauffeur offering a bribe family relationships brother brother relationship oceanside home bicycle tour Romance Harrison Ford color remake of black and white film return home father son relationship french boyfriend redemption millionaire living above a garage long island dog sexuality as good maybe better than original park avenue manhattan new york city Greg Kinnear concorde paris CLV infatuation paris france Julia Ormand cleavage brother punches brother mistaken identity sitting on glass picnic on the beach long island, new york Julia Ormond elopement man sedated telephone call paris, france falling in love great cast female protagonist attempted seduction"
        ],
        [
         "7",
         "8",
         "teenage hero murder three word title rescue from drowning nicknames as title cave in forenames as title wilderness based on book nostalgic sleeping rough bath sneeze apple cutting one's finger jail witness to a murder young love rifle brawl cabin chores sneaking out sword fight falling from height near drowning ends with freeze frame engagement small town widow douglas character painting a fence funeral slimehouse knife in the back barefoot boy jumping through a window criminal injun joe character character names in title child's point of view mud evil man Mark Twain bare chested male bare chested teenage boy single mother pipe smoking teenager fighting adult spider showdown witness false accusation slice of life teacher knife throwing doctor child falling to death huckleberry finn character knocked unconscious suspense based on a book two against one echo jar first kiss judge buried treasure flintlock rifle jail cell brunette surprise ending marble knife fight map friendship male female relationship child sneaks out of house pushed off a bridge cult film covered in mud author:Mark Twain mississippi river child protagonist native american bible beating knife in back stabbed to death child fighting adult sword tween girl prospect preferred child hero cigar smoking lying under oath timeframe 19th century coffin bridge cowboy hat character names as title camera shot of bare feet kiss girl grave robbing sheriff violence torn shirt alcoholic missouri climbing out a window campfire child in jeopardy disarming someone murder trial swearing an oath trapped in a cave flintlock pistol looking at oneself in a mirror courtroom knife flying kick raft runaway barefoot canoe falling into a hole treasure chest freeze frame tom sawyer character death threat alabama based on novel or book brother brother relationship aunt polly character opening action scene fishing hook shouting male friendship boyfriend girlfriend relationship based on novel finger cut lost treasure treasure map Peter Hewitt outlaw framed for murder one room schoolhouse accused of murder fear of ghosts Disney rural setting tough guy river duel trial 19th century chest of gold coins character name in title school testimony punched in the face shaking hands fat man death on the run undertaker climbing a tree long brown hair blood oath knifeman boy nightmare abandoned house child smoking aunt nephew relationship adapted from:book mirror graveyard newspaper headline shoe barefoot male becky thatcher character hero lantern classroom drunkard skeleton good versus evil Library System musket candle cave fistfight eyepatch"
        ],
        [
         "8",
         "9",
         "fireman murder attempted murder uzi panic sole black character dies cliche double cross black comedy brother sister relationship car bomb scream kitchen timeframe 1990s hostage betrayal oldsmobile motor vehicle falling from height stabbed in the throat comic relief chef u.s. car flash forward ex husband ex wife relationship vice president rescue exploding car homemade weapon bodyguard evil man u.s. vice president automobile assassination race against time rooftop showdown die hard scenario mother son relationship car masked killer terrorist plot blood burned alive suspense one against many oldsmobile cutlass supreme assassination attempt strangled to death strangulation father daughter relationship independent film silencer surprise ending cia central intelligence agency mercilessness held at gunpoint man on fire warrior bone as weapon explosive cult film bomb ice rink brutality ransom two word title explosion pittsburgh penguins Can't remember title spoken by character mission gore murderess hostile takeover female assassin villainess body lands on a car evacuation fear machismo deception danger gunfight improvisation final showdown kidnapping bravery Jean-Claude Van Damme Action girl psychotronic film hand to hand combat violence Peter Hyams prologue politician rooftop fight one man army terrorism time bomb exploding helicopter locker room child in jeopardy disarming someone hero kills a woman rocket launcher chicago blackhawks paranoia fbi federal bureau of investigation anti hero mother daughter relationship knife ice hockey one day timespan henchman helicopter hockey popcorn pittsburgh pennsylvania ambush karate chop opening action scene shot in the forehead stadium rescue mission unlikely hero torture rogue agent shot in the heart father son relationship fbi agent helicopter crash assassin glock mayor action hero pistol survival director also cinematographer m 16 man murders a woman tough guy wisecrack humor near death experience pittsburgh, pennsylvania demolition karate terrorist CLV semiautomatic pistol jean-claude van damme escape universal death in title star spangled banner death fight blood splatter martial arts boy security guard villain mascot costume male rear nudity shootout action courage 1990s bazooka hero heroism good versus evil conspiracy oldsmobile fistfight"
        ],
        [
         "9",
         "10",
         "gadget car post soviet russia casino owners special car high tech slide locked back gun duel falling from height german actor playing foreigner m character laser cutter Sean Bean dies evil man computer games bond vodka martini die hard scenario ridiculous blood computer hacker fighter jet james bond britain gangster Bob*ola returning character with different actor head butt funny mercenary gun battle london england computer cracker female assassin player villainess mixed caps in title good man leg scissors cuba killer as protagonist airplane BD-Video grenade bullet time ITS AN OK MOVIE IF YOU LIKE  JAMES BOUND. mexican standoff year 1995 friend turned foe falsely accused intelligence agent shot in the foot tough guy st. petersburg, russia unsubtitled foreign language karate shot in the back terrorist russian mafia red ferrari Tumey's DVDs bathroom evil woman gadgets Judi Dench villain action James Bond trap satellite machine gun gatling gun attempted rape beach vehicle shaken not stirred general casino card game Pierce Brosnan james bond character kgb stealth helicopter car chase MI6 year 1986 saint petersburg russia woman rapes a man organized crime I wanted the bad guy to win.  Sean Bean out-Bonds Bond. russophobia russian army car casino gadget watch classic spy spy mission memorable lines intelligence airport silencer female killer thriller held at gunpoint motorcycle slow motion scene dominant woman gambling house title spoken by character bisexual woman color in title cranberry seventeenth part top secret missile man wears a tuxedo machismo lifting a female into the air secret service sadist violence hand to hand combat electro magnetic pulse subtitled scene terrorism flash freeze death internet british hero killing woman massacre female gunfighter opening action scene shot in the forehead boat card game official bond film Best Of the Brosnon Bonds explosions action hero former soviet union megalomaniac british intelligence riviera CLV driving a tank Izabella Scorupco seen more than once Siberia fight blood splatter martial arts train propaganda miss moneypenny character train wreck shootout dark research station casual sex trailer narrated by nick tate lesbian subtext spies good versus evil see you in hell ejection seat motorcycle stunt bungee jump plane crash partner innuendo museum snow rotorcraft russian broken electronic works secret base exploding car nuclear weapons elevator femdom Memorable Characters cemetery automobile Cuba motor car laser gadgetry dominatrix secret intelligence service suffocation shot in the chest warrior secret service agent male rape shot to death woman with a gun russia intelligence agency spying seaplane colonel Sean Bean gunfight kidnapping tank chase scene bungee jumping wheelchair one man army time bomb military reverse footage lifting an adult into the air tank 007 spy turned terrorist assassin satellite dish attempted lesbian rape pistol computer computer virus mgm ua owned blockbuster vengeance exploding train escape btaege adventure EMP Bond execution soldier Puerto Rico pseudo rated franchise Latin America fire spy camera fistfight murder chemical weapons revenge cossack ferrari hostage brawl car accident agent sauna espionage bungee jump stunt mixed martial arts kissing while having sex bill tanner character st. petersburg russia baccarat major boothroyd character showdown reboot of series 007 (series) Seen 2020 electromagnetic pulse 007 movies are bad. femme fatale weapon terrorist plot lifting someone into the air church strangulation poetic justice sadism mgm ua home video evil plot disfigurement Caribbean aston martin cult film explosion red army it's a good movie but the end of 007 is always the same revolving door philandering gadget gun tattoo on butt exploding helicopter male soldier ak 47 bond girl good dialogue Russia helicopter rough sex MTSKAF russian general gambling casino rogue agent goldeneye sexuality official james bond series army one word title motor vehicle exploding tank exploding building death boys with toys chase Famke Janssen enemy secret agent one-liners part of the body in title loss of friend sequel secret identity train explosion cult figure british secret service conspiracy jungle"
        ],
        [
         "10",
         "11",
         "gun control great performances implied sex Annette Bening reference to julius caesar playing pool political consultant reference to dwight d. eisenhower 23.03.06 reference to frank capra decent flick Aaron Sorkin clever dialogue senator Bibliothek NO_FA_GANES presidential election reference to woodrow wilson news conference love flag burning seen press secretary reference to brutus dating state of the union address political humor cinderella story portrait of a president reference to cassius girlie movie single parent chief of staff reference to thomas jefferson new love Drama bouquet morals the white house Rob Reiner widower lobbyist wildlife conservation florist columbia tristar home video election campaign DVD Collection environmentalist presidential candidate speechwriter Amazing kung fu reference to marie antoinette american president washington d.c. reference to james buchanen camp david u.s. president diplomatic reception widower single woman relationship florist shop house of representatives politician reference to martin van buren trombone Michael Douglas US President reference to king louis xvi state dinner ethics usa president Romance political candidate Martin Sheen cheesy great story cult favorite political campaign president single parents white house politics cute CLV reference to the state of the union speech seen more than once christmas columbia tristar reference to arthur murray liberal environmental issues idealism White House oval office reference to franklin d. roosevelt screenwriter:Aaron Sorkin sister sister relationship great cast liberal propaganda woman wears only a man's shirt"
        ],
        [
         "11",
         "12",
         "garlic slipping on shit satirical superhuman strength gothic immortality vampire biting neck bite mark aversion to garlic colliding with chandelier order grasshopper theater intestines renfield character mental control slipping on stairs covered in blood organ character says i still got it borgo pass burnt by sunlight calling someone an asshole park shadow on a wall human versus vampire ship's wheel falling from height reference to a demon undressing in front of a window vampire vampire slayer ball colon in title Leslie Nielsen lucy westenra character undead castle jumping through a window chandelier vampire hunter climbing through a window reference to an enema love vampire bite trance entering the closet vampire comedy vampirism dream sequence pallor chapel character says i don't care reference to demons spider lust vampire fangs dancing in front of a mirror human brain sanitarium blood burned alive doctor busty woman hypnosis nosferatu jonathan harker character dream bride incision mina murray character shapeshifting sailing ship father sees man groping his daughter shadow father daughter relationship man molested by woman hung upside down spiderweb professor vampires abandoned chapel bending a prison bar horror spoof redhead wig parody fainting smashing mirror caught in a spider web stabbed in the heart opera bat gypsy woman exposing her breasts horse and carriage calling someone a degenerate BD-R character says poppycock killed by sunlight romania cult film reference to paris bitten by a vampire autopsy hospital colliding on glass window solicitor funny stepping on someone telekinesis calling someone darling dracula character repeats someone else's dialogue vampire horror dream scene london england woman wears a scarf written and directed by cast member enema renfield bat excrement van helsing bending steel bars drink thrown into someone's face sexy woman guano couple dancing broken mirror coffin skull male vampire scarf seductive dance pretty woman breaking a glass window character says they had it coming face slap insect eating assistant downblouse grave psychotronic film human caught in spider web vampire bat horse carriage slapstick comedy perseverance farce dr jack seward character absurd comedy insane asylum paper cut intangibility shapeshifter killed by a vampire sexy female vampire blood on shirt brain coachman reference to whitby exploding body bending metal bar dance scene full moon super strength fangs fiance fiancee relationship bitten in the neck boring hypnotism barefoot female vampire wearing a scarf indoors vampire count satire ship spoof male protagonist stake through the heart asking for punishment finger cut corpse vampire lair maidservant no reflection in a mirror no reflection stepping in shit british abroad mountain pass fainting man breaking a mirror barefoot woman calling someone my dear falling down stairs slave character name in title cobweb calling someone a pervert vampire castle village voluptuous woman Mel Brooks death poked in the eye carfax abbey van helsing character dancing death of vampire mourning for the villain schooner blood splatter cross burned by a cross eating an insect vampire killed by sunlight asking to be punished hammer year 1893 reference to abraham van helsing count transylvania big breasts five word title hanging upside down loss of friend end credits roll call enslavement trying to get the last word insect seduction redheaded woman sunset"
        ],
        [
         "12",
         "13",
         "glass rescue from drowning journey cold weather medicine howling cold chorus traditional animation furry outsider syringe bandana wilderness boulder footprint race title written by male finish line arctic wolf live action sequence polar bear sausage link timeframe 1990s footprint in the snow sick child goose snow hand drawn animation rock falling from height illness lie animal hero romantic rivalry slimehouse prejudice woods rescue drowning falling off a cliff feather plucking animated snowball narrator wrongfully accused bear attack strength animal protagonist race against time underwater scene stray dog 2d animation unconsciousness outcast taunting breaking through ice timeframe 1920s presumed dead doctor child frozen lake furnace bully knocked unconscious surrealism right hand man dog team animal that acts human piano telegraph operator marking a trail storm husky spiderweb husky dog snow goose ice cave 20th century iditarod surprise ending bear statue balto character Ei muista loosely based on a true story animation dog movie pawprint animal name in title pet epidemic orchestral music score sled dogs first of series russian accent crawlspace avalanche poulterer cult film dog sled friends who live together action girl hospital vial talking animal year 1925 butcher classical music scene during opening credits 1920s antitoxin cleaver dog sled race James Horner sled dog pneumonia self esteem broken bottle dog race coffin throwing a snowball sadness pets arrogance snowstorm based on true story part animated self identity crony shunned hat girl telegraph bone city park plaque biplane Simon Wells diphtheria wolves title written by female title directed by man going in circles alaska boiler room scent grandmother granddaughter relationship talking animals racing sidekick falling icicle white wolf dogsled serum disease lost in the woods airplane timeframe 20th century dogs ship male protagonist sort of boring boyfriend girlfriend relationship cliff boat morse code cheerleader dog racing year 1995 central park manhattan new york city icicle pop music reference to fyodor dostoyevsky lackey crate live action and animation dog wolf singer offscreen sense of smell love interest forest tree northern lights first part one word title part live action character name in title illumination swimming underwater itaege mockery dog sled team snow adventure ill child light sled threat wolf dog fight animal villain audio flashback train title directed by male memorial grizzly bear half blood children balladeer nome alaska half breed courage falling over a cliff 1990s actor playing multiple roles tenor sun heroism blizzard lantern reference to the jetsons hot dog hit with a snowball rivalry reference to the iditarod older version of character eating soap cave dog-sledding race sneeze"
        ],
        [
         "13",
         "14",
         "marriage character name as title true story 1930s political corruption political consultant Oliver Stone psychedelic therapy billiards watergate black and white scene 1970s illness Anthony Hopkins presidential election interpreter cold war era disney american politics career corruption trust epic Historical opinion vietnam war evil politician based on a true story political drama mother son relationship timeframe 1920s 1960s watergate scandal biography reference to frankenstein piano power timeframe 1930s tape recording Drama history Tumey's VHS memory fbi chief nixon resignation biographical nixon flashback political leader year 1972 Wooohoo first lady hospital election campaign title spoken by character political conspiracy timeframe 1960s bedroom 1920s United States own surname as title washington d.c. long director cameo US history election based on true story woman wears eyeglasses alcoholic drink year 1973 politician richard nixon steak character based on real person:Richard Nixon cover up lincoln memorial US President historical figure paranoia fbi federal bureau of investigation republican party china cinematographer:Robert Richardson government biopic confrontation usa president brother brother relationship alcoholism controversy american history usa political candidate father son relationship quaker political campaign 5 president one word title politics CLV drunk press conference USA husband wife relationship horse race based on real person president of the united states scam political cover up washington dc, usa rise and fall courtship oval office united states of america man wears eyeglasses conspiracy reference to mohammad reza shah pahlavi Watergate"
        ],
        [
         "14",
         "15",
         "scalp Matthew Modine humor bar shootout adventurer double cross timeframe 17th century slave auction tattoo on head female pirate bad acting action heroine pirate betrayal latin Renny Harlin sword fight Frank Langella kissing while having sex paramount better than I remembered showdown hook for a hand kicked in the groin british navy shipwreck mgm father daughter relationship monkey uncle niece relationship sword duel tattooed map brunette map assertive woman sea battle explosion island alcohol sensuality death of father sword 17th century Geena Davis exotic island heroine kiss battle violence exploding ship cannon barroom brawl tavern pirate ship strong female lead translator surgery ship 1660s pirates treasure map sexuality mgm ua timeframe 1660s love interest duel combat slave CLV escape big budget treasure adventure treasure hunt chase rope swashbuckler adventure action dumb but funny Pirate strong female character bar fight adventuress swashbuckler female protagonist"
        ],
        [
         "15",
         "16",
         "great performances gangsterism alcohol abuse hit with a baseball bat casino manager adultery colt python cigarette holder tied up violent drunk wife jeweler's loupe gangland crime voice over narration arab man epic drama Las Vegas mafia boss female escort Nicholas Pileggi pen as a weapon complex characters cowboy investment banker mob family tracking shot las vegas nevada vise blood hotel casino slot machine ensemble cast reference to detroit ball peen hammer mossberg 500 blueberry muffin cattle prod DeNiro police surveillance psychopath shot in the temple gangster crime boss italian american stabbed in the neck watch food store borderline personality disorder gangland murder killing suitcase american criminal colorful clothes cocaine evil wealthy man Martin Scorsese listening device handgun with silencer mobster old gangster Pesci snorting cocaine sex scandal Gangster nagging wife Joe Pesci chip gambling indulgent million dollars loan shark High Production Values cinematographer:Robert Richardson 20060407 fast paced gangland hit television host brother brother relationship BD-Video corpse garter cool muddled motivations jewish mobster smith &amp; wesson model 15 hit with a telephone tough guy glitter murder of brother shot in the back spaghetti punched in the face surveillance violent gangster jewelry Tumey's DVDs 1980s cult director american gangster narrated mob lawyer wise guy power struggle shocked with a cattle prod arab ultra slow motion playing golf swimming pool 4k Great Ensemble Cast drug addiction wealth cigarette smoking black comedy fellatio old man beaten with a telephone observation strictness car bomb hammer as a weapon docudrama drama woman snorts cocaine colt revolver mob enforcer greed intoxication costa rica NO_FA_GANES gangster murders fellow gangster gamble person on fire insult m1911 pistol saw machine organized crime tied to a bed mob trial casino toxic masculinity baseball bat gangland stooge domestic violence based on a book muffin mormon sex scene masterpiece broken hand complex erlend's DVDs Robert De Niro hierarchy silencer illegal prostitution hit with a hammer american mobster ex prostitute held at gunpoint mafia death from heart attack anti semite death of brother predictable shotgun slow motion scene telephone gambling debt cheating wife timeframe 1980s title spoken by character memasa's movies criminal gang kansas city Eric's Dvds crushed hand need to own jewish gangster long homicide kansas city missouri brutal murder mob execution gangster film sadist criminal underworld produce market friend friend relationship traveling shot emotionally unstable woman violence depression mob violence the mob threatened with a circular saw electronic surveillance getting rid of somebody fbi federal bureau of investigation courtroom screenwriting mob hit excellent cast overdose lap dissolve noise complaint bookie circular saw Sharon Stone con man based on novel american mafia smith &amp; wesson model 10 oral sex oral sex in car gambling addict cosa nostra iris shot jewish american CLV husband wife relationship dispute Suspense blood splatter schoolboy sex in a car silenced gun on dvr soundtrack violent man golf course old man de niro in pink sex in bed united states of america mafioso title appears in writing joe pesci las vegas squeezing sandwich surveillance photograph uzi los angeles california chain smoking mafiosi private jet liquidation underworld James Woods gangland execution stabbed in the throat senator 1970s heart attack period drama temper casino security shot and killed steel baseball bat exploding car corruption breaking a rule firearm reference to the elephant man ethnic slur poker cigarette mob hitman robert de niro jewels shot dead reference to al capone beaten up witness elimination dolly shot con artist depressed woman antisemitism card playing police cash shot in the chest burglary anti semitic sleazy man shot with a silenced gun crime lord corrupt politician Nudity (Rear) shot in the head smith &amp; wesson model 39 woman shot to death brutality non-fiction shot to death heist crime family browning hi power pistol girl stuck her tongue out silenced pistol beating maximalism italian food cowboy hat money laundering prostitute woman killed stabbed with a pen prostitution Nudity (Topless - Brief) blow job boss mob boss las vegas police department actor shares first name with character diamond theft pimp Robert Deniro mob chicago outfit control freak gangster crime pain Vegas drunkenness character development gambler timeframe 1970s blu-ray crooked gambling desert capitalism safe deposit box key dutch angle crime syndicate glitzy card cheat jew hypocrisy jewellery heist bookmaker title spoken by narrator great ending gangsters broken finger rewatch plot ballpoint pen fbi surveillance in medias res fbi hammer vegas mob follow shot women as sexual objects hitman criminal organization historical drama crime empire skimming na dysku modern western car damage slurs storyline murder social club elimination woman performs fellatio crushed head political corruption suitcase full of money Robert DeNiro based on book revenge reference to john barrymore las vegas casino stabbed with a pencil scorcese money lender betrayal boyhood friend casino employee key sadistic psychopath Bibliothek crying criminal midwest fat mafioso contemporary western brute nevada desert cornfield beaten to death beaten with a baseball bat Documentary like office nudity (rear) lifting someone into the air cannibalism man killed oral sex in a car golf player abusive mother anti semitic slur underboss depressing screenplay neo western man shot to death extreme violence cult film labor explosion hulu dead body in a car trunk mine gambling syndicate drug abuse wiretap bus stop illegal activities nudity criminal empire based on true story etaege killer short man year 1973 imdb top 250 mafia don head in a vise wife cheats on husband chicago mob dual narration true crime fbi investigation torturer female drug addict compulsive gambler marriage crisis baseball bat used as a weapon grocery store jewish lawyer helicopter blow job in a car labor union bird's eye shot italian mafia alcoholism drug overdose gambling casino torture glorifying violence buried alive multiple narrators fbi agent one word title money flashy death by heart attack drunk stylish first person narration long movie death threat slow diamond heist hysterical wife female nudity Mafia chicagoan neo noir Divx1 fired from a job reference to ozzie and harriet italian gangster safe spitting in food walther pp year 1983 goon chicago illinois fran  rise and fall year 1980 perfectionist crime epic Goodfellas II telephone call safe deposit box burglar"
        ],
        [
         "16",
         "17",
         "opening a door emotional three word title parrot poverty Oscar Nominee: Best Picture 1995 wedding disdain trials and tribulations marriage proposal 1810s Kate Winslet comedy of manners vicar Alan Rickman shakespearean quotation singing BGAB LRC horse brother sister relationship country life regency period snobbery Imogen Stubbs Netflix Finland rich man poor woman melodrama rainstorm young girl death of stepfather not available acceptance treehouse resignation fast London illness Bibliothek unrequited love 18th century period drama country estate Oscar Nominee: Best Picture seen a while ago rescue Emma Thompson love sword fighting tomboy Hugh Laurie older man younger woman relationship Jane Austen classic literature cottage Hugh Grant upper class gripping romance east indies likeable characters classic blood doctor patriarchy based on a book tearjerker romance Period pianoforte piano church english country dance title same as book parish period film prudence stable party Regency England bowling costume drama bouquet social criticism britain period piece jane austen hugh grant handkerchief Great Screenplays horse and carriage BD-R devon timeframe 1810s duty Great Adaptations tragic love hulu nothing happens suitor realistic characters f rated three sisters stepmother 1800s london england mine pregnancy monogram loss of fortune parcel own stepbrother stepsister relationship ill teenage girl very well adapted intimacy dvd long colonel psychological drama Unconditional Love letter empire fashion jealousy Clssical Romance servant depression heartwarming atmospheric secrecy intelligent military officer chick flick rural medical examination visit coin timeframe 1800s rural area historical british likeable love story love triangle mother daughter relationship boring decorum beautiful scenery widow Sven's to see list based on novel or book kite cousin cousin relationship devon england teenage girl brother brother relationship Romance English horseback riding based on novel honor card game atlas death of husband father son relationship illegitimate child dark past British dog fall shakespeare rural setting lock of hair romanticism class differences damsel in distress reference to william shakespeare poetry 19th century money amazing acting heartbreak Britain rich snob CLV dinner arranged marriage literature inheritance bed husband wife relationship romantic second wife beautiful dancing baby sad drawing secret engagement author:Jane Austen bird adapted from:book true love story famous score Shakespeare Ang Lee critical passion Romance  courtship gentle cinema seen 2012 favorite mother in law son in law relationship picnic sister sister relationship na dysku 4k loss of father secret marriage engagement ends with a wedding female protagonist candle sincerity"
        ],
        [
         "17",
         "18",
         "murder goddess comedy neo screwball comedy los angeles cult movie cast cigarette smoking omnibus film blasphemous nudity (topless) multiple short stories in one black comedy Salma Hayek magic syringe brother sister relationship witches Jennifer Beals sperm b movie hostage implied fellatio anthology film collective filmmaking portmanteau film actor director lingerie slip precocious child Alexandre Rockwell witch feet party hat los angeles, california barefoot boy title directed by female Rodriguez disney elevator trance gagged woman Combustible Edison Music interracial relationship collection of short films weapon bellhop non statutory female on male rape surrealism Robert Rodriguez bet dark comedy dead body independent film woman director Drama witchcraft Tumey's VHS incest overtone role play gangster movie producer cult film hoodlum scene during end credits anthology night f rated Thriller own movie star foul language new year coven spell wraparound story awesome soundtrack witches' coven child smoking cigarette filmmaking duct tape Antonio Banderas Nudity (Topless) Tarantino slapstick comedy Comedy champagne Quentin Tarantino animated opening credits Madonna retro multiple storylines mother daughter relationship hypnotism hanging out a window reference to peter lorre fast paced gross tied to a chair cartoon on tv Allison Anders satire champagne bottle sex corpse bondage omnibus animated title sequence drunken telephone call female friendship tarantino toe sucking supernatural power pasties revolver 4 severed finger Tim Roth hotel Bruce Willis hotel room bathroom female nudity new year's eve mistaken identity number in title dead prostitute incest vomiting fire meat cleaver directed by several directors zippo lighter"
        ],
        [
         "18",
         "19",
         "searching for a culprit naked man premature birth detective reference to lone ranger monk horse equestrianism emotional breakdown sacred bat procyonids meditation buddhism chiroptera reference to a fly the insect black people interpreter rape simian hominidae searching for motive roaring forensics cebinae ace ventura character reference to tuna fish hysteria reference to jack and the beanstalk stewardess clerical celibacy character says war is hell mountaintop monastery reference to a rat spring second part stripped naked africa man spits on another man's face common raven crashing a car into a tree medallion reference to satan procyonidae waterfall mephitidae white bat celibacy fertilizer exploitation dart elephant testicle toy nibia monastery Africa slapstick comedy african dance medicine man reference to pierre gustave toutant beauregard crazy china reference to a cat devil Not my kind of comedy buddha statue tribe raped by a gorilla consulate eastern gorilla airplane calling someone a devil spit pain threshold primate yelling money making scheme poisonous dart oath of celibacy unsubtitled foreign language life is sacred gorilla beringei graueri whip goofy mucus reference to silver the horse character says no plate reference to tarzan deadline raw meat comedy african princess biting hand gotan indigenous albizia tree simple panthera leo dead animal engagement naked alibi broken man princess cult classic haplorhini giving birth One of the worst movies of all time american abroad flim flam Comedy  dowry reference to weasel workaholic Rhino action :D talking in sleep spear subjective camera deadly fall holy man mountain climber Steve Oedekerk reference to rabies reference to marcus antonius Tibet procyonid reference to sweeney todd surprise ending calling someone a loser motive hominid monkey actor wachati princess eccentric man woman exposing her breasts gorilla reference to canada slow motion scene spit in the face bare shoulders raven anti fur activist talking through one's buttocks male objectification raped by an animal private detective wacky comedy pregnancy astral projection bestiality grauer's gorilla chinese monastery kidnapped animal fur land rover calling someone a sissy gross out comedy reference to a mongoose oathbreaker bonai province man steps on a man's crotch over the top screaming in pain fran-done african village musteloidea sunglasses obscenity apologetic attacker buddhist monk fingerprint sacred ground character says don't look down reference to william shakespeare stupidity african hominids village hawaiian shirt reference to rich uncle pennybags reference to monopoly the game reference to hasbro character says i am alive nigeria very funny sacred animal primates five word title hilarious life partner Stupid as Hell mistaken for giving birth bloody face raccoon cave mistranslation chiroptophobia hominids blood in face character says let's go kick butt african apes character says go to hell nocturnal mammal pregnant reference to a hound dog white devil as epithet touch eye reference to bumblebee reference to a moose virgin stupid birth zoophilia human animal relationship anti fur reference to shish kebab slinky tail raped by a female gorilla disguise falling to death mimosa tree trophy collection waving goodbye monkey vow of celibacy shaman character warns man that his testicles are visible can can gorillini Simon Callow great ape spying fake accent monasticism suspect kidnapping lost the will to live asia reference to bingo monocle ace ventura medal chief full moon dirty cop troubled production time lapse photography chief of security childhood fav interracial romance tooth decay crop buried in sand fictional country raped by animal reference to yak reference to gotan black market nocturnal animal character name in title virgin woman blockbuster corvus corax mating season dancing trophy hunter car crashing into a tree capuchin monkey mimosa dark bat homininae dumb selfishness threatened with a knife corvus haplorhines mistaken for being a stripper character says i will kill you buddhist monastery procyon lotor skunk implied nudity crude humor simon says procyon light bat monster truck woman flashing breasts mistaken for a stripper Gross-out slimehouse gingivitis gorilla beringei reference to the shawshank redemption going over a waterfall eating raw meat childbirth arctoidea albizia julibrissin lion bad taste poison dart lifting someone into the air anthropoid master of disguise human skull reference to marc anthony reference to a rhinoceros hehehe reference to lynn aloysius belvedere masterbation reference to mary poppins pet detective bat reference to north africa chess Jim Carrey cebidae sexy princess animal lover reference to jesus christ reference to aboriginal australians laughing at someone marriage of state shield bowl loss of virginity noon eastern lowland gorilla dusting for fingerprints scrotifera nudity guano firewalking reference to australia skull simiformes tibet awesome character says i dare you urine stain consul platyrrhini laughing at someone's pain silverback character says i am a princess bonai selfish himalayas helicopter imitating an animal reference to mr. belvedere aura on-library  sex with an animal cult favorite hut masturbation raped man motivation cat biting attacker princess commoner love man raped arranged marriage riding crop caught masturbating tibetan monastery reference to mister belvadere character asks how would i know fictional african country horse whip reference to chicago new world monkey lowland gorilla ashram spring toy breaking an oath sequel childhood classic shrine temptation zebra silly fun mountain climbing curse jungle"
        ],
        [
         "19",
         "20",
         "murder subway runaway train black comedy reference to ice cube new york city wristwatch banter barricade burning man attraction brawl comeuppance switchboard buddy cop racial slur caper crime spitting in someone's face mixed martial arts transit cop rescue afternoon section thrown from a train boxing kissing while having sex person on fire f word punching bag urination bare chested male lust interracial relationship hit by a train stakeout lame new york subway sex scene police fight in a kitchen fight in a train compartment arrest female police officer psychopath held at gunpoint gangster friendship train robbery motorcycle sibling relationship gambling debt friendship between men shot to death interracial kiss pickpocket title spoken by character burn victim beating caper sibling rivalry bar pretending to be drunk manhattan new york city two man army wallet roundhouse kick decoy kiss female frontal nudity Nudity (Topless - Brief) jealousy hand to hand combat violence gambling hijacking a train riding a motorcycle down stairs ticket booth child in jeopardy loan shark train crash arsonist police badge horse drawn carriage pyromaniac anti hero worthwhile undercover kicked in the face lopez thief tough girl train tracks heist crime train station brother brother relationship opening action scene card game beer mexican standoff central park manhattan new york city argument subway station shooting out a window pushed in front of subway train action hero pistol arson tough guy love interest wisecrack humor money intense brooklyn bridge revolver CLV semiautomatic pistol strip club punched in the face interracial sex dancing christmas false accusation of theft robbery chase repeated line new year's eve martial arts Joseph Ruben fired from a job train train wreck male bonding shootout foot chase hispanic american bartender fire machine gun police shootout romantic rivalry fistfight"
        ],
        [
         "20",
         "21",
         "producer murder man punching a woman funny! 8 track LA satirical Escobar satire:Hollywood insiders los angeles california restaurant sole black character dies cliche black comedy Elmore Leonard plane crash limousine revenge miami b movie hostage frame up mob enforcer Barry Sonnenfeld smoking california falling from height business heart attack Rewatch insurance fraud quirky NO_FA_GANES insurance settlement Hilarious! f word reference to bette davis organized crime reference to david o selznick locker billboard las vegas nevada literary adaptation con artist drug lord ensemble cast based on a book Hollywood hollywood california father daughter relationship dark comedy airport broken nose Gene Hackman birthday party film set surprise ending police surveillance contrived held at gunpoint mafia gangster movie producer hollywood watch cult film two word title Getting old but still excellent John Travolta funny title spoken by character about movie making crotch grab dolly zoom florida beating dumb criminal hare krishna miami florida mobster reference to john wayne movie business con hairdresser violence filmmaking rene russo stuntman short man neck brace reference to orson welles gambling debt loan shark Self-referential drug cartel surprise party author:Elmore Leonard mob mansion motel pushed down stairs stolen money suv travel Mise en abyme parking garage based on novel or book travolta satire airplane breaking and entering confidence trick based on novel cool pushed off a balcony missing person female rocker actress hit with a telephone ponytail reference to dean martin sitting on a toilet money crime job one last job miami, florida film within a film CLV silly drugs gay slur USA forgetable actor faked death neo noir scam foqam Crime reference to al pacino thug extortion debt collector movie set dea drug enforcement administration coat Danny DeVito"
        ],
        [
         "21",
         "22",
         "reviewed detective psychologist suspense mystery police brutality cowardliness psychology claustrophobic over 45 police protection thriller trauma agoraphobia Holly Hunter J.E. Freeman detective thriller San Francisco suspenseful strong female lead police operation hulu live serial killer Sigourney Weaver female protagonist"
        ],
        [
         "22",
         "23",
         "police chase cia mexican standoff Wachowski Brothers kill explosions double cross competition assassination contract killer cat strong cast Antonio Banderas CLV silencer escape Richard Donner stunts Divx1 Sylvester Stallone Seattle detroit bank Spain 2.5 mission of murder Julianne Moore shootout sniper rifle hidden camera action afternoon section rescue chess hitman seattle rivalry plot twist caribbean festival Intense "
        ],
        [
         "23",
         "24",
         "poignant christ allegory tearjerking sci-fi Victor Salva bullying reflective hairless fantasy inane healing power Jeff Goldblum Empathy teenage boy albino outcast teaches us all a cheesy lesson pale fainting held at gunpoint dead animal special powers earnest flickering light Post apocalyptic elegiac Coming of age shot to death extrasensory perception Can't remember magnetism pretentious drama electricity jacobs ladder Fantasy teacher student relationship psionic power controversial Philosophy"
        ],
        [
         "24",
         "25",
         "drinking tragic bad casting los angeles Nicolas Cage alcohol abuse nudity (topless) intimate meaning of love suicide desperation nihilism bittersweet Bibliothek Las Vegas NO_FA_GANES elegiac emptiness screenwriter rape melancholy love suffering self destruction unlikeable characters existential casino broken hearts Richard Lewis based on a book Valeria Golino unlikely friendship meaning of life misery suffering protagonist Steven Weber addiction interview depressing Alcoholism ALCOHOLISM love is not enough 90s realistic characters understated alcohol PROSTITUTES humanizing unsociability failure Elisabeth - emotion! author:John O'Brien intimacy DVD-Video movie business prostitute library prostitution Julian Sands overacting Nudity (Topless) atmospheric depression implausible SUICIDE overrated company clinical depression loneliness individual drunkenness self-destruction broken heart drama pretentious Kim Adams favorites addict alcoholism poignant haunting dying and death melancholic Emily Procter owned human condition lovesickness love at first sight hotel room sad elizabeth shue 'True Art is Angst' trope narrated adapted from:book Mariska Hargitay STAR-CROSSED LOVERS Annemari dark Elisabeth Shue Oscar (Best Actor) rage and hate Mike Figgis great soundtrack las vegas"
        ],
        [
         "25",
         "26",
         "Shakespearean great based on a play Oliver Parker jealousy wow Nudity (Topless) moor CLV friends playwright:Shakespeare adapted from:play shakespeare Shakespeare Ei muista"
        ],
        [
         "26",
         "27",
         "a bit boring Thora Birch supernatural women seance Gaby Hoffman nostalgia female friendship Demi Moore nostalgic woman director truth or dare 1970s songs friendship Rita Wilson retro Rosie O'Donnell coming of age soundtrack sisterhood photocopier Bechdel Test:Pass Christina Ricci 2024 relook Janeane Garofalo gynecologist Brendan Fraser great soundtrack Melanie Griffith"
        ],
        [
         "27",
         "28",
         "acting library vhs Best adaptation adaptation based on a book England etaege 19th century old flame CiarÃ¡n Hinds CLV captain Regency England bland romantic Pam's list Amanda Root slow period piece Roger Michell 18th century author:Jane Austen Amanda Root is fabulous in this screenwriter:Nick Dear setting:England BD-R j netflix adapted from:book boring napoleonic wars Romance  admiral In Netflix queue Jane Austen Ciarán Hinds classic literature Fiona Shaw"
        ],
        [
         "28",
         "29",
         "Freaks surrealist sci-fi Christmas Creepy fantasy Santa Claus Legenda PT-BR childhood Dominique Pinon cyberpunk aging visually appealing rescue intricate hallucinatory whimsical deer dream clowny clones erlend's DVDs Marc Caro Jean-Pierre Jeunet dystopian Jeunet Rich setting weird French Weird soundtrack friendship dark fairytale strong characters not memorable steampunk cult film visual alternate reality deer shit mechanized island memasa's movies clone characters philosophical dreamlike Dark fantasy need to own symbolism surreal visually stunning dark fairy tale awkward romance kidnapping girl Nudity (Topless) atmospheric eye Ron Perlman abused children child actor dark fantasy Creepy strange setting surreal, dark, nightmare fanciful abstract on computer dystopia Weird fantasy bleak btaege Creepy tweens dreams beautiful orphans Weird twins circus stupid plot stylized children 2.5 dark skinut Dwarf"
        ],
        [
         "29",
         "30",
         "shanghai diva mistress Zhang Yimou amazon prime servant mob Shanghai Yimou Zhang uncle umbrella cabaret Gong Li"
        ],
        [
         "30",
         "31",
         "own ghetto teacher inspirational rap music seen at the cinema based on a book dead awesome amusement park John N. Smith education poetry erlend's DVDs crime karate nigga professor social commentary gangsters Dangerous Minds death high school touching hood Bibliothek good soundtrack naval officer protagonist is a teacher Emilio! white savior stupid afternoon section douchebags drama Highschool island kinda scary Michelle Pfeiffer teacher changing lives great soundtrack school drama"
        ],
        [
         "31",
         "32",
         "year 1917 recording paradox airport personnel based on short film solitary confinement mooning hearing voices female stockinged legs volunteer reference to woody woodpecker woods tooth rescue child's point of view 3 shooting absurd stairway cockroach spider web airport security checkpoint reviewed blood mental institution mental illness dream rated-R public nudity eating insect mindfuck bare butt wig dystopian city bus cassandra syndrom police surveillance imitating an ape animal in title feather flashback shot in the leg steampunk partial nudity prison cell watching tv biological weapon original miniskirt psychosis gun in airport Saturn Award (Best Science Fiction Film) solitary elephant voice mail Madeleine Stowe activist decontamination Bad acting  disembodied voice skid row psychotronic film department store kidnapping of father deja vu Interesting underground overrated belittlement of mentally ill heterosexual bullet escaped mental patient auto theft boring tears desolation airplane speech white coat plot twist crying woman father son relationship psychiatric disorder fowards time travel smoking man dystopia complicated plot ponytail Mindfuck Movie bum revolver shot in the back can be hard to follow sci fi Weird good film tiger running Bruce Willis complicated Tumey's DVDs subterranean santa claus suit time paradox graffiti number in title dormitory biological warfare fresno california fate nuevo tango Gilliam historiograpghy and time travel animal rights activist mental breakdown fake moustache attempted rape sedative rabbit ear antenna predictable ending doomsday time machine thumbs up gesture seen 2021 black comedy Time paradox flophouse self dentistry post apocalypse psychiatric care listening to music on a car radio different view male nudity environment florida keys talking to self reference to dr strangelove listening to car radio giraffe disappointing ambiguous philadelphia, pennsylvania inmate pandemic bare chested male bondage tied to a bed peacock sanitarium steam abandoned theater axe classic listening to a car radio mine shaft reality or imagination? jail cell airport Stupid thriller time travel surprise ending long haired woman Saturn Award (Best Supporting Actor) bear spacesuit tango music phony mustache psychiatrist brad pitt animal rights epidemic airport police reference to harry houdini slow motion scene real movie shown in fictional situation fire place woman wears a short skirt alternate reality hospital animal noises strong director elaborate title spoken by character recurring dream future noir depopulation memasa's movies animal pardon escaped animal lethal virus asylum memory remains vending machine bumper sticker mental ward good as hell violence public transit atmospheric pulling tooth insane asylum male time traveller science-fiction vivisection fran-done paranoia imagination ClearPlay forced drug consumption chains lecture plot point:bio-medical danger homeless man metal detector activism street preacher Brad Pitt disease poor neighborhood man uses a wheelchair brilliant dystopic future not seen sanatorium remake of a french film secret Based on short film time traveler dinner hawaiian shirt cassandra complex alternate timeline christmas cross hobo elevator malfunction black pantyhose Sci-Fi bald man SF jeffrey philadelphia pennsylvania grizzly bear dark trapped inside a pipe 1990s time traveller bruce willis schizophrenia germ alternate history musket Orange Ponytail book of revelations pursuit gurney after you watch it you spend hours thinkig about it jail monty-python-related year 1996 psycho ward ending snow sci-fi. dark cell phone R tv rabbit ears clearing in wood inaccurate depiction of mental illnesses lazy eye Bruce Willlis biblical quote elevator get annoying characters slow motion action scene biology hiding in a barn mri obsession brunette woman disguise remake of french film social misfits surrealism kick in face genetics psychology police remake monkey adapted from French end of the world male nudity: rear dark comedy Drama memory wearing sunglasses inside world war one post-apocalyptic story presentation hit in the crotch madness adapted from/inspired by:short film spray paint shot to death crotch grab man punches woman foreknowledge excellent Terry Gilliam bad breath trippy plague white telephone DVD-Video determinism man punches a woman nonlinear timeline post-apocalyptic future prank kidnapping hotel reception listening to music on car radio undressing wheelchair year 1990 pimp trapped banquet deterministic street life drama deadly virus cartoon on tv backwards time travel agonizing science dutch angle tooth extraction zoo inaccurate depiction of mental health institution Dark Future twist ending haunted by the past tv news Joseph Melito falling down stairs dystopian future music country road medical research owned great ending adventure rewatch mistaken identity stockholm syndrome boy running through the woods obscene finger gesture short skirt drug use taxi practical effects cry wolf newspaper headline Chris Marker policeman therapist murder Futuristmovies.com sci-fi tattoo on head eating spider trench warfare older version of self secret army heterosexuality cassandra syndrome key my favorite reviewers disliked this film: that's when I started to trust them less time loop design nature of insanity woman wears a miniskirt Time Travel beaten to death black and white television spider endless loop shower lion future Bad acting lab rabbit reference to cassandra party fugitive figment of imagination depressing laboratory movie theater prisoner watching a movie flashback within a flashback prison male female relationship leopard cult film nude pantyhose red eyes David Webb Peoples thumb's up sign virologist person in a car trunk police van taxi driver biological research great actors ecoterrorism bad guys win wanted poster dated technology virus nudity gun soothsayer sadness DVD mystery microbiologist battle baltimore maryland imdb top 250 altering history newspaper men over 45 reduced sentence Nonsensical  pay phone seedy motel animal welfare Post apocalyptic drooling stream long barreled revolver genius clever scenario contamination suit philadelphia pillow feathers Mental Institution unrealistic Amazing newspaper covered window British psychiatric hospital Special seen at the cinema airport terminal reference to houdini science fiction lab animal cleavage death past Christopher Plummer reference to albert einstein chase neo noir insanity Divx1 nightmare setting:Philadelphia public restroom Pelis1 male rear nudity barn telephone call car radio gas mask pantyhose"
        ],
        [
         "32",
         "33",
         "IMAX 3-D Stereoscopic 3-D"
        ],
        [
         "33",
         "34",
         "own Animal easily confused with other movie(s) (title) food slice of life animals happy ending nostalgia Oscar Nominee: Best Picture 1995 infantil seen 2022 AFI 100 (Cheers) villain nonexistent or not needed for good story farmhouse competition based on a book James Cromwell sweet pig Favorite environmental wholesome farmer meaty cute fantasy witty heartwarming animal:pig that'll do pig CLV Chris Noonan carnism adventure Animal movie ending seen more than once death overrated Hugo Weaving overdub farm tale farming sheep Biography on dvr talking animals children animals - live action boring Oscar Nominee: Best Picture specism barnyard animals based on a children's book funny 55 movies every kid should see--Entertainment Weekly original DVD Collection favorite rats way overrated dogs farm farm animals pigs family"
        ],
        [
         "34",
         "35",
         "Bloomsbury Group compare:Carrington (1995) painter protagonist is writer entirely dialogue england homosexuality based on a book England Character study intense independent film bisexual biopics protagonist is painter (artist) polyamory sad artists soldier World War I on dvr artist strong woman Emma Thompson compare:Bright Star (2009) conscientious objector character driven"
        ],
        [
         "35",
         "36",
         "swastika murder Tim Robbins poverty legal rights reference to fidel castro police officer true story tv camera lightning strong fence microphone Oscar Nominee: Music - Original Song burial singing gurney based on book deaf sentence defense lawyer charity social commentary despair R:depiction of a rape and murder rifle justice thunder smoking tied up R visitor solitary confinement catholic priest funeral woods crying gunshot adult diaper buy rape reference to james cagney american forgiveness murder of a nude woman lawyer scum self-discovery racist right and justice cemetery making out handcuffs inmate southern gospel witness siren news report search party Seen 2020 mother son relationship work detail reporter security electric chair child court case capital punishment dream rated-R based on a book sympathy bigotry church confession priest law anger checker game father daughter relationship slums little boy vigil repentance louisiana dialogues 2 evidence rope skipping pompadour brother crying man prisoner fainting flashback Christianity savagery prison rat Oscar (Best Actress) bishop watch clock brutality dead teen couple prison cell shot to death watching tv Can't remember death sentence court tattoo f rated title spoken by character bible dead man jury southern u.s. Abe death penalty stabbed to death unsociability crucifix empathy lethal injection Pena de muerte book abduction coffin chaplain Nun institutions UK gender in title poem prison farm Bible based on true story letter penalty religion little girl reference to w. c. fields guilt legal trial prison road gang psalm socially deprived family politician legal paper laughter emotion! visit prayer hatred Ari Catholicism police car placard courtroom mercy petition mother daughter relationship knife self pity ethics stabbing catholic photograph Knoll low life speeding vehicle drama tears Bechdel Test:Pass Oscar Nominee: Lead Actor moral dilemma polygraph test roman catholic teenage girl plain clothes nun rapist corpse grief racism prison nurse armed guard father son relationship redemption social justice reference to ma barker baseball game texas death row forest prison guard cowardliness lake protestor intense crime governor doomed man reference to adolf hitler testimony movielens top pick Oscar Nominee: Director CLV blockbuster listening to radio USA teenage boy death document holy bible Susan Sarandon rewatch Sean Penn author:Helen Prejean sad bigot crime reenactment female nudity execution newspaper clipping liberal bus faith adapted from:book death row Annemari graveyard court hearing white supremacy support group latex gloves playing checkers extreme cruelty telephone call classroom straitjacket rage and hate therapist nun audience candle loss lie detector"
        ],
        [
         "36",
         "37",
         "IMAX 3-D BD-R Stereoscopic 3-D"
        ],
        [
         "37",
         "38",
         "Andy Tennant orphan nostalgic cute twins/inter-related lives relationship sabotage fun switching places matchmaking identical twin heartwarming mary kate and ashley twins"
        ],
        [
         "38",
         "39",
         "comedy standard romantic comedy seen 2021 sweet Netflix Finland suck and below Alicia Silverstone romantic comedy fun frivolous want to own queer high school california blonde NO_FA_GANES very funny! camp quick Highschool dumb teen Jane Austen romance Comedy  Need to Feel Good teen movie girlie movie quotable adaptation classic Amy Heckerling based on a book fashion Paul Rudd coming-of-age HOT actress beverly hills teenagers parody marijuana Emma Beverly Hills teen 90s funny California matchmaking woman lead good looking girls saw it ten times makeover campy Comedy Lighthearted chick flick Funny teenager Brittany Murphy coming of age Beautiful Woman valley girl Classic female director Romance best comedy Classic! updated classics commentary Satire multiple viewings silly drugs Jane Austen retelling radiohead light seen more than once very funny teen slang author:Jane Austen Stacey Dash adapted from:book inspired by Jane Austen 1990s vomiting Donald Faison sunny"
        ],
        [
         "39",
         "40",
         "racism hulu South Africa Darrell Roodt Africa In Netflix queue south africa based on a book disk"
        ],
        [
         "40",
         "41",
         "marriage murder based on a play scheme modern day adaptation 1930s england rifle betrayal based on play male nudity gas mask kissing while having sex breaking the fourth wall bare chested male king of england assassination showdown king ambition falling to death fascist power Richard Loncraine Robert Downey Jr aside man in a bathtub roman numeral in title last stand main character shot psychopath Maggie Smith great acting explosion side breast death sentence civil war london england corrupt protagonist pardon dead woman with eyes open gunfight kidnapping final showdown kiss battle british royal family Ian McKellen prime minister violence dead woman on bed king richard iii shakespeare's richard iii widow 2024 relook tank playwright:Shakespeare opening action scene dance updated classics treason fascism manipulation dead woman main character dies dog pistol shakespeare love interest DVD-RAM death of king war death of protagonist character name in title abuse of power CLV cripple female nudity villain played by lead actor number in title adapted from:play tragedy death of title character shootout Shakespeare fictional war sex in bed female rear nudity machine gun rise to power bare breasts shakespeare in modern dress"
        ],
        [
         "41",
         "42",
         "Vietnam War redemption 1960s vietnam Chris Tucker war veteran money crime CLV armored truck african american Larenz Tate mercy killing veterans heist masks ptsd revolutinoary bank robbery medic loss of virginity Eric's Dvds"
        ],
        [
         "42",
         "43",
         "plague medicine based on a book England gloves physician jealousy dark comedy Nudity (Topless) CLV period piece London historical fountain spaniel british monarchy birth court wealth 17th century"
        ],
        [
         "43",
         "44",
         "fight scenes cheesy great casting didn't finish 2020 alternate dimension sorcerer fighter seen at the cinema set design Nostalgia Critic ridiculous characters videogame faithful to game awesome soundtrack campy ninjas violence bad acting hand to hand combat CLV fantasy No blood and gore over the top movie to see video game adaptation theme song ninja martial arts kung fu No Fatalities tournament good soundtrack sunglasses stylized bad graphics fatality action gore monster Paul W.S. Anderson based on video game over-the-top action cheesy ending island Christopher Lambert fighting BD-Video adapted from:game based on a video game fantasy action So bad it's good"
        ],
        [
         "44",
         "45",
         "murder three word title satirical female sociopath 1990s literature on screen black comedy tv personality fellatio fantasizing scantily clad female journalism adultery revenge changing room feet on table Journalism sexual 100 Essential Female Performances teenage sexuality high school man masturbates upward mobility literature on screen R high school student masturbation fantasy Bibliothek murder plot Wayne Knight voyeur panties career ice skating TV woman wears underwear bare chested male image entertainment woman wears a bra lust winter student obsession daydreaming hairy chested man upskirt femme fatale seductive behavior ambition white panties character appears on tv title same as book erlend's DVDs sexual attraction dark comedy camera shot of feet male masturbation new hampshire sitting by a window broadcast masturbating in front of a tv roman a clef Nicole Kidman cheating wife watching tv older woman younger man relationship scene during end credits columbia tristar home video f rated male objectification miniskirt dancing barefoot teacher student relationship fame male star appears shirtless italian restaurant mockumentary weatherwoman prospect preferred narcissistic fatal attraction sexy woman unfaithfulness nonlinear timeline gay director narcissism 20th century literature on screen female lead cynicism pantyhose legs camera shot of bare feet video footage library violence talking to the camera redhead woman voyeurism self actualization infidelity sex in a bed true crime teenager dance scene Best Performance:  Nicole Kidman as Suzanne Stone Maretto mariticide motel ClearPlay family feud based on novel or book dark humor copulation satire teenage girl uninteresting seduction sex camera shot of a woman's bare feet based on novel boat ship man wears a tank top reference to maury povich crime of passion fake documentary television manipulation narcissistic personality disorder man masturbates in front of a tv sexual predator irreverence extramarital affair main character dies masturbation oral sex dog fantasy scene female objectification nylons daydream media circus sex with a minor school photo booth CLV erotic fantasy minidress fan teenage boy tunnel vision media fantasy sequence Joaquin Phoenix columbia tristar narcissist split screen panties hit the floor barefoot female swimming pool 1990s hitman anchorwoman woman wears panties villainess played by lead actress reference to connie chung coitus leg spreading teen angst telephone call narcissistic fantasy classroom blue panties purple bra sociopath female protagonist american literature on screen reference to jane pauley pantyhose"
        ],
        [
         "45",
         "46",
         "marriage women extramarital affair wedding marriage proposal a chick flick based on a book married couple Nudity (Topless - Brief) CLV woman director family holiday Bibliothek wedding vows quilt advice love monogamy grandmother"
        ],
        [
         "46",
         "47",
         "actually the ending was obvius emotional murder Atmospheric police procedural neo-noir alfred hitchcock serial killers Biblical police officer detective generally like the movie because of actors and crimes setting:library terrible ending Serial Killer creepy murderer gory BFI modern classic bad acting lust and impulsiveness serial murder credits menacing nihilism despair morgan freeman violent ending psychological thriller super interesting greed worst ever SERIAL KILLERS R Saturn Award (Best Writing) crying scary sin gorgeous cinematography religious David Fincher grim suffering Suspenseful evil man gloomy powerful ending psychological Psychology Creative immoderateness disgusting lust watched 1995 wrath Gwyneth Paltrow painful to watch MURDER INVESTIGATIONS police investigation Violent pride and vanity ominous evisceration rated-R good acting police twists & turns psychology erlend's DVDs bradpitt good plot thriller surprise ending very good metronome crying man captivating david fincher pathology HBO Max pointless policemen Christianity brad pitt Top 10 ever hopeless ending great acting predictable pride husband-wife relationship murder mystery favourite Disturbing  seven twist sexual assault sick Sins scary stuff denzil washington horror suspenseful In Netflix queue serial killer gore Horror  philosophical characters evil Psychological drama crime thriller stereotyped characters acting the morgan freeman leaving non-sense policial DVD-Video 2020 pension victim Owned Kevin Spacey biblical psychological drama stuffed into the fridge noir Bible s.w.a.t. mystery envy religion gluttony week violence graphic violence murder investigation atmospheric imdb top 250 Want anticlimax scope Spacey: Excellent....Pitt: Brilliant....Freeman: Wow. A wonderful movie. Must must watch capital sin investigation overrated ACAB boring plot gruesome ClearPlay Strong Third Act strange Tumey's To See Again great villain Dante DIVX drama Brad Pitt cruelty Thriller  genius horror Sloth BD-Video Detective very good thriller - Brad Pitt shocking Intense  want it corpse aÃ§Ã£o library vhs cynical twist ending seen at the cinema confusing self-fulfilling prophecy disturbing suitcase of light bleak crime religious fanatic 3.5 owned seven deadly sins numbers police detective great ending USA Grotesque spannend Ashley Judd death seen more than once drug dealer Tumey's DVDs sins rewatch plot Morgan Freeman insomnia books villain detectives thought-provoking Literature the best Crime Theater VHS thought provoking dark amazing!. obvious plot messed up not mystery favorite bad ending rage and hate policeman torment"
        ],
        [
         "47",
         "48",
         "Cartoon racism Super 1.85 Blow-Up shamanism stereotypes Native Americans musical Not according to the truth based on myths or folklore DVD-Video 1600s indians vs. settlers forbidden love classic jamestown virginia David Ogden Stiers settler Ø§Ø­Ø³Ø§Ø³Ø§ØªÙŠ Disney 90s kid pug dog Irene Bedard romance historically inaccurate indians 17th century nostalgic Judy Kuhn colony Disney Renaissance itaege dialogue 2023 relook Related:Pocahontas (1995) Mel Gibson Russell Means Oscar (Best Music - Original Song) adventure gold rush indian chief Animation  story animation John Kassir Oscar Katottava virginia cross cultural relationship love story animal sidekick NO_FA_GANES sidekicks for the sidekicks Mike Gabriel Skinny Pocahontas talking animals culture clash too short Oscar (Best Music - Original Score) Eric Goldberg princess series soundtrack get animate tree star crossed lovers strong female lead native american princess song land claim BD-Video 70mm musket Alan Menken powhatan interracial romance Disney animated feature"
        ],
        [
         "48",
         "49",
         "lesbian director Nudity (Topless - Notable) own romance lgbt Religion nudity Patricia Rozema circus professor woman director nudity (topless) atmospheric female director visually appealing Gay lesbian"
        ],
        [
         "49",
         "50",
         "K Good movie with deep quotes comedy predictable ending neo-noir solving riddles/puzzles wishlist modern classic Love it detective losers black humour caper movie bad acting mind blowing Netflix Finland brownface fun sda sensational atmosphere Dennis Farina rewatchable R lie Benicio del toro storytelling tricky manipulative behavior criminal whodunnit rape upside down detective thriller violence against children corruption kevin spacey is soze 3 cliff hanger ungripping NYC intellectual organized crime vintage Oscar (Best Supporting Actor) con men seedy classic suspense ensemble cast genre-defining Best of the 90's Chazz Palminteri R:violence rated-R law mindfuck twists & turns complex erlend's DVDs cinema club flash back ambiguous ending thriller surprise ending very good Oscar Winner want to see again mafia complot crime boss Keyser SÃ¶ze great acting Scams unique predictable must see more than once R:strong language unreliable narrators contrived ending twist complex and tense sexual assault Dark Kevin Pollak funny heist unreliable narrator elaborate great storytelling SA DEN KAISER SOSE keyser soze characters Bryan Singer smart writing Keser Soze caper Eric's Dvds evil own acting dvd Kevin Spacey Pete Postlethwaite mystery awesome Stephen Baldwin library violence anti-hero Benicio Del Toro imdb top 250 Want dialogue intelligent lies mentiras Los Angeles overrated interrogation cerebral crazy unexpected ending Oscar (Best Writing - Screenplay Written Directly for the Screen) engaging good dialogs Suzy Amis ClearPlay boring Web of Lies criminal mastermind keyser sose robo Christine Estabrook Edgar Award (Best Motion Picture) dull characters unnecessary bad language clever puzzle-like interrogation flashback Thriller  flashbacks matrix BD-Video plot twist Gabriel Byrne character driven short-term memory loss theft My movies fell asleep #thriling story within a story manipulation cheesy nonlinear storyline rewatch worthy Academy Award - Best Original Screenplay complicated plot twist ending watch-again relatives excellent script seen at the cinema commedy confusing Myth IMDB - 1001 Movies You Must See crime music no emotional investment owned CLV great ending Surprise psychothriller btaege must see hustle Christopher McQuarrie slow beginning complicated crime gone awry must be seen more than once slow Tumey's DVDs seen more than once Suspense neo noir good actors filim noir narrated meta sibling Too fast hungarian oscar (best original screenplay) Crime action unexpected dark soundtrack 1990s New York City spaceyal great cast conspiracy"
        ]
       ],
       "shape": {
        "columns": 2,
        "rows": 53452
       }
      },
      "text/html": [
       "<div>\n",
       "<style scoped>\n",
       "    .dataframe tbody tr th:only-of-type {\n",
       "        vertical-align: middle;\n",
       "    }\n",
       "\n",
       "    .dataframe tbody tr th {\n",
       "        vertical-align: top;\n",
       "    }\n",
       "\n",
       "    .dataframe thead th {\n",
       "        text-align: right;\n",
       "    }\n",
       "</style>\n",
       "<table border=\"1\" class=\"dataframe\">\n",
       "  <thead>\n",
       "    <tr style=\"text-align: right;\">\n",
       "      <th></th>\n",
       "      <th>movieId</th>\n",
       "      <th>tag</th>\n",
       "    </tr>\n",
       "  </thead>\n",
       "  <tbody>\n",
       "    <tr>\n",
       "      <th>0</th>\n",
       "      <td>1</td>\n",
       "      <td>emotional Os dois viram loyal friend remote co...</td>\n",
       "    </tr>\n",
       "    <tr>\n",
       "      <th>1</th>\n",
       "      <td>2</td>\n",
       "      <td>pigtails plant discount store namesake dybbuk ...</td>\n",
       "    </tr>\n",
       "    <tr>\n",
       "      <th>2</th>\n",
       "      <td>3</td>\n",
       "      <td>Walter Matthau Minnesota old people that is ac...</td>\n",
       "    </tr>\n",
       "    <tr>\n",
       "      <th>3</th>\n",
       "      <td>4</td>\n",
       "      <td>girl movie slurs revenge based on novel or boo...</td>\n",
       "    </tr>\n",
       "    <tr>\n",
       "      <th>4</th>\n",
       "      <td>5</td>\n",
       "      <td>steve martin worst movies ever humorous weddin...</td>\n",
       "    </tr>\n",
       "    <tr>\n",
       "      <th>...</th>\n",
       "      <td>...</td>\n",
       "      <td>...</td>\n",
       "    </tr>\n",
       "    <tr>\n",
       "      <th>53447</th>\n",
       "      <td>288765</td>\n",
       "      <td>tw suicide apocalypse bad science survival plo...</td>\n",
       "    </tr>\n",
       "    <tr>\n",
       "      <th>53448</th>\n",
       "      <td>288779</td>\n",
       "      <td>Don Camillo Series</td>\n",
       "    </tr>\n",
       "    <tr>\n",
       "      <th>53449</th>\n",
       "      <td>288849</td>\n",
       "      <td>short film animation addiction</td>\n",
       "    </tr>\n",
       "    <tr>\n",
       "      <th>53450</th>\n",
       "      <td>288937</td>\n",
       "      <td>anime</td>\n",
       "    </tr>\n",
       "    <tr>\n",
       "      <th>53451</th>\n",
       "      <td>288955</td>\n",
       "      <td>catalan Costa brava flatmate slow paced univer...</td>\n",
       "    </tr>\n",
       "  </tbody>\n",
       "</table>\n",
       "<p>53452 rows × 2 columns</p>\n",
       "</div>"
      ],
      "text/plain": [
       "       movieId                                                tag\n",
       "0            1  emotional Os dois viram loyal friend remote co...\n",
       "1            2  pigtails plant discount store namesake dybbuk ...\n",
       "2            3  Walter Matthau Minnesota old people that is ac...\n",
       "3            4  girl movie slurs revenge based on novel or boo...\n",
       "4            5  steve martin worst movies ever humorous weddin...\n",
       "...        ...                                                ...\n",
       "53447   288765  tw suicide apocalypse bad science survival plo...\n",
       "53448   288779                                 Don Camillo Series\n",
       "53449   288849                     short film animation addiction\n",
       "53450   288937                                              anime\n",
       "53451   288955  catalan Costa brava flatmate slow paced univer...\n",
       "\n",
       "[53452 rows x 2 columns]"
      ]
     },
     "execution_count": 4,
     "metadata": {},
     "output_type": "execute_result"
    }
   ],
   "source": [
    "merged_tags = tags.groupby(\"movieId\")[\"tag\"].apply(lambda x: \" \".join(set(x))).reset_index()\n",
    "merged_tags = merged_tags[merged_tags['tag'].apply(lambda x: isinstance(x, str))]\n",
    "\n",
    "merged_tags"
   ]
  },
  {
   "cell_type": "code",
   "execution_count": 5,
   "metadata": {},
   "outputs": [
    {
     "data": {
      "application/vnd.microsoft.datawrangler.viewer.v0+json": {
       "columns": [
        {
         "name": "index",
         "rawType": "int64",
         "type": "integer"
        },
        {
         "name": "movieId",
         "rawType": "int64",
         "type": "integer"
        },
        {
         "name": "title",
         "rawType": "object",
         "type": "string"
        },
        {
         "name": "genres",
         "rawType": "object",
         "type": "string"
        },
        {
         "name": "tag",
         "rawType": "object",
         "type": "string"
        }
       ],
       "conversionMethod": "pd.DataFrame",
       "ref": "847032f4-14c2-4be7-ba31-135ab8f7eed4",
       "rows": [
        [
         "0",
         "1",
         "Toy Story (1995)",
         "Adventure Animation Children Comedy Fantasy",
         "emotional Os dois viram loyal friend remote controlled toy car match piggy bank double prize falling out a window CGI ss DARING RESCUES game of life board game toy comes to life family film nostalgic tim allen fun child antagonist Family cartoon falling from height anthropomorphism cowboy doll Best of Rotten Tomatoes: All Time buy male villain disney rescue dachshund sunroof cowboy ramp voice acting false accusation fishing rod light hearted buzz lightyear character buddy movie Toy Story cowboy boot toy tea set UNLIKELY FRIENDSHIPS spaceman toy buddy reflection é˜®ä¸€é¸£ Animation  want to see again biohazard sign claw crane funny animated fictional tv commercial scene during opening credits first of trilogy bedroom child's birthday party family dart mutant toy cgi animation envy ringing a doorbell hat bad guy touching story laughter woody character porcelain National Film Registry enemies become friends CG animation animmation joss whedon kids and family childish fireplace mr potato head low fantasy playskool soothing pterodactyl talking to a toy BD-Video suburb house yelling catchphrase crate dog encouragement antenna friend rejection action figure tough guy staircase turbo boost computer generated imagery jumping through a sunroof lovable characters karate comic hero bo peep character running calling someone an idiot toy dinosaur villain Pixar Pixar animation child villain accepting reality action famous song exciting plot toys radio controlled backfire digital comedy gratitude dental braces etch a sketch signature favoritism selflessness Buzz Lightyear brother sister relationship fantasy kids movie comeuppance poster talking toy globe anthropomorphic toy birthday present battery technological marvel new home unny ohio pet as gift thunderstorm 55 movies every kid should see--Entertainment Weekly utah teapot sliding down a banister computer animation Comedy  Animation Tom Hanks car classic twister the game subjective camera 3d parachute shark arcade erlend's DVDs toyota little boy scheming Tumey's VHS birthday party surprise ending time travel learning a lesson spacesuit neighbor Engaging teamwork self awareness Oscar (Special Achievement) scene before opening credits delivery new toy slow motion scene two word title locked in skateboard gliding pizza van title spoken by character pizzeria bull terrier wilhelm scream lots of heart national film registry asking directions 3 dimensional toy robot recliner chair surgical mask fear Owned good animation lifting a female into the air jack in the box ad for toys jealousy violence depression squeeze toy x291-LIVE-John Lasseter toybox arcade game toolbox Tumey's To See Again Tim Allen fun family movie toyota truck tom hanks karate chop friends battleship game male protagonist mr. potato head character card game forced puns  sleeping dog redemption American Animation mixed soundtrack first part CLV cute itaege baby christmas fight flashlight hockey puck urban setting martial arts water bright audio flashback cartoon dog soundtrack loyalty 1990s directorial debut affection walkie talkie lipstick on face doorbell home first of series innovative remorse package christmas present commercial feel-good boy next door candy land the board game Watched unlikely friendships face mask frustration toy animal rain shed Woody blinds tyrannosaurus rex animated single mother dog as gift window arm mother son relationship storage shed ventilation shaft humorous falling from a window child bully resourcefulness rousing monsters looking out a window rocket famous line very good reference to mattel story telling someone to shut up bully comeuppance TÃ©a Leoni does not star in this movie male antagonist pixar part of trilogy villian hurts toys doll reconnaissance mission mission reference to marie antoinette DVD-Video HEROIC MISSION wallpaper nesting egg CGI classic rated-G rag doll elementary school girl sheriff pet dog Want 2009 reissue in Stereoscopic 3-D leggings troubled production neighborhood time lapse photography fanciful family relationships baby monitor confrontation great movie child's birthday character's point of view camera shot Cartoon escape attempt troll doll banister original story Oscar (Best Picture) binoculars so funny blockbuster chrysler automobile mockery corkboard escape plastic army men light adventure shepherdess beautiful surrounded boy soldier children desk 3D famous score whimsica magnifying glass toy dog child's bedroom moving pull string doll meeting animated dog fistfight burn child destroys own toy shivering view through binoculars bouncy ball visual pun sci-fi microphone backyard rival operation game gas station brawl thunder TOYS COME TO LIFE https://movielens.org/tag/:animation kids rainy day watchlist fast and a furious ballet flats moving van sunlight almost favorite dinosaur space explorer cartoon showdown astronaut very nice pliers birthday heartfelt medical mask chased by a dog lifting someone into the air dolls hasbro bullying dartboard internal logic fails chrysler lebaron convertible animation friendship space ranger christmas day cgi cult film clock explosion jumping from height interesting Disney animated feature good cartoon chindren push button first cgi film unusual friendship children cartoon seatbelt little girl ya boy witty imdb top 250 van alien misunderstanding funny lines child destroys another's toy clever warm slinky dog talking in one's sleep John Lasseter mattel brat toy story doubt gift rescue mission torture guilty conscience good time magic 8 ball the boys avi cult favorite hero's journey Disney love interest toy soldier toy fire truck car crash mouth USA bed toys played flying threat chasing a truck television commercial apology weightlifting favorite hero action figures rivalry product placement dead battery"
        ],
        [
         "1",
         "2",
         "Jumanji (1995)",
         "Adventure Children Fantasy",
         "pigtails plant discount store namesake dybbuk box childhood reference to wilt chamberlain Kirsten Dunst disappearance car through wall handcuffs underwater scene investment banker trapped in a game brochure 1860s multiple versions of the same character conveyor belt new hampshire stampede footwear predator prey Fantasy night rampage suitcase driving a car into a building pelican family jungle adventure quicksand reference to libra the constellation elephant male police officer perilous escape real estate agent Chris Van Allsburg psychotronic film earthquake heartwarming chest homeless person Serial Escalation person thought dead is alive christmas presents see also:Zathura bicycle chase childish coming of age fireplace boring tire drumbeat screenplay adapted by author aunt niece relationship timeline change bullet time father son relationship bearded man based on young adult novel bum Robin Williams bad cgi revolver Children poison ivy long haired female mutation courage reference to tarzan shoes 4k Joe Johnston shared universe boarding school new england older version of character childhood recaptured arachnid christmas party lace comedy beach board vehicle based on children's book brother sister relationship nighttime fantasy animal driving a car black eye small town child turning into animal Jumanji predator scary excavation new home rainforest loss of parents rolling dice cult classic animal attack looting animal killing 1960s abandoned factory car classic axe blunderbuss leaf based on a book quadruped 20th century long haired woman time travel surprise ending Adaptation of Book fainting held at gunpoint psychiatrist Saturn Award (Best Special Effects) handgun orchestral music score shotgun motorcycle impersonating a police officer friends who live together police vehicle columbia tristar home video wooden chest title spoken by character For children transported back in time human hunting a human squatter factory herds of CGI animals overalls violence subtitled scene prologue reference to a zodiac sign first love attic fib police car refrigerator mansion hit by a car canoe cgi effect stealing a bicycle male protagonist based on novel looking through a keyhole animals supernatural fantasy forest spider attack river first part Filmed in BC feline grounded CLV itaege blonde woman alternate timeline christmas fight turning into a monkey no opening credits magic board game bug aunt nephew relationship adapted from:book cracked windshield 1990s nervous breakdown shoe factory hunter reference to ringling brothers handcuffed monsoon first of series time snob police officer magic pregnant woman partner woodland dice blonde child reference to a horoscope rifle reptile male hunter vine rain hiding in a closet board game breaking the fourth wall Baker viu firearm rhinoceros cemetery tail mother son relationship child bully surrealism not for kids police monkey arrest carnivorous plant old photograph missing child fiction big game hunter tween girl santa claus costume Artifact of Doom danger animatronic library girl car crashes into a store family name flood trombone child in jeopardy title directed by man bloody lip poison hacksaw construction site time lapse photography Saturn Award (Best Supporting Actress) chaos crocodile fictional board game hostage situation paint can live action and animation law enforcement officer recluse wisecrack humor 19th century sneaker vines blockbuster nemesis adventure columbia tristar boy title directed by male game Lebbat franchise children long haired girl actor playing multiple roles moving fish out of water vandalism orphan wood driving without a license adventurer plant attack game piece title written by male car accident motorcycle police officer beat up predatory reptile rainy day watchlist kids laundry detergent human becoming an animal car theft sniper rifle Dynamic CGI Action return to the past saying thank you giant insect endless screaming blunder businessman The Game Come to Life mosquito spider lion explorer presumed dead weapon lifting someone into the air title same as book confession lush wonder bread insect attack part computer animation horrifying (but not Horror genre) thrill critter statue friendship bat cutting one's own hair cgi cult film brown haired boy family legacy mustached man illegal gun sale gun bridge playing a board game improvised weapon kid flick little girl reference to the twilight zone heavy rain reference to clue the board game vortex altering history realtor jungle man mother daughter relationship sidearm Everything Trying to Kill You cgi animal rich family crawler competition one word title supernatural power gun store motor vehicle car crash animal driving a vehicle view through rifle scope bicycle fortune teller carnivore exterminator vegetation sporting goods store cutting face while shaving apology zebra convertible jungle"
        ],
        [
         "2",
         "3",
         "Grumpier Old Men (1995)",
         "Comedy Romance",
         "Walter Matthau Minnesota old people that is actually funny comedy Ann Margaret wedding fishing Sophia Loren grun running Daryl Hannah Jack Lemmon CLV old comedinha de velhinhos engraÃƒÂ§ada duringcreditsstinger good soundtrack sequel fever NO_FA_GANES comedinha de velhinhos engraÃ§ada best friend old men Howard Deutch midwest old man sequel funny Burgess Meredith Funniest Movies moldy old age"
        ],
        [
         "3",
         "4",
         "Waiting to Exhale (1995)",
         "Comedy Drama Romance",
         "girl movie slurs revenge based on novel or book divorce CLV single mother characters chick flick interracial relationship"
        ],
        [
         "4",
         "5",
         "Father of the Bride Part II (1995)",
         "Comedy",
         "steve martin worst movies ever humorous wedding daughter seen 2021 midlife crisis Steve Martin sentimental it thought it was funny but it wasn't Touching narration parent child relationship remake confidence Diane Keaton father - child relationship CLV heartwarming Comedy growing old seen more than once baby fourth wall 4th wall watched under duress sequel fever aging contraception regret sequel Fantasy father gynecologist pregnancy childhood classics family"
        ],
        [
         "5",
         "6",
         "Heat (1995)",
         "Action Crime Thriller",
         "setting:LA murder neo-noir slow paced los angeles visceral detective ex-con real life adultery suicide betrayal Rob violent R slick ending lame In The Nucleus Jon Voight Bibliothek Music  who cares DVDs guns complex characters Strong bad man thieves bank robbery gang robert de niro HD MKV obsession relationships Mary Kircher bank job lame Reflection tragic end suspense ensemble cast R:violence police erlend's DVDs heists Robert De Niro realistic action Michael Mann loner Violence  captivating somber Top 10 ever great acting Al Pacino Bank Heist Recommendz Top Pick cult film cat and mouse ONE LAST HEIST Captivating heist Can't remember understated mine Viviane Vives Al and Robert need to own long bank heist gunfight too long hollywoodization Action battle of wits violence Heist atmospheric imdb top 250 witty Want dialogue heist movie professionals Los Angeles overrated dumbed down ClearPlay Val Kilmer realistic boring Al criminal mastermind amazing cast authentic gunfights thief al pacino cliched netflix queue teenage girl R:language synthesizer soundtrack blu-ray honor Al Pacino Vs Robert De Niro tough guy cinematic 1 philosophy career criminal crime bleak male-female relationship one last job tense electronic soundtrack owned seen 2011 CLV btaege 7.5-FilmAffinity Ashley Judd Realistic Tumey's DVDs robbery chase Natalie Portman individualism authenticity Crime action Bechdel Test:Fail Seen 2010 soundtrack Third Act Problems crime epic cars es un poc de lo de sempre great soundtrack vontatott"
        ],
        [
         "6",
         "7",
         "Sabrina (1995)",
         "Comedy Romance",
         "fantasy romance based on a play comedy solarium character name as title fashion assistant interrupted kiss marriage proposal helicopter ride midlife crisis romantique breakout new york city ugly duckling vogue magazine bentley motor vehicle unfaithful fiance martha's vineyard voice over narration based on play unrequited love finding yourself long island new york NO_FA_GANES paris Paris jet plane marriage engagement love transformation businessman automobile american abroad upstairs-downstairs romance cinderella story womanizer mother son relationship relationships dinner date Nancy Marchand workaholic fairy tale confession remake family estate Drama party family business surprise ending passionate kiss business merger love story remakeOf:Sabrina(1954) sibling relationship photographer slow dancing fusion business deal british car forbidden love tycoon makeover flat screen television bentley the car kiss ends with a kiss sophistication playboy reference to bill bojangles robinson remadeAs:Sabrina(1995) chick flick fiance fiancee relationship love triangle coming of age chauffeur offering a bribe family relationships brother brother relationship oceanside home bicycle tour Romance Harrison Ford color remake of black and white film return home father son relationship french boyfriend redemption millionaire living above a garage long island dog sexuality as good maybe better than original park avenue manhattan new york city Greg Kinnear concorde paris CLV infatuation paris france Julia Ormand cleavage brother punches brother mistaken identity sitting on glass picnic on the beach long island, new york Julia Ormond elopement man sedated telephone call paris, france falling in love great cast female protagonist attempted seduction"
        ],
        [
         "7",
         "8",
         "Tom and Huck (1995)",
         "Adventure Children",
         "teenage hero murder three word title rescue from drowning nicknames as title cave in forenames as title wilderness based on book nostalgic sleeping rough bath sneeze apple cutting one's finger jail witness to a murder young love rifle brawl cabin chores sneaking out sword fight falling from height near drowning ends with freeze frame engagement small town widow douglas character painting a fence funeral slimehouse knife in the back barefoot boy jumping through a window criminal injun joe character character names in title child's point of view mud evil man Mark Twain bare chested male bare chested teenage boy single mother pipe smoking teenager fighting adult spider showdown witness false accusation slice of life teacher knife throwing doctor child falling to death huckleberry finn character knocked unconscious suspense based on a book two against one echo jar first kiss judge buried treasure flintlock rifle jail cell brunette surprise ending marble knife fight map friendship male female relationship child sneaks out of house pushed off a bridge cult film covered in mud author:Mark Twain mississippi river child protagonist native american bible beating knife in back stabbed to death child fighting adult sword tween girl prospect preferred child hero cigar smoking lying under oath timeframe 19th century coffin bridge cowboy hat character names as title camera shot of bare feet kiss girl grave robbing sheriff violence torn shirt alcoholic missouri climbing out a window campfire child in jeopardy disarming someone murder trial swearing an oath trapped in a cave flintlock pistol looking at oneself in a mirror courtroom knife flying kick raft runaway barefoot canoe falling into a hole treasure chest freeze frame tom sawyer character death threat alabama based on novel or book brother brother relationship aunt polly character opening action scene fishing hook shouting male friendship boyfriend girlfriend relationship based on novel finger cut lost treasure treasure map Peter Hewitt outlaw framed for murder one room schoolhouse accused of murder fear of ghosts Disney rural setting tough guy river duel trial 19th century chest of gold coins character name in title school testimony punched in the face shaking hands fat man death on the run undertaker climbing a tree long brown hair blood oath knifeman boy nightmare abandoned house child smoking aunt nephew relationship adapted from:book mirror graveyard newspaper headline shoe barefoot male becky thatcher character hero lantern classroom drunkard skeleton good versus evil Library System musket candle cave fistfight eyepatch"
        ],
        [
         "8",
         "9",
         "Sudden Death (1995)",
         "Action",
         "fireman murder attempted murder uzi panic sole black character dies cliche double cross black comedy brother sister relationship car bomb scream kitchen timeframe 1990s hostage betrayal oldsmobile motor vehicle falling from height stabbed in the throat comic relief chef u.s. car flash forward ex husband ex wife relationship vice president rescue exploding car homemade weapon bodyguard evil man u.s. vice president automobile assassination race against time rooftop showdown die hard scenario mother son relationship car masked killer terrorist plot blood burned alive suspense one against many oldsmobile cutlass supreme assassination attempt strangled to death strangulation father daughter relationship independent film silencer surprise ending cia central intelligence agency mercilessness held at gunpoint man on fire warrior bone as weapon explosive cult film bomb ice rink brutality ransom two word title explosion pittsburgh penguins Can't remember title spoken by character mission gore murderess hostile takeover female assassin villainess body lands on a car evacuation fear machismo deception danger gunfight improvisation final showdown kidnapping bravery Jean-Claude Van Damme Action girl psychotronic film hand to hand combat violence Peter Hyams prologue politician rooftop fight one man army terrorism time bomb exploding helicopter locker room child in jeopardy disarming someone hero kills a woman rocket launcher chicago blackhawks paranoia fbi federal bureau of investigation anti hero mother daughter relationship knife ice hockey one day timespan henchman helicopter hockey popcorn pittsburgh pennsylvania ambush karate chop opening action scene shot in the forehead stadium rescue mission unlikely hero torture rogue agent shot in the heart father son relationship fbi agent helicopter crash assassin glock mayor action hero pistol survival director also cinematographer m 16 man murders a woman tough guy wisecrack humor near death experience pittsburgh, pennsylvania demolition karate terrorist CLV semiautomatic pistol jean-claude van damme escape universal death in title star spangled banner death fight blood splatter martial arts boy security guard villain mascot costume male rear nudity shootout action courage 1990s bazooka hero heroism good versus evil conspiracy oldsmobile fistfight"
        ],
        [
         "9",
         "10",
         "GoldenEye (1995)",
         "Action Adventure Thriller",
         "gadget car post soviet russia casino owners special car high tech slide locked back gun duel falling from height german actor playing foreigner m character laser cutter Sean Bean dies evil man computer games bond vodka martini die hard scenario ridiculous blood computer hacker fighter jet james bond britain gangster Bob*ola returning character with different actor head butt funny mercenary gun battle london england computer cracker female assassin player villainess mixed caps in title good man leg scissors cuba killer as protagonist airplane BD-Video grenade bullet time ITS AN OK MOVIE IF YOU LIKE  JAMES BOUND. mexican standoff year 1995 friend turned foe falsely accused intelligence agent shot in the foot tough guy st. petersburg, russia unsubtitled foreign language karate shot in the back terrorist russian mafia red ferrari Tumey's DVDs bathroom evil woman gadgets Judi Dench villain action James Bond trap satellite machine gun gatling gun attempted rape beach vehicle shaken not stirred general casino card game Pierce Brosnan james bond character kgb stealth helicopter car chase MI6 year 1986 saint petersburg russia woman rapes a man organized crime I wanted the bad guy to win.  Sean Bean out-Bonds Bond. russophobia russian army car casino gadget watch classic spy spy mission memorable lines intelligence airport silencer female killer thriller held at gunpoint motorcycle slow motion scene dominant woman gambling house title spoken by character bisexual woman color in title cranberry seventeenth part top secret missile man wears a tuxedo machismo lifting a female into the air secret service sadist violence hand to hand combat electro magnetic pulse subtitled scene terrorism flash freeze death internet british hero killing woman massacre female gunfighter opening action scene shot in the forehead boat card game official bond film Best Of the Brosnon Bonds explosions action hero former soviet union megalomaniac british intelligence riviera CLV driving a tank Izabella Scorupco seen more than once Siberia fight blood splatter martial arts train propaganda miss moneypenny character train wreck shootout dark research station casual sex trailer narrated by nick tate lesbian subtext spies good versus evil see you in hell ejection seat motorcycle stunt bungee jump plane crash partner innuendo museum snow rotorcraft russian broken electronic works secret base exploding car nuclear weapons elevator femdom Memorable Characters cemetery automobile Cuba motor car laser gadgetry dominatrix secret intelligence service suffocation shot in the chest warrior secret service agent male rape shot to death woman with a gun russia intelligence agency spying seaplane colonel Sean Bean gunfight kidnapping tank chase scene bungee jumping wheelchair one man army time bomb military reverse footage lifting an adult into the air tank 007 spy turned terrorist assassin satellite dish attempted lesbian rape pistol computer computer virus mgm ua owned blockbuster vengeance exploding train escape btaege adventure EMP Bond execution soldier Puerto Rico pseudo rated franchise Latin America fire spy camera fistfight murder chemical weapons revenge cossack ferrari hostage brawl car accident agent sauna espionage bungee jump stunt mixed martial arts kissing while having sex bill tanner character st. petersburg russia baccarat major boothroyd character showdown reboot of series 007 (series) Seen 2020 electromagnetic pulse 007 movies are bad. femme fatale weapon terrorist plot lifting someone into the air church strangulation poetic justice sadism mgm ua home video evil plot disfigurement Caribbean aston martin cult film explosion red army it's a good movie but the end of 007 is always the same revolving door philandering gadget gun tattoo on butt exploding helicopter male soldier ak 47 bond girl good dialogue Russia helicopter rough sex MTSKAF russian general gambling casino rogue agent goldeneye sexuality official james bond series army one word title motor vehicle exploding tank exploding building death boys with toys chase Famke Janssen enemy secret agent one-liners part of the body in title loss of friend sequel secret identity train explosion cult figure british secret service conspiracy jungle"
        ],
        [
         "10",
         "11",
         "American President, The (1995)",
         "Comedy Drama Romance",
         "gun control great performances implied sex Annette Bening reference to julius caesar playing pool political consultant reference to dwight d. eisenhower 23.03.06 reference to frank capra decent flick Aaron Sorkin clever dialogue senator Bibliothek NO_FA_GANES presidential election reference to woodrow wilson news conference love flag burning seen press secretary reference to brutus dating state of the union address political humor cinderella story portrait of a president reference to cassius girlie movie single parent chief of staff reference to thomas jefferson new love Drama bouquet morals the white house Rob Reiner widower lobbyist wildlife conservation florist columbia tristar home video election campaign DVD Collection environmentalist presidential candidate speechwriter Amazing kung fu reference to marie antoinette american president washington d.c. reference to james buchanen camp david u.s. president diplomatic reception widower single woman relationship florist shop house of representatives politician reference to martin van buren trombone Michael Douglas US President reference to king louis xvi state dinner ethics usa president Romance political candidate Martin Sheen cheesy great story cult favorite political campaign president single parents white house politics cute CLV reference to the state of the union speech seen more than once christmas columbia tristar reference to arthur murray liberal environmental issues idealism White House oval office reference to franklin d. roosevelt screenwriter:Aaron Sorkin sister sister relationship great cast liberal propaganda woman wears only a man's shirt"
        ],
        [
         "11",
         "12",
         "Dracula: Dead and Loving It (1995)",
         "Comedy Horror",
         "garlic slipping on shit satirical superhuman strength gothic immortality vampire biting neck bite mark aversion to garlic colliding with chandelier order grasshopper theater intestines renfield character mental control slipping on stairs covered in blood organ character says i still got it borgo pass burnt by sunlight calling someone an asshole park shadow on a wall human versus vampire ship's wheel falling from height reference to a demon undressing in front of a window vampire vampire slayer ball colon in title Leslie Nielsen lucy westenra character undead castle jumping through a window chandelier vampire hunter climbing through a window reference to an enema love vampire bite trance entering the closet vampire comedy vampirism dream sequence pallor chapel character says i don't care reference to demons spider lust vampire fangs dancing in front of a mirror human brain sanitarium blood burned alive doctor busty woman hypnosis nosferatu jonathan harker character dream bride incision mina murray character shapeshifting sailing ship father sees man groping his daughter shadow father daughter relationship man molested by woman hung upside down spiderweb professor vampires abandoned chapel bending a prison bar horror spoof redhead wig parody fainting smashing mirror caught in a spider web stabbed in the heart opera bat gypsy woman exposing her breasts horse and carriage calling someone a degenerate BD-R character says poppycock killed by sunlight romania cult film reference to paris bitten by a vampire autopsy hospital colliding on glass window solicitor funny stepping on someone telekinesis calling someone darling dracula character repeats someone else's dialogue vampire horror dream scene london england woman wears a scarf written and directed by cast member enema renfield bat excrement van helsing bending steel bars drink thrown into someone's face sexy woman guano couple dancing broken mirror coffin skull male vampire scarf seductive dance pretty woman breaking a glass window character says they had it coming face slap insect eating assistant downblouse grave psychotronic film human caught in spider web vampire bat horse carriage slapstick comedy perseverance farce dr jack seward character absurd comedy insane asylum paper cut intangibility shapeshifter killed by a vampire sexy female vampire blood on shirt brain coachman reference to whitby exploding body bending metal bar dance scene full moon super strength fangs fiance fiancee relationship bitten in the neck boring hypnotism barefoot female vampire wearing a scarf indoors vampire count satire ship spoof male protagonist stake through the heart asking for punishment finger cut corpse vampire lair maidservant no reflection in a mirror no reflection stepping in shit british abroad mountain pass fainting man breaking a mirror barefoot woman calling someone my dear falling down stairs slave character name in title cobweb calling someone a pervert vampire castle village voluptuous woman Mel Brooks death poked in the eye carfax abbey van helsing character dancing death of vampire mourning for the villain schooner blood splatter cross burned by a cross eating an insect vampire killed by sunlight asking to be punished hammer year 1893 reference to abraham van helsing count transylvania big breasts five word title hanging upside down loss of friend end credits roll call enslavement trying to get the last word insect seduction redheaded woman sunset"
        ],
        [
         "12",
         "13",
         "Balto (1995)",
         "Adventure Animation Children",
         "glass rescue from drowning journey cold weather medicine howling cold chorus traditional animation furry outsider syringe bandana wilderness boulder footprint race title written by male finish line arctic wolf live action sequence polar bear sausage link timeframe 1990s footprint in the snow sick child goose snow hand drawn animation rock falling from height illness lie animal hero romantic rivalry slimehouse prejudice woods rescue drowning falling off a cliff feather plucking animated snowball narrator wrongfully accused bear attack strength animal protagonist race against time underwater scene stray dog 2d animation unconsciousness outcast taunting breaking through ice timeframe 1920s presumed dead doctor child frozen lake furnace bully knocked unconscious surrealism right hand man dog team animal that acts human piano telegraph operator marking a trail storm husky spiderweb husky dog snow goose ice cave 20th century iditarod surprise ending bear statue balto character Ei muista loosely based on a true story animation dog movie pawprint animal name in title pet epidemic orchestral music score sled dogs first of series russian accent crawlspace avalanche poulterer cult film dog sled friends who live together action girl hospital vial talking animal year 1925 butcher classical music scene during opening credits 1920s antitoxin cleaver dog sled race James Horner sled dog pneumonia self esteem broken bottle dog race coffin throwing a snowball sadness pets arrogance snowstorm based on true story part animated self identity crony shunned hat girl telegraph bone city park plaque biplane Simon Wells diphtheria wolves title written by female title directed by man going in circles alaska boiler room scent grandmother granddaughter relationship talking animals racing sidekick falling icicle white wolf dogsled serum disease lost in the woods airplane timeframe 20th century dogs ship male protagonist sort of boring boyfriend girlfriend relationship cliff boat morse code cheerleader dog racing year 1995 central park manhattan new york city icicle pop music reference to fyodor dostoyevsky lackey crate live action and animation dog wolf singer offscreen sense of smell love interest forest tree northern lights first part one word title part live action character name in title illumination swimming underwater itaege mockery dog sled team snow adventure ill child light sled threat wolf dog fight animal villain audio flashback train title directed by male memorial grizzly bear half blood children balladeer nome alaska half breed courage falling over a cliff 1990s actor playing multiple roles tenor sun heroism blizzard lantern reference to the jetsons hot dog hit with a snowball rivalry reference to the iditarod older version of character eating soap cave dog-sledding race sneeze"
        ],
        [
         "13",
         "14",
         "Nixon (1995)",
         "Drama",
         "marriage character name as title true story 1930s political corruption political consultant Oliver Stone psychedelic therapy billiards watergate black and white scene 1970s illness Anthony Hopkins presidential election interpreter cold war era disney american politics career corruption trust epic Historical opinion vietnam war evil politician based on a true story political drama mother son relationship timeframe 1920s 1960s watergate scandal biography reference to frankenstein piano power timeframe 1930s tape recording Drama history Tumey's VHS memory fbi chief nixon resignation biographical nixon flashback political leader year 1972 Wooohoo first lady hospital election campaign title spoken by character political conspiracy timeframe 1960s bedroom 1920s United States own surname as title washington d.c. long director cameo US history election based on true story woman wears eyeglasses alcoholic drink year 1973 politician richard nixon steak character based on real person:Richard Nixon cover up lincoln memorial US President historical figure paranoia fbi federal bureau of investigation republican party china cinematographer:Robert Richardson government biopic confrontation usa president brother brother relationship alcoholism controversy american history usa political candidate father son relationship quaker political campaign 5 president one word title politics CLV drunk press conference USA husband wife relationship horse race based on real person president of the united states scam political cover up washington dc, usa rise and fall courtship oval office united states of america man wears eyeglasses conspiracy reference to mohammad reza shah pahlavi Watergate"
        ],
        [
         "14",
         "15",
         "Cutthroat Island (1995)",
         "Action Adventure Romance",
         "scalp Matthew Modine humor bar shootout adventurer double cross timeframe 17th century slave auction tattoo on head female pirate bad acting action heroine pirate betrayal latin Renny Harlin sword fight Frank Langella kissing while having sex paramount better than I remembered showdown hook for a hand kicked in the groin british navy shipwreck mgm father daughter relationship monkey uncle niece relationship sword duel tattooed map brunette map assertive woman sea battle explosion island alcohol sensuality death of father sword 17th century Geena Davis exotic island heroine kiss battle violence exploding ship cannon barroom brawl tavern pirate ship strong female lead translator surgery ship 1660s pirates treasure map sexuality mgm ua timeframe 1660s love interest duel combat slave CLV escape big budget treasure adventure treasure hunt chase rope swashbuckler adventure action dumb but funny Pirate strong female character bar fight adventuress swashbuckler female protagonist"
        ],
        [
         "15",
         "16",
         "Casino (1995)",
         "Crime Drama",
         "great performances gangsterism alcohol abuse hit with a baseball bat casino manager adultery colt python cigarette holder tied up violent drunk wife jeweler's loupe gangland crime voice over narration arab man epic drama Las Vegas mafia boss female escort Nicholas Pileggi pen as a weapon complex characters cowboy investment banker mob family tracking shot las vegas nevada vise blood hotel casino slot machine ensemble cast reference to detroit ball peen hammer mossberg 500 blueberry muffin cattle prod DeNiro police surveillance psychopath shot in the temple gangster crime boss italian american stabbed in the neck watch food store borderline personality disorder gangland murder killing suitcase american criminal colorful clothes cocaine evil wealthy man Martin Scorsese listening device handgun with silencer mobster old gangster Pesci snorting cocaine sex scandal Gangster nagging wife Joe Pesci chip gambling indulgent million dollars loan shark High Production Values cinematographer:Robert Richardson 20060407 fast paced gangland hit television host brother brother relationship BD-Video corpse garter cool muddled motivations jewish mobster smith &amp; wesson model 15 hit with a telephone tough guy glitter murder of brother shot in the back spaghetti punched in the face surveillance violent gangster jewelry Tumey's DVDs 1980s cult director american gangster narrated mob lawyer wise guy power struggle shocked with a cattle prod arab ultra slow motion playing golf swimming pool 4k Great Ensemble Cast drug addiction wealth cigarette smoking black comedy fellatio old man beaten with a telephone observation strictness car bomb hammer as a weapon docudrama drama woman snorts cocaine colt revolver mob enforcer greed intoxication costa rica NO_FA_GANES gangster murders fellow gangster gamble person on fire insult m1911 pistol saw machine organized crime tied to a bed mob trial casino toxic masculinity baseball bat gangland stooge domestic violence based on a book muffin mormon sex scene masterpiece broken hand complex erlend's DVDs Robert De Niro hierarchy silencer illegal prostitution hit with a hammer american mobster ex prostitute held at gunpoint mafia death from heart attack anti semite death of brother predictable shotgun slow motion scene telephone gambling debt cheating wife timeframe 1980s title spoken by character memasa's movies criminal gang kansas city Eric's Dvds crushed hand need to own jewish gangster long homicide kansas city missouri brutal murder mob execution gangster film sadist criminal underworld produce market friend friend relationship traveling shot emotionally unstable woman violence depression mob violence the mob threatened with a circular saw electronic surveillance getting rid of somebody fbi federal bureau of investigation courtroom screenwriting mob hit excellent cast overdose lap dissolve noise complaint bookie circular saw Sharon Stone con man based on novel american mafia smith &amp; wesson model 10 oral sex oral sex in car gambling addict cosa nostra iris shot jewish american CLV husband wife relationship dispute Suspense blood splatter schoolboy sex in a car silenced gun on dvr soundtrack violent man golf course old man de niro in pink sex in bed united states of america mafioso title appears in writing joe pesci las vegas squeezing sandwich surveillance photograph uzi los angeles california chain smoking mafiosi private jet liquidation underworld James Woods gangland execution stabbed in the throat senator 1970s heart attack period drama temper casino security shot and killed steel baseball bat exploding car corruption breaking a rule firearm reference to the elephant man ethnic slur poker cigarette mob hitman robert de niro jewels shot dead reference to al capone beaten up witness elimination dolly shot con artist depressed woman antisemitism card playing police cash shot in the chest burglary anti semitic sleazy man shot with a silenced gun crime lord corrupt politician Nudity (Rear) shot in the head smith &amp; wesson model 39 woman shot to death brutality non-fiction shot to death heist crime family browning hi power pistol girl stuck her tongue out silenced pistol beating maximalism italian food cowboy hat money laundering prostitute woman killed stabbed with a pen prostitution Nudity (Topless - Brief) blow job boss mob boss las vegas police department actor shares first name with character diamond theft pimp Robert Deniro mob chicago outfit control freak gangster crime pain Vegas drunkenness character development gambler timeframe 1970s blu-ray crooked gambling desert capitalism safe deposit box key dutch angle crime syndicate glitzy card cheat jew hypocrisy jewellery heist bookmaker title spoken by narrator great ending gangsters broken finger rewatch plot ballpoint pen fbi surveillance in medias res fbi hammer vegas mob follow shot women as sexual objects hitman criminal organization historical drama crime empire skimming na dysku modern western car damage slurs storyline murder social club elimination woman performs fellatio crushed head political corruption suitcase full of money Robert DeNiro based on book revenge reference to john barrymore las vegas casino stabbed with a pencil scorcese money lender betrayal boyhood friend casino employee key sadistic psychopath Bibliothek crying criminal midwest fat mafioso contemporary western brute nevada desert cornfield beaten to death beaten with a baseball bat Documentary like office nudity (rear) lifting someone into the air cannibalism man killed oral sex in a car golf player abusive mother anti semitic slur underboss depressing screenplay neo western man shot to death extreme violence cult film labor explosion hulu dead body in a car trunk mine gambling syndicate drug abuse wiretap bus stop illegal activities nudity criminal empire based on true story etaege killer short man year 1973 imdb top 250 mafia don head in a vise wife cheats on husband chicago mob dual narration true crime fbi investigation torturer female drug addict compulsive gambler marriage crisis baseball bat used as a weapon grocery store jewish lawyer helicopter blow job in a car labor union bird's eye shot italian mafia alcoholism drug overdose gambling casino torture glorifying violence buried alive multiple narrators fbi agent one word title money flashy death by heart attack drunk stylish first person narration long movie death threat slow diamond heist hysterical wife female nudity Mafia chicagoan neo noir Divx1 fired from a job reference to ozzie and harriet italian gangster safe spitting in food walther pp year 1983 goon chicago illinois fran  rise and fall year 1980 perfectionist crime epic Goodfellas II telephone call safe deposit box burglar"
        ],
        [
         "16",
         "17",
         "Sense and Sensibility (1995)",
         "Drama Romance",
         "opening a door emotional three word title parrot poverty Oscar Nominee: Best Picture 1995 wedding disdain trials and tribulations marriage proposal 1810s Kate Winslet comedy of manners vicar Alan Rickman shakespearean quotation singing BGAB LRC horse brother sister relationship country life regency period snobbery Imogen Stubbs Netflix Finland rich man poor woman melodrama rainstorm young girl death of stepfather not available acceptance treehouse resignation fast London illness Bibliothek unrequited love 18th century period drama country estate Oscar Nominee: Best Picture seen a while ago rescue Emma Thompson love sword fighting tomboy Hugh Laurie older man younger woman relationship Jane Austen classic literature cottage Hugh Grant upper class gripping romance east indies likeable characters classic blood doctor patriarchy based on a book tearjerker romance Period pianoforte piano church english country dance title same as book parish period film prudence stable party Regency England bowling costume drama bouquet social criticism britain period piece jane austen hugh grant handkerchief Great Screenplays horse and carriage BD-R devon timeframe 1810s duty Great Adaptations tragic love hulu nothing happens suitor realistic characters f rated three sisters stepmother 1800s london england mine pregnancy monogram loss of fortune parcel own stepbrother stepsister relationship ill teenage girl very well adapted intimacy dvd long colonel psychological drama Unconditional Love letter empire fashion jealousy Clssical Romance servant depression heartwarming atmospheric secrecy intelligent military officer chick flick rural medical examination visit coin timeframe 1800s rural area historical british likeable love story love triangle mother daughter relationship boring decorum beautiful scenery widow Sven's to see list based on novel or book kite cousin cousin relationship devon england teenage girl brother brother relationship Romance English horseback riding based on novel honor card game atlas death of husband father son relationship illegitimate child dark past British dog fall shakespeare rural setting lock of hair romanticism class differences damsel in distress reference to william shakespeare poetry 19th century money amazing acting heartbreak Britain rich snob CLV dinner arranged marriage literature inheritance bed husband wife relationship romantic second wife beautiful dancing baby sad drawing secret engagement author:Jane Austen bird adapted from:book true love story famous score Shakespeare Ang Lee critical passion Romance  courtship gentle cinema seen 2012 favorite mother in law son in law relationship picnic sister sister relationship na dysku 4k loss of father secret marriage engagement ends with a wedding female protagonist candle sincerity"
        ],
        [
         "17",
         "18",
         "Four Rooms (1995)",
         "Comedy",
         "murder goddess comedy neo screwball comedy los angeles cult movie cast cigarette smoking omnibus film blasphemous nudity (topless) multiple short stories in one black comedy Salma Hayek magic syringe brother sister relationship witches Jennifer Beals sperm b movie hostage implied fellatio anthology film collective filmmaking portmanteau film actor director lingerie slip precocious child Alexandre Rockwell witch feet party hat los angeles, california barefoot boy title directed by female Rodriguez disney elevator trance gagged woman Combustible Edison Music interracial relationship collection of short films weapon bellhop non statutory female on male rape surrealism Robert Rodriguez bet dark comedy dead body independent film woman director Drama witchcraft Tumey's VHS incest overtone role play gangster movie producer cult film hoodlum scene during end credits anthology night f rated Thriller own movie star foul language new year coven spell wraparound story awesome soundtrack witches' coven child smoking cigarette filmmaking duct tape Antonio Banderas Nudity (Topless) Tarantino slapstick comedy Comedy champagne Quentin Tarantino animated opening credits Madonna retro multiple storylines mother daughter relationship hypnotism hanging out a window reference to peter lorre fast paced gross tied to a chair cartoon on tv Allison Anders satire champagne bottle sex corpse bondage omnibus animated title sequence drunken telephone call female friendship tarantino toe sucking supernatural power pasties revolver 4 severed finger Tim Roth hotel Bruce Willis hotel room bathroom female nudity new year's eve mistaken identity number in title dead prostitute incest vomiting fire meat cleaver directed by several directors zippo lighter"
        ],
        [
         "18",
         "19",
         "Ace Ventura: When Nature Calls (1995)",
         "Comedy",
         "searching for a culprit naked man premature birth detective reference to lone ranger monk horse equestrianism emotional breakdown sacred bat procyonids meditation buddhism chiroptera reference to a fly the insect black people interpreter rape simian hominidae searching for motive roaring forensics cebinae ace ventura character reference to tuna fish hysteria reference to jack and the beanstalk stewardess clerical celibacy character says war is hell mountaintop monastery reference to a rat spring second part stripped naked africa man spits on another man's face common raven crashing a car into a tree medallion reference to satan procyonidae waterfall mephitidae white bat celibacy fertilizer exploitation dart elephant testicle toy nibia monastery Africa slapstick comedy african dance medicine man reference to pierre gustave toutant beauregard crazy china reference to a cat devil Not my kind of comedy buddha statue tribe raped by a gorilla consulate eastern gorilla airplane calling someone a devil spit pain threshold primate yelling money making scheme poisonous dart oath of celibacy unsubtitled foreign language life is sacred gorilla beringei graueri whip goofy mucus reference to silver the horse character says no plate reference to tarzan deadline raw meat comedy african princess biting hand gotan indigenous albizia tree simple panthera leo dead animal engagement naked alibi broken man princess cult classic haplorhini giving birth One of the worst movies of all time american abroad flim flam Comedy  dowry reference to weasel workaholic Rhino action :D talking in sleep spear subjective camera deadly fall holy man mountain climber Steve Oedekerk reference to rabies reference to marcus antonius Tibet procyonid reference to sweeney todd surprise ending calling someone a loser motive hominid monkey actor wachati princess eccentric man woman exposing her breasts gorilla reference to canada slow motion scene spit in the face bare shoulders raven anti fur activist talking through one's buttocks male objectification raped by an animal private detective wacky comedy pregnancy astral projection bestiality grauer's gorilla chinese monastery kidnapped animal fur land rover calling someone a sissy gross out comedy reference to a mongoose oathbreaker bonai province man steps on a man's crotch over the top screaming in pain fran-done african village musteloidea sunglasses obscenity apologetic attacker buddhist monk fingerprint sacred ground character says don't look down reference to william shakespeare stupidity african hominids village hawaiian shirt reference to rich uncle pennybags reference to monopoly the game reference to hasbro character says i am alive nigeria very funny sacred animal primates five word title hilarious life partner Stupid as Hell mistaken for giving birth bloody face raccoon cave mistranslation chiroptophobia hominids blood in face character says let's go kick butt african apes character says go to hell nocturnal mammal pregnant reference to a hound dog white devil as epithet touch eye reference to bumblebee reference to a moose virgin stupid birth zoophilia human animal relationship anti fur reference to shish kebab slinky tail raped by a female gorilla disguise falling to death mimosa tree trophy collection waving goodbye monkey vow of celibacy shaman character warns man that his testicles are visible can can gorillini Simon Callow great ape spying fake accent monasticism suspect kidnapping lost the will to live asia reference to bingo monocle ace ventura medal chief full moon dirty cop troubled production time lapse photography chief of security childhood fav interracial romance tooth decay crop buried in sand fictional country raped by animal reference to yak reference to gotan black market nocturnal animal character name in title virgin woman blockbuster corvus corax mating season dancing trophy hunter car crashing into a tree capuchin monkey mimosa dark bat homininae dumb selfishness threatened with a knife corvus haplorhines mistaken for being a stripper character says i will kill you buddhist monastery procyon lotor skunk implied nudity crude humor simon says procyon light bat monster truck woman flashing breasts mistaken for a stripper Gross-out slimehouse gingivitis gorilla beringei reference to the shawshank redemption going over a waterfall eating raw meat childbirth arctoidea albizia julibrissin lion bad taste poison dart lifting someone into the air anthropoid master of disguise human skull reference to marc anthony reference to a rhinoceros hehehe reference to lynn aloysius belvedere masterbation reference to mary poppins pet detective bat reference to north africa chess Jim Carrey cebidae sexy princess animal lover reference to jesus christ reference to aboriginal australians laughing at someone marriage of state shield bowl loss of virginity noon eastern lowland gorilla dusting for fingerprints scrotifera nudity guano firewalking reference to australia skull simiformes tibet awesome character says i dare you urine stain consul platyrrhini laughing at someone's pain silverback character says i am a princess bonai selfish himalayas helicopter imitating an animal reference to mr. belvedere aura on-library  sex with an animal cult favorite hut masturbation raped man motivation cat biting attacker princess commoner love man raped arranged marriage riding crop caught masturbating tibetan monastery reference to mister belvadere character asks how would i know fictional african country horse whip reference to chicago new world monkey lowland gorilla ashram spring toy breaking an oath sequel childhood classic shrine temptation zebra silly fun mountain climbing curse jungle"
        ],
        [
         "19",
         "20",
         "Money Train (1995)",
         "Action Comedy Crime Drama Thriller",
         "murder subway runaway train black comedy reference to ice cube new york city wristwatch banter barricade burning man attraction brawl comeuppance switchboard buddy cop racial slur caper crime spitting in someone's face mixed martial arts transit cop rescue afternoon section thrown from a train boxing kissing while having sex person on fire f word punching bag urination bare chested male lust interracial relationship hit by a train stakeout lame new york subway sex scene police fight in a kitchen fight in a train compartment arrest female police officer psychopath held at gunpoint gangster friendship train robbery motorcycle sibling relationship gambling debt friendship between men shot to death interracial kiss pickpocket title spoken by character burn victim beating caper sibling rivalry bar pretending to be drunk manhattan new york city two man army wallet roundhouse kick decoy kiss female frontal nudity Nudity (Topless - Brief) jealousy hand to hand combat violence gambling hijacking a train riding a motorcycle down stairs ticket booth child in jeopardy loan shark train crash arsonist police badge horse drawn carriage pyromaniac anti hero worthwhile undercover kicked in the face lopez thief tough girl train tracks heist crime train station brother brother relationship opening action scene card game beer mexican standoff central park manhattan new york city argument subway station shooting out a window pushed in front of subway train action hero pistol arson tough guy love interest wisecrack humor money intense brooklyn bridge revolver CLV semiautomatic pistol strip club punched in the face interracial sex dancing christmas false accusation of theft robbery chase repeated line new year's eve martial arts Joseph Ruben fired from a job train train wreck male bonding shootout foot chase hispanic american bartender fire machine gun police shootout romantic rivalry fistfight"
        ],
        [
         "20",
         "21",
         "Get Shorty (1995)",
         "Comedy Crime Thriller",
         "producer murder man punching a woman funny! 8 track LA satirical Escobar satire:Hollywood insiders los angeles california restaurant sole black character dies cliche black comedy Elmore Leonard plane crash limousine revenge miami b movie hostage frame up mob enforcer Barry Sonnenfeld smoking california falling from height business heart attack Rewatch insurance fraud quirky NO_FA_GANES insurance settlement Hilarious! f word reference to bette davis organized crime reference to david o selznick locker billboard las vegas nevada literary adaptation con artist drug lord ensemble cast based on a book Hollywood hollywood california father daughter relationship dark comedy airport broken nose Gene Hackman birthday party film set surprise ending police surveillance contrived held at gunpoint mafia gangster movie producer hollywood watch cult film two word title Getting old but still excellent John Travolta funny title spoken by character about movie making crotch grab dolly zoom florida beating dumb criminal hare krishna miami florida mobster reference to john wayne movie business con hairdresser violence filmmaking rene russo stuntman short man neck brace reference to orson welles gambling debt loan shark Self-referential drug cartel surprise party author:Elmore Leonard mob mansion motel pushed down stairs stolen money suv travel Mise en abyme parking garage based on novel or book travolta satire airplane breaking and entering confidence trick based on novel cool pushed off a balcony missing person female rocker actress hit with a telephone ponytail reference to dean martin sitting on a toilet money crime job one last job miami, florida film within a film CLV silly drugs gay slur USA forgetable actor faked death neo noir scam foqam Crime reference to al pacino thug extortion debt collector movie set dea drug enforcement administration coat Danny DeVito"
        ],
        [
         "21",
         "22",
         "Copycat (1995)",
         "Crime Drama Horror Mystery Thriller",
         "reviewed detective psychologist suspense mystery police brutality cowardliness psychology claustrophobic over 45 police protection thriller trauma agoraphobia Holly Hunter J.E. Freeman detective thriller San Francisco suspenseful strong female lead police operation hulu live serial killer Sigourney Weaver female protagonist"
        ],
        [
         "22",
         "23",
         "Assassins (1995)",
         "Action Crime Thriller",
         "police chase cia mexican standoff Wachowski Brothers kill explosions double cross competition assassination contract killer cat strong cast Antonio Banderas CLV silencer escape Richard Donner stunts Divx1 Sylvester Stallone Seattle detroit bank Spain 2.5 mission of murder Julianne Moore shootout sniper rifle hidden camera action afternoon section rescue chess hitman seattle rivalry plot twist caribbean festival Intense "
        ],
        [
         "23",
         "24",
         "Powder (1995)",
         "Drama Sci-Fi",
         "poignant christ allegory tearjerking sci-fi Victor Salva bullying reflective hairless fantasy inane healing power Jeff Goldblum Empathy teenage boy albino outcast teaches us all a cheesy lesson pale fainting held at gunpoint dead animal special powers earnest flickering light Post apocalyptic elegiac Coming of age shot to death extrasensory perception Can't remember magnetism pretentious drama electricity jacobs ladder Fantasy teacher student relationship psionic power controversial Philosophy"
        ],
        [
         "24",
         "25",
         "Leaving Las Vegas (1995)",
         "Drama Romance",
         "drinking tragic bad casting los angeles Nicolas Cage alcohol abuse nudity (topless) intimate meaning of love suicide desperation nihilism bittersweet Bibliothek Las Vegas NO_FA_GANES elegiac emptiness screenwriter rape melancholy love suffering self destruction unlikeable characters existential casino broken hearts Richard Lewis based on a book Valeria Golino unlikely friendship meaning of life misery suffering protagonist Steven Weber addiction interview depressing Alcoholism ALCOHOLISM love is not enough 90s realistic characters understated alcohol PROSTITUTES humanizing unsociability failure Elisabeth - emotion! author:John O'Brien intimacy DVD-Video movie business prostitute library prostitution Julian Sands overacting Nudity (Topless) atmospheric depression implausible SUICIDE overrated company clinical depression loneliness individual drunkenness self-destruction broken heart drama pretentious Kim Adams favorites addict alcoholism poignant haunting dying and death melancholic Emily Procter owned human condition lovesickness love at first sight hotel room sad elizabeth shue 'True Art is Angst' trope narrated adapted from:book Mariska Hargitay STAR-CROSSED LOVERS Annemari dark Elisabeth Shue Oscar (Best Actor) rage and hate Mike Figgis great soundtrack las vegas"
        ],
        [
         "25",
         "26",
         "Othello (1995)",
         "Drama",
         "Shakespearean great based on a play Oliver Parker jealousy wow Nudity (Topless) moor CLV friends playwright:Shakespeare adapted from:play shakespeare Shakespeare Ei muista"
        ],
        [
         "26",
         "27",
         "Now and Then (1995)",
         "Children Drama",
         "a bit boring Thora Birch supernatural women seance Gaby Hoffman nostalgia female friendship Demi Moore nostalgic woman director truth or dare 1970s songs friendship Rita Wilson retro Rosie O'Donnell coming of age soundtrack sisterhood photocopier Bechdel Test:Pass Christina Ricci 2024 relook Janeane Garofalo gynecologist Brendan Fraser great soundtrack Melanie Griffith"
        ],
        [
         "27",
         "28",
         "Persuasion (1995)",
         "Drama Romance",
         "acting library vhs Best adaptation adaptation based on a book England etaege 19th century old flame CiarÃ¡n Hinds CLV captain Regency England bland romantic Pam's list Amanda Root slow period piece Roger Michell 18th century author:Jane Austen Amanda Root is fabulous in this screenwriter:Nick Dear setting:England BD-R j netflix adapted from:book boring napoleonic wars Romance  admiral In Netflix queue Jane Austen Ciarán Hinds classic literature Fiona Shaw"
        ],
        [
         "28",
         "29",
         "City of Lost Children, The (Cité des enfants perdus, La) (1995)",
         "Adventure Drama Fantasy Mystery Sci-Fi",
         "Freaks surrealist sci-fi Christmas Creepy fantasy Santa Claus Legenda PT-BR childhood Dominique Pinon cyberpunk aging visually appealing rescue intricate hallucinatory whimsical deer dream clowny clones erlend's DVDs Marc Caro Jean-Pierre Jeunet dystopian Jeunet Rich setting weird French Weird soundtrack friendship dark fairytale strong characters not memorable steampunk cult film visual alternate reality deer shit mechanized island memasa's movies clone characters philosophical dreamlike Dark fantasy need to own symbolism surreal visually stunning dark fairy tale awkward romance kidnapping girl Nudity (Topless) atmospheric eye Ron Perlman abused children child actor dark fantasy Creepy strange setting surreal, dark, nightmare fanciful abstract on computer dystopia Weird fantasy bleak btaege Creepy tweens dreams beautiful orphans Weird twins circus stupid plot stylized children 2.5 dark skinut Dwarf"
        ],
        [
         "29",
         "30",
         "Shanghai Triad (Yao a yao yao dao waipo qiao) (1995)",
         "Crime Drama",
         "shanghai diva mistress Zhang Yimou amazon prime servant mob Shanghai Yimou Zhang uncle umbrella cabaret Gong Li"
        ],
        [
         "30",
         "31",
         "Dangerous Minds (1995)",
         "Drama",
         "own ghetto teacher inspirational rap music seen at the cinema based on a book dead awesome amusement park John N. Smith education poetry erlend's DVDs crime karate nigga professor social commentary gangsters Dangerous Minds death high school touching hood Bibliothek good soundtrack naval officer protagonist is a teacher Emilio! white savior stupid afternoon section douchebags drama Highschool island kinda scary Michelle Pfeiffer teacher changing lives great soundtrack school drama"
        ],
        [
         "31",
         "32",
         "Twelve Monkeys (a.k.a. 12 Monkeys) (1995)",
         "Mystery Sci-Fi Thriller",
         "year 1917 recording paradox airport personnel based on short film solitary confinement mooning hearing voices female stockinged legs volunteer reference to woody woodpecker woods tooth rescue child's point of view 3 shooting absurd stairway cockroach spider web airport security checkpoint reviewed blood mental institution mental illness dream rated-R public nudity eating insect mindfuck bare butt wig dystopian city bus cassandra syndrom police surveillance imitating an ape animal in title feather flashback shot in the leg steampunk partial nudity prison cell watching tv biological weapon original miniskirt psychosis gun in airport Saturn Award (Best Science Fiction Film) solitary elephant voice mail Madeleine Stowe activist decontamination Bad acting  disembodied voice skid row psychotronic film department store kidnapping of father deja vu Interesting underground overrated belittlement of mentally ill heterosexual bullet escaped mental patient auto theft boring tears desolation airplane speech white coat plot twist crying woman father son relationship psychiatric disorder fowards time travel smoking man dystopia complicated plot ponytail Mindfuck Movie bum revolver shot in the back can be hard to follow sci fi Weird good film tiger running Bruce Willis complicated Tumey's DVDs subterranean santa claus suit time paradox graffiti number in title dormitory biological warfare fresno california fate nuevo tango Gilliam historiograpghy and time travel animal rights activist mental breakdown fake moustache attempted rape sedative rabbit ear antenna predictable ending doomsday time machine thumbs up gesture seen 2021 black comedy Time paradox flophouse self dentistry post apocalypse psychiatric care listening to music on a car radio different view male nudity environment florida keys talking to self reference to dr strangelove listening to car radio giraffe disappointing ambiguous philadelphia, pennsylvania inmate pandemic bare chested male bondage tied to a bed peacock sanitarium steam abandoned theater axe classic listening to a car radio mine shaft reality or imagination? jail cell airport Stupid thriller time travel surprise ending long haired woman Saturn Award (Best Supporting Actor) bear spacesuit tango music phony mustache psychiatrist brad pitt animal rights epidemic airport police reference to harry houdini slow motion scene real movie shown in fictional situation fire place woman wears a short skirt alternate reality hospital animal noises strong director elaborate title spoken by character recurring dream future noir depopulation memasa's movies animal pardon escaped animal lethal virus asylum memory remains vending machine bumper sticker mental ward good as hell violence public transit atmospheric pulling tooth insane asylum male time traveller science-fiction vivisection fran-done paranoia imagination ClearPlay forced drug consumption chains lecture plot point:bio-medical danger homeless man metal detector activism street preacher Brad Pitt disease poor neighborhood man uses a wheelchair brilliant dystopic future not seen sanatorium remake of a french film secret Based on short film time traveler dinner hawaiian shirt cassandra complex alternate timeline christmas cross hobo elevator malfunction black pantyhose Sci-Fi bald man SF jeffrey philadelphia pennsylvania grizzly bear dark trapped inside a pipe 1990s time traveller bruce willis schizophrenia germ alternate history musket Orange Ponytail book of revelations pursuit gurney after you watch it you spend hours thinkig about it jail monty-python-related year 1996 psycho ward ending snow sci-fi. dark cell phone R tv rabbit ears clearing in wood inaccurate depiction of mental illnesses lazy eye Bruce Willlis biblical quote elevator get annoying characters slow motion action scene biology hiding in a barn mri obsession brunette woman disguise remake of french film social misfits surrealism kick in face genetics psychology police remake monkey adapted from French end of the world male nudity: rear dark comedy Drama memory wearing sunglasses inside world war one post-apocalyptic story presentation hit in the crotch madness adapted from/inspired by:short film spray paint shot to death crotch grab man punches woman foreknowledge excellent Terry Gilliam bad breath trippy plague white telephone DVD-Video determinism man punches a woman nonlinear timeline post-apocalyptic future prank kidnapping hotel reception listening to music on car radio undressing wheelchair year 1990 pimp trapped banquet deterministic street life drama deadly virus cartoon on tv backwards time travel agonizing science dutch angle tooth extraction zoo inaccurate depiction of mental health institution Dark Future twist ending haunted by the past tv news Joseph Melito falling down stairs dystopian future music country road medical research owned great ending adventure rewatch mistaken identity stockholm syndrome boy running through the woods obscene finger gesture short skirt drug use taxi practical effects cry wolf newspaper headline Chris Marker policeman therapist murder Futuristmovies.com sci-fi tattoo on head eating spider trench warfare older version of self secret army heterosexuality cassandra syndrome key my favorite reviewers disliked this film: that's when I started to trust them less time loop design nature of insanity woman wears a miniskirt Time Travel beaten to death black and white television spider endless loop shower lion future Bad acting lab rabbit reference to cassandra party fugitive figment of imagination depressing laboratory movie theater prisoner watching a movie flashback within a flashback prison male female relationship leopard cult film nude pantyhose red eyes David Webb Peoples thumb's up sign virologist person in a car trunk police van taxi driver biological research great actors ecoterrorism bad guys win wanted poster dated technology virus nudity gun soothsayer sadness DVD mystery microbiologist battle baltimore maryland imdb top 250 altering history newspaper men over 45 reduced sentence Nonsensical  pay phone seedy motel animal welfare Post apocalyptic drooling stream long barreled revolver genius clever scenario contamination suit philadelphia pillow feathers Mental Institution unrealistic Amazing newspaper covered window British psychiatric hospital Special seen at the cinema airport terminal reference to houdini science fiction lab animal cleavage death past Christopher Plummer reference to albert einstein chase neo noir insanity Divx1 nightmare setting:Philadelphia public restroom Pelis1 male rear nudity barn telephone call car radio gas mask pantyhose"
        ],
        [
         "32",
         "33",
         "Wings of Courage (1995)",
         "Adventure Romance IMAX",
         "IMAX 3-D Stereoscopic 3-D"
        ],
        [
         "33",
         "34",
         "Babe (1995)",
         "Children Drama",
         "own Animal easily confused with other movie(s) (title) food slice of life animals happy ending nostalgia Oscar Nominee: Best Picture 1995 infantil seen 2022 AFI 100 (Cheers) villain nonexistent or not needed for good story farmhouse competition based on a book James Cromwell sweet pig Favorite environmental wholesome farmer meaty cute fantasy witty heartwarming animal:pig that'll do pig CLV Chris Noonan carnism adventure Animal movie ending seen more than once death overrated Hugo Weaving overdub farm tale farming sheep Biography on dvr talking animals children animals - live action boring Oscar Nominee: Best Picture specism barnyard animals based on a children's book funny 55 movies every kid should see--Entertainment Weekly original DVD Collection favorite rats way overrated dogs farm farm animals pigs family"
        ],
        [
         "34",
         "35",
         "Carrington (1995)",
         "Drama Romance",
         "Bloomsbury Group compare:Carrington (1995) painter protagonist is writer entirely dialogue england homosexuality based on a book England Character study intense independent film bisexual biopics protagonist is painter (artist) polyamory sad artists soldier World War I on dvr artist strong woman Emma Thompson compare:Bright Star (2009) conscientious objector character driven"
        ],
        [
         "35",
         "36",
         "Dead Man Walking (1995)",
         "Crime Drama",
         "swastika murder Tim Robbins poverty legal rights reference to fidel castro police officer true story tv camera lightning strong fence microphone Oscar Nominee: Music - Original Song burial singing gurney based on book deaf sentence defense lawyer charity social commentary despair R:depiction of a rape and murder rifle justice thunder smoking tied up R visitor solitary confinement catholic priest funeral woods crying gunshot adult diaper buy rape reference to james cagney american forgiveness murder of a nude woman lawyer scum self-discovery racist right and justice cemetery making out handcuffs inmate southern gospel witness siren news report search party Seen 2020 mother son relationship work detail reporter security electric chair child court case capital punishment dream rated-R based on a book sympathy bigotry church confession priest law anger checker game father daughter relationship slums little boy vigil repentance louisiana dialogues 2 evidence rope skipping pompadour brother crying man prisoner fainting flashback Christianity savagery prison rat Oscar (Best Actress) bishop watch clock brutality dead teen couple prison cell shot to death watching tv Can't remember death sentence court tattoo f rated title spoken by character bible dead man jury southern u.s. Abe death penalty stabbed to death unsociability crucifix empathy lethal injection Pena de muerte book abduction coffin chaplain Nun institutions UK gender in title poem prison farm Bible based on true story letter penalty religion little girl reference to w. c. fields guilt legal trial prison road gang psalm socially deprived family politician legal paper laughter emotion! visit prayer hatred Ari Catholicism police car placard courtroom mercy petition mother daughter relationship knife self pity ethics stabbing catholic photograph Knoll low life speeding vehicle drama tears Bechdel Test:Pass Oscar Nominee: Lead Actor moral dilemma polygraph test roman catholic teenage girl plain clothes nun rapist corpse grief racism prison nurse armed guard father son relationship redemption social justice reference to ma barker baseball game texas death row forest prison guard cowardliness lake protestor intense crime governor doomed man reference to adolf hitler testimony movielens top pick Oscar Nominee: Director CLV blockbuster listening to radio USA teenage boy death document holy bible Susan Sarandon rewatch Sean Penn author:Helen Prejean sad bigot crime reenactment female nudity execution newspaper clipping liberal bus faith adapted from:book death row Annemari graveyard court hearing white supremacy support group latex gloves playing checkers extreme cruelty telephone call classroom straitjacket rage and hate therapist nun audience candle loss lie detector"
        ],
        [
         "36",
         "37",
         "Across the Sea of Time (1995)",
         "Documentary IMAX",
         "IMAX 3-D BD-R Stereoscopic 3-D"
        ],
        [
         "37",
         "38",
         "It Takes Two (1995)",
         "Children Comedy",
         "Andy Tennant orphan nostalgic cute twins/inter-related lives relationship sabotage fun switching places matchmaking identical twin heartwarming mary kate and ashley twins"
        ],
        [
         "38",
         "39",
         "Clueless (1995)",
         "Comedy Romance",
         "comedy standard romantic comedy seen 2021 sweet Netflix Finland suck and below Alicia Silverstone romantic comedy fun frivolous want to own queer high school california blonde NO_FA_GANES very funny! camp quick Highschool dumb teen Jane Austen romance Comedy  Need to Feel Good teen movie girlie movie quotable adaptation classic Amy Heckerling based on a book fashion Paul Rudd coming-of-age HOT actress beverly hills teenagers parody marijuana Emma Beverly Hills teen 90s funny California matchmaking woman lead good looking girls saw it ten times makeover campy Comedy Lighthearted chick flick Funny teenager Brittany Murphy coming of age Beautiful Woman valley girl Classic female director Romance best comedy Classic! updated classics commentary Satire multiple viewings silly drugs Jane Austen retelling radiohead light seen more than once very funny teen slang author:Jane Austen Stacey Dash adapted from:book inspired by Jane Austen 1990s vomiting Donald Faison sunny"
        ],
        [
         "39",
         "40",
         "Cry, the Beloved Country (1995)",
         "Drama",
         "racism hulu South Africa Darrell Roodt Africa In Netflix queue south africa based on a book disk"
        ],
        [
         "40",
         "41",
         "Richard III (1995)",
         "Drama War",
         "marriage murder based on a play scheme modern day adaptation 1930s england rifle betrayal based on play male nudity gas mask kissing while having sex breaking the fourth wall bare chested male king of england assassination showdown king ambition falling to death fascist power Richard Loncraine Robert Downey Jr aside man in a bathtub roman numeral in title last stand main character shot psychopath Maggie Smith great acting explosion side breast death sentence civil war london england corrupt protagonist pardon dead woman with eyes open gunfight kidnapping final showdown kiss battle british royal family Ian McKellen prime minister violence dead woman on bed king richard iii shakespeare's richard iii widow 2024 relook tank playwright:Shakespeare opening action scene dance updated classics treason fascism manipulation dead woman main character dies dog pistol shakespeare love interest DVD-RAM death of king war death of protagonist character name in title abuse of power CLV cripple female nudity villain played by lead actor number in title adapted from:play tragedy death of title character shootout Shakespeare fictional war sex in bed female rear nudity machine gun rise to power bare breasts shakespeare in modern dress"
        ],
        [
         "41",
         "42",
         "Dead Presidents (1995)",
         "Action Crime Drama",
         "Vietnam War redemption 1960s vietnam Chris Tucker war veteran money crime CLV armored truck african american Larenz Tate mercy killing veterans heist masks ptsd revolutinoary bank robbery medic loss of virginity Eric's Dvds"
        ],
        [
         "42",
         "43",
         "Restoration (1995)",
         "Drama",
         "plague medicine based on a book England gloves physician jealousy dark comedy Nudity (Topless) CLV period piece London historical fountain spaniel british monarchy birth court wealth 17th century"
        ],
        [
         "43",
         "44",
         "Mortal Kombat (1995)",
         "Action Adventure Fantasy",
         "fight scenes cheesy great casting didn't finish 2020 alternate dimension sorcerer fighter seen at the cinema set design Nostalgia Critic ridiculous characters videogame faithful to game awesome soundtrack campy ninjas violence bad acting hand to hand combat CLV fantasy No blood and gore over the top movie to see video game adaptation theme song ninja martial arts kung fu No Fatalities tournament good soundtrack sunglasses stylized bad graphics fatality action gore monster Paul W.S. Anderson based on video game over-the-top action cheesy ending island Christopher Lambert fighting BD-Video adapted from:game based on a video game fantasy action So bad it's good"
        ],
        [
         "44",
         "45",
         "To Die For (1995)",
         "Comedy Drama Thriller",
         "murder three word title satirical female sociopath 1990s literature on screen black comedy tv personality fellatio fantasizing scantily clad female journalism adultery revenge changing room feet on table Journalism sexual 100 Essential Female Performances teenage sexuality high school man masturbates upward mobility literature on screen R high school student masturbation fantasy Bibliothek murder plot Wayne Knight voyeur panties career ice skating TV woman wears underwear bare chested male image entertainment woman wears a bra lust winter student obsession daydreaming hairy chested man upskirt femme fatale seductive behavior ambition white panties character appears on tv title same as book erlend's DVDs sexual attraction dark comedy camera shot of feet male masturbation new hampshire sitting by a window broadcast masturbating in front of a tv roman a clef Nicole Kidman cheating wife watching tv older woman younger man relationship scene during end credits columbia tristar home video f rated male objectification miniskirt dancing barefoot teacher student relationship fame male star appears shirtless italian restaurant mockumentary weatherwoman prospect preferred narcissistic fatal attraction sexy woman unfaithfulness nonlinear timeline gay director narcissism 20th century literature on screen female lead cynicism pantyhose legs camera shot of bare feet video footage library violence talking to the camera redhead woman voyeurism self actualization infidelity sex in a bed true crime teenager dance scene Best Performance:  Nicole Kidman as Suzanne Stone Maretto mariticide motel ClearPlay family feud based on novel or book dark humor copulation satire teenage girl uninteresting seduction sex camera shot of a woman's bare feet based on novel boat ship man wears a tank top reference to maury povich crime of passion fake documentary television manipulation narcissistic personality disorder man masturbates in front of a tv sexual predator irreverence extramarital affair main character dies masturbation oral sex dog fantasy scene female objectification nylons daydream media circus sex with a minor school photo booth CLV erotic fantasy minidress fan teenage boy tunnel vision media fantasy sequence Joaquin Phoenix columbia tristar narcissist split screen panties hit the floor barefoot female swimming pool 1990s hitman anchorwoman woman wears panties villainess played by lead actress reference to connie chung coitus leg spreading teen angst telephone call narcissistic fantasy classroom blue panties purple bra sociopath female protagonist american literature on screen reference to jane pauley pantyhose"
        ],
        [
         "45",
         "46",
         "How to Make an American Quilt (1995)",
         "Drama Romance",
         "marriage women extramarital affair wedding marriage proposal a chick flick based on a book married couple Nudity (Topless - Brief) CLV woman director family holiday Bibliothek wedding vows quilt advice love monogamy grandmother"
        ],
        [
         "46",
         "47",
         "Seven (a.k.a. Se7en) (1995)",
         "Mystery Thriller",
         "actually the ending was obvius emotional murder Atmospheric police procedural neo-noir alfred hitchcock serial killers Biblical police officer detective generally like the movie because of actors and crimes setting:library terrible ending Serial Killer creepy murderer gory BFI modern classic bad acting lust and impulsiveness serial murder credits menacing nihilism despair morgan freeman violent ending psychological thriller super interesting greed worst ever SERIAL KILLERS R Saturn Award (Best Writing) crying scary sin gorgeous cinematography religious David Fincher grim suffering Suspenseful evil man gloomy powerful ending psychological Psychology Creative immoderateness disgusting lust watched 1995 wrath Gwyneth Paltrow painful to watch MURDER INVESTIGATIONS police investigation Violent pride and vanity ominous evisceration rated-R good acting police twists & turns psychology erlend's DVDs bradpitt good plot thriller surprise ending very good metronome crying man captivating david fincher pathology HBO Max pointless policemen Christianity brad pitt Top 10 ever hopeless ending great acting predictable pride husband-wife relationship murder mystery favourite Disturbing  seven twist sexual assault sick Sins scary stuff denzil washington horror suspenseful In Netflix queue serial killer gore Horror  philosophical characters evil Psychological drama crime thriller stereotyped characters acting the morgan freeman leaving non-sense policial DVD-Video 2020 pension victim Owned Kevin Spacey biblical psychological drama stuffed into the fridge noir Bible s.w.a.t. mystery envy religion gluttony week violence graphic violence murder investigation atmospheric imdb top 250 Want anticlimax scope Spacey: Excellent....Pitt: Brilliant....Freeman: Wow. A wonderful movie. Must must watch capital sin investigation overrated ACAB boring plot gruesome ClearPlay Strong Third Act strange Tumey's To See Again great villain Dante DIVX drama Brad Pitt cruelty Thriller  genius horror Sloth BD-Video Detective very good thriller - Brad Pitt shocking Intense  want it corpse aÃ§Ã£o library vhs cynical twist ending seen at the cinema confusing self-fulfilling prophecy disturbing suitcase of light bleak crime religious fanatic 3.5 owned seven deadly sins numbers police detective great ending USA Grotesque spannend Ashley Judd death seen more than once drug dealer Tumey's DVDs sins rewatch plot Morgan Freeman insomnia books villain detectives thought-provoking Literature the best Crime Theater VHS thought provoking dark amazing!. obvious plot messed up not mystery favorite bad ending rage and hate policeman torment"
        ],
        [
         "47",
         "48",
         "Pocahontas (1995)",
         "Animation Children Drama Musical Romance",
         "Cartoon racism Super 1.85 Blow-Up shamanism stereotypes Native Americans musical Not according to the truth based on myths or folklore DVD-Video 1600s indians vs. settlers forbidden love classic jamestown virginia David Ogden Stiers settler Ø§Ø­Ø³Ø§Ø³Ø§ØªÙŠ Disney 90s kid pug dog Irene Bedard romance historically inaccurate indians 17th century nostalgic Judy Kuhn colony Disney Renaissance itaege dialogue 2023 relook Related:Pocahontas (1995) Mel Gibson Russell Means Oscar (Best Music - Original Song) adventure gold rush indian chief Animation  story animation John Kassir Oscar Katottava virginia cross cultural relationship love story animal sidekick NO_FA_GANES sidekicks for the sidekicks Mike Gabriel Skinny Pocahontas talking animals culture clash too short Oscar (Best Music - Original Score) Eric Goldberg princess series soundtrack get animate tree star crossed lovers strong female lead native american princess song land claim BD-Video 70mm musket Alan Menken powhatan interracial romance Disney animated feature"
        ],
        [
         "48",
         "49",
         "When Night Is Falling (1995)",
         "Drama Romance",
         "lesbian director Nudity (Topless - Notable) own romance lgbt Religion nudity Patricia Rozema circus professor woman director nudity (topless) atmospheric female director visually appealing Gay lesbian"
        ],
        [
         "49",
         "50",
         "Usual Suspects, The (1995)",
         "Crime Mystery Thriller",
         "K Good movie with deep quotes comedy predictable ending neo-noir solving riddles/puzzles wishlist modern classic Love it detective losers black humour caper movie bad acting mind blowing Netflix Finland brownface fun sda sensational atmosphere Dennis Farina rewatchable R lie Benicio del toro storytelling tricky manipulative behavior criminal whodunnit rape upside down detective thriller violence against children corruption kevin spacey is soze 3 cliff hanger ungripping NYC intellectual organized crime vintage Oscar (Best Supporting Actor) con men seedy classic suspense ensemble cast genre-defining Best of the 90's Chazz Palminteri R:violence rated-R law mindfuck twists & turns complex erlend's DVDs cinema club flash back ambiguous ending thriller surprise ending very good Oscar Winner want to see again mafia complot crime boss Keyser SÃ¶ze great acting Scams unique predictable must see more than once R:strong language unreliable narrators contrived ending twist complex and tense sexual assault Dark Kevin Pollak funny heist unreliable narrator elaborate great storytelling SA DEN KAISER SOSE keyser soze characters Bryan Singer smart writing Keser Soze caper Eric's Dvds evil own acting dvd Kevin Spacey Pete Postlethwaite mystery awesome Stephen Baldwin library violence anti-hero Benicio Del Toro imdb top 250 Want dialogue intelligent lies mentiras Los Angeles overrated interrogation cerebral crazy unexpected ending Oscar (Best Writing - Screenplay Written Directly for the Screen) engaging good dialogs Suzy Amis ClearPlay boring Web of Lies criminal mastermind keyser sose robo Christine Estabrook Edgar Award (Best Motion Picture) dull characters unnecessary bad language clever puzzle-like interrogation flashback Thriller  flashbacks matrix BD-Video plot twist Gabriel Byrne character driven short-term memory loss theft My movies fell asleep #thriling story within a story manipulation cheesy nonlinear storyline rewatch worthy Academy Award - Best Original Screenplay complicated plot twist ending watch-again relatives excellent script seen at the cinema commedy confusing Myth IMDB - 1001 Movies You Must See crime music no emotional investment owned CLV great ending Surprise psychothriller btaege must see hustle Christopher McQuarrie slow beginning complicated crime gone awry must be seen more than once slow Tumey's DVDs seen more than once Suspense neo noir good actors filim noir narrated meta sibling Too fast hungarian oscar (best original screenplay) Crime action unexpected dark soundtrack 1990s New York City spaceyal great cast conspiracy"
        ]
       ],
       "shape": {
        "columns": 4,
        "rows": 53452
       }
      },
      "text/html": [
       "<div>\n",
       "<style scoped>\n",
       "    .dataframe tbody tr th:only-of-type {\n",
       "        vertical-align: middle;\n",
       "    }\n",
       "\n",
       "    .dataframe tbody tr th {\n",
       "        vertical-align: top;\n",
       "    }\n",
       "\n",
       "    .dataframe thead th {\n",
       "        text-align: right;\n",
       "    }\n",
       "</style>\n",
       "<table border=\"1\" class=\"dataframe\">\n",
       "  <thead>\n",
       "    <tr style=\"text-align: right;\">\n",
       "      <th></th>\n",
       "      <th>movieId</th>\n",
       "      <th>title</th>\n",
       "      <th>genres</th>\n",
       "      <th>tag</th>\n",
       "    </tr>\n",
       "  </thead>\n",
       "  <tbody>\n",
       "    <tr>\n",
       "      <th>0</th>\n",
       "      <td>1</td>\n",
       "      <td>Toy Story (1995)</td>\n",
       "      <td>Adventure Animation Children Comedy Fantasy</td>\n",
       "      <td>emotional Os dois viram loyal friend remote co...</td>\n",
       "    </tr>\n",
       "    <tr>\n",
       "      <th>1</th>\n",
       "      <td>2</td>\n",
       "      <td>Jumanji (1995)</td>\n",
       "      <td>Adventure Children Fantasy</td>\n",
       "      <td>pigtails plant discount store namesake dybbuk ...</td>\n",
       "    </tr>\n",
       "    <tr>\n",
       "      <th>2</th>\n",
       "      <td>3</td>\n",
       "      <td>Grumpier Old Men (1995)</td>\n",
       "      <td>Comedy Romance</td>\n",
       "      <td>Walter Matthau Minnesota old people that is ac...</td>\n",
       "    </tr>\n",
       "    <tr>\n",
       "      <th>3</th>\n",
       "      <td>4</td>\n",
       "      <td>Waiting to Exhale (1995)</td>\n",
       "      <td>Comedy Drama Romance</td>\n",
       "      <td>girl movie slurs revenge based on novel or boo...</td>\n",
       "    </tr>\n",
       "    <tr>\n",
       "      <th>4</th>\n",
       "      <td>5</td>\n",
       "      <td>Father of the Bride Part II (1995)</td>\n",
       "      <td>Comedy</td>\n",
       "      <td>steve martin worst movies ever humorous weddin...</td>\n",
       "    </tr>\n",
       "    <tr>\n",
       "      <th>...</th>\n",
       "      <td>...</td>\n",
       "      <td>...</td>\n",
       "      <td>...</td>\n",
       "      <td>...</td>\n",
       "    </tr>\n",
       "    <tr>\n",
       "      <th>53447</th>\n",
       "      <td>288765</td>\n",
       "      <td>Bird Box Barcelona (2023)</td>\n",
       "      <td>Horror Thriller</td>\n",
       "      <td>tw suicide apocalypse bad science survival plo...</td>\n",
       "    </tr>\n",
       "    <tr>\n",
       "      <th>53448</th>\n",
       "      <td>288779</td>\n",
       "      <td>Don Camillo: Monsignor (1961)</td>\n",
       "      <td>Comedy</td>\n",
       "      <td>Don Camillo Series</td>\n",
       "    </tr>\n",
       "    <tr>\n",
       "      <th>53449</th>\n",
       "      <td>288849</td>\n",
       "      <td>Colaholic (2018)</td>\n",
       "      <td>(no genres listed)</td>\n",
       "      <td>short film animation addiction</td>\n",
       "    </tr>\n",
       "    <tr>\n",
       "      <th>53450</th>\n",
       "      <td>288937</td>\n",
       "      <td>Blue Thermal (2022)</td>\n",
       "      <td>Animation Comedy Drama Romance</td>\n",
       "      <td>anime</td>\n",
       "    </tr>\n",
       "    <tr>\n",
       "      <th>53451</th>\n",
       "      <td>288955</td>\n",
       "      <td>Agata's Friends (2016)</td>\n",
       "      <td>Drama</td>\n",
       "      <td>catalan Costa brava flatmate slow paced univer...</td>\n",
       "    </tr>\n",
       "  </tbody>\n",
       "</table>\n",
       "<p>53452 rows × 4 columns</p>\n",
       "</div>"
      ],
      "text/plain": [
       "       movieId                               title  \\\n",
       "0            1                    Toy Story (1995)   \n",
       "1            2                      Jumanji (1995)   \n",
       "2            3             Grumpier Old Men (1995)   \n",
       "3            4            Waiting to Exhale (1995)   \n",
       "4            5  Father of the Bride Part II (1995)   \n",
       "...        ...                                 ...   \n",
       "53447   288765           Bird Box Barcelona (2023)   \n",
       "53448   288779       Don Camillo: Monsignor (1961)   \n",
       "53449   288849                    Colaholic (2018)   \n",
       "53450   288937                 Blue Thermal (2022)   \n",
       "53451   288955              Agata's Friends (2016)   \n",
       "\n",
       "                                            genres  \\\n",
       "0      Adventure Animation Children Comedy Fantasy   \n",
       "1                       Adventure Children Fantasy   \n",
       "2                                   Comedy Romance   \n",
       "3                             Comedy Drama Romance   \n",
       "4                                           Comedy   \n",
       "...                                            ...   \n",
       "53447                              Horror Thriller   \n",
       "53448                                       Comedy   \n",
       "53449                           (no genres listed)   \n",
       "53450               Animation Comedy Drama Romance   \n",
       "53451                                        Drama   \n",
       "\n",
       "                                                     tag  \n",
       "0      emotional Os dois viram loyal friend remote co...  \n",
       "1      pigtails plant discount store namesake dybbuk ...  \n",
       "2      Walter Matthau Minnesota old people that is ac...  \n",
       "3      girl movie slurs revenge based on novel or boo...  \n",
       "4      steve martin worst movies ever humorous weddin...  \n",
       "...                                                  ...  \n",
       "53447  tw suicide apocalypse bad science survival plo...  \n",
       "53448                                 Don Camillo Series  \n",
       "53449                     short film animation addiction  \n",
       "53450                                              anime  \n",
       "53451  catalan Costa brava flatmate slow paced univer...  \n",
       "\n",
       "[53452 rows x 4 columns]"
      ]
     },
     "execution_count": 5,
     "metadata": {},
     "output_type": "execute_result"
    }
   ],
   "source": [
    "filtered_movies = pd.merge(movies, merged_tags, on=\"movieId\", how=\"inner\")\n",
    "filtered_movies\n"
   ]
  },
  {
   "cell_type": "code",
   "execution_count": 6,
   "metadata": {},
   "outputs": [
    {
     "data": {
      "application/vnd.microsoft.datawrangler.viewer.v0+json": {
       "columns": [
        {
         "name": "index",
         "rawType": "int64",
         "type": "integer"
        },
        {
         "name": "movieId",
         "rawType": "int64",
         "type": "integer"
        },
        {
         "name": "title",
         "rawType": "object",
         "type": "string"
        },
        {
         "name": "genres",
         "rawType": "object",
         "type": "string"
        },
        {
         "name": "tag",
         "rawType": "object",
         "type": "string"
        },
        {
         "name": "tfidf",
         "rawType": "object",
         "type": "string"
        }
       ],
       "conversionMethod": "pd.DataFrame",
       "ref": "f7b73043-7bbd-489c-9728-616126f58cce",
       "rows": [
        [
         "0",
         "1",
         "Toy Story (1995)",
         "Adventure Animation Children Comedy Fantasy",
         "emotional Os dois viram loyal friend remote controlled toy car match piggy bank double prize falling out a window CGI ss DARING RESCUES game of life board game toy comes to life family film nostalgic tim allen fun child antagonist Family cartoon falling from height anthropomorphism cowboy doll Best of Rotten Tomatoes: All Time buy male villain disney rescue dachshund sunroof cowboy ramp voice acting false accusation fishing rod light hearted buzz lightyear character buddy movie Toy Story cowboy boot toy tea set UNLIKELY FRIENDSHIPS spaceman toy buddy reflection é˜®ä¸€é¸£ Animation  want to see again biohazard sign claw crane funny animated fictional tv commercial scene during opening credits first of trilogy bedroom child's birthday party family dart mutant toy cgi animation envy ringing a doorbell hat bad guy touching story laughter woody character porcelain National Film Registry enemies become friends CG animation animmation joss whedon kids and family childish fireplace mr potato head low fantasy playskool soothing pterodactyl talking to a toy BD-Video suburb house yelling catchphrase crate dog encouragement antenna friend rejection action figure tough guy staircase turbo boost computer generated imagery jumping through a sunroof lovable characters karate comic hero bo peep character running calling someone an idiot toy dinosaur villain Pixar Pixar animation child villain accepting reality action famous song exciting plot toys radio controlled backfire digital comedy gratitude dental braces etch a sketch signature favoritism selflessness Buzz Lightyear brother sister relationship fantasy kids movie comeuppance poster talking toy globe anthropomorphic toy birthday present battery technological marvel new home unny ohio pet as gift thunderstorm 55 movies every kid should see--Entertainment Weekly utah teapot sliding down a banister computer animation Comedy  Animation Tom Hanks car classic twister the game subjective camera 3d parachute shark arcade erlend's DVDs toyota little boy scheming Tumey's VHS birthday party surprise ending time travel learning a lesson spacesuit neighbor Engaging teamwork self awareness Oscar (Special Achievement) scene before opening credits delivery new toy slow motion scene two word title locked in skateboard gliding pizza van title spoken by character pizzeria bull terrier wilhelm scream lots of heart national film registry asking directions 3 dimensional toy robot recliner chair surgical mask fear Owned good animation lifting a female into the air jack in the box ad for toys jealousy violence depression squeeze toy x291-LIVE-John Lasseter toybox arcade game toolbox Tumey's To See Again Tim Allen fun family movie toyota truck tom hanks karate chop friends battleship game male protagonist mr. potato head character card game forced puns  sleeping dog redemption American Animation mixed soundtrack first part CLV cute itaege baby christmas fight flashlight hockey puck urban setting martial arts water bright audio flashback cartoon dog soundtrack loyalty 1990s directorial debut affection walkie talkie lipstick on face doorbell home first of series innovative remorse package christmas present commercial feel-good boy next door candy land the board game Watched unlikely friendships face mask frustration toy animal rain shed Woody blinds tyrannosaurus rex animated single mother dog as gift window arm mother son relationship storage shed ventilation shaft humorous falling from a window child bully resourcefulness rousing monsters looking out a window rocket famous line very good reference to mattel story telling someone to shut up bully comeuppance TÃ©a Leoni does not star in this movie male antagonist pixar part of trilogy villian hurts toys doll reconnaissance mission mission reference to marie antoinette DVD-Video HEROIC MISSION wallpaper nesting egg CGI classic rated-G rag doll elementary school girl sheriff pet dog Want 2009 reissue in Stereoscopic 3-D leggings troubled production neighborhood time lapse photography fanciful family relationships baby monitor confrontation great movie child's birthday character's point of view camera shot Cartoon escape attempt troll doll banister original story Oscar (Best Picture) binoculars so funny blockbuster chrysler automobile mockery corkboard escape plastic army men light adventure shepherdess beautiful surrounded boy soldier children desk 3D famous score whimsica magnifying glass toy dog child's bedroom moving pull string doll meeting animated dog fistfight burn child destroys own toy shivering view through binoculars bouncy ball visual pun sci-fi microphone backyard rival operation game gas station brawl thunder TOYS COME TO LIFE https://movielens.org/tag/:animation kids rainy day watchlist fast and a furious ballet flats moving van sunlight almost favorite dinosaur space explorer cartoon showdown astronaut very nice pliers birthday heartfelt medical mask chased by a dog lifting someone into the air dolls hasbro bullying dartboard internal logic fails chrysler lebaron convertible animation friendship space ranger christmas day cgi cult film clock explosion jumping from height interesting Disney animated feature good cartoon chindren push button first cgi film unusual friendship children cartoon seatbelt little girl ya boy witty imdb top 250 van alien misunderstanding funny lines child destroys another's toy clever warm slinky dog talking in one's sleep John Lasseter mattel brat toy story doubt gift rescue mission torture guilty conscience good time magic 8 ball the boys avi cult favorite hero's journey Disney love interest toy soldier toy fire truck car crash mouth USA bed toys played flying threat chasing a truck television commercial apology weightlifting favorite hero action figures rivalry product placement dead battery",
         "adventure animation children comedy fantasy emotional os dois viram loyal friend remote controlled toy car match piggy bank double prize falling out a window cgi ss daring rescues game of life board game toy comes to life family film nostalgic tim allen fun child antagonist family cartoon falling from height anthropomorphism cowboy doll best of rotten tomatoes: all time buy male villain disney rescue dachshund sunroof cowboy ramp voice acting false accusation fishing rod light hearted buzz lightyear character buddy movie toy story cowboy boot toy tea set unlikely friendships spaceman toy buddy reflection é˜®ä¸€é¸£ animation  want to see again biohazard sign claw crane funny animated fictional tv commercial scene during opening credits first of trilogy bedroom child's birthday party family dart mutant toy cgi animation envy ringing a doorbell hat bad guy touching story laughter woody character porcelain national film registry enemies become friends cg animation animmation joss whedon kids and family childish fireplace mr potato head low fantasy playskool soothing pterodactyl talking to a toy bd-video suburb house yelling catchphrase crate dog encouragement antenna friend rejection action figure tough guy staircase turbo boost computer generated imagery jumping through a sunroof lovable characters karate comic hero bo peep character running calling someone an idiot toy dinosaur villain pixar pixar animation child villain accepting reality action famous song exciting plot toys radio controlled backfire digital comedy gratitude dental braces etch a sketch signature favoritism selflessness buzz lightyear brother sister relationship fantasy kids movie comeuppance poster talking toy globe anthropomorphic toy birthday present battery technological marvel new home unny ohio pet as gift thunderstorm 55 movies every kid should see--entertainment weekly utah teapot sliding down a banister computer animation comedy  animation tom hanks car classic twister the game subjective camera 3d parachute shark arcade erlend's dvds toyota little boy scheming tumey's vhs birthday party surprise ending time travel learning a lesson spacesuit neighbor engaging teamwork self awareness oscar (special achievement) scene before opening credits delivery new toy slow motion scene two word title locked in skateboard gliding pizza van title spoken by character pizzeria bull terrier wilhelm scream lots of heart national film registry asking directions 3 dimensional toy robot recliner chair surgical mask fear owned good animation lifting a female into the air jack in the box ad for toys jealousy violence depression squeeze toy x291-live-john lasseter toybox arcade game toolbox tumey's to see again tim allen fun family movie toyota truck tom hanks karate chop friends battleship game male protagonist mr. potato head character card game forced puns  sleeping dog redemption american animation mixed soundtrack first part clv cute itaege baby christmas fight flashlight hockey puck urban setting martial arts water bright audio flashback cartoon dog soundtrack loyalty 1990s directorial debut affection walkie talkie lipstick on face doorbell home first of series innovative remorse package christmas present commercial feel-good boy next door candy land the board game watched unlikely friendships face mask frustration toy animal rain shed woody blinds tyrannosaurus rex animated single mother dog as gift window arm mother son relationship storage shed ventilation shaft humorous falling from a window child bully resourcefulness rousing monsters looking out a window rocket famous line very good reference to mattel story telling someone to shut up bully comeuppance tã©a leoni does not star in this movie male antagonist pixar part of trilogy villian hurts toys doll reconnaissance mission mission reference to marie antoinette dvd-video heroic mission wallpaper nesting egg cgi classic rated-g rag doll elementary school girl sheriff pet dog want 2009 reissue in stereoscopic 3-d leggings troubled production neighborhood time lapse photography fanciful family relationships baby monitor confrontation great movie child's birthday character's point of view camera shot cartoon escape attempt troll doll banister original story oscar (best picture) binoculars so funny blockbuster chrysler automobile mockery corkboard escape plastic army men light adventure shepherdess beautiful surrounded boy soldier children desk 3d famous score whimsica magnifying glass toy dog child's bedroom moving pull string doll meeting animated dog fistfight burn child destroys own toy shivering view through binoculars bouncy ball visual pun sci-fi microphone backyard rival operation game gas station brawl thunder toys come to life https://movielens.org/tag/:animation kids rainy day watchlist fast and a furious ballet flats moving van sunlight almost favorite dinosaur space explorer cartoon showdown astronaut very nice pliers birthday heartfelt medical mask chased by a dog lifting someone into the air dolls hasbro bullying dartboard internal logic fails chrysler lebaron convertible animation friendship space ranger christmas day cgi cult film clock explosion jumping from height interesting disney animated feature good cartoon chindren push button first cgi film unusual friendship children cartoon seatbelt little girl ya boy witty imdb top 250 van alien misunderstanding funny lines child destroys another's toy clever warm slinky dog talking in one's sleep john lasseter mattel brat toy story doubt gift rescue mission torture guilty conscience good time magic 8 ball the boys avi cult favorite hero's journey disney love interest toy soldier toy fire truck car crash mouth usa bed toys played flying threat chasing a truck television commercial apology weightlifting favorite hero action figures rivalry product placement dead battery"
        ],
        [
         "1",
         "2",
         "Jumanji (1995)",
         "Adventure Children Fantasy",
         "pigtails plant discount store namesake dybbuk box childhood reference to wilt chamberlain Kirsten Dunst disappearance car through wall handcuffs underwater scene investment banker trapped in a game brochure 1860s multiple versions of the same character conveyor belt new hampshire stampede footwear predator prey Fantasy night rampage suitcase driving a car into a building pelican family jungle adventure quicksand reference to libra the constellation elephant male police officer perilous escape real estate agent Chris Van Allsburg psychotronic film earthquake heartwarming chest homeless person Serial Escalation person thought dead is alive christmas presents see also:Zathura bicycle chase childish coming of age fireplace boring tire drumbeat screenplay adapted by author aunt niece relationship timeline change bullet time father son relationship bearded man based on young adult novel bum Robin Williams bad cgi revolver Children poison ivy long haired female mutation courage reference to tarzan shoes 4k Joe Johnston shared universe boarding school new england older version of character childhood recaptured arachnid christmas party lace comedy beach board vehicle based on children's book brother sister relationship nighttime fantasy animal driving a car black eye small town child turning into animal Jumanji predator scary excavation new home rainforest loss of parents rolling dice cult classic animal attack looting animal killing 1960s abandoned factory car classic axe blunderbuss leaf based on a book quadruped 20th century long haired woman time travel surprise ending Adaptation of Book fainting held at gunpoint psychiatrist Saturn Award (Best Special Effects) handgun orchestral music score shotgun motorcycle impersonating a police officer friends who live together police vehicle columbia tristar home video wooden chest title spoken by character For children transported back in time human hunting a human squatter factory herds of CGI animals overalls violence subtitled scene prologue reference to a zodiac sign first love attic fib police car refrigerator mansion hit by a car canoe cgi effect stealing a bicycle male protagonist based on novel looking through a keyhole animals supernatural fantasy forest spider attack river first part Filmed in BC feline grounded CLV itaege blonde woman alternate timeline christmas fight turning into a monkey no opening credits magic board game bug aunt nephew relationship adapted from:book cracked windshield 1990s nervous breakdown shoe factory hunter reference to ringling brothers handcuffed monsoon first of series time snob police officer magic pregnant woman partner woodland dice blonde child reference to a horoscope rifle reptile male hunter vine rain hiding in a closet board game breaking the fourth wall Baker viu firearm rhinoceros cemetery tail mother son relationship child bully surrealism not for kids police monkey arrest carnivorous plant old photograph missing child fiction big game hunter tween girl santa claus costume Artifact of Doom danger animatronic library girl car crashes into a store family name flood trombone child in jeopardy title directed by man bloody lip poison hacksaw construction site time lapse photography Saturn Award (Best Supporting Actress) chaos crocodile fictional board game hostage situation paint can live action and animation law enforcement officer recluse wisecrack humor 19th century sneaker vines blockbuster nemesis adventure columbia tristar boy title directed by male game Lebbat franchise children long haired girl actor playing multiple roles moving fish out of water vandalism orphan wood driving without a license adventurer plant attack game piece title written by male car accident motorcycle police officer beat up predatory reptile rainy day watchlist kids laundry detergent human becoming an animal car theft sniper rifle Dynamic CGI Action return to the past saying thank you giant insect endless screaming blunder businessman The Game Come to Life mosquito spider lion explorer presumed dead weapon lifting someone into the air title same as book confession lush wonder bread insect attack part computer animation horrifying (but not Horror genre) thrill critter statue friendship bat cutting one's own hair cgi cult film brown haired boy family legacy mustached man illegal gun sale gun bridge playing a board game improvised weapon kid flick little girl reference to the twilight zone heavy rain reference to clue the board game vortex altering history realtor jungle man mother daughter relationship sidearm Everything Trying to Kill You cgi animal rich family crawler competition one word title supernatural power gun store motor vehicle car crash animal driving a vehicle view through rifle scope bicycle fortune teller carnivore exterminator vegetation sporting goods store cutting face while shaving apology zebra convertible jungle",
         "adventure children fantasy pigtails plant discount store namesake dybbuk box childhood reference to wilt chamberlain kirsten dunst disappearance car through wall handcuffs underwater scene investment banker trapped in a game brochure 1860s multiple versions of the same character conveyor belt new hampshire stampede footwear predator prey fantasy night rampage suitcase driving a car into a building pelican family jungle adventure quicksand reference to libra the constellation elephant male police officer perilous escape real estate agent chris van allsburg psychotronic film earthquake heartwarming chest homeless person serial escalation person thought dead is alive christmas presents see also:zathura bicycle chase childish coming of age fireplace boring tire drumbeat screenplay adapted by author aunt niece relationship timeline change bullet time father son relationship bearded man based on young adult novel bum robin williams bad cgi revolver children poison ivy long haired female mutation courage reference to tarzan shoes 4k joe johnston shared universe boarding school new england older version of character childhood recaptured arachnid christmas party lace comedy beach board vehicle based on children's book brother sister relationship nighttime fantasy animal driving a car black eye small town child turning into animal jumanji predator scary excavation new home rainforest loss of parents rolling dice cult classic animal attack looting animal killing 1960s abandoned factory car classic axe blunderbuss leaf based on a book quadruped 20th century long haired woman time travel surprise ending adaptation of book fainting held at gunpoint psychiatrist saturn award (best special effects) handgun orchestral music score shotgun motorcycle impersonating a police officer friends who live together police vehicle columbia tristar home video wooden chest title spoken by character for children transported back in time human hunting a human squatter factory herds of cgi animals overalls violence subtitled scene prologue reference to a zodiac sign first love attic fib police car refrigerator mansion hit by a car canoe cgi effect stealing a bicycle male protagonist based on novel looking through a keyhole animals supernatural fantasy forest spider attack river first part filmed in bc feline grounded clv itaege blonde woman alternate timeline christmas fight turning into a monkey no opening credits magic board game bug aunt nephew relationship adapted from:book cracked windshield 1990s nervous breakdown shoe factory hunter reference to ringling brothers handcuffed monsoon first of series time snob police officer magic pregnant woman partner woodland dice blonde child reference to a horoscope rifle reptile male hunter vine rain hiding in a closet board game breaking the fourth wall baker viu firearm rhinoceros cemetery tail mother son relationship child bully surrealism not for kids police monkey arrest carnivorous plant old photograph missing child fiction big game hunter tween girl santa claus costume artifact of doom danger animatronic library girl car crashes into a store family name flood trombone child in jeopardy title directed by man bloody lip poison hacksaw construction site time lapse photography saturn award (best supporting actress) chaos crocodile fictional board game hostage situation paint can live action and animation law enforcement officer recluse wisecrack humor 19th century sneaker vines blockbuster nemesis adventure columbia tristar boy title directed by male game lebbat franchise children long haired girl actor playing multiple roles moving fish out of water vandalism orphan wood driving without a license adventurer plant attack game piece title written by male car accident motorcycle police officer beat up predatory reptile rainy day watchlist kids laundry detergent human becoming an animal car theft sniper rifle dynamic cgi action return to the past saying thank you giant insect endless screaming blunder businessman the game come to life mosquito spider lion explorer presumed dead weapon lifting someone into the air title same as book confession lush wonder bread insect attack part computer animation horrifying (but not horror genre) thrill critter statue friendship bat cutting one's own hair cgi cult film brown haired boy family legacy mustached man illegal gun sale gun bridge playing a board game improvised weapon kid flick little girl reference to the twilight zone heavy rain reference to clue the board game vortex altering history realtor jungle man mother daughter relationship sidearm everything trying to kill you cgi animal rich family crawler competition one word title supernatural power gun store motor vehicle car crash animal driving a vehicle view through rifle scope bicycle fortune teller carnivore exterminator vegetation sporting goods store cutting face while shaving apology zebra convertible jungle"
        ],
        [
         "2",
         "3",
         "Grumpier Old Men (1995)",
         "Comedy Romance",
         "Walter Matthau Minnesota old people that is actually funny comedy Ann Margaret wedding fishing Sophia Loren grun running Daryl Hannah Jack Lemmon CLV old comedinha de velhinhos engraÃƒÂ§ada duringcreditsstinger good soundtrack sequel fever NO_FA_GANES comedinha de velhinhos engraÃ§ada best friend old men Howard Deutch midwest old man sequel funny Burgess Meredith Funniest Movies moldy old age",
         "comedy romance walter matthau minnesota old people that is actually funny comedy ann margaret wedding fishing sophia loren grun running daryl hannah jack lemmon clv old comedinha de velhinhos engraãƒâ§ada duringcreditsstinger good soundtrack sequel fever no_fa_ganes comedinha de velhinhos engraã§ada best friend old men howard deutch midwest old man sequel funny burgess meredith funniest movies moldy old age"
        ],
        [
         "3",
         "4",
         "Waiting to Exhale (1995)",
         "Comedy Drama Romance",
         "girl movie slurs revenge based on novel or book divorce CLV single mother characters chick flick interracial relationship",
         "comedy drama romance girl movie slurs revenge based on novel or book divorce clv single mother characters chick flick interracial relationship"
        ],
        [
         "4",
         "5",
         "Father of the Bride Part II (1995)",
         "Comedy",
         "steve martin worst movies ever humorous wedding daughter seen 2021 midlife crisis Steve Martin sentimental it thought it was funny but it wasn't Touching narration parent child relationship remake confidence Diane Keaton father - child relationship CLV heartwarming Comedy growing old seen more than once baby fourth wall 4th wall watched under duress sequel fever aging contraception regret sequel Fantasy father gynecologist pregnancy childhood classics family",
         "comedy steve martin worst movies ever humorous wedding daughter seen 2021 midlife crisis steve martin sentimental it thought it was funny but it wasn't touching narration parent child relationship remake confidence diane keaton father - child relationship clv heartwarming comedy growing old seen more than once baby fourth wall 4th wall watched under duress sequel fever aging contraception regret sequel fantasy father gynecologist pregnancy childhood classics family"
        ],
        [
         "5",
         "6",
         "Heat (1995)",
         "Action Crime Thriller",
         "setting:LA murder neo-noir slow paced los angeles visceral detective ex-con real life adultery suicide betrayal Rob violent R slick ending lame In The Nucleus Jon Voight Bibliothek Music  who cares DVDs guns complex characters Strong bad man thieves bank robbery gang robert de niro HD MKV obsession relationships Mary Kircher bank job lame Reflection tragic end suspense ensemble cast R:violence police erlend's DVDs heists Robert De Niro realistic action Michael Mann loner Violence  captivating somber Top 10 ever great acting Al Pacino Bank Heist Recommendz Top Pick cult film cat and mouse ONE LAST HEIST Captivating heist Can't remember understated mine Viviane Vives Al and Robert need to own long bank heist gunfight too long hollywoodization Action battle of wits violence Heist atmospheric imdb top 250 witty Want dialogue heist movie professionals Los Angeles overrated dumbed down ClearPlay Val Kilmer realistic boring Al criminal mastermind amazing cast authentic gunfights thief al pacino cliched netflix queue teenage girl R:language synthesizer soundtrack blu-ray honor Al Pacino Vs Robert De Niro tough guy cinematic 1 philosophy career criminal crime bleak male-female relationship one last job tense electronic soundtrack owned seen 2011 CLV btaege 7.5-FilmAffinity Ashley Judd Realistic Tumey's DVDs robbery chase Natalie Portman individualism authenticity Crime action Bechdel Test:Fail Seen 2010 soundtrack Third Act Problems crime epic cars es un poc de lo de sempre great soundtrack vontatott",
         "action crime thriller setting:la murder neo-noir slow paced los angeles visceral detective ex-con real life adultery suicide betrayal rob violent r slick ending lame in the nucleus jon voight bibliothek music  who cares dvds guns complex characters strong bad man thieves bank robbery gang robert de niro hd mkv obsession relationships mary kircher bank job lame reflection tragic end suspense ensemble cast r:violence police erlend's dvds heists robert de niro realistic action michael mann loner violence  captivating somber top 10 ever great acting al pacino bank heist recommendz top pick cult film cat and mouse one last heist captivating heist can't remember understated mine viviane vives al and robert need to own long bank heist gunfight too long hollywoodization action battle of wits violence heist atmospheric imdb top 250 witty want dialogue heist movie professionals los angeles overrated dumbed down clearplay val kilmer realistic boring al criminal mastermind amazing cast authentic gunfights thief al pacino cliched netflix queue teenage girl r:language synthesizer soundtrack blu-ray honor al pacino vs robert de niro tough guy cinematic 1 philosophy career criminal crime bleak male-female relationship one last job tense electronic soundtrack owned seen 2011 clv btaege 7.5-filmaffinity ashley judd realistic tumey's dvds robbery chase natalie portman individualism authenticity crime action bechdel test:fail seen 2010 soundtrack third act problems crime epic cars es un poc de lo de sempre great soundtrack vontatott"
        ],
        [
         "6",
         "7",
         "Sabrina (1995)",
         "Comedy Romance",
         "fantasy romance based on a play comedy solarium character name as title fashion assistant interrupted kiss marriage proposal helicopter ride midlife crisis romantique breakout new york city ugly duckling vogue magazine bentley motor vehicle unfaithful fiance martha's vineyard voice over narration based on play unrequited love finding yourself long island new york NO_FA_GANES paris Paris jet plane marriage engagement love transformation businessman automobile american abroad upstairs-downstairs romance cinderella story womanizer mother son relationship relationships dinner date Nancy Marchand workaholic fairy tale confession remake family estate Drama party family business surprise ending passionate kiss business merger love story remakeOf:Sabrina(1954) sibling relationship photographer slow dancing fusion business deal british car forbidden love tycoon makeover flat screen television bentley the car kiss ends with a kiss sophistication playboy reference to bill bojangles robinson remadeAs:Sabrina(1995) chick flick fiance fiancee relationship love triangle coming of age chauffeur offering a bribe family relationships brother brother relationship oceanside home bicycle tour Romance Harrison Ford color remake of black and white film return home father son relationship french boyfriend redemption millionaire living above a garage long island dog sexuality as good maybe better than original park avenue manhattan new york city Greg Kinnear concorde paris CLV infatuation paris france Julia Ormand cleavage brother punches brother mistaken identity sitting on glass picnic on the beach long island, new york Julia Ormond elopement man sedated telephone call paris, france falling in love great cast female protagonist attempted seduction",
         "comedy romance fantasy romance based on a play comedy solarium character name as title fashion assistant interrupted kiss marriage proposal helicopter ride midlife crisis romantique breakout new york city ugly duckling vogue magazine bentley motor vehicle unfaithful fiance martha's vineyard voice over narration based on play unrequited love finding yourself long island new york no_fa_ganes paris paris jet plane marriage engagement love transformation businessman automobile american abroad upstairs-downstairs romance cinderella story womanizer mother son relationship relationships dinner date nancy marchand workaholic fairy tale confession remake family estate drama party family business surprise ending passionate kiss business merger love story remakeof:sabrina(1954) sibling relationship photographer slow dancing fusion business deal british car forbidden love tycoon makeover flat screen television bentley the car kiss ends with a kiss sophistication playboy reference to bill bojangles robinson remadeas:sabrina(1995) chick flick fiance fiancee relationship love triangle coming of age chauffeur offering a bribe family relationships brother brother relationship oceanside home bicycle tour romance harrison ford color remake of black and white film return home father son relationship french boyfriend redemption millionaire living above a garage long island dog sexuality as good maybe better than original park avenue manhattan new york city greg kinnear concorde paris clv infatuation paris france julia ormand cleavage brother punches brother mistaken identity sitting on glass picnic on the beach long island, new york julia ormond elopement man sedated telephone call paris, france falling in love great cast female protagonist attempted seduction"
        ],
        [
         "7",
         "8",
         "Tom and Huck (1995)",
         "Adventure Children",
         "teenage hero murder three word title rescue from drowning nicknames as title cave in forenames as title wilderness based on book nostalgic sleeping rough bath sneeze apple cutting one's finger jail witness to a murder young love rifle brawl cabin chores sneaking out sword fight falling from height near drowning ends with freeze frame engagement small town widow douglas character painting a fence funeral slimehouse knife in the back barefoot boy jumping through a window criminal injun joe character character names in title child's point of view mud evil man Mark Twain bare chested male bare chested teenage boy single mother pipe smoking teenager fighting adult spider showdown witness false accusation slice of life teacher knife throwing doctor child falling to death huckleberry finn character knocked unconscious suspense based on a book two against one echo jar first kiss judge buried treasure flintlock rifle jail cell brunette surprise ending marble knife fight map friendship male female relationship child sneaks out of house pushed off a bridge cult film covered in mud author:Mark Twain mississippi river child protagonist native american bible beating knife in back stabbed to death child fighting adult sword tween girl prospect preferred child hero cigar smoking lying under oath timeframe 19th century coffin bridge cowboy hat character names as title camera shot of bare feet kiss girl grave robbing sheriff violence torn shirt alcoholic missouri climbing out a window campfire child in jeopardy disarming someone murder trial swearing an oath trapped in a cave flintlock pistol looking at oneself in a mirror courtroom knife flying kick raft runaway barefoot canoe falling into a hole treasure chest freeze frame tom sawyer character death threat alabama based on novel or book brother brother relationship aunt polly character opening action scene fishing hook shouting male friendship boyfriend girlfriend relationship based on novel finger cut lost treasure treasure map Peter Hewitt outlaw framed for murder one room schoolhouse accused of murder fear of ghosts Disney rural setting tough guy river duel trial 19th century chest of gold coins character name in title school testimony punched in the face shaking hands fat man death on the run undertaker climbing a tree long brown hair blood oath knifeman boy nightmare abandoned house child smoking aunt nephew relationship adapted from:book mirror graveyard newspaper headline shoe barefoot male becky thatcher character hero lantern classroom drunkard skeleton good versus evil Library System musket candle cave fistfight eyepatch",
         "adventure children teenage hero murder three word title rescue from drowning nicknames as title cave in forenames as title wilderness based on book nostalgic sleeping rough bath sneeze apple cutting one's finger jail witness to a murder young love rifle brawl cabin chores sneaking out sword fight falling from height near drowning ends with freeze frame engagement small town widow douglas character painting a fence funeral slimehouse knife in the back barefoot boy jumping through a window criminal injun joe character character names in title child's point of view mud evil man mark twain bare chested male bare chested teenage boy single mother pipe smoking teenager fighting adult spider showdown witness false accusation slice of life teacher knife throwing doctor child falling to death huckleberry finn character knocked unconscious suspense based on a book two against one echo jar first kiss judge buried treasure flintlock rifle jail cell brunette surprise ending marble knife fight map friendship male female relationship child sneaks out of house pushed off a bridge cult film covered in mud author:mark twain mississippi river child protagonist native american bible beating knife in back stabbed to death child fighting adult sword tween girl prospect preferred child hero cigar smoking lying under oath timeframe 19th century coffin bridge cowboy hat character names as title camera shot of bare feet kiss girl grave robbing sheriff violence torn shirt alcoholic missouri climbing out a window campfire child in jeopardy disarming someone murder trial swearing an oath trapped in a cave flintlock pistol looking at oneself in a mirror courtroom knife flying kick raft runaway barefoot canoe falling into a hole treasure chest freeze frame tom sawyer character death threat alabama based on novel or book brother brother relationship aunt polly character opening action scene fishing hook shouting male friendship boyfriend girlfriend relationship based on novel finger cut lost treasure treasure map peter hewitt outlaw framed for murder one room schoolhouse accused of murder fear of ghosts disney rural setting tough guy river duel trial 19th century chest of gold coins character name in title school testimony punched in the face shaking hands fat man death on the run undertaker climbing a tree long brown hair blood oath knifeman boy nightmare abandoned house child smoking aunt nephew relationship adapted from:book mirror graveyard newspaper headline shoe barefoot male becky thatcher character hero lantern classroom drunkard skeleton good versus evil library system musket candle cave fistfight eyepatch"
        ],
        [
         "8",
         "9",
         "Sudden Death (1995)",
         "Action",
         "fireman murder attempted murder uzi panic sole black character dies cliche double cross black comedy brother sister relationship car bomb scream kitchen timeframe 1990s hostage betrayal oldsmobile motor vehicle falling from height stabbed in the throat comic relief chef u.s. car flash forward ex husband ex wife relationship vice president rescue exploding car homemade weapon bodyguard evil man u.s. vice president automobile assassination race against time rooftop showdown die hard scenario mother son relationship car masked killer terrorist plot blood burned alive suspense one against many oldsmobile cutlass supreme assassination attempt strangled to death strangulation father daughter relationship independent film silencer surprise ending cia central intelligence agency mercilessness held at gunpoint man on fire warrior bone as weapon explosive cult film bomb ice rink brutality ransom two word title explosion pittsburgh penguins Can't remember title spoken by character mission gore murderess hostile takeover female assassin villainess body lands on a car evacuation fear machismo deception danger gunfight improvisation final showdown kidnapping bravery Jean-Claude Van Damme Action girl psychotronic film hand to hand combat violence Peter Hyams prologue politician rooftop fight one man army terrorism time bomb exploding helicopter locker room child in jeopardy disarming someone hero kills a woman rocket launcher chicago blackhawks paranoia fbi federal bureau of investigation anti hero mother daughter relationship knife ice hockey one day timespan henchman helicopter hockey popcorn pittsburgh pennsylvania ambush karate chop opening action scene shot in the forehead stadium rescue mission unlikely hero torture rogue agent shot in the heart father son relationship fbi agent helicopter crash assassin glock mayor action hero pistol survival director also cinematographer m 16 man murders a woman tough guy wisecrack humor near death experience pittsburgh, pennsylvania demolition karate terrorist CLV semiautomatic pistol jean-claude van damme escape universal death in title star spangled banner death fight blood splatter martial arts boy security guard villain mascot costume male rear nudity shootout action courage 1990s bazooka hero heroism good versus evil conspiracy oldsmobile fistfight",
         "action fireman murder attempted murder uzi panic sole black character dies cliche double cross black comedy brother sister relationship car bomb scream kitchen timeframe 1990s hostage betrayal oldsmobile motor vehicle falling from height stabbed in the throat comic relief chef u.s. car flash forward ex husband ex wife relationship vice president rescue exploding car homemade weapon bodyguard evil man u.s. vice president automobile assassination race against time rooftop showdown die hard scenario mother son relationship car masked killer terrorist plot blood burned alive suspense one against many oldsmobile cutlass supreme assassination attempt strangled to death strangulation father daughter relationship independent film silencer surprise ending cia central intelligence agency mercilessness held at gunpoint man on fire warrior bone as weapon explosive cult film bomb ice rink brutality ransom two word title explosion pittsburgh penguins can't remember title spoken by character mission gore murderess hostile takeover female assassin villainess body lands on a car evacuation fear machismo deception danger gunfight improvisation final showdown kidnapping bravery jean-claude van damme action girl psychotronic film hand to hand combat violence peter hyams prologue politician rooftop fight one man army terrorism time bomb exploding helicopter locker room child in jeopardy disarming someone hero kills a woman rocket launcher chicago blackhawks paranoia fbi federal bureau of investigation anti hero mother daughter relationship knife ice hockey one day timespan henchman helicopter hockey popcorn pittsburgh pennsylvania ambush karate chop opening action scene shot in the forehead stadium rescue mission unlikely hero torture rogue agent shot in the heart father son relationship fbi agent helicopter crash assassin glock mayor action hero pistol survival director also cinematographer m 16 man murders a woman tough guy wisecrack humor near death experience pittsburgh, pennsylvania demolition karate terrorist clv semiautomatic pistol jean-claude van damme escape universal death in title star spangled banner death fight blood splatter martial arts boy security guard villain mascot costume male rear nudity shootout action courage 1990s bazooka hero heroism good versus evil conspiracy oldsmobile fistfight"
        ],
        [
         "9",
         "10",
         "GoldenEye (1995)",
         "Action Adventure Thriller",
         "gadget car post soviet russia casino owners special car high tech slide locked back gun duel falling from height german actor playing foreigner m character laser cutter Sean Bean dies evil man computer games bond vodka martini die hard scenario ridiculous blood computer hacker fighter jet james bond britain gangster Bob*ola returning character with different actor head butt funny mercenary gun battle london england computer cracker female assassin player villainess mixed caps in title good man leg scissors cuba killer as protagonist airplane BD-Video grenade bullet time ITS AN OK MOVIE IF YOU LIKE  JAMES BOUND. mexican standoff year 1995 friend turned foe falsely accused intelligence agent shot in the foot tough guy st. petersburg, russia unsubtitled foreign language karate shot in the back terrorist russian mafia red ferrari Tumey's DVDs bathroom evil woman gadgets Judi Dench villain action James Bond trap satellite machine gun gatling gun attempted rape beach vehicle shaken not stirred general casino card game Pierce Brosnan james bond character kgb stealth helicopter car chase MI6 year 1986 saint petersburg russia woman rapes a man organized crime I wanted the bad guy to win.  Sean Bean out-Bonds Bond. russophobia russian army car casino gadget watch classic spy spy mission memorable lines intelligence airport silencer female killer thriller held at gunpoint motorcycle slow motion scene dominant woman gambling house title spoken by character bisexual woman color in title cranberry seventeenth part top secret missile man wears a tuxedo machismo lifting a female into the air secret service sadist violence hand to hand combat electro magnetic pulse subtitled scene terrorism flash freeze death internet british hero killing woman massacre female gunfighter opening action scene shot in the forehead boat card game official bond film Best Of the Brosnon Bonds explosions action hero former soviet union megalomaniac british intelligence riviera CLV driving a tank Izabella Scorupco seen more than once Siberia fight blood splatter martial arts train propaganda miss moneypenny character train wreck shootout dark research station casual sex trailer narrated by nick tate lesbian subtext spies good versus evil see you in hell ejection seat motorcycle stunt bungee jump plane crash partner innuendo museum snow rotorcraft russian broken electronic works secret base exploding car nuclear weapons elevator femdom Memorable Characters cemetery automobile Cuba motor car laser gadgetry dominatrix secret intelligence service suffocation shot in the chest warrior secret service agent male rape shot to death woman with a gun russia intelligence agency spying seaplane colonel Sean Bean gunfight kidnapping tank chase scene bungee jumping wheelchair one man army time bomb military reverse footage lifting an adult into the air tank 007 spy turned terrorist assassin satellite dish attempted lesbian rape pistol computer computer virus mgm ua owned blockbuster vengeance exploding train escape btaege adventure EMP Bond execution soldier Puerto Rico pseudo rated franchise Latin America fire spy camera fistfight murder chemical weapons revenge cossack ferrari hostage brawl car accident agent sauna espionage bungee jump stunt mixed martial arts kissing while having sex bill tanner character st. petersburg russia baccarat major boothroyd character showdown reboot of series 007 (series) Seen 2020 electromagnetic pulse 007 movies are bad. femme fatale weapon terrorist plot lifting someone into the air church strangulation poetic justice sadism mgm ua home video evil plot disfigurement Caribbean aston martin cult film explosion red army it's a good movie but the end of 007 is always the same revolving door philandering gadget gun tattoo on butt exploding helicopter male soldier ak 47 bond girl good dialogue Russia helicopter rough sex MTSKAF russian general gambling casino rogue agent goldeneye sexuality official james bond series army one word title motor vehicle exploding tank exploding building death boys with toys chase Famke Janssen enemy secret agent one-liners part of the body in title loss of friend sequel secret identity train explosion cult figure british secret service conspiracy jungle",
         "action adventure thriller gadget car post soviet russia casino owners special car high tech slide locked back gun duel falling from height german actor playing foreigner m character laser cutter sean bean dies evil man computer games bond vodka martini die hard scenario ridiculous blood computer hacker fighter jet james bond britain gangster bob*ola returning character with different actor head butt funny mercenary gun battle london england computer cracker female assassin player villainess mixed caps in title good man leg scissors cuba killer as protagonist airplane bd-video grenade bullet time its an ok movie if you like  james bound. mexican standoff year 1995 friend turned foe falsely accused intelligence agent shot in the foot tough guy st. petersburg, russia unsubtitled foreign language karate shot in the back terrorist russian mafia red ferrari tumey's dvds bathroom evil woman gadgets judi dench villain action james bond trap satellite machine gun gatling gun attempted rape beach vehicle shaken not stirred general casino card game pierce brosnan james bond character kgb stealth helicopter car chase mi6 year 1986 saint petersburg russia woman rapes a man organized crime i wanted the bad guy to win.  sean bean out-bonds bond. russophobia russian army car casino gadget watch classic spy spy mission memorable lines intelligence airport silencer female killer thriller held at gunpoint motorcycle slow motion scene dominant woman gambling house title spoken by character bisexual woman color in title cranberry seventeenth part top secret missile man wears a tuxedo machismo lifting a female into the air secret service sadist violence hand to hand combat electro magnetic pulse subtitled scene terrorism flash freeze death internet british hero killing woman massacre female gunfighter opening action scene shot in the forehead boat card game official bond film best of the brosnon bonds explosions action hero former soviet union megalomaniac british intelligence riviera clv driving a tank izabella scorupco seen more than once siberia fight blood splatter martial arts train propaganda miss moneypenny character train wreck shootout dark research station casual sex trailer narrated by nick tate lesbian subtext spies good versus evil see you in hell ejection seat motorcycle stunt bungee jump plane crash partner innuendo museum snow rotorcraft russian broken electronic works secret base exploding car nuclear weapons elevator femdom memorable characters cemetery automobile cuba motor car laser gadgetry dominatrix secret intelligence service suffocation shot in the chest warrior secret service agent male rape shot to death woman with a gun russia intelligence agency spying seaplane colonel sean bean gunfight kidnapping tank chase scene bungee jumping wheelchair one man army time bomb military reverse footage lifting an adult into the air tank 007 spy turned terrorist assassin satellite dish attempted lesbian rape pistol computer computer virus mgm ua owned blockbuster vengeance exploding train escape btaege adventure emp bond execution soldier puerto rico pseudo rated franchise latin america fire spy camera fistfight murder chemical weapons revenge cossack ferrari hostage brawl car accident agent sauna espionage bungee jump stunt mixed martial arts kissing while having sex bill tanner character st. petersburg russia baccarat major boothroyd character showdown reboot of series 007 (series) seen 2020 electromagnetic pulse 007 movies are bad. femme fatale weapon terrorist plot lifting someone into the air church strangulation poetic justice sadism mgm ua home video evil plot disfigurement caribbean aston martin cult film explosion red army it's a good movie but the end of 007 is always the same revolving door philandering gadget gun tattoo on butt exploding helicopter male soldier ak 47 bond girl good dialogue russia helicopter rough sex mtskaf russian general gambling casino rogue agent goldeneye sexuality official james bond series army one word title motor vehicle exploding tank exploding building death boys with toys chase famke janssen enemy secret agent one-liners part of the body in title loss of friend sequel secret identity train explosion cult figure british secret service conspiracy jungle"
        ],
        [
         "10",
         "11",
         "American President, The (1995)",
         "Comedy Drama Romance",
         "gun control great performances implied sex Annette Bening reference to julius caesar playing pool political consultant reference to dwight d. eisenhower 23.03.06 reference to frank capra decent flick Aaron Sorkin clever dialogue senator Bibliothek NO_FA_GANES presidential election reference to woodrow wilson news conference love flag burning seen press secretary reference to brutus dating state of the union address political humor cinderella story portrait of a president reference to cassius girlie movie single parent chief of staff reference to thomas jefferson new love Drama bouquet morals the white house Rob Reiner widower lobbyist wildlife conservation florist columbia tristar home video election campaign DVD Collection environmentalist presidential candidate speechwriter Amazing kung fu reference to marie antoinette american president washington d.c. reference to james buchanen camp david u.s. president diplomatic reception widower single woman relationship florist shop house of representatives politician reference to martin van buren trombone Michael Douglas US President reference to king louis xvi state dinner ethics usa president Romance political candidate Martin Sheen cheesy great story cult favorite political campaign president single parents white house politics cute CLV reference to the state of the union speech seen more than once christmas columbia tristar reference to arthur murray liberal environmental issues idealism White House oval office reference to franklin d. roosevelt screenwriter:Aaron Sorkin sister sister relationship great cast liberal propaganda woman wears only a man's shirt",
         "comedy drama romance gun control great performances implied sex annette bening reference to julius caesar playing pool political consultant reference to dwight d. eisenhower 23.03.06 reference to frank capra decent flick aaron sorkin clever dialogue senator bibliothek no_fa_ganes presidential election reference to woodrow wilson news conference love flag burning seen press secretary reference to brutus dating state of the union address political humor cinderella story portrait of a president reference to cassius girlie movie single parent chief of staff reference to thomas jefferson new love drama bouquet morals the white house rob reiner widower lobbyist wildlife conservation florist columbia tristar home video election campaign dvd collection environmentalist presidential candidate speechwriter amazing kung fu reference to marie antoinette american president washington d.c. reference to james buchanen camp david u.s. president diplomatic reception widower single woman relationship florist shop house of representatives politician reference to martin van buren trombone michael douglas us president reference to king louis xvi state dinner ethics usa president romance political candidate martin sheen cheesy great story cult favorite political campaign president single parents white house politics cute clv reference to the state of the union speech seen more than once christmas columbia tristar reference to arthur murray liberal environmental issues idealism white house oval office reference to franklin d. roosevelt screenwriter:aaron sorkin sister sister relationship great cast liberal propaganda woman wears only a man's shirt"
        ],
        [
         "11",
         "12",
         "Dracula: Dead and Loving It (1995)",
         "Comedy Horror",
         "garlic slipping on shit satirical superhuman strength gothic immortality vampire biting neck bite mark aversion to garlic colliding with chandelier order grasshopper theater intestines renfield character mental control slipping on stairs covered in blood organ character says i still got it borgo pass burnt by sunlight calling someone an asshole park shadow on a wall human versus vampire ship's wheel falling from height reference to a demon undressing in front of a window vampire vampire slayer ball colon in title Leslie Nielsen lucy westenra character undead castle jumping through a window chandelier vampire hunter climbing through a window reference to an enema love vampire bite trance entering the closet vampire comedy vampirism dream sequence pallor chapel character says i don't care reference to demons spider lust vampire fangs dancing in front of a mirror human brain sanitarium blood burned alive doctor busty woman hypnosis nosferatu jonathan harker character dream bride incision mina murray character shapeshifting sailing ship father sees man groping his daughter shadow father daughter relationship man molested by woman hung upside down spiderweb professor vampires abandoned chapel bending a prison bar horror spoof redhead wig parody fainting smashing mirror caught in a spider web stabbed in the heart opera bat gypsy woman exposing her breasts horse and carriage calling someone a degenerate BD-R character says poppycock killed by sunlight romania cult film reference to paris bitten by a vampire autopsy hospital colliding on glass window solicitor funny stepping on someone telekinesis calling someone darling dracula character repeats someone else's dialogue vampire horror dream scene london england woman wears a scarf written and directed by cast member enema renfield bat excrement van helsing bending steel bars drink thrown into someone's face sexy woman guano couple dancing broken mirror coffin skull male vampire scarf seductive dance pretty woman breaking a glass window character says they had it coming face slap insect eating assistant downblouse grave psychotronic film human caught in spider web vampire bat horse carriage slapstick comedy perseverance farce dr jack seward character absurd comedy insane asylum paper cut intangibility shapeshifter killed by a vampire sexy female vampire blood on shirt brain coachman reference to whitby exploding body bending metal bar dance scene full moon super strength fangs fiance fiancee relationship bitten in the neck boring hypnotism barefoot female vampire wearing a scarf indoors vampire count satire ship spoof male protagonist stake through the heart asking for punishment finger cut corpse vampire lair maidservant no reflection in a mirror no reflection stepping in shit british abroad mountain pass fainting man breaking a mirror barefoot woman calling someone my dear falling down stairs slave character name in title cobweb calling someone a pervert vampire castle village voluptuous woman Mel Brooks death poked in the eye carfax abbey van helsing character dancing death of vampire mourning for the villain schooner blood splatter cross burned by a cross eating an insect vampire killed by sunlight asking to be punished hammer year 1893 reference to abraham van helsing count transylvania big breasts five word title hanging upside down loss of friend end credits roll call enslavement trying to get the last word insect seduction redheaded woman sunset",
         "comedy horror garlic slipping on shit satirical superhuman strength gothic immortality vampire biting neck bite mark aversion to garlic colliding with chandelier order grasshopper theater intestines renfield character mental control slipping on stairs covered in blood organ character says i still got it borgo pass burnt by sunlight calling someone an asshole park shadow on a wall human versus vampire ship's wheel falling from height reference to a demon undressing in front of a window vampire vampire slayer ball colon in title leslie nielsen lucy westenra character undead castle jumping through a window chandelier vampire hunter climbing through a window reference to an enema love vampire bite trance entering the closet vampire comedy vampirism dream sequence pallor chapel character says i don't care reference to demons spider lust vampire fangs dancing in front of a mirror human brain sanitarium blood burned alive doctor busty woman hypnosis nosferatu jonathan harker character dream bride incision mina murray character shapeshifting sailing ship father sees man groping his daughter shadow father daughter relationship man molested by woman hung upside down spiderweb professor vampires abandoned chapel bending a prison bar horror spoof redhead wig parody fainting smashing mirror caught in a spider web stabbed in the heart opera bat gypsy woman exposing her breasts horse and carriage calling someone a degenerate bd-r character says poppycock killed by sunlight romania cult film reference to paris bitten by a vampire autopsy hospital colliding on glass window solicitor funny stepping on someone telekinesis calling someone darling dracula character repeats someone else's dialogue vampire horror dream scene london england woman wears a scarf written and directed by cast member enema renfield bat excrement van helsing bending steel bars drink thrown into someone's face sexy woman guano couple dancing broken mirror coffin skull male vampire scarf seductive dance pretty woman breaking a glass window character says they had it coming face slap insect eating assistant downblouse grave psychotronic film human caught in spider web vampire bat horse carriage slapstick comedy perseverance farce dr jack seward character absurd comedy insane asylum paper cut intangibility shapeshifter killed by a vampire sexy female vampire blood on shirt brain coachman reference to whitby exploding body bending metal bar dance scene full moon super strength fangs fiance fiancee relationship bitten in the neck boring hypnotism barefoot female vampire wearing a scarf indoors vampire count satire ship spoof male protagonist stake through the heart asking for punishment finger cut corpse vampire lair maidservant no reflection in a mirror no reflection stepping in shit british abroad mountain pass fainting man breaking a mirror barefoot woman calling someone my dear falling down stairs slave character name in title cobweb calling someone a pervert vampire castle village voluptuous woman mel brooks death poked in the eye carfax abbey van helsing character dancing death of vampire mourning for the villain schooner blood splatter cross burned by a cross eating an insect vampire killed by sunlight asking to be punished hammer year 1893 reference to abraham van helsing count transylvania big breasts five word title hanging upside down loss of friend end credits roll call enslavement trying to get the last word insect seduction redheaded woman sunset"
        ],
        [
         "12",
         "13",
         "Balto (1995)",
         "Adventure Animation Children",
         "glass rescue from drowning journey cold weather medicine howling cold chorus traditional animation furry outsider syringe bandana wilderness boulder footprint race title written by male finish line arctic wolf live action sequence polar bear sausage link timeframe 1990s footprint in the snow sick child goose snow hand drawn animation rock falling from height illness lie animal hero romantic rivalry slimehouse prejudice woods rescue drowning falling off a cliff feather plucking animated snowball narrator wrongfully accused bear attack strength animal protagonist race against time underwater scene stray dog 2d animation unconsciousness outcast taunting breaking through ice timeframe 1920s presumed dead doctor child frozen lake furnace bully knocked unconscious surrealism right hand man dog team animal that acts human piano telegraph operator marking a trail storm husky spiderweb husky dog snow goose ice cave 20th century iditarod surprise ending bear statue balto character Ei muista loosely based on a true story animation dog movie pawprint animal name in title pet epidemic orchestral music score sled dogs first of series russian accent crawlspace avalanche poulterer cult film dog sled friends who live together action girl hospital vial talking animal year 1925 butcher classical music scene during opening credits 1920s antitoxin cleaver dog sled race James Horner sled dog pneumonia self esteem broken bottle dog race coffin throwing a snowball sadness pets arrogance snowstorm based on true story part animated self identity crony shunned hat girl telegraph bone city park plaque biplane Simon Wells diphtheria wolves title written by female title directed by man going in circles alaska boiler room scent grandmother granddaughter relationship talking animals racing sidekick falling icicle white wolf dogsled serum disease lost in the woods airplane timeframe 20th century dogs ship male protagonist sort of boring boyfriend girlfriend relationship cliff boat morse code cheerleader dog racing year 1995 central park manhattan new york city icicle pop music reference to fyodor dostoyevsky lackey crate live action and animation dog wolf singer offscreen sense of smell love interest forest tree northern lights first part one word title part live action character name in title illumination swimming underwater itaege mockery dog sled team snow adventure ill child light sled threat wolf dog fight animal villain audio flashback train title directed by male memorial grizzly bear half blood children balladeer nome alaska half breed courage falling over a cliff 1990s actor playing multiple roles tenor sun heroism blizzard lantern reference to the jetsons hot dog hit with a snowball rivalry reference to the iditarod older version of character eating soap cave dog-sledding race sneeze",
         "adventure animation children glass rescue from drowning journey cold weather medicine howling cold chorus traditional animation furry outsider syringe bandana wilderness boulder footprint race title written by male finish line arctic wolf live action sequence polar bear sausage link timeframe 1990s footprint in the snow sick child goose snow hand drawn animation rock falling from height illness lie animal hero romantic rivalry slimehouse prejudice woods rescue drowning falling off a cliff feather plucking animated snowball narrator wrongfully accused bear attack strength animal protagonist race against time underwater scene stray dog 2d animation unconsciousness outcast taunting breaking through ice timeframe 1920s presumed dead doctor child frozen lake furnace bully knocked unconscious surrealism right hand man dog team animal that acts human piano telegraph operator marking a trail storm husky spiderweb husky dog snow goose ice cave 20th century iditarod surprise ending bear statue balto character ei muista loosely based on a true story animation dog movie pawprint animal name in title pet epidemic orchestral music score sled dogs first of series russian accent crawlspace avalanche poulterer cult film dog sled friends who live together action girl hospital vial talking animal year 1925 butcher classical music scene during opening credits 1920s antitoxin cleaver dog sled race james horner sled dog pneumonia self esteem broken bottle dog race coffin throwing a snowball sadness pets arrogance snowstorm based on true story part animated self identity crony shunned hat girl telegraph bone city park plaque biplane simon wells diphtheria wolves title written by female title directed by man going in circles alaska boiler room scent grandmother granddaughter relationship talking animals racing sidekick falling icicle white wolf dogsled serum disease lost in the woods airplane timeframe 20th century dogs ship male protagonist sort of boring boyfriend girlfriend relationship cliff boat morse code cheerleader dog racing year 1995 central park manhattan new york city icicle pop music reference to fyodor dostoyevsky lackey crate live action and animation dog wolf singer offscreen sense of smell love interest forest tree northern lights first part one word title part live action character name in title illumination swimming underwater itaege mockery dog sled team snow adventure ill child light sled threat wolf dog fight animal villain audio flashback train title directed by male memorial grizzly bear half blood children balladeer nome alaska half breed courage falling over a cliff 1990s actor playing multiple roles tenor sun heroism blizzard lantern reference to the jetsons hot dog hit with a snowball rivalry reference to the iditarod older version of character eating soap cave dog-sledding race sneeze"
        ],
        [
         "13",
         "14",
         "Nixon (1995)",
         "Drama",
         "marriage character name as title true story 1930s political corruption political consultant Oliver Stone psychedelic therapy billiards watergate black and white scene 1970s illness Anthony Hopkins presidential election interpreter cold war era disney american politics career corruption trust epic Historical opinion vietnam war evil politician based on a true story political drama mother son relationship timeframe 1920s 1960s watergate scandal biography reference to frankenstein piano power timeframe 1930s tape recording Drama history Tumey's VHS memory fbi chief nixon resignation biographical nixon flashback political leader year 1972 Wooohoo first lady hospital election campaign title spoken by character political conspiracy timeframe 1960s bedroom 1920s United States own surname as title washington d.c. long director cameo US history election based on true story woman wears eyeglasses alcoholic drink year 1973 politician richard nixon steak character based on real person:Richard Nixon cover up lincoln memorial US President historical figure paranoia fbi federal bureau of investigation republican party china cinematographer:Robert Richardson government biopic confrontation usa president brother brother relationship alcoholism controversy american history usa political candidate father son relationship quaker political campaign 5 president one word title politics CLV drunk press conference USA husband wife relationship horse race based on real person president of the united states scam political cover up washington dc, usa rise and fall courtship oval office united states of america man wears eyeglasses conspiracy reference to mohammad reza shah pahlavi Watergate",
         "drama marriage character name as title true story 1930s political corruption political consultant oliver stone psychedelic therapy billiards watergate black and white scene 1970s illness anthony hopkins presidential election interpreter cold war era disney american politics career corruption trust epic historical opinion vietnam war evil politician based on a true story political drama mother son relationship timeframe 1920s 1960s watergate scandal biography reference to frankenstein piano power timeframe 1930s tape recording drama history tumey's vhs memory fbi chief nixon resignation biographical nixon flashback political leader year 1972 wooohoo first lady hospital election campaign title spoken by character political conspiracy timeframe 1960s bedroom 1920s united states own surname as title washington d.c. long director cameo us history election based on true story woman wears eyeglasses alcoholic drink year 1973 politician richard nixon steak character based on real person:richard nixon cover up lincoln memorial us president historical figure paranoia fbi federal bureau of investigation republican party china cinematographer:robert richardson government biopic confrontation usa president brother brother relationship alcoholism controversy american history usa political candidate father son relationship quaker political campaign 5 president one word title politics clv drunk press conference usa husband wife relationship horse race based on real person president of the united states scam political cover up washington dc, usa rise and fall courtship oval office united states of america man wears eyeglasses conspiracy reference to mohammad reza shah pahlavi watergate"
        ],
        [
         "14",
         "15",
         "Cutthroat Island (1995)",
         "Action Adventure Romance",
         "scalp Matthew Modine humor bar shootout adventurer double cross timeframe 17th century slave auction tattoo on head female pirate bad acting action heroine pirate betrayal latin Renny Harlin sword fight Frank Langella kissing while having sex paramount better than I remembered showdown hook for a hand kicked in the groin british navy shipwreck mgm father daughter relationship monkey uncle niece relationship sword duel tattooed map brunette map assertive woman sea battle explosion island alcohol sensuality death of father sword 17th century Geena Davis exotic island heroine kiss battle violence exploding ship cannon barroom brawl tavern pirate ship strong female lead translator surgery ship 1660s pirates treasure map sexuality mgm ua timeframe 1660s love interest duel combat slave CLV escape big budget treasure adventure treasure hunt chase rope swashbuckler adventure action dumb but funny Pirate strong female character bar fight adventuress swashbuckler female protagonist",
         "action adventure romance scalp matthew modine humor bar shootout adventurer double cross timeframe 17th century slave auction tattoo on head female pirate bad acting action heroine pirate betrayal latin renny harlin sword fight frank langella kissing while having sex paramount better than i remembered showdown hook for a hand kicked in the groin british navy shipwreck mgm father daughter relationship monkey uncle niece relationship sword duel tattooed map brunette map assertive woman sea battle explosion island alcohol sensuality death of father sword 17th century geena davis exotic island heroine kiss battle violence exploding ship cannon barroom brawl tavern pirate ship strong female lead translator surgery ship 1660s pirates treasure map sexuality mgm ua timeframe 1660s love interest duel combat slave clv escape big budget treasure adventure treasure hunt chase rope swashbuckler adventure action dumb but funny pirate strong female character bar fight adventuress swashbuckler female protagonist"
        ],
        [
         "15",
         "16",
         "Casino (1995)",
         "Crime Drama",
         "great performances gangsterism alcohol abuse hit with a baseball bat casino manager adultery colt python cigarette holder tied up violent drunk wife jeweler's loupe gangland crime voice over narration arab man epic drama Las Vegas mafia boss female escort Nicholas Pileggi pen as a weapon complex characters cowboy investment banker mob family tracking shot las vegas nevada vise blood hotel casino slot machine ensemble cast reference to detroit ball peen hammer mossberg 500 blueberry muffin cattle prod DeNiro police surveillance psychopath shot in the temple gangster crime boss italian american stabbed in the neck watch food store borderline personality disorder gangland murder killing suitcase american criminal colorful clothes cocaine evil wealthy man Martin Scorsese listening device handgun with silencer mobster old gangster Pesci snorting cocaine sex scandal Gangster nagging wife Joe Pesci chip gambling indulgent million dollars loan shark High Production Values cinematographer:Robert Richardson 20060407 fast paced gangland hit television host brother brother relationship BD-Video corpse garter cool muddled motivations jewish mobster smith &amp; wesson model 15 hit with a telephone tough guy glitter murder of brother shot in the back spaghetti punched in the face surveillance violent gangster jewelry Tumey's DVDs 1980s cult director american gangster narrated mob lawyer wise guy power struggle shocked with a cattle prod arab ultra slow motion playing golf swimming pool 4k Great Ensemble Cast drug addiction wealth cigarette smoking black comedy fellatio old man beaten with a telephone observation strictness car bomb hammer as a weapon docudrama drama woman snorts cocaine colt revolver mob enforcer greed intoxication costa rica NO_FA_GANES gangster murders fellow gangster gamble person on fire insult m1911 pistol saw machine organized crime tied to a bed mob trial casino toxic masculinity baseball bat gangland stooge domestic violence based on a book muffin mormon sex scene masterpiece broken hand complex erlend's DVDs Robert De Niro hierarchy silencer illegal prostitution hit with a hammer american mobster ex prostitute held at gunpoint mafia death from heart attack anti semite death of brother predictable shotgun slow motion scene telephone gambling debt cheating wife timeframe 1980s title spoken by character memasa's movies criminal gang kansas city Eric's Dvds crushed hand need to own jewish gangster long homicide kansas city missouri brutal murder mob execution gangster film sadist criminal underworld produce market friend friend relationship traveling shot emotionally unstable woman violence depression mob violence the mob threatened with a circular saw electronic surveillance getting rid of somebody fbi federal bureau of investigation courtroom screenwriting mob hit excellent cast overdose lap dissolve noise complaint bookie circular saw Sharon Stone con man based on novel american mafia smith &amp; wesson model 10 oral sex oral sex in car gambling addict cosa nostra iris shot jewish american CLV husband wife relationship dispute Suspense blood splatter schoolboy sex in a car silenced gun on dvr soundtrack violent man golf course old man de niro in pink sex in bed united states of america mafioso title appears in writing joe pesci las vegas squeezing sandwich surveillance photograph uzi los angeles california chain smoking mafiosi private jet liquidation underworld James Woods gangland execution stabbed in the throat senator 1970s heart attack period drama temper casino security shot and killed steel baseball bat exploding car corruption breaking a rule firearm reference to the elephant man ethnic slur poker cigarette mob hitman robert de niro jewels shot dead reference to al capone beaten up witness elimination dolly shot con artist depressed woman antisemitism card playing police cash shot in the chest burglary anti semitic sleazy man shot with a silenced gun crime lord corrupt politician Nudity (Rear) shot in the head smith &amp; wesson model 39 woman shot to death brutality non-fiction shot to death heist crime family browning hi power pistol girl stuck her tongue out silenced pistol beating maximalism italian food cowboy hat money laundering prostitute woman killed stabbed with a pen prostitution Nudity (Topless - Brief) blow job boss mob boss las vegas police department actor shares first name with character diamond theft pimp Robert Deniro mob chicago outfit control freak gangster crime pain Vegas drunkenness character development gambler timeframe 1970s blu-ray crooked gambling desert capitalism safe deposit box key dutch angle crime syndicate glitzy card cheat jew hypocrisy jewellery heist bookmaker title spoken by narrator great ending gangsters broken finger rewatch plot ballpoint pen fbi surveillance in medias res fbi hammer vegas mob follow shot women as sexual objects hitman criminal organization historical drama crime empire skimming na dysku modern western car damage slurs storyline murder social club elimination woman performs fellatio crushed head political corruption suitcase full of money Robert DeNiro based on book revenge reference to john barrymore las vegas casino stabbed with a pencil scorcese money lender betrayal boyhood friend casino employee key sadistic psychopath Bibliothek crying criminal midwest fat mafioso contemporary western brute nevada desert cornfield beaten to death beaten with a baseball bat Documentary like office nudity (rear) lifting someone into the air cannibalism man killed oral sex in a car golf player abusive mother anti semitic slur underboss depressing screenplay neo western man shot to death extreme violence cult film labor explosion hulu dead body in a car trunk mine gambling syndicate drug abuse wiretap bus stop illegal activities nudity criminal empire based on true story etaege killer short man year 1973 imdb top 250 mafia don head in a vise wife cheats on husband chicago mob dual narration true crime fbi investigation torturer female drug addict compulsive gambler marriage crisis baseball bat used as a weapon grocery store jewish lawyer helicopter blow job in a car labor union bird's eye shot italian mafia alcoholism drug overdose gambling casino torture glorifying violence buried alive multiple narrators fbi agent one word title money flashy death by heart attack drunk stylish first person narration long movie death threat slow diamond heist hysterical wife female nudity Mafia chicagoan neo noir Divx1 fired from a job reference to ozzie and harriet italian gangster safe spitting in food walther pp year 1983 goon chicago illinois fran  rise and fall year 1980 perfectionist crime epic Goodfellas II telephone call safe deposit box burglar",
         "crime drama great performances gangsterism alcohol abuse hit with a baseball bat casino manager adultery colt python cigarette holder tied up violent drunk wife jeweler's loupe gangland crime voice over narration arab man epic drama las vegas mafia boss female escort nicholas pileggi pen as a weapon complex characters cowboy investment banker mob family tracking shot las vegas nevada vise blood hotel casino slot machine ensemble cast reference to detroit ball peen hammer mossberg 500 blueberry muffin cattle prod deniro police surveillance psychopath shot in the temple gangster crime boss italian american stabbed in the neck watch food store borderline personality disorder gangland murder killing suitcase american criminal colorful clothes cocaine evil wealthy man martin scorsese listening device handgun with silencer mobster old gangster pesci snorting cocaine sex scandal gangster nagging wife joe pesci chip gambling indulgent million dollars loan shark high production values cinematographer:robert richardson 20060407 fast paced gangland hit television host brother brother relationship bd-video corpse garter cool muddled motivations jewish mobster smith &amp; wesson model 15 hit with a telephone tough guy glitter murder of brother shot in the back spaghetti punched in the face surveillance violent gangster jewelry tumey's dvds 1980s cult director american gangster narrated mob lawyer wise guy power struggle shocked with a cattle prod arab ultra slow motion playing golf swimming pool 4k great ensemble cast drug addiction wealth cigarette smoking black comedy fellatio old man beaten with a telephone observation strictness car bomb hammer as a weapon docudrama drama woman snorts cocaine colt revolver mob enforcer greed intoxication costa rica no_fa_ganes gangster murders fellow gangster gamble person on fire insult m1911 pistol saw machine organized crime tied to a bed mob trial casino toxic masculinity baseball bat gangland stooge domestic violence based on a book muffin mormon sex scene masterpiece broken hand complex erlend's dvds robert de niro hierarchy silencer illegal prostitution hit with a hammer american mobster ex prostitute held at gunpoint mafia death from heart attack anti semite death of brother predictable shotgun slow motion scene telephone gambling debt cheating wife timeframe 1980s title spoken by character memasa's movies criminal gang kansas city eric's dvds crushed hand need to own jewish gangster long homicide kansas city missouri brutal murder mob execution gangster film sadist criminal underworld produce market friend friend relationship traveling shot emotionally unstable woman violence depression mob violence the mob threatened with a circular saw electronic surveillance getting rid of somebody fbi federal bureau of investigation courtroom screenwriting mob hit excellent cast overdose lap dissolve noise complaint bookie circular saw sharon stone con man based on novel american mafia smith &amp; wesson model 10 oral sex oral sex in car gambling addict cosa nostra iris shot jewish american clv husband wife relationship dispute suspense blood splatter schoolboy sex in a car silenced gun on dvr soundtrack violent man golf course old man de niro in pink sex in bed united states of america mafioso title appears in writing joe pesci las vegas squeezing sandwich surveillance photograph uzi los angeles california chain smoking mafiosi private jet liquidation underworld james woods gangland execution stabbed in the throat senator 1970s heart attack period drama temper casino security shot and killed steel baseball bat exploding car corruption breaking a rule firearm reference to the elephant man ethnic slur poker cigarette mob hitman robert de niro jewels shot dead reference to al capone beaten up witness elimination dolly shot con artist depressed woman antisemitism card playing police cash shot in the chest burglary anti semitic sleazy man shot with a silenced gun crime lord corrupt politician nudity (rear) shot in the head smith &amp; wesson model 39 woman shot to death brutality non-fiction shot to death heist crime family browning hi power pistol girl stuck her tongue out silenced pistol beating maximalism italian food cowboy hat money laundering prostitute woman killed stabbed with a pen prostitution nudity (topless - brief) blow job boss mob boss las vegas police department actor shares first name with character diamond theft pimp robert deniro mob chicago outfit control freak gangster crime pain vegas drunkenness character development gambler timeframe 1970s blu-ray crooked gambling desert capitalism safe deposit box key dutch angle crime syndicate glitzy card cheat jew hypocrisy jewellery heist bookmaker title spoken by narrator great ending gangsters broken finger rewatch plot ballpoint pen fbi surveillance in medias res fbi hammer vegas mob follow shot women as sexual objects hitman criminal organization historical drama crime empire skimming na dysku modern western car damage slurs storyline murder social club elimination woman performs fellatio crushed head political corruption suitcase full of money robert deniro based on book revenge reference to john barrymore las vegas casino stabbed with a pencil scorcese money lender betrayal boyhood friend casino employee key sadistic psychopath bibliothek crying criminal midwest fat mafioso contemporary western brute nevada desert cornfield beaten to death beaten with a baseball bat documentary like office nudity (rear) lifting someone into the air cannibalism man killed oral sex in a car golf player abusive mother anti semitic slur underboss depressing screenplay neo western man shot to death extreme violence cult film labor explosion hulu dead body in a car trunk mine gambling syndicate drug abuse wiretap bus stop illegal activities nudity criminal empire based on true story etaege killer short man year 1973 imdb top 250 mafia don head in a vise wife cheats on husband chicago mob dual narration true crime fbi investigation torturer female drug addict compulsive gambler marriage crisis baseball bat used as a weapon grocery store jewish lawyer helicopter blow job in a car labor union bird's eye shot italian mafia alcoholism drug overdose gambling casino torture glorifying violence buried alive multiple narrators fbi agent one word title money flashy death by heart attack drunk stylish first person narration long movie death threat slow diamond heist hysterical wife female nudity mafia chicagoan neo noir divx1 fired from a job reference to ozzie and harriet italian gangster safe spitting in food walther pp year 1983 goon chicago illinois fran  rise and fall year 1980 perfectionist crime epic goodfellas ii telephone call safe deposit box burglar"
        ],
        [
         "16",
         "17",
         "Sense and Sensibility (1995)",
         "Drama Romance",
         "opening a door emotional three word title parrot poverty Oscar Nominee: Best Picture 1995 wedding disdain trials and tribulations marriage proposal 1810s Kate Winslet comedy of manners vicar Alan Rickman shakespearean quotation singing BGAB LRC horse brother sister relationship country life regency period snobbery Imogen Stubbs Netflix Finland rich man poor woman melodrama rainstorm young girl death of stepfather not available acceptance treehouse resignation fast London illness Bibliothek unrequited love 18th century period drama country estate Oscar Nominee: Best Picture seen a while ago rescue Emma Thompson love sword fighting tomboy Hugh Laurie older man younger woman relationship Jane Austen classic literature cottage Hugh Grant upper class gripping romance east indies likeable characters classic blood doctor patriarchy based on a book tearjerker romance Period pianoforte piano church english country dance title same as book parish period film prudence stable party Regency England bowling costume drama bouquet social criticism britain period piece jane austen hugh grant handkerchief Great Screenplays horse and carriage BD-R devon timeframe 1810s duty Great Adaptations tragic love hulu nothing happens suitor realistic characters f rated three sisters stepmother 1800s london england mine pregnancy monogram loss of fortune parcel own stepbrother stepsister relationship ill teenage girl very well adapted intimacy dvd long colonel psychological drama Unconditional Love letter empire fashion jealousy Clssical Romance servant depression heartwarming atmospheric secrecy intelligent military officer chick flick rural medical examination visit coin timeframe 1800s rural area historical british likeable love story love triangle mother daughter relationship boring decorum beautiful scenery widow Sven's to see list based on novel or book kite cousin cousin relationship devon england teenage girl brother brother relationship Romance English horseback riding based on novel honor card game atlas death of husband father son relationship illegitimate child dark past British dog fall shakespeare rural setting lock of hair romanticism class differences damsel in distress reference to william shakespeare poetry 19th century money amazing acting heartbreak Britain rich snob CLV dinner arranged marriage literature inheritance bed husband wife relationship romantic second wife beautiful dancing baby sad drawing secret engagement author:Jane Austen bird adapted from:book true love story famous score Shakespeare Ang Lee critical passion Romance  courtship gentle cinema seen 2012 favorite mother in law son in law relationship picnic sister sister relationship na dysku 4k loss of father secret marriage engagement ends with a wedding female protagonist candle sincerity",
         "drama romance opening a door emotional three word title parrot poverty oscar nominee: best picture 1995 wedding disdain trials and tribulations marriage proposal 1810s kate winslet comedy of manners vicar alan rickman shakespearean quotation singing bgab lrc horse brother sister relationship country life regency period snobbery imogen stubbs netflix finland rich man poor woman melodrama rainstorm young girl death of stepfather not available acceptance treehouse resignation fast london illness bibliothek unrequited love 18th century period drama country estate oscar nominee: best picture seen a while ago rescue emma thompson love sword fighting tomboy hugh laurie older man younger woman relationship jane austen classic literature cottage hugh grant upper class gripping romance east indies likeable characters classic blood doctor patriarchy based on a book tearjerker romance period pianoforte piano church english country dance title same as book parish period film prudence stable party regency england bowling costume drama bouquet social criticism britain period piece jane austen hugh grant handkerchief great screenplays horse and carriage bd-r devon timeframe 1810s duty great adaptations tragic love hulu nothing happens suitor realistic characters f rated three sisters stepmother 1800s london england mine pregnancy monogram loss of fortune parcel own stepbrother stepsister relationship ill teenage girl very well adapted intimacy dvd long colonel psychological drama unconditional love letter empire fashion jealousy clssical romance servant depression heartwarming atmospheric secrecy intelligent military officer chick flick rural medical examination visit coin timeframe 1800s rural area historical british likeable love story love triangle mother daughter relationship boring decorum beautiful scenery widow sven's to see list based on novel or book kite cousin cousin relationship devon england teenage girl brother brother relationship romance english horseback riding based on novel honor card game atlas death of husband father son relationship illegitimate child dark past british dog fall shakespeare rural setting lock of hair romanticism class differences damsel in distress reference to william shakespeare poetry 19th century money amazing acting heartbreak britain rich snob clv dinner arranged marriage literature inheritance bed husband wife relationship romantic second wife beautiful dancing baby sad drawing secret engagement author:jane austen bird adapted from:book true love story famous score shakespeare ang lee critical passion romance  courtship gentle cinema seen 2012 favorite mother in law son in law relationship picnic sister sister relationship na dysku 4k loss of father secret marriage engagement ends with a wedding female protagonist candle sincerity"
        ],
        [
         "17",
         "18",
         "Four Rooms (1995)",
         "Comedy",
         "murder goddess comedy neo screwball comedy los angeles cult movie cast cigarette smoking omnibus film blasphemous nudity (topless) multiple short stories in one black comedy Salma Hayek magic syringe brother sister relationship witches Jennifer Beals sperm b movie hostage implied fellatio anthology film collective filmmaking portmanteau film actor director lingerie slip precocious child Alexandre Rockwell witch feet party hat los angeles, california barefoot boy title directed by female Rodriguez disney elevator trance gagged woman Combustible Edison Music interracial relationship collection of short films weapon bellhop non statutory female on male rape surrealism Robert Rodriguez bet dark comedy dead body independent film woman director Drama witchcraft Tumey's VHS incest overtone role play gangster movie producer cult film hoodlum scene during end credits anthology night f rated Thriller own movie star foul language new year coven spell wraparound story awesome soundtrack witches' coven child smoking cigarette filmmaking duct tape Antonio Banderas Nudity (Topless) Tarantino slapstick comedy Comedy champagne Quentin Tarantino animated opening credits Madonna retro multiple storylines mother daughter relationship hypnotism hanging out a window reference to peter lorre fast paced gross tied to a chair cartoon on tv Allison Anders satire champagne bottle sex corpse bondage omnibus animated title sequence drunken telephone call female friendship tarantino toe sucking supernatural power pasties revolver 4 severed finger Tim Roth hotel Bruce Willis hotel room bathroom female nudity new year's eve mistaken identity number in title dead prostitute incest vomiting fire meat cleaver directed by several directors zippo lighter",
         "comedy murder goddess comedy neo screwball comedy los angeles cult movie cast cigarette smoking omnibus film blasphemous nudity (topless) multiple short stories in one black comedy salma hayek magic syringe brother sister relationship witches jennifer beals sperm b movie hostage implied fellatio anthology film collective filmmaking portmanteau film actor director lingerie slip precocious child alexandre rockwell witch feet party hat los angeles, california barefoot boy title directed by female rodriguez disney elevator trance gagged woman combustible edison music interracial relationship collection of short films weapon bellhop non statutory female on male rape surrealism robert rodriguez bet dark comedy dead body independent film woman director drama witchcraft tumey's vhs incest overtone role play gangster movie producer cult film hoodlum scene during end credits anthology night f rated thriller own movie star foul language new year coven spell wraparound story awesome soundtrack witches' coven child smoking cigarette filmmaking duct tape antonio banderas nudity (topless) tarantino slapstick comedy comedy champagne quentin tarantino animated opening credits madonna retro multiple storylines mother daughter relationship hypnotism hanging out a window reference to peter lorre fast paced gross tied to a chair cartoon on tv allison anders satire champagne bottle sex corpse bondage omnibus animated title sequence drunken telephone call female friendship tarantino toe sucking supernatural power pasties revolver 4 severed finger tim roth hotel bruce willis hotel room bathroom female nudity new year's eve mistaken identity number in title dead prostitute incest vomiting fire meat cleaver directed by several directors zippo lighter"
        ],
        [
         "18",
         "19",
         "Ace Ventura: When Nature Calls (1995)",
         "Comedy",
         "searching for a culprit naked man premature birth detective reference to lone ranger monk horse equestrianism emotional breakdown sacred bat procyonids meditation buddhism chiroptera reference to a fly the insect black people interpreter rape simian hominidae searching for motive roaring forensics cebinae ace ventura character reference to tuna fish hysteria reference to jack and the beanstalk stewardess clerical celibacy character says war is hell mountaintop monastery reference to a rat spring second part stripped naked africa man spits on another man's face common raven crashing a car into a tree medallion reference to satan procyonidae waterfall mephitidae white bat celibacy fertilizer exploitation dart elephant testicle toy nibia monastery Africa slapstick comedy african dance medicine man reference to pierre gustave toutant beauregard crazy china reference to a cat devil Not my kind of comedy buddha statue tribe raped by a gorilla consulate eastern gorilla airplane calling someone a devil spit pain threshold primate yelling money making scheme poisonous dart oath of celibacy unsubtitled foreign language life is sacred gorilla beringei graueri whip goofy mucus reference to silver the horse character says no plate reference to tarzan deadline raw meat comedy african princess biting hand gotan indigenous albizia tree simple panthera leo dead animal engagement naked alibi broken man princess cult classic haplorhini giving birth One of the worst movies of all time american abroad flim flam Comedy  dowry reference to weasel workaholic Rhino action :D talking in sleep spear subjective camera deadly fall holy man mountain climber Steve Oedekerk reference to rabies reference to marcus antonius Tibet procyonid reference to sweeney todd surprise ending calling someone a loser motive hominid monkey actor wachati princess eccentric man woman exposing her breasts gorilla reference to canada slow motion scene spit in the face bare shoulders raven anti fur activist talking through one's buttocks male objectification raped by an animal private detective wacky comedy pregnancy astral projection bestiality grauer's gorilla chinese monastery kidnapped animal fur land rover calling someone a sissy gross out comedy reference to a mongoose oathbreaker bonai province man steps on a man's crotch over the top screaming in pain fran-done african village musteloidea sunglasses obscenity apologetic attacker buddhist monk fingerprint sacred ground character says don't look down reference to william shakespeare stupidity african hominids village hawaiian shirt reference to rich uncle pennybags reference to monopoly the game reference to hasbro character says i am alive nigeria very funny sacred animal primates five word title hilarious life partner Stupid as Hell mistaken for giving birth bloody face raccoon cave mistranslation chiroptophobia hominids blood in face character says let's go kick butt african apes character says go to hell nocturnal mammal pregnant reference to a hound dog white devil as epithet touch eye reference to bumblebee reference to a moose virgin stupid birth zoophilia human animal relationship anti fur reference to shish kebab slinky tail raped by a female gorilla disguise falling to death mimosa tree trophy collection waving goodbye monkey vow of celibacy shaman character warns man that his testicles are visible can can gorillini Simon Callow great ape spying fake accent monasticism suspect kidnapping lost the will to live asia reference to bingo monocle ace ventura medal chief full moon dirty cop troubled production time lapse photography chief of security childhood fav interracial romance tooth decay crop buried in sand fictional country raped by animal reference to yak reference to gotan black market nocturnal animal character name in title virgin woman blockbuster corvus corax mating season dancing trophy hunter car crashing into a tree capuchin monkey mimosa dark bat homininae dumb selfishness threatened with a knife corvus haplorhines mistaken for being a stripper character says i will kill you buddhist monastery procyon lotor skunk implied nudity crude humor simon says procyon light bat monster truck woman flashing breasts mistaken for a stripper Gross-out slimehouse gingivitis gorilla beringei reference to the shawshank redemption going over a waterfall eating raw meat childbirth arctoidea albizia julibrissin lion bad taste poison dart lifting someone into the air anthropoid master of disguise human skull reference to marc anthony reference to a rhinoceros hehehe reference to lynn aloysius belvedere masterbation reference to mary poppins pet detective bat reference to north africa chess Jim Carrey cebidae sexy princess animal lover reference to jesus christ reference to aboriginal australians laughing at someone marriage of state shield bowl loss of virginity noon eastern lowland gorilla dusting for fingerprints scrotifera nudity guano firewalking reference to australia skull simiformes tibet awesome character says i dare you urine stain consul platyrrhini laughing at someone's pain silverback character says i am a princess bonai selfish himalayas helicopter imitating an animal reference to mr. belvedere aura on-library  sex with an animal cult favorite hut masturbation raped man motivation cat biting attacker princess commoner love man raped arranged marriage riding crop caught masturbating tibetan monastery reference to mister belvadere character asks how would i know fictional african country horse whip reference to chicago new world monkey lowland gorilla ashram spring toy breaking an oath sequel childhood classic shrine temptation zebra silly fun mountain climbing curse jungle",
         "comedy searching for a culprit naked man premature birth detective reference to lone ranger monk horse equestrianism emotional breakdown sacred bat procyonids meditation buddhism chiroptera reference to a fly the insect black people interpreter rape simian hominidae searching for motive roaring forensics cebinae ace ventura character reference to tuna fish hysteria reference to jack and the beanstalk stewardess clerical celibacy character says war is hell mountaintop monastery reference to a rat spring second part stripped naked africa man spits on another man's face common raven crashing a car into a tree medallion reference to satan procyonidae waterfall mephitidae white bat celibacy fertilizer exploitation dart elephant testicle toy nibia monastery africa slapstick comedy african dance medicine man reference to pierre gustave toutant beauregard crazy china reference to a cat devil not my kind of comedy buddha statue tribe raped by a gorilla consulate eastern gorilla airplane calling someone a devil spit pain threshold primate yelling money making scheme poisonous dart oath of celibacy unsubtitled foreign language life is sacred gorilla beringei graueri whip goofy mucus reference to silver the horse character says no plate reference to tarzan deadline raw meat comedy african princess biting hand gotan indigenous albizia tree simple panthera leo dead animal engagement naked alibi broken man princess cult classic haplorhini giving birth one of the worst movies of all time american abroad flim flam comedy  dowry reference to weasel workaholic rhino action :d talking in sleep spear subjective camera deadly fall holy man mountain climber steve oedekerk reference to rabies reference to marcus antonius tibet procyonid reference to sweeney todd surprise ending calling someone a loser motive hominid monkey actor wachati princess eccentric man woman exposing her breasts gorilla reference to canada slow motion scene spit in the face bare shoulders raven anti fur activist talking through one's buttocks male objectification raped by an animal private detective wacky comedy pregnancy astral projection bestiality grauer's gorilla chinese monastery kidnapped animal fur land rover calling someone a sissy gross out comedy reference to a mongoose oathbreaker bonai province man steps on a man's crotch over the top screaming in pain fran-done african village musteloidea sunglasses obscenity apologetic attacker buddhist monk fingerprint sacred ground character says don't look down reference to william shakespeare stupidity african hominids village hawaiian shirt reference to rich uncle pennybags reference to monopoly the game reference to hasbro character says i am alive nigeria very funny sacred animal primates five word title hilarious life partner stupid as hell mistaken for giving birth bloody face raccoon cave mistranslation chiroptophobia hominids blood in face character says let's go kick butt african apes character says go to hell nocturnal mammal pregnant reference to a hound dog white devil as epithet touch eye reference to bumblebee reference to a moose virgin stupid birth zoophilia human animal relationship anti fur reference to shish kebab slinky tail raped by a female gorilla disguise falling to death mimosa tree trophy collection waving goodbye monkey vow of celibacy shaman character warns man that his testicles are visible can can gorillini simon callow great ape spying fake accent monasticism suspect kidnapping lost the will to live asia reference to bingo monocle ace ventura medal chief full moon dirty cop troubled production time lapse photography chief of security childhood fav interracial romance tooth decay crop buried in sand fictional country raped by animal reference to yak reference to gotan black market nocturnal animal character name in title virgin woman blockbuster corvus corax mating season dancing trophy hunter car crashing into a tree capuchin monkey mimosa dark bat homininae dumb selfishness threatened with a knife corvus haplorhines mistaken for being a stripper character says i will kill you buddhist monastery procyon lotor skunk implied nudity crude humor simon says procyon light bat monster truck woman flashing breasts mistaken for a stripper gross-out slimehouse gingivitis gorilla beringei reference to the shawshank redemption going over a waterfall eating raw meat childbirth arctoidea albizia julibrissin lion bad taste poison dart lifting someone into the air anthropoid master of disguise human skull reference to marc anthony reference to a rhinoceros hehehe reference to lynn aloysius belvedere masterbation reference to mary poppins pet detective bat reference to north africa chess jim carrey cebidae sexy princess animal lover reference to jesus christ reference to aboriginal australians laughing at someone marriage of state shield bowl loss of virginity noon eastern lowland gorilla dusting for fingerprints scrotifera nudity guano firewalking reference to australia skull simiformes tibet awesome character says i dare you urine stain consul platyrrhini laughing at someone's pain silverback character says i am a princess bonai selfish himalayas helicopter imitating an animal reference to mr. belvedere aura on-library  sex with an animal cult favorite hut masturbation raped man motivation cat biting attacker princess commoner love man raped arranged marriage riding crop caught masturbating tibetan monastery reference to mister belvadere character asks how would i know fictional african country horse whip reference to chicago new world monkey lowland gorilla ashram spring toy breaking an oath sequel childhood classic shrine temptation zebra silly fun mountain climbing curse jungle"
        ],
        [
         "19",
         "20",
         "Money Train (1995)",
         "Action Comedy Crime Drama Thriller",
         "murder subway runaway train black comedy reference to ice cube new york city wristwatch banter barricade burning man attraction brawl comeuppance switchboard buddy cop racial slur caper crime spitting in someone's face mixed martial arts transit cop rescue afternoon section thrown from a train boxing kissing while having sex person on fire f word punching bag urination bare chested male lust interracial relationship hit by a train stakeout lame new york subway sex scene police fight in a kitchen fight in a train compartment arrest female police officer psychopath held at gunpoint gangster friendship train robbery motorcycle sibling relationship gambling debt friendship between men shot to death interracial kiss pickpocket title spoken by character burn victim beating caper sibling rivalry bar pretending to be drunk manhattan new york city two man army wallet roundhouse kick decoy kiss female frontal nudity Nudity (Topless - Brief) jealousy hand to hand combat violence gambling hijacking a train riding a motorcycle down stairs ticket booth child in jeopardy loan shark train crash arsonist police badge horse drawn carriage pyromaniac anti hero worthwhile undercover kicked in the face lopez thief tough girl train tracks heist crime train station brother brother relationship opening action scene card game beer mexican standoff central park manhattan new york city argument subway station shooting out a window pushed in front of subway train action hero pistol arson tough guy love interest wisecrack humor money intense brooklyn bridge revolver CLV semiautomatic pistol strip club punched in the face interracial sex dancing christmas false accusation of theft robbery chase repeated line new year's eve martial arts Joseph Ruben fired from a job train train wreck male bonding shootout foot chase hispanic american bartender fire machine gun police shootout romantic rivalry fistfight",
         "action comedy crime drama thriller murder subway runaway train black comedy reference to ice cube new york city wristwatch banter barricade burning man attraction brawl comeuppance switchboard buddy cop racial slur caper crime spitting in someone's face mixed martial arts transit cop rescue afternoon section thrown from a train boxing kissing while having sex person on fire f word punching bag urination bare chested male lust interracial relationship hit by a train stakeout lame new york subway sex scene police fight in a kitchen fight in a train compartment arrest female police officer psychopath held at gunpoint gangster friendship train robbery motorcycle sibling relationship gambling debt friendship between men shot to death interracial kiss pickpocket title spoken by character burn victim beating caper sibling rivalry bar pretending to be drunk manhattan new york city two man army wallet roundhouse kick decoy kiss female frontal nudity nudity (topless - brief) jealousy hand to hand combat violence gambling hijacking a train riding a motorcycle down stairs ticket booth child in jeopardy loan shark train crash arsonist police badge horse drawn carriage pyromaniac anti hero worthwhile undercover kicked in the face lopez thief tough girl train tracks heist crime train station brother brother relationship opening action scene card game beer mexican standoff central park manhattan new york city argument subway station shooting out a window pushed in front of subway train action hero pistol arson tough guy love interest wisecrack humor money intense brooklyn bridge revolver clv semiautomatic pistol strip club punched in the face interracial sex dancing christmas false accusation of theft robbery chase repeated line new year's eve martial arts joseph ruben fired from a job train train wreck male bonding shootout foot chase hispanic american bartender fire machine gun police shootout romantic rivalry fistfight"
        ],
        [
         "20",
         "21",
         "Get Shorty (1995)",
         "Comedy Crime Thriller",
         "producer murder man punching a woman funny! 8 track LA satirical Escobar satire:Hollywood insiders los angeles california restaurant sole black character dies cliche black comedy Elmore Leonard plane crash limousine revenge miami b movie hostage frame up mob enforcer Barry Sonnenfeld smoking california falling from height business heart attack Rewatch insurance fraud quirky NO_FA_GANES insurance settlement Hilarious! f word reference to bette davis organized crime reference to david o selznick locker billboard las vegas nevada literary adaptation con artist drug lord ensemble cast based on a book Hollywood hollywood california father daughter relationship dark comedy airport broken nose Gene Hackman birthday party film set surprise ending police surveillance contrived held at gunpoint mafia gangster movie producer hollywood watch cult film two word title Getting old but still excellent John Travolta funny title spoken by character about movie making crotch grab dolly zoom florida beating dumb criminal hare krishna miami florida mobster reference to john wayne movie business con hairdresser violence filmmaking rene russo stuntman short man neck brace reference to orson welles gambling debt loan shark Self-referential drug cartel surprise party author:Elmore Leonard mob mansion motel pushed down stairs stolen money suv travel Mise en abyme parking garage based on novel or book travolta satire airplane breaking and entering confidence trick based on novel cool pushed off a balcony missing person female rocker actress hit with a telephone ponytail reference to dean martin sitting on a toilet money crime job one last job miami, florida film within a film CLV silly drugs gay slur USA forgetable actor faked death neo noir scam foqam Crime reference to al pacino thug extortion debt collector movie set dea drug enforcement administration coat Danny DeVito",
         "comedy crime thriller producer murder man punching a woman funny! 8 track la satirical escobar satire:hollywood insiders los angeles california restaurant sole black character dies cliche black comedy elmore leonard plane crash limousine revenge miami b movie hostage frame up mob enforcer barry sonnenfeld smoking california falling from height business heart attack rewatch insurance fraud quirky no_fa_ganes insurance settlement hilarious! f word reference to bette davis organized crime reference to david o selznick locker billboard las vegas nevada literary adaptation con artist drug lord ensemble cast based on a book hollywood hollywood california father daughter relationship dark comedy airport broken nose gene hackman birthday party film set surprise ending police surveillance contrived held at gunpoint mafia gangster movie producer hollywood watch cult film two word title getting old but still excellent john travolta funny title spoken by character about movie making crotch grab dolly zoom florida beating dumb criminal hare krishna miami florida mobster reference to john wayne movie business con hairdresser violence filmmaking rene russo stuntman short man neck brace reference to orson welles gambling debt loan shark self-referential drug cartel surprise party author:elmore leonard mob mansion motel pushed down stairs stolen money suv travel mise en abyme parking garage based on novel or book travolta satire airplane breaking and entering confidence trick based on novel cool pushed off a balcony missing person female rocker actress hit with a telephone ponytail reference to dean martin sitting on a toilet money crime job one last job miami, florida film within a film clv silly drugs gay slur usa forgetable actor faked death neo noir scam foqam crime reference to al pacino thug extortion debt collector movie set dea drug enforcement administration coat danny devito"
        ],
        [
         "21",
         "22",
         "Copycat (1995)",
         "Crime Drama Horror Mystery Thriller",
         "reviewed detective psychologist suspense mystery police brutality cowardliness psychology claustrophobic over 45 police protection thriller trauma agoraphobia Holly Hunter J.E. Freeman detective thriller San Francisco suspenseful strong female lead police operation hulu live serial killer Sigourney Weaver female protagonist",
         "crime drama horror mystery thriller reviewed detective psychologist suspense mystery police brutality cowardliness psychology claustrophobic over 45 police protection thriller trauma agoraphobia holly hunter j.e. freeman detective thriller san francisco suspenseful strong female lead police operation hulu live serial killer sigourney weaver female protagonist"
        ],
        [
         "22",
         "23",
         "Assassins (1995)",
         "Action Crime Thriller",
         "police chase cia mexican standoff Wachowski Brothers kill explosions double cross competition assassination contract killer cat strong cast Antonio Banderas CLV silencer escape Richard Donner stunts Divx1 Sylvester Stallone Seattle detroit bank Spain 2.5 mission of murder Julianne Moore shootout sniper rifle hidden camera action afternoon section rescue chess hitman seattle rivalry plot twist caribbean festival Intense ",
         "action crime thriller police chase cia mexican standoff wachowski brothers kill explosions double cross competition assassination contract killer cat strong cast antonio banderas clv silencer escape richard donner stunts divx1 sylvester stallone seattle detroit bank spain 2.5 mission of murder julianne moore shootout sniper rifle hidden camera action afternoon section rescue chess hitman seattle rivalry plot twist caribbean festival intense "
        ],
        [
         "23",
         "24",
         "Powder (1995)",
         "Drama Sci-Fi",
         "poignant christ allegory tearjerking sci-fi Victor Salva bullying reflective hairless fantasy inane healing power Jeff Goldblum Empathy teenage boy albino outcast teaches us all a cheesy lesson pale fainting held at gunpoint dead animal special powers earnest flickering light Post apocalyptic elegiac Coming of age shot to death extrasensory perception Can't remember magnetism pretentious drama electricity jacobs ladder Fantasy teacher student relationship psionic power controversial Philosophy",
         "drama sci-fi poignant christ allegory tearjerking sci-fi victor salva bullying reflective hairless fantasy inane healing power jeff goldblum empathy teenage boy albino outcast teaches us all a cheesy lesson pale fainting held at gunpoint dead animal special powers earnest flickering light post apocalyptic elegiac coming of age shot to death extrasensory perception can't remember magnetism pretentious drama electricity jacobs ladder fantasy teacher student relationship psionic power controversial philosophy"
        ],
        [
         "24",
         "25",
         "Leaving Las Vegas (1995)",
         "Drama Romance",
         "drinking tragic bad casting los angeles Nicolas Cage alcohol abuse nudity (topless) intimate meaning of love suicide desperation nihilism bittersweet Bibliothek Las Vegas NO_FA_GANES elegiac emptiness screenwriter rape melancholy love suffering self destruction unlikeable characters existential casino broken hearts Richard Lewis based on a book Valeria Golino unlikely friendship meaning of life misery suffering protagonist Steven Weber addiction interview depressing Alcoholism ALCOHOLISM love is not enough 90s realistic characters understated alcohol PROSTITUTES humanizing unsociability failure Elisabeth - emotion! author:John O'Brien intimacy DVD-Video movie business prostitute library prostitution Julian Sands overacting Nudity (Topless) atmospheric depression implausible SUICIDE overrated company clinical depression loneliness individual drunkenness self-destruction broken heart drama pretentious Kim Adams favorites addict alcoholism poignant haunting dying and death melancholic Emily Procter owned human condition lovesickness love at first sight hotel room sad elizabeth shue 'True Art is Angst' trope narrated adapted from:book Mariska Hargitay STAR-CROSSED LOVERS Annemari dark Elisabeth Shue Oscar (Best Actor) rage and hate Mike Figgis great soundtrack las vegas",
         "drama romance drinking tragic bad casting los angeles nicolas cage alcohol abuse nudity (topless) intimate meaning of love suicide desperation nihilism bittersweet bibliothek las vegas no_fa_ganes elegiac emptiness screenwriter rape melancholy love suffering self destruction unlikeable characters existential casino broken hearts richard lewis based on a book valeria golino unlikely friendship meaning of life misery suffering protagonist steven weber addiction interview depressing alcoholism alcoholism love is not enough 90s realistic characters understated alcohol prostitutes humanizing unsociability failure elisabeth - emotion! author:john o'brien intimacy dvd-video movie business prostitute library prostitution julian sands overacting nudity (topless) atmospheric depression implausible suicide overrated company clinical depression loneliness individual drunkenness self-destruction broken heart drama pretentious kim adams favorites addict alcoholism poignant haunting dying and death melancholic emily procter owned human condition lovesickness love at first sight hotel room sad elizabeth shue 'true art is angst' trope narrated adapted from:book mariska hargitay star-crossed lovers annemari dark elisabeth shue oscar (best actor) rage and hate mike figgis great soundtrack las vegas"
        ],
        [
         "25",
         "26",
         "Othello (1995)",
         "Drama",
         "Shakespearean great based on a play Oliver Parker jealousy wow Nudity (Topless) moor CLV friends playwright:Shakespeare adapted from:play shakespeare Shakespeare Ei muista",
         "drama shakespearean great based on a play oliver parker jealousy wow nudity (topless) moor clv friends playwright:shakespeare adapted from:play shakespeare shakespeare ei muista"
        ],
        [
         "26",
         "27",
         "Now and Then (1995)",
         "Children Drama",
         "a bit boring Thora Birch supernatural women seance Gaby Hoffman nostalgia female friendship Demi Moore nostalgic woman director truth or dare 1970s songs friendship Rita Wilson retro Rosie O'Donnell coming of age soundtrack sisterhood photocopier Bechdel Test:Pass Christina Ricci 2024 relook Janeane Garofalo gynecologist Brendan Fraser great soundtrack Melanie Griffith",
         "children drama a bit boring thora birch supernatural women seance gaby hoffman nostalgia female friendship demi moore nostalgic woman director truth or dare 1970s songs friendship rita wilson retro rosie o'donnell coming of age soundtrack sisterhood photocopier bechdel test:pass christina ricci 2024 relook janeane garofalo gynecologist brendan fraser great soundtrack melanie griffith"
        ],
        [
         "27",
         "28",
         "Persuasion (1995)",
         "Drama Romance",
         "acting library vhs Best adaptation adaptation based on a book England etaege 19th century old flame CiarÃ¡n Hinds CLV captain Regency England bland romantic Pam's list Amanda Root slow period piece Roger Michell 18th century author:Jane Austen Amanda Root is fabulous in this screenwriter:Nick Dear setting:England BD-R j netflix adapted from:book boring napoleonic wars Romance  admiral In Netflix queue Jane Austen Ciarán Hinds classic literature Fiona Shaw",
         "drama romance acting library vhs best adaptation adaptation based on a book england etaege 19th century old flame ciarã¡n hinds clv captain regency england bland romantic pam's list amanda root slow period piece roger michell 18th century author:jane austen amanda root is fabulous in this screenwriter:nick dear setting:england bd-r j netflix adapted from:book boring napoleonic wars romance  admiral in netflix queue jane austen ciarán hinds classic literature fiona shaw"
        ],
        [
         "28",
         "29",
         "City of Lost Children, The (Cité des enfants perdus, La) (1995)",
         "Adventure Drama Fantasy Mystery Sci-Fi",
         "Freaks surrealist sci-fi Christmas Creepy fantasy Santa Claus Legenda PT-BR childhood Dominique Pinon cyberpunk aging visually appealing rescue intricate hallucinatory whimsical deer dream clowny clones erlend's DVDs Marc Caro Jean-Pierre Jeunet dystopian Jeunet Rich setting weird French Weird soundtrack friendship dark fairytale strong characters not memorable steampunk cult film visual alternate reality deer shit mechanized island memasa's movies clone characters philosophical dreamlike Dark fantasy need to own symbolism surreal visually stunning dark fairy tale awkward romance kidnapping girl Nudity (Topless) atmospheric eye Ron Perlman abused children child actor dark fantasy Creepy strange setting surreal, dark, nightmare fanciful abstract on computer dystopia Weird fantasy bleak btaege Creepy tweens dreams beautiful orphans Weird twins circus stupid plot stylized children 2.5 dark skinut Dwarf",
         "adventure drama fantasy mystery sci-fi freaks surrealist sci-fi christmas creepy fantasy santa claus legenda pt-br childhood dominique pinon cyberpunk aging visually appealing rescue intricate hallucinatory whimsical deer dream clowny clones erlend's dvds marc caro jean-pierre jeunet dystopian jeunet rich setting weird french weird soundtrack friendship dark fairytale strong characters not memorable steampunk cult film visual alternate reality deer shit mechanized island memasa's movies clone characters philosophical dreamlike dark fantasy need to own symbolism surreal visually stunning dark fairy tale awkward romance kidnapping girl nudity (topless) atmospheric eye ron perlman abused children child actor dark fantasy creepy strange setting surreal, dark, nightmare fanciful abstract on computer dystopia weird fantasy bleak btaege creepy tweens dreams beautiful orphans weird twins circus stupid plot stylized children 2.5 dark skinut dwarf"
        ],
        [
         "29",
         "30",
         "Shanghai Triad (Yao a yao yao dao waipo qiao) (1995)",
         "Crime Drama",
         "shanghai diva mistress Zhang Yimou amazon prime servant mob Shanghai Yimou Zhang uncle umbrella cabaret Gong Li",
         "crime drama shanghai diva mistress zhang yimou amazon prime servant mob shanghai yimou zhang uncle umbrella cabaret gong li"
        ],
        [
         "30",
         "31",
         "Dangerous Minds (1995)",
         "Drama",
         "own ghetto teacher inspirational rap music seen at the cinema based on a book dead awesome amusement park John N. Smith education poetry erlend's DVDs crime karate nigga professor social commentary gangsters Dangerous Minds death high school touching hood Bibliothek good soundtrack naval officer protagonist is a teacher Emilio! white savior stupid afternoon section douchebags drama Highschool island kinda scary Michelle Pfeiffer teacher changing lives great soundtrack school drama",
         "drama own ghetto teacher inspirational rap music seen at the cinema based on a book dead awesome amusement park john n. smith education poetry erlend's dvds crime karate nigga professor social commentary gangsters dangerous minds death high school touching hood bibliothek good soundtrack naval officer protagonist is a teacher emilio! white savior stupid afternoon section douchebags drama highschool island kinda scary michelle pfeiffer teacher changing lives great soundtrack school drama"
        ],
        [
         "31",
         "32",
         "Twelve Monkeys (a.k.a. 12 Monkeys) (1995)",
         "Mystery Sci-Fi Thriller",
         "year 1917 recording paradox airport personnel based on short film solitary confinement mooning hearing voices female stockinged legs volunteer reference to woody woodpecker woods tooth rescue child's point of view 3 shooting absurd stairway cockroach spider web airport security checkpoint reviewed blood mental institution mental illness dream rated-R public nudity eating insect mindfuck bare butt wig dystopian city bus cassandra syndrom police surveillance imitating an ape animal in title feather flashback shot in the leg steampunk partial nudity prison cell watching tv biological weapon original miniskirt psychosis gun in airport Saturn Award (Best Science Fiction Film) solitary elephant voice mail Madeleine Stowe activist decontamination Bad acting  disembodied voice skid row psychotronic film department store kidnapping of father deja vu Interesting underground overrated belittlement of mentally ill heterosexual bullet escaped mental patient auto theft boring tears desolation airplane speech white coat plot twist crying woman father son relationship psychiatric disorder fowards time travel smoking man dystopia complicated plot ponytail Mindfuck Movie bum revolver shot in the back can be hard to follow sci fi Weird good film tiger running Bruce Willis complicated Tumey's DVDs subterranean santa claus suit time paradox graffiti number in title dormitory biological warfare fresno california fate nuevo tango Gilliam historiograpghy and time travel animal rights activist mental breakdown fake moustache attempted rape sedative rabbit ear antenna predictable ending doomsday time machine thumbs up gesture seen 2021 black comedy Time paradox flophouse self dentistry post apocalypse psychiatric care listening to music on a car radio different view male nudity environment florida keys talking to self reference to dr strangelove listening to car radio giraffe disappointing ambiguous philadelphia, pennsylvania inmate pandemic bare chested male bondage tied to a bed peacock sanitarium steam abandoned theater axe classic listening to a car radio mine shaft reality or imagination? jail cell airport Stupid thriller time travel surprise ending long haired woman Saturn Award (Best Supporting Actor) bear spacesuit tango music phony mustache psychiatrist brad pitt animal rights epidemic airport police reference to harry houdini slow motion scene real movie shown in fictional situation fire place woman wears a short skirt alternate reality hospital animal noises strong director elaborate title spoken by character recurring dream future noir depopulation memasa's movies animal pardon escaped animal lethal virus asylum memory remains vending machine bumper sticker mental ward good as hell violence public transit atmospheric pulling tooth insane asylum male time traveller science-fiction vivisection fran-done paranoia imagination ClearPlay forced drug consumption chains lecture plot point:bio-medical danger homeless man metal detector activism street preacher Brad Pitt disease poor neighborhood man uses a wheelchair brilliant dystopic future not seen sanatorium remake of a french film secret Based on short film time traveler dinner hawaiian shirt cassandra complex alternate timeline christmas cross hobo elevator malfunction black pantyhose Sci-Fi bald man SF jeffrey philadelphia pennsylvania grizzly bear dark trapped inside a pipe 1990s time traveller bruce willis schizophrenia germ alternate history musket Orange Ponytail book of revelations pursuit gurney after you watch it you spend hours thinkig about it jail monty-python-related year 1996 psycho ward ending snow sci-fi. dark cell phone R tv rabbit ears clearing in wood inaccurate depiction of mental illnesses lazy eye Bruce Willlis biblical quote elevator get annoying characters slow motion action scene biology hiding in a barn mri obsession brunette woman disguise remake of french film social misfits surrealism kick in face genetics psychology police remake monkey adapted from French end of the world male nudity: rear dark comedy Drama memory wearing sunglasses inside world war one post-apocalyptic story presentation hit in the crotch madness adapted from/inspired by:short film spray paint shot to death crotch grab man punches woman foreknowledge excellent Terry Gilliam bad breath trippy plague white telephone DVD-Video determinism man punches a woman nonlinear timeline post-apocalyptic future prank kidnapping hotel reception listening to music on car radio undressing wheelchair year 1990 pimp trapped banquet deterministic street life drama deadly virus cartoon on tv backwards time travel agonizing science dutch angle tooth extraction zoo inaccurate depiction of mental health institution Dark Future twist ending haunted by the past tv news Joseph Melito falling down stairs dystopian future music country road medical research owned great ending adventure rewatch mistaken identity stockholm syndrome boy running through the woods obscene finger gesture short skirt drug use taxi practical effects cry wolf newspaper headline Chris Marker policeman therapist murder Futuristmovies.com sci-fi tattoo on head eating spider trench warfare older version of self secret army heterosexuality cassandra syndrome key my favorite reviewers disliked this film: that's when I started to trust them less time loop design nature of insanity woman wears a miniskirt Time Travel beaten to death black and white television spider endless loop shower lion future Bad acting lab rabbit reference to cassandra party fugitive figment of imagination depressing laboratory movie theater prisoner watching a movie flashback within a flashback prison male female relationship leopard cult film nude pantyhose red eyes David Webb Peoples thumb's up sign virologist person in a car trunk police van taxi driver biological research great actors ecoterrorism bad guys win wanted poster dated technology virus nudity gun soothsayer sadness DVD mystery microbiologist battle baltimore maryland imdb top 250 altering history newspaper men over 45 reduced sentence Nonsensical  pay phone seedy motel animal welfare Post apocalyptic drooling stream long barreled revolver genius clever scenario contamination suit philadelphia pillow feathers Mental Institution unrealistic Amazing newspaper covered window British psychiatric hospital Special seen at the cinema airport terminal reference to houdini science fiction lab animal cleavage death past Christopher Plummer reference to albert einstein chase neo noir insanity Divx1 nightmare setting:Philadelphia public restroom Pelis1 male rear nudity barn telephone call car radio gas mask pantyhose",
         "mystery sci-fi thriller year 1917 recording paradox airport personnel based on short film solitary confinement mooning hearing voices female stockinged legs volunteer reference to woody woodpecker woods tooth rescue child's point of view 3 shooting absurd stairway cockroach spider web airport security checkpoint reviewed blood mental institution mental illness dream rated-r public nudity eating insect mindfuck bare butt wig dystopian city bus cassandra syndrom police surveillance imitating an ape animal in title feather flashback shot in the leg steampunk partial nudity prison cell watching tv biological weapon original miniskirt psychosis gun in airport saturn award (best science fiction film) solitary elephant voice mail madeleine stowe activist decontamination bad acting  disembodied voice skid row psychotronic film department store kidnapping of father deja vu interesting underground overrated belittlement of mentally ill heterosexual bullet escaped mental patient auto theft boring tears desolation airplane speech white coat plot twist crying woman father son relationship psychiatric disorder fowards time travel smoking man dystopia complicated plot ponytail mindfuck movie bum revolver shot in the back can be hard to follow sci fi weird good film tiger running bruce willis complicated tumey's dvds subterranean santa claus suit time paradox graffiti number in title dormitory biological warfare fresno california fate nuevo tango gilliam historiograpghy and time travel animal rights activist mental breakdown fake moustache attempted rape sedative rabbit ear antenna predictable ending doomsday time machine thumbs up gesture seen 2021 black comedy time paradox flophouse self dentistry post apocalypse psychiatric care listening to music on a car radio different view male nudity environment florida keys talking to self reference to dr strangelove listening to car radio giraffe disappointing ambiguous philadelphia, pennsylvania inmate pandemic bare chested male bondage tied to a bed peacock sanitarium steam abandoned theater axe classic listening to a car radio mine shaft reality or imagination? jail cell airport stupid thriller time travel surprise ending long haired woman saturn award (best supporting actor) bear spacesuit tango music phony mustache psychiatrist brad pitt animal rights epidemic airport police reference to harry houdini slow motion scene real movie shown in fictional situation fire place woman wears a short skirt alternate reality hospital animal noises strong director elaborate title spoken by character recurring dream future noir depopulation memasa's movies animal pardon escaped animal lethal virus asylum memory remains vending machine bumper sticker mental ward good as hell violence public transit atmospheric pulling tooth insane asylum male time traveller science-fiction vivisection fran-done paranoia imagination clearplay forced drug consumption chains lecture plot point:bio-medical danger homeless man metal detector activism street preacher brad pitt disease poor neighborhood man uses a wheelchair brilliant dystopic future not seen sanatorium remake of a french film secret based on short film time traveler dinner hawaiian shirt cassandra complex alternate timeline christmas cross hobo elevator malfunction black pantyhose sci-fi bald man sf jeffrey philadelphia pennsylvania grizzly bear dark trapped inside a pipe 1990s time traveller bruce willis schizophrenia germ alternate history musket orange ponytail book of revelations pursuit gurney after you watch it you spend hours thinkig about it jail monty-python-related year 1996 psycho ward ending snow sci-fi. dark cell phone r tv rabbit ears clearing in wood inaccurate depiction of mental illnesses lazy eye bruce willlis biblical quote elevator get annoying characters slow motion action scene biology hiding in a barn mri obsession brunette woman disguise remake of french film social misfits surrealism kick in face genetics psychology police remake monkey adapted from french end of the world male nudity: rear dark comedy drama memory wearing sunglasses inside world war one post-apocalyptic story presentation hit in the crotch madness adapted from/inspired by:short film spray paint shot to death crotch grab man punches woman foreknowledge excellent terry gilliam bad breath trippy plague white telephone dvd-video determinism man punches a woman nonlinear timeline post-apocalyptic future prank kidnapping hotel reception listening to music on car radio undressing wheelchair year 1990 pimp trapped banquet deterministic street life drama deadly virus cartoon on tv backwards time travel agonizing science dutch angle tooth extraction zoo inaccurate depiction of mental health institution dark future twist ending haunted by the past tv news joseph melito falling down stairs dystopian future music country road medical research owned great ending adventure rewatch mistaken identity stockholm syndrome boy running through the woods obscene finger gesture short skirt drug use taxi practical effects cry wolf newspaper headline chris marker policeman therapist murder futuristmovies.com sci-fi tattoo on head eating spider trench warfare older version of self secret army heterosexuality cassandra syndrome key my favorite reviewers disliked this film: that's when i started to trust them less time loop design nature of insanity woman wears a miniskirt time travel beaten to death black and white television spider endless loop shower lion future bad acting lab rabbit reference to cassandra party fugitive figment of imagination depressing laboratory movie theater prisoner watching a movie flashback within a flashback prison male female relationship leopard cult film nude pantyhose red eyes david webb peoples thumb's up sign virologist person in a car trunk police van taxi driver biological research great actors ecoterrorism bad guys win wanted poster dated technology virus nudity gun soothsayer sadness dvd mystery microbiologist battle baltimore maryland imdb top 250 altering history newspaper men over 45 reduced sentence nonsensical  pay phone seedy motel animal welfare post apocalyptic drooling stream long barreled revolver genius clever scenario contamination suit philadelphia pillow feathers mental institution unrealistic amazing newspaper covered window british psychiatric hospital special seen at the cinema airport terminal reference to houdini science fiction lab animal cleavage death past christopher plummer reference to albert einstein chase neo noir insanity divx1 nightmare setting:philadelphia public restroom pelis1 male rear nudity barn telephone call car radio gas mask pantyhose"
        ],
        [
         "32",
         "33",
         "Wings of Courage (1995)",
         "Adventure Romance IMAX",
         "IMAX 3-D Stereoscopic 3-D",
         "adventure romance imax imax 3-d stereoscopic 3-d"
        ],
        [
         "33",
         "34",
         "Babe (1995)",
         "Children Drama",
         "own Animal easily confused with other movie(s) (title) food slice of life animals happy ending nostalgia Oscar Nominee: Best Picture 1995 infantil seen 2022 AFI 100 (Cheers) villain nonexistent or not needed for good story farmhouse competition based on a book James Cromwell sweet pig Favorite environmental wholesome farmer meaty cute fantasy witty heartwarming animal:pig that'll do pig CLV Chris Noonan carnism adventure Animal movie ending seen more than once death overrated Hugo Weaving overdub farm tale farming sheep Biography on dvr talking animals children animals - live action boring Oscar Nominee: Best Picture specism barnyard animals based on a children's book funny 55 movies every kid should see--Entertainment Weekly original DVD Collection favorite rats way overrated dogs farm farm animals pigs family",
         "children drama own animal easily confused with other movie(s) (title) food slice of life animals happy ending nostalgia oscar nominee: best picture 1995 infantil seen 2022 afi 100 (cheers) villain nonexistent or not needed for good story farmhouse competition based on a book james cromwell sweet pig favorite environmental wholesome farmer meaty cute fantasy witty heartwarming animal:pig that'll do pig clv chris noonan carnism adventure animal movie ending seen more than once death overrated hugo weaving overdub farm tale farming sheep biography on dvr talking animals children animals - live action boring oscar nominee: best picture specism barnyard animals based on a children's book funny 55 movies every kid should see--entertainment weekly original dvd collection favorite rats way overrated dogs farm farm animals pigs family"
        ],
        [
         "34",
         "35",
         "Carrington (1995)",
         "Drama Romance",
         "Bloomsbury Group compare:Carrington (1995) painter protagonist is writer entirely dialogue england homosexuality based on a book England Character study intense independent film bisexual biopics protagonist is painter (artist) polyamory sad artists soldier World War I on dvr artist strong woman Emma Thompson compare:Bright Star (2009) conscientious objector character driven",
         "drama romance bloomsbury group compare:carrington (1995) painter protagonist is writer entirely dialogue england homosexuality based on a book england character study intense independent film bisexual biopics protagonist is painter (artist) polyamory sad artists soldier world war i on dvr artist strong woman emma thompson compare:bright star (2009) conscientious objector character driven"
        ],
        [
         "35",
         "36",
         "Dead Man Walking (1995)",
         "Crime Drama",
         "swastika murder Tim Robbins poverty legal rights reference to fidel castro police officer true story tv camera lightning strong fence microphone Oscar Nominee: Music - Original Song burial singing gurney based on book deaf sentence defense lawyer charity social commentary despair R:depiction of a rape and murder rifle justice thunder smoking tied up R visitor solitary confinement catholic priest funeral woods crying gunshot adult diaper buy rape reference to james cagney american forgiveness murder of a nude woman lawyer scum self-discovery racist right and justice cemetery making out handcuffs inmate southern gospel witness siren news report search party Seen 2020 mother son relationship work detail reporter security electric chair child court case capital punishment dream rated-R based on a book sympathy bigotry church confession priest law anger checker game father daughter relationship slums little boy vigil repentance louisiana dialogues 2 evidence rope skipping pompadour brother crying man prisoner fainting flashback Christianity savagery prison rat Oscar (Best Actress) bishop watch clock brutality dead teen couple prison cell shot to death watching tv Can't remember death sentence court tattoo f rated title spoken by character bible dead man jury southern u.s. Abe death penalty stabbed to death unsociability crucifix empathy lethal injection Pena de muerte book abduction coffin chaplain Nun institutions UK gender in title poem prison farm Bible based on true story letter penalty religion little girl reference to w. c. fields guilt legal trial prison road gang psalm socially deprived family politician legal paper laughter emotion! visit prayer hatred Ari Catholicism police car placard courtroom mercy petition mother daughter relationship knife self pity ethics stabbing catholic photograph Knoll low life speeding vehicle drama tears Bechdel Test:Pass Oscar Nominee: Lead Actor moral dilemma polygraph test roman catholic teenage girl plain clothes nun rapist corpse grief racism prison nurse armed guard father son relationship redemption social justice reference to ma barker baseball game texas death row forest prison guard cowardliness lake protestor intense crime governor doomed man reference to adolf hitler testimony movielens top pick Oscar Nominee: Director CLV blockbuster listening to radio USA teenage boy death document holy bible Susan Sarandon rewatch Sean Penn author:Helen Prejean sad bigot crime reenactment female nudity execution newspaper clipping liberal bus faith adapted from:book death row Annemari graveyard court hearing white supremacy support group latex gloves playing checkers extreme cruelty telephone call classroom straitjacket rage and hate therapist nun audience candle loss lie detector",
         "crime drama swastika murder tim robbins poverty legal rights reference to fidel castro police officer true story tv camera lightning strong fence microphone oscar nominee: music - original song burial singing gurney based on book deaf sentence defense lawyer charity social commentary despair r:depiction of a rape and murder rifle justice thunder smoking tied up r visitor solitary confinement catholic priest funeral woods crying gunshot adult diaper buy rape reference to james cagney american forgiveness murder of a nude woman lawyer scum self-discovery racist right and justice cemetery making out handcuffs inmate southern gospel witness siren news report search party seen 2020 mother son relationship work detail reporter security electric chair child court case capital punishment dream rated-r based on a book sympathy bigotry church confession priest law anger checker game father daughter relationship slums little boy vigil repentance louisiana dialogues 2 evidence rope skipping pompadour brother crying man prisoner fainting flashback christianity savagery prison rat oscar (best actress) bishop watch clock brutality dead teen couple prison cell shot to death watching tv can't remember death sentence court tattoo f rated title spoken by character bible dead man jury southern u.s. abe death penalty stabbed to death unsociability crucifix empathy lethal injection pena de muerte book abduction coffin chaplain nun institutions uk gender in title poem prison farm bible based on true story letter penalty religion little girl reference to w. c. fields guilt legal trial prison road gang psalm socially deprived family politician legal paper laughter emotion! visit prayer hatred ari catholicism police car placard courtroom mercy petition mother daughter relationship knife self pity ethics stabbing catholic photograph knoll low life speeding vehicle drama tears bechdel test:pass oscar nominee: lead actor moral dilemma polygraph test roman catholic teenage girl plain clothes nun rapist corpse grief racism prison nurse armed guard father son relationship redemption social justice reference to ma barker baseball game texas death row forest prison guard cowardliness lake protestor intense crime governor doomed man reference to adolf hitler testimony movielens top pick oscar nominee: director clv blockbuster listening to radio usa teenage boy death document holy bible susan sarandon rewatch sean penn author:helen prejean sad bigot crime reenactment female nudity execution newspaper clipping liberal bus faith adapted from:book death row annemari graveyard court hearing white supremacy support group latex gloves playing checkers extreme cruelty telephone call classroom straitjacket rage and hate therapist nun audience candle loss lie detector"
        ],
        [
         "36",
         "37",
         "Across the Sea of Time (1995)",
         "Documentary IMAX",
         "IMAX 3-D BD-R Stereoscopic 3-D",
         "documentary imax imax 3-d bd-r stereoscopic 3-d"
        ],
        [
         "37",
         "38",
         "It Takes Two (1995)",
         "Children Comedy",
         "Andy Tennant orphan nostalgic cute twins/inter-related lives relationship sabotage fun switching places matchmaking identical twin heartwarming mary kate and ashley twins",
         "children comedy andy tennant orphan nostalgic cute twins/inter-related lives relationship sabotage fun switching places matchmaking identical twin heartwarming mary kate and ashley twins"
        ],
        [
         "38",
         "39",
         "Clueless (1995)",
         "Comedy Romance",
         "comedy standard romantic comedy seen 2021 sweet Netflix Finland suck and below Alicia Silverstone romantic comedy fun frivolous want to own queer high school california blonde NO_FA_GANES very funny! camp quick Highschool dumb teen Jane Austen romance Comedy  Need to Feel Good teen movie girlie movie quotable adaptation classic Amy Heckerling based on a book fashion Paul Rudd coming-of-age HOT actress beverly hills teenagers parody marijuana Emma Beverly Hills teen 90s funny California matchmaking woman lead good looking girls saw it ten times makeover campy Comedy Lighthearted chick flick Funny teenager Brittany Murphy coming of age Beautiful Woman valley girl Classic female director Romance best comedy Classic! updated classics commentary Satire multiple viewings silly drugs Jane Austen retelling radiohead light seen more than once very funny teen slang author:Jane Austen Stacey Dash adapted from:book inspired by Jane Austen 1990s vomiting Donald Faison sunny",
         "comedy romance comedy standard romantic comedy seen 2021 sweet netflix finland suck and below alicia silverstone romantic comedy fun frivolous want to own queer high school california blonde no_fa_ganes very funny! camp quick highschool dumb teen jane austen romance comedy  need to feel good teen movie girlie movie quotable adaptation classic amy heckerling based on a book fashion paul rudd coming-of-age hot actress beverly hills teenagers parody marijuana emma beverly hills teen 90s funny california matchmaking woman lead good looking girls saw it ten times makeover campy comedy lighthearted chick flick funny teenager brittany murphy coming of age beautiful woman valley girl classic female director romance best comedy classic! updated classics commentary satire multiple viewings silly drugs jane austen retelling radiohead light seen more than once very funny teen slang author:jane austen stacey dash adapted from:book inspired by jane austen 1990s vomiting donald faison sunny"
        ],
        [
         "39",
         "40",
         "Cry, the Beloved Country (1995)",
         "Drama",
         "racism hulu South Africa Darrell Roodt Africa In Netflix queue south africa based on a book disk",
         "drama racism hulu south africa darrell roodt africa in netflix queue south africa based on a book disk"
        ],
        [
         "40",
         "41",
         "Richard III (1995)",
         "Drama War",
         "marriage murder based on a play scheme modern day adaptation 1930s england rifle betrayal based on play male nudity gas mask kissing while having sex breaking the fourth wall bare chested male king of england assassination showdown king ambition falling to death fascist power Richard Loncraine Robert Downey Jr aside man in a bathtub roman numeral in title last stand main character shot psychopath Maggie Smith great acting explosion side breast death sentence civil war london england corrupt protagonist pardon dead woman with eyes open gunfight kidnapping final showdown kiss battle british royal family Ian McKellen prime minister violence dead woman on bed king richard iii shakespeare's richard iii widow 2024 relook tank playwright:Shakespeare opening action scene dance updated classics treason fascism manipulation dead woman main character dies dog pistol shakespeare love interest DVD-RAM death of king war death of protagonist character name in title abuse of power CLV cripple female nudity villain played by lead actor number in title adapted from:play tragedy death of title character shootout Shakespeare fictional war sex in bed female rear nudity machine gun rise to power bare breasts shakespeare in modern dress",
         "drama war marriage murder based on a play scheme modern day adaptation 1930s england rifle betrayal based on play male nudity gas mask kissing while having sex breaking the fourth wall bare chested male king of england assassination showdown king ambition falling to death fascist power richard loncraine robert downey jr aside man in a bathtub roman numeral in title last stand main character shot psychopath maggie smith great acting explosion side breast death sentence civil war london england corrupt protagonist pardon dead woman with eyes open gunfight kidnapping final showdown kiss battle british royal family ian mckellen prime minister violence dead woman on bed king richard iii shakespeare's richard iii widow 2024 relook tank playwright:shakespeare opening action scene dance updated classics treason fascism manipulation dead woman main character dies dog pistol shakespeare love interest dvd-ram death of king war death of protagonist character name in title abuse of power clv cripple female nudity villain played by lead actor number in title adapted from:play tragedy death of title character shootout shakespeare fictional war sex in bed female rear nudity machine gun rise to power bare breasts shakespeare in modern dress"
        ],
        [
         "41",
         "42",
         "Dead Presidents (1995)",
         "Action Crime Drama",
         "Vietnam War redemption 1960s vietnam Chris Tucker war veteran money crime CLV armored truck african american Larenz Tate mercy killing veterans heist masks ptsd revolutinoary bank robbery medic loss of virginity Eric's Dvds",
         "action crime drama vietnam war redemption 1960s vietnam chris tucker war veteran money crime clv armored truck african american larenz tate mercy killing veterans heist masks ptsd revolutinoary bank robbery medic loss of virginity eric's dvds"
        ],
        [
         "42",
         "43",
         "Restoration (1995)",
         "Drama",
         "plague medicine based on a book England gloves physician jealousy dark comedy Nudity (Topless) CLV period piece London historical fountain spaniel british monarchy birth court wealth 17th century",
         "drama plague medicine based on a book england gloves physician jealousy dark comedy nudity (topless) clv period piece london historical fountain spaniel british monarchy birth court wealth 17th century"
        ],
        [
         "43",
         "44",
         "Mortal Kombat (1995)",
         "Action Adventure Fantasy",
         "fight scenes cheesy great casting didn't finish 2020 alternate dimension sorcerer fighter seen at the cinema set design Nostalgia Critic ridiculous characters videogame faithful to game awesome soundtrack campy ninjas violence bad acting hand to hand combat CLV fantasy No blood and gore over the top movie to see video game adaptation theme song ninja martial arts kung fu No Fatalities tournament good soundtrack sunglasses stylized bad graphics fatality action gore monster Paul W.S. Anderson based on video game over-the-top action cheesy ending island Christopher Lambert fighting BD-Video adapted from:game based on a video game fantasy action So bad it's good",
         "action adventure fantasy fight scenes cheesy great casting didn't finish 2020 alternate dimension sorcerer fighter seen at the cinema set design nostalgia critic ridiculous characters videogame faithful to game awesome soundtrack campy ninjas violence bad acting hand to hand combat clv fantasy no blood and gore over the top movie to see video game adaptation theme song ninja martial arts kung fu no fatalities tournament good soundtrack sunglasses stylized bad graphics fatality action gore monster paul w.s. anderson based on video game over-the-top action cheesy ending island christopher lambert fighting bd-video adapted from:game based on a video game fantasy action so bad it's good"
        ],
        [
         "44",
         "45",
         "To Die For (1995)",
         "Comedy Drama Thriller",
         "murder three word title satirical female sociopath 1990s literature on screen black comedy tv personality fellatio fantasizing scantily clad female journalism adultery revenge changing room feet on table Journalism sexual 100 Essential Female Performances teenage sexuality high school man masturbates upward mobility literature on screen R high school student masturbation fantasy Bibliothek murder plot Wayne Knight voyeur panties career ice skating TV woman wears underwear bare chested male image entertainment woman wears a bra lust winter student obsession daydreaming hairy chested man upskirt femme fatale seductive behavior ambition white panties character appears on tv title same as book erlend's DVDs sexual attraction dark comedy camera shot of feet male masturbation new hampshire sitting by a window broadcast masturbating in front of a tv roman a clef Nicole Kidman cheating wife watching tv older woman younger man relationship scene during end credits columbia tristar home video f rated male objectification miniskirt dancing barefoot teacher student relationship fame male star appears shirtless italian restaurant mockumentary weatherwoman prospect preferred narcissistic fatal attraction sexy woman unfaithfulness nonlinear timeline gay director narcissism 20th century literature on screen female lead cynicism pantyhose legs camera shot of bare feet video footage library violence talking to the camera redhead woman voyeurism self actualization infidelity sex in a bed true crime teenager dance scene Best Performance:  Nicole Kidman as Suzanne Stone Maretto mariticide motel ClearPlay family feud based on novel or book dark humor copulation satire teenage girl uninteresting seduction sex camera shot of a woman's bare feet based on novel boat ship man wears a tank top reference to maury povich crime of passion fake documentary television manipulation narcissistic personality disorder man masturbates in front of a tv sexual predator irreverence extramarital affair main character dies masturbation oral sex dog fantasy scene female objectification nylons daydream media circus sex with a minor school photo booth CLV erotic fantasy minidress fan teenage boy tunnel vision media fantasy sequence Joaquin Phoenix columbia tristar narcissist split screen panties hit the floor barefoot female swimming pool 1990s hitman anchorwoman woman wears panties villainess played by lead actress reference to connie chung coitus leg spreading teen angst telephone call narcissistic fantasy classroom blue panties purple bra sociopath female protagonist american literature on screen reference to jane pauley pantyhose",
         "comedy drama thriller murder three word title satirical female sociopath 1990s literature on screen black comedy tv personality fellatio fantasizing scantily clad female journalism adultery revenge changing room feet on table journalism sexual 100 essential female performances teenage sexuality high school man masturbates upward mobility literature on screen r high school student masturbation fantasy bibliothek murder plot wayne knight voyeur panties career ice skating tv woman wears underwear bare chested male image entertainment woman wears a bra lust winter student obsession daydreaming hairy chested man upskirt femme fatale seductive behavior ambition white panties character appears on tv title same as book erlend's dvds sexual attraction dark comedy camera shot of feet male masturbation new hampshire sitting by a window broadcast masturbating in front of a tv roman a clef nicole kidman cheating wife watching tv older woman younger man relationship scene during end credits columbia tristar home video f rated male objectification miniskirt dancing barefoot teacher student relationship fame male star appears shirtless italian restaurant mockumentary weatherwoman prospect preferred narcissistic fatal attraction sexy woman unfaithfulness nonlinear timeline gay director narcissism 20th century literature on screen female lead cynicism pantyhose legs camera shot of bare feet video footage library violence talking to the camera redhead woman voyeurism self actualization infidelity sex in a bed true crime teenager dance scene best performance:  nicole kidman as suzanne stone maretto mariticide motel clearplay family feud based on novel or book dark humor copulation satire teenage girl uninteresting seduction sex camera shot of a woman's bare feet based on novel boat ship man wears a tank top reference to maury povich crime of passion fake documentary television manipulation narcissistic personality disorder man masturbates in front of a tv sexual predator irreverence extramarital affair main character dies masturbation oral sex dog fantasy scene female objectification nylons daydream media circus sex with a minor school photo booth clv erotic fantasy minidress fan teenage boy tunnel vision media fantasy sequence joaquin phoenix columbia tristar narcissist split screen panties hit the floor barefoot female swimming pool 1990s hitman anchorwoman woman wears panties villainess played by lead actress reference to connie chung coitus leg spreading teen angst telephone call narcissistic fantasy classroom blue panties purple bra sociopath female protagonist american literature on screen reference to jane pauley pantyhose"
        ],
        [
         "45",
         "46",
         "How to Make an American Quilt (1995)",
         "Drama Romance",
         "marriage women extramarital affair wedding marriage proposal a chick flick based on a book married couple Nudity (Topless - Brief) CLV woman director family holiday Bibliothek wedding vows quilt advice love monogamy grandmother",
         "drama romance marriage women extramarital affair wedding marriage proposal a chick flick based on a book married couple nudity (topless - brief) clv woman director family holiday bibliothek wedding vows quilt advice love monogamy grandmother"
        ],
        [
         "46",
         "47",
         "Seven (a.k.a. Se7en) (1995)",
         "Mystery Thriller",
         "actually the ending was obvius emotional murder Atmospheric police procedural neo-noir alfred hitchcock serial killers Biblical police officer detective generally like the movie because of actors and crimes setting:library terrible ending Serial Killer creepy murderer gory BFI modern classic bad acting lust and impulsiveness serial murder credits menacing nihilism despair morgan freeman violent ending psychological thriller super interesting greed worst ever SERIAL KILLERS R Saturn Award (Best Writing) crying scary sin gorgeous cinematography religious David Fincher grim suffering Suspenseful evil man gloomy powerful ending psychological Psychology Creative immoderateness disgusting lust watched 1995 wrath Gwyneth Paltrow painful to watch MURDER INVESTIGATIONS police investigation Violent pride and vanity ominous evisceration rated-R good acting police twists & turns psychology erlend's DVDs bradpitt good plot thriller surprise ending very good metronome crying man captivating david fincher pathology HBO Max pointless policemen Christianity brad pitt Top 10 ever hopeless ending great acting predictable pride husband-wife relationship murder mystery favourite Disturbing  seven twist sexual assault sick Sins scary stuff denzil washington horror suspenseful In Netflix queue serial killer gore Horror  philosophical characters evil Psychological drama crime thriller stereotyped characters acting the morgan freeman leaving non-sense policial DVD-Video 2020 pension victim Owned Kevin Spacey biblical psychological drama stuffed into the fridge noir Bible s.w.a.t. mystery envy religion gluttony week violence graphic violence murder investigation atmospheric imdb top 250 Want anticlimax scope Spacey: Excellent....Pitt: Brilliant....Freeman: Wow. A wonderful movie. Must must watch capital sin investigation overrated ACAB boring plot gruesome ClearPlay Strong Third Act strange Tumey's To See Again great villain Dante DIVX drama Brad Pitt cruelty Thriller  genius horror Sloth BD-Video Detective very good thriller - Brad Pitt shocking Intense  want it corpse aÃ§Ã£o library vhs cynical twist ending seen at the cinema confusing self-fulfilling prophecy disturbing suitcase of light bleak crime religious fanatic 3.5 owned seven deadly sins numbers police detective great ending USA Grotesque spannend Ashley Judd death seen more than once drug dealer Tumey's DVDs sins rewatch plot Morgan Freeman insomnia books villain detectives thought-provoking Literature the best Crime Theater VHS thought provoking dark amazing!. obvious plot messed up not mystery favorite bad ending rage and hate policeman torment",
         "mystery thriller actually the ending was obvius emotional murder atmospheric police procedural neo-noir alfred hitchcock serial killers biblical police officer detective generally like the movie because of actors and crimes setting:library terrible ending serial killer creepy murderer gory bfi modern classic bad acting lust and impulsiveness serial murder credits menacing nihilism despair morgan freeman violent ending psychological thriller super interesting greed worst ever serial killers r saturn award (best writing) crying scary sin gorgeous cinematography religious david fincher grim suffering suspenseful evil man gloomy powerful ending psychological psychology creative immoderateness disgusting lust watched 1995 wrath gwyneth paltrow painful to watch murder investigations police investigation violent pride and vanity ominous evisceration rated-r good acting police twists & turns psychology erlend's dvds bradpitt good plot thriller surprise ending very good metronome crying man captivating david fincher pathology hbo max pointless policemen christianity brad pitt top 10 ever hopeless ending great acting predictable pride husband-wife relationship murder mystery favourite disturbing  seven twist sexual assault sick sins scary stuff denzil washington horror suspenseful in netflix queue serial killer gore horror  philosophical characters evil psychological drama crime thriller stereotyped characters acting the morgan freeman leaving non-sense policial dvd-video 2020 pension victim owned kevin spacey biblical psychological drama stuffed into the fridge noir bible s.w.a.t. mystery envy religion gluttony week violence graphic violence murder investigation atmospheric imdb top 250 want anticlimax scope spacey: excellent....pitt: brilliant....freeman: wow. a wonderful movie. must must watch capital sin investigation overrated acab boring plot gruesome clearplay strong third act strange tumey's to see again great villain dante divx drama brad pitt cruelty thriller  genius horror sloth bd-video detective very good thriller - brad pitt shocking intense  want it corpse aã§ã£o library vhs cynical twist ending seen at the cinema confusing self-fulfilling prophecy disturbing suitcase of light bleak crime religious fanatic 3.5 owned seven deadly sins numbers police detective great ending usa grotesque spannend ashley judd death seen more than once drug dealer tumey's dvds sins rewatch plot morgan freeman insomnia books villain detectives thought-provoking literature the best crime theater vhs thought provoking dark amazing!. obvious plot messed up not mystery favorite bad ending rage and hate policeman torment"
        ],
        [
         "47",
         "48",
         "Pocahontas (1995)",
         "Animation Children Drama Musical Romance",
         "Cartoon racism Super 1.85 Blow-Up shamanism stereotypes Native Americans musical Not according to the truth based on myths or folklore DVD-Video 1600s indians vs. settlers forbidden love classic jamestown virginia David Ogden Stiers settler Ø§Ø­Ø³Ø§Ø³Ø§ØªÙŠ Disney 90s kid pug dog Irene Bedard romance historically inaccurate indians 17th century nostalgic Judy Kuhn colony Disney Renaissance itaege dialogue 2023 relook Related:Pocahontas (1995) Mel Gibson Russell Means Oscar (Best Music - Original Song) adventure gold rush indian chief Animation  story animation John Kassir Oscar Katottava virginia cross cultural relationship love story animal sidekick NO_FA_GANES sidekicks for the sidekicks Mike Gabriel Skinny Pocahontas talking animals culture clash too short Oscar (Best Music - Original Score) Eric Goldberg princess series soundtrack get animate tree star crossed lovers strong female lead native american princess song land claim BD-Video 70mm musket Alan Menken powhatan interracial romance Disney animated feature",
         "animation children drama musical romance cartoon racism super 1.85 blow-up shamanism stereotypes native americans musical not according to the truth based on myths or folklore dvd-video 1600s indians vs. settlers forbidden love classic jamestown virginia david ogden stiers settler ø§ø­ø³ø§ø³ø§øªùš disney 90s kid pug dog irene bedard romance historically inaccurate indians 17th century nostalgic judy kuhn colony disney renaissance itaege dialogue 2023 relook related:pocahontas (1995) mel gibson russell means oscar (best music - original song) adventure gold rush indian chief animation  story animation john kassir oscar katottava virginia cross cultural relationship love story animal sidekick no_fa_ganes sidekicks for the sidekicks mike gabriel skinny pocahontas talking animals culture clash too short oscar (best music - original score) eric goldberg princess series soundtrack get animate tree star crossed lovers strong female lead native american princess song land claim bd-video 70mm musket alan menken powhatan interracial romance disney animated feature"
        ],
        [
         "48",
         "49",
         "When Night Is Falling (1995)",
         "Drama Romance",
         "lesbian director Nudity (Topless - Notable) own romance lgbt Religion nudity Patricia Rozema circus professor woman director nudity (topless) atmospheric female director visually appealing Gay lesbian",
         "drama romance lesbian director nudity (topless - notable) own romance lgbt religion nudity patricia rozema circus professor woman director nudity (topless) atmospheric female director visually appealing gay lesbian"
        ],
        [
         "49",
         "50",
         "Usual Suspects, The (1995)",
         "Crime Mystery Thriller",
         "K Good movie with deep quotes comedy predictable ending neo-noir solving riddles/puzzles wishlist modern classic Love it detective losers black humour caper movie bad acting mind blowing Netflix Finland brownface fun sda sensational atmosphere Dennis Farina rewatchable R lie Benicio del toro storytelling tricky manipulative behavior criminal whodunnit rape upside down detective thriller violence against children corruption kevin spacey is soze 3 cliff hanger ungripping NYC intellectual organized crime vintage Oscar (Best Supporting Actor) con men seedy classic suspense ensemble cast genre-defining Best of the 90's Chazz Palminteri R:violence rated-R law mindfuck twists & turns complex erlend's DVDs cinema club flash back ambiguous ending thriller surprise ending very good Oscar Winner want to see again mafia complot crime boss Keyser SÃ¶ze great acting Scams unique predictable must see more than once R:strong language unreliable narrators contrived ending twist complex and tense sexual assault Dark Kevin Pollak funny heist unreliable narrator elaborate great storytelling SA DEN KAISER SOSE keyser soze characters Bryan Singer smart writing Keser Soze caper Eric's Dvds evil own acting dvd Kevin Spacey Pete Postlethwaite mystery awesome Stephen Baldwin library violence anti-hero Benicio Del Toro imdb top 250 Want dialogue intelligent lies mentiras Los Angeles overrated interrogation cerebral crazy unexpected ending Oscar (Best Writing - Screenplay Written Directly for the Screen) engaging good dialogs Suzy Amis ClearPlay boring Web of Lies criminal mastermind keyser sose robo Christine Estabrook Edgar Award (Best Motion Picture) dull characters unnecessary bad language clever puzzle-like interrogation flashback Thriller  flashbacks matrix BD-Video plot twist Gabriel Byrne character driven short-term memory loss theft My movies fell asleep #thriling story within a story manipulation cheesy nonlinear storyline rewatch worthy Academy Award - Best Original Screenplay complicated plot twist ending watch-again relatives excellent script seen at the cinema commedy confusing Myth IMDB - 1001 Movies You Must See crime music no emotional investment owned CLV great ending Surprise psychothriller btaege must see hustle Christopher McQuarrie slow beginning complicated crime gone awry must be seen more than once slow Tumey's DVDs seen more than once Suspense neo noir good actors filim noir narrated meta sibling Too fast hungarian oscar (best original screenplay) Crime action unexpected dark soundtrack 1990s New York City spaceyal great cast conspiracy",
         "crime mystery thriller k good movie with deep quotes comedy predictable ending neo-noir solving riddles/puzzles wishlist modern classic love it detective losers black humour caper movie bad acting mind blowing netflix finland brownface fun sda sensational atmosphere dennis farina rewatchable r lie benicio del toro storytelling tricky manipulative behavior criminal whodunnit rape upside down detective thriller violence against children corruption kevin spacey is soze 3 cliff hanger ungripping nyc intellectual organized crime vintage oscar (best supporting actor) con men seedy classic suspense ensemble cast genre-defining best of the 90's chazz palminteri r:violence rated-r law mindfuck twists & turns complex erlend's dvds cinema club flash back ambiguous ending thriller surprise ending very good oscar winner want to see again mafia complot crime boss keyser sã¶ze great acting scams unique predictable must see more than once r:strong language unreliable narrators contrived ending twist complex and tense sexual assault dark kevin pollak funny heist unreliable narrator elaborate great storytelling sa den kaiser sose keyser soze characters bryan singer smart writing keser soze caper eric's dvds evil own acting dvd kevin spacey pete postlethwaite mystery awesome stephen baldwin library violence anti-hero benicio del toro imdb top 250 want dialogue intelligent lies mentiras los angeles overrated interrogation cerebral crazy unexpected ending oscar (best writing - screenplay written directly for the screen) engaging good dialogs suzy amis clearplay boring web of lies criminal mastermind keyser sose robo christine estabrook edgar award (best motion picture) dull characters unnecessary bad language clever puzzle-like interrogation flashback thriller  flashbacks matrix bd-video plot twist gabriel byrne character driven short-term memory loss theft my movies fell asleep #thriling story within a story manipulation cheesy nonlinear storyline rewatch worthy academy award - best original screenplay complicated plot twist ending watch-again relatives excellent script seen at the cinema commedy confusing myth imdb - 1001 movies you must see crime music no emotional investment owned clv great ending surprise psychothriller btaege must see hustle christopher mcquarrie slow beginning complicated crime gone awry must be seen more than once slow tumey's dvds seen more than once suspense neo noir good actors filim noir narrated meta sibling too fast hungarian oscar (best original screenplay) crime action unexpected dark soundtrack 1990s new york city spaceyal great cast conspiracy"
        ]
       ],
       "shape": {
        "columns": 5,
        "rows": 53452
       }
      },
      "text/html": [
       "<div>\n",
       "<style scoped>\n",
       "    .dataframe tbody tr th:only-of-type {\n",
       "        vertical-align: middle;\n",
       "    }\n",
       "\n",
       "    .dataframe tbody tr th {\n",
       "        vertical-align: top;\n",
       "    }\n",
       "\n",
       "    .dataframe thead th {\n",
       "        text-align: right;\n",
       "    }\n",
       "</style>\n",
       "<table border=\"1\" class=\"dataframe\">\n",
       "  <thead>\n",
       "    <tr style=\"text-align: right;\">\n",
       "      <th></th>\n",
       "      <th>movieId</th>\n",
       "      <th>title</th>\n",
       "      <th>genres</th>\n",
       "      <th>tag</th>\n",
       "      <th>tfidf</th>\n",
       "    </tr>\n",
       "  </thead>\n",
       "  <tbody>\n",
       "    <tr>\n",
       "      <th>0</th>\n",
       "      <td>1</td>\n",
       "      <td>Toy Story (1995)</td>\n",
       "      <td>Adventure Animation Children Comedy Fantasy</td>\n",
       "      <td>emotional Os dois viram loyal friend remote co...</td>\n",
       "      <td>adventure animation children comedy fantasy em...</td>\n",
       "    </tr>\n",
       "    <tr>\n",
       "      <th>1</th>\n",
       "      <td>2</td>\n",
       "      <td>Jumanji (1995)</td>\n",
       "      <td>Adventure Children Fantasy</td>\n",
       "      <td>pigtails plant discount store namesake dybbuk ...</td>\n",
       "      <td>adventure children fantasy pigtails plant disc...</td>\n",
       "    </tr>\n",
       "    <tr>\n",
       "      <th>2</th>\n",
       "      <td>3</td>\n",
       "      <td>Grumpier Old Men (1995)</td>\n",
       "      <td>Comedy Romance</td>\n",
       "      <td>Walter Matthau Minnesota old people that is ac...</td>\n",
       "      <td>comedy romance walter matthau minnesota old pe...</td>\n",
       "    </tr>\n",
       "    <tr>\n",
       "      <th>3</th>\n",
       "      <td>4</td>\n",
       "      <td>Waiting to Exhale (1995)</td>\n",
       "      <td>Comedy Drama Romance</td>\n",
       "      <td>girl movie slurs revenge based on novel or boo...</td>\n",
       "      <td>comedy drama romance girl movie slurs revenge ...</td>\n",
       "    </tr>\n",
       "    <tr>\n",
       "      <th>4</th>\n",
       "      <td>5</td>\n",
       "      <td>Father of the Bride Part II (1995)</td>\n",
       "      <td>Comedy</td>\n",
       "      <td>steve martin worst movies ever humorous weddin...</td>\n",
       "      <td>comedy steve martin worst movies ever humorous...</td>\n",
       "    </tr>\n",
       "    <tr>\n",
       "      <th>...</th>\n",
       "      <td>...</td>\n",
       "      <td>...</td>\n",
       "      <td>...</td>\n",
       "      <td>...</td>\n",
       "      <td>...</td>\n",
       "    </tr>\n",
       "    <tr>\n",
       "      <th>53447</th>\n",
       "      <td>288765</td>\n",
       "      <td>Bird Box Barcelona (2023)</td>\n",
       "      <td>Horror Thriller</td>\n",
       "      <td>tw suicide apocalypse bad science survival plo...</td>\n",
       "      <td>horror thriller tw suicide apocalypse bad scie...</td>\n",
       "    </tr>\n",
       "    <tr>\n",
       "      <th>53448</th>\n",
       "      <td>288779</td>\n",
       "      <td>Don Camillo: Monsignor (1961)</td>\n",
       "      <td>Comedy</td>\n",
       "      <td>Don Camillo Series</td>\n",
       "      <td>comedy don camillo series</td>\n",
       "    </tr>\n",
       "    <tr>\n",
       "      <th>53449</th>\n",
       "      <td>288849</td>\n",
       "      <td>Colaholic (2018)</td>\n",
       "      <td>(no genres listed)</td>\n",
       "      <td>short film animation addiction</td>\n",
       "      <td>(no genres listed) short film animation addiction</td>\n",
       "    </tr>\n",
       "    <tr>\n",
       "      <th>53450</th>\n",
       "      <td>288937</td>\n",
       "      <td>Blue Thermal (2022)</td>\n",
       "      <td>Animation Comedy Drama Romance</td>\n",
       "      <td>anime</td>\n",
       "      <td>animation comedy drama romance anime</td>\n",
       "    </tr>\n",
       "    <tr>\n",
       "      <th>53451</th>\n",
       "      <td>288955</td>\n",
       "      <td>Agata's Friends (2016)</td>\n",
       "      <td>Drama</td>\n",
       "      <td>catalan Costa brava flatmate slow paced univer...</td>\n",
       "      <td>drama catalan costa brava flatmate slow paced ...</td>\n",
       "    </tr>\n",
       "  </tbody>\n",
       "</table>\n",
       "<p>53452 rows × 5 columns</p>\n",
       "</div>"
      ],
      "text/plain": [
       "       movieId                               title  \\\n",
       "0            1                    Toy Story (1995)   \n",
       "1            2                      Jumanji (1995)   \n",
       "2            3             Grumpier Old Men (1995)   \n",
       "3            4            Waiting to Exhale (1995)   \n",
       "4            5  Father of the Bride Part II (1995)   \n",
       "...        ...                                 ...   \n",
       "53447   288765           Bird Box Barcelona (2023)   \n",
       "53448   288779       Don Camillo: Monsignor (1961)   \n",
       "53449   288849                    Colaholic (2018)   \n",
       "53450   288937                 Blue Thermal (2022)   \n",
       "53451   288955              Agata's Friends (2016)   \n",
       "\n",
       "                                            genres  \\\n",
       "0      Adventure Animation Children Comedy Fantasy   \n",
       "1                       Adventure Children Fantasy   \n",
       "2                                   Comedy Romance   \n",
       "3                             Comedy Drama Romance   \n",
       "4                                           Comedy   \n",
       "...                                            ...   \n",
       "53447                              Horror Thriller   \n",
       "53448                                       Comedy   \n",
       "53449                           (no genres listed)   \n",
       "53450               Animation Comedy Drama Romance   \n",
       "53451                                        Drama   \n",
       "\n",
       "                                                     tag  \\\n",
       "0      emotional Os dois viram loyal friend remote co...   \n",
       "1      pigtails plant discount store namesake dybbuk ...   \n",
       "2      Walter Matthau Minnesota old people that is ac...   \n",
       "3      girl movie slurs revenge based on novel or boo...   \n",
       "4      steve martin worst movies ever humorous weddin...   \n",
       "...                                                  ...   \n",
       "53447  tw suicide apocalypse bad science survival plo...   \n",
       "53448                                 Don Camillo Series   \n",
       "53449                     short film animation addiction   \n",
       "53450                                              anime   \n",
       "53451  catalan Costa brava flatmate slow paced univer...   \n",
       "\n",
       "                                                   tfidf  \n",
       "0      adventure animation children comedy fantasy em...  \n",
       "1      adventure children fantasy pigtails plant disc...  \n",
       "2      comedy romance walter matthau minnesota old pe...  \n",
       "3      comedy drama romance girl movie slurs revenge ...  \n",
       "4      comedy steve martin worst movies ever humorous...  \n",
       "...                                                  ...  \n",
       "53447  horror thriller tw suicide apocalypse bad scie...  \n",
       "53448                          comedy don camillo series  \n",
       "53449  (no genres listed) short film animation addiction  \n",
       "53450               animation comedy drama romance anime  \n",
       "53451  drama catalan costa brava flatmate slow paced ...  \n",
       "\n",
       "[53452 rows x 5 columns]"
      ]
     },
     "execution_count": 6,
     "metadata": {},
     "output_type": "execute_result"
    }
   ],
   "source": [
    "filtered_movies[\"tfidf\"] = filtered_movies[\"genres\"] + \" \" + filtered_movies[\"tag\"]\n",
    "filtered_movies[\"tfidf\"] = filtered_movies[\"tfidf\"].apply(lambda x: x.lower())\n",
    "filtered_movies\n",
    "# lägg till tmdb url här\n"
   ]
  },
  {
   "cell_type": "code",
   "execution_count": 7,
   "metadata": {},
   "outputs": [],
   "source": [
    "import unicodedata\n",
    "import re\n",
    "\n",
    "def clean_text(text):\n",
    "    # Normalisera till NFKD-form och filtrera bort icke-ASCII-tecken\n",
    "    text = unicodedata.normalize('NFKD', text).encode('ascii', 'ignore').decode()\n",
    "    \n",
    "    # Ta bort icke-bokstäver, siffror och mellanslag\n",
    "    text = re.sub(r'[^a-zA-Z0-9\\s]', '', text)\n",
    "    \n",
    "    # Ta bort extra mellanslag\n",
    "    text = re.sub(r'\\s+', ' ', text).strip()\n",
    "    \n",
    "    return text"
   ]
  },
  {
   "cell_type": "code",
   "execution_count": 8,
   "metadata": {},
   "outputs": [],
   "source": [
    "filtered_movies[\"tfidf\"] = filtered_movies[\"tfidf\"].apply(clean_text)\n",
    "filtered_movies = filtered_movies[[\"movieId\", \"title\", \"tfidf\"]]"
   ]
  },
  {
   "cell_type": "code",
   "execution_count": 9,
   "metadata": {},
   "outputs": [
    {
     "data": {
      "application/vnd.microsoft.datawrangler.viewer.v0+json": {
       "columns": [
        {
         "name": "index",
         "rawType": "int64",
         "type": "integer"
        },
        {
         "name": "movieId",
         "rawType": "int64",
         "type": "integer"
        },
        {
         "name": "title",
         "rawType": "object",
         "type": "string"
        },
        {
         "name": "tfidf",
         "rawType": "object",
         "type": "string"
        }
       ],
       "conversionMethod": "pd.DataFrame",
       "ref": "4ccc7c44-745a-486a-b103-198dd6a3ef50",
       "rows": [
        [
         "0",
         "1",
         "Toy Story (1995)",
         "adventure animation children comedy fantasy emotional os dois viram loyal friend remote controlled toy car match piggy bank double prize falling out a window cgi ss daring rescues game of life board game toy comes to life family film nostalgic tim allen fun child antagonist family cartoon falling from height anthropomorphism cowboy doll best of rotten tomatoes all time buy male villain disney rescue dachshund sunroof cowboy ramp voice acting false accusation fishing rod light hearted buzz lightyear character buddy movie toy story cowboy boot toy tea set unlikely friendships spaceman toy buddy reflection e a e animation want to see again biohazard sign claw crane funny animated fictional tv commercial scene during opening credits first of trilogy bedroom childs birthday party family dart mutant toy cgi animation envy ringing a doorbell hat bad guy touching story laughter woody character porcelain national film registry enemies become friends cg animation animmation joss whedon kids and family childish fireplace mr potato head low fantasy playskool soothing pterodactyl talking to a toy bdvideo suburb house yelling catchphrase crate dog encouragement antenna friend rejection action figure tough guy staircase turbo boost computer generated imagery jumping through a sunroof lovable characters karate comic hero bo peep character running calling someone an idiot toy dinosaur villain pixar pixar animation child villain accepting reality action famous song exciting plot toys radio controlled backfire digital comedy gratitude dental braces etch a sketch signature favoritism selflessness buzz lightyear brother sister relationship fantasy kids movie comeuppance poster talking toy globe anthropomorphic toy birthday present battery technological marvel new home unny ohio pet as gift thunderstorm 55 movies every kid should seeentertainment weekly utah teapot sliding down a banister computer animation comedy animation tom hanks car classic twister the game subjective camera 3d parachute shark arcade erlends dvds toyota little boy scheming tumeys vhs birthday party surprise ending time travel learning a lesson spacesuit neighbor engaging teamwork self awareness oscar special achievement scene before opening credits delivery new toy slow motion scene two word title locked in skateboard gliding pizza van title spoken by character pizzeria bull terrier wilhelm scream lots of heart national film registry asking directions 3 dimensional toy robot recliner chair surgical mask fear owned good animation lifting a female into the air jack in the box ad for toys jealousy violence depression squeeze toy x291livejohn lasseter toybox arcade game toolbox tumeys to see again tim allen fun family movie toyota truck tom hanks karate chop friends battleship game male protagonist mr potato head character card game forced puns sleeping dog redemption american animation mixed soundtrack first part clv cute itaege baby christmas fight flashlight hockey puck urban setting martial arts water bright audio flashback cartoon dog soundtrack loyalty 1990s directorial debut affection walkie talkie lipstick on face doorbell home first of series innovative remorse package christmas present commercial feelgood boy next door candy land the board game watched unlikely friendships face mask frustration toy animal rain shed woody blinds tyrannosaurus rex animated single mother dog as gift window arm mother son relationship storage shed ventilation shaft humorous falling from a window child bully resourcefulness rousing monsters looking out a window rocket famous line very good reference to mattel story telling someone to shut up bully comeuppance taa leoni does not star in this movie male antagonist pixar part of trilogy villian hurts toys doll reconnaissance mission mission reference to marie antoinette dvdvideo heroic mission wallpaper nesting egg cgi classic ratedg rag doll elementary school girl sheriff pet dog want 2009 reissue in stereoscopic 3d leggings troubled production neighborhood time lapse photography fanciful family relationships baby monitor confrontation great movie childs birthday characters point of view camera shot cartoon escape attempt troll doll banister original story oscar best picture binoculars so funny blockbuster chrysler automobile mockery corkboard escape plastic army men light adventure shepherdess beautiful surrounded boy soldier children desk 3d famous score whimsica magnifying glass toy dog childs bedroom moving pull string doll meeting animated dog fistfight burn child destroys own toy shivering view through binoculars bouncy ball visual pun scifi microphone backyard rival operation game gas station brawl thunder toys come to life httpsmovielensorgtaganimation kids rainy day watchlist fast and a furious ballet flats moving van sunlight almost favorite dinosaur space explorer cartoon showdown astronaut very nice pliers birthday heartfelt medical mask chased by a dog lifting someone into the air dolls hasbro bullying dartboard internal logic fails chrysler lebaron convertible animation friendship space ranger christmas day cgi cult film clock explosion jumping from height interesting disney animated feature good cartoon chindren push button first cgi film unusual friendship children cartoon seatbelt little girl ya boy witty imdb top 250 van alien misunderstanding funny lines child destroys anothers toy clever warm slinky dog talking in ones sleep john lasseter mattel brat toy story doubt gift rescue mission torture guilty conscience good time magic 8 ball the boys avi cult favorite heros journey disney love interest toy soldier toy fire truck car crash mouth usa bed toys played flying threat chasing a truck television commercial apology weightlifting favorite hero action figures rivalry product placement dead battery"
        ],
        [
         "1",
         "2",
         "Jumanji (1995)",
         "adventure children fantasy pigtails plant discount store namesake dybbuk box childhood reference to wilt chamberlain kirsten dunst disappearance car through wall handcuffs underwater scene investment banker trapped in a game brochure 1860s multiple versions of the same character conveyor belt new hampshire stampede footwear predator prey fantasy night rampage suitcase driving a car into a building pelican family jungle adventure quicksand reference to libra the constellation elephant male police officer perilous escape real estate agent chris van allsburg psychotronic film earthquake heartwarming chest homeless person serial escalation person thought dead is alive christmas presents see alsozathura bicycle chase childish coming of age fireplace boring tire drumbeat screenplay adapted by author aunt niece relationship timeline change bullet time father son relationship bearded man based on young adult novel bum robin williams bad cgi revolver children poison ivy long haired female mutation courage reference to tarzan shoes 4k joe johnston shared universe boarding school new england older version of character childhood recaptured arachnid christmas party lace comedy beach board vehicle based on childrens book brother sister relationship nighttime fantasy animal driving a car black eye small town child turning into animal jumanji predator scary excavation new home rainforest loss of parents rolling dice cult classic animal attack looting animal killing 1960s abandoned factory car classic axe blunderbuss leaf based on a book quadruped 20th century long haired woman time travel surprise ending adaptation of book fainting held at gunpoint psychiatrist saturn award best special effects handgun orchestral music score shotgun motorcycle impersonating a police officer friends who live together police vehicle columbia tristar home video wooden chest title spoken by character for children transported back in time human hunting a human squatter factory herds of cgi animals overalls violence subtitled scene prologue reference to a zodiac sign first love attic fib police car refrigerator mansion hit by a car canoe cgi effect stealing a bicycle male protagonist based on novel looking through a keyhole animals supernatural fantasy forest spider attack river first part filmed in bc feline grounded clv itaege blonde woman alternate timeline christmas fight turning into a monkey no opening credits magic board game bug aunt nephew relationship adapted frombook cracked windshield 1990s nervous breakdown shoe factory hunter reference to ringling brothers handcuffed monsoon first of series time snob police officer magic pregnant woman partner woodland dice blonde child reference to a horoscope rifle reptile male hunter vine rain hiding in a closet board game breaking the fourth wall baker viu firearm rhinoceros cemetery tail mother son relationship child bully surrealism not for kids police monkey arrest carnivorous plant old photograph missing child fiction big game hunter tween girl santa claus costume artifact of doom danger animatronic library girl car crashes into a store family name flood trombone child in jeopardy title directed by man bloody lip poison hacksaw construction site time lapse photography saturn award best supporting actress chaos crocodile fictional board game hostage situation paint can live action and animation law enforcement officer recluse wisecrack humor 19th century sneaker vines blockbuster nemesis adventure columbia tristar boy title directed by male game lebbat franchise children long haired girl actor playing multiple roles moving fish out of water vandalism orphan wood driving without a license adventurer plant attack game piece title written by male car accident motorcycle police officer beat up predatory reptile rainy day watchlist kids laundry detergent human becoming an animal car theft sniper rifle dynamic cgi action return to the past saying thank you giant insect endless screaming blunder businessman the game come to life mosquito spider lion explorer presumed dead weapon lifting someone into the air title same as book confession lush wonder bread insect attack part computer animation horrifying but not horror genre thrill critter statue friendship bat cutting ones own hair cgi cult film brown haired boy family legacy mustached man illegal gun sale gun bridge playing a board game improvised weapon kid flick little girl reference to the twilight zone heavy rain reference to clue the board game vortex altering history realtor jungle man mother daughter relationship sidearm everything trying to kill you cgi animal rich family crawler competition one word title supernatural power gun store motor vehicle car crash animal driving a vehicle view through rifle scope bicycle fortune teller carnivore exterminator vegetation sporting goods store cutting face while shaving apology zebra convertible jungle"
        ],
        [
         "2",
         "3",
         "Grumpier Old Men (1995)",
         "comedy romance walter matthau minnesota old people that is actually funny comedy ann margaret wedding fishing sophia loren grun running daryl hannah jack lemmon clv old comedinha de velhinhos engraaaada duringcreditsstinger good soundtrack sequel fever nofaganes comedinha de velhinhos engraaada best friend old men howard deutch midwest old man sequel funny burgess meredith funniest movies moldy old age"
        ],
        [
         "3",
         "4",
         "Waiting to Exhale (1995)",
         "comedy drama romance girl movie slurs revenge based on novel or book divorce clv single mother characters chick flick interracial relationship"
        ],
        [
         "4",
         "5",
         "Father of the Bride Part II (1995)",
         "comedy steve martin worst movies ever humorous wedding daughter seen 2021 midlife crisis steve martin sentimental it thought it was funny but it wasnt touching narration parent child relationship remake confidence diane keaton father child relationship clv heartwarming comedy growing old seen more than once baby fourth wall 4th wall watched under duress sequel fever aging contraception regret sequel fantasy father gynecologist pregnancy childhood classics family"
        ],
        [
         "5",
         "6",
         "Heat (1995)",
         "action crime thriller settingla murder neonoir slow paced los angeles visceral detective excon real life adultery suicide betrayal rob violent r slick ending lame in the nucleus jon voight bibliothek music who cares dvds guns complex characters strong bad man thieves bank robbery gang robert de niro hd mkv obsession relationships mary kircher bank job lame reflection tragic end suspense ensemble cast rviolence police erlends dvds heists robert de niro realistic action michael mann loner violence captivating somber top 10 ever great acting al pacino bank heist recommendz top pick cult film cat and mouse one last heist captivating heist cant remember understated mine viviane vives al and robert need to own long bank heist gunfight too long hollywoodization action battle of wits violence heist atmospheric imdb top 250 witty want dialogue heist movie professionals los angeles overrated dumbed down clearplay val kilmer realistic boring al criminal mastermind amazing cast authentic gunfights thief al pacino cliched netflix queue teenage girl rlanguage synthesizer soundtrack bluray honor al pacino vs robert de niro tough guy cinematic 1 philosophy career criminal crime bleak malefemale relationship one last job tense electronic soundtrack owned seen 2011 clv btaege 75filmaffinity ashley judd realistic tumeys dvds robbery chase natalie portman individualism authenticity crime action bechdel testfail seen 2010 soundtrack third act problems crime epic cars es un poc de lo de sempre great soundtrack vontatott"
        ],
        [
         "6",
         "7",
         "Sabrina (1995)",
         "comedy romance fantasy romance based on a play comedy solarium character name as title fashion assistant interrupted kiss marriage proposal helicopter ride midlife crisis romantique breakout new york city ugly duckling vogue magazine bentley motor vehicle unfaithful fiance marthas vineyard voice over narration based on play unrequited love finding yourself long island new york nofaganes paris paris jet plane marriage engagement love transformation businessman automobile american abroad upstairsdownstairs romance cinderella story womanizer mother son relationship relationships dinner date nancy marchand workaholic fairy tale confession remake family estate drama party family business surprise ending passionate kiss business merger love story remakeofsabrina1954 sibling relationship photographer slow dancing fusion business deal british car forbidden love tycoon makeover flat screen television bentley the car kiss ends with a kiss sophistication playboy reference to bill bojangles robinson remadeassabrina1995 chick flick fiance fiancee relationship love triangle coming of age chauffeur offering a bribe family relationships brother brother relationship oceanside home bicycle tour romance harrison ford color remake of black and white film return home father son relationship french boyfriend redemption millionaire living above a garage long island dog sexuality as good maybe better than original park avenue manhattan new york city greg kinnear concorde paris clv infatuation paris france julia ormand cleavage brother punches brother mistaken identity sitting on glass picnic on the beach long island new york julia ormond elopement man sedated telephone call paris france falling in love great cast female protagonist attempted seduction"
        ],
        [
         "7",
         "8",
         "Tom and Huck (1995)",
         "adventure children teenage hero murder three word title rescue from drowning nicknames as title cave in forenames as title wilderness based on book nostalgic sleeping rough bath sneeze apple cutting ones finger jail witness to a murder young love rifle brawl cabin chores sneaking out sword fight falling from height near drowning ends with freeze frame engagement small town widow douglas character painting a fence funeral slimehouse knife in the back barefoot boy jumping through a window criminal injun joe character character names in title childs point of view mud evil man mark twain bare chested male bare chested teenage boy single mother pipe smoking teenager fighting adult spider showdown witness false accusation slice of life teacher knife throwing doctor child falling to death huckleberry finn character knocked unconscious suspense based on a book two against one echo jar first kiss judge buried treasure flintlock rifle jail cell brunette surprise ending marble knife fight map friendship male female relationship child sneaks out of house pushed off a bridge cult film covered in mud authormark twain mississippi river child protagonist native american bible beating knife in back stabbed to death child fighting adult sword tween girl prospect preferred child hero cigar smoking lying under oath timeframe 19th century coffin bridge cowboy hat character names as title camera shot of bare feet kiss girl grave robbing sheriff violence torn shirt alcoholic missouri climbing out a window campfire child in jeopardy disarming someone murder trial swearing an oath trapped in a cave flintlock pistol looking at oneself in a mirror courtroom knife flying kick raft runaway barefoot canoe falling into a hole treasure chest freeze frame tom sawyer character death threat alabama based on novel or book brother brother relationship aunt polly character opening action scene fishing hook shouting male friendship boyfriend girlfriend relationship based on novel finger cut lost treasure treasure map peter hewitt outlaw framed for murder one room schoolhouse accused of murder fear of ghosts disney rural setting tough guy river duel trial 19th century chest of gold coins character name in title school testimony punched in the face shaking hands fat man death on the run undertaker climbing a tree long brown hair blood oath knifeman boy nightmare abandoned house child smoking aunt nephew relationship adapted frombook mirror graveyard newspaper headline shoe barefoot male becky thatcher character hero lantern classroom drunkard skeleton good versus evil library system musket candle cave fistfight eyepatch"
        ],
        [
         "8",
         "9",
         "Sudden Death (1995)",
         "action fireman murder attempted murder uzi panic sole black character dies cliche double cross black comedy brother sister relationship car bomb scream kitchen timeframe 1990s hostage betrayal oldsmobile motor vehicle falling from height stabbed in the throat comic relief chef us car flash forward ex husband ex wife relationship vice president rescue exploding car homemade weapon bodyguard evil man us vice president automobile assassination race against time rooftop showdown die hard scenario mother son relationship car masked killer terrorist plot blood burned alive suspense one against many oldsmobile cutlass supreme assassination attempt strangled to death strangulation father daughter relationship independent film silencer surprise ending cia central intelligence agency mercilessness held at gunpoint man on fire warrior bone as weapon explosive cult film bomb ice rink brutality ransom two word title explosion pittsburgh penguins cant remember title spoken by character mission gore murderess hostile takeover female assassin villainess body lands on a car evacuation fear machismo deception danger gunfight improvisation final showdown kidnapping bravery jeanclaude van damme action girl psychotronic film hand to hand combat violence peter hyams prologue politician rooftop fight one man army terrorism time bomb exploding helicopter locker room child in jeopardy disarming someone hero kills a woman rocket launcher chicago blackhawks paranoia fbi federal bureau of investigation anti hero mother daughter relationship knife ice hockey one day timespan henchman helicopter hockey popcorn pittsburgh pennsylvania ambush karate chop opening action scene shot in the forehead stadium rescue mission unlikely hero torture rogue agent shot in the heart father son relationship fbi agent helicopter crash assassin glock mayor action hero pistol survival director also cinematographer m 16 man murders a woman tough guy wisecrack humor near death experience pittsburgh pennsylvania demolition karate terrorist clv semiautomatic pistol jeanclaude van damme escape universal death in title star spangled banner death fight blood splatter martial arts boy security guard villain mascot costume male rear nudity shootout action courage 1990s bazooka hero heroism good versus evil conspiracy oldsmobile fistfight"
        ],
        [
         "9",
         "10",
         "GoldenEye (1995)",
         "action adventure thriller gadget car post soviet russia casino owners special car high tech slide locked back gun duel falling from height german actor playing foreigner m character laser cutter sean bean dies evil man computer games bond vodka martini die hard scenario ridiculous blood computer hacker fighter jet james bond britain gangster bobola returning character with different actor head butt funny mercenary gun battle london england computer cracker female assassin player villainess mixed caps in title good man leg scissors cuba killer as protagonist airplane bdvideo grenade bullet time its an ok movie if you like james bound mexican standoff year 1995 friend turned foe falsely accused intelligence agent shot in the foot tough guy st petersburg russia unsubtitled foreign language karate shot in the back terrorist russian mafia red ferrari tumeys dvds bathroom evil woman gadgets judi dench villain action james bond trap satellite machine gun gatling gun attempted rape beach vehicle shaken not stirred general casino card game pierce brosnan james bond character kgb stealth helicopter car chase mi6 year 1986 saint petersburg russia woman rapes a man organized crime i wanted the bad guy to win sean bean outbonds bond russophobia russian army car casino gadget watch classic spy spy mission memorable lines intelligence airport silencer female killer thriller held at gunpoint motorcycle slow motion scene dominant woman gambling house title spoken by character bisexual woman color in title cranberry seventeenth part top secret missile man wears a tuxedo machismo lifting a female into the air secret service sadist violence hand to hand combat electro magnetic pulse subtitled scene terrorism flash freeze death internet british hero killing woman massacre female gunfighter opening action scene shot in the forehead boat card game official bond film best of the brosnon bonds explosions action hero former soviet union megalomaniac british intelligence riviera clv driving a tank izabella scorupco seen more than once siberia fight blood splatter martial arts train propaganda miss moneypenny character train wreck shootout dark research station casual sex trailer narrated by nick tate lesbian subtext spies good versus evil see you in hell ejection seat motorcycle stunt bungee jump plane crash partner innuendo museum snow rotorcraft russian broken electronic works secret base exploding car nuclear weapons elevator femdom memorable characters cemetery automobile cuba motor car laser gadgetry dominatrix secret intelligence service suffocation shot in the chest warrior secret service agent male rape shot to death woman with a gun russia intelligence agency spying seaplane colonel sean bean gunfight kidnapping tank chase scene bungee jumping wheelchair one man army time bomb military reverse footage lifting an adult into the air tank 007 spy turned terrorist assassin satellite dish attempted lesbian rape pistol computer computer virus mgm ua owned blockbuster vengeance exploding train escape btaege adventure emp bond execution soldier puerto rico pseudo rated franchise latin america fire spy camera fistfight murder chemical weapons revenge cossack ferrari hostage brawl car accident agent sauna espionage bungee jump stunt mixed martial arts kissing while having sex bill tanner character st petersburg russia baccarat major boothroyd character showdown reboot of series 007 series seen 2020 electromagnetic pulse 007 movies are bad femme fatale weapon terrorist plot lifting someone into the air church strangulation poetic justice sadism mgm ua home video evil plot disfigurement caribbean aston martin cult film explosion red army its a good movie but the end of 007 is always the same revolving door philandering gadget gun tattoo on butt exploding helicopter male soldier ak 47 bond girl good dialogue russia helicopter rough sex mtskaf russian general gambling casino rogue agent goldeneye sexuality official james bond series army one word title motor vehicle exploding tank exploding building death boys with toys chase famke janssen enemy secret agent oneliners part of the body in title loss of friend sequel secret identity train explosion cult figure british secret service conspiracy jungle"
        ],
        [
         "10",
         "11",
         "American President, The (1995)",
         "comedy drama romance gun control great performances implied sex annette bening reference to julius caesar playing pool political consultant reference to dwight d eisenhower 230306 reference to frank capra decent flick aaron sorkin clever dialogue senator bibliothek nofaganes presidential election reference to woodrow wilson news conference love flag burning seen press secretary reference to brutus dating state of the union address political humor cinderella story portrait of a president reference to cassius girlie movie single parent chief of staff reference to thomas jefferson new love drama bouquet morals the white house rob reiner widower lobbyist wildlife conservation florist columbia tristar home video election campaign dvd collection environmentalist presidential candidate speechwriter amazing kung fu reference to marie antoinette american president washington dc reference to james buchanen camp david us president diplomatic reception widower single woman relationship florist shop house of representatives politician reference to martin van buren trombone michael douglas us president reference to king louis xvi state dinner ethics usa president romance political candidate martin sheen cheesy great story cult favorite political campaign president single parents white house politics cute clv reference to the state of the union speech seen more than once christmas columbia tristar reference to arthur murray liberal environmental issues idealism white house oval office reference to franklin d roosevelt screenwriteraaron sorkin sister sister relationship great cast liberal propaganda woman wears only a mans shirt"
        ],
        [
         "11",
         "12",
         "Dracula: Dead and Loving It (1995)",
         "comedy horror garlic slipping on shit satirical superhuman strength gothic immortality vampire biting neck bite mark aversion to garlic colliding with chandelier order grasshopper theater intestines renfield character mental control slipping on stairs covered in blood organ character says i still got it borgo pass burnt by sunlight calling someone an asshole park shadow on a wall human versus vampire ships wheel falling from height reference to a demon undressing in front of a window vampire vampire slayer ball colon in title leslie nielsen lucy westenra character undead castle jumping through a window chandelier vampire hunter climbing through a window reference to an enema love vampire bite trance entering the closet vampire comedy vampirism dream sequence pallor chapel character says i dont care reference to demons spider lust vampire fangs dancing in front of a mirror human brain sanitarium blood burned alive doctor busty woman hypnosis nosferatu jonathan harker character dream bride incision mina murray character shapeshifting sailing ship father sees man groping his daughter shadow father daughter relationship man molested by woman hung upside down spiderweb professor vampires abandoned chapel bending a prison bar horror spoof redhead wig parody fainting smashing mirror caught in a spider web stabbed in the heart opera bat gypsy woman exposing her breasts horse and carriage calling someone a degenerate bdr character says poppycock killed by sunlight romania cult film reference to paris bitten by a vampire autopsy hospital colliding on glass window solicitor funny stepping on someone telekinesis calling someone darling dracula character repeats someone elses dialogue vampire horror dream scene london england woman wears a scarf written and directed by cast member enema renfield bat excrement van helsing bending steel bars drink thrown into someones face sexy woman guano couple dancing broken mirror coffin skull male vampire scarf seductive dance pretty woman breaking a glass window character says they had it coming face slap insect eating assistant downblouse grave psychotronic film human caught in spider web vampire bat horse carriage slapstick comedy perseverance farce dr jack seward character absurd comedy insane asylum paper cut intangibility shapeshifter killed by a vampire sexy female vampire blood on shirt brain coachman reference to whitby exploding body bending metal bar dance scene full moon super strength fangs fiance fiancee relationship bitten in the neck boring hypnotism barefoot female vampire wearing a scarf indoors vampire count satire ship spoof male protagonist stake through the heart asking for punishment finger cut corpse vampire lair maidservant no reflection in a mirror no reflection stepping in shit british abroad mountain pass fainting man breaking a mirror barefoot woman calling someone my dear falling down stairs slave character name in title cobweb calling someone a pervert vampire castle village voluptuous woman mel brooks death poked in the eye carfax abbey van helsing character dancing death of vampire mourning for the villain schooner blood splatter cross burned by a cross eating an insect vampire killed by sunlight asking to be punished hammer year 1893 reference to abraham van helsing count transylvania big breasts five word title hanging upside down loss of friend end credits roll call enslavement trying to get the last word insect seduction redheaded woman sunset"
        ],
        [
         "12",
         "13",
         "Balto (1995)",
         "adventure animation children glass rescue from drowning journey cold weather medicine howling cold chorus traditional animation furry outsider syringe bandana wilderness boulder footprint race title written by male finish line arctic wolf live action sequence polar bear sausage link timeframe 1990s footprint in the snow sick child goose snow hand drawn animation rock falling from height illness lie animal hero romantic rivalry slimehouse prejudice woods rescue drowning falling off a cliff feather plucking animated snowball narrator wrongfully accused bear attack strength animal protagonist race against time underwater scene stray dog 2d animation unconsciousness outcast taunting breaking through ice timeframe 1920s presumed dead doctor child frozen lake furnace bully knocked unconscious surrealism right hand man dog team animal that acts human piano telegraph operator marking a trail storm husky spiderweb husky dog snow goose ice cave 20th century iditarod surprise ending bear statue balto character ei muista loosely based on a true story animation dog movie pawprint animal name in title pet epidemic orchestral music score sled dogs first of series russian accent crawlspace avalanche poulterer cult film dog sled friends who live together action girl hospital vial talking animal year 1925 butcher classical music scene during opening credits 1920s antitoxin cleaver dog sled race james horner sled dog pneumonia self esteem broken bottle dog race coffin throwing a snowball sadness pets arrogance snowstorm based on true story part animated self identity crony shunned hat girl telegraph bone city park plaque biplane simon wells diphtheria wolves title written by female title directed by man going in circles alaska boiler room scent grandmother granddaughter relationship talking animals racing sidekick falling icicle white wolf dogsled serum disease lost in the woods airplane timeframe 20th century dogs ship male protagonist sort of boring boyfriend girlfriend relationship cliff boat morse code cheerleader dog racing year 1995 central park manhattan new york city icicle pop music reference to fyodor dostoyevsky lackey crate live action and animation dog wolf singer offscreen sense of smell love interest forest tree northern lights first part one word title part live action character name in title illumination swimming underwater itaege mockery dog sled team snow adventure ill child light sled threat wolf dog fight animal villain audio flashback train title directed by male memorial grizzly bear half blood children balladeer nome alaska half breed courage falling over a cliff 1990s actor playing multiple roles tenor sun heroism blizzard lantern reference to the jetsons hot dog hit with a snowball rivalry reference to the iditarod older version of character eating soap cave dogsledding race sneeze"
        ],
        [
         "13",
         "14",
         "Nixon (1995)",
         "drama marriage character name as title true story 1930s political corruption political consultant oliver stone psychedelic therapy billiards watergate black and white scene 1970s illness anthony hopkins presidential election interpreter cold war era disney american politics career corruption trust epic historical opinion vietnam war evil politician based on a true story political drama mother son relationship timeframe 1920s 1960s watergate scandal biography reference to frankenstein piano power timeframe 1930s tape recording drama history tumeys vhs memory fbi chief nixon resignation biographical nixon flashback political leader year 1972 wooohoo first lady hospital election campaign title spoken by character political conspiracy timeframe 1960s bedroom 1920s united states own surname as title washington dc long director cameo us history election based on true story woman wears eyeglasses alcoholic drink year 1973 politician richard nixon steak character based on real personrichard nixon cover up lincoln memorial us president historical figure paranoia fbi federal bureau of investigation republican party china cinematographerrobert richardson government biopic confrontation usa president brother brother relationship alcoholism controversy american history usa political candidate father son relationship quaker political campaign 5 president one word title politics clv drunk press conference usa husband wife relationship horse race based on real person president of the united states scam political cover up washington dc usa rise and fall courtship oval office united states of america man wears eyeglasses conspiracy reference to mohammad reza shah pahlavi watergate"
        ],
        [
         "14",
         "15",
         "Cutthroat Island (1995)",
         "action adventure romance scalp matthew modine humor bar shootout adventurer double cross timeframe 17th century slave auction tattoo on head female pirate bad acting action heroine pirate betrayal latin renny harlin sword fight frank langella kissing while having sex paramount better than i remembered showdown hook for a hand kicked in the groin british navy shipwreck mgm father daughter relationship monkey uncle niece relationship sword duel tattooed map brunette map assertive woman sea battle explosion island alcohol sensuality death of father sword 17th century geena davis exotic island heroine kiss battle violence exploding ship cannon barroom brawl tavern pirate ship strong female lead translator surgery ship 1660s pirates treasure map sexuality mgm ua timeframe 1660s love interest duel combat slave clv escape big budget treasure adventure treasure hunt chase rope swashbuckler adventure action dumb but funny pirate strong female character bar fight adventuress swashbuckler female protagonist"
        ],
        [
         "15",
         "16",
         "Casino (1995)",
         "crime drama great performances gangsterism alcohol abuse hit with a baseball bat casino manager adultery colt python cigarette holder tied up violent drunk wife jewelers loupe gangland crime voice over narration arab man epic drama las vegas mafia boss female escort nicholas pileggi pen as a weapon complex characters cowboy investment banker mob family tracking shot las vegas nevada vise blood hotel casino slot machine ensemble cast reference to detroit ball peen hammer mossberg 500 blueberry muffin cattle prod deniro police surveillance psychopath shot in the temple gangster crime boss italian american stabbed in the neck watch food store borderline personality disorder gangland murder killing suitcase american criminal colorful clothes cocaine evil wealthy man martin scorsese listening device handgun with silencer mobster old gangster pesci snorting cocaine sex scandal gangster nagging wife joe pesci chip gambling indulgent million dollars loan shark high production values cinematographerrobert richardson 20060407 fast paced gangland hit television host brother brother relationship bdvideo corpse garter cool muddled motivations jewish mobster smith amp wesson model 15 hit with a telephone tough guy glitter murder of brother shot in the back spaghetti punched in the face surveillance violent gangster jewelry tumeys dvds 1980s cult director american gangster narrated mob lawyer wise guy power struggle shocked with a cattle prod arab ultra slow motion playing golf swimming pool 4k great ensemble cast drug addiction wealth cigarette smoking black comedy fellatio old man beaten with a telephone observation strictness car bomb hammer as a weapon docudrama drama woman snorts cocaine colt revolver mob enforcer greed intoxication costa rica nofaganes gangster murders fellow gangster gamble person on fire insult m1911 pistol saw machine organized crime tied to a bed mob trial casino toxic masculinity baseball bat gangland stooge domestic violence based on a book muffin mormon sex scene masterpiece broken hand complex erlends dvds robert de niro hierarchy silencer illegal prostitution hit with a hammer american mobster ex prostitute held at gunpoint mafia death from heart attack anti semite death of brother predictable shotgun slow motion scene telephone gambling debt cheating wife timeframe 1980s title spoken by character memasas movies criminal gang kansas city erics dvds crushed hand need to own jewish gangster long homicide kansas city missouri brutal murder mob execution gangster film sadist criminal underworld produce market friend friend relationship traveling shot emotionally unstable woman violence depression mob violence the mob threatened with a circular saw electronic surveillance getting rid of somebody fbi federal bureau of investigation courtroom screenwriting mob hit excellent cast overdose lap dissolve noise complaint bookie circular saw sharon stone con man based on novel american mafia smith amp wesson model 10 oral sex oral sex in car gambling addict cosa nostra iris shot jewish american clv husband wife relationship dispute suspense blood splatter schoolboy sex in a car silenced gun on dvr soundtrack violent man golf course old man de niro in pink sex in bed united states of america mafioso title appears in writing joe pesci las vegas squeezing sandwich surveillance photograph uzi los angeles california chain smoking mafiosi private jet liquidation underworld james woods gangland execution stabbed in the throat senator 1970s heart attack period drama temper casino security shot and killed steel baseball bat exploding car corruption breaking a rule firearm reference to the elephant man ethnic slur poker cigarette mob hitman robert de niro jewels shot dead reference to al capone beaten up witness elimination dolly shot con artist depressed woman antisemitism card playing police cash shot in the chest burglary anti semitic sleazy man shot with a silenced gun crime lord corrupt politician nudity rear shot in the head smith amp wesson model 39 woman shot to death brutality nonfiction shot to death heist crime family browning hi power pistol girl stuck her tongue out silenced pistol beating maximalism italian food cowboy hat money laundering prostitute woman killed stabbed with a pen prostitution nudity topless brief blow job boss mob boss las vegas police department actor shares first name with character diamond theft pimp robert deniro mob chicago outfit control freak gangster crime pain vegas drunkenness character development gambler timeframe 1970s bluray crooked gambling desert capitalism safe deposit box key dutch angle crime syndicate glitzy card cheat jew hypocrisy jewellery heist bookmaker title spoken by narrator great ending gangsters broken finger rewatch plot ballpoint pen fbi surveillance in medias res fbi hammer vegas mob follow shot women as sexual objects hitman criminal organization historical drama crime empire skimming na dysku modern western car damage slurs storyline murder social club elimination woman performs fellatio crushed head political corruption suitcase full of money robert deniro based on book revenge reference to john barrymore las vegas casino stabbed with a pencil scorcese money lender betrayal boyhood friend casino employee key sadistic psychopath bibliothek crying criminal midwest fat mafioso contemporary western brute nevada desert cornfield beaten to death beaten with a baseball bat documentary like office nudity rear lifting someone into the air cannibalism man killed oral sex in a car golf player abusive mother anti semitic slur underboss depressing screenplay neo western man shot to death extreme violence cult film labor explosion hulu dead body in a car trunk mine gambling syndicate drug abuse wiretap bus stop illegal activities nudity criminal empire based on true story etaege killer short man year 1973 imdb top 250 mafia don head in a vise wife cheats on husband chicago mob dual narration true crime fbi investigation torturer female drug addict compulsive gambler marriage crisis baseball bat used as a weapon grocery store jewish lawyer helicopter blow job in a car labor union birds eye shot italian mafia alcoholism drug overdose gambling casino torture glorifying violence buried alive multiple narrators fbi agent one word title money flashy death by heart attack drunk stylish first person narration long movie death threat slow diamond heist hysterical wife female nudity mafia chicagoan neo noir divx1 fired from a job reference to ozzie and harriet italian gangster safe spitting in food walther pp year 1983 goon chicago illinois fran rise and fall year 1980 perfectionist crime epic goodfellas ii telephone call safe deposit box burglar"
        ],
        [
         "16",
         "17",
         "Sense and Sensibility (1995)",
         "drama romance opening a door emotional three word title parrot poverty oscar nominee best picture 1995 wedding disdain trials and tribulations marriage proposal 1810s kate winslet comedy of manners vicar alan rickman shakespearean quotation singing bgab lrc horse brother sister relationship country life regency period snobbery imogen stubbs netflix finland rich man poor woman melodrama rainstorm young girl death of stepfather not available acceptance treehouse resignation fast london illness bibliothek unrequited love 18th century period drama country estate oscar nominee best picture seen a while ago rescue emma thompson love sword fighting tomboy hugh laurie older man younger woman relationship jane austen classic literature cottage hugh grant upper class gripping romance east indies likeable characters classic blood doctor patriarchy based on a book tearjerker romance period pianoforte piano church english country dance title same as book parish period film prudence stable party regency england bowling costume drama bouquet social criticism britain period piece jane austen hugh grant handkerchief great screenplays horse and carriage bdr devon timeframe 1810s duty great adaptations tragic love hulu nothing happens suitor realistic characters f rated three sisters stepmother 1800s london england mine pregnancy monogram loss of fortune parcel own stepbrother stepsister relationship ill teenage girl very well adapted intimacy dvd long colonel psychological drama unconditional love letter empire fashion jealousy clssical romance servant depression heartwarming atmospheric secrecy intelligent military officer chick flick rural medical examination visit coin timeframe 1800s rural area historical british likeable love story love triangle mother daughter relationship boring decorum beautiful scenery widow svens to see list based on novel or book kite cousin cousin relationship devon england teenage girl brother brother relationship romance english horseback riding based on novel honor card game atlas death of husband father son relationship illegitimate child dark past british dog fall shakespeare rural setting lock of hair romanticism class differences damsel in distress reference to william shakespeare poetry 19th century money amazing acting heartbreak britain rich snob clv dinner arranged marriage literature inheritance bed husband wife relationship romantic second wife beautiful dancing baby sad drawing secret engagement authorjane austen bird adapted frombook true love story famous score shakespeare ang lee critical passion romance courtship gentle cinema seen 2012 favorite mother in law son in law relationship picnic sister sister relationship na dysku 4k loss of father secret marriage engagement ends with a wedding female protagonist candle sincerity"
        ],
        [
         "17",
         "18",
         "Four Rooms (1995)",
         "comedy murder goddess comedy neo screwball comedy los angeles cult movie cast cigarette smoking omnibus film blasphemous nudity topless multiple short stories in one black comedy salma hayek magic syringe brother sister relationship witches jennifer beals sperm b movie hostage implied fellatio anthology film collective filmmaking portmanteau film actor director lingerie slip precocious child alexandre rockwell witch feet party hat los angeles california barefoot boy title directed by female rodriguez disney elevator trance gagged woman combustible edison music interracial relationship collection of short films weapon bellhop non statutory female on male rape surrealism robert rodriguez bet dark comedy dead body independent film woman director drama witchcraft tumeys vhs incest overtone role play gangster movie producer cult film hoodlum scene during end credits anthology night f rated thriller own movie star foul language new year coven spell wraparound story awesome soundtrack witches coven child smoking cigarette filmmaking duct tape antonio banderas nudity topless tarantino slapstick comedy comedy champagne quentin tarantino animated opening credits madonna retro multiple storylines mother daughter relationship hypnotism hanging out a window reference to peter lorre fast paced gross tied to a chair cartoon on tv allison anders satire champagne bottle sex corpse bondage omnibus animated title sequence drunken telephone call female friendship tarantino toe sucking supernatural power pasties revolver 4 severed finger tim roth hotel bruce willis hotel room bathroom female nudity new years eve mistaken identity number in title dead prostitute incest vomiting fire meat cleaver directed by several directors zippo lighter"
        ],
        [
         "18",
         "19",
         "Ace Ventura: When Nature Calls (1995)",
         "comedy searching for a culprit naked man premature birth detective reference to lone ranger monk horse equestrianism emotional breakdown sacred bat procyonids meditation buddhism chiroptera reference to a fly the insect black people interpreter rape simian hominidae searching for motive roaring forensics cebinae ace ventura character reference to tuna fish hysteria reference to jack and the beanstalk stewardess clerical celibacy character says war is hell mountaintop monastery reference to a rat spring second part stripped naked africa man spits on another mans face common raven crashing a car into a tree medallion reference to satan procyonidae waterfall mephitidae white bat celibacy fertilizer exploitation dart elephant testicle toy nibia monastery africa slapstick comedy african dance medicine man reference to pierre gustave toutant beauregard crazy china reference to a cat devil not my kind of comedy buddha statue tribe raped by a gorilla consulate eastern gorilla airplane calling someone a devil spit pain threshold primate yelling money making scheme poisonous dart oath of celibacy unsubtitled foreign language life is sacred gorilla beringei graueri whip goofy mucus reference to silver the horse character says no plate reference to tarzan deadline raw meat comedy african princess biting hand gotan indigenous albizia tree simple panthera leo dead animal engagement naked alibi broken man princess cult classic haplorhini giving birth one of the worst movies of all time american abroad flim flam comedy dowry reference to weasel workaholic rhino action d talking in sleep spear subjective camera deadly fall holy man mountain climber steve oedekerk reference to rabies reference to marcus antonius tibet procyonid reference to sweeney todd surprise ending calling someone a loser motive hominid monkey actor wachati princess eccentric man woman exposing her breasts gorilla reference to canada slow motion scene spit in the face bare shoulders raven anti fur activist talking through ones buttocks male objectification raped by an animal private detective wacky comedy pregnancy astral projection bestiality grauers gorilla chinese monastery kidnapped animal fur land rover calling someone a sissy gross out comedy reference to a mongoose oathbreaker bonai province man steps on a mans crotch over the top screaming in pain frandone african village musteloidea sunglasses obscenity apologetic attacker buddhist monk fingerprint sacred ground character says dont look down reference to william shakespeare stupidity african hominids village hawaiian shirt reference to rich uncle pennybags reference to monopoly the game reference to hasbro character says i am alive nigeria very funny sacred animal primates five word title hilarious life partner stupid as hell mistaken for giving birth bloody face raccoon cave mistranslation chiroptophobia hominids blood in face character says lets go kick butt african apes character says go to hell nocturnal mammal pregnant reference to a hound dog white devil as epithet touch eye reference to bumblebee reference to a moose virgin stupid birth zoophilia human animal relationship anti fur reference to shish kebab slinky tail raped by a female gorilla disguise falling to death mimosa tree trophy collection waving goodbye monkey vow of celibacy shaman character warns man that his testicles are visible can can gorillini simon callow great ape spying fake accent monasticism suspect kidnapping lost the will to live asia reference to bingo monocle ace ventura medal chief full moon dirty cop troubled production time lapse photography chief of security childhood fav interracial romance tooth decay crop buried in sand fictional country raped by animal reference to yak reference to gotan black market nocturnal animal character name in title virgin woman blockbuster corvus corax mating season dancing trophy hunter car crashing into a tree capuchin monkey mimosa dark bat homininae dumb selfishness threatened with a knife corvus haplorhines mistaken for being a stripper character says i will kill you buddhist monastery procyon lotor skunk implied nudity crude humor simon says procyon light bat monster truck woman flashing breasts mistaken for a stripper grossout slimehouse gingivitis gorilla beringei reference to the shawshank redemption going over a waterfall eating raw meat childbirth arctoidea albizia julibrissin lion bad taste poison dart lifting someone into the air anthropoid master of disguise human skull reference to marc anthony reference to a rhinoceros hehehe reference to lynn aloysius belvedere masterbation reference to mary poppins pet detective bat reference to north africa chess jim carrey cebidae sexy princess animal lover reference to jesus christ reference to aboriginal australians laughing at someone marriage of state shield bowl loss of virginity noon eastern lowland gorilla dusting for fingerprints scrotifera nudity guano firewalking reference to australia skull simiformes tibet awesome character says i dare you urine stain consul platyrrhini laughing at someones pain silverback character says i am a princess bonai selfish himalayas helicopter imitating an animal reference to mr belvedere aura onlibrary sex with an animal cult favorite hut masturbation raped man motivation cat biting attacker princess commoner love man raped arranged marriage riding crop caught masturbating tibetan monastery reference to mister belvadere character asks how would i know fictional african country horse whip reference to chicago new world monkey lowland gorilla ashram spring toy breaking an oath sequel childhood classic shrine temptation zebra silly fun mountain climbing curse jungle"
        ],
        [
         "19",
         "20",
         "Money Train (1995)",
         "action comedy crime drama thriller murder subway runaway train black comedy reference to ice cube new york city wristwatch banter barricade burning man attraction brawl comeuppance switchboard buddy cop racial slur caper crime spitting in someones face mixed martial arts transit cop rescue afternoon section thrown from a train boxing kissing while having sex person on fire f word punching bag urination bare chested male lust interracial relationship hit by a train stakeout lame new york subway sex scene police fight in a kitchen fight in a train compartment arrest female police officer psychopath held at gunpoint gangster friendship train robbery motorcycle sibling relationship gambling debt friendship between men shot to death interracial kiss pickpocket title spoken by character burn victim beating caper sibling rivalry bar pretending to be drunk manhattan new york city two man army wallet roundhouse kick decoy kiss female frontal nudity nudity topless brief jealousy hand to hand combat violence gambling hijacking a train riding a motorcycle down stairs ticket booth child in jeopardy loan shark train crash arsonist police badge horse drawn carriage pyromaniac anti hero worthwhile undercover kicked in the face lopez thief tough girl train tracks heist crime train station brother brother relationship opening action scene card game beer mexican standoff central park manhattan new york city argument subway station shooting out a window pushed in front of subway train action hero pistol arson tough guy love interest wisecrack humor money intense brooklyn bridge revolver clv semiautomatic pistol strip club punched in the face interracial sex dancing christmas false accusation of theft robbery chase repeated line new years eve martial arts joseph ruben fired from a job train train wreck male bonding shootout foot chase hispanic american bartender fire machine gun police shootout romantic rivalry fistfight"
        ],
        [
         "20",
         "21",
         "Get Shorty (1995)",
         "comedy crime thriller producer murder man punching a woman funny 8 track la satirical escobar satirehollywood insiders los angeles california restaurant sole black character dies cliche black comedy elmore leonard plane crash limousine revenge miami b movie hostage frame up mob enforcer barry sonnenfeld smoking california falling from height business heart attack rewatch insurance fraud quirky nofaganes insurance settlement hilarious f word reference to bette davis organized crime reference to david o selznick locker billboard las vegas nevada literary adaptation con artist drug lord ensemble cast based on a book hollywood hollywood california father daughter relationship dark comedy airport broken nose gene hackman birthday party film set surprise ending police surveillance contrived held at gunpoint mafia gangster movie producer hollywood watch cult film two word title getting old but still excellent john travolta funny title spoken by character about movie making crotch grab dolly zoom florida beating dumb criminal hare krishna miami florida mobster reference to john wayne movie business con hairdresser violence filmmaking rene russo stuntman short man neck brace reference to orson welles gambling debt loan shark selfreferential drug cartel surprise party authorelmore leonard mob mansion motel pushed down stairs stolen money suv travel mise en abyme parking garage based on novel or book travolta satire airplane breaking and entering confidence trick based on novel cool pushed off a balcony missing person female rocker actress hit with a telephone ponytail reference to dean martin sitting on a toilet money crime job one last job miami florida film within a film clv silly drugs gay slur usa forgetable actor faked death neo noir scam foqam crime reference to al pacino thug extortion debt collector movie set dea drug enforcement administration coat danny devito"
        ],
        [
         "21",
         "22",
         "Copycat (1995)",
         "crime drama horror mystery thriller reviewed detective psychologist suspense mystery police brutality cowardliness psychology claustrophobic over 45 police protection thriller trauma agoraphobia holly hunter je freeman detective thriller san francisco suspenseful strong female lead police operation hulu live serial killer sigourney weaver female protagonist"
        ],
        [
         "22",
         "23",
         "Assassins (1995)",
         "action crime thriller police chase cia mexican standoff wachowski brothers kill explosions double cross competition assassination contract killer cat strong cast antonio banderas clv silencer escape richard donner stunts divx1 sylvester stallone seattle detroit bank spain 25 mission of murder julianne moore shootout sniper rifle hidden camera action afternoon section rescue chess hitman seattle rivalry plot twist caribbean festival intense"
        ],
        [
         "23",
         "24",
         "Powder (1995)",
         "drama scifi poignant christ allegory tearjerking scifi victor salva bullying reflective hairless fantasy inane healing power jeff goldblum empathy teenage boy albino outcast teaches us all a cheesy lesson pale fainting held at gunpoint dead animal special powers earnest flickering light post apocalyptic elegiac coming of age shot to death extrasensory perception cant remember magnetism pretentious drama electricity jacobs ladder fantasy teacher student relationship psionic power controversial philosophy"
        ],
        [
         "24",
         "25",
         "Leaving Las Vegas (1995)",
         "drama romance drinking tragic bad casting los angeles nicolas cage alcohol abuse nudity topless intimate meaning of love suicide desperation nihilism bittersweet bibliothek las vegas nofaganes elegiac emptiness screenwriter rape melancholy love suffering self destruction unlikeable characters existential casino broken hearts richard lewis based on a book valeria golino unlikely friendship meaning of life misery suffering protagonist steven weber addiction interview depressing alcoholism alcoholism love is not enough 90s realistic characters understated alcohol prostitutes humanizing unsociability failure elisabeth emotion authorjohn obrien intimacy dvdvideo movie business prostitute library prostitution julian sands overacting nudity topless atmospheric depression implausible suicide overrated company clinical depression loneliness individual drunkenness selfdestruction broken heart drama pretentious kim adams favorites addict alcoholism poignant haunting dying and death melancholic emily procter owned human condition lovesickness love at first sight hotel room sad elizabeth shue true art is angst trope narrated adapted frombook mariska hargitay starcrossed lovers annemari dark elisabeth shue oscar best actor rage and hate mike figgis great soundtrack las vegas"
        ],
        [
         "25",
         "26",
         "Othello (1995)",
         "drama shakespearean great based on a play oliver parker jealousy wow nudity topless moor clv friends playwrightshakespeare adapted fromplay shakespeare shakespeare ei muista"
        ],
        [
         "26",
         "27",
         "Now and Then (1995)",
         "children drama a bit boring thora birch supernatural women seance gaby hoffman nostalgia female friendship demi moore nostalgic woman director truth or dare 1970s songs friendship rita wilson retro rosie odonnell coming of age soundtrack sisterhood photocopier bechdel testpass christina ricci 2024 relook janeane garofalo gynecologist brendan fraser great soundtrack melanie griffith"
        ],
        [
         "27",
         "28",
         "Persuasion (1995)",
         "drama romance acting library vhs best adaptation adaptation based on a book england etaege 19th century old flame ciaran hinds clv captain regency england bland romantic pams list amanda root slow period piece roger michell 18th century authorjane austen amanda root is fabulous in this screenwriternick dear settingengland bdr j netflix adapted frombook boring napoleonic wars romance admiral in netflix queue jane austen ciaran hinds classic literature fiona shaw"
        ],
        [
         "28",
         "29",
         "City of Lost Children, The (Cité des enfants perdus, La) (1995)",
         "adventure drama fantasy mystery scifi freaks surrealist scifi christmas creepy fantasy santa claus legenda ptbr childhood dominique pinon cyberpunk aging visually appealing rescue intricate hallucinatory whimsical deer dream clowny clones erlends dvds marc caro jeanpierre jeunet dystopian jeunet rich setting weird french weird soundtrack friendship dark fairytale strong characters not memorable steampunk cult film visual alternate reality deer shit mechanized island memasas movies clone characters philosophical dreamlike dark fantasy need to own symbolism surreal visually stunning dark fairy tale awkward romance kidnapping girl nudity topless atmospheric eye ron perlman abused children child actor dark fantasy creepy strange setting surreal dark nightmare fanciful abstract on computer dystopia weird fantasy bleak btaege creepy tweens dreams beautiful orphans weird twins circus stupid plot stylized children 25 dark skinut dwarf"
        ],
        [
         "29",
         "30",
         "Shanghai Triad (Yao a yao yao dao waipo qiao) (1995)",
         "crime drama shanghai diva mistress zhang yimou amazon prime servant mob shanghai yimou zhang uncle umbrella cabaret gong li"
        ],
        [
         "30",
         "31",
         "Dangerous Minds (1995)",
         "drama own ghetto teacher inspirational rap music seen at the cinema based on a book dead awesome amusement park john n smith education poetry erlends dvds crime karate nigga professor social commentary gangsters dangerous minds death high school touching hood bibliothek good soundtrack naval officer protagonist is a teacher emilio white savior stupid afternoon section douchebags drama highschool island kinda scary michelle pfeiffer teacher changing lives great soundtrack school drama"
        ],
        [
         "31",
         "32",
         "Twelve Monkeys (a.k.a. 12 Monkeys) (1995)",
         "mystery scifi thriller year 1917 recording paradox airport personnel based on short film solitary confinement mooning hearing voices female stockinged legs volunteer reference to woody woodpecker woods tooth rescue childs point of view 3 shooting absurd stairway cockroach spider web airport security checkpoint reviewed blood mental institution mental illness dream ratedr public nudity eating insect mindfuck bare butt wig dystopian city bus cassandra syndrom police surveillance imitating an ape animal in title feather flashback shot in the leg steampunk partial nudity prison cell watching tv biological weapon original miniskirt psychosis gun in airport saturn award best science fiction film solitary elephant voice mail madeleine stowe activist decontamination bad acting disembodied voice skid row psychotronic film department store kidnapping of father deja vu interesting underground overrated belittlement of mentally ill heterosexual bullet escaped mental patient auto theft boring tears desolation airplane speech white coat plot twist crying woman father son relationship psychiatric disorder fowards time travel smoking man dystopia complicated plot ponytail mindfuck movie bum revolver shot in the back can be hard to follow sci fi weird good film tiger running bruce willis complicated tumeys dvds subterranean santa claus suit time paradox graffiti number in title dormitory biological warfare fresno california fate nuevo tango gilliam historiograpghy and time travel animal rights activist mental breakdown fake moustache attempted rape sedative rabbit ear antenna predictable ending doomsday time machine thumbs up gesture seen 2021 black comedy time paradox flophouse self dentistry post apocalypse psychiatric care listening to music on a car radio different view male nudity environment florida keys talking to self reference to dr strangelove listening to car radio giraffe disappointing ambiguous philadelphia pennsylvania inmate pandemic bare chested male bondage tied to a bed peacock sanitarium steam abandoned theater axe classic listening to a car radio mine shaft reality or imagination jail cell airport stupid thriller time travel surprise ending long haired woman saturn award best supporting actor bear spacesuit tango music phony mustache psychiatrist brad pitt animal rights epidemic airport police reference to harry houdini slow motion scene real movie shown in fictional situation fire place woman wears a short skirt alternate reality hospital animal noises strong director elaborate title spoken by character recurring dream future noir depopulation memasas movies animal pardon escaped animal lethal virus asylum memory remains vending machine bumper sticker mental ward good as hell violence public transit atmospheric pulling tooth insane asylum male time traveller sciencefiction vivisection frandone paranoia imagination clearplay forced drug consumption chains lecture plot pointbiomedical danger homeless man metal detector activism street preacher brad pitt disease poor neighborhood man uses a wheelchair brilliant dystopic future not seen sanatorium remake of a french film secret based on short film time traveler dinner hawaiian shirt cassandra complex alternate timeline christmas cross hobo elevator malfunction black pantyhose scifi bald man sf jeffrey philadelphia pennsylvania grizzly bear dark trapped inside a pipe 1990s time traveller bruce willis schizophrenia germ alternate history musket orange ponytail book of revelations pursuit gurney after you watch it you spend hours thinkig about it jail montypythonrelated year 1996 psycho ward ending snow scifi dark cell phone r tv rabbit ears clearing in wood inaccurate depiction of mental illnesses lazy eye bruce willlis biblical quote elevator get annoying characters slow motion action scene biology hiding in a barn mri obsession brunette woman disguise remake of french film social misfits surrealism kick in face genetics psychology police remake monkey adapted from french end of the world male nudity rear dark comedy drama memory wearing sunglasses inside world war one postapocalyptic story presentation hit in the crotch madness adapted frominspired byshort film spray paint shot to death crotch grab man punches woman foreknowledge excellent terry gilliam bad breath trippy plague white telephone dvdvideo determinism man punches a woman nonlinear timeline postapocalyptic future prank kidnapping hotel reception listening to music on car radio undressing wheelchair year 1990 pimp trapped banquet deterministic street life drama deadly virus cartoon on tv backwards time travel agonizing science dutch angle tooth extraction zoo inaccurate depiction of mental health institution dark future twist ending haunted by the past tv news joseph melito falling down stairs dystopian future music country road medical research owned great ending adventure rewatch mistaken identity stockholm syndrome boy running through the woods obscene finger gesture short skirt drug use taxi practical effects cry wolf newspaper headline chris marker policeman therapist murder futuristmoviescom scifi tattoo on head eating spider trench warfare older version of self secret army heterosexuality cassandra syndrome key my favorite reviewers disliked this film thats when i started to trust them less time loop design nature of insanity woman wears a miniskirt time travel beaten to death black and white television spider endless loop shower lion future bad acting lab rabbit reference to cassandra party fugitive figment of imagination depressing laboratory movie theater prisoner watching a movie flashback within a flashback prison male female relationship leopard cult film nude pantyhose red eyes david webb peoples thumbs up sign virologist person in a car trunk police van taxi driver biological research great actors ecoterrorism bad guys win wanted poster dated technology virus nudity gun soothsayer sadness dvd mystery microbiologist battle baltimore maryland imdb top 250 altering history newspaper men over 45 reduced sentence nonsensical pay phone seedy motel animal welfare post apocalyptic drooling stream long barreled revolver genius clever scenario contamination suit philadelphia pillow feathers mental institution unrealistic amazing newspaper covered window british psychiatric hospital special seen at the cinema airport terminal reference to houdini science fiction lab animal cleavage death past christopher plummer reference to albert einstein chase neo noir insanity divx1 nightmare settingphiladelphia public restroom pelis1 male rear nudity barn telephone call car radio gas mask pantyhose"
        ],
        [
         "32",
         "33",
         "Wings of Courage (1995)",
         "adventure romance imax imax 3d stereoscopic 3d"
        ],
        [
         "33",
         "34",
         "Babe (1995)",
         "children drama own animal easily confused with other movies title food slice of life animals happy ending nostalgia oscar nominee best picture 1995 infantil seen 2022 afi 100 cheers villain nonexistent or not needed for good story farmhouse competition based on a book james cromwell sweet pig favorite environmental wholesome farmer meaty cute fantasy witty heartwarming animalpig thatll do pig clv chris noonan carnism adventure animal movie ending seen more than once death overrated hugo weaving overdub farm tale farming sheep biography on dvr talking animals children animals live action boring oscar nominee best picture specism barnyard animals based on a childrens book funny 55 movies every kid should seeentertainment weekly original dvd collection favorite rats way overrated dogs farm farm animals pigs family"
        ],
        [
         "34",
         "35",
         "Carrington (1995)",
         "drama romance bloomsbury group comparecarrington 1995 painter protagonist is writer entirely dialogue england homosexuality based on a book england character study intense independent film bisexual biopics protagonist is painter artist polyamory sad artists soldier world war i on dvr artist strong woman emma thompson comparebright star 2009 conscientious objector character driven"
        ],
        [
         "35",
         "36",
         "Dead Man Walking (1995)",
         "crime drama swastika murder tim robbins poverty legal rights reference to fidel castro police officer true story tv camera lightning strong fence microphone oscar nominee music original song burial singing gurney based on book deaf sentence defense lawyer charity social commentary despair rdepiction of a rape and murder rifle justice thunder smoking tied up r visitor solitary confinement catholic priest funeral woods crying gunshot adult diaper buy rape reference to james cagney american forgiveness murder of a nude woman lawyer scum selfdiscovery racist right and justice cemetery making out handcuffs inmate southern gospel witness siren news report search party seen 2020 mother son relationship work detail reporter security electric chair child court case capital punishment dream ratedr based on a book sympathy bigotry church confession priest law anger checker game father daughter relationship slums little boy vigil repentance louisiana dialogues 2 evidence rope skipping pompadour brother crying man prisoner fainting flashback christianity savagery prison rat oscar best actress bishop watch clock brutality dead teen couple prison cell shot to death watching tv cant remember death sentence court tattoo f rated title spoken by character bible dead man jury southern us abe death penalty stabbed to death unsociability crucifix empathy lethal injection pena de muerte book abduction coffin chaplain nun institutions uk gender in title poem prison farm bible based on true story letter penalty religion little girl reference to w c fields guilt legal trial prison road gang psalm socially deprived family politician legal paper laughter emotion visit prayer hatred ari catholicism police car placard courtroom mercy petition mother daughter relationship knife self pity ethics stabbing catholic photograph knoll low life speeding vehicle drama tears bechdel testpass oscar nominee lead actor moral dilemma polygraph test roman catholic teenage girl plain clothes nun rapist corpse grief racism prison nurse armed guard father son relationship redemption social justice reference to ma barker baseball game texas death row forest prison guard cowardliness lake protestor intense crime governor doomed man reference to adolf hitler testimony movielens top pick oscar nominee director clv blockbuster listening to radio usa teenage boy death document holy bible susan sarandon rewatch sean penn authorhelen prejean sad bigot crime reenactment female nudity execution newspaper clipping liberal bus faith adapted frombook death row annemari graveyard court hearing white supremacy support group latex gloves playing checkers extreme cruelty telephone call classroom straitjacket rage and hate therapist nun audience candle loss lie detector"
        ],
        [
         "36",
         "37",
         "Across the Sea of Time (1995)",
         "documentary imax imax 3d bdr stereoscopic 3d"
        ],
        [
         "37",
         "38",
         "It Takes Two (1995)",
         "children comedy andy tennant orphan nostalgic cute twinsinterrelated lives relationship sabotage fun switching places matchmaking identical twin heartwarming mary kate and ashley twins"
        ],
        [
         "38",
         "39",
         "Clueless (1995)",
         "comedy romance comedy standard romantic comedy seen 2021 sweet netflix finland suck and below alicia silverstone romantic comedy fun frivolous want to own queer high school california blonde nofaganes very funny camp quick highschool dumb teen jane austen romance comedy need to feel good teen movie girlie movie quotable adaptation classic amy heckerling based on a book fashion paul rudd comingofage hot actress beverly hills teenagers parody marijuana emma beverly hills teen 90s funny california matchmaking woman lead good looking girls saw it ten times makeover campy comedy lighthearted chick flick funny teenager brittany murphy coming of age beautiful woman valley girl classic female director romance best comedy classic updated classics commentary satire multiple viewings silly drugs jane austen retelling radiohead light seen more than once very funny teen slang authorjane austen stacey dash adapted frombook inspired by jane austen 1990s vomiting donald faison sunny"
        ],
        [
         "39",
         "40",
         "Cry, the Beloved Country (1995)",
         "drama racism hulu south africa darrell roodt africa in netflix queue south africa based on a book disk"
        ],
        [
         "40",
         "41",
         "Richard III (1995)",
         "drama war marriage murder based on a play scheme modern day adaptation 1930s england rifle betrayal based on play male nudity gas mask kissing while having sex breaking the fourth wall bare chested male king of england assassination showdown king ambition falling to death fascist power richard loncraine robert downey jr aside man in a bathtub roman numeral in title last stand main character shot psychopath maggie smith great acting explosion side breast death sentence civil war london england corrupt protagonist pardon dead woman with eyes open gunfight kidnapping final showdown kiss battle british royal family ian mckellen prime minister violence dead woman on bed king richard iii shakespeares richard iii widow 2024 relook tank playwrightshakespeare opening action scene dance updated classics treason fascism manipulation dead woman main character dies dog pistol shakespeare love interest dvdram death of king war death of protagonist character name in title abuse of power clv cripple female nudity villain played by lead actor number in title adapted fromplay tragedy death of title character shootout shakespeare fictional war sex in bed female rear nudity machine gun rise to power bare breasts shakespeare in modern dress"
        ],
        [
         "41",
         "42",
         "Dead Presidents (1995)",
         "action crime drama vietnam war redemption 1960s vietnam chris tucker war veteran money crime clv armored truck african american larenz tate mercy killing veterans heist masks ptsd revolutinoary bank robbery medic loss of virginity erics dvds"
        ],
        [
         "42",
         "43",
         "Restoration (1995)",
         "drama plague medicine based on a book england gloves physician jealousy dark comedy nudity topless clv period piece london historical fountain spaniel british monarchy birth court wealth 17th century"
        ],
        [
         "43",
         "44",
         "Mortal Kombat (1995)",
         "action adventure fantasy fight scenes cheesy great casting didnt finish 2020 alternate dimension sorcerer fighter seen at the cinema set design nostalgia critic ridiculous characters videogame faithful to game awesome soundtrack campy ninjas violence bad acting hand to hand combat clv fantasy no blood and gore over the top movie to see video game adaptation theme song ninja martial arts kung fu no fatalities tournament good soundtrack sunglasses stylized bad graphics fatality action gore monster paul ws anderson based on video game overthetop action cheesy ending island christopher lambert fighting bdvideo adapted fromgame based on a video game fantasy action so bad its good"
        ],
        [
         "44",
         "45",
         "To Die For (1995)",
         "comedy drama thriller murder three word title satirical female sociopath 1990s literature on screen black comedy tv personality fellatio fantasizing scantily clad female journalism adultery revenge changing room feet on table journalism sexual 100 essential female performances teenage sexuality high school man masturbates upward mobility literature on screen r high school student masturbation fantasy bibliothek murder plot wayne knight voyeur panties career ice skating tv woman wears underwear bare chested male image entertainment woman wears a bra lust winter student obsession daydreaming hairy chested man upskirt femme fatale seductive behavior ambition white panties character appears on tv title same as book erlends dvds sexual attraction dark comedy camera shot of feet male masturbation new hampshire sitting by a window broadcast masturbating in front of a tv roman a clef nicole kidman cheating wife watching tv older woman younger man relationship scene during end credits columbia tristar home video f rated male objectification miniskirt dancing barefoot teacher student relationship fame male star appears shirtless italian restaurant mockumentary weatherwoman prospect preferred narcissistic fatal attraction sexy woman unfaithfulness nonlinear timeline gay director narcissism 20th century literature on screen female lead cynicism pantyhose legs camera shot of bare feet video footage library violence talking to the camera redhead woman voyeurism self actualization infidelity sex in a bed true crime teenager dance scene best performance nicole kidman as suzanne stone maretto mariticide motel clearplay family feud based on novel or book dark humor copulation satire teenage girl uninteresting seduction sex camera shot of a womans bare feet based on novel boat ship man wears a tank top reference to maury povich crime of passion fake documentary television manipulation narcissistic personality disorder man masturbates in front of a tv sexual predator irreverence extramarital affair main character dies masturbation oral sex dog fantasy scene female objectification nylons daydream media circus sex with a minor school photo booth clv erotic fantasy minidress fan teenage boy tunnel vision media fantasy sequence joaquin phoenix columbia tristar narcissist split screen panties hit the floor barefoot female swimming pool 1990s hitman anchorwoman woman wears panties villainess played by lead actress reference to connie chung coitus leg spreading teen angst telephone call narcissistic fantasy classroom blue panties purple bra sociopath female protagonist american literature on screen reference to jane pauley pantyhose"
        ],
        [
         "45",
         "46",
         "How to Make an American Quilt (1995)",
         "drama romance marriage women extramarital affair wedding marriage proposal a chick flick based on a book married couple nudity topless brief clv woman director family holiday bibliothek wedding vows quilt advice love monogamy grandmother"
        ],
        [
         "46",
         "47",
         "Seven (a.k.a. Se7en) (1995)",
         "mystery thriller actually the ending was obvius emotional murder atmospheric police procedural neonoir alfred hitchcock serial killers biblical police officer detective generally like the movie because of actors and crimes settinglibrary terrible ending serial killer creepy murderer gory bfi modern classic bad acting lust and impulsiveness serial murder credits menacing nihilism despair morgan freeman violent ending psychological thriller super interesting greed worst ever serial killers r saturn award best writing crying scary sin gorgeous cinematography religious david fincher grim suffering suspenseful evil man gloomy powerful ending psychological psychology creative immoderateness disgusting lust watched 1995 wrath gwyneth paltrow painful to watch murder investigations police investigation violent pride and vanity ominous evisceration ratedr good acting police twists turns psychology erlends dvds bradpitt good plot thriller surprise ending very good metronome crying man captivating david fincher pathology hbo max pointless policemen christianity brad pitt top 10 ever hopeless ending great acting predictable pride husbandwife relationship murder mystery favourite disturbing seven twist sexual assault sick sins scary stuff denzil washington horror suspenseful in netflix queue serial killer gore horror philosophical characters evil psychological drama crime thriller stereotyped characters acting the morgan freeman leaving nonsense policial dvdvideo 2020 pension victim owned kevin spacey biblical psychological drama stuffed into the fridge noir bible swat mystery envy religion gluttony week violence graphic violence murder investigation atmospheric imdb top 250 want anticlimax scope spacey excellentpitt brilliantfreeman wow a wonderful movie must must watch capital sin investigation overrated acab boring plot gruesome clearplay strong third act strange tumeys to see again great villain dante divx drama brad pitt cruelty thriller genius horror sloth bdvideo detective very good thriller brad pitt shocking intense want it corpse aaao library vhs cynical twist ending seen at the cinema confusing selffulfilling prophecy disturbing suitcase of light bleak crime religious fanatic 35 owned seven deadly sins numbers police detective great ending usa grotesque spannend ashley judd death seen more than once drug dealer tumeys dvds sins rewatch plot morgan freeman insomnia books villain detectives thoughtprovoking literature the best crime theater vhs thought provoking dark amazing obvious plot messed up not mystery favorite bad ending rage and hate policeman torment"
        ],
        [
         "47",
         "48",
         "Pocahontas (1995)",
         "animation children drama musical romance cartoon racism super 185 blowup shamanism stereotypes native americans musical not according to the truth based on myths or folklore dvdvideo 1600s indians vs settlers forbidden love classic jamestown virginia david ogden stiers settler 33aus disney 90s kid pug dog irene bedard romance historically inaccurate indians 17th century nostalgic judy kuhn colony disney renaissance itaege dialogue 2023 relook relatedpocahontas 1995 mel gibson russell means oscar best music original song adventure gold rush indian chief animation story animation john kassir oscar katottava virginia cross cultural relationship love story animal sidekick nofaganes sidekicks for the sidekicks mike gabriel skinny pocahontas talking animals culture clash too short oscar best music original score eric goldberg princess series soundtrack get animate tree star crossed lovers strong female lead native american princess song land claim bdvideo 70mm musket alan menken powhatan interracial romance disney animated feature"
        ],
        [
         "48",
         "49",
         "When Night Is Falling (1995)",
         "drama romance lesbian director nudity topless notable own romance lgbt religion nudity patricia rozema circus professor woman director nudity topless atmospheric female director visually appealing gay lesbian"
        ],
        [
         "49",
         "50",
         "Usual Suspects, The (1995)",
         "crime mystery thriller k good movie with deep quotes comedy predictable ending neonoir solving riddlespuzzles wishlist modern classic love it detective losers black humour caper movie bad acting mind blowing netflix finland brownface fun sda sensational atmosphere dennis farina rewatchable r lie benicio del toro storytelling tricky manipulative behavior criminal whodunnit rape upside down detective thriller violence against children corruption kevin spacey is soze 3 cliff hanger ungripping nyc intellectual organized crime vintage oscar best supporting actor con men seedy classic suspense ensemble cast genredefining best of the 90s chazz palminteri rviolence ratedr law mindfuck twists turns complex erlends dvds cinema club flash back ambiguous ending thriller surprise ending very good oscar winner want to see again mafia complot crime boss keyser saze great acting scams unique predictable must see more than once rstrong language unreliable narrators contrived ending twist complex and tense sexual assault dark kevin pollak funny heist unreliable narrator elaborate great storytelling sa den kaiser sose keyser soze characters bryan singer smart writing keser soze caper erics dvds evil own acting dvd kevin spacey pete postlethwaite mystery awesome stephen baldwin library violence antihero benicio del toro imdb top 250 want dialogue intelligent lies mentiras los angeles overrated interrogation cerebral crazy unexpected ending oscar best writing screenplay written directly for the screen engaging good dialogs suzy amis clearplay boring web of lies criminal mastermind keyser sose robo christine estabrook edgar award best motion picture dull characters unnecessary bad language clever puzzlelike interrogation flashback thriller flashbacks matrix bdvideo plot twist gabriel byrne character driven shortterm memory loss theft my movies fell asleep thriling story within a story manipulation cheesy nonlinear storyline rewatch worthy academy award best original screenplay complicated plot twist ending watchagain relatives excellent script seen at the cinema commedy confusing myth imdb 1001 movies you must see crime music no emotional investment owned clv great ending surprise psychothriller btaege must see hustle christopher mcquarrie slow beginning complicated crime gone awry must be seen more than once slow tumeys dvds seen more than once suspense neo noir good actors filim noir narrated meta sibling too fast hungarian oscar best original screenplay crime action unexpected dark soundtrack 1990s new york city spaceyal great cast conspiracy"
        ]
       ],
       "shape": {
        "columns": 3,
        "rows": 53452
       }
      },
      "text/html": [
       "<div>\n",
       "<style scoped>\n",
       "    .dataframe tbody tr th:only-of-type {\n",
       "        vertical-align: middle;\n",
       "    }\n",
       "\n",
       "    .dataframe tbody tr th {\n",
       "        vertical-align: top;\n",
       "    }\n",
       "\n",
       "    .dataframe thead th {\n",
       "        text-align: right;\n",
       "    }\n",
       "</style>\n",
       "<table border=\"1\" class=\"dataframe\">\n",
       "  <thead>\n",
       "    <tr style=\"text-align: right;\">\n",
       "      <th></th>\n",
       "      <th>movieId</th>\n",
       "      <th>title</th>\n",
       "      <th>tfidf</th>\n",
       "    </tr>\n",
       "  </thead>\n",
       "  <tbody>\n",
       "    <tr>\n",
       "      <th>0</th>\n",
       "      <td>1</td>\n",
       "      <td>Toy Story (1995)</td>\n",
       "      <td>adventure animation children comedy fantasy em...</td>\n",
       "    </tr>\n",
       "    <tr>\n",
       "      <th>1</th>\n",
       "      <td>2</td>\n",
       "      <td>Jumanji (1995)</td>\n",
       "      <td>adventure children fantasy pigtails plant disc...</td>\n",
       "    </tr>\n",
       "    <tr>\n",
       "      <th>2</th>\n",
       "      <td>3</td>\n",
       "      <td>Grumpier Old Men (1995)</td>\n",
       "      <td>comedy romance walter matthau minnesota old pe...</td>\n",
       "    </tr>\n",
       "    <tr>\n",
       "      <th>3</th>\n",
       "      <td>4</td>\n",
       "      <td>Waiting to Exhale (1995)</td>\n",
       "      <td>comedy drama romance girl movie slurs revenge ...</td>\n",
       "    </tr>\n",
       "    <tr>\n",
       "      <th>4</th>\n",
       "      <td>5</td>\n",
       "      <td>Father of the Bride Part II (1995)</td>\n",
       "      <td>comedy steve martin worst movies ever humorous...</td>\n",
       "    </tr>\n",
       "    <tr>\n",
       "      <th>...</th>\n",
       "      <td>...</td>\n",
       "      <td>...</td>\n",
       "      <td>...</td>\n",
       "    </tr>\n",
       "    <tr>\n",
       "      <th>53447</th>\n",
       "      <td>288765</td>\n",
       "      <td>Bird Box Barcelona (2023)</td>\n",
       "      <td>horror thriller tw suicide apocalypse bad scie...</td>\n",
       "    </tr>\n",
       "    <tr>\n",
       "      <th>53448</th>\n",
       "      <td>288779</td>\n",
       "      <td>Don Camillo: Monsignor (1961)</td>\n",
       "      <td>comedy don camillo series</td>\n",
       "    </tr>\n",
       "    <tr>\n",
       "      <th>53449</th>\n",
       "      <td>288849</td>\n",
       "      <td>Colaholic (2018)</td>\n",
       "      <td>no genres listed short film animation addiction</td>\n",
       "    </tr>\n",
       "    <tr>\n",
       "      <th>53450</th>\n",
       "      <td>288937</td>\n",
       "      <td>Blue Thermal (2022)</td>\n",
       "      <td>animation comedy drama romance anime</td>\n",
       "    </tr>\n",
       "    <tr>\n",
       "      <th>53451</th>\n",
       "      <td>288955</td>\n",
       "      <td>Agata's Friends (2016)</td>\n",
       "      <td>drama catalan costa brava flatmate slow paced ...</td>\n",
       "    </tr>\n",
       "  </tbody>\n",
       "</table>\n",
       "<p>53452 rows × 3 columns</p>\n",
       "</div>"
      ],
      "text/plain": [
       "       movieId                               title  \\\n",
       "0            1                    Toy Story (1995)   \n",
       "1            2                      Jumanji (1995)   \n",
       "2            3             Grumpier Old Men (1995)   \n",
       "3            4            Waiting to Exhale (1995)   \n",
       "4            5  Father of the Bride Part II (1995)   \n",
       "...        ...                                 ...   \n",
       "53447   288765           Bird Box Barcelona (2023)   \n",
       "53448   288779       Don Camillo: Monsignor (1961)   \n",
       "53449   288849                    Colaholic (2018)   \n",
       "53450   288937                 Blue Thermal (2022)   \n",
       "53451   288955              Agata's Friends (2016)   \n",
       "\n",
       "                                                   tfidf  \n",
       "0      adventure animation children comedy fantasy em...  \n",
       "1      adventure children fantasy pigtails plant disc...  \n",
       "2      comedy romance walter matthau minnesota old pe...  \n",
       "3      comedy drama romance girl movie slurs revenge ...  \n",
       "4      comedy steve martin worst movies ever humorous...  \n",
       "...                                                  ...  \n",
       "53447  horror thriller tw suicide apocalypse bad scie...  \n",
       "53448                          comedy don camillo series  \n",
       "53449    no genres listed short film animation addiction  \n",
       "53450               animation comedy drama romance anime  \n",
       "53451  drama catalan costa brava flatmate slow paced ...  \n",
       "\n",
       "[53452 rows x 3 columns]"
      ]
     },
     "execution_count": 9,
     "metadata": {},
     "output_type": "execute_result"
    }
   ],
   "source": [
    "filtered_movies"
   ]
  },
  {
   "cell_type": "code",
   "execution_count": 10,
   "metadata": {},
   "outputs": [
    {
     "data": {
      "application/vnd.microsoft.datawrangler.viewer.v0+json": {
       "columns": [
        {
         "name": "index",
         "rawType": "int64",
         "type": "integer"
        },
        {
         "name": "userId",
         "rawType": "int64",
         "type": "integer"
        },
        {
         "name": "movieId",
         "rawType": "int64",
         "type": "integer"
        },
        {
         "name": "rating",
         "rawType": "float64",
         "type": "float"
        },
        {
         "name": "timestamp",
         "rawType": "int64",
         "type": "integer"
        }
       ],
       "conversionMethod": "pd.DataFrame",
       "ref": "2119e1d4-e966-43d9-b342-7c23330b6624",
       "rows": [
        [
         "0",
         "1",
         "1",
         "4.0",
         "1225734739"
        ],
        [
         "1",
         "1",
         "110",
         "4.0",
         "1225865086"
        ]
       ],
       "shape": {
        "columns": 4,
        "rows": 2
       }
      },
      "text/html": [
       "<div>\n",
       "<style scoped>\n",
       "    .dataframe tbody tr th:only-of-type {\n",
       "        vertical-align: middle;\n",
       "    }\n",
       "\n",
       "    .dataframe tbody tr th {\n",
       "        vertical-align: top;\n",
       "    }\n",
       "\n",
       "    .dataframe thead th {\n",
       "        text-align: right;\n",
       "    }\n",
       "</style>\n",
       "<table border=\"1\" class=\"dataframe\">\n",
       "  <thead>\n",
       "    <tr style=\"text-align: right;\">\n",
       "      <th></th>\n",
       "      <th>userId</th>\n",
       "      <th>movieId</th>\n",
       "      <th>rating</th>\n",
       "      <th>timestamp</th>\n",
       "    </tr>\n",
       "  </thead>\n",
       "  <tbody>\n",
       "    <tr>\n",
       "      <th>0</th>\n",
       "      <td>1</td>\n",
       "      <td>1</td>\n",
       "      <td>4.0</td>\n",
       "      <td>1225734739</td>\n",
       "    </tr>\n",
       "    <tr>\n",
       "      <th>1</th>\n",
       "      <td>1</td>\n",
       "      <td>110</td>\n",
       "      <td>4.0</td>\n",
       "      <td>1225865086</td>\n",
       "    </tr>\n",
       "  </tbody>\n",
       "</table>\n",
       "</div>"
      ],
      "text/plain": [
       "   userId  movieId  rating   timestamp\n",
       "0       1        1     4.0  1225734739\n",
       "1       1      110     4.0  1225865086"
      ]
     },
     "execution_count": 10,
     "metadata": {},
     "output_type": "execute_result"
    }
   ],
   "source": [
    "ratings.head(2)"
   ]
  },
  {
   "cell_type": "code",
   "execution_count": 22,
   "metadata": {},
   "outputs": [
    {
     "data": {
      "application/vnd.microsoft.datawrangler.viewer.v0+json": {
       "columns": [
        {
         "name": "index",
         "rawType": "int64",
         "type": "integer"
        },
        {
         "name": "movieId",
         "rawType": "int64",
         "type": "integer"
        },
        {
         "name": "title",
         "rawType": "object",
         "type": "string"
        },
        {
         "name": "genres",
         "rawType": "object",
         "type": "string"
        }
       ],
       "conversionMethod": "pd.DataFrame",
       "ref": "c344d997-414e-459c-a358-67e74d7a769e",
       "rows": [
        [
         "0",
         "1",
         "Toy Story (1995)",
         "Adventure Animation Children Comedy Fantasy"
        ],
        [
         "1",
         "2",
         "Jumanji (1995)",
         "Adventure Children Fantasy"
        ]
       ],
       "shape": {
        "columns": 3,
        "rows": 2
       }
      },
      "text/html": [
       "<div>\n",
       "<style scoped>\n",
       "    .dataframe tbody tr th:only-of-type {\n",
       "        vertical-align: middle;\n",
       "    }\n",
       "\n",
       "    .dataframe tbody tr th {\n",
       "        vertical-align: top;\n",
       "    }\n",
       "\n",
       "    .dataframe thead th {\n",
       "        text-align: right;\n",
       "    }\n",
       "</style>\n",
       "<table border=\"1\" class=\"dataframe\">\n",
       "  <thead>\n",
       "    <tr style=\"text-align: right;\">\n",
       "      <th></th>\n",
       "      <th>movieId</th>\n",
       "      <th>title</th>\n",
       "      <th>genres</th>\n",
       "    </tr>\n",
       "  </thead>\n",
       "  <tbody>\n",
       "    <tr>\n",
       "      <th>0</th>\n",
       "      <td>1</td>\n",
       "      <td>Toy Story (1995)</td>\n",
       "      <td>Adventure Animation Children Comedy Fantasy</td>\n",
       "    </tr>\n",
       "    <tr>\n",
       "      <th>1</th>\n",
       "      <td>2</td>\n",
       "      <td>Jumanji (1995)</td>\n",
       "      <td>Adventure Children Fantasy</td>\n",
       "    </tr>\n",
       "  </tbody>\n",
       "</table>\n",
       "</div>"
      ],
      "text/plain": [
       "   movieId             title                                       genres\n",
       "0        1  Toy Story (1995)  Adventure Animation Children Comedy Fantasy\n",
       "1        2    Jumanji (1995)                   Adventure Children Fantasy"
      ]
     },
     "execution_count": 22,
     "metadata": {},
     "output_type": "execute_result"
    }
   ],
   "source": [
    "movies.head(2)"
   ]
  },
  {
   "cell_type": "code",
   "execution_count": 11,
   "metadata": {},
   "outputs": [],
   "source": [
    "\"\"\" Funktionen tar väldigt lång tid\"\"\"\n",
    "\n",
    "def extract_features(movies, ratings):\n",
    "    x = ratings[\"userId\"].value_counts() > 200\n",
    "    y = x[x].index\n",
    "    ratings = ratings[ratings[\"userId\"].isin(y)]\n",
    "    ratings_with_movies = ratings.merge(movies, on=\"movieId\")\n",
    "\n",
    "    num_rating = ratings_with_movies.groupby(\"title\")[\"rating\"].count().reset_index()\n",
    "\n",
    "    num_rating.rename(columns={\"rating\": \"num_of_rating\"}, inplace=True)\n",
    "    final_rating = ratings_with_movies.merge(num_rating, on=\"title\")\n",
    "    final_rating = final_rating[final_rating[\"num_of_rating\"] > 50]\n",
    "    final_rating.drop_duplicates([\"userId\", \"title\"], inplace=True)\n",
    "\n",
    "    movie_pivot = final_rating.pivot_table(columns=\"userId\", index=\"title\", values=\"rating\")\n",
    "    movie_pivot.fillna(0, inplace=True)\n",
    "\n",
    "    movie_sparse = csr_matrix(movie_pivot)\n",
    "\n",
    "    return movie_sparse, movie_pivot, final_rating\n",
    "\n",
    "movie_sparse, movie_pivot, final_rating = extract_features(movies, ratings)"
   ]
  },
  {
   "cell_type": "code",
   "execution_count": 12,
   "metadata": {},
   "outputs": [
    {
     "data": {
      "text/plain": [
       "((20738515, 7), (15226, 42608))"
      ]
     },
     "execution_count": 12,
     "metadata": {},
     "output_type": "execute_result"
    }
   ],
   "source": [
    "final_rating.shape, movie_pivot.shape"
   ]
  },
  {
   "cell_type": "code",
   "execution_count": 13,
   "metadata": {},
   "outputs": [
    {
     "data": {
      "application/vnd.microsoft.datawrangler.viewer.v0+json": {
       "columns": [
        {
         "name": "index",
         "rawType": "int64",
         "type": "integer"
        },
        {
         "name": "userId",
         "rawType": "int64",
         "type": "integer"
        },
        {
         "name": "movieId",
         "rawType": "int64",
         "type": "integer"
        },
        {
         "name": "rating",
         "rawType": "float64",
         "type": "float"
        },
        {
         "name": "title",
         "rawType": "object",
         "type": "string"
        }
       ],
       "conversionMethod": "pd.DataFrame",
       "ref": "f6294441-f007-491b-a586-297607eca669",
       "rows": [
        [
         "0",
         "21",
         "1",
         "3.0",
         "Toy Story (1995)"
        ],
        [
         "1",
         "21",
         "2",
         "3.0",
         "Jumanji (1995)"
        ],
        [
         "2",
         "21",
         "10",
         "3.5",
         "GoldenEye (1995)"
        ],
        [
         "3",
         "21",
         "32",
         "3.5",
         "Twelve Monkeys (a.k.a. 12 Monkeys) (1995)"
        ],
        [
         "4",
         "21",
         "39",
         "2.5",
         "Clueless (1995)"
        ],
        [
         "5",
         "21",
         "48",
         "3.0",
         "Pocahontas (1995)"
        ],
        [
         "6",
         "21",
         "62",
         "4.0",
         "Mr. Holland's Opus (1995)"
        ],
        [
         "7",
         "21",
         "104",
         "4.0",
         "Happy Gilmore (1996)"
        ],
        [
         "8",
         "21",
         "141",
         "4.0",
         "Birdcage, The (1996)"
        ],
        [
         "9",
         "21",
         "150",
         "4.0",
         "Apollo 13 (1995)"
        ],
        [
         "10",
         "21",
         "153",
         "3.0",
         "Batman Forever (1995)"
        ],
        [
         "11",
         "21",
         "160",
         "2.5",
         "Congo (1995)"
        ],
        [
         "12",
         "21",
         "163",
         "4.0",
         "Desperado (1995)"
        ],
        [
         "13",
         "21",
         "173",
         "1.0",
         "Judge Dredd (1995)"
        ],
        [
         "14",
         "21",
         "180",
         "4.5",
         "Mallrats (1995)"
        ],
        [
         "15",
         "21",
         "208",
         "2.5",
         "Waterworld (1995)"
        ],
        [
         "16",
         "21",
         "216",
         "3.0",
         "Billy Madison (1995)"
        ],
        [
         "17",
         "21",
         "223",
         "5.0",
         "Clerks (1994)"
        ],
        [
         "18",
         "21",
         "231",
         "3.0",
         "Dumb & Dumber (Dumb and Dumber) (1994)"
        ],
        [
         "19",
         "21",
         "235",
         "5.0",
         "Ed Wood (1994)"
        ]
       ],
       "shape": {
        "columns": 4,
        "rows": 20
       }
      },
      "text/html": [
       "<div>\n",
       "<style scoped>\n",
       "    .dataframe tbody tr th:only-of-type {\n",
       "        vertical-align: middle;\n",
       "    }\n",
       "\n",
       "    .dataframe tbody tr th {\n",
       "        vertical-align: top;\n",
       "    }\n",
       "\n",
       "    .dataframe thead th {\n",
       "        text-align: right;\n",
       "    }\n",
       "</style>\n",
       "<table border=\"1\" class=\"dataframe\">\n",
       "  <thead>\n",
       "    <tr style=\"text-align: right;\">\n",
       "      <th></th>\n",
       "      <th>userId</th>\n",
       "      <th>movieId</th>\n",
       "      <th>rating</th>\n",
       "      <th>title</th>\n",
       "    </tr>\n",
       "  </thead>\n",
       "  <tbody>\n",
       "    <tr>\n",
       "      <th>0</th>\n",
       "      <td>21</td>\n",
       "      <td>1</td>\n",
       "      <td>3.0</td>\n",
       "      <td>Toy Story (1995)</td>\n",
       "    </tr>\n",
       "    <tr>\n",
       "      <th>1</th>\n",
       "      <td>21</td>\n",
       "      <td>2</td>\n",
       "      <td>3.0</td>\n",
       "      <td>Jumanji (1995)</td>\n",
       "    </tr>\n",
       "    <tr>\n",
       "      <th>2</th>\n",
       "      <td>21</td>\n",
       "      <td>10</td>\n",
       "      <td>3.5</td>\n",
       "      <td>GoldenEye (1995)</td>\n",
       "    </tr>\n",
       "    <tr>\n",
       "      <th>3</th>\n",
       "      <td>21</td>\n",
       "      <td>32</td>\n",
       "      <td>3.5</td>\n",
       "      <td>Twelve Monkeys (a.k.a. 12 Monkeys) (1995)</td>\n",
       "    </tr>\n",
       "    <tr>\n",
       "      <th>4</th>\n",
       "      <td>21</td>\n",
       "      <td>39</td>\n",
       "      <td>2.5</td>\n",
       "      <td>Clueless (1995)</td>\n",
       "    </tr>\n",
       "    <tr>\n",
       "      <th>5</th>\n",
       "      <td>21</td>\n",
       "      <td>48</td>\n",
       "      <td>3.0</td>\n",
       "      <td>Pocahontas (1995)</td>\n",
       "    </tr>\n",
       "    <tr>\n",
       "      <th>6</th>\n",
       "      <td>21</td>\n",
       "      <td>62</td>\n",
       "      <td>4.0</td>\n",
       "      <td>Mr. Holland's Opus (1995)</td>\n",
       "    </tr>\n",
       "    <tr>\n",
       "      <th>7</th>\n",
       "      <td>21</td>\n",
       "      <td>104</td>\n",
       "      <td>4.0</td>\n",
       "      <td>Happy Gilmore (1996)</td>\n",
       "    </tr>\n",
       "    <tr>\n",
       "      <th>8</th>\n",
       "      <td>21</td>\n",
       "      <td>141</td>\n",
       "      <td>4.0</td>\n",
       "      <td>Birdcage, The (1996)</td>\n",
       "    </tr>\n",
       "    <tr>\n",
       "      <th>9</th>\n",
       "      <td>21</td>\n",
       "      <td>150</td>\n",
       "      <td>4.0</td>\n",
       "      <td>Apollo 13 (1995)</td>\n",
       "    </tr>\n",
       "    <tr>\n",
       "      <th>10</th>\n",
       "      <td>21</td>\n",
       "      <td>153</td>\n",
       "      <td>3.0</td>\n",
       "      <td>Batman Forever (1995)</td>\n",
       "    </tr>\n",
       "    <tr>\n",
       "      <th>11</th>\n",
       "      <td>21</td>\n",
       "      <td>160</td>\n",
       "      <td>2.5</td>\n",
       "      <td>Congo (1995)</td>\n",
       "    </tr>\n",
       "    <tr>\n",
       "      <th>12</th>\n",
       "      <td>21</td>\n",
       "      <td>163</td>\n",
       "      <td>4.0</td>\n",
       "      <td>Desperado (1995)</td>\n",
       "    </tr>\n",
       "    <tr>\n",
       "      <th>13</th>\n",
       "      <td>21</td>\n",
       "      <td>173</td>\n",
       "      <td>1.0</td>\n",
       "      <td>Judge Dredd (1995)</td>\n",
       "    </tr>\n",
       "    <tr>\n",
       "      <th>14</th>\n",
       "      <td>21</td>\n",
       "      <td>180</td>\n",
       "      <td>4.5</td>\n",
       "      <td>Mallrats (1995)</td>\n",
       "    </tr>\n",
       "    <tr>\n",
       "      <th>15</th>\n",
       "      <td>21</td>\n",
       "      <td>208</td>\n",
       "      <td>2.5</td>\n",
       "      <td>Waterworld (1995)</td>\n",
       "    </tr>\n",
       "    <tr>\n",
       "      <th>16</th>\n",
       "      <td>21</td>\n",
       "      <td>216</td>\n",
       "      <td>3.0</td>\n",
       "      <td>Billy Madison (1995)</td>\n",
       "    </tr>\n",
       "    <tr>\n",
       "      <th>17</th>\n",
       "      <td>21</td>\n",
       "      <td>223</td>\n",
       "      <td>5.0</td>\n",
       "      <td>Clerks (1994)</td>\n",
       "    </tr>\n",
       "    <tr>\n",
       "      <th>18</th>\n",
       "      <td>21</td>\n",
       "      <td>231</td>\n",
       "      <td>3.0</td>\n",
       "      <td>Dumb &amp; Dumber (Dumb and Dumber) (1994)</td>\n",
       "    </tr>\n",
       "    <tr>\n",
       "      <th>19</th>\n",
       "      <td>21</td>\n",
       "      <td>235</td>\n",
       "      <td>5.0</td>\n",
       "      <td>Ed Wood (1994)</td>\n",
       "    </tr>\n",
       "  </tbody>\n",
       "</table>\n",
       "</div>"
      ],
      "text/plain": [
       "    userId  movieId  rating                                      title\n",
       "0       21        1     3.0                           Toy Story (1995)\n",
       "1       21        2     3.0                             Jumanji (1995)\n",
       "2       21       10     3.5                           GoldenEye (1995)\n",
       "3       21       32     3.5  Twelve Monkeys (a.k.a. 12 Monkeys) (1995)\n",
       "4       21       39     2.5                            Clueless (1995)\n",
       "5       21       48     3.0                          Pocahontas (1995)\n",
       "6       21       62     4.0                  Mr. Holland's Opus (1995)\n",
       "7       21      104     4.0                       Happy Gilmore (1996)\n",
       "8       21      141     4.0                       Birdcage, The (1996)\n",
       "9       21      150     4.0                           Apollo 13 (1995)\n",
       "10      21      153     3.0                      Batman Forever (1995)\n",
       "11      21      160     2.5                               Congo (1995)\n",
       "12      21      163     4.0                           Desperado (1995)\n",
       "13      21      173     1.0                         Judge Dredd (1995)\n",
       "14      21      180     4.5                            Mallrats (1995)\n",
       "15      21      208     2.5                          Waterworld (1995)\n",
       "16      21      216     3.0                       Billy Madison (1995)\n",
       "17      21      223     5.0                              Clerks (1994)\n",
       "18      21      231     3.0     Dumb & Dumber (Dumb and Dumber) (1994)\n",
       "19      21      235     5.0                             Ed Wood (1994)"
      ]
     },
     "execution_count": 13,
     "metadata": {},
     "output_type": "execute_result"
    }
   ],
   "source": [
    "# movie_pivot.head(1) # filmen i en kolumn och en användare per kolumn med rating per film.\n",
    "# movie_sparse # <15226x42608 sparse matrix of type '<class 'numpy.float64'>' with 20738515 stored elements in Compressed Sparse Row format>\n",
    "final_rating = final_rating[[\"userId\", \"movieId\", \"rating\", \"title\"]]\n",
    "final_rating.head(20)"
   ]
  },
  {
   "cell_type": "code",
   "execution_count": 14,
   "metadata": {},
   "outputs": [],
   "source": [
    "from sklearn.neighbors import NearestNeighbors"
   ]
  },
  {
   "cell_type": "code",
   "execution_count": 15,
   "metadata": {},
   "outputs": [],
   "source": [
    "def make_model(movie_sparse, movie_pivot):\n",
    "    model = NearestNeighbors(metric=\"cosine\", algorithm=\"auto\")\n",
    "    model.fit(movie_sparse)\n",
    "    movie_names = movie_pivot.index.tolist()\n",
    "\n",
    "    return movie_names, model\n",
    "\n",
    "movie_names, model = make_model(movie_sparse, movie_pivot)"
   ]
  },
  {
   "cell_type": "code",
   "execution_count": 16,
   "metadata": {},
   "outputs": [],
   "source": [
    "import numpy as np\n",
    "from sklearn.linear_model import LinearRegression\n",
    "from sklearn.preprocessing import MinMaxScaler\n",
    "from sklearn.ensemble import RandomForestRegressor\n",
    "# from surprise import SVD, Dataset, Reader\n",
    "# from surprise.model_selection import train_test_split"
   ]
  },
  {
   "cell_type": "code",
   "execution_count": 17,
   "metadata": {},
   "outputs": [
    {
     "name": "stdout",
     "output_type": "stream",
     "text": [
      "['Jumanji (1995)', 'Jurassic Park (1993)', 'Lion King, The (1994)', 'Mask, The (1994)', 'Men in Black (a.k.a. MIB) (1997)', 'Home Alone (1990)']\n"
     ]
    }
   ],
   "source": [
    "# def recommend(movie_names, book_pivot, model, final_rating): med posters?\n",
    "\n",
    "def recommend(selected_movies, movie_pivot, model, n_neighbors=6):\n",
    "    movie_list = []\n",
    "\n",
    "    movie_id = np.where(movie_pivot.index == selected_movies)[0][0]\n",
    "    distance, suggestion = model.kneighbors(movie_pivot.iloc[movie_id,:].values.reshape(1,-1), n_neighbors = n_neighbors)\n",
    "    \n",
    "    for i in range(len(suggestion)):\n",
    "        movies = movie_pivot.index[suggestion[i]]\n",
    "        for j in movies:\n",
    "            movie_list.append(j)\n",
    "\n",
    "    return movie_list\n",
    "\n",
    "\"\"\" ===================================================================================================\"\"\"\n",
    "\"\"\" TEST \"\"\"\n",
    "\n",
    "# reader = Reader(rating_scale=(0.5, 5.0))\n",
    "# data = Dataset.load_from_df(final_rating[['userId', 'title', 'rating']], reader)\n",
    "# trainset, testset = train_test_split(data, test_size=0.2)\n",
    "\n",
    "# svd = SVD()\n",
    "# svd.fit(trainset)\n",
    "\n",
    "# def predict_rating(movie_list, svd_model, user_id=1, top_n=5):\n",
    "#     predicted_ratings = {}\n",
    "\n",
    "#     for movie in movie_list:\n",
    "#         movie_id = movie_to_id[movie]  # Omvandla titel till ID\n",
    "#         pred = svd_model.predict(user_id, movie_id).est  # Förutsäg betyg\n",
    "#         predicted_ratings[movie] = pred\n",
    "\n",
    "#     # Sortera filmer efter högst betyg och returnera de 5 bästa\n",
    "#     sorted_movies = sorted(predicted_ratings, key=predicted_ratings.get, reverse=True)[:top_n]\n",
    "    \n",
    "#     return sorted_movies  # Returnerar de 5 mest relevanta filmerna\n",
    "\n",
    "\n",
    "# def hybrid_recommend(selected_movie, movie_pivot, model, svd_model):\n",
    "#     # 1. Hämta liknande filmer via KNN\n",
    "#     knn_recommendations = recommend(selected_movie, movie_pivot, model)\n",
    "    \n",
    "#     top_5_movies = predict_rating(recommendations, svd, user_id=1, top_n=5)\n",
    "#     print(top_5_movies)  # Skriver ut de 5 bästa filmerna\n",
    "    \n",
    "#     return final_recommendations\n",
    "\n",
    "# selected_movie = \"Batman Forever (1995)\"\n",
    "# recommendations = hybrid_recommend(selected_movie, movie_pivot, model, svd)\n",
    "\n",
    "def recommend2(selected_movies, movie_pivot, model, n_neighbors = 200):\n",
    "\n",
    "    movie_id = np.where(movie_pivot.index == selected_movies)[0][0]\n",
    "    distance, suggestion = model.kneighbors(movie_pivot.iloc[movie_id,:].values.reshape(1,-1), n_neighbors = n_neighbors+1)\n",
    "    \n",
    "    rec_movies = pd.DataFrame({\"title\": [movie_pivot.index[i] for i in suggestion[0] if i != movie_id], \"cosine_simularity\": distance[0][1:]})\n",
    "\n",
    "    ratings_summary = final_rating.groupby(\"title\")[\"rating\"].agg([\"mean\", \"count\"]).reset_index()\n",
    "    rec_movies = rec_movies.merge(ratings_summary, on=\"title\", how=\"left\")\n",
    "\n",
    "    x = rec_movies[[\"cosine_simularity\", \"mean\", \"count\"]].fillna(0)\n",
    "    y = rec_movies[\"mean\"]\n",
    "\n",
    "    model_lr = LinearRegression()\n",
    "    model_lr.fit(x, y)\n",
    "\n",
    "    rec_movies[\"score\"] = model_lr.predict(x)\n",
    "    top_5 = rec_movies.sort_values(\"score\", ascending=False).head(5)\n",
    "\n",
    "    return top_5[[\"title\", \"score\"]]\n",
    "\n",
    "\n",
    "movie_names = \"Jumanji (1995)\"\n",
    "print(recommend(movie_names, movie_pivot, model, n_neighbors = 6))"
   ]
  },
  {
   "cell_type": "code",
   "execution_count": 18,
   "metadata": {},
   "outputs": [
    {
     "name": "stdout",
     "output_type": "stream",
     "text": [
      "                                           title     score\n",
      "4               Shawshank Redemption, The (1994)  0.970161\n",
      "122                          12 Angry Men (1957)  0.914997\n",
      "0                 Godfather: Part II, The (1974)  0.910418\n",
      "177  Seven Samurai (Shichinin no samurai) (1954)  0.909428\n",
      "1                            Pulp Fiction (1994)  0.906393\n"
     ]
    }
   ],
   "source": [
    "from sklearn.linear_model import LinearRegression\n",
    "import numpy as np\n",
    "import pandas as pd\n",
    "\n",
    "def recommend_with_regression(selected_movie, movie_pivot, model, final_rating, n_neighbors=200):\n",
    "    # Hitta liknande filmer med kNN\n",
    "    if selected_movie not in movie_pivot.index:\n",
    "        return f\"Filmen '{selected_movie}' hittades inte i datasetet.\"\n",
    "    \n",
    "    movie_id = np.where(movie_pivot.index == selected_movie)[0][0]\n",
    "    distance, suggestion = model.kneighbors(movie_pivot.iloc[movie_id, :].values.reshape(1, -1), n_neighbors=n_neighbors+1)\n",
    "    \n",
    "    # Skapa DataFrame med rekommenderade filmer\n",
    "    recommended_movies = pd.DataFrame({\n",
    "        \"title\": [movie_pivot.index[i] for i in suggestion[0] if i != movie_id],\n",
    "        \"cosine_similarity\": distance[0][1:]\n",
    "    })\n",
    "    \n",
    "    # Lägg till medelvärde av betyg och antal betyg\n",
    "    ratings_summary = final_rating.groupby(\"title\")[\"rating\"].agg([\"mean\", \"count\"]).reset_index()\n",
    "    recommended_movies = recommended_movies.merge(ratings_summary, on=\"title\", how=\"left\")\n",
    "    \n",
    "    scaler = MinMaxScaler()\n",
    "    recommended_movies[[\"mean\", \"count\", \"cosine_similarity\"]] = scaler.fit_transform(recommended_movies[[\"mean\", \"count\", \"cosine_similarity\"]].fillna(0))\n",
    "\n",
    "    # Träna linjär regression\n",
    "    X = recommended_movies[[\"cosine_similarity\", \"mean\", \"count\"]]\n",
    "    y = recommended_movies[\"mean\"]  # Använder medelbetyget som målvariabel\n",
    "    \n",
    "    model_rf = RandomForestRegressor()\n",
    "    model_rf.fit(X, y)\n",
    "    recommended_movies[\"score\"] = model_rf.predict(X)\n",
    "    top_5_movies = recommended_movies.sort_values(\"score\", ascending=False).head(5)\n",
    "    \n",
    "    return top_5_movies[[\"title\", \"score\"]]\n",
    "\n",
    "movie_names = \"Godfather, The (1972)\"\n",
    "print(recommend_with_regression(movie_names, movie_pivot, model, final_rating, n_neighbors = 200))\n"
   ]
  },
  {
   "cell_type": "code",
   "execution_count": 19,
   "metadata": {},
   "outputs": [],
   "source": [
    "import streamlit as st\n",
    "\n",
    "def streamlit(movie_names, movie_pivot, model):\n",
    "    st.title(\"Movie Recommender by LM\")\n",
    "\n",
    "    selected_movies = st.selectbox(\"Type or select a movie\", movie_names)\n",
    "\n",
    "    if st.button(\"Show Recommendeation\"):\n",
    "        movie_list = recommend(selected_movies, movie_pivot, model)\n",
    "        col1, col2, col3, col4, col5, = st.columns(5)\n",
    "        \n",
    "        with col1:\n",
    "            st.text(movie_list[1])\n",
    "        with col2:\n",
    "            st.text(movie_list[2])\n",
    "        with col3:\n",
    "            st.text(movie_list[3])\n",
    "        with col4:\n",
    "            st.text(movie_list[4])\n",
    "        with col5:\n",
    "            st.text(movie_list[5])"
   ]
  },
  {
   "cell_type": "code",
   "execution_count": 20,
   "metadata": {},
   "outputs": [],
   "source": [
    "def main():\n",
    "    movie_sparse, movie_pivot, final_rating = extract_features(movies, ratings)\n",
    "    movie_names, model = make_model(movie_sparse, movie_pivot)\n",
    "    movie_names = \"GoldenEye (1995)\"\n",
    "    print(recommend(movie_names, movie_pivot, model))\n",
    "\n",
    "    # streamlit(movie_names, movie_pivot, model)"
   ]
  },
  {
   "cell_type": "code",
   "execution_count": 21,
   "metadata": {},
   "outputs": [
    {
     "name": "stdout",
     "output_type": "stream",
     "text": [
      "['GoldenEye (1995)', 'Tomorrow Never Dies (1997)', 'Mission: Impossible (1996)', 'Rock, The (1996)', 'Die Hard: With a Vengeance (1995)', 'True Lies (1994)']\n"
     ]
    }
   ],
   "source": [
    "if __name__ == \"__main__\":\n",
    "    main()"
   ]
  }
 ],
 "metadata": {
  "kernelspec": {
   "display_name": ".venv",
   "language": "python",
   "name": "python3"
  },
  "language_info": {
   "codemirror_mode": {
    "name": "ipython",
    "version": 3
   },
   "file_extension": ".py",
   "mimetype": "text/x-python",
   "name": "python",
   "nbconvert_exporter": "python",
   "pygments_lexer": "ipython3",
   "version": "3.11.9"
  }
 },
 "nbformat": 4,
 "nbformat_minor": 2
}
