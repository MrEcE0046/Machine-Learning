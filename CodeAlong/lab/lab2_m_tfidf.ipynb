{
 "cells": [
  {
   "cell_type": "markdown",
   "metadata": {},
   "source": [
    "colab filtering vad andra gör, labben\n",
    "\n",
    "content filtering vad du har gillat, bara om man har konto, dem flesta rör sig mot content filt, \n",
    "\n",
    "filtrera på genre innan rek\n"
   ]
  },
  {
   "cell_type": "code",
   "execution_count": 2,
   "metadata": {},
   "outputs": [
    {
     "data": {
      "text/plain": [
       "'\\nboxhrsupport@ica.se skicka en ansökan med vilken områden jag vill LIA\\n'"
      ]
     },
     "execution_count": 2,
     "metadata": {},
     "output_type": "execute_result"
    }
   ],
   "source": [
    "# API nyckel df95d734039c3034368dbc0d3f33068c\n",
    "# nummer till ica 0104225040\n",
    "\"\"\"\n",
    "boxhrsupport@ica.se skicka en ansökan med vilken områden jag vill LIA\n",
    "\"\"\""
   ]
  },
  {
   "cell_type": "code",
   "execution_count": 3,
   "metadata": {},
   "outputs": [
    {
     "data": {
      "application/vnd.microsoft.datawrangler.viewer.v0+json": {
       "columns": [
        {
         "name": "index",
         "rawType": "int64",
         "type": "integer"
        },
        {
         "name": "userId",
         "rawType": "int64",
         "type": "integer"
        },
        {
         "name": "movieId",
         "rawType": "int64",
         "type": "integer"
        },
        {
         "name": "tag",
         "rawType": "object",
         "type": "unknown"
        },
        {
         "name": "timestamp",
         "rawType": "int64",
         "type": "integer"
        }
       ],
       "conversionMethod": "pd.DataFrame",
       "ref": "a54dc577-ec41-4fc6-846b-ccace88755b8",
       "rows": [
        [
         "0",
         "10",
         "260",
         "good vs evil",
         "1430666558"
        ],
        [
         "1",
         "10",
         "260",
         "Harrison Ford",
         "1430666505"
        ],
        [
         "2",
         "10",
         "260",
         "sci-fi",
         "1430666538"
        ],
        [
         "3",
         "14",
         "1221",
         "Al Pacino",
         "1311600756"
        ],
        [
         "4",
         "14",
         "1221",
         "mafia",
         "1311600746"
        ],
        [
         "5",
         "14",
         "58559",
         "Atmospheric",
         "1311530439"
        ],
        [
         "6",
         "14",
         "58559",
         "Batman",
         "1311530391"
        ],
        [
         "7",
         "14",
         "58559",
         "comic book",
         "1311530398"
        ],
        [
         "8",
         "14",
         "58559",
         "dark",
         "1311530428"
        ],
        [
         "9",
         "14",
         "58559",
         "Heath Ledger",
         "1311530404"
        ],
        [
         "10",
         "14",
         "58559",
         "imdb top 250",
         "1311530451"
        ],
        [
         "11",
         "14",
         "58559",
         "Michael Caine",
         "1311530407"
        ],
        [
         "12",
         "14",
         "58559",
         "Morgan Freeman",
         "1311530400"
        ],
        [
         "13",
         "14",
         "58559",
         "Oscar (Best Supporting Actor)",
         "1311530432"
        ],
        [
         "14",
         "14",
         "58559",
         "psychology",
         "1311530417"
        ],
        [
         "15",
         "14",
         "58559",
         "superhero",
         "1311530388"
        ],
        [
         "16",
         "14",
         "58559",
         "vigilante",
         "1311530423"
        ],
        [
         "17",
         "14",
         "58559",
         "violence",
         "1311530444"
        ],
        [
         "18",
         "16",
         "57183",
         "family",
         "1491353765"
        ],
        [
         "19",
         "26",
         "296",
         "crime",
         "1429398919"
        ],
        [
         "20",
         "26",
         "296",
         "cult film",
         "1429398919"
        ],
        [
         "21",
         "26",
         "296",
         "quentin tarantino",
         "1429398919"
        ],
        [
         "22",
         "37",
         "47",
         "Kevin Spacey",
         "1578167238"
        ],
        [
         "23",
         "37",
         "47",
         "Morgan Freeman",
         "1578167242"
        ],
        [
         "24",
         "37",
         "47",
         "powerful ending",
         "1578167246"
        ],
        [
         "25",
         "37",
         "47",
         "twist ending",
         "1578167240"
        ],
        [
         "26",
         "37",
         "165",
         "action",
         "1578164108"
        ],
        [
         "27",
         "37",
         "293",
         "Gary Oldman",
         "1578165432"
        ],
        [
         "28",
         "37",
         "293",
         "great acting",
         "1578165426"
        ],
        [
         "29",
         "37",
         "293",
         "Jean Reno",
         "1578165421"
        ],
        [
         "30",
         "37",
         "293",
         "Natalie Portman",
         "1578165423"
        ],
        [
         "31",
         "37",
         "480",
         "classic",
         "1578166087"
        ],
        [
         "32",
         "37",
         "480",
         "Steven Spielberg",
         "1578166078"
        ],
        [
         "33",
         "37",
         "527",
         "acting",
         "1578163193"
        ],
        [
         "34",
         "37",
         "527",
         "John Williams",
         "1578163155"
        ],
        [
         "35",
         "37",
         "527",
         "moving",
         "1578163178"
        ],
        [
         "36",
         "37",
         "541",
         "classic",
         "1578164881"
        ],
        [
         "37",
         "37",
         "541",
         "dystopia",
         "1578164862"
        ],
        [
         "38",
         "37",
         "541",
         "sci-fi",
         "1578164865"
        ],
        [
         "39",
         "37",
         "589",
         "action",
         "1578164676"
        ],
        [
         "40",
         "37",
         "589",
         "classic",
         "1578164653"
        ],
        [
         "41",
         "37",
         "593",
         "acting",
         "1578163273"
        ],
        [
         "42",
         "37",
         "593",
         "Anthony Hopkins",
         "1578163262"
        ],
        [
         "43",
         "37",
         "1036",
         "action",
         "1578164028"
        ],
        [
         "44",
         "37",
         "1036",
         "Alan Rickman",
         "1578164033"
        ],
        [
         "45",
         "37",
         "1036",
         "classic",
         "1578164076"
        ],
        [
         "46",
         "37",
         "1036",
         "tense",
         "1578164054"
        ],
        [
         "47",
         "37",
         "1127",
         "acting",
         "1578166472"
        ],
        [
         "48",
         "37",
         "1127",
         "Ed Harris",
         "1578166458"
        ],
        [
         "49",
         "37",
         "1127",
         "James Cameron",
         "1578166452"
        ]
       ],
       "shape": {
        "columns": 4,
        "rows": 2328315
       }
      },
      "text/html": [
       "<div>\n",
       "<style scoped>\n",
       "    .dataframe tbody tr th:only-of-type {\n",
       "        vertical-align: middle;\n",
       "    }\n",
       "\n",
       "    .dataframe tbody tr th {\n",
       "        vertical-align: top;\n",
       "    }\n",
       "\n",
       "    .dataframe thead th {\n",
       "        text-align: right;\n",
       "    }\n",
       "</style>\n",
       "<table border=\"1\" class=\"dataframe\">\n",
       "  <thead>\n",
       "    <tr style=\"text-align: right;\">\n",
       "      <th></th>\n",
       "      <th>userId</th>\n",
       "      <th>movieId</th>\n",
       "      <th>tag</th>\n",
       "      <th>timestamp</th>\n",
       "    </tr>\n",
       "  </thead>\n",
       "  <tbody>\n",
       "    <tr>\n",
       "      <th>0</th>\n",
       "      <td>10</td>\n",
       "      <td>260</td>\n",
       "      <td>good vs evil</td>\n",
       "      <td>1430666558</td>\n",
       "    </tr>\n",
       "    <tr>\n",
       "      <th>1</th>\n",
       "      <td>10</td>\n",
       "      <td>260</td>\n",
       "      <td>Harrison Ford</td>\n",
       "      <td>1430666505</td>\n",
       "    </tr>\n",
       "    <tr>\n",
       "      <th>2</th>\n",
       "      <td>10</td>\n",
       "      <td>260</td>\n",
       "      <td>sci-fi</td>\n",
       "      <td>1430666538</td>\n",
       "    </tr>\n",
       "    <tr>\n",
       "      <th>3</th>\n",
       "      <td>14</td>\n",
       "      <td>1221</td>\n",
       "      <td>Al Pacino</td>\n",
       "      <td>1311600756</td>\n",
       "    </tr>\n",
       "    <tr>\n",
       "      <th>4</th>\n",
       "      <td>14</td>\n",
       "      <td>1221</td>\n",
       "      <td>mafia</td>\n",
       "      <td>1311600746</td>\n",
       "    </tr>\n",
       "    <tr>\n",
       "      <th>...</th>\n",
       "      <td>...</td>\n",
       "      <td>...</td>\n",
       "      <td>...</td>\n",
       "      <td>...</td>\n",
       "    </tr>\n",
       "    <tr>\n",
       "      <th>2328310</th>\n",
       "      <td>330923</td>\n",
       "      <td>176599</td>\n",
       "      <td>politically correct</td>\n",
       "      <td>1507547491</td>\n",
       "    </tr>\n",
       "    <tr>\n",
       "      <th>2328311</th>\n",
       "      <td>330933</td>\n",
       "      <td>3317</td>\n",
       "      <td>coming of age</td>\n",
       "      <td>1351279384</td>\n",
       "    </tr>\n",
       "    <tr>\n",
       "      <th>2328312</th>\n",
       "      <td>330933</td>\n",
       "      <td>3317</td>\n",
       "      <td>sexuality</td>\n",
       "      <td>1351279389</td>\n",
       "    </tr>\n",
       "    <tr>\n",
       "      <th>2328313</th>\n",
       "      <td>330947</td>\n",
       "      <td>5782</td>\n",
       "      <td>Not Luc Besson</td>\n",
       "      <td>1154110902</td>\n",
       "    </tr>\n",
       "    <tr>\n",
       "      <th>2328314</th>\n",
       "      <td>330947</td>\n",
       "      <td>44191</td>\n",
       "      <td>comic book</td>\n",
       "      <td>1154271525</td>\n",
       "    </tr>\n",
       "  </tbody>\n",
       "</table>\n",
       "<p>2328315 rows × 4 columns</p>\n",
       "</div>"
      ],
      "text/plain": [
       "         userId  movieId                  tag   timestamp\n",
       "0            10      260         good vs evil  1430666558\n",
       "1            10      260        Harrison Ford  1430666505\n",
       "2            10      260               sci-fi  1430666538\n",
       "3            14     1221            Al Pacino  1311600756\n",
       "4            14     1221                mafia  1311600746\n",
       "...         ...      ...                  ...         ...\n",
       "2328310  330923   176599  politically correct  1507547491\n",
       "2328311  330933     3317        coming of age  1351279384\n",
       "2328312  330933     3317            sexuality  1351279389\n",
       "2328313  330947     5782       Not Luc Besson  1154110902\n",
       "2328314  330947    44191           comic book  1154271525\n",
       "\n",
       "[2328315 rows x 4 columns]"
      ]
     },
     "execution_count": 3,
     "metadata": {},
     "output_type": "execute_result"
    }
   ],
   "source": [
    "import pandas as pd \n",
    "\n",
    "tags = pd.read_csv(\"Tags.csv\")\n",
    "tags"
   ]
  },
  {
   "cell_type": "code",
   "execution_count": 4,
   "metadata": {},
   "outputs": [
    {
     "data": {
      "text/plain": [
       "tag\n",
       "sci-fi                      14319\n",
       "atmospheric                 12172\n",
       "action                      10683\n",
       "comedy                      10161\n",
       "surreal                      9142\n",
       "                            ...  \n",
       "tree disease                    1\n",
       "toulouse france                 1\n",
       "stink                           1\n",
       "What did I just watch?!?        1\n",
       "condom reference                1\n",
       "Name: count, Length: 153949, dtype: int64"
      ]
     },
     "execution_count": 4,
     "metadata": {},
     "output_type": "execute_result"
    }
   ],
   "source": [
    "tags[\"tag\"].value_counts()"
   ]
  },
  {
   "cell_type": "code",
   "execution_count": 5,
   "metadata": {},
   "outputs": [
    {
     "data": {
      "text/plain": [
       "(86537, 3)"
      ]
     },
     "execution_count": 5,
     "metadata": {},
     "output_type": "execute_result"
    }
   ],
   "source": [
    "movies = pd.read_csv(\"movies.csv\")\n",
    "movies.shape"
   ]
  },
  {
   "cell_type": "code",
   "execution_count": 6,
   "metadata": {},
   "outputs": [
    {
     "data": {
      "text/plain": [
       "86330"
      ]
     },
     "execution_count": 6,
     "metadata": {},
     "output_type": "execute_result"
    }
   ],
   "source": [
    "movies[\"title\"].unique().size "
   ]
  },
  {
   "cell_type": "code",
   "execution_count": 7,
   "metadata": {},
   "outputs": [
    {
     "data": {
      "application/vnd.microsoft.datawrangler.viewer.v0+json": {
       "columns": [
        {
         "name": "index",
         "rawType": "int64",
         "type": "integer"
        },
        {
         "name": "userId",
         "rawType": "int64",
         "type": "integer"
        },
        {
         "name": "movieId",
         "rawType": "int64",
         "type": "integer"
        },
        {
         "name": "rating",
         "rawType": "float64",
         "type": "float"
        },
        {
         "name": "timestamp",
         "rawType": "int64",
         "type": "integer"
        }
       ],
       "conversionMethod": "pd.DataFrame",
       "ref": "a0e60f22-d82f-47ff-b74e-edeb40bbad41",
       "rows": [
        [
         "0",
         "1",
         "1",
         "4.0",
         "1225734739"
        ],
        [
         "1",
         "1",
         "110",
         "4.0",
         "1225865086"
        ],
        [
         "2",
         "1",
         "158",
         "4.0",
         "1225733503"
        ],
        [
         "3",
         "1",
         "260",
         "4.5",
         "1225735204"
        ],
        [
         "4",
         "1",
         "356",
         "5.0",
         "1225735119"
        ],
        [
         "5",
         "1",
         "381",
         "3.5",
         "1225734105"
        ],
        [
         "6",
         "1",
         "596",
         "4.0",
         "1225733524"
        ],
        [
         "7",
         "1",
         "1036",
         "5.0",
         "1225735626"
        ],
        [
         "8",
         "1",
         "1049",
         "3.0",
         "1225734079"
        ],
        [
         "9",
         "1",
         "1066",
         "4.0",
         "1225736961"
        ],
        [
         "10",
         "1",
         "1196",
         "3.5",
         "1225735441"
        ],
        [
         "11",
         "1",
         "1200",
         "3.5",
         "1225735861"
        ],
        [
         "12",
         "1",
         "1210",
         "4.5",
         "1225735210"
        ],
        [
         "13",
         "1",
         "1214",
         "4.0",
         "1225736426"
        ],
        [
         "14",
         "1",
         "1291",
         "5.0",
         "1225734809"
        ],
        [
         "15",
         "1",
         "1293",
         "2.0",
         "1225733842"
        ],
        [
         "16",
         "1",
         "1376",
         "3.0",
         "1225733539"
        ],
        [
         "17",
         "1",
         "1396",
         "3.0",
         "1225733534"
        ],
        [
         "18",
         "1",
         "1537",
         "4.0",
         "1225736687"
        ],
        [
         "19",
         "1",
         "1909",
         "3.0",
         "1225733717"
        ],
        [
         "20",
         "1",
         "1959",
         "4.0",
         "1225734190"
        ],
        [
         "21",
         "1",
         "1960",
         "4.0",
         "1225733965"
        ],
        [
         "22",
         "1",
         "2028",
         "5.0",
         "1225735007"
        ],
        [
         "23",
         "1",
         "2085",
         "3.5",
         "1225733974"
        ],
        [
         "24",
         "1",
         "2116",
         "4.0",
         "1225734179"
        ],
        [
         "25",
         "1",
         "2336",
         "3.5",
         "1225733831"
        ],
        [
         "26",
         "1",
         "2571",
         "2.5",
         "1225736197"
        ],
        [
         "27",
         "1",
         "2671",
         "4.0",
         "1225737459"
        ],
        [
         "28",
         "1",
         "2762",
         "5.0",
         "1225735017"
        ],
        [
         "29",
         "1",
         "2804",
         "3.0",
         "1225735064"
        ],
        [
         "30",
         "1",
         "2908",
         "4.0",
         "1225735872"
        ],
        [
         "31",
         "1",
         "3363",
         "3.0",
         "1225733955"
        ],
        [
         "32",
         "1",
         "3578",
         "5.0",
         "1225735309"
        ],
        [
         "33",
         "1",
         "4246",
         "4.0",
         "1225737285"
        ],
        [
         "34",
         "1",
         "4306",
         "4.0",
         "1225735196"
        ],
        [
         "35",
         "1",
         "4699",
         "3.5",
         "1225737315"
        ],
        [
         "36",
         "1",
         "4886",
         "5.0",
         "1225734829"
        ],
        [
         "37",
         "1",
         "4896",
         "4.0",
         "1225733516"
        ],
        [
         "38",
         "1",
         "4993",
         "4.0",
         "1225735139"
        ],
        [
         "39",
         "1",
         "4995",
         "5.0",
         "1225734583"
        ],
        [
         "40",
         "1",
         "5952",
         "4.5",
         "1225735159"
        ],
        [
         "41",
         "1",
         "6539",
         "4.0",
         "1225735722"
        ],
        [
         "42",
         "1",
         "7064",
         "3.5",
         "1225736442"
        ],
        [
         "43",
         "1",
         "7122",
         "4.0",
         "1225736170"
        ],
        [
         "44",
         "1",
         "7139",
         "3.0",
         "1225734788"
        ],
        [
         "45",
         "1",
         "7153",
         "5.0",
         "1225735149"
        ],
        [
         "46",
         "1",
         "7162",
         "4.0",
         "1225737335"
        ],
        [
         "47",
         "1",
         "7366",
         "3.5",
         "1225737488"
        ],
        [
         "48",
         "1",
         "7706",
         "3.5",
         "1225735053"
        ],
        [
         "49",
         "1",
         "8132",
         "5.0",
         "1225865124"
        ]
       ],
       "shape": {
        "columns": 4,
        "rows": 33832162
       }
      },
      "text/html": [
       "<div>\n",
       "<style scoped>\n",
       "    .dataframe tbody tr th:only-of-type {\n",
       "        vertical-align: middle;\n",
       "    }\n",
       "\n",
       "    .dataframe tbody tr th {\n",
       "        vertical-align: top;\n",
       "    }\n",
       "\n",
       "    .dataframe thead th {\n",
       "        text-align: right;\n",
       "    }\n",
       "</style>\n",
       "<table border=\"1\" class=\"dataframe\">\n",
       "  <thead>\n",
       "    <tr style=\"text-align: right;\">\n",
       "      <th></th>\n",
       "      <th>userId</th>\n",
       "      <th>movieId</th>\n",
       "      <th>rating</th>\n",
       "      <th>timestamp</th>\n",
       "    </tr>\n",
       "  </thead>\n",
       "  <tbody>\n",
       "    <tr>\n",
       "      <th>0</th>\n",
       "      <td>1</td>\n",
       "      <td>1</td>\n",
       "      <td>4.0</td>\n",
       "      <td>1225734739</td>\n",
       "    </tr>\n",
       "    <tr>\n",
       "      <th>1</th>\n",
       "      <td>1</td>\n",
       "      <td>110</td>\n",
       "      <td>4.0</td>\n",
       "      <td>1225865086</td>\n",
       "    </tr>\n",
       "    <tr>\n",
       "      <th>2</th>\n",
       "      <td>1</td>\n",
       "      <td>158</td>\n",
       "      <td>4.0</td>\n",
       "      <td>1225733503</td>\n",
       "    </tr>\n",
       "    <tr>\n",
       "      <th>3</th>\n",
       "      <td>1</td>\n",
       "      <td>260</td>\n",
       "      <td>4.5</td>\n",
       "      <td>1225735204</td>\n",
       "    </tr>\n",
       "    <tr>\n",
       "      <th>4</th>\n",
       "      <td>1</td>\n",
       "      <td>356</td>\n",
       "      <td>5.0</td>\n",
       "      <td>1225735119</td>\n",
       "    </tr>\n",
       "    <tr>\n",
       "      <th>...</th>\n",
       "      <td>...</td>\n",
       "      <td>...</td>\n",
       "      <td>...</td>\n",
       "      <td>...</td>\n",
       "    </tr>\n",
       "    <tr>\n",
       "      <th>33832157</th>\n",
       "      <td>330975</td>\n",
       "      <td>8340</td>\n",
       "      <td>2.0</td>\n",
       "      <td>1091583256</td>\n",
       "    </tr>\n",
       "    <tr>\n",
       "      <th>33832158</th>\n",
       "      <td>330975</td>\n",
       "      <td>8493</td>\n",
       "      <td>2.5</td>\n",
       "      <td>1091585709</td>\n",
       "    </tr>\n",
       "    <tr>\n",
       "      <th>33832159</th>\n",
       "      <td>330975</td>\n",
       "      <td>8622</td>\n",
       "      <td>4.0</td>\n",
       "      <td>1091581777</td>\n",
       "    </tr>\n",
       "    <tr>\n",
       "      <th>33832160</th>\n",
       "      <td>330975</td>\n",
       "      <td>8665</td>\n",
       "      <td>3.0</td>\n",
       "      <td>1091581765</td>\n",
       "    </tr>\n",
       "    <tr>\n",
       "      <th>33832161</th>\n",
       "      <td>330975</td>\n",
       "      <td>8783</td>\n",
       "      <td>2.5</td>\n",
       "      <td>1091581799</td>\n",
       "    </tr>\n",
       "  </tbody>\n",
       "</table>\n",
       "<p>33832162 rows × 4 columns</p>\n",
       "</div>"
      ],
      "text/plain": [
       "          userId  movieId  rating   timestamp\n",
       "0              1        1     4.0  1225734739\n",
       "1              1      110     4.0  1225865086\n",
       "2              1      158     4.0  1225733503\n",
       "3              1      260     4.5  1225735204\n",
       "4              1      356     5.0  1225735119\n",
       "...          ...      ...     ...         ...\n",
       "33832157  330975     8340     2.0  1091583256\n",
       "33832158  330975     8493     2.5  1091585709\n",
       "33832159  330975     8622     4.0  1091581777\n",
       "33832160  330975     8665     3.0  1091581765\n",
       "33832161  330975     8783     2.5  1091581799\n",
       "\n",
       "[33832162 rows x 4 columns]"
      ]
     },
     "execution_count": 7,
     "metadata": {},
     "output_type": "execute_result"
    }
   ],
   "source": [
    "ratings = pd.read_csv(\"ratings.csv\")\n",
    "ratings"
   ]
  },
  {
   "cell_type": "code",
   "execution_count": 8,
   "metadata": {},
   "outputs": [
    {
     "data": {
      "text/plain": [
       "userId\n",
       "189614    33332\n",
       "48766      9554\n",
       "207216     9178\n",
       "175998     9016\n",
       "76618      8919\n",
       "          ...  \n",
       "118297        1\n",
       "228609        1\n",
       "159558        1\n",
       "12701         1\n",
       "104595        1\n",
       "Name: count, Length: 330975, dtype: int64"
      ]
     },
     "execution_count": 8,
     "metadata": {},
     "output_type": "execute_result"
    }
   ],
   "source": [
    "ratings[\"userId\"].value_counts()"
   ]
  },
  {
   "cell_type": "code",
   "execution_count": 9,
   "metadata": {},
   "outputs": [
    {
     "data": {
      "text/plain": [
       "(330975,)"
      ]
     },
     "execution_count": 9,
     "metadata": {},
     "output_type": "execute_result"
    }
   ],
   "source": [
    "x = ratings[\"userId\"].value_counts() > 200\n",
    "x.shape"
   ]
  },
  {
   "cell_type": "code",
   "execution_count": 10,
   "metadata": {},
   "outputs": [
    {
     "data": {
      "text/plain": [
       "(25280, 330975)"
      ]
     },
     "execution_count": 10,
     "metadata": {},
     "output_type": "execute_result"
    }
   ],
   "source": [
    "len(tags[\"userId\"].unique()), len(ratings[\"userId\"].unique())"
   ]
  },
  {
   "cell_type": "code",
   "execution_count": 11,
   "metadata": {},
   "outputs": [
    {
     "data": {
      "application/vnd.microsoft.datawrangler.viewer.v0+json": {
       "columns": [
        {
         "name": "index",
         "rawType": "int64",
         "type": "integer"
        },
        {
         "name": "movieId",
         "rawType": "int64",
         "type": "integer"
        },
        {
         "name": "imdbId",
         "rawType": "int64",
         "type": "integer"
        },
        {
         "name": "tmdbId",
         "rawType": "float64",
         "type": "float"
        }
       ],
       "conversionMethod": "pd.DataFrame",
       "ref": "378fd51b-f0a7-49d6-95b7-50255bf2fce7",
       "rows": [
        [
         "0",
         "1",
         "114709",
         "862.0"
        ],
        [
         "1",
         "2",
         "113497",
         "8844.0"
        ],
        [
         "2",
         "3",
         "113228",
         "15602.0"
        ],
        [
         "3",
         "4",
         "114885",
         "31357.0"
        ],
        [
         "4",
         "5",
         "113041",
         "11862.0"
        ]
       ],
       "shape": {
        "columns": 3,
        "rows": 5
       }
      },
      "text/html": [
       "<div>\n",
       "<style scoped>\n",
       "    .dataframe tbody tr th:only-of-type {\n",
       "        vertical-align: middle;\n",
       "    }\n",
       "\n",
       "    .dataframe tbody tr th {\n",
       "        vertical-align: top;\n",
       "    }\n",
       "\n",
       "    .dataframe thead th {\n",
       "        text-align: right;\n",
       "    }\n",
       "</style>\n",
       "<table border=\"1\" class=\"dataframe\">\n",
       "  <thead>\n",
       "    <tr style=\"text-align: right;\">\n",
       "      <th></th>\n",
       "      <th>movieId</th>\n",
       "      <th>imdbId</th>\n",
       "      <th>tmdbId</th>\n",
       "    </tr>\n",
       "  </thead>\n",
       "  <tbody>\n",
       "    <tr>\n",
       "      <th>0</th>\n",
       "      <td>1</td>\n",
       "      <td>114709</td>\n",
       "      <td>862.0</td>\n",
       "    </tr>\n",
       "    <tr>\n",
       "      <th>1</th>\n",
       "      <td>2</td>\n",
       "      <td>113497</td>\n",
       "      <td>8844.0</td>\n",
       "    </tr>\n",
       "    <tr>\n",
       "      <th>2</th>\n",
       "      <td>3</td>\n",
       "      <td>113228</td>\n",
       "      <td>15602.0</td>\n",
       "    </tr>\n",
       "    <tr>\n",
       "      <th>3</th>\n",
       "      <td>4</td>\n",
       "      <td>114885</td>\n",
       "      <td>31357.0</td>\n",
       "    </tr>\n",
       "    <tr>\n",
       "      <th>4</th>\n",
       "      <td>5</td>\n",
       "      <td>113041</td>\n",
       "      <td>11862.0</td>\n",
       "    </tr>\n",
       "  </tbody>\n",
       "</table>\n",
       "</div>"
      ],
      "text/plain": [
       "   movieId  imdbId   tmdbId\n",
       "0        1  114709    862.0\n",
       "1        2  113497   8844.0\n",
       "2        3  113228  15602.0\n",
       "3        4  114885  31357.0\n",
       "4        5  113041  11862.0"
      ]
     },
     "execution_count": 11,
     "metadata": {},
     "output_type": "execute_result"
    }
   ],
   "source": [
    "links = pd.read_csv(\"links.csv\")\n",
    "links.head(5)"
   ]
  },
  {
   "cell_type": "code",
   "execution_count": 12,
   "metadata": {},
   "outputs": [
    {
     "data": {
      "application/vnd.microsoft.datawrangler.viewer.v0+json": {
       "columns": [
        {
         "name": "index",
         "rawType": "int64",
         "type": "integer"
        },
        {
         "name": "movieId",
         "rawType": "int64",
         "type": "integer"
        },
        {
         "name": "imdbId",
         "rawType": "int64",
         "type": "integer"
        },
        {
         "name": "tmdbId",
         "rawType": "float64",
         "type": "float"
        }
       ],
       "conversionMethod": "pd.DataFrame",
       "ref": "06f239a9-11d7-4abe-8ec4-3cc8d2f7e2e2",
       "rows": [
        [
         "1191",
         "1222",
         "93058",
         "600.0"
        ]
       ],
       "shape": {
        "columns": 3,
        "rows": 1
       }
      },
      "text/html": [
       "<div>\n",
       "<style scoped>\n",
       "    .dataframe tbody tr th:only-of-type {\n",
       "        vertical-align: middle;\n",
       "    }\n",
       "\n",
       "    .dataframe tbody tr th {\n",
       "        vertical-align: top;\n",
       "    }\n",
       "\n",
       "    .dataframe thead th {\n",
       "        text-align: right;\n",
       "    }\n",
       "</style>\n",
       "<table border=\"1\" class=\"dataframe\">\n",
       "  <thead>\n",
       "    <tr style=\"text-align: right;\">\n",
       "      <th></th>\n",
       "      <th>movieId</th>\n",
       "      <th>imdbId</th>\n",
       "      <th>tmdbId</th>\n",
       "    </tr>\n",
       "  </thead>\n",
       "  <tbody>\n",
       "    <tr>\n",
       "      <th>1191</th>\n",
       "      <td>1222</td>\n",
       "      <td>93058</td>\n",
       "      <td>600.0</td>\n",
       "    </tr>\n",
       "  </tbody>\n",
       "</table>\n",
       "</div>"
      ],
      "text/plain": [
       "      movieId  imdbId  tmdbId\n",
       "1191     1222   93058   600.0"
      ]
     },
     "execution_count": 12,
     "metadata": {},
     "output_type": "execute_result"
    }
   ],
   "source": [
    "links[links[\"tmdbId\"] == 600]\n",
    "# TODO merga tmdbId med movie set, det är tmdbId som används för att söka information"
   ]
  },
  {
   "cell_type": "code",
   "execution_count": 13,
   "metadata": {},
   "outputs": [
    {
     "data": {
      "application/vnd.microsoft.datawrangler.viewer.v0+json": {
       "columns": [
        {
         "name": "index",
         "rawType": "int64",
         "type": "integer"
        },
        {
         "name": "movieId",
         "rawType": "int64",
         "type": "integer"
        },
        {
         "name": "title",
         "rawType": "object",
         "type": "string"
        },
        {
         "name": "genres",
         "rawType": "object",
         "type": "string"
        }
       ],
       "conversionMethod": "pd.DataFrame",
       "ref": "95d16927-b8c5-49fa-8033-e2fe62b08c5d",
       "rows": [
        [
         "1191",
         "1222",
         "Full Metal Jacket (1987)",
         "Drama|War"
        ]
       ],
       "shape": {
        "columns": 3,
        "rows": 1
       }
      },
      "text/html": [
       "<div>\n",
       "<style scoped>\n",
       "    .dataframe tbody tr th:only-of-type {\n",
       "        vertical-align: middle;\n",
       "    }\n",
       "\n",
       "    .dataframe tbody tr th {\n",
       "        vertical-align: top;\n",
       "    }\n",
       "\n",
       "    .dataframe thead th {\n",
       "        text-align: right;\n",
       "    }\n",
       "</style>\n",
       "<table border=\"1\" class=\"dataframe\">\n",
       "  <thead>\n",
       "    <tr style=\"text-align: right;\">\n",
       "      <th></th>\n",
       "      <th>movieId</th>\n",
       "      <th>title</th>\n",
       "      <th>genres</th>\n",
       "    </tr>\n",
       "  </thead>\n",
       "  <tbody>\n",
       "    <tr>\n",
       "      <th>1191</th>\n",
       "      <td>1222</td>\n",
       "      <td>Full Metal Jacket (1987)</td>\n",
       "      <td>Drama|War</td>\n",
       "    </tr>\n",
       "  </tbody>\n",
       "</table>\n",
       "</div>"
      ],
      "text/plain": [
       "      movieId                     title     genres\n",
       "1191     1222  Full Metal Jacket (1987)  Drama|War"
      ]
     },
     "execution_count": 13,
     "metadata": {},
     "output_type": "execute_result"
    }
   ],
   "source": [
    "movies = pd.read_csv(\"movies.csv\")\n",
    "movies[movies[\"movieId\"] == 1222]"
   ]
  },
  {
   "cell_type": "code",
   "execution_count": 14,
   "metadata": {},
   "outputs": [
    {
     "data": {
      "application/vnd.microsoft.datawrangler.viewer.v0+json": {
       "columns": [
        {
         "name": "index",
         "rawType": "int64",
         "type": "integer"
        },
        {
         "name": "movieId",
         "rawType": "int64",
         "type": "integer"
        },
        {
         "name": "title",
         "rawType": "object",
         "type": "string"
        },
        {
         "name": "genres",
         "rawType": "object",
         "type": "string"
        }
       ],
       "conversionMethod": "pd.DataFrame",
       "ref": "95434ec7-68e8-4ed7-9b32-c1ccca3652bb",
       "rows": [
        [
         "0",
         "1",
         "Toy Story (1995)",
         "Adventure|Animation|Children|Comedy|Fantasy"
        ],
        [
         "1",
         "2",
         "Jumanji (1995)",
         "Adventure|Children|Fantasy"
        ],
        [
         "2",
         "3",
         "Grumpier Old Men (1995)",
         "Comedy|Romance"
        ],
        [
         "3",
         "4",
         "Waiting to Exhale (1995)",
         "Comedy|Drama|Romance"
        ],
        [
         "4",
         "5",
         "Father of the Bride Part II (1995)",
         "Comedy"
        ]
       ],
       "shape": {
        "columns": 3,
        "rows": 5
       }
      },
      "text/html": [
       "<div>\n",
       "<style scoped>\n",
       "    .dataframe tbody tr th:only-of-type {\n",
       "        vertical-align: middle;\n",
       "    }\n",
       "\n",
       "    .dataframe tbody tr th {\n",
       "        vertical-align: top;\n",
       "    }\n",
       "\n",
       "    .dataframe thead th {\n",
       "        text-align: right;\n",
       "    }\n",
       "</style>\n",
       "<table border=\"1\" class=\"dataframe\">\n",
       "  <thead>\n",
       "    <tr style=\"text-align: right;\">\n",
       "      <th></th>\n",
       "      <th>movieId</th>\n",
       "      <th>title</th>\n",
       "      <th>genres</th>\n",
       "    </tr>\n",
       "  </thead>\n",
       "  <tbody>\n",
       "    <tr>\n",
       "      <th>0</th>\n",
       "      <td>1</td>\n",
       "      <td>Toy Story (1995)</td>\n",
       "      <td>Adventure|Animation|Children|Comedy|Fantasy</td>\n",
       "    </tr>\n",
       "    <tr>\n",
       "      <th>1</th>\n",
       "      <td>2</td>\n",
       "      <td>Jumanji (1995)</td>\n",
       "      <td>Adventure|Children|Fantasy</td>\n",
       "    </tr>\n",
       "    <tr>\n",
       "      <th>2</th>\n",
       "      <td>3</td>\n",
       "      <td>Grumpier Old Men (1995)</td>\n",
       "      <td>Comedy|Romance</td>\n",
       "    </tr>\n",
       "    <tr>\n",
       "      <th>3</th>\n",
       "      <td>4</td>\n",
       "      <td>Waiting to Exhale (1995)</td>\n",
       "      <td>Comedy|Drama|Romance</td>\n",
       "    </tr>\n",
       "    <tr>\n",
       "      <th>4</th>\n",
       "      <td>5</td>\n",
       "      <td>Father of the Bride Part II (1995)</td>\n",
       "      <td>Comedy</td>\n",
       "    </tr>\n",
       "  </tbody>\n",
       "</table>\n",
       "</div>"
      ],
      "text/plain": [
       "   movieId                               title  \\\n",
       "0        1                    Toy Story (1995)   \n",
       "1        2                      Jumanji (1995)   \n",
       "2        3             Grumpier Old Men (1995)   \n",
       "3        4            Waiting to Exhale (1995)   \n",
       "4        5  Father of the Bride Part II (1995)   \n",
       "\n",
       "                                        genres  \n",
       "0  Adventure|Animation|Children|Comedy|Fantasy  \n",
       "1                   Adventure|Children|Fantasy  \n",
       "2                               Comedy|Romance  \n",
       "3                         Comedy|Drama|Romance  \n",
       "4                                       Comedy  "
      ]
     },
     "execution_count": 14,
     "metadata": {},
     "output_type": "execute_result"
    }
   ],
   "source": [
    "movies.head(5)\n"
   ]
  },
  {
   "cell_type": "code",
   "execution_count": 15,
   "metadata": {},
   "outputs": [
    {
     "data": {
      "application/vnd.microsoft.datawrangler.viewer.v0+json": {
       "columns": [
        {
         "name": "index",
         "rawType": "int64",
         "type": "integer"
        },
        {
         "name": "movieId",
         "rawType": "int64",
         "type": "integer"
        },
        {
         "name": "title",
         "rawType": "object",
         "type": "string"
        },
        {
         "name": "genres",
         "rawType": "object",
         "type": "string"
        }
       ],
       "conversionMethod": "pd.DataFrame",
       "ref": "41dbd222-5dd6-413a-ac90-f011ff035dab",
       "rows": [
        [
         "0",
         "1",
         "Toy Story (1995)",
         "Adventure Animation Children Comedy Fantasy"
        ],
        [
         "1",
         "2",
         "Jumanji (1995)",
         "Adventure Children Fantasy"
        ]
       ],
       "shape": {
        "columns": 3,
        "rows": 2
       }
      },
      "text/html": [
       "<div>\n",
       "<style scoped>\n",
       "    .dataframe tbody tr th:only-of-type {\n",
       "        vertical-align: middle;\n",
       "    }\n",
       "\n",
       "    .dataframe tbody tr th {\n",
       "        vertical-align: top;\n",
       "    }\n",
       "\n",
       "    .dataframe thead th {\n",
       "        text-align: right;\n",
       "    }\n",
       "</style>\n",
       "<table border=\"1\" class=\"dataframe\">\n",
       "  <thead>\n",
       "    <tr style=\"text-align: right;\">\n",
       "      <th></th>\n",
       "      <th>movieId</th>\n",
       "      <th>title</th>\n",
       "      <th>genres</th>\n",
       "    </tr>\n",
       "  </thead>\n",
       "  <tbody>\n",
       "    <tr>\n",
       "      <th>0</th>\n",
       "      <td>1</td>\n",
       "      <td>Toy Story (1995)</td>\n",
       "      <td>Adventure Animation Children Comedy Fantasy</td>\n",
       "    </tr>\n",
       "    <tr>\n",
       "      <th>1</th>\n",
       "      <td>2</td>\n",
       "      <td>Jumanji (1995)</td>\n",
       "      <td>Adventure Children Fantasy</td>\n",
       "    </tr>\n",
       "  </tbody>\n",
       "</table>\n",
       "</div>"
      ],
      "text/plain": [
       "   movieId             title                                       genres\n",
       "0        1  Toy Story (1995)  Adventure Animation Children Comedy Fantasy\n",
       "1        2    Jumanji (1995)                   Adventure Children Fantasy"
      ]
     },
     "execution_count": 15,
     "metadata": {},
     "output_type": "execute_result"
    }
   ],
   "source": [
    "movies[\"genres\"] = movies[\"genres\"].str.replace(\"|\", \" \", regex=False)\n",
    "movies.head(2)"
   ]
  },
  {
   "cell_type": "code",
   "execution_count": 16,
   "metadata": {},
   "outputs": [
    {
     "data": {
      "text/plain": [
       "'from functools import cache\\n@cache\\ndef load_data():\\n    \\n'"
      ]
     },
     "execution_count": 16,
     "metadata": {},
     "output_type": "execute_result"
    }
   ],
   "source": [
    "\"\"\"from functools import cache\n",
    "@cache\n",
    "def load_data():\n",
    "    \n",
    "\"\"\""
   ]
  },
  {
   "cell_type": "code",
   "execution_count": 17,
   "metadata": {},
   "outputs": [
    {
     "name": "stdout",
     "output_type": "stream",
     "text": [
      "<class 'pandas.core.frame.DataFrame'>\n",
      "RangeIndex: 2328315 entries, 0 to 2328314\n",
      "Data columns (total 4 columns):\n",
      " #   Column     Dtype \n",
      "---  ------     ----- \n",
      " 0   userId     int64 \n",
      " 1   movieId    int64 \n",
      " 2   tag        object\n",
      " 3   timestamp  int64 \n",
      "dtypes: int64(3), object(1)\n",
      "memory usage: 71.1+ MB\n"
     ]
    }
   ],
   "source": [
    "tags.info()"
   ]
  },
  {
   "cell_type": "code",
   "execution_count": 18,
   "metadata": {},
   "outputs": [
    {
     "data": {
      "application/vnd.microsoft.datawrangler.viewer.v0+json": {
       "columns": [
        {
         "name": "index",
         "rawType": "int64",
         "type": "integer"
        },
        {
         "name": "userId",
         "rawType": "int64",
         "type": "integer"
        },
        {
         "name": "movieId",
         "rawType": "int64",
         "type": "integer"
        },
        {
         "name": "tag",
         "rawType": "object",
         "type": "string"
        },
        {
         "name": "timestamp",
         "rawType": "int64",
         "type": "integer"
        }
       ],
       "conversionMethod": "pd.DataFrame",
       "ref": "2f5379ea-f595-4b85-9de8-114c8a0186b0",
       "rows": [
        [
         "0",
         "10",
         "260",
         "good vs evil",
         "1430666558"
        ],
        [
         "1",
         "10",
         "260",
         "Harrison Ford",
         "1430666505"
        ],
        [
         "2",
         "10",
         "260",
         "sci-fi",
         "1430666538"
        ],
        [
         "3",
         "14",
         "1221",
         "Al Pacino",
         "1311600756"
        ],
        [
         "4",
         "14",
         "1221",
         "mafia",
         "1311600746"
        ],
        [
         "5",
         "14",
         "58559",
         "Atmospheric",
         "1311530439"
        ],
        [
         "6",
         "14",
         "58559",
         "Batman",
         "1311530391"
        ],
        [
         "7",
         "14",
         "58559",
         "comic book",
         "1311530398"
        ],
        [
         "8",
         "14",
         "58559",
         "dark",
         "1311530428"
        ],
        [
         "9",
         "14",
         "58559",
         "Heath Ledger",
         "1311530404"
        ],
        [
         "10",
         "14",
         "58559",
         "imdb top 250",
         "1311530451"
        ],
        [
         "11",
         "14",
         "58559",
         "Michael Caine",
         "1311530407"
        ],
        [
         "12",
         "14",
         "58559",
         "Morgan Freeman",
         "1311530400"
        ],
        [
         "13",
         "14",
         "58559",
         "Oscar (Best Supporting Actor)",
         "1311530432"
        ],
        [
         "14",
         "14",
         "58559",
         "psychology",
         "1311530417"
        ],
        [
         "15",
         "14",
         "58559",
         "superhero",
         "1311530388"
        ],
        [
         "16",
         "14",
         "58559",
         "vigilante",
         "1311530423"
        ],
        [
         "17",
         "14",
         "58559",
         "violence",
         "1311530444"
        ],
        [
         "18",
         "16",
         "57183",
         "family",
         "1491353765"
        ],
        [
         "19",
         "26",
         "296",
         "crime",
         "1429398919"
        ]
       ],
       "shape": {
        "columns": 4,
        "rows": 20
       }
      },
      "text/html": [
       "<div>\n",
       "<style scoped>\n",
       "    .dataframe tbody tr th:only-of-type {\n",
       "        vertical-align: middle;\n",
       "    }\n",
       "\n",
       "    .dataframe tbody tr th {\n",
       "        vertical-align: top;\n",
       "    }\n",
       "\n",
       "    .dataframe thead th {\n",
       "        text-align: right;\n",
       "    }\n",
       "</style>\n",
       "<table border=\"1\" class=\"dataframe\">\n",
       "  <thead>\n",
       "    <tr style=\"text-align: right;\">\n",
       "      <th></th>\n",
       "      <th>userId</th>\n",
       "      <th>movieId</th>\n",
       "      <th>tag</th>\n",
       "      <th>timestamp</th>\n",
       "    </tr>\n",
       "  </thead>\n",
       "  <tbody>\n",
       "    <tr>\n",
       "      <th>0</th>\n",
       "      <td>10</td>\n",
       "      <td>260</td>\n",
       "      <td>good vs evil</td>\n",
       "      <td>1430666558</td>\n",
       "    </tr>\n",
       "    <tr>\n",
       "      <th>1</th>\n",
       "      <td>10</td>\n",
       "      <td>260</td>\n",
       "      <td>Harrison Ford</td>\n",
       "      <td>1430666505</td>\n",
       "    </tr>\n",
       "    <tr>\n",
       "      <th>2</th>\n",
       "      <td>10</td>\n",
       "      <td>260</td>\n",
       "      <td>sci-fi</td>\n",
       "      <td>1430666538</td>\n",
       "    </tr>\n",
       "    <tr>\n",
       "      <th>3</th>\n",
       "      <td>14</td>\n",
       "      <td>1221</td>\n",
       "      <td>Al Pacino</td>\n",
       "      <td>1311600756</td>\n",
       "    </tr>\n",
       "    <tr>\n",
       "      <th>4</th>\n",
       "      <td>14</td>\n",
       "      <td>1221</td>\n",
       "      <td>mafia</td>\n",
       "      <td>1311600746</td>\n",
       "    </tr>\n",
       "    <tr>\n",
       "      <th>5</th>\n",
       "      <td>14</td>\n",
       "      <td>58559</td>\n",
       "      <td>Atmospheric</td>\n",
       "      <td>1311530439</td>\n",
       "    </tr>\n",
       "    <tr>\n",
       "      <th>6</th>\n",
       "      <td>14</td>\n",
       "      <td>58559</td>\n",
       "      <td>Batman</td>\n",
       "      <td>1311530391</td>\n",
       "    </tr>\n",
       "    <tr>\n",
       "      <th>7</th>\n",
       "      <td>14</td>\n",
       "      <td>58559</td>\n",
       "      <td>comic book</td>\n",
       "      <td>1311530398</td>\n",
       "    </tr>\n",
       "    <tr>\n",
       "      <th>8</th>\n",
       "      <td>14</td>\n",
       "      <td>58559</td>\n",
       "      <td>dark</td>\n",
       "      <td>1311530428</td>\n",
       "    </tr>\n",
       "    <tr>\n",
       "      <th>9</th>\n",
       "      <td>14</td>\n",
       "      <td>58559</td>\n",
       "      <td>Heath Ledger</td>\n",
       "      <td>1311530404</td>\n",
       "    </tr>\n",
       "    <tr>\n",
       "      <th>10</th>\n",
       "      <td>14</td>\n",
       "      <td>58559</td>\n",
       "      <td>imdb top 250</td>\n",
       "      <td>1311530451</td>\n",
       "    </tr>\n",
       "    <tr>\n",
       "      <th>11</th>\n",
       "      <td>14</td>\n",
       "      <td>58559</td>\n",
       "      <td>Michael Caine</td>\n",
       "      <td>1311530407</td>\n",
       "    </tr>\n",
       "    <tr>\n",
       "      <th>12</th>\n",
       "      <td>14</td>\n",
       "      <td>58559</td>\n",
       "      <td>Morgan Freeman</td>\n",
       "      <td>1311530400</td>\n",
       "    </tr>\n",
       "    <tr>\n",
       "      <th>13</th>\n",
       "      <td>14</td>\n",
       "      <td>58559</td>\n",
       "      <td>Oscar (Best Supporting Actor)</td>\n",
       "      <td>1311530432</td>\n",
       "    </tr>\n",
       "    <tr>\n",
       "      <th>14</th>\n",
       "      <td>14</td>\n",
       "      <td>58559</td>\n",
       "      <td>psychology</td>\n",
       "      <td>1311530417</td>\n",
       "    </tr>\n",
       "    <tr>\n",
       "      <th>15</th>\n",
       "      <td>14</td>\n",
       "      <td>58559</td>\n",
       "      <td>superhero</td>\n",
       "      <td>1311530388</td>\n",
       "    </tr>\n",
       "    <tr>\n",
       "      <th>16</th>\n",
       "      <td>14</td>\n",
       "      <td>58559</td>\n",
       "      <td>vigilante</td>\n",
       "      <td>1311530423</td>\n",
       "    </tr>\n",
       "    <tr>\n",
       "      <th>17</th>\n",
       "      <td>14</td>\n",
       "      <td>58559</td>\n",
       "      <td>violence</td>\n",
       "      <td>1311530444</td>\n",
       "    </tr>\n",
       "    <tr>\n",
       "      <th>18</th>\n",
       "      <td>16</td>\n",
       "      <td>57183</td>\n",
       "      <td>family</td>\n",
       "      <td>1491353765</td>\n",
       "    </tr>\n",
       "    <tr>\n",
       "      <th>19</th>\n",
       "      <td>26</td>\n",
       "      <td>296</td>\n",
       "      <td>crime</td>\n",
       "      <td>1429398919</td>\n",
       "    </tr>\n",
       "  </tbody>\n",
       "</table>\n",
       "</div>"
      ],
      "text/plain": [
       "    userId  movieId                            tag   timestamp\n",
       "0       10      260                   good vs evil  1430666558\n",
       "1       10      260                  Harrison Ford  1430666505\n",
       "2       10      260                         sci-fi  1430666538\n",
       "3       14     1221                      Al Pacino  1311600756\n",
       "4       14     1221                          mafia  1311600746\n",
       "5       14    58559                    Atmospheric  1311530439\n",
       "6       14    58559                         Batman  1311530391\n",
       "7       14    58559                     comic book  1311530398\n",
       "8       14    58559                           dark  1311530428\n",
       "9       14    58559                   Heath Ledger  1311530404\n",
       "10      14    58559                   imdb top 250  1311530451\n",
       "11      14    58559                  Michael Caine  1311530407\n",
       "12      14    58559                 Morgan Freeman  1311530400\n",
       "13      14    58559  Oscar (Best Supporting Actor)  1311530432\n",
       "14      14    58559                     psychology  1311530417\n",
       "15      14    58559                      superhero  1311530388\n",
       "16      14    58559                      vigilante  1311530423\n",
       "17      14    58559                       violence  1311530444\n",
       "18      16    57183                         family  1491353765\n",
       "19      26      296                          crime  1429398919"
      ]
     },
     "execution_count": 18,
     "metadata": {},
     "output_type": "execute_result"
    }
   ],
   "source": [
    "tags.head(20)"
   ]
  },
  {
   "cell_type": "code",
   "execution_count": 19,
   "metadata": {},
   "outputs": [
    {
     "name": "stdout",
     "output_type": "stream",
     "text": [
      "<class 'pandas.core.frame.DataFrame'>\n",
      "Index: 1150470 entries, 4 to 2328312\n",
      "Data columns (total 4 columns):\n",
      " #   Column     Non-Null Count    Dtype \n",
      "---  ------     --------------    ----- \n",
      " 0   userId     1150470 non-null  int64 \n",
      " 1   movieId    1150470 non-null  int64 \n",
      " 2   tag        1150470 non-null  object\n",
      " 3   timestamp  1150470 non-null  int64 \n",
      "dtypes: int64(3), object(1)\n",
      "memory usage: 43.9+ MB\n"
     ]
    }
   ],
   "source": [
    "filtererad_data = tags[tags[\"tag\"].str.contains(\"^[a-zA-Z]+$\", na=False)]\n",
    "filtererad_data.info()"
   ]
  },
  {
   "cell_type": "code",
   "execution_count": 20,
   "metadata": {},
   "outputs": [],
   "source": [
    "# Slår ihop \n",
    "tags = tags[tags['tag'].apply(lambda x: isinstance(x, str))]\n",
    "merged_tags = tags.groupby(\"movieId\")[\"tag\"].apply(lambda x: \" \".join(set(x))).reset_index()"
   ]
  },
  {
   "cell_type": "code",
   "execution_count": 21,
   "metadata": {},
   "outputs": [
    {
     "data": {
      "application/vnd.microsoft.datawrangler.viewer.v0+json": {
       "columns": [
        {
         "name": "index",
         "rawType": "int64",
         "type": "integer"
        },
        {
         "name": "movieId",
         "rawType": "int64",
         "type": "integer"
        },
        {
         "name": "tag",
         "rawType": "object",
         "type": "string"
        }
       ],
       "conversionMethod": "pd.DataFrame",
       "ref": "05985d63-afc2-46e4-8212-78eca2da2ad3",
       "rows": [
        [
         "0",
         "1",
         "buy face mask character's point of view camera shot game of life board game joss whedon neighbor brat buddy blinds story mutant little boy feel-good binoculars spacesuit love interest dartboard slow motion scene animated DARING RESCUES piggy bank humorous telling someone to shut up American Animation signature falling from a window backyard misunderstanding family relationships pull string doll 3 dimensional sliding down a banister learning a lesson martial arts male villain beautiful rain fight cartoon avi ss card game Pixar animation lots of heart fun family movie storage shed clock torture Comedy  frustration interesting girl water Toy Story pizza van redemption first cgi film nostalgic Disney animated feature low fantasy blockbuster mr potato head famous line depression candy land the board game rival gift toy story Buzz Lightyear national film registry tom hanks mother son relationship scheming ventilation shaft Oscar (Special Achievement) jack in the box surprise ending troll doll unny ohio bouncy ball delivery child antagonist battleship game shepherdess Tim Allen very good favoritism utah teapot pixar Woody chased by a dog package chrysler lebaron convertible talking in one's sleep burn child destroys own toy globe good animation remorse magnifying glass toy soldier male protagonist Want dachshund bully x291-LIVE-John Lasseter Tumey's VHS animated fictional tv commercial teamwork children cartoon title spoken by character children emotional heartfelt jumping through a sunroof little girl childish locked in shivering space ranger Best of Rotten Tomatoes: All Time surgical mask ad for toys CGI elementary school running kids and family meeting bullying recliner chair leggings National Film Registry action medical mask hero's journey warm neighborhood toys cartoon dog famous score chasing a truck dog as gift jumping from height first of series self awareness adventure TÃ©a Leoni does not star in this movie soundtrack Owned two word title Animation ballet flats push button animated dog product placement computer animation seatbelt action figure buddy movie witty almost favorite friends Os dois viram erlend's DVDs arcade talking to a toy backfire rated-G porcelain cgi animation digital sleeping dog shed window toy dental braces twister the game pet dog baby imdb top 250 child's birthday family tim allen buzz lightyear character house family film resourcefulness wallpaper encouragement corkboard fanciful desk plastic army men catchphrase reference to mattel friend reconnaissance mission lipstick on face toy fire truck child hasbro computer generated imagery space explorer talking toy asking directions the boys battery comedy cute magic 8 ball yelling ramp https://movielens.org/tag/:animation biohazard sign mattel christmas USA unlikely friendships whimsica forced puns  rescue fear cgi toy dog child's birthday party pliers shark so funny rainy day watchlist visual pun rescue mission fun animmation christmas present sunlight toy comes to life calling someone an idiot CGI classic microphone Engaging arcade game tough guy funny sci-fi voice acting view through binoculars gas station escape attempt exciting plot BD-Video kids mission subjective camera doorbell HEROIC MISSION escape Cartoon nesting egg enemies become friends mixed soundtrack car crash 3d pet as gift action figures Pixar toyota famous song fishing rod cowboy weightlifting brother sister relationship flashlight Tom Hanks loyal friend moving van boy DVD-Video pizzeria bad guy villain operation game single mother bo peep character van falling out a window affection turbo boost walkie talkie 2009 reissue in Stereoscopic 3-D staircase villian hurts toys itaege etch a sketch karate 3D great movie favorite anthropomorphic toy thunderstorm toybox monsters explosion cult film hero fireplace funny lines John Lasseter part of trilogy dinosaur rivalry classic kids movie poster commercial child's bedroom bright child villain ya boy CG animation showdown cult favorite looking out a window baby monitor bully comeuppance antenna toys played laughter accepting reality arm reflection directorial debut Watched threat rejection boy next door sheriff clever violence falling from height envy toy tea set fistfight ringing a doorbell false accusation lovable characters parachute dead battery bull terrier guilty conscience animation dart wilhelm scream mockery television commercial bedroom surrounded double prize é˜®ä¸€é¸£ apology mouth time lapse photography 55 movies every kid should see--Entertainment Weekly pterodactyl Tumey's To See Again Family cartoon chrysler automobile toolbox comeuppance lifting someone into the air toy robot radio controlled gliding gratitude sunroof selflessness hat very nice male antagonist doll original story loyalty remote controlled toy car rag doll fantasy cowboy boot light hearted scene during opening credits TOYS COME TO LIFE playskool good cartoon chindren Oscar (Best Picture) confrontation audio flashback fast and a furious doubt banister Disney birthday party crate light thunder spaceman toy 1990s want to see again UNLIKELY FRIENDSHIPS moving good time brawl comic hero bed toyota truck innovative cowboy doll toy dinosaur first of trilogy home urban setting squeeze toy troubled production anthropomorphism astronaut reference to marie antoinette rousing karate chop match touching story birthday hockey puck technological marvel scene before opening credits internal logic fails jealousy claw crane mr. potato head character time travel birthday present CLV flying toy animal new toy christmas day skateboard unusual friendship tyrannosaurus rex lifting a female into the air alien dog first part woody character disney friendship rocket suburb car new home soldier Animation  soothing slinky dog child destroys another's toy dolls"
        ],
        [
         "1",
         "2",
         "critter statue motorcycle first love disappearance blunderbuss vehicle magic board game forest refrigerator sniper rifle carnivorous plant cutting one's own hair brochure Filmed in BC rain altering history fight loss of parents mother daughter relationship dice male hunter feline chaos based on novel danger improvised weapon arachnid blonde woman girl lion pregnant woman 1960s carnivore cgi effect driving a car into a building board gun cemetery blockbuster missing child animal killing childhood recaptured shotgun time animal driving a vehicle spider attack mother son relationship friends who live together factory Dynamic CGI Action family legacy surprise ending mustached man part computer animation nemesis aunt niece relationship one word title supernatural fantasy person thought dead is alive game tire zebra construction site cult classic Children Adaptation of Book hit by a car male protagonist snob woodland beat up bully shoe factory brown haired boy looting coming of age subtitled scene title spoken by character children crocodile little girl childish spider actor playing multiple roles thrill vines adapted from:book poison ivy Jumanji police orchestral music score police car heavy rain animal attack weapon live action and animation reference to the twilight zone christmas presents rampage explorer based on young adult novel Lebbat fainting investment banker 19th century giant insect first of series realtor adventure excavation title written by male long haired woman heartwarming lace paint can jungle man animals competition abandoned factory bridge bullet time flood rainforest mosquito boarding school car theft Artifact of Doom canoe based on children's book reference to ringling brothers Baker viu namesake nighttime human hunting a human title same as book partner reference to a horoscope pelican male police officer family breaking the fourth wall hostage situation big game hunter river grounded bad cgi The Game Come to Life elephant presumed dead franchise prologue quicksand jungle laundry detergent cutting face while shaving view through rifle scope bearded man gun store child insect attack long haired girl monsoon driving without a license magic comedy leaf reference to clue the board game police officer kid flick bug reference to tarzan mutation christmas psychotronic film orphan revolver Fantasy cgi monkey rainy day watchlist surrealism predator prey jungle adventure footwear animatronic return to the past poison wood vortex blunder earthquake blonde child family name bicycle chase law enforcement officer long haired female kids Saturn Award (Best Special Effects) christmas party screenplay adapted by author fib new hampshire older version of character car crash Saturn Award (Best Supporting Actress) arrest wisecrack humor boring bicycle brother sister relationship impersonating a police officer library discount store illegal gun sale turning into a monkey pigtails reference to a zodiac sign boy dybbuk box Joe Johnston car accident held at gunpoint perilous escape sporting goods store real estate agent conveyor belt 4k handgun herds of CGI animals title directed by male shared universe firearm columbia tristar home video bat sidearm predator itaege Everything Trying to Kill You tail mansion cult film handcuffs hunter fireplace childhood lush Robin Williams Chris Van Allsburg recluse classic sneaker alternate timeline saying thank you playing a board game suitcase endless screaming plant human becoming an animal santa claus costume crawler 1860s fiction cgi animal underwater scene based on a book vegetation rhinoceros new england hiding in a closet violence bloody lip tween girl looking through a keyhole fortune teller reference to libra the constellation reptile plant attack supernatural power columbia tristar reference to wilt chamberlain adventurer small town vine apology time lapse photography cracked windshield Serial Escalation car crashes into a store attic quadruped shoes handcuffed old photograph lifting someone into the air title directed by man not for kids horrifying (but not Horror genre) vandalism black eye transported back in time fantasy trombone multiple versions of the same character rolling dice psychiatrist trapped in a game wonder bread animal driving a car game piece 1990s father son relationship courage moving squatter wooden chest predatory reptile confession stampede fish out of water scary businessman 20th century chest motorcycle police officer axe motor vehicle aunt nephew relationship hacksaw child in jeopardy For children car through wall no opening credits see also:Zathura rifle rich family time travel nervous breakdown CLV fictional board game night Kirsten Dunst stealing a bicycle exterminator board game convertible first part timeline change beach friendship car new home overalls bum drumbeat child turning into animal police vehicle homeless person"
        ],
        [
         "2",
         "3",
         "wedding Minnesota old duringcreditsstinger midwest Walter Matthau fishing comedinha de velhinhos engraÃ§ada Daryl Hannah comedinha de velhinhos engraÃƒÂ§ada Jack Lemmon grun running CLV Howard Deutch NO_FA_GANES Burgess Meredith sequel fever old people that is actually funny good soundtrack old age old men best friend moldy Ann Margaret comedy funny Funniest Movies Sophia Loren old man sequel"
        ],
        [
         "3",
         "4",
         "revenge CLV characters interracial relationship girl movie single mother slurs chick flick divorce based on novel or book"
        ],
        [
         "4",
         "5",
         "4th wall daughter wedding growing old aging steve martin watched under duress parent child relationship seen 2021 narration regret father it thought it was funny but it wasn't CLV Fantasy childhood classics pregnancy Touching sequel fever gynecologist midlife crisis seen more than once contraception confidence Diane Keaton heartwarming remake fourth wall baby humorous Steve Martin family father - child relationship Comedy sentimental sequel worst movies ever"
        ],
        [
         "5",
         "6",
         "cliched cinematic Strong bad man Jon Voight male-female relationship 7.5-FilmAffinity Val Kilmer Crime one last job blu-ray criminal mastermind synthesizer soundtrack who cares DVDs robbery R:language police violence heist es un poc de lo de sempre honor ClearPlay overrated cars owned Music  dialogue bank robbery ending lame electronic soundtrack bank job suicide too long ex-con action cat and mouse authenticity Natalie Portman chase tough guy violent murder Michael Mann visceral Can't remember adultery Al guns great soundtrack captivating detective atmospheric soundtrack authentic gunfights al pacino lame R:violence need to own seen 2011 Mary Kircher btaege thieves neo-noir witty gunfight R great acting Seen 2010 boring erlend's DVDs los angeles Captivating amazing cast crime Action HD MKV Tumey's DVDs Top 10 ever complex characters loner teenage girl thief tense Viviane Vives dumbed down real life gang Reflection ensemble cast professionals betrayal Third Act Problems 1 Al Pacino bank heist understated Robert De Niro netflix queue Los Angeles Bank Heist vontatott somber obsession tragic end realistic imdb top 250 Ashley Judd ONE LAST HEIST Rob Bibliothek slick Al Pacino Vs Robert De Niro hollywoodization suspense cult film heist movie Bechdel Test:Fail CLV Recommendz Top Pick heists robert de niro In The Nucleus career criminal Want philosophy long Realistic crime epic slow paced setting:LA bleak Violence  mine Al and Robert individualism Heist battle of wits relationships realistic action"
        ],
        [
         "6",
         "7",
         "as good maybe better than original interrupted kiss Harrison Ford helicopter ride vogue magazine long island, new york living above a garage remakeOf:Sabrina(1954) picnic on the beach ugly duckling automobile character name as title Drama midlife crisis romance sophistication offering a bribe cleavage sibling relationship man sedated family relationships chick flick mistaken identity Greg Kinnear marriage proposal solarium Julia Ormand bentley motor vehicle jet plane NO_FA_GANES french boyfriend fairy tale bicycle tour chauffeur makeover marriage engagement brother punches brother sexuality great cast park avenue manhattan new york city elopement infatuation based on a play oceanside home martha's vineyard photographer millionaire redemption fantasy romance unfaithful fiance dinner date voice over narration party female protagonist father son relationship fiance fiancee relationship return home brother brother relationship long island new york family estate confession playboy unrequited love ends with a kiss businessman long island reference to bill bojangles robinson upstairs-downstairs love british car Julia Ormond mother son relationship Nancy Marchand finding yourself Paris surprise ending Romance falling in love paris paris france love story business deal paris, france cinderella story new york city tycoon american abroad fusion breakout bentley the car concorde paris CLV telephone call transformation womanizer workaholic forbidden love color remake of black and white film family business sitting on glass coming of age passionate kiss remake dog slow dancing remadeAs:Sabrina(1995) comedy flat screen television romantique attempted seduction fashion assistant relationships love triangle business merger based on play kiss"
        ],
        [
         "7",
         "8",
         "disarming someone adapted from:book cabin barefoot male based on a book barefoot boy finger cut sheriff violence child sneaks out of house near drowning ends with freeze frame tween girl shaking hands child's point of view one room schoolhouse Library System falling from height two against one barefoot native american nightmare blood oath jar fistfight false accusation outlaw cigar smoking undertaker doctor newspaper headline witness alabama skeleton school abandoned house based on novel or book forenames as title knocked unconscious candle cave knifeman tough guy young love shoe murder rural setting huckleberry finn character small town 19th century accused of murder falling to death lantern three word title engagement bare chested teenage boy opening action scene climbing out a window child smoking knife throwing stabbed to death on the run boyfriend girlfriend relationship falling into a hole sneaking out climbing a tree child fighting adult good versus evil sleeping rough based on novel first kiss map alcoholic rescue from drowning long brown hair cowboy hat flintlock pistol injun joe character bare chested male raft death timeframe 19th century girl testimony male female relationship knife in back looking at oneself in a mirror chest of gold coins fat man Disney knife bridge nostalgic sneeze witness to a murder judge treasure map bath mud boy brother brother relationship brawl lost treasure trial flying kick canoe missouri evil man child protagonist bible single mother pipe smoking Mark Twain based on book jail cell beating child hero teenage hero nicknames as title knife fight painting a fence male friendship prospect preferred chores becky thatcher character classroom funeral runaway surprise ending buried treasure jumping through a window aunt nephew relationship echo child in jeopardy character names in title wilderness drunkard teenager fighting adult coffin character names as title courtroom criminal suspense cult film covered in mud hero teacher author:Mark Twain duel freeze frame rifle torn shirt framed for murder widow douglas character cutting one's finger lying under oath musket fishing hook jail mirror cave in brunette slice of life sword fight murder trial child treasure chest knife in the back campfire shouting sword pushed off a bridge mississippi river grave robbing death threat flintlock rifle punched in the face apple trapped in a cave Peter Hewitt tom sawyer character camera shot of bare feet showdown fear of ghosts swearing an oath aunt polly character friendship character name in title slimehouse marble graveyard spider eyepatch river kiss"
        ],
        [
         "8",
         "9",
         "strangled to death hostile takeover disarming someone ice rink uzi psychotronic film violence automobile evacuation bone as weapon falling from height rescue fear jean-claude van damme burned alive fistfight blood splatter homemade weapon shot in the forehead stadium u.s. vice president hand to hand combat mascot costume glock assassination attempt rescue mission action pittsburgh pennsylvania ambush black comedy kitchen tough guy terrorism race against time mercilessness murder shootout assassination one day timespan Can't remember martial arts paranoia vice president double cross one against many mission opening action scene fight exploding car gore shot in the heart two word title escape mother daughter relationship time bomb attempted murder bravery good versus evil villainess mayor independent film female assassin torture oldsmobile warrior gunfight henchman danger fbi federal bureau of investigation wisecrack humor pistol rooftop terrorist plot scream death explosive girl improvisation flash forward popcorn Action brother sister relationship chef chicago blackhawks rooftop fight anti hero star spangled banner knife heroism oldsmobile cutlass supreme 1990s body lands on a car comic relief kidnapping rocket launcher strangulation father son relationship boy courage oldsmobile motor vehicle politician assassin machismo held at gunpoint die hard scenario evil man man on fire brutality villain timeframe 1990s security guard action hero demolition hostage betrayal cia central intelligence agency helicopter crash mother son relationship pittsburgh penguins ransom car bomb m 16 masked killer surprise ending locker room death in title karate chop sole black character dies cliche stabbed in the throat deception conspiracy helicopter karate child in jeopardy panic u.s. car bodyguard survival Jean-Claude Van Damme explosion rogue agent suspense prologue ice hockey cult film final showdown hero near death experience murderess unlikely hero male rear nudity hockey bazooka director also cinematographer father daughter relationship CLV bomb terrorist blood universal pittsburgh, pennsylvania hero kills a woman semiautomatic pistol Peter Hyams title spoken by character ex husband ex wife relationship one man army showdown fireman exploding helicopter car fbi agent man murders a woman silencer"
        ],
        [
         "9",
         "10",
         "major boothroyd character goldeneye espionage automobile gun duel boat russian general owned motorcycle megalomaniac tattoo on butt computer hacker vehicle woman rapes a man driving a tank plane crash slow motion scene unsubtitled foreign language lifting an adult into the air machine gun st. petersburg russia bungee jumping james bond spies murder Sean Bean dies intelligence agency former soviet union martial arts player I wanted the bad guy to win.  Sean Bean out-Bonds Bond. fight friend turned foe card game memorable lines kissing while having sex man wears a tuxedo russia computer cracker villainess Siberia head butt london england male soldier sexuality 007 terrorist plot death secret base bungee jump stunt Bob*ola exploding building gun cemetery missile blockbuster strangulation kidnapping russian army execution gadget hostage shot in the back Pierce Brosnan Cuba gangster color in title sadism Judi Dench poetic justice Latin America army gambling house sequel computer games 007 movies are bad. one word title shot in the foot reverse footage seventeenth part mexican standoff nuclear weapons top secret subtitled scene title spoken by character computer virus cult figure colonel trap bill tanner character shot in the chest propaganda seaplane st. petersburg, russia satellite british elevator it's a good movie but the end of 007 is always the same femme fatale blood splatter woman with a gun weapon action year 1995 innuendo intelligence Izabella Scorupco wheelchair cuba mgm ua home video attempted lesbian rape opening action scene shaken not stirred adventure russian aston martin general good versus evil female assassin warrior gunfight russophobia bisexual woman suffocation pistol female killer museum Seen 2020 enemy kgb fire airplane british secret service vengeance bullet time Bond Russia mercenary ferrari die hard scenario laser cutter casino partner motor car Famke Janssen conspiracy helicopter church spy train explosion franchise mixed caps in title jungle train secret agent male rape good man one-liners spying red ferrari rotorcraft exploding helicopter casual sex bathroom killer as protagonist reboot of series electro magnetic pulse loss of friend car chase Best Of the Brosnon Bonds falsely accused bond chemical weapons flash freeze death shot in the forehead train wreck hand to hand combat riviera tank slide locked back mixed martial arts british intelligence Memorable Characters intelligence agent leg scissors airport chase tough guy funny cranberry m character spy mission boys with toys britain BD-Video mgm ua escape saint petersburg russia tank chase scene btaege gambling casino motorcycle stunt exploding train James Bond trailer narrated by nick tate bungee jump part of the body in title red army special car 007 (series) gun battle disfigurement car accident machismo held at gunpoint evil man high tech villain action hero gadget watch james bond character computer ejection seat research station baccarat bond girl military casino card game MTSKAF dark official james bond series karate fighter jet revenge russian mafia explosion rogue agent Sean Bean cult film Caribbean snow blood classic female gunfighter ITS AN OK MOVIE IF YOU LIKE  JAMES BOUND. MI6 massacre laser hero killing woman showdown philandering violence falling from height spy turned terrorist dominant woman rough sex attempted rape fistfight ak 47 official bond film evil plot miss moneypenny character EMP terrorism grenade organized crime shootout thriller shot to death german actor playing foreigner exploding car secret intelligence service time bomb lifting someone into the air stealth helicopter agent electromagnetic pulse gadgetry secret service agent evil woman internet year 1986 ridiculous Tumey's DVDs gadgets see you in hell assassin brawl spy camera good dialogue lesbian subtext sadist cossack gatling gun sauna casino owners secret service motor vehicle femdom pseudo rated post soviet russia returning character with different actor dominatrix CLV Puerto Rico terrorist satellite dish exploding tank seen more than once lifting a female into the air explosions one man army vodka martini beach revolving door car broken electronic works soldier silencer secret identity gadget car"
        ],
        [
         "10",
         "11",
         "dating reference to cassius girlie movie great story christmas presidential election usa president portrait of a president idealism clever dialogue florist shop reference to arthur murray woman wears only a man's shirt reference to the state of the union speech Drama Michael Douglas florist reference to dwight d. eisenhower widower columbia tristar house of representatives politics single parent widower single woman relationship reference to james buchanen screenwriter:Aaron Sorkin Amazing kung fu liberal propaganda news conference morals reference to julius caesar NO_FA_GANES state of the union address liberal political consultant 23.03.06 speechwriter oval office White House trombone state dinner single parents great cast seen lobbyist great performances presidential candidate decent flick new love Annette Bening u.s. president chief of staff politician environmentalist american president political campaign reference to thomas jefferson reference to franklin d. roosevelt political candidate sister sister relationship playing pool love reference to brutus the white house bouquet columbia tristar home video gun control Romance reference to woodrow wilson reference to king louis xvi reference to marie antoinette Martin Sheen environmental issues DVD Collection white house senator Bibliothek Aaron Sorkin cinderella story flag burning wildlife conservation diplomatic reception implied sex CLV reference to frank capra press secretary cheesy washington d.c. president seen more than once Rob Reiner US President political humor reference to martin van buren cult favorite cute election campaign ethics camp david"
        ],
        [
         "11",
         "12",
         "castle van helsing ship absurd comedy grasshopper loss of friend year 1893 barefoot woman calling someone a degenerate hospital sexy woman covered in blood spiderweb undead vampire assistant busty woman finger cut psychotronic film slipping on shit horror spoof human brain shadow on a wall seduction renfield enslavement falling from height father sees man groping his daughter barefoot bride opera renfield character dancing gothic killed by sunlight mina murray character van helsing character reference to abraham van helsing burned alive blood splatter vampire castle professor caught in a spider web doctor trance vampires voluptuous woman corpse hanging upside down insane asylum colliding on glass window guano hypnotism funny couple dancing character says poppycock coachman pallor sanitarium vampirism vampire biting neck slapstick comedy solicitor count dream sequence horse and carriage fainting drink thrown into someone's face Mel Brooks bending metal bar character says i still got it grave parody vampire count man molested by woman dracula burned by a cross slipping on stairs trying to get the last word woman wears a scarf reference to paris shapeshifting bitten in the neck immortality reference to demons skull vampire bite face slap stabbed in the heart shadow character says i don't care park exploding body intestines london england garlic maidservant satire boring paper cut spoof dream scene death breaking a mirror carfax abbey redheaded woman slave undressing in front of a window stepping on someone human versus vampire bitten by a vampire broken mirror lucy westenra character gypsy vampire fangs sexy female vampire killed by a vampire superhuman strength borgo pass vampire bat insect big breasts mountain pass eating an insect entering the closet blood on shirt bat excrement intangibility stake through the heart smashing mirror chapel chandelier calling someone darling cross dancing in front of a mirror fiance fiancee relationship farce enema sunset dr jack seward character telekinesis transylvania Leslie Nielsen calling someone an asshole nosferatu calling someone my dear ship's wheel dance scene horse carriage no reflection in a mirror bending a prison bar insect eating human caught in spider web love downblouse mourning for the villain order reference to whitby aversion to garlic sailing ship no reflection redhead vampire horror autopsy burnt by sunlight asking for punishment bat bending steel bars colliding with chandelier stepping in shit jumping through a window dream character says they had it coming hammer character repeats someone else's dialogue climbing through a window wig pretty woman ball coffin written and directed by cast member abandoned chapel breaking a glass window five word title bite mark organ fangs cult film reference to an enema asking to be punished vampire lair perseverance satirical hypnosis village vampire comedy father daughter relationship end credits roll call male vampire blood lust seductive dance male protagonist vampire killed by sunlight schooner calling someone a pervert death of vampire wearing a scarf indoors british abroad jonathan harker character female vampire mental control woman exposing her breasts fainting man BD-R scarf theater cobweb falling down stairs vampire hunter hung upside down shapeshifter character name in title full moon super strength colon in title poked in the eye romania incision reference to a demon spider vampire slayer brain"
        ],
        [
         "12",
         "13",
         "sled dog dog-sledding race part live action ship underwater scene hospital spiderweb marking a trail threat husky dog based on true story sort of boring husky narrator statue falling from height orchestral music score rock boat snow adventure rescue telegraph timeframe 1920s ill child ice cave love interest surrealism goose doctor broken bottle balto character snowball animated animation year 1995 animal that acts human furnace lost in the woods russian accent forest animal villain mockery live action and animation action girl knocked unconscious telegraph operator timeframe 20th century cave race against time sled dogs avalanche feather plucking bear furry pets arctic wolf outsider bone animal name in title tenor biplane illumination lantern swimming underwater dog team first of series race fight live action sequence title written by female pawprint dogs antitoxin boyfriend girlfriend relationship grizzly bear animal protagonist half blood reference to the iditarod title directed by man hot dog 1920s snowstorm dog racing animal hero dogsled footprint hat journey title written by male older version of character loosely based on a true story arrogance piano white wolf rescue from drowning crawlspace scene during opening credits self identity cliff sadness self esteem woods frozen lake prejudice bear attack falling over a cliff girl classical music wolf dog audio flashback cold weather reference to the jetsons right hand man chorus unconsciousness throwing a snowball lackey bandana sneeze airplane heroism dog sled race hit with a snowball crate eating soap dog sled alaska hand drawn animation light 1990s romantic rivalry racing courage footprint in the snow sick child glass wrongfully accused pop music singer offscreen illness timeframe 1990s boulder cheerleader traditional animation 20th century boiler room epidemic dog sled team grandmother granddaughter relationship title directed by male nome alaska city park friends who live together taunting cold tree vial surprise ending plaque outcast diphtheria snow goose disease iditarod talking animal 2d animation stray dog Ei muista itaege crony lie cleaver part animated wilderness coffin northern lights morse code one word title presumed dead pneumonia cult film storm wolves memorial medicine serum finish line blizzard syringe polar bear snow train sun Simon Wells balladeer male protagonist rivalry falling off a cliff pet child dog movie dog race bully drowning going in circles strength breaking through ice sausage link sense of smell central park manhattan new york city falling icicle talking animals children butcher dog first part year 1925 character name in title shunned poulterer scent wolf slimehouse howling half breed sidekick sled James Horner icicle reference to fyodor dostoyevsky actor playing multiple roles"
        ],
        [
         "13",
         "14",
         "flashback president of the united states hospital reference to frankenstein evil politician controversy based on true story USA based on real person presidential election usa president character name as title timeframe 1920s cold war era reference to mohammad reza shah pahlavi Drama 1930s surname as title power political corruption history 5 fbi chief steak husband wife relationship bedroom washington dc, usa scam politics cinematographer:Robert Richardson cover up election nixon resignation paranoia political cover up republican party trust political leader timeframe 1930s director cameo 1920s based on a true story political consultant Anthony Hopkins piano Watergate government oval office american history billiards fbi federal bureau of investigation Historical opinion political conspiracy confrontation US history timeframe 1960s lincoln memorial american politics 1960s alcoholic drink watergate first lady United States year 1973 father son relationship memory politician united states of america horse race brother brother relationship biographical career true story china illness political campaign black and white scene courtship Oliver Stone political candidate interpreter quaker usa marriage mother son relationship man wears eyeglasses rise and fall biopic tape recording nixon woman wears eyeglasses watergate scandal conspiracy alcoholism richard nixon one word title vietnam war 1970s corruption historical figure press conference CLV drunk washington d.c. president character based on real person:Richard Nixon own Tumey's VHS year 1972 US President long Wooohoo title spoken by character political drama epic disney psychedelic therapy election campaign biography"
        ],
        [
         "14",
         "15",
         "ship Pirate pirates violence female pirate pirate ship Renny Harlin adventuress monkey love interest dumb but funny action heroine timeframe 1660s action sword duel chase alcohol sea battle strong female character humor 1660s adventurer exotic island hook for a hand combat tavern double cross shipwreck swashbuckler adventure mgm ua adventure better than I remembered 17th century escape kissing while having sex strong female lead map treasure sexuality bar fight cannon slave rope heroine timeframe 17th century tattooed map bad acting treasure map slave auction latin mgm sensuality female protagonist swashbuckler Matthew Modine kicked in the groin Geena Davis betrayal barroom brawl Frank Langella pirate british navy paramount exploding ship assertive woman island death of father treasure hunt explosion surgery uncle niece relationship duel bar shootout CLV father daughter relationship scalp brunette tattoo on head sword fight translator sword big budget showdown battle kiss"
        ],
        [
         "15",
         "16",
         "silenced gun sadistic psychopath money lender smith &amp; wesson model 15 blu-ray woman snorts cocaine in medias res midwest shot in the head heist fbi surveillance lap dissolve girl stuck her tongue out maximalism mob lawyer walther pp Gangster blueberry muffin money laundering slow motion scene illegal activities anti semite old man beaten with a telephone 20060407 power struggle old man murder key head in a vise watch cinematographer:Robert Richardson handgun with silencer shot and killed etaege slow 1980s surveillance sleazy man epic drama female drug addict jewish lawyer Las Vegas long movie vise based on novel torture crushed head noise complaint arab man hit with a baseball bat cowboy hat nudity (rear) nevada desert social club skimming american criminal death mafioso Great Ensemble Cast plot first person narration office spitting in food boss hit with a telephone illegal prostitution Divx1 wiretap James Woods pain safe deposit box toxic masculinity safe deposit box key depression shotgun criminal empire hotel casino vegas mob car damage shot in the back betrayal reference to john barrymore abusive mother gangster Robert De Niro colt python car bomb broken finger cosa nostra criminal gang m1911 pistol mob enforcer hypocrisy title spoken by narrator poker senator alcoholism contemporary western smith &amp; wesson model 10 one word title courtroom corruption italian gangster colorful clothes Martin Scorsese tracking shot timeframe 1980s Suspense gangland hit death of brother stabbed in the neck title spoken by character extreme violence steel baseball bat safe mine fbi agent complex Vegas timeframe 1970s burglar bird's eye shot evil domestic violence mob violence private jet storyline gambler cannibalism shot in the chest tied to a bed uzi police mob trial nudity broken hand neo western suitcase full of money jewish mobster squeezing blood splatter oral sex dual narration political corruption beaten with a baseball bat black comedy surveillance photograph crooked gambling mob boss insult muddled motivations sex scandal historical drama de niro in pink investment banker hit with a hammer period drama crime empire schoolboy circular saw glorifying violence year 1980 hysterical wife Robert DeNiro soundtrack jewellery heist traveling shot blow job in a car fran  woman performs fellatio scorcese getting rid of somebody erlend's DVDs alcohol abuse docudrama drama violent gangster great performances gangland crime flashy year 1973 anti semitic slur wealth united states of america garter underworld murder of brother pimp mob million dollars goon casino mob hit mafiosi gangsterism joe pesci imdb top 250 homicide hammer short man excellent cast helicopter friend friend relationship Bibliothek casino manager heart attack boyhood friend gambling debt fired from a job food store intoxication wife cheats on husband modern western female escort cash costa rica drunk italian mafia smith &amp; wesson model 39 chain smoking arab playing golf gambling punched in the face jewish american labor union mobster control freak money gangster murders fellow gangster non-fiction elimination iris shot person on fire fat mafioso drug overdose strictness indulgent snorting cocaine High Production Values based on true story true crime na dysku perfectionist desert bus stop shot with a silenced gun gangster film prostitution card cheat gambling addict ball peen hammer year 1983 drunk wife compulsive gambler tough guy crime family women as sexual objects card playing beaten to death psychopath gambling syndicate swimming pool cool drug addiction adultery BD-Video screenwriting mafia boss depressed woman criminal organization nagging wife Nicholas Pileggi reference to al capone saw machine electronic surveillance title appears in writing gambling casino fbi federal bureau of investigation great ending crime boss cigarette multiple narrators sex in a car mafia cowboy crime syndicate oral sex in a car follow shot las vegas casino gangsters shot dead voice over narration wealthy man grocery store mafia don casino security golf course brother brother relationship held at gunpoint hulu sex scene killing crying gamble female nudity man shot to death american mafia 4k blow job firearm diamond theft rise and fall cornfield dutch angle Nudity (Rear) baseball bat used as a weapon liquidation borderline personality disorder slot machine temper stabbed in the throat mob hitman rewatch cigarette smoking jewelry con artist revenge drunkenness man killed explosion breaking a rule corrupt politician criminal character development cult film fbi fellatio produce market oral sex in car telephone call crime lord blood woman killed jew fast paced sandwich Nudity (Topless - Brief) suitcase long Pesci shot in the temple las vegas death from heart attack witness elimination browning hi power pistol ethnic slur masterpiece listening device greed brute telephone narrated muffin burglary Mafia threat based on a book stooge mob execution dead body in a car trunk violence memasa's movies mossberg 500 Goodfellas II chicago mob marriage crisis drug abuse cigarette holder actor shares first name with character screenplay bookie crushed hand underboss television host italian food threatened with a circular saw anti semitic corpse mormon ultra slow motion dolly shot killer loan shark criminal underworld husband wife relationship stabbed with a pencil violent observation hitman Joe Pesci beaten up prostitute organized crime old gangster labor stabbed with a pen hammer as a weapon kansas city pen as a weapon los angeles california shot to death exploding car casino employee baseball bat lifting someone into the air need to own on dvr NO_FA_GANES cocaine ex prostitute glitzy tied up Robert Deniro Eric's Dvds glitter predictable chicago outfit DeNiro gangland chicago illinois jeweler's loupe the mob overdose sex in bed Sharon Stone spaghetti depressing italian american reference to the elephant man cult director fbi investigation chip Tumey's DVDs complex characters jewish gangster police surveillance shocked with a cattle prod stylish torturer ensemble cast gangland execution golf player brutality based on book beating american mobster sadist las vegas nevada colt revolver antisemitism las vegas police department cheating wife con man mob family Documentary like violent man jewels 1970s capitalism diamond heist gangland murder CLV death by heart attack robert de niro slurs silenced pistol woman shot to death reference to detroit reference to ozzie and harriet american gangster kansas city missouri emotionally unstable woman wise guy brutal murder dispute hierarchy crime epic cattle prod neo noir gangster crime chicagoan bookmaker ballpoint pen silencer buried alive"
        ],
        [
         "16",
         "17",
         "Emma Thompson visit adapted from:book vicar author:Jane Austen loss of fortune sincerity devon england based on a book servant stepmother Kate Winslet London older man younger woman relationship na dysku honor british rescue dancing psychological drama bowling arranged marriage death of stepfather pianoforte jane austen rural area empire fashion intimacy reference to william shakespeare Great Adaptations Sven's to see list parcel classic literature doctor three sisters suitor romance period piece snobbery based on novel or book Regency England candle husband wife relationship shakespeare BGAB LRC kite widow rural setting famous score chick flick British monogram horse and carriage not available opening a door 19th century Jane Austen period drama ends with a wedding three word title beautiful britain rainstorm class differences marriage proposal treehouse very well adapted atmospheric Unconditional Love card game handkerchief Imogen Stubbs mother daughter relationship disdain costume drama illegitimate child hugh grant based on novel duty resignation poetry piano drawing london england heartwarming picnic social criticism poverty romantic secret engagement rural dinner mother in law son in law relationship boring horseback riding shakespearean quotation young girl atlas death of husband Shakespeare rich man poor woman brother sister relationship likeable love story loss of father 1800s wedding lock of hair teenage girl beautiful scenery English sword fighting Ang Lee realistic characters Clssical Romance ill teenage girl timeframe 1800s party trials and tribulations female protagonist father son relationship timeframe 1810s depression dvd brother brother relationship tomboy hulu Great Screenplays illness Hugh Grant fall courtship parrot bed secret marriage engagement dark past unrequited love gripping pregnancy sister sister relationship 4k love secrecy likeable characters title same as book Netflix Finland prudence Period tearjerker romance bouquet Oscar Nominee: Best Picture 1995 true love story parish bird singing Alan Rickman Romance Britain baby passion country life comedy of manners upper class fast sad letter church seen a while ago Bibliothek favorite melodrama literature tragic love seen 2012 country estate coin medical examination jealousy 1810s romanticism cousin cousin relationship decorum Hugh Laurie intelligent regency period patriarchy CLV blood devon classic period film f rated rich snob cottage nothing happens own historical 18th century BD-R acceptance east indies horse long stable Romance  dog inheritance stepbrother stepsister relationship emotional heartbreak mine colonel gentle cinema critical Oscar Nominee: Best Picture amazing acting love triangle english country dance second wife money damsel in distress military officer"
        ],
        [
         "17",
         "18",
         "bondage dark comedy dead body barefoot boy sex gagged woman cartoon on tv revolver role play elevator multiple storylines Drama hotel room scene during end credits surrealism Jennifer Beals trance movie producer weapon supernatural power gross black comedy hoodlum witches' coven pasties corpse dead prostitute hypnotism awesome soundtrack murder witches retro mistaken identity slapstick comedy sperm incest multiple short stories in one blasphemous animated opening credits goddess witchcraft spell mother daughter relationship new year's eve Robert Rodriguez Nudity (Topless) anthology film actor director Allison Anders child smoking cigarette independent film los angeles, california hotel cult movie cast tied to a chair new year reference to peter lorre animated title sequence hanging out a window tarantino satire directed by several directors los angeles witch Thriller title directed by female drunken telephone call Comedy portmanteau film coven fire brother sister relationship neo screwball comedy woman director nudity (topless) anthology champagne incest overtone collection of short films bet foul language 4 hostage champagne bottle female nudity number in title bellhop vomiting Combustible Edison Music gangster implied fellatio precocious child Rodriguez Antonio Banderas b movie Alexandre Rockwell cigarette smoking omnibus Salma Hayek meat cleaver duct tape Tim Roth cult film party hat omnibus film syringe non statutory female on male rape Tarantino wraparound story Madonna female friendship fast paced f rated collective filmmaking own night filmmaking Quentin Tarantino Tumey's VHS toe sucking zippo lighter interracial relationship severed finger Bruce Willis movie star disney feet magic comedy bathroom lingerie slip"
        ],
        [
         "18",
         "19",
         "calling someone a loser african village poison dart hysteria Steve Oedekerk slow motion scene unsubtitled foreign language chinese monastery eastern gorilla procyonidae broken man money making scheme Simon Callow pet detective over the top reference to tuna fish reference to jesus christ reference to mr. belvedere procyon lotor reference to jack and the beanstalk dusting for fingerprints raped by a gorilla talking through one's buttocks chief Comedy  fertilizer reference to bingo woman flashing breasts cebidae crashing a car into a tree medicine man lion mountaintop monastery dark bat reference to yak Stupid as Hell haplorhines bestiality african princess blockbuster kidnapping celibacy Jim Carrey eccentric man character says i am alive caught masturbating childhood classic hawaiian shirt medal oath of celibacy mistranslation surprise ending can can deadly fall apologetic attacker crazy naked man master of disguise gingivitis hominidae procyonid sequel slinky arctoidea stripped naked reference to weasel zebra reference to canada himalayas searching for motive obscenity cult classic village reference to mary poppins light bat awesome reference to marcus antonius woman exposing her breasts wacky comedy giving birth imitating an animal character asks how would i know character name in title fake accent full moon reference to gotan monster truck clerical celibacy anti fur activist eating raw meat loss of virginity chess man steps on a man's crotch nudity threatened with a knife curse dancing reference to chicago One of the worst movies of all time white bat vow of celibacy chief of security Gross-out albizia julibrissin hehehe noon reference to a rhinoceros reference to a rat simple emotional breakdown slapstick comedy implied nudity reference to bumblebee fur detective nigeria dumb human animal relationship bonai province reference to satan gotan on-library  gorilla raped by an animal reference to australia man raped reference to mister belvadere flim flam motivation lowland gorilla meditation holy man reference to a cat hominid airplane chiroptera fingerprint homininae cebinae urine stain indigenous african apes great ape fictional country nocturnal animal toy horse whip ace ventura musteloidea pregnant character says war is hell raccoon reference to a moose princess character says go to hell helicopter motive spit in the face childbirth elephant life is sacred biting hand rape simon says jungle primate character warns man that his testicles are visible monastery disguise nibia mistaken for being a stripper workaholic spying character says i dare you reference to north africa reference to rich uncle pennybags horse stewardess car crashing into a tree birth comedy poisonous dart spear yelling buried in sand spring reference to tarzan Not my kind of comedy gorillini whip albizia tree corvus corax calling someone a sissy stupidity arranged marriage kidnapped animal testicle sexy princess monkey breaking an oath life partner mountain climbing character says don't look down calling someone a devil reference to pierre gustave toutant beauregard guano masterbation buddhist monk hominids lost the will to live raven tooth decay tribe going over a waterfall procyon engagement sacred ground nocturnal mammal subjective camera premature birth raped by animal corvus chiroptophobia skull procyonids roaring aura white devil as epithet medallion raw meat trophy collection biting attacker reference to silver the horse sacred animal firewalking ace ventura character fictional african country buddhism panthera leo virgin china reference to aboriginal australians land rover hut pregnancy reference to a hound dog selfishness reference to a mongoose character says i will kill you bat dirty cop deadline buddhist monastery fran-done crude humor asia childhood fav character says let's go kick butt tail waving goodbye silverback american abroad crop buddha statue mimosa tree exploitation hilarious mistaken for a stripper platyrrhini spit black market private detective reference to the shawshank redemption selfish virgin woman raped by a female gorilla searching for a culprit Rhino action :D cult favorite slimehouse shrine reference to lynn aloysius belvedere simiformes marriage of state reference to sweeney todd interracial romance dowry dead animal oathbreaker temptation reference to rabies stupid wachati princess reference to marc anthony mucus monocle reference to william shakespeare bloody face mistaken for giving birth eastern lowland gorilla new world monkey dart cave mating season consul masturbation second part bowl character says no falling to death time lapse photography scrotifera african hominids monasticism character says i am a princess black people lifting someone into the air capuchin monkey shield haplorhini riding crop pain threshold reference to monopoly the game devil gorilla beringei graueri common raven anti fur male objectification silly fun blood in face sex with an animal gorilla beringei sunglasses trophy hunter screaming in pain gross out comedy reference to lone ranger very funny interpreter zoophilia naked ashram plate laughing at someone's pain troubled production simian goofy consulate talking in sleep princess commoner love bad taste human skull forensics five word title spring toy reference to hasbro africa alibi tibetan monastery reference to shish kebab man spits on another man's face touch eye laughing at someone anthropoid skunk tibet mimosa monkey actor sacred bat equestrianism animal lover grauer's gorilla primates raped man african dance bonai Tibet Africa astral projection suspect bare shoulders mephitidae reference to a fly the insect cat waterfall shaman mountain climber monk"
        ],
        [
         "19",
         "20",
         "runaway train intense punching bag horse drawn carriage person on fire ticket booth caper crime christmas robbery police undercover roundhouse kick violence male bonding burn victim revolver afternoon section riding a motorcycle down stairs pickpocket rescue f word dancing police badge train crash motorcycle lopez fistfight train wreck hijacking a train love interest hand to hand combat hispanic american mixed martial arts stakeout shooting out a window black comedy caper bar machine gun chase loan shark sibling relationship tough guy heist crime murder new york subway shootout psychopath worthwhile martial arts subway shot to death opening action scene female police officer barricade card game lame kissing while having sex interracial sex comeuppance false accusation of theft new year's eve train station fight in a train compartment arrest wisecrack humor fight in a kitchen pistol bare chested male tough girl fire anti hero brooklyn bridge thief switchboard police shootout burning man romantic rivalry two man army brother brother relationship brawl held at gunpoint sex scene pushed in front of subway train buddy cop action hero beating repeated line foot chase beer gangster Joseph Ruben arsonist reference to ice cube hit by a train train robbery pretending to be drunk arson train tracks transit cop child in jeopardy attraction female frontal nudity wristwatch manhattan new york city new york city banter interracial kiss gambling debt kicked in the face jealousy fired from a job argument CLV thrown from a train train lust mexican standoff subway station wallet boxing strip club gambling Nudity (Topless - Brief) interracial relationship punched in the face central park manhattan new york city pyromaniac semiautomatic pistol title spoken by character sibling rivalry friendship racial slur bartender friendship between men urination decoy money spitting in someone's face kiss"
        ]
       ],
       "shape": {
        "columns": 2,
        "rows": 20
       }
      },
      "text/html": [
       "<div>\n",
       "<style scoped>\n",
       "    .dataframe tbody tr th:only-of-type {\n",
       "        vertical-align: middle;\n",
       "    }\n",
       "\n",
       "    .dataframe tbody tr th {\n",
       "        vertical-align: top;\n",
       "    }\n",
       "\n",
       "    .dataframe thead th {\n",
       "        text-align: right;\n",
       "    }\n",
       "</style>\n",
       "<table border=\"1\" class=\"dataframe\">\n",
       "  <thead>\n",
       "    <tr style=\"text-align: right;\">\n",
       "      <th></th>\n",
       "      <th>movieId</th>\n",
       "      <th>tag</th>\n",
       "    </tr>\n",
       "  </thead>\n",
       "  <tbody>\n",
       "    <tr>\n",
       "      <th>0</th>\n",
       "      <td>1</td>\n",
       "      <td>buy face mask character's point of view camera...</td>\n",
       "    </tr>\n",
       "    <tr>\n",
       "      <th>1</th>\n",
       "      <td>2</td>\n",
       "      <td>critter statue motorcycle first love disappear...</td>\n",
       "    </tr>\n",
       "    <tr>\n",
       "      <th>2</th>\n",
       "      <td>3</td>\n",
       "      <td>wedding Minnesota old duringcreditsstinger mid...</td>\n",
       "    </tr>\n",
       "    <tr>\n",
       "      <th>3</th>\n",
       "      <td>4</td>\n",
       "      <td>revenge CLV characters interracial relationshi...</td>\n",
       "    </tr>\n",
       "    <tr>\n",
       "      <th>4</th>\n",
       "      <td>5</td>\n",
       "      <td>4th wall daughter wedding growing old aging st...</td>\n",
       "    </tr>\n",
       "    <tr>\n",
       "      <th>5</th>\n",
       "      <td>6</td>\n",
       "      <td>cliched cinematic Strong bad man Jon Voight ma...</td>\n",
       "    </tr>\n",
       "    <tr>\n",
       "      <th>6</th>\n",
       "      <td>7</td>\n",
       "      <td>as good maybe better than original interrupted...</td>\n",
       "    </tr>\n",
       "    <tr>\n",
       "      <th>7</th>\n",
       "      <td>8</td>\n",
       "      <td>disarming someone adapted from:book cabin bare...</td>\n",
       "    </tr>\n",
       "    <tr>\n",
       "      <th>8</th>\n",
       "      <td>9</td>\n",
       "      <td>strangled to death hostile takeover disarming ...</td>\n",
       "    </tr>\n",
       "    <tr>\n",
       "      <th>9</th>\n",
       "      <td>10</td>\n",
       "      <td>major boothroyd character goldeneye espionage ...</td>\n",
       "    </tr>\n",
       "    <tr>\n",
       "      <th>10</th>\n",
       "      <td>11</td>\n",
       "      <td>dating reference to cassius girlie movie great...</td>\n",
       "    </tr>\n",
       "    <tr>\n",
       "      <th>11</th>\n",
       "      <td>12</td>\n",
       "      <td>castle van helsing ship absurd comedy grasshop...</td>\n",
       "    </tr>\n",
       "    <tr>\n",
       "      <th>12</th>\n",
       "      <td>13</td>\n",
       "      <td>sled dog dog-sledding race part live action sh...</td>\n",
       "    </tr>\n",
       "    <tr>\n",
       "      <th>13</th>\n",
       "      <td>14</td>\n",
       "      <td>flashback president of the united states hospi...</td>\n",
       "    </tr>\n",
       "    <tr>\n",
       "      <th>14</th>\n",
       "      <td>15</td>\n",
       "      <td>ship Pirate pirates violence female pirate pir...</td>\n",
       "    </tr>\n",
       "    <tr>\n",
       "      <th>15</th>\n",
       "      <td>16</td>\n",
       "      <td>silenced gun sadistic psychopath money lender ...</td>\n",
       "    </tr>\n",
       "    <tr>\n",
       "      <th>16</th>\n",
       "      <td>17</td>\n",
       "      <td>Emma Thompson visit adapted from:book vicar au...</td>\n",
       "    </tr>\n",
       "    <tr>\n",
       "      <th>17</th>\n",
       "      <td>18</td>\n",
       "      <td>bondage dark comedy dead body barefoot boy sex...</td>\n",
       "    </tr>\n",
       "    <tr>\n",
       "      <th>18</th>\n",
       "      <td>19</td>\n",
       "      <td>calling someone a loser african village poison...</td>\n",
       "    </tr>\n",
       "    <tr>\n",
       "      <th>19</th>\n",
       "      <td>20</td>\n",
       "      <td>runaway train intense punching bag horse drawn...</td>\n",
       "    </tr>\n",
       "  </tbody>\n",
       "</table>\n",
       "</div>"
      ],
      "text/plain": [
       "    movieId                                                tag\n",
       "0         1  buy face mask character's point of view camera...\n",
       "1         2  critter statue motorcycle first love disappear...\n",
       "2         3  wedding Minnesota old duringcreditsstinger mid...\n",
       "3         4  revenge CLV characters interracial relationshi...\n",
       "4         5  4th wall daughter wedding growing old aging st...\n",
       "5         6  cliched cinematic Strong bad man Jon Voight ma...\n",
       "6         7  as good maybe better than original interrupted...\n",
       "7         8  disarming someone adapted from:book cabin bare...\n",
       "8         9  strangled to death hostile takeover disarming ...\n",
       "9        10  major boothroyd character goldeneye espionage ...\n",
       "10       11  dating reference to cassius girlie movie great...\n",
       "11       12  castle van helsing ship absurd comedy grasshop...\n",
       "12       13  sled dog dog-sledding race part live action sh...\n",
       "13       14  flashback president of the united states hospi...\n",
       "14       15  ship Pirate pirates violence female pirate pir...\n",
       "15       16  silenced gun sadistic psychopath money lender ...\n",
       "16       17  Emma Thompson visit adapted from:book vicar au...\n",
       "17       18  bondage dark comedy dead body barefoot boy sex...\n",
       "18       19  calling someone a loser african village poison...\n",
       "19       20  runaway train intense punching bag horse drawn..."
      ]
     },
     "execution_count": 21,
     "metadata": {},
     "output_type": "execute_result"
    }
   ],
   "source": [
    "merged_tags.head(20)\n"
   ]
  },
  {
   "cell_type": "code",
   "execution_count": 22,
   "metadata": {},
   "outputs": [
    {
     "data": {
      "text/plain": [
       "(53452, 2)"
      ]
     },
     "execution_count": 22,
     "metadata": {},
     "output_type": "execute_result"
    }
   ],
   "source": [
    "merged_tags.shape"
   ]
  },
  {
   "cell_type": "code",
   "execution_count": 23,
   "metadata": {},
   "outputs": [],
   "source": [
    "filtered_movies = pd.merge(movies, merged_tags, on=\"movieId\", how=\"inner\")"
   ]
  },
  {
   "cell_type": "code",
   "execution_count": 24,
   "metadata": {},
   "outputs": [
    {
     "data": {
      "text/plain": [
       "(53452, 5)"
      ]
     },
     "execution_count": 24,
     "metadata": {},
     "output_type": "execute_result"
    }
   ],
   "source": [
    "filtered_movies[\"tfidf\"] = filtered_movies[\"genres\"] + \" \" + filtered_movies[\"tag\"]\n",
    "filtered_movies.shape"
   ]
  },
  {
   "cell_type": "code",
   "execution_count": 25,
   "metadata": {},
   "outputs": [
    {
     "data": {
      "application/vnd.microsoft.datawrangler.viewer.v0+json": {
       "columns": [
        {
         "name": "index",
         "rawType": "int64",
         "type": "integer"
        },
        {
         "name": "movieId",
         "rawType": "int64",
         "type": "integer"
        },
        {
         "name": "title",
         "rawType": "object",
         "type": "string"
        },
        {
         "name": "genres",
         "rawType": "object",
         "type": "string"
        },
        {
         "name": "tag",
         "rawType": "object",
         "type": "string"
        },
        {
         "name": "tfidf",
         "rawType": "object",
         "type": "string"
        }
       ],
       "conversionMethod": "pd.DataFrame",
       "ref": "b121f4f4-94d7-49b9-8cc1-24e6961d4b12",
       "rows": [
        [
         "0",
         "1",
         "Toy Story (1995)",
         "Adventure Animation Children Comedy Fantasy",
         "buy face mask character's point of view camera shot game of life board game joss whedon neighbor brat buddy blinds story mutant little boy feel-good binoculars spacesuit love interest dartboard slow motion scene animated DARING RESCUES piggy bank humorous telling someone to shut up American Animation signature falling from a window backyard misunderstanding family relationships pull string doll 3 dimensional sliding down a banister learning a lesson martial arts male villain beautiful rain fight cartoon avi ss card game Pixar animation lots of heart fun family movie storage shed clock torture Comedy  frustration interesting girl water Toy Story pizza van redemption first cgi film nostalgic Disney animated feature low fantasy blockbuster mr potato head famous line depression candy land the board game rival gift toy story Buzz Lightyear national film registry tom hanks mother son relationship scheming ventilation shaft Oscar (Special Achievement) jack in the box surprise ending troll doll unny ohio bouncy ball delivery child antagonist battleship game shepherdess Tim Allen very good favoritism utah teapot pixar Woody chased by a dog package chrysler lebaron convertible talking in one's sleep burn child destroys own toy globe good animation remorse magnifying glass toy soldier male protagonist Want dachshund bully x291-LIVE-John Lasseter Tumey's VHS animated fictional tv commercial teamwork children cartoon title spoken by character children emotional heartfelt jumping through a sunroof little girl childish locked in shivering space ranger Best of Rotten Tomatoes: All Time surgical mask ad for toys CGI elementary school running kids and family meeting bullying recliner chair leggings National Film Registry action medical mask hero's journey warm neighborhood toys cartoon dog famous score chasing a truck dog as gift jumping from height first of series self awareness adventure TÃ©a Leoni does not star in this movie soundtrack Owned two word title Animation ballet flats push button animated dog product placement computer animation seatbelt action figure buddy movie witty almost favorite friends Os dois viram erlend's DVDs arcade talking to a toy backfire rated-G porcelain cgi animation digital sleeping dog shed window toy dental braces twister the game pet dog baby imdb top 250 child's birthday family tim allen buzz lightyear character house family film resourcefulness wallpaper encouragement corkboard fanciful desk plastic army men catchphrase reference to mattel friend reconnaissance mission lipstick on face toy fire truck child hasbro computer generated imagery space explorer talking toy asking directions the boys battery comedy cute magic 8 ball yelling ramp https://movielens.org/tag/:animation biohazard sign mattel christmas USA unlikely friendships whimsica forced puns  rescue fear cgi toy dog child's birthday party pliers shark so funny rainy day watchlist visual pun rescue mission fun animmation christmas present sunlight toy comes to life calling someone an idiot CGI classic microphone Engaging arcade game tough guy funny sci-fi voice acting view through binoculars gas station escape attempt exciting plot BD-Video kids mission subjective camera doorbell HEROIC MISSION escape Cartoon nesting egg enemies become friends mixed soundtrack car crash 3d pet as gift action figures Pixar toyota famous song fishing rod cowboy weightlifting brother sister relationship flashlight Tom Hanks loyal friend moving van boy DVD-Video pizzeria bad guy villain operation game single mother bo peep character van falling out a window affection turbo boost walkie talkie 2009 reissue in Stereoscopic 3-D staircase villian hurts toys itaege etch a sketch karate 3D great movie favorite anthropomorphic toy thunderstorm toybox monsters explosion cult film hero fireplace funny lines John Lasseter part of trilogy dinosaur rivalry classic kids movie poster commercial child's bedroom bright child villain ya boy CG animation showdown cult favorite looking out a window baby monitor bully comeuppance antenna toys played laughter accepting reality arm reflection directorial debut Watched threat rejection boy next door sheriff clever violence falling from height envy toy tea set fistfight ringing a doorbell false accusation lovable characters parachute dead battery bull terrier guilty conscience animation dart wilhelm scream mockery television commercial bedroom surrounded double prize é˜®ä¸€é¸£ apology mouth time lapse photography 55 movies every kid should see--Entertainment Weekly pterodactyl Tumey's To See Again Family cartoon chrysler automobile toolbox comeuppance lifting someone into the air toy robot radio controlled gliding gratitude sunroof selflessness hat very nice male antagonist doll original story loyalty remote controlled toy car rag doll fantasy cowboy boot light hearted scene during opening credits TOYS COME TO LIFE playskool good cartoon chindren Oscar (Best Picture) confrontation audio flashback fast and a furious doubt banister Disney birthday party crate light thunder spaceman toy 1990s want to see again UNLIKELY FRIENDSHIPS moving good time brawl comic hero bed toyota truck innovative cowboy doll toy dinosaur first of trilogy home urban setting squeeze toy troubled production anthropomorphism astronaut reference to marie antoinette rousing karate chop match touching story birthday hockey puck technological marvel scene before opening credits internal logic fails jealousy claw crane mr. potato head character time travel birthday present CLV flying toy animal new toy christmas day skateboard unusual friendship tyrannosaurus rex lifting a female into the air alien dog first part woody character disney friendship rocket suburb car new home soldier Animation  soothing slinky dog child destroys another's toy dolls",
         "Adventure Animation Children Comedy Fantasy buy face mask character's point of view camera shot game of life board game joss whedon neighbor brat buddy blinds story mutant little boy feel-good binoculars spacesuit love interest dartboard slow motion scene animated DARING RESCUES piggy bank humorous telling someone to shut up American Animation signature falling from a window backyard misunderstanding family relationships pull string doll 3 dimensional sliding down a banister learning a lesson martial arts male villain beautiful rain fight cartoon avi ss card game Pixar animation lots of heart fun family movie storage shed clock torture Comedy  frustration interesting girl water Toy Story pizza van redemption first cgi film nostalgic Disney animated feature low fantasy blockbuster mr potato head famous line depression candy land the board game rival gift toy story Buzz Lightyear national film registry tom hanks mother son relationship scheming ventilation shaft Oscar (Special Achievement) jack in the box surprise ending troll doll unny ohio bouncy ball delivery child antagonist battleship game shepherdess Tim Allen very good favoritism utah teapot pixar Woody chased by a dog package chrysler lebaron convertible talking in one's sleep burn child destroys own toy globe good animation remorse magnifying glass toy soldier male protagonist Want dachshund bully x291-LIVE-John Lasseter Tumey's VHS animated fictional tv commercial teamwork children cartoon title spoken by character children emotional heartfelt jumping through a sunroof little girl childish locked in shivering space ranger Best of Rotten Tomatoes: All Time surgical mask ad for toys CGI elementary school running kids and family meeting bullying recliner chair leggings National Film Registry action medical mask hero's journey warm neighborhood toys cartoon dog famous score chasing a truck dog as gift jumping from height first of series self awareness adventure TÃ©a Leoni does not star in this movie soundtrack Owned two word title Animation ballet flats push button animated dog product placement computer animation seatbelt action figure buddy movie witty almost favorite friends Os dois viram erlend's DVDs arcade talking to a toy backfire rated-G porcelain cgi animation digital sleeping dog shed window toy dental braces twister the game pet dog baby imdb top 250 child's birthday family tim allen buzz lightyear character house family film resourcefulness wallpaper encouragement corkboard fanciful desk plastic army men catchphrase reference to mattel friend reconnaissance mission lipstick on face toy fire truck child hasbro computer generated imagery space explorer talking toy asking directions the boys battery comedy cute magic 8 ball yelling ramp https://movielens.org/tag/:animation biohazard sign mattel christmas USA unlikely friendships whimsica forced puns  rescue fear cgi toy dog child's birthday party pliers shark so funny rainy day watchlist visual pun rescue mission fun animmation christmas present sunlight toy comes to life calling someone an idiot CGI classic microphone Engaging arcade game tough guy funny sci-fi voice acting view through binoculars gas station escape attempt exciting plot BD-Video kids mission subjective camera doorbell HEROIC MISSION escape Cartoon nesting egg enemies become friends mixed soundtrack car crash 3d pet as gift action figures Pixar toyota famous song fishing rod cowboy weightlifting brother sister relationship flashlight Tom Hanks loyal friend moving van boy DVD-Video pizzeria bad guy villain operation game single mother bo peep character van falling out a window affection turbo boost walkie talkie 2009 reissue in Stereoscopic 3-D staircase villian hurts toys itaege etch a sketch karate 3D great movie favorite anthropomorphic toy thunderstorm toybox monsters explosion cult film hero fireplace funny lines John Lasseter part of trilogy dinosaur rivalry classic kids movie poster commercial child's bedroom bright child villain ya boy CG animation showdown cult favorite looking out a window baby monitor bully comeuppance antenna toys played laughter accepting reality arm reflection directorial debut Watched threat rejection boy next door sheriff clever violence falling from height envy toy tea set fistfight ringing a doorbell false accusation lovable characters parachute dead battery bull terrier guilty conscience animation dart wilhelm scream mockery television commercial bedroom surrounded double prize é˜®ä¸€é¸£ apology mouth time lapse photography 55 movies every kid should see--Entertainment Weekly pterodactyl Tumey's To See Again Family cartoon chrysler automobile toolbox comeuppance lifting someone into the air toy robot radio controlled gliding gratitude sunroof selflessness hat very nice male antagonist doll original story loyalty remote controlled toy car rag doll fantasy cowboy boot light hearted scene during opening credits TOYS COME TO LIFE playskool good cartoon chindren Oscar (Best Picture) confrontation audio flashback fast and a furious doubt banister Disney birthday party crate light thunder spaceman toy 1990s want to see again UNLIKELY FRIENDSHIPS moving good time brawl comic hero bed toyota truck innovative cowboy doll toy dinosaur first of trilogy home urban setting squeeze toy troubled production anthropomorphism astronaut reference to marie antoinette rousing karate chop match touching story birthday hockey puck technological marvel scene before opening credits internal logic fails jealousy claw crane mr. potato head character time travel birthday present CLV flying toy animal new toy christmas day skateboard unusual friendship tyrannosaurus rex lifting a female into the air alien dog first part woody character disney friendship rocket suburb car new home soldier Animation  soothing slinky dog child destroys another's toy dolls"
        ],
        [
         "1",
         "2",
         "Jumanji (1995)",
         "Adventure Children Fantasy",
         "critter statue motorcycle first love disappearance blunderbuss vehicle magic board game forest refrigerator sniper rifle carnivorous plant cutting one's own hair brochure Filmed in BC rain altering history fight loss of parents mother daughter relationship dice male hunter feline chaos based on novel danger improvised weapon arachnid blonde woman girl lion pregnant woman 1960s carnivore cgi effect driving a car into a building board gun cemetery blockbuster missing child animal killing childhood recaptured shotgun time animal driving a vehicle spider attack mother son relationship friends who live together factory Dynamic CGI Action family legacy surprise ending mustached man part computer animation nemesis aunt niece relationship one word title supernatural fantasy person thought dead is alive game tire zebra construction site cult classic Children Adaptation of Book hit by a car male protagonist snob woodland beat up bully shoe factory brown haired boy looting coming of age subtitled scene title spoken by character children crocodile little girl childish spider actor playing multiple roles thrill vines adapted from:book poison ivy Jumanji police orchestral music score police car heavy rain animal attack weapon live action and animation reference to the twilight zone christmas presents rampage explorer based on young adult novel Lebbat fainting investment banker 19th century giant insect first of series realtor adventure excavation title written by male long haired woman heartwarming lace paint can jungle man animals competition abandoned factory bridge bullet time flood rainforest mosquito boarding school car theft Artifact of Doom canoe based on children's book reference to ringling brothers Baker viu namesake nighttime human hunting a human title same as book partner reference to a horoscope pelican male police officer family breaking the fourth wall hostage situation big game hunter river grounded bad cgi The Game Come to Life elephant presumed dead franchise prologue quicksand jungle laundry detergent cutting face while shaving view through rifle scope bearded man gun store child insect attack long haired girl monsoon driving without a license magic comedy leaf reference to clue the board game police officer kid flick bug reference to tarzan mutation christmas psychotronic film orphan revolver Fantasy cgi monkey rainy day watchlist surrealism predator prey jungle adventure footwear animatronic return to the past poison wood vortex blunder earthquake blonde child family name bicycle chase law enforcement officer long haired female kids Saturn Award (Best Special Effects) christmas party screenplay adapted by author fib new hampshire older version of character car crash Saturn Award (Best Supporting Actress) arrest wisecrack humor boring bicycle brother sister relationship impersonating a police officer library discount store illegal gun sale turning into a monkey pigtails reference to a zodiac sign boy dybbuk box Joe Johnston car accident held at gunpoint perilous escape sporting goods store real estate agent conveyor belt 4k handgun herds of CGI animals title directed by male shared universe firearm columbia tristar home video bat sidearm predator itaege Everything Trying to Kill You tail mansion cult film handcuffs hunter fireplace childhood lush Robin Williams Chris Van Allsburg recluse classic sneaker alternate timeline saying thank you playing a board game suitcase endless screaming plant human becoming an animal santa claus costume crawler 1860s fiction cgi animal underwater scene based on a book vegetation rhinoceros new england hiding in a closet violence bloody lip tween girl looking through a keyhole fortune teller reference to libra the constellation reptile plant attack supernatural power columbia tristar reference to wilt chamberlain adventurer small town vine apology time lapse photography cracked windshield Serial Escalation car crashes into a store attic quadruped shoes handcuffed old photograph lifting someone into the air title directed by man not for kids horrifying (but not Horror genre) vandalism black eye transported back in time fantasy trombone multiple versions of the same character rolling dice psychiatrist trapped in a game wonder bread animal driving a car game piece 1990s father son relationship courage moving squatter wooden chest predatory reptile confession stampede fish out of water scary businessman 20th century chest motorcycle police officer axe motor vehicle aunt nephew relationship hacksaw child in jeopardy For children car through wall no opening credits see also:Zathura rifle rich family time travel nervous breakdown CLV fictional board game night Kirsten Dunst stealing a bicycle exterminator board game convertible first part timeline change beach friendship car new home overalls bum drumbeat child turning into animal police vehicle homeless person",
         "Adventure Children Fantasy critter statue motorcycle first love disappearance blunderbuss vehicle magic board game forest refrigerator sniper rifle carnivorous plant cutting one's own hair brochure Filmed in BC rain altering history fight loss of parents mother daughter relationship dice male hunter feline chaos based on novel danger improvised weapon arachnid blonde woman girl lion pregnant woman 1960s carnivore cgi effect driving a car into a building board gun cemetery blockbuster missing child animal killing childhood recaptured shotgun time animal driving a vehicle spider attack mother son relationship friends who live together factory Dynamic CGI Action family legacy surprise ending mustached man part computer animation nemesis aunt niece relationship one word title supernatural fantasy person thought dead is alive game tire zebra construction site cult classic Children Adaptation of Book hit by a car male protagonist snob woodland beat up bully shoe factory brown haired boy looting coming of age subtitled scene title spoken by character children crocodile little girl childish spider actor playing multiple roles thrill vines adapted from:book poison ivy Jumanji police orchestral music score police car heavy rain animal attack weapon live action and animation reference to the twilight zone christmas presents rampage explorer based on young adult novel Lebbat fainting investment banker 19th century giant insect first of series realtor adventure excavation title written by male long haired woman heartwarming lace paint can jungle man animals competition abandoned factory bridge bullet time flood rainforest mosquito boarding school car theft Artifact of Doom canoe based on children's book reference to ringling brothers Baker viu namesake nighttime human hunting a human title same as book partner reference to a horoscope pelican male police officer family breaking the fourth wall hostage situation big game hunter river grounded bad cgi The Game Come to Life elephant presumed dead franchise prologue quicksand jungle laundry detergent cutting face while shaving view through rifle scope bearded man gun store child insect attack long haired girl monsoon driving without a license magic comedy leaf reference to clue the board game police officer kid flick bug reference to tarzan mutation christmas psychotronic film orphan revolver Fantasy cgi monkey rainy day watchlist surrealism predator prey jungle adventure footwear animatronic return to the past poison wood vortex blunder earthquake blonde child family name bicycle chase law enforcement officer long haired female kids Saturn Award (Best Special Effects) christmas party screenplay adapted by author fib new hampshire older version of character car crash Saturn Award (Best Supporting Actress) arrest wisecrack humor boring bicycle brother sister relationship impersonating a police officer library discount store illegal gun sale turning into a monkey pigtails reference to a zodiac sign boy dybbuk box Joe Johnston car accident held at gunpoint perilous escape sporting goods store real estate agent conveyor belt 4k handgun herds of CGI animals title directed by male shared universe firearm columbia tristar home video bat sidearm predator itaege Everything Trying to Kill You tail mansion cult film handcuffs hunter fireplace childhood lush Robin Williams Chris Van Allsburg recluse classic sneaker alternate timeline saying thank you playing a board game suitcase endless screaming plant human becoming an animal santa claus costume crawler 1860s fiction cgi animal underwater scene based on a book vegetation rhinoceros new england hiding in a closet violence bloody lip tween girl looking through a keyhole fortune teller reference to libra the constellation reptile plant attack supernatural power columbia tristar reference to wilt chamberlain adventurer small town vine apology time lapse photography cracked windshield Serial Escalation car crashes into a store attic quadruped shoes handcuffed old photograph lifting someone into the air title directed by man not for kids horrifying (but not Horror genre) vandalism black eye transported back in time fantasy trombone multiple versions of the same character rolling dice psychiatrist trapped in a game wonder bread animal driving a car game piece 1990s father son relationship courage moving squatter wooden chest predatory reptile confession stampede fish out of water scary businessman 20th century chest motorcycle police officer axe motor vehicle aunt nephew relationship hacksaw child in jeopardy For children car through wall no opening credits see also:Zathura rifle rich family time travel nervous breakdown CLV fictional board game night Kirsten Dunst stealing a bicycle exterminator board game convertible first part timeline change beach friendship car new home overalls bum drumbeat child turning into animal police vehicle homeless person"
        ]
       ],
       "shape": {
        "columns": 5,
        "rows": 2
       }
      },
      "text/html": [
       "<div>\n",
       "<style scoped>\n",
       "    .dataframe tbody tr th:only-of-type {\n",
       "        vertical-align: middle;\n",
       "    }\n",
       "\n",
       "    .dataframe tbody tr th {\n",
       "        vertical-align: top;\n",
       "    }\n",
       "\n",
       "    .dataframe thead th {\n",
       "        text-align: right;\n",
       "    }\n",
       "</style>\n",
       "<table border=\"1\" class=\"dataframe\">\n",
       "  <thead>\n",
       "    <tr style=\"text-align: right;\">\n",
       "      <th></th>\n",
       "      <th>movieId</th>\n",
       "      <th>title</th>\n",
       "      <th>genres</th>\n",
       "      <th>tag</th>\n",
       "      <th>tfidf</th>\n",
       "    </tr>\n",
       "  </thead>\n",
       "  <tbody>\n",
       "    <tr>\n",
       "      <th>0</th>\n",
       "      <td>1</td>\n",
       "      <td>Toy Story (1995)</td>\n",
       "      <td>Adventure Animation Children Comedy Fantasy</td>\n",
       "      <td>buy face mask character's point of view camera...</td>\n",
       "      <td>Adventure Animation Children Comedy Fantasy bu...</td>\n",
       "    </tr>\n",
       "    <tr>\n",
       "      <th>1</th>\n",
       "      <td>2</td>\n",
       "      <td>Jumanji (1995)</td>\n",
       "      <td>Adventure Children Fantasy</td>\n",
       "      <td>critter statue motorcycle first love disappear...</td>\n",
       "      <td>Adventure Children Fantasy critter statue moto...</td>\n",
       "    </tr>\n",
       "  </tbody>\n",
       "</table>\n",
       "</div>"
      ],
      "text/plain": [
       "   movieId             title                                       genres  \\\n",
       "0        1  Toy Story (1995)  Adventure Animation Children Comedy Fantasy   \n",
       "1        2    Jumanji (1995)                   Adventure Children Fantasy   \n",
       "\n",
       "                                                 tag  \\\n",
       "0  buy face mask character's point of view camera...   \n",
       "1  critter statue motorcycle first love disappear...   \n",
       "\n",
       "                                               tfidf  \n",
       "0  Adventure Animation Children Comedy Fantasy bu...  \n",
       "1  Adventure Children Fantasy critter statue moto...  "
      ]
     },
     "execution_count": 25,
     "metadata": {},
     "output_type": "execute_result"
    }
   ],
   "source": [
    "filtered_movies.head(2)"
   ]
  },
  {
   "cell_type": "code",
   "execution_count": 26,
   "metadata": {},
   "outputs": [
    {
     "data": {
      "application/vnd.microsoft.datawrangler.viewer.v0+json": {
       "columns": [
        {
         "name": "index",
         "rawType": "int64",
         "type": "integer"
        },
        {
         "name": "movieId",
         "rawType": "int64",
         "type": "integer"
        },
        {
         "name": "title",
         "rawType": "object",
         "type": "string"
        },
        {
         "name": "genres",
         "rawType": "object",
         "type": "string"
        },
        {
         "name": "tfidf",
         "rawType": "object",
         "type": "string"
        }
       ],
       "conversionMethod": "pd.DataFrame",
       "ref": "7e74a65a-1d31-4de8-bc92-3792c93fd2f4",
       "rows": [
        [
         "0",
         "1",
         "Toy Story (1995)",
         "Adventure Animation Children Comedy Fantasy",
         "Adventure Animation Children Comedy Fantasy buy face mask character's point of view camera shot game of life board game joss whedon neighbor brat buddy blinds story mutant little boy feel-good binoculars spacesuit love interest dartboard slow motion scene animated DARING RESCUES piggy bank humorous telling someone to shut up American Animation signature falling from a window backyard misunderstanding family relationships pull string doll 3 dimensional sliding down a banister learning a lesson martial arts male villain beautiful rain fight cartoon avi ss card game Pixar animation lots of heart fun family movie storage shed clock torture Comedy  frustration interesting girl water Toy Story pizza van redemption first cgi film nostalgic Disney animated feature low fantasy blockbuster mr potato head famous line depression candy land the board game rival gift toy story Buzz Lightyear national film registry tom hanks mother son relationship scheming ventilation shaft Oscar (Special Achievement) jack in the box surprise ending troll doll unny ohio bouncy ball delivery child antagonist battleship game shepherdess Tim Allen very good favoritism utah teapot pixar Woody chased by a dog package chrysler lebaron convertible talking in one's sleep burn child destroys own toy globe good animation remorse magnifying glass toy soldier male protagonist Want dachshund bully x291-LIVE-John Lasseter Tumey's VHS animated fictional tv commercial teamwork children cartoon title spoken by character children emotional heartfelt jumping through a sunroof little girl childish locked in shivering space ranger Best of Rotten Tomatoes: All Time surgical mask ad for toys CGI elementary school running kids and family meeting bullying recliner chair leggings National Film Registry action medical mask hero's journey warm neighborhood toys cartoon dog famous score chasing a truck dog as gift jumping from height first of series self awareness adventure TÃ©a Leoni does not star in this movie soundtrack Owned two word title Animation ballet flats push button animated dog product placement computer animation seatbelt action figure buddy movie witty almost favorite friends Os dois viram erlend's DVDs arcade talking to a toy backfire rated-G porcelain cgi animation digital sleeping dog shed window toy dental braces twister the game pet dog baby imdb top 250 child's birthday family tim allen buzz lightyear character house family film resourcefulness wallpaper encouragement corkboard fanciful desk plastic army men catchphrase reference to mattel friend reconnaissance mission lipstick on face toy fire truck child hasbro computer generated imagery space explorer talking toy asking directions the boys battery comedy cute magic 8 ball yelling ramp https://movielens.org/tag/:animation biohazard sign mattel christmas USA unlikely friendships whimsica forced puns  rescue fear cgi toy dog child's birthday party pliers shark so funny rainy day watchlist visual pun rescue mission fun animmation christmas present sunlight toy comes to life calling someone an idiot CGI classic microphone Engaging arcade game tough guy funny sci-fi voice acting view through binoculars gas station escape attempt exciting plot BD-Video kids mission subjective camera doorbell HEROIC MISSION escape Cartoon nesting egg enemies become friends mixed soundtrack car crash 3d pet as gift action figures Pixar toyota famous song fishing rod cowboy weightlifting brother sister relationship flashlight Tom Hanks loyal friend moving van boy DVD-Video pizzeria bad guy villain operation game single mother bo peep character van falling out a window affection turbo boost walkie talkie 2009 reissue in Stereoscopic 3-D staircase villian hurts toys itaege etch a sketch karate 3D great movie favorite anthropomorphic toy thunderstorm toybox monsters explosion cult film hero fireplace funny lines John Lasseter part of trilogy dinosaur rivalry classic kids movie poster commercial child's bedroom bright child villain ya boy CG animation showdown cult favorite looking out a window baby monitor bully comeuppance antenna toys played laughter accepting reality arm reflection directorial debut Watched threat rejection boy next door sheriff clever violence falling from height envy toy tea set fistfight ringing a doorbell false accusation lovable characters parachute dead battery bull terrier guilty conscience animation dart wilhelm scream mockery television commercial bedroom surrounded double prize é˜®ä¸€é¸£ apology mouth time lapse photography 55 movies every kid should see--Entertainment Weekly pterodactyl Tumey's To See Again Family cartoon chrysler automobile toolbox comeuppance lifting someone into the air toy robot radio controlled gliding gratitude sunroof selflessness hat very nice male antagonist doll original story loyalty remote controlled toy car rag doll fantasy cowboy boot light hearted scene during opening credits TOYS COME TO LIFE playskool good cartoon chindren Oscar (Best Picture) confrontation audio flashback fast and a furious doubt banister Disney birthday party crate light thunder spaceman toy 1990s want to see again UNLIKELY FRIENDSHIPS moving good time brawl comic hero bed toyota truck innovative cowboy doll toy dinosaur first of trilogy home urban setting squeeze toy troubled production anthropomorphism astronaut reference to marie antoinette rousing karate chop match touching story birthday hockey puck technological marvel scene before opening credits internal logic fails jealousy claw crane mr. potato head character time travel birthday present CLV flying toy animal new toy christmas day skateboard unusual friendship tyrannosaurus rex lifting a female into the air alien dog first part woody character disney friendship rocket suburb car new home soldier Animation  soothing slinky dog child destroys another's toy dolls"
        ],
        [
         "1",
         "2",
         "Jumanji (1995)",
         "Adventure Children Fantasy",
         "Adventure Children Fantasy critter statue motorcycle first love disappearance blunderbuss vehicle magic board game forest refrigerator sniper rifle carnivorous plant cutting one's own hair brochure Filmed in BC rain altering history fight loss of parents mother daughter relationship dice male hunter feline chaos based on novel danger improvised weapon arachnid blonde woman girl lion pregnant woman 1960s carnivore cgi effect driving a car into a building board gun cemetery blockbuster missing child animal killing childhood recaptured shotgun time animal driving a vehicle spider attack mother son relationship friends who live together factory Dynamic CGI Action family legacy surprise ending mustached man part computer animation nemesis aunt niece relationship one word title supernatural fantasy person thought dead is alive game tire zebra construction site cult classic Children Adaptation of Book hit by a car male protagonist snob woodland beat up bully shoe factory brown haired boy looting coming of age subtitled scene title spoken by character children crocodile little girl childish spider actor playing multiple roles thrill vines adapted from:book poison ivy Jumanji police orchestral music score police car heavy rain animal attack weapon live action and animation reference to the twilight zone christmas presents rampage explorer based on young adult novel Lebbat fainting investment banker 19th century giant insect first of series realtor adventure excavation title written by male long haired woman heartwarming lace paint can jungle man animals competition abandoned factory bridge bullet time flood rainforest mosquito boarding school car theft Artifact of Doom canoe based on children's book reference to ringling brothers Baker viu namesake nighttime human hunting a human title same as book partner reference to a horoscope pelican male police officer family breaking the fourth wall hostage situation big game hunter river grounded bad cgi The Game Come to Life elephant presumed dead franchise prologue quicksand jungle laundry detergent cutting face while shaving view through rifle scope bearded man gun store child insect attack long haired girl monsoon driving without a license magic comedy leaf reference to clue the board game police officer kid flick bug reference to tarzan mutation christmas psychotronic film orphan revolver Fantasy cgi monkey rainy day watchlist surrealism predator prey jungle adventure footwear animatronic return to the past poison wood vortex blunder earthquake blonde child family name bicycle chase law enforcement officer long haired female kids Saturn Award (Best Special Effects) christmas party screenplay adapted by author fib new hampshire older version of character car crash Saturn Award (Best Supporting Actress) arrest wisecrack humor boring bicycle brother sister relationship impersonating a police officer library discount store illegal gun sale turning into a monkey pigtails reference to a zodiac sign boy dybbuk box Joe Johnston car accident held at gunpoint perilous escape sporting goods store real estate agent conveyor belt 4k handgun herds of CGI animals title directed by male shared universe firearm columbia tristar home video bat sidearm predator itaege Everything Trying to Kill You tail mansion cult film handcuffs hunter fireplace childhood lush Robin Williams Chris Van Allsburg recluse classic sneaker alternate timeline saying thank you playing a board game suitcase endless screaming plant human becoming an animal santa claus costume crawler 1860s fiction cgi animal underwater scene based on a book vegetation rhinoceros new england hiding in a closet violence bloody lip tween girl looking through a keyhole fortune teller reference to libra the constellation reptile plant attack supernatural power columbia tristar reference to wilt chamberlain adventurer small town vine apology time lapse photography cracked windshield Serial Escalation car crashes into a store attic quadruped shoes handcuffed old photograph lifting someone into the air title directed by man not for kids horrifying (but not Horror genre) vandalism black eye transported back in time fantasy trombone multiple versions of the same character rolling dice psychiatrist trapped in a game wonder bread animal driving a car game piece 1990s father son relationship courage moving squatter wooden chest predatory reptile confession stampede fish out of water scary businessman 20th century chest motorcycle police officer axe motor vehicle aunt nephew relationship hacksaw child in jeopardy For children car through wall no opening credits see also:Zathura rifle rich family time travel nervous breakdown CLV fictional board game night Kirsten Dunst stealing a bicycle exterminator board game convertible first part timeline change beach friendship car new home overalls bum drumbeat child turning into animal police vehicle homeless person"
        ],
        [
         "2",
         "3",
         "Grumpier Old Men (1995)",
         "Comedy Romance",
         "Comedy Romance wedding Minnesota old duringcreditsstinger midwest Walter Matthau fishing comedinha de velhinhos engraÃ§ada Daryl Hannah comedinha de velhinhos engraÃƒÂ§ada Jack Lemmon grun running CLV Howard Deutch NO_FA_GANES Burgess Meredith sequel fever old people that is actually funny good soundtrack old age old men best friend moldy Ann Margaret comedy funny Funniest Movies Sophia Loren old man sequel"
        ],
        [
         "3",
         "4",
         "Waiting to Exhale (1995)",
         "Comedy Drama Romance",
         "Comedy Drama Romance revenge CLV characters interracial relationship girl movie single mother slurs chick flick divorce based on novel or book"
        ],
        [
         "4",
         "5",
         "Father of the Bride Part II (1995)",
         "Comedy",
         "Comedy 4th wall daughter wedding growing old aging steve martin watched under duress parent child relationship seen 2021 narration regret father it thought it was funny but it wasn't CLV Fantasy childhood classics pregnancy Touching sequel fever gynecologist midlife crisis seen more than once contraception confidence Diane Keaton heartwarming remake fourth wall baby humorous Steve Martin family father - child relationship Comedy sentimental sequel worst movies ever"
        ],
        [
         "5",
         "6",
         "Heat (1995)",
         "Action Crime Thriller",
         "Action Crime Thriller cliched cinematic Strong bad man Jon Voight male-female relationship 7.5-FilmAffinity Val Kilmer Crime one last job blu-ray criminal mastermind synthesizer soundtrack who cares DVDs robbery R:language police violence heist es un poc de lo de sempre honor ClearPlay overrated cars owned Music  dialogue bank robbery ending lame electronic soundtrack bank job suicide too long ex-con action cat and mouse authenticity Natalie Portman chase tough guy violent murder Michael Mann visceral Can't remember adultery Al guns great soundtrack captivating detective atmospheric soundtrack authentic gunfights al pacino lame R:violence need to own seen 2011 Mary Kircher btaege thieves neo-noir witty gunfight R great acting Seen 2010 boring erlend's DVDs los angeles Captivating amazing cast crime Action HD MKV Tumey's DVDs Top 10 ever complex characters loner teenage girl thief tense Viviane Vives dumbed down real life gang Reflection ensemble cast professionals betrayal Third Act Problems 1 Al Pacino bank heist understated Robert De Niro netflix queue Los Angeles Bank Heist vontatott somber obsession tragic end realistic imdb top 250 Ashley Judd ONE LAST HEIST Rob Bibliothek slick Al Pacino Vs Robert De Niro hollywoodization suspense cult film heist movie Bechdel Test:Fail CLV Recommendz Top Pick heists robert de niro In The Nucleus career criminal Want philosophy long Realistic crime epic slow paced setting:LA bleak Violence  mine Al and Robert individualism Heist battle of wits relationships realistic action"
        ],
        [
         "6",
         "7",
         "Sabrina (1995)",
         "Comedy Romance",
         "Comedy Romance as good maybe better than original interrupted kiss Harrison Ford helicopter ride vogue magazine long island, new york living above a garage remakeOf:Sabrina(1954) picnic on the beach ugly duckling automobile character name as title Drama midlife crisis romance sophistication offering a bribe cleavage sibling relationship man sedated family relationships chick flick mistaken identity Greg Kinnear marriage proposal solarium Julia Ormand bentley motor vehicle jet plane NO_FA_GANES french boyfriend fairy tale bicycle tour chauffeur makeover marriage engagement brother punches brother sexuality great cast park avenue manhattan new york city elopement infatuation based on a play oceanside home martha's vineyard photographer millionaire redemption fantasy romance unfaithful fiance dinner date voice over narration party female protagonist father son relationship fiance fiancee relationship return home brother brother relationship long island new york family estate confession playboy unrequited love ends with a kiss businessman long island reference to bill bojangles robinson upstairs-downstairs love british car Julia Ormond mother son relationship Nancy Marchand finding yourself Paris surprise ending Romance falling in love paris paris france love story business deal paris, france cinderella story new york city tycoon american abroad fusion breakout bentley the car concorde paris CLV telephone call transformation womanizer workaholic forbidden love color remake of black and white film family business sitting on glass coming of age passionate kiss remake dog slow dancing remadeAs:Sabrina(1995) comedy flat screen television romantique attempted seduction fashion assistant relationships love triangle business merger based on play kiss"
        ],
        [
         "7",
         "8",
         "Tom and Huck (1995)",
         "Adventure Children",
         "Adventure Children disarming someone adapted from:book cabin barefoot male based on a book barefoot boy finger cut sheriff violence child sneaks out of house near drowning ends with freeze frame tween girl shaking hands child's point of view one room schoolhouse Library System falling from height two against one barefoot native american nightmare blood oath jar fistfight false accusation outlaw cigar smoking undertaker doctor newspaper headline witness alabama skeleton school abandoned house based on novel or book forenames as title knocked unconscious candle cave knifeman tough guy young love shoe murder rural setting huckleberry finn character small town 19th century accused of murder falling to death lantern three word title engagement bare chested teenage boy opening action scene climbing out a window child smoking knife throwing stabbed to death on the run boyfriend girlfriend relationship falling into a hole sneaking out climbing a tree child fighting adult good versus evil sleeping rough based on novel first kiss map alcoholic rescue from drowning long brown hair cowboy hat flintlock pistol injun joe character bare chested male raft death timeframe 19th century girl testimony male female relationship knife in back looking at oneself in a mirror chest of gold coins fat man Disney knife bridge nostalgic sneeze witness to a murder judge treasure map bath mud boy brother brother relationship brawl lost treasure trial flying kick canoe missouri evil man child protagonist bible single mother pipe smoking Mark Twain based on book jail cell beating child hero teenage hero nicknames as title knife fight painting a fence male friendship prospect preferred chores becky thatcher character classroom funeral runaway surprise ending buried treasure jumping through a window aunt nephew relationship echo child in jeopardy character names in title wilderness drunkard teenager fighting adult coffin character names as title courtroom criminal suspense cult film covered in mud hero teacher author:Mark Twain duel freeze frame rifle torn shirt framed for murder widow douglas character cutting one's finger lying under oath musket fishing hook jail mirror cave in brunette slice of life sword fight murder trial child treasure chest knife in the back campfire shouting sword pushed off a bridge mississippi river grave robbing death threat flintlock rifle punched in the face apple trapped in a cave Peter Hewitt tom sawyer character camera shot of bare feet showdown fear of ghosts swearing an oath aunt polly character friendship character name in title slimehouse marble graveyard spider eyepatch river kiss"
        ],
        [
         "8",
         "9",
         "Sudden Death (1995)",
         "Action",
         "Action strangled to death hostile takeover disarming someone ice rink uzi psychotronic film violence automobile evacuation bone as weapon falling from height rescue fear jean-claude van damme burned alive fistfight blood splatter homemade weapon shot in the forehead stadium u.s. vice president hand to hand combat mascot costume glock assassination attempt rescue mission action pittsburgh pennsylvania ambush black comedy kitchen tough guy terrorism race against time mercilessness murder shootout assassination one day timespan Can't remember martial arts paranoia vice president double cross one against many mission opening action scene fight exploding car gore shot in the heart two word title escape mother daughter relationship time bomb attempted murder bravery good versus evil villainess mayor independent film female assassin torture oldsmobile warrior gunfight henchman danger fbi federal bureau of investigation wisecrack humor pistol rooftop terrorist plot scream death explosive girl improvisation flash forward popcorn Action brother sister relationship chef chicago blackhawks rooftop fight anti hero star spangled banner knife heroism oldsmobile cutlass supreme 1990s body lands on a car comic relief kidnapping rocket launcher strangulation father son relationship boy courage oldsmobile motor vehicle politician assassin machismo held at gunpoint die hard scenario evil man man on fire brutality villain timeframe 1990s security guard action hero demolition hostage betrayal cia central intelligence agency helicopter crash mother son relationship pittsburgh penguins ransom car bomb m 16 masked killer surprise ending locker room death in title karate chop sole black character dies cliche stabbed in the throat deception conspiracy helicopter karate child in jeopardy panic u.s. car bodyguard survival Jean-Claude Van Damme explosion rogue agent suspense prologue ice hockey cult film final showdown hero near death experience murderess unlikely hero male rear nudity hockey bazooka director also cinematographer father daughter relationship CLV bomb terrorist blood universal pittsburgh, pennsylvania hero kills a woman semiautomatic pistol Peter Hyams title spoken by character ex husband ex wife relationship one man army showdown fireman exploding helicopter car fbi agent man murders a woman silencer"
        ],
        [
         "9",
         "10",
         "GoldenEye (1995)",
         "Action Adventure Thriller",
         "Action Adventure Thriller major boothroyd character goldeneye espionage automobile gun duel boat russian general owned motorcycle megalomaniac tattoo on butt computer hacker vehicle woman rapes a man driving a tank plane crash slow motion scene unsubtitled foreign language lifting an adult into the air machine gun st. petersburg russia bungee jumping james bond spies murder Sean Bean dies intelligence agency former soviet union martial arts player I wanted the bad guy to win.  Sean Bean out-Bonds Bond. fight friend turned foe card game memorable lines kissing while having sex man wears a tuxedo russia computer cracker villainess Siberia head butt london england male soldier sexuality 007 terrorist plot death secret base bungee jump stunt Bob*ola exploding building gun cemetery missile blockbuster strangulation kidnapping russian army execution gadget hostage shot in the back Pierce Brosnan Cuba gangster color in title sadism Judi Dench poetic justice Latin America army gambling house sequel computer games 007 movies are bad. one word title shot in the foot reverse footage seventeenth part mexican standoff nuclear weapons top secret subtitled scene title spoken by character computer virus cult figure colonel trap bill tanner character shot in the chest propaganda seaplane st. petersburg, russia satellite british elevator it's a good movie but the end of 007 is always the same femme fatale blood splatter woman with a gun weapon action year 1995 innuendo intelligence Izabella Scorupco wheelchair cuba mgm ua home video attempted lesbian rape opening action scene shaken not stirred adventure russian aston martin general good versus evil female assassin warrior gunfight russophobia bisexual woman suffocation pistol female killer museum Seen 2020 enemy kgb fire airplane british secret service vengeance bullet time Bond Russia mercenary ferrari die hard scenario laser cutter casino partner motor car Famke Janssen conspiracy helicopter church spy train explosion franchise mixed caps in title jungle train secret agent male rape good man one-liners spying red ferrari rotorcraft exploding helicopter casual sex bathroom killer as protagonist reboot of series electro magnetic pulse loss of friend car chase Best Of the Brosnon Bonds falsely accused bond chemical weapons flash freeze death shot in the forehead train wreck hand to hand combat riviera tank slide locked back mixed martial arts british intelligence Memorable Characters intelligence agent leg scissors airport chase tough guy funny cranberry m character spy mission boys with toys britain BD-Video mgm ua escape saint petersburg russia tank chase scene btaege gambling casino motorcycle stunt exploding train James Bond trailer narrated by nick tate bungee jump part of the body in title red army special car 007 (series) gun battle disfigurement car accident machismo held at gunpoint evil man high tech villain action hero gadget watch james bond character computer ejection seat research station baccarat bond girl military casino card game MTSKAF dark official james bond series karate fighter jet revenge russian mafia explosion rogue agent Sean Bean cult film Caribbean snow blood classic female gunfighter ITS AN OK MOVIE IF YOU LIKE  JAMES BOUND. MI6 massacre laser hero killing woman showdown philandering violence falling from height spy turned terrorist dominant woman rough sex attempted rape fistfight ak 47 official bond film evil plot miss moneypenny character EMP terrorism grenade organized crime shootout thriller shot to death german actor playing foreigner exploding car secret intelligence service time bomb lifting someone into the air stealth helicopter agent electromagnetic pulse gadgetry secret service agent evil woman internet year 1986 ridiculous Tumey's DVDs gadgets see you in hell assassin brawl spy camera good dialogue lesbian subtext sadist cossack gatling gun sauna casino owners secret service motor vehicle femdom pseudo rated post soviet russia returning character with different actor dominatrix CLV Puerto Rico terrorist satellite dish exploding tank seen more than once lifting a female into the air explosions one man army vodka martini beach revolving door car broken electronic works soldier silencer secret identity gadget car"
        ],
        [
         "10",
         "11",
         "American President, The (1995)",
         "Comedy Drama Romance",
         "Comedy Drama Romance dating reference to cassius girlie movie great story christmas presidential election usa president portrait of a president idealism clever dialogue florist shop reference to arthur murray woman wears only a man's shirt reference to the state of the union speech Drama Michael Douglas florist reference to dwight d. eisenhower widower columbia tristar house of representatives politics single parent widower single woman relationship reference to james buchanen screenwriter:Aaron Sorkin Amazing kung fu liberal propaganda news conference morals reference to julius caesar NO_FA_GANES state of the union address liberal political consultant 23.03.06 speechwriter oval office White House trombone state dinner single parents great cast seen lobbyist great performances presidential candidate decent flick new love Annette Bening u.s. president chief of staff politician environmentalist american president political campaign reference to thomas jefferson reference to franklin d. roosevelt political candidate sister sister relationship playing pool love reference to brutus the white house bouquet columbia tristar home video gun control Romance reference to woodrow wilson reference to king louis xvi reference to marie antoinette Martin Sheen environmental issues DVD Collection white house senator Bibliothek Aaron Sorkin cinderella story flag burning wildlife conservation diplomatic reception implied sex CLV reference to frank capra press secretary cheesy washington d.c. president seen more than once Rob Reiner US President political humor reference to martin van buren cult favorite cute election campaign ethics camp david"
        ],
        [
         "11",
         "12",
         "Dracula: Dead and Loving It (1995)",
         "Comedy Horror",
         "Comedy Horror castle van helsing ship absurd comedy grasshopper loss of friend year 1893 barefoot woman calling someone a degenerate hospital sexy woman covered in blood spiderweb undead vampire assistant busty woman finger cut psychotronic film slipping on shit horror spoof human brain shadow on a wall seduction renfield enslavement falling from height father sees man groping his daughter barefoot bride opera renfield character dancing gothic killed by sunlight mina murray character van helsing character reference to abraham van helsing burned alive blood splatter vampire castle professor caught in a spider web doctor trance vampires voluptuous woman corpse hanging upside down insane asylum colliding on glass window guano hypnotism funny couple dancing character says poppycock coachman pallor sanitarium vampirism vampire biting neck slapstick comedy solicitor count dream sequence horse and carriage fainting drink thrown into someone's face Mel Brooks bending metal bar character says i still got it grave parody vampire count man molested by woman dracula burned by a cross slipping on stairs trying to get the last word woman wears a scarf reference to paris shapeshifting bitten in the neck immortality reference to demons skull vampire bite face slap stabbed in the heart shadow character says i don't care park exploding body intestines london england garlic maidservant satire boring paper cut spoof dream scene death breaking a mirror carfax abbey redheaded woman slave undressing in front of a window stepping on someone human versus vampire bitten by a vampire broken mirror lucy westenra character gypsy vampire fangs sexy female vampire killed by a vampire superhuman strength borgo pass vampire bat insect big breasts mountain pass eating an insect entering the closet blood on shirt bat excrement intangibility stake through the heart smashing mirror chapel chandelier calling someone darling cross dancing in front of a mirror fiance fiancee relationship farce enema sunset dr jack seward character telekinesis transylvania Leslie Nielsen calling someone an asshole nosferatu calling someone my dear ship's wheel dance scene horse carriage no reflection in a mirror bending a prison bar insect eating human caught in spider web love downblouse mourning for the villain order reference to whitby aversion to garlic sailing ship no reflection redhead vampire horror autopsy burnt by sunlight asking for punishment bat bending steel bars colliding with chandelier stepping in shit jumping through a window dream character says they had it coming hammer character repeats someone else's dialogue climbing through a window wig pretty woman ball coffin written and directed by cast member abandoned chapel breaking a glass window five word title bite mark organ fangs cult film reference to an enema asking to be punished vampire lair perseverance satirical hypnosis village vampire comedy father daughter relationship end credits roll call male vampire blood lust seductive dance male protagonist vampire killed by sunlight schooner calling someone a pervert death of vampire wearing a scarf indoors british abroad jonathan harker character female vampire mental control woman exposing her breasts fainting man BD-R scarf theater cobweb falling down stairs vampire hunter hung upside down shapeshifter character name in title full moon super strength colon in title poked in the eye romania incision reference to a demon spider vampire slayer brain"
        ],
        [
         "12",
         "13",
         "Balto (1995)",
         "Adventure Animation Children",
         "Adventure Animation Children sled dog dog-sledding race part live action ship underwater scene hospital spiderweb marking a trail threat husky dog based on true story sort of boring husky narrator statue falling from height orchestral music score rock boat snow adventure rescue telegraph timeframe 1920s ill child ice cave love interest surrealism goose doctor broken bottle balto character snowball animated animation year 1995 animal that acts human furnace lost in the woods russian accent forest animal villain mockery live action and animation action girl knocked unconscious telegraph operator timeframe 20th century cave race against time sled dogs avalanche feather plucking bear furry pets arctic wolf outsider bone animal name in title tenor biplane illumination lantern swimming underwater dog team first of series race fight live action sequence title written by female pawprint dogs antitoxin boyfriend girlfriend relationship grizzly bear animal protagonist half blood reference to the iditarod title directed by man hot dog 1920s snowstorm dog racing animal hero dogsled footprint hat journey title written by male older version of character loosely based on a true story arrogance piano white wolf rescue from drowning crawlspace scene during opening credits self identity cliff sadness self esteem woods frozen lake prejudice bear attack falling over a cliff girl classical music wolf dog audio flashback cold weather reference to the jetsons right hand man chorus unconsciousness throwing a snowball lackey bandana sneeze airplane heroism dog sled race hit with a snowball crate eating soap dog sled alaska hand drawn animation light 1990s romantic rivalry racing courage footprint in the snow sick child glass wrongfully accused pop music singer offscreen illness timeframe 1990s boulder cheerleader traditional animation 20th century boiler room epidemic dog sled team grandmother granddaughter relationship title directed by male nome alaska city park friends who live together taunting cold tree vial surprise ending plaque outcast diphtheria snow goose disease iditarod talking animal 2d animation stray dog Ei muista itaege crony lie cleaver part animated wilderness coffin northern lights morse code one word title presumed dead pneumonia cult film storm wolves memorial medicine serum finish line blizzard syringe polar bear snow train sun Simon Wells balladeer male protagonist rivalry falling off a cliff pet child dog movie dog race bully drowning going in circles strength breaking through ice sausage link sense of smell central park manhattan new york city falling icicle talking animals children butcher dog first part year 1925 character name in title shunned poulterer scent wolf slimehouse howling half breed sidekick sled James Horner icicle reference to fyodor dostoyevsky actor playing multiple roles"
        ],
        [
         "13",
         "14",
         "Nixon (1995)",
         "Drama",
         "Drama flashback president of the united states hospital reference to frankenstein evil politician controversy based on true story USA based on real person presidential election usa president character name as title timeframe 1920s cold war era reference to mohammad reza shah pahlavi Drama 1930s surname as title power political corruption history 5 fbi chief steak husband wife relationship bedroom washington dc, usa scam politics cinematographer:Robert Richardson cover up election nixon resignation paranoia political cover up republican party trust political leader timeframe 1930s director cameo 1920s based on a true story political consultant Anthony Hopkins piano Watergate government oval office american history billiards fbi federal bureau of investigation Historical opinion political conspiracy confrontation US history timeframe 1960s lincoln memorial american politics 1960s alcoholic drink watergate first lady United States year 1973 father son relationship memory politician united states of america horse race brother brother relationship biographical career true story china illness political campaign black and white scene courtship Oliver Stone political candidate interpreter quaker usa marriage mother son relationship man wears eyeglasses rise and fall biopic tape recording nixon woman wears eyeglasses watergate scandal conspiracy alcoholism richard nixon one word title vietnam war 1970s corruption historical figure press conference CLV drunk washington d.c. president character based on real person:Richard Nixon own Tumey's VHS year 1972 US President long Wooohoo title spoken by character political drama epic disney psychedelic therapy election campaign biography"
        ],
        [
         "14",
         "15",
         "Cutthroat Island (1995)",
         "Action Adventure Romance",
         "Action Adventure Romance ship Pirate pirates violence female pirate pirate ship Renny Harlin adventuress monkey love interest dumb but funny action heroine timeframe 1660s action sword duel chase alcohol sea battle strong female character humor 1660s adventurer exotic island hook for a hand combat tavern double cross shipwreck swashbuckler adventure mgm ua adventure better than I remembered 17th century escape kissing while having sex strong female lead map treasure sexuality bar fight cannon slave rope heroine timeframe 17th century tattooed map bad acting treasure map slave auction latin mgm sensuality female protagonist swashbuckler Matthew Modine kicked in the groin Geena Davis betrayal barroom brawl Frank Langella pirate british navy paramount exploding ship assertive woman island death of father treasure hunt explosion surgery uncle niece relationship duel bar shootout CLV father daughter relationship scalp brunette tattoo on head sword fight translator sword big budget showdown battle kiss"
        ],
        [
         "15",
         "16",
         "Casino (1995)",
         "Crime Drama",
         "Crime Drama silenced gun sadistic psychopath money lender smith &amp; wesson model 15 blu-ray woman snorts cocaine in medias res midwest shot in the head heist fbi surveillance lap dissolve girl stuck her tongue out maximalism mob lawyer walther pp Gangster blueberry muffin money laundering slow motion scene illegal activities anti semite old man beaten with a telephone 20060407 power struggle old man murder key head in a vise watch cinematographer:Robert Richardson handgun with silencer shot and killed etaege slow 1980s surveillance sleazy man epic drama female drug addict jewish lawyer Las Vegas long movie vise based on novel torture crushed head noise complaint arab man hit with a baseball bat cowboy hat nudity (rear) nevada desert social club skimming american criminal death mafioso Great Ensemble Cast plot first person narration office spitting in food boss hit with a telephone illegal prostitution Divx1 wiretap James Woods pain safe deposit box toxic masculinity safe deposit box key depression shotgun criminal empire hotel casino vegas mob car damage shot in the back betrayal reference to john barrymore abusive mother gangster Robert De Niro colt python car bomb broken finger cosa nostra criminal gang m1911 pistol mob enforcer hypocrisy title spoken by narrator poker senator alcoholism contemporary western smith &amp; wesson model 10 one word title courtroom corruption italian gangster colorful clothes Martin Scorsese tracking shot timeframe 1980s Suspense gangland hit death of brother stabbed in the neck title spoken by character extreme violence steel baseball bat safe mine fbi agent complex Vegas timeframe 1970s burglar bird's eye shot evil domestic violence mob violence private jet storyline gambler cannibalism shot in the chest tied to a bed uzi police mob trial nudity broken hand neo western suitcase full of money jewish mobster squeezing blood splatter oral sex dual narration political corruption beaten with a baseball bat black comedy surveillance photograph crooked gambling mob boss insult muddled motivations sex scandal historical drama de niro in pink investment banker hit with a hammer period drama crime empire schoolboy circular saw glorifying violence year 1980 hysterical wife Robert DeNiro soundtrack jewellery heist traveling shot blow job in a car fran  woman performs fellatio scorcese getting rid of somebody erlend's DVDs alcohol abuse docudrama drama violent gangster great performances gangland crime flashy year 1973 anti semitic slur wealth united states of america garter underworld murder of brother pimp mob million dollars goon casino mob hit mafiosi gangsterism joe pesci imdb top 250 homicide hammer short man excellent cast helicopter friend friend relationship Bibliothek casino manager heart attack boyhood friend gambling debt fired from a job food store intoxication wife cheats on husband modern western female escort cash costa rica drunk italian mafia smith &amp; wesson model 39 chain smoking arab playing golf gambling punched in the face jewish american labor union mobster control freak money gangster murders fellow gangster non-fiction elimination iris shot person on fire fat mafioso drug overdose strictness indulgent snorting cocaine High Production Values based on true story true crime na dysku perfectionist desert bus stop shot with a silenced gun gangster film prostitution card cheat gambling addict ball peen hammer year 1983 drunk wife compulsive gambler tough guy crime family women as sexual objects card playing beaten to death psychopath gambling syndicate swimming pool cool drug addiction adultery BD-Video screenwriting mafia boss depressed woman criminal organization nagging wife Nicholas Pileggi reference to al capone saw machine electronic surveillance title appears in writing gambling casino fbi federal bureau of investigation great ending crime boss cigarette multiple narrators sex in a car mafia cowboy crime syndicate oral sex in a car follow shot las vegas casino gangsters shot dead voice over narration wealthy man grocery store mafia don casino security golf course brother brother relationship held at gunpoint hulu sex scene killing crying gamble female nudity man shot to death american mafia 4k blow job firearm diamond theft rise and fall cornfield dutch angle Nudity (Rear) baseball bat used as a weapon liquidation borderline personality disorder slot machine temper stabbed in the throat mob hitman rewatch cigarette smoking jewelry con artist revenge drunkenness man killed explosion breaking a rule corrupt politician criminal character development cult film fbi fellatio produce market oral sex in car telephone call crime lord blood woman killed jew fast paced sandwich Nudity (Topless - Brief) suitcase long Pesci shot in the temple las vegas death from heart attack witness elimination browning hi power pistol ethnic slur masterpiece listening device greed brute telephone narrated muffin burglary Mafia threat based on a book stooge mob execution dead body in a car trunk violence memasa's movies mossberg 500 Goodfellas II chicago mob marriage crisis drug abuse cigarette holder actor shares first name with character screenplay bookie crushed hand underboss television host italian food threatened with a circular saw anti semitic corpse mormon ultra slow motion dolly shot killer loan shark criminal underworld husband wife relationship stabbed with a pencil violent observation hitman Joe Pesci beaten up prostitute organized crime old gangster labor stabbed with a pen hammer as a weapon kansas city pen as a weapon los angeles california shot to death exploding car casino employee baseball bat lifting someone into the air need to own on dvr NO_FA_GANES cocaine ex prostitute glitzy tied up Robert Deniro Eric's Dvds glitter predictable chicago outfit DeNiro gangland chicago illinois jeweler's loupe the mob overdose sex in bed Sharon Stone spaghetti depressing italian american reference to the elephant man cult director fbi investigation chip Tumey's DVDs complex characters jewish gangster police surveillance shocked with a cattle prod stylish torturer ensemble cast gangland execution golf player brutality based on book beating american mobster sadist las vegas nevada colt revolver antisemitism las vegas police department cheating wife con man mob family Documentary like violent man jewels 1970s capitalism diamond heist gangland murder CLV death by heart attack robert de niro slurs silenced pistol woman shot to death reference to detroit reference to ozzie and harriet american gangster kansas city missouri emotionally unstable woman wise guy brutal murder dispute hierarchy crime epic cattle prod neo noir gangster crime chicagoan bookmaker ballpoint pen silencer buried alive"
        ],
        [
         "16",
         "17",
         "Sense and Sensibility (1995)",
         "Drama Romance",
         "Drama Romance Emma Thompson visit adapted from:book vicar author:Jane Austen loss of fortune sincerity devon england based on a book servant stepmother Kate Winslet London older man younger woman relationship na dysku honor british rescue dancing psychological drama bowling arranged marriage death of stepfather pianoforte jane austen rural area empire fashion intimacy reference to william shakespeare Great Adaptations Sven's to see list parcel classic literature doctor three sisters suitor romance period piece snobbery based on novel or book Regency England candle husband wife relationship shakespeare BGAB LRC kite widow rural setting famous score chick flick British monogram horse and carriage not available opening a door 19th century Jane Austen period drama ends with a wedding three word title beautiful britain rainstorm class differences marriage proposal treehouse very well adapted atmospheric Unconditional Love card game handkerchief Imogen Stubbs mother daughter relationship disdain costume drama illegitimate child hugh grant based on novel duty resignation poetry piano drawing london england heartwarming picnic social criticism poverty romantic secret engagement rural dinner mother in law son in law relationship boring horseback riding shakespearean quotation young girl atlas death of husband Shakespeare rich man poor woman brother sister relationship likeable love story loss of father 1800s wedding lock of hair teenage girl beautiful scenery English sword fighting Ang Lee realistic characters Clssical Romance ill teenage girl timeframe 1800s party trials and tribulations female protagonist father son relationship timeframe 1810s depression dvd brother brother relationship tomboy hulu Great Screenplays illness Hugh Grant fall courtship parrot bed secret marriage engagement dark past unrequited love gripping pregnancy sister sister relationship 4k love secrecy likeable characters title same as book Netflix Finland prudence Period tearjerker romance bouquet Oscar Nominee: Best Picture 1995 true love story parish bird singing Alan Rickman Romance Britain baby passion country life comedy of manners upper class fast sad letter church seen a while ago Bibliothek favorite melodrama literature tragic love seen 2012 country estate coin medical examination jealousy 1810s romanticism cousin cousin relationship decorum Hugh Laurie intelligent regency period patriarchy CLV blood devon classic period film f rated rich snob cottage nothing happens own historical 18th century BD-R acceptance east indies horse long stable Romance  dog inheritance stepbrother stepsister relationship emotional heartbreak mine colonel gentle cinema critical Oscar Nominee: Best Picture amazing acting love triangle english country dance second wife money damsel in distress military officer"
        ],
        [
         "17",
         "18",
         "Four Rooms (1995)",
         "Comedy",
         "Comedy bondage dark comedy dead body barefoot boy sex gagged woman cartoon on tv revolver role play elevator multiple storylines Drama hotel room scene during end credits surrealism Jennifer Beals trance movie producer weapon supernatural power gross black comedy hoodlum witches' coven pasties corpse dead prostitute hypnotism awesome soundtrack murder witches retro mistaken identity slapstick comedy sperm incest multiple short stories in one blasphemous animated opening credits goddess witchcraft spell mother daughter relationship new year's eve Robert Rodriguez Nudity (Topless) anthology film actor director Allison Anders child smoking cigarette independent film los angeles, california hotel cult movie cast tied to a chair new year reference to peter lorre animated title sequence hanging out a window tarantino satire directed by several directors los angeles witch Thriller title directed by female drunken telephone call Comedy portmanteau film coven fire brother sister relationship neo screwball comedy woman director nudity (topless) anthology champagne incest overtone collection of short films bet foul language 4 hostage champagne bottle female nudity number in title bellhop vomiting Combustible Edison Music gangster implied fellatio precocious child Rodriguez Antonio Banderas b movie Alexandre Rockwell cigarette smoking omnibus Salma Hayek meat cleaver duct tape Tim Roth cult film party hat omnibus film syringe non statutory female on male rape Tarantino wraparound story Madonna female friendship fast paced f rated collective filmmaking own night filmmaking Quentin Tarantino Tumey's VHS toe sucking zippo lighter interracial relationship severed finger Bruce Willis movie star disney feet magic comedy bathroom lingerie slip"
        ],
        [
         "18",
         "19",
         "Ace Ventura: When Nature Calls (1995)",
         "Comedy",
         "Comedy calling someone a loser african village poison dart hysteria Steve Oedekerk slow motion scene unsubtitled foreign language chinese monastery eastern gorilla procyonidae broken man money making scheme Simon Callow pet detective over the top reference to tuna fish reference to jesus christ reference to mr. belvedere procyon lotor reference to jack and the beanstalk dusting for fingerprints raped by a gorilla talking through one's buttocks chief Comedy  fertilizer reference to bingo woman flashing breasts cebidae crashing a car into a tree medicine man lion mountaintop monastery dark bat reference to yak Stupid as Hell haplorhines bestiality african princess blockbuster kidnapping celibacy Jim Carrey eccentric man character says i am alive caught masturbating childhood classic hawaiian shirt medal oath of celibacy mistranslation surprise ending can can deadly fall apologetic attacker crazy naked man master of disguise gingivitis hominidae procyonid sequel slinky arctoidea stripped naked reference to weasel zebra reference to canada himalayas searching for motive obscenity cult classic village reference to mary poppins light bat awesome reference to marcus antonius woman exposing her breasts wacky comedy giving birth imitating an animal character asks how would i know character name in title fake accent full moon reference to gotan monster truck clerical celibacy anti fur activist eating raw meat loss of virginity chess man steps on a man's crotch nudity threatened with a knife curse dancing reference to chicago One of the worst movies of all time white bat vow of celibacy chief of security Gross-out albizia julibrissin hehehe noon reference to a rhinoceros reference to a rat simple emotional breakdown slapstick comedy implied nudity reference to bumblebee fur detective nigeria dumb human animal relationship bonai province reference to satan gotan on-library  gorilla raped by an animal reference to australia man raped reference to mister belvadere flim flam motivation lowland gorilla meditation holy man reference to a cat hominid airplane chiroptera fingerprint homininae cebinae urine stain indigenous african apes great ape fictional country nocturnal animal toy horse whip ace ventura musteloidea pregnant character says war is hell raccoon reference to a moose princess character says go to hell helicopter motive spit in the face childbirth elephant life is sacred biting hand rape simon says jungle primate character warns man that his testicles are visible monastery disguise nibia mistaken for being a stripper workaholic spying character says i dare you reference to north africa reference to rich uncle pennybags horse stewardess car crashing into a tree birth comedy poisonous dart spear yelling buried in sand spring reference to tarzan Not my kind of comedy gorillini whip albizia tree corvus corax calling someone a sissy stupidity arranged marriage kidnapped animal testicle sexy princess monkey breaking an oath life partner mountain climbing character says don't look down calling someone a devil reference to pierre gustave toutant beauregard guano masterbation buddhist monk hominids lost the will to live raven tooth decay tribe going over a waterfall procyon engagement sacred ground nocturnal mammal subjective camera premature birth raped by animal corvus chiroptophobia skull procyonids roaring aura white devil as epithet medallion raw meat trophy collection biting attacker reference to silver the horse sacred animal firewalking ace ventura character fictional african country buddhism panthera leo virgin china reference to aboriginal australians land rover hut pregnancy reference to a hound dog selfishness reference to a mongoose character says i will kill you bat dirty cop deadline buddhist monastery fran-done crude humor asia childhood fav character says let's go kick butt tail waving goodbye silverback american abroad crop buddha statue mimosa tree exploitation hilarious mistaken for a stripper platyrrhini spit black market private detective reference to the shawshank redemption selfish virgin woman raped by a female gorilla searching for a culprit Rhino action :D cult favorite slimehouse shrine reference to lynn aloysius belvedere simiformes marriage of state reference to sweeney todd interracial romance dowry dead animal oathbreaker temptation reference to rabies stupid wachati princess reference to marc anthony mucus monocle reference to william shakespeare bloody face mistaken for giving birth eastern lowland gorilla new world monkey dart cave mating season consul masturbation second part bowl character says no falling to death time lapse photography scrotifera african hominids monasticism character says i am a princess black people lifting someone into the air capuchin monkey shield haplorhini riding crop pain threshold reference to monopoly the game devil gorilla beringei graueri common raven anti fur male objectification silly fun blood in face sex with an animal gorilla beringei sunglasses trophy hunter screaming in pain gross out comedy reference to lone ranger very funny interpreter zoophilia naked ashram plate laughing at someone's pain troubled production simian goofy consulate talking in sleep princess commoner love bad taste human skull forensics five word title spring toy reference to hasbro africa alibi tibetan monastery reference to shish kebab man spits on another man's face touch eye laughing at someone anthropoid skunk tibet mimosa monkey actor sacred bat equestrianism animal lover grauer's gorilla primates raped man african dance bonai Tibet Africa astral projection suspect bare shoulders mephitidae reference to a fly the insect cat waterfall shaman mountain climber monk"
        ],
        [
         "19",
         "20",
         "Money Train (1995)",
         "Action Comedy Crime Drama Thriller",
         "Action Comedy Crime Drama Thriller runaway train intense punching bag horse drawn carriage person on fire ticket booth caper crime christmas robbery police undercover roundhouse kick violence male bonding burn victim revolver afternoon section riding a motorcycle down stairs pickpocket rescue f word dancing police badge train crash motorcycle lopez fistfight train wreck hijacking a train love interest hand to hand combat hispanic american mixed martial arts stakeout shooting out a window black comedy caper bar machine gun chase loan shark sibling relationship tough guy heist crime murder new york subway shootout psychopath worthwhile martial arts subway shot to death opening action scene female police officer barricade card game lame kissing while having sex interracial sex comeuppance false accusation of theft new year's eve train station fight in a train compartment arrest wisecrack humor fight in a kitchen pistol bare chested male tough girl fire anti hero brooklyn bridge thief switchboard police shootout burning man romantic rivalry two man army brother brother relationship brawl held at gunpoint sex scene pushed in front of subway train buddy cop action hero beating repeated line foot chase beer gangster Joseph Ruben arsonist reference to ice cube hit by a train train robbery pretending to be drunk arson train tracks transit cop child in jeopardy attraction female frontal nudity wristwatch manhattan new york city new york city banter interracial kiss gambling debt kicked in the face jealousy fired from a job argument CLV thrown from a train train lust mexican standoff subway station wallet boxing strip club gambling Nudity (Topless - Brief) interracial relationship punched in the face central park manhattan new york city pyromaniac semiautomatic pistol title spoken by character sibling rivalry friendship racial slur bartender friendship between men urination decoy money spitting in someone's face kiss"
        ]
       ],
       "shape": {
        "columns": 4,
        "rows": 20
       }
      },
      "text/html": [
       "<div>\n",
       "<style scoped>\n",
       "    .dataframe tbody tr th:only-of-type {\n",
       "        vertical-align: middle;\n",
       "    }\n",
       "\n",
       "    .dataframe tbody tr th {\n",
       "        vertical-align: top;\n",
       "    }\n",
       "\n",
       "    .dataframe thead th {\n",
       "        text-align: right;\n",
       "    }\n",
       "</style>\n",
       "<table border=\"1\" class=\"dataframe\">\n",
       "  <thead>\n",
       "    <tr style=\"text-align: right;\">\n",
       "      <th></th>\n",
       "      <th>movieId</th>\n",
       "      <th>title</th>\n",
       "      <th>genres</th>\n",
       "      <th>tfidf</th>\n",
       "    </tr>\n",
       "  </thead>\n",
       "  <tbody>\n",
       "    <tr>\n",
       "      <th>0</th>\n",
       "      <td>1</td>\n",
       "      <td>Toy Story (1995)</td>\n",
       "      <td>Adventure Animation Children Comedy Fantasy</td>\n",
       "      <td>Adventure Animation Children Comedy Fantasy bu...</td>\n",
       "    </tr>\n",
       "    <tr>\n",
       "      <th>1</th>\n",
       "      <td>2</td>\n",
       "      <td>Jumanji (1995)</td>\n",
       "      <td>Adventure Children Fantasy</td>\n",
       "      <td>Adventure Children Fantasy critter statue moto...</td>\n",
       "    </tr>\n",
       "    <tr>\n",
       "      <th>2</th>\n",
       "      <td>3</td>\n",
       "      <td>Grumpier Old Men (1995)</td>\n",
       "      <td>Comedy Romance</td>\n",
       "      <td>Comedy Romance wedding Minnesota old duringcre...</td>\n",
       "    </tr>\n",
       "    <tr>\n",
       "      <th>3</th>\n",
       "      <td>4</td>\n",
       "      <td>Waiting to Exhale (1995)</td>\n",
       "      <td>Comedy Drama Romance</td>\n",
       "      <td>Comedy Drama Romance revenge CLV characters in...</td>\n",
       "    </tr>\n",
       "    <tr>\n",
       "      <th>4</th>\n",
       "      <td>5</td>\n",
       "      <td>Father of the Bride Part II (1995)</td>\n",
       "      <td>Comedy</td>\n",
       "      <td>Comedy 4th wall daughter wedding growing old a...</td>\n",
       "    </tr>\n",
       "    <tr>\n",
       "      <th>5</th>\n",
       "      <td>6</td>\n",
       "      <td>Heat (1995)</td>\n",
       "      <td>Action Crime Thriller</td>\n",
       "      <td>Action Crime Thriller cliched cinematic Strong...</td>\n",
       "    </tr>\n",
       "    <tr>\n",
       "      <th>6</th>\n",
       "      <td>7</td>\n",
       "      <td>Sabrina (1995)</td>\n",
       "      <td>Comedy Romance</td>\n",
       "      <td>Comedy Romance as good maybe better than origi...</td>\n",
       "    </tr>\n",
       "    <tr>\n",
       "      <th>7</th>\n",
       "      <td>8</td>\n",
       "      <td>Tom and Huck (1995)</td>\n",
       "      <td>Adventure Children</td>\n",
       "      <td>Adventure Children disarming someone adapted f...</td>\n",
       "    </tr>\n",
       "    <tr>\n",
       "      <th>8</th>\n",
       "      <td>9</td>\n",
       "      <td>Sudden Death (1995)</td>\n",
       "      <td>Action</td>\n",
       "      <td>Action strangled to death hostile takeover dis...</td>\n",
       "    </tr>\n",
       "    <tr>\n",
       "      <th>9</th>\n",
       "      <td>10</td>\n",
       "      <td>GoldenEye (1995)</td>\n",
       "      <td>Action Adventure Thriller</td>\n",
       "      <td>Action Adventure Thriller major boothroyd char...</td>\n",
       "    </tr>\n",
       "    <tr>\n",
       "      <th>10</th>\n",
       "      <td>11</td>\n",
       "      <td>American President, The (1995)</td>\n",
       "      <td>Comedy Drama Romance</td>\n",
       "      <td>Comedy Drama Romance dating reference to cassi...</td>\n",
       "    </tr>\n",
       "    <tr>\n",
       "      <th>11</th>\n",
       "      <td>12</td>\n",
       "      <td>Dracula: Dead and Loving It (1995)</td>\n",
       "      <td>Comedy Horror</td>\n",
       "      <td>Comedy Horror castle van helsing ship absurd c...</td>\n",
       "    </tr>\n",
       "    <tr>\n",
       "      <th>12</th>\n",
       "      <td>13</td>\n",
       "      <td>Balto (1995)</td>\n",
       "      <td>Adventure Animation Children</td>\n",
       "      <td>Adventure Animation Children sled dog dog-sled...</td>\n",
       "    </tr>\n",
       "    <tr>\n",
       "      <th>13</th>\n",
       "      <td>14</td>\n",
       "      <td>Nixon (1995)</td>\n",
       "      <td>Drama</td>\n",
       "      <td>Drama flashback president of the united states...</td>\n",
       "    </tr>\n",
       "    <tr>\n",
       "      <th>14</th>\n",
       "      <td>15</td>\n",
       "      <td>Cutthroat Island (1995)</td>\n",
       "      <td>Action Adventure Romance</td>\n",
       "      <td>Action Adventure Romance ship Pirate pirates v...</td>\n",
       "    </tr>\n",
       "    <tr>\n",
       "      <th>15</th>\n",
       "      <td>16</td>\n",
       "      <td>Casino (1995)</td>\n",
       "      <td>Crime Drama</td>\n",
       "      <td>Crime Drama silenced gun sadistic psychopath m...</td>\n",
       "    </tr>\n",
       "    <tr>\n",
       "      <th>16</th>\n",
       "      <td>17</td>\n",
       "      <td>Sense and Sensibility (1995)</td>\n",
       "      <td>Drama Romance</td>\n",
       "      <td>Drama Romance Emma Thompson visit adapted from...</td>\n",
       "    </tr>\n",
       "    <tr>\n",
       "      <th>17</th>\n",
       "      <td>18</td>\n",
       "      <td>Four Rooms (1995)</td>\n",
       "      <td>Comedy</td>\n",
       "      <td>Comedy bondage dark comedy dead body barefoot ...</td>\n",
       "    </tr>\n",
       "    <tr>\n",
       "      <th>18</th>\n",
       "      <td>19</td>\n",
       "      <td>Ace Ventura: When Nature Calls (1995)</td>\n",
       "      <td>Comedy</td>\n",
       "      <td>Comedy calling someone a loser african village...</td>\n",
       "    </tr>\n",
       "    <tr>\n",
       "      <th>19</th>\n",
       "      <td>20</td>\n",
       "      <td>Money Train (1995)</td>\n",
       "      <td>Action Comedy Crime Drama Thriller</td>\n",
       "      <td>Action Comedy Crime Drama Thriller runaway tra...</td>\n",
       "    </tr>\n",
       "  </tbody>\n",
       "</table>\n",
       "</div>"
      ],
      "text/plain": [
       "    movieId                                  title  \\\n",
       "0         1                       Toy Story (1995)   \n",
       "1         2                         Jumanji (1995)   \n",
       "2         3                Grumpier Old Men (1995)   \n",
       "3         4               Waiting to Exhale (1995)   \n",
       "4         5     Father of the Bride Part II (1995)   \n",
       "5         6                            Heat (1995)   \n",
       "6         7                         Sabrina (1995)   \n",
       "7         8                    Tom and Huck (1995)   \n",
       "8         9                    Sudden Death (1995)   \n",
       "9        10                       GoldenEye (1995)   \n",
       "10       11         American President, The (1995)   \n",
       "11       12     Dracula: Dead and Loving It (1995)   \n",
       "12       13                           Balto (1995)   \n",
       "13       14                           Nixon (1995)   \n",
       "14       15                Cutthroat Island (1995)   \n",
       "15       16                          Casino (1995)   \n",
       "16       17           Sense and Sensibility (1995)   \n",
       "17       18                      Four Rooms (1995)   \n",
       "18       19  Ace Ventura: When Nature Calls (1995)   \n",
       "19       20                     Money Train (1995)   \n",
       "\n",
       "                                         genres  \\\n",
       "0   Adventure Animation Children Comedy Fantasy   \n",
       "1                    Adventure Children Fantasy   \n",
       "2                                Comedy Romance   \n",
       "3                          Comedy Drama Romance   \n",
       "4                                        Comedy   \n",
       "5                         Action Crime Thriller   \n",
       "6                                Comedy Romance   \n",
       "7                            Adventure Children   \n",
       "8                                        Action   \n",
       "9                     Action Adventure Thriller   \n",
       "10                         Comedy Drama Romance   \n",
       "11                                Comedy Horror   \n",
       "12                 Adventure Animation Children   \n",
       "13                                        Drama   \n",
       "14                     Action Adventure Romance   \n",
       "15                                  Crime Drama   \n",
       "16                                Drama Romance   \n",
       "17                                       Comedy   \n",
       "18                                       Comedy   \n",
       "19           Action Comedy Crime Drama Thriller   \n",
       "\n",
       "                                                tfidf  \n",
       "0   Adventure Animation Children Comedy Fantasy bu...  \n",
       "1   Adventure Children Fantasy critter statue moto...  \n",
       "2   Comedy Romance wedding Minnesota old duringcre...  \n",
       "3   Comedy Drama Romance revenge CLV characters in...  \n",
       "4   Comedy 4th wall daughter wedding growing old a...  \n",
       "5   Action Crime Thriller cliched cinematic Strong...  \n",
       "6   Comedy Romance as good maybe better than origi...  \n",
       "7   Adventure Children disarming someone adapted f...  \n",
       "8   Action strangled to death hostile takeover dis...  \n",
       "9   Action Adventure Thriller major boothroyd char...  \n",
       "10  Comedy Drama Romance dating reference to cassi...  \n",
       "11  Comedy Horror castle van helsing ship absurd c...  \n",
       "12  Adventure Animation Children sled dog dog-sled...  \n",
       "13  Drama flashback president of the united states...  \n",
       "14  Action Adventure Romance ship Pirate pirates v...  \n",
       "15  Crime Drama silenced gun sadistic psychopath m...  \n",
       "16  Drama Romance Emma Thompson visit adapted from...  \n",
       "17  Comedy bondage dark comedy dead body barefoot ...  \n",
       "18  Comedy calling someone a loser african village...  \n",
       "19  Action Comedy Crime Drama Thriller runaway tra...  "
      ]
     },
     "execution_count": 26,
     "metadata": {},
     "output_type": "execute_result"
    }
   ],
   "source": [
    "movies[\"tfidf\"] = movies[\"genres\"] + \" \" + merged_tags[\"tag\"]\n",
    "movies.head(20)"
   ]
  },
  {
   "cell_type": "code",
   "execution_count": 27,
   "metadata": {},
   "outputs": [],
   "source": [
    "import unicodedata\n",
    "import re\n",
    "\n",
    "def clean_text(text):\n",
    "    # Normalisera till NFKD-form och filtrera bort icke-ASCII-tecken\n",
    "    text = unicodedata.normalize('NFKD', text).encode('ascii', 'ignore').decode()\n",
    "    \n",
    "    # Ta bort icke-bokstäver, siffror och mellanslag\n",
    "    text = re.sub(r'[^a-zA-Z0-9\\s]', '', text)\n",
    "    \n",
    "    # Ta bort extra mellanslag\n",
    "    text = re.sub(r'\\s+', ' ', text).strip()\n",
    "    \n",
    "    return text"
   ]
  },
  {
   "cell_type": "code",
   "execution_count": 28,
   "metadata": {},
   "outputs": [],
   "source": [
    "movies = movies[movies['tfidf'].apply(lambda x: isinstance(x, str))]\n",
    "\n",
    "movies[\"tfidf\"] = movies[\"tfidf\"].apply(clean_text)\n",
    "movies = movies[[\"movieId\", \"title\", \"tfidf\"]]"
   ]
  },
  {
   "cell_type": "code",
   "execution_count": 29,
   "metadata": {},
   "outputs": [
    {
     "data": {
      "text/plain": [
       "(53452, 3)"
      ]
     },
     "execution_count": 29,
     "metadata": {},
     "output_type": "execute_result"
    }
   ],
   "source": [
    "movies.shape"
   ]
  },
  {
   "cell_type": "code",
   "execution_count": 30,
   "metadata": {},
   "outputs": [
    {
     "data": {
      "application/vnd.microsoft.datawrangler.viewer.v0+json": {
       "columns": [
        {
         "name": "index",
         "rawType": "int64",
         "type": "integer"
        },
        {
         "name": "movieId",
         "rawType": "int64",
         "type": "integer"
        },
        {
         "name": "title",
         "rawType": "object",
         "type": "string"
        },
        {
         "name": "tfidf",
         "rawType": "object",
         "type": "string"
        }
       ],
       "conversionMethod": "pd.DataFrame",
       "ref": "151eb1c7-9a2e-4a7b-85af-64ede5acea01",
       "rows": [
        [
         "0",
         "1",
         "Toy Story (1995)",
         "Adventure Animation Children Comedy Fantasy buy face mask characters point of view camera shot game of life board game joss whedon neighbor brat buddy blinds story mutant little boy feelgood binoculars spacesuit love interest dartboard slow motion scene animated DARING RESCUES piggy bank humorous telling someone to shut up American Animation signature falling from a window backyard misunderstanding family relationships pull string doll 3 dimensional sliding down a banister learning a lesson martial arts male villain beautiful rain fight cartoon avi ss card game Pixar animation lots of heart fun family movie storage shed clock torture Comedy frustration interesting girl water Toy Story pizza van redemption first cgi film nostalgic Disney animated feature low fantasy blockbuster mr potato head famous line depression candy land the board game rival gift toy story Buzz Lightyear national film registry tom hanks mother son relationship scheming ventilation shaft Oscar Special Achievement jack in the box surprise ending troll doll unny ohio bouncy ball delivery child antagonist battleship game shepherdess Tim Allen very good favoritism utah teapot pixar Woody chased by a dog package chrysler lebaron convertible talking in ones sleep burn child destroys own toy globe good animation remorse magnifying glass toy soldier male protagonist Want dachshund bully x291LIVEJohn Lasseter Tumeys VHS animated fictional tv commercial teamwork children cartoon title spoken by character children emotional heartfelt jumping through a sunroof little girl childish locked in shivering space ranger Best of Rotten Tomatoes All Time surgical mask ad for toys CGI elementary school running kids and family meeting bullying recliner chair leggings National Film Registry action medical mask heros journey warm neighborhood toys cartoon dog famous score chasing a truck dog as gift jumping from height first of series self awareness adventure TAa Leoni does not star in this movie soundtrack Owned two word title Animation ballet flats push button animated dog product placement computer animation seatbelt action figure buddy movie witty almost favorite friends Os dois viram erlends DVDs arcade talking to a toy backfire ratedG porcelain cgi animation digital sleeping dog shed window toy dental braces twister the game pet dog baby imdb top 250 childs birthday family tim allen buzz lightyear character house family film resourcefulness wallpaper encouragement corkboard fanciful desk plastic army men catchphrase reference to mattel friend reconnaissance mission lipstick on face toy fire truck child hasbro computer generated imagery space explorer talking toy asking directions the boys battery comedy cute magic 8 ball yelling ramp httpsmovielensorgtaganimation biohazard sign mattel christmas USA unlikely friendships whimsica forced puns rescue fear cgi toy dog childs birthday party pliers shark so funny rainy day watchlist visual pun rescue mission fun animmation christmas present sunlight toy comes to life calling someone an idiot CGI classic microphone Engaging arcade game tough guy funny scifi voice acting view through binoculars gas station escape attempt exciting plot BDVideo kids mission subjective camera doorbell HEROIC MISSION escape Cartoon nesting egg enemies become friends mixed soundtrack car crash 3d pet as gift action figures Pixar toyota famous song fishing rod cowboy weightlifting brother sister relationship flashlight Tom Hanks loyal friend moving van boy DVDVideo pizzeria bad guy villain operation game single mother bo peep character van falling out a window affection turbo boost walkie talkie 2009 reissue in Stereoscopic 3D staircase villian hurts toys itaege etch a sketch karate 3D great movie favorite anthropomorphic toy thunderstorm toybox monsters explosion cult film hero fireplace funny lines John Lasseter part of trilogy dinosaur rivalry classic kids movie poster commercial childs bedroom bright child villain ya boy CG animation showdown cult favorite looking out a window baby monitor bully comeuppance antenna toys played laughter accepting reality arm reflection directorial debut Watched threat rejection boy next door sheriff clever violence falling from height envy toy tea set fistfight ringing a doorbell false accusation lovable characters parachute dead battery bull terrier guilty conscience animation dart wilhelm scream mockery television commercial bedroom surrounded double prize e a e apology mouth time lapse photography 55 movies every kid should seeEntertainment Weekly pterodactyl Tumeys To See Again Family cartoon chrysler automobile toolbox comeuppance lifting someone into the air toy robot radio controlled gliding gratitude sunroof selflessness hat very nice male antagonist doll original story loyalty remote controlled toy car rag doll fantasy cowboy boot light hearted scene during opening credits TOYS COME TO LIFE playskool good cartoon chindren Oscar Best Picture confrontation audio flashback fast and a furious doubt banister Disney birthday party crate light thunder spaceman toy 1990s want to see again UNLIKELY FRIENDSHIPS moving good time brawl comic hero bed toyota truck innovative cowboy doll toy dinosaur first of trilogy home urban setting squeeze toy troubled production anthropomorphism astronaut reference to marie antoinette rousing karate chop match touching story birthday hockey puck technological marvel scene before opening credits internal logic fails jealousy claw crane mr potato head character time travel birthday present CLV flying toy animal new toy christmas day skateboard unusual friendship tyrannosaurus rex lifting a female into the air alien dog first part woody character disney friendship rocket suburb car new home soldier Animation soothing slinky dog child destroys anothers toy dolls"
        ],
        [
         "1",
         "2",
         "Jumanji (1995)",
         "Adventure Children Fantasy critter statue motorcycle first love disappearance blunderbuss vehicle magic board game forest refrigerator sniper rifle carnivorous plant cutting ones own hair brochure Filmed in BC rain altering history fight loss of parents mother daughter relationship dice male hunter feline chaos based on novel danger improvised weapon arachnid blonde woman girl lion pregnant woman 1960s carnivore cgi effect driving a car into a building board gun cemetery blockbuster missing child animal killing childhood recaptured shotgun time animal driving a vehicle spider attack mother son relationship friends who live together factory Dynamic CGI Action family legacy surprise ending mustached man part computer animation nemesis aunt niece relationship one word title supernatural fantasy person thought dead is alive game tire zebra construction site cult classic Children Adaptation of Book hit by a car male protagonist snob woodland beat up bully shoe factory brown haired boy looting coming of age subtitled scene title spoken by character children crocodile little girl childish spider actor playing multiple roles thrill vines adapted frombook poison ivy Jumanji police orchestral music score police car heavy rain animal attack weapon live action and animation reference to the twilight zone christmas presents rampage explorer based on young adult novel Lebbat fainting investment banker 19th century giant insect first of series realtor adventure excavation title written by male long haired woman heartwarming lace paint can jungle man animals competition abandoned factory bridge bullet time flood rainforest mosquito boarding school car theft Artifact of Doom canoe based on childrens book reference to ringling brothers Baker viu namesake nighttime human hunting a human title same as book partner reference to a horoscope pelican male police officer family breaking the fourth wall hostage situation big game hunter river grounded bad cgi The Game Come to Life elephant presumed dead franchise prologue quicksand jungle laundry detergent cutting face while shaving view through rifle scope bearded man gun store child insect attack long haired girl monsoon driving without a license magic comedy leaf reference to clue the board game police officer kid flick bug reference to tarzan mutation christmas psychotronic film orphan revolver Fantasy cgi monkey rainy day watchlist surrealism predator prey jungle adventure footwear animatronic return to the past poison wood vortex blunder earthquake blonde child family name bicycle chase law enforcement officer long haired female kids Saturn Award Best Special Effects christmas party screenplay adapted by author fib new hampshire older version of character car crash Saturn Award Best Supporting Actress arrest wisecrack humor boring bicycle brother sister relationship impersonating a police officer library discount store illegal gun sale turning into a monkey pigtails reference to a zodiac sign boy dybbuk box Joe Johnston car accident held at gunpoint perilous escape sporting goods store real estate agent conveyor belt 4k handgun herds of CGI animals title directed by male shared universe firearm columbia tristar home video bat sidearm predator itaege Everything Trying to Kill You tail mansion cult film handcuffs hunter fireplace childhood lush Robin Williams Chris Van Allsburg recluse classic sneaker alternate timeline saying thank you playing a board game suitcase endless screaming plant human becoming an animal santa claus costume crawler 1860s fiction cgi animal underwater scene based on a book vegetation rhinoceros new england hiding in a closet violence bloody lip tween girl looking through a keyhole fortune teller reference to libra the constellation reptile plant attack supernatural power columbia tristar reference to wilt chamberlain adventurer small town vine apology time lapse photography cracked windshield Serial Escalation car crashes into a store attic quadruped shoes handcuffed old photograph lifting someone into the air title directed by man not for kids horrifying but not Horror genre vandalism black eye transported back in time fantasy trombone multiple versions of the same character rolling dice psychiatrist trapped in a game wonder bread animal driving a car game piece 1990s father son relationship courage moving squatter wooden chest predatory reptile confession stampede fish out of water scary businessman 20th century chest motorcycle police officer axe motor vehicle aunt nephew relationship hacksaw child in jeopardy For children car through wall no opening credits see alsoZathura rifle rich family time travel nervous breakdown CLV fictional board game night Kirsten Dunst stealing a bicycle exterminator board game convertible first part timeline change beach friendship car new home overalls bum drumbeat child turning into animal police vehicle homeless person"
        ]
       ],
       "shape": {
        "columns": 3,
        "rows": 2
       }
      },
      "text/html": [
       "<div>\n",
       "<style scoped>\n",
       "    .dataframe tbody tr th:only-of-type {\n",
       "        vertical-align: middle;\n",
       "    }\n",
       "\n",
       "    .dataframe tbody tr th {\n",
       "        vertical-align: top;\n",
       "    }\n",
       "\n",
       "    .dataframe thead th {\n",
       "        text-align: right;\n",
       "    }\n",
       "</style>\n",
       "<table border=\"1\" class=\"dataframe\">\n",
       "  <thead>\n",
       "    <tr style=\"text-align: right;\">\n",
       "      <th></th>\n",
       "      <th>movieId</th>\n",
       "      <th>title</th>\n",
       "      <th>tfidf</th>\n",
       "    </tr>\n",
       "  </thead>\n",
       "  <tbody>\n",
       "    <tr>\n",
       "      <th>0</th>\n",
       "      <td>1</td>\n",
       "      <td>Toy Story (1995)</td>\n",
       "      <td>Adventure Animation Children Comedy Fantasy bu...</td>\n",
       "    </tr>\n",
       "    <tr>\n",
       "      <th>1</th>\n",
       "      <td>2</td>\n",
       "      <td>Jumanji (1995)</td>\n",
       "      <td>Adventure Children Fantasy critter statue moto...</td>\n",
       "    </tr>\n",
       "  </tbody>\n",
       "</table>\n",
       "</div>"
      ],
      "text/plain": [
       "   movieId             title  \\\n",
       "0        1  Toy Story (1995)   \n",
       "1        2    Jumanji (1995)   \n",
       "\n",
       "                                               tfidf  \n",
       "0  Adventure Animation Children Comedy Fantasy bu...  \n",
       "1  Adventure Children Fantasy critter statue moto...  "
      ]
     },
     "execution_count": 30,
     "metadata": {},
     "output_type": "execute_result"
    }
   ],
   "source": [
    "movies.head(2)"
   ]
  },
  {
   "cell_type": "code",
   "execution_count": 31,
   "metadata": {},
   "outputs": [],
   "source": [
    "# movies[\"tag\"] = merged_tags[\"tag\"]"
   ]
  },
  {
   "cell_type": "code",
   "execution_count": 32,
   "metadata": {},
   "outputs": [
    {
     "data": {
      "application/vnd.microsoft.datawrangler.viewer.v0+json": {
       "columns": [
        {
         "name": "index",
         "rawType": "int64",
         "type": "integer"
        },
        {
         "name": "movieId",
         "rawType": "int64",
         "type": "integer"
        },
        {
         "name": "title",
         "rawType": "object",
         "type": "string"
        },
        {
         "name": "tfidf",
         "rawType": "object",
         "type": "string"
        }
       ],
       "conversionMethod": "pd.DataFrame",
       "ref": "d0af4082-1ec2-4251-acb4-6ce0cec4263d",
       "rows": [
        [
         "0",
         "1",
         "Toy Story (1995)",
         "Adventure Animation Children Comedy Fantasy buy face mask characters point of view camera shot game of life board game joss whedon neighbor brat buddy blinds story mutant little boy feelgood binoculars spacesuit love interest dartboard slow motion scene animated DARING RESCUES piggy bank humorous telling someone to shut up American Animation signature falling from a window backyard misunderstanding family relationships pull string doll 3 dimensional sliding down a banister learning a lesson martial arts male villain beautiful rain fight cartoon avi ss card game Pixar animation lots of heart fun family movie storage shed clock torture Comedy frustration interesting girl water Toy Story pizza van redemption first cgi film nostalgic Disney animated feature low fantasy blockbuster mr potato head famous line depression candy land the board game rival gift toy story Buzz Lightyear national film registry tom hanks mother son relationship scheming ventilation shaft Oscar Special Achievement jack in the box surprise ending troll doll unny ohio bouncy ball delivery child antagonist battleship game shepherdess Tim Allen very good favoritism utah teapot pixar Woody chased by a dog package chrysler lebaron convertible talking in ones sleep burn child destroys own toy globe good animation remorse magnifying glass toy soldier male protagonist Want dachshund bully x291LIVEJohn Lasseter Tumeys VHS animated fictional tv commercial teamwork children cartoon title spoken by character children emotional heartfelt jumping through a sunroof little girl childish locked in shivering space ranger Best of Rotten Tomatoes All Time surgical mask ad for toys CGI elementary school running kids and family meeting bullying recliner chair leggings National Film Registry action medical mask heros journey warm neighborhood toys cartoon dog famous score chasing a truck dog as gift jumping from height first of series self awareness adventure TAa Leoni does not star in this movie soundtrack Owned two word title Animation ballet flats push button animated dog product placement computer animation seatbelt action figure buddy movie witty almost favorite friends Os dois viram erlends DVDs arcade talking to a toy backfire ratedG porcelain cgi animation digital sleeping dog shed window toy dental braces twister the game pet dog baby imdb top 250 childs birthday family tim allen buzz lightyear character house family film resourcefulness wallpaper encouragement corkboard fanciful desk plastic army men catchphrase reference to mattel friend reconnaissance mission lipstick on face toy fire truck child hasbro computer generated imagery space explorer talking toy asking directions the boys battery comedy cute magic 8 ball yelling ramp httpsmovielensorgtaganimation biohazard sign mattel christmas USA unlikely friendships whimsica forced puns rescue fear cgi toy dog childs birthday party pliers shark so funny rainy day watchlist visual pun rescue mission fun animmation christmas present sunlight toy comes to life calling someone an idiot CGI classic microphone Engaging arcade game tough guy funny scifi voice acting view through binoculars gas station escape attempt exciting plot BDVideo kids mission subjective camera doorbell HEROIC MISSION escape Cartoon nesting egg enemies become friends mixed soundtrack car crash 3d pet as gift action figures Pixar toyota famous song fishing rod cowboy weightlifting brother sister relationship flashlight Tom Hanks loyal friend moving van boy DVDVideo pizzeria bad guy villain operation game single mother bo peep character van falling out a window affection turbo boost walkie talkie 2009 reissue in Stereoscopic 3D staircase villian hurts toys itaege etch a sketch karate 3D great movie favorite anthropomorphic toy thunderstorm toybox monsters explosion cult film hero fireplace funny lines John Lasseter part of trilogy dinosaur rivalry classic kids movie poster commercial childs bedroom bright child villain ya boy CG animation showdown cult favorite looking out a window baby monitor bully comeuppance antenna toys played laughter accepting reality arm reflection directorial debut Watched threat rejection boy next door sheriff clever violence falling from height envy toy tea set fistfight ringing a doorbell false accusation lovable characters parachute dead battery bull terrier guilty conscience animation dart wilhelm scream mockery television commercial bedroom surrounded double prize e a e apology mouth time lapse photography 55 movies every kid should seeEntertainment Weekly pterodactyl Tumeys To See Again Family cartoon chrysler automobile toolbox comeuppance lifting someone into the air toy robot radio controlled gliding gratitude sunroof selflessness hat very nice male antagonist doll original story loyalty remote controlled toy car rag doll fantasy cowboy boot light hearted scene during opening credits TOYS COME TO LIFE playskool good cartoon chindren Oscar Best Picture confrontation audio flashback fast and a furious doubt banister Disney birthday party crate light thunder spaceman toy 1990s want to see again UNLIKELY FRIENDSHIPS moving good time brawl comic hero bed toyota truck innovative cowboy doll toy dinosaur first of trilogy home urban setting squeeze toy troubled production anthropomorphism astronaut reference to marie antoinette rousing karate chop match touching story birthday hockey puck technological marvel scene before opening credits internal logic fails jealousy claw crane mr potato head character time travel birthday present CLV flying toy animal new toy christmas day skateboard unusual friendship tyrannosaurus rex lifting a female into the air alien dog first part woody character disney friendship rocket suburb car new home soldier Animation soothing slinky dog child destroys anothers toy dolls"
        ],
        [
         "1",
         "2",
         "Jumanji (1995)",
         "Adventure Children Fantasy critter statue motorcycle first love disappearance blunderbuss vehicle magic board game forest refrigerator sniper rifle carnivorous plant cutting ones own hair brochure Filmed in BC rain altering history fight loss of parents mother daughter relationship dice male hunter feline chaos based on novel danger improvised weapon arachnid blonde woman girl lion pregnant woman 1960s carnivore cgi effect driving a car into a building board gun cemetery blockbuster missing child animal killing childhood recaptured shotgun time animal driving a vehicle spider attack mother son relationship friends who live together factory Dynamic CGI Action family legacy surprise ending mustached man part computer animation nemesis aunt niece relationship one word title supernatural fantasy person thought dead is alive game tire zebra construction site cult classic Children Adaptation of Book hit by a car male protagonist snob woodland beat up bully shoe factory brown haired boy looting coming of age subtitled scene title spoken by character children crocodile little girl childish spider actor playing multiple roles thrill vines adapted frombook poison ivy Jumanji police orchestral music score police car heavy rain animal attack weapon live action and animation reference to the twilight zone christmas presents rampage explorer based on young adult novel Lebbat fainting investment banker 19th century giant insect first of series realtor adventure excavation title written by male long haired woman heartwarming lace paint can jungle man animals competition abandoned factory bridge bullet time flood rainforest mosquito boarding school car theft Artifact of Doom canoe based on childrens book reference to ringling brothers Baker viu namesake nighttime human hunting a human title same as book partner reference to a horoscope pelican male police officer family breaking the fourth wall hostage situation big game hunter river grounded bad cgi The Game Come to Life elephant presumed dead franchise prologue quicksand jungle laundry detergent cutting face while shaving view through rifle scope bearded man gun store child insect attack long haired girl monsoon driving without a license magic comedy leaf reference to clue the board game police officer kid flick bug reference to tarzan mutation christmas psychotronic film orphan revolver Fantasy cgi monkey rainy day watchlist surrealism predator prey jungle adventure footwear animatronic return to the past poison wood vortex blunder earthquake blonde child family name bicycle chase law enforcement officer long haired female kids Saturn Award Best Special Effects christmas party screenplay adapted by author fib new hampshire older version of character car crash Saturn Award Best Supporting Actress arrest wisecrack humor boring bicycle brother sister relationship impersonating a police officer library discount store illegal gun sale turning into a monkey pigtails reference to a zodiac sign boy dybbuk box Joe Johnston car accident held at gunpoint perilous escape sporting goods store real estate agent conveyor belt 4k handgun herds of CGI animals title directed by male shared universe firearm columbia tristar home video bat sidearm predator itaege Everything Trying to Kill You tail mansion cult film handcuffs hunter fireplace childhood lush Robin Williams Chris Van Allsburg recluse classic sneaker alternate timeline saying thank you playing a board game suitcase endless screaming plant human becoming an animal santa claus costume crawler 1860s fiction cgi animal underwater scene based on a book vegetation rhinoceros new england hiding in a closet violence bloody lip tween girl looking through a keyhole fortune teller reference to libra the constellation reptile plant attack supernatural power columbia tristar reference to wilt chamberlain adventurer small town vine apology time lapse photography cracked windshield Serial Escalation car crashes into a store attic quadruped shoes handcuffed old photograph lifting someone into the air title directed by man not for kids horrifying but not Horror genre vandalism black eye transported back in time fantasy trombone multiple versions of the same character rolling dice psychiatrist trapped in a game wonder bread animal driving a car game piece 1990s father son relationship courage moving squatter wooden chest predatory reptile confession stampede fish out of water scary businessman 20th century chest motorcycle police officer axe motor vehicle aunt nephew relationship hacksaw child in jeopardy For children car through wall no opening credits see alsoZathura rifle rich family time travel nervous breakdown CLV fictional board game night Kirsten Dunst stealing a bicycle exterminator board game convertible first part timeline change beach friendship car new home overalls bum drumbeat child turning into animal police vehicle homeless person"
        ]
       ],
       "shape": {
        "columns": 3,
        "rows": 2
       }
      },
      "text/html": [
       "<div>\n",
       "<style scoped>\n",
       "    .dataframe tbody tr th:only-of-type {\n",
       "        vertical-align: middle;\n",
       "    }\n",
       "\n",
       "    .dataframe tbody tr th {\n",
       "        vertical-align: top;\n",
       "    }\n",
       "\n",
       "    .dataframe thead th {\n",
       "        text-align: right;\n",
       "    }\n",
       "</style>\n",
       "<table border=\"1\" class=\"dataframe\">\n",
       "  <thead>\n",
       "    <tr style=\"text-align: right;\">\n",
       "      <th></th>\n",
       "      <th>movieId</th>\n",
       "      <th>title</th>\n",
       "      <th>tfidf</th>\n",
       "    </tr>\n",
       "  </thead>\n",
       "  <tbody>\n",
       "    <tr>\n",
       "      <th>0</th>\n",
       "      <td>1</td>\n",
       "      <td>Toy Story (1995)</td>\n",
       "      <td>Adventure Animation Children Comedy Fantasy bu...</td>\n",
       "    </tr>\n",
       "    <tr>\n",
       "      <th>1</th>\n",
       "      <td>2</td>\n",
       "      <td>Jumanji (1995)</td>\n",
       "      <td>Adventure Children Fantasy critter statue moto...</td>\n",
       "    </tr>\n",
       "  </tbody>\n",
       "</table>\n",
       "</div>"
      ],
      "text/plain": [
       "   movieId             title  \\\n",
       "0        1  Toy Story (1995)   \n",
       "1        2    Jumanji (1995)   \n",
       "\n",
       "                                               tfidf  \n",
       "0  Adventure Animation Children Comedy Fantasy bu...  \n",
       "1  Adventure Children Fantasy critter statue moto...  "
      ]
     },
     "execution_count": 32,
     "metadata": {},
     "output_type": "execute_result"
    }
   ],
   "source": [
    "movies.head(2)"
   ]
  },
  {
   "cell_type": "code",
   "execution_count": 33,
   "metadata": {},
   "outputs": [],
   "source": [
    "movies[\"tfidf\"] = movies[\"tfidf\"].fillna(\" \")"
   ]
  },
  {
   "cell_type": "code",
   "execution_count": 34,
   "metadata": {},
   "outputs": [
    {
     "data": {
      "text/plain": [
       "(53452, 3)"
      ]
     },
     "execution_count": 34,
     "metadata": {},
     "output_type": "execute_result"
    }
   ],
   "source": [
    "movies.shape"
   ]
  },
  {
   "cell_type": "code",
   "execution_count": 40,
   "metadata": {},
   "outputs": [],
   "source": [
    "filtered_movies = movies.iloc[:10000]"
   ]
  },
  {
   "cell_type": "code",
   "execution_count": 36,
   "metadata": {},
   "outputs": [],
   "source": [
    "# movies_subset.shape"
   ]
  },
  {
   "cell_type": "code",
   "execution_count": 42,
   "metadata": {},
   "outputs": [
    {
     "ename": "MemoryError",
     "evalue": "Unable to allocate 5.05 GiB for an array with shape (1356845118,) and data type int32",
     "output_type": "error",
     "traceback": [
      "\u001b[1;31m---------------------------------------------------------------------------\u001b[0m",
      "\u001b[1;31mMemoryError\u001b[0m                               Traceback (most recent call last)",
      "Cell \u001b[1;32mIn[42], line 15\u001b[0m\n\u001b[0;32m     12\u001b[0m \u001b[38;5;28;01mfrom\u001b[39;00m \u001b[38;5;21;01msklearn\u001b[39;00m\u001b[38;5;21;01m.\u001b[39;00m\u001b[38;5;21;01mmetrics\u001b[39;00m\u001b[38;5;21;01m.\u001b[39;00m\u001b[38;5;21;01mpairwise\u001b[39;00m \u001b[38;5;28;01mimport\u001b[39;00m cosine_similarity\n\u001b[0;32m     14\u001b[0m \u001b[38;5;66;03m# Beräkna likheten mellan alla filmer\u001b[39;00m\n\u001b[1;32m---> 15\u001b[0m cosine_sim \u001b[38;5;241m=\u001b[39m \u001b[43mcosine_similarity\u001b[49m\u001b[43m(\u001b[49m\u001b[43mtfidf_matrix\u001b[49m\u001b[43m,\u001b[49m\u001b[43m \u001b[49m\u001b[43mtfidf_matrix\u001b[49m\u001b[43m)\u001b[49m\n\u001b[0;32m     18\u001b[0m \u001b[38;5;28;01mimport\u001b[39;00m \u001b[38;5;21;01mnumpy\u001b[39;00m \u001b[38;5;28;01mas\u001b[39;00m \u001b[38;5;21;01mnp\u001b[39;00m\n\u001b[0;32m     20\u001b[0m \u001b[38;5;28;01mdef\u001b[39;00m \u001b[38;5;21mrecommend_movie\u001b[39m(selected_movie, movies, cosine_sim, top_n\u001b[38;5;241m=\u001b[39m\u001b[38;5;241m5\u001b[39m):\n\u001b[0;32m     21\u001b[0m     \u001b[38;5;66;03m# Hitta indexet för den valda filmen\u001b[39;00m\n",
      "File \u001b[1;32mc:\\Users\\emil_\\git\\.venv\\Lib\\site-packages\\sklearn\\utils\\_param_validation.py:216\u001b[0m, in \u001b[0;36mvalidate_params.<locals>.decorator.<locals>.wrapper\u001b[1;34m(*args, **kwargs)\u001b[0m\n\u001b[0;32m    210\u001b[0m \u001b[38;5;28;01mtry\u001b[39;00m:\n\u001b[0;32m    211\u001b[0m     \u001b[38;5;28;01mwith\u001b[39;00m config_context(\n\u001b[0;32m    212\u001b[0m         skip_parameter_validation\u001b[38;5;241m=\u001b[39m(\n\u001b[0;32m    213\u001b[0m             prefer_skip_nested_validation \u001b[38;5;129;01mor\u001b[39;00m global_skip_validation\n\u001b[0;32m    214\u001b[0m         )\n\u001b[0;32m    215\u001b[0m     ):\n\u001b[1;32m--> 216\u001b[0m         \u001b[38;5;28;01mreturn\u001b[39;00m \u001b[43mfunc\u001b[49m\u001b[43m(\u001b[49m\u001b[38;5;241;43m*\u001b[39;49m\u001b[43margs\u001b[49m\u001b[43m,\u001b[49m\u001b[43m \u001b[49m\u001b[38;5;241;43m*\u001b[39;49m\u001b[38;5;241;43m*\u001b[39;49m\u001b[43mkwargs\u001b[49m\u001b[43m)\u001b[49m\n\u001b[0;32m    217\u001b[0m \u001b[38;5;28;01mexcept\u001b[39;00m InvalidParameterError \u001b[38;5;28;01mas\u001b[39;00m e:\n\u001b[0;32m    218\u001b[0m     \u001b[38;5;66;03m# When the function is just a wrapper around an estimator, we allow\u001b[39;00m\n\u001b[0;32m    219\u001b[0m     \u001b[38;5;66;03m# the function to delegate validation to the estimator, but we replace\u001b[39;00m\n\u001b[0;32m    220\u001b[0m     \u001b[38;5;66;03m# the name of the estimator by the name of the function in the error\u001b[39;00m\n\u001b[0;32m    221\u001b[0m     \u001b[38;5;66;03m# message to avoid confusion.\u001b[39;00m\n\u001b[0;32m    222\u001b[0m     msg \u001b[38;5;241m=\u001b[39m re\u001b[38;5;241m.\u001b[39msub(\n\u001b[0;32m    223\u001b[0m         \u001b[38;5;124mr\u001b[39m\u001b[38;5;124m\"\u001b[39m\u001b[38;5;124mparameter of \u001b[39m\u001b[38;5;124m\\\u001b[39m\u001b[38;5;124mw+ must be\u001b[39m\u001b[38;5;124m\"\u001b[39m,\n\u001b[0;32m    224\u001b[0m         \u001b[38;5;124mf\u001b[39m\u001b[38;5;124m\"\u001b[39m\u001b[38;5;124mparameter of \u001b[39m\u001b[38;5;132;01m{\u001b[39;00mfunc\u001b[38;5;241m.\u001b[39m\u001b[38;5;18m__qualname__\u001b[39m\u001b[38;5;132;01m}\u001b[39;00m\u001b[38;5;124m must be\u001b[39m\u001b[38;5;124m\"\u001b[39m,\n\u001b[0;32m    225\u001b[0m         \u001b[38;5;28mstr\u001b[39m(e),\n\u001b[0;32m    226\u001b[0m     )\n",
      "File \u001b[1;32mc:\\Users\\emil_\\git\\.venv\\Lib\\site-packages\\sklearn\\metrics\\pairwise.py:1749\u001b[0m, in \u001b[0;36mcosine_similarity\u001b[1;34m(X, Y, dense_output)\u001b[0m\n\u001b[0;32m   1746\u001b[0m \u001b[38;5;28;01melse\u001b[39;00m:\n\u001b[0;32m   1747\u001b[0m     Y_normalized \u001b[38;5;241m=\u001b[39m normalize(Y, copy\u001b[38;5;241m=\u001b[39m\u001b[38;5;28;01mTrue\u001b[39;00m)\n\u001b[1;32m-> 1749\u001b[0m K \u001b[38;5;241m=\u001b[39m \u001b[43msafe_sparse_dot\u001b[49m\u001b[43m(\u001b[49m\u001b[43mX_normalized\u001b[49m\u001b[43m,\u001b[49m\u001b[43m \u001b[49m\u001b[43mY_normalized\u001b[49m\u001b[38;5;241;43m.\u001b[39;49m\u001b[43mT\u001b[49m\u001b[43m,\u001b[49m\u001b[43m \u001b[49m\u001b[43mdense_output\u001b[49m\u001b[38;5;241;43m=\u001b[39;49m\u001b[43mdense_output\u001b[49m\u001b[43m)\u001b[49m\n\u001b[0;32m   1751\u001b[0m \u001b[38;5;28;01mreturn\u001b[39;00m K\n",
      "File \u001b[1;32mc:\\Users\\emil_\\git\\.venv\\Lib\\site-packages\\sklearn\\utils\\extmath.py:203\u001b[0m, in \u001b[0;36msafe_sparse_dot\u001b[1;34m(a, b, dense_output)\u001b[0m\n\u001b[0;32m    201\u001b[0m         ret \u001b[38;5;241m=\u001b[39m xp\u001b[38;5;241m.\u001b[39mtensordot(a, b, axes\u001b[38;5;241m=\u001b[39m[\u001b[38;5;241m-\u001b[39m\u001b[38;5;241m1\u001b[39m, b_axis])\n\u001b[0;32m    202\u001b[0m \u001b[38;5;28;01melse\u001b[39;00m:\n\u001b[1;32m--> 203\u001b[0m     ret \u001b[38;5;241m=\u001b[39m \u001b[43ma\u001b[49m\u001b[43m \u001b[49m\u001b[38;5;241;43m@\u001b[39;49m\u001b[43m \u001b[49m\u001b[43mb\u001b[49m\n\u001b[0;32m    205\u001b[0m \u001b[38;5;28;01mif\u001b[39;00m (\n\u001b[0;32m    206\u001b[0m     sparse\u001b[38;5;241m.\u001b[39missparse(a)\n\u001b[0;32m    207\u001b[0m     \u001b[38;5;129;01mand\u001b[39;00m sparse\u001b[38;5;241m.\u001b[39missparse(b)\n\u001b[0;32m    208\u001b[0m     \u001b[38;5;129;01mand\u001b[39;00m dense_output\n\u001b[0;32m    209\u001b[0m     \u001b[38;5;129;01mand\u001b[39;00m \u001b[38;5;28mhasattr\u001b[39m(ret, \u001b[38;5;124m\"\u001b[39m\u001b[38;5;124mtoarray\u001b[39m\u001b[38;5;124m\"\u001b[39m)\n\u001b[0;32m    210\u001b[0m ):\n\u001b[0;32m    211\u001b[0m     \u001b[38;5;28;01mreturn\u001b[39;00m ret\u001b[38;5;241m.\u001b[39mtoarray()\n",
      "File \u001b[1;32mc:\\Users\\emil_\\git\\.venv\\Lib\\site-packages\\scipy\\sparse\\_base.py:624\u001b[0m, in \u001b[0;36m_spbase.__matmul__\u001b[1;34m(self, other)\u001b[0m\n\u001b[0;32m    621\u001b[0m \u001b[38;5;28;01mif\u001b[39;00m isscalarlike(other):\n\u001b[0;32m    622\u001b[0m     \u001b[38;5;28;01mraise\u001b[39;00m \u001b[38;5;167;01mValueError\u001b[39;00m(\u001b[38;5;124m\"\u001b[39m\u001b[38;5;124mScalar operands are not allowed, \u001b[39m\u001b[38;5;124m\"\u001b[39m\n\u001b[0;32m    623\u001b[0m                      \u001b[38;5;124m\"\u001b[39m\u001b[38;5;124muse \u001b[39m\u001b[38;5;124m'\u001b[39m\u001b[38;5;124m*\u001b[39m\u001b[38;5;124m'\u001b[39m\u001b[38;5;124m instead\u001b[39m\u001b[38;5;124m\"\u001b[39m)\n\u001b[1;32m--> 624\u001b[0m \u001b[38;5;28;01mreturn\u001b[39;00m \u001b[38;5;28;43mself\u001b[39;49m\u001b[38;5;241;43m.\u001b[39;49m\u001b[43m_mul_dispatch\u001b[49m\u001b[43m(\u001b[49m\u001b[43mother\u001b[49m\u001b[43m)\u001b[49m\n",
      "File \u001b[1;32mc:\\Users\\emil_\\git\\.venv\\Lib\\site-packages\\scipy\\sparse\\_base.py:535\u001b[0m, in \u001b[0;36m_spbase._mul_dispatch\u001b[1;34m(self, other)\u001b[0m\n\u001b[0;32m    533\u001b[0m     \u001b[38;5;28;01mif\u001b[39;00m \u001b[38;5;28mself\u001b[39m\u001b[38;5;241m.\u001b[39mshape[\u001b[38;5;241m1\u001b[39m] \u001b[38;5;241m!=\u001b[39m other\u001b[38;5;241m.\u001b[39mshape[\u001b[38;5;241m0\u001b[39m]:\n\u001b[0;32m    534\u001b[0m         \u001b[38;5;28;01mraise\u001b[39;00m \u001b[38;5;167;01mValueError\u001b[39;00m(\u001b[38;5;124m'\u001b[39m\u001b[38;5;124mdimension mismatch\u001b[39m\u001b[38;5;124m'\u001b[39m)\n\u001b[1;32m--> 535\u001b[0m     \u001b[38;5;28;01mreturn\u001b[39;00m \u001b[38;5;28;43mself\u001b[39;49m\u001b[38;5;241;43m.\u001b[39;49m\u001b[43m_mul_sparse_matrix\u001b[49m\u001b[43m(\u001b[49m\u001b[43mother\u001b[49m\u001b[43m)\u001b[49m\n\u001b[0;32m    537\u001b[0m \u001b[38;5;66;03m# If it's a list or whatever, treat it like an array\u001b[39;00m\n\u001b[0;32m    538\u001b[0m other_a \u001b[38;5;241m=\u001b[39m np\u001b[38;5;241m.\u001b[39masanyarray(other)\n",
      "File \u001b[1;32mc:\\Users\\emil_\\git\\.venv\\Lib\\site-packages\\scipy\\sparse\\_compressed.py:528\u001b[0m, in \u001b[0;36m_cs_matrix._mul_sparse_matrix\u001b[1;34m(self, other)\u001b[0m\n\u001b[0;32m    523\u001b[0m idx_dtype \u001b[38;5;241m=\u001b[39m \u001b[38;5;28mself\u001b[39m\u001b[38;5;241m.\u001b[39m_get_index_dtype((\u001b[38;5;28mself\u001b[39m\u001b[38;5;241m.\u001b[39mindptr, \u001b[38;5;28mself\u001b[39m\u001b[38;5;241m.\u001b[39mindices,\n\u001b[0;32m    524\u001b[0m                              other\u001b[38;5;241m.\u001b[39mindptr, other\u001b[38;5;241m.\u001b[39mindices),\n\u001b[0;32m    525\u001b[0m                             maxval\u001b[38;5;241m=\u001b[39mnnz)\n\u001b[0;32m    527\u001b[0m indptr \u001b[38;5;241m=\u001b[39m np\u001b[38;5;241m.\u001b[39mempty(major_axis \u001b[38;5;241m+\u001b[39m \u001b[38;5;241m1\u001b[39m, dtype\u001b[38;5;241m=\u001b[39midx_dtype)\n\u001b[1;32m--> 528\u001b[0m indices \u001b[38;5;241m=\u001b[39m \u001b[43mnp\u001b[49m\u001b[38;5;241;43m.\u001b[39;49m\u001b[43mempty\u001b[49m\u001b[43m(\u001b[49m\u001b[43mnnz\u001b[49m\u001b[43m,\u001b[49m\u001b[43m \u001b[49m\u001b[43mdtype\u001b[49m\u001b[38;5;241;43m=\u001b[39;49m\u001b[43midx_dtype\u001b[49m\u001b[43m)\u001b[49m\n\u001b[0;32m    529\u001b[0m data \u001b[38;5;241m=\u001b[39m np\u001b[38;5;241m.\u001b[39mempty(nnz, dtype\u001b[38;5;241m=\u001b[39mupcast(\u001b[38;5;28mself\u001b[39m\u001b[38;5;241m.\u001b[39mdtype, other\u001b[38;5;241m.\u001b[39mdtype))\n\u001b[0;32m    531\u001b[0m fn \u001b[38;5;241m=\u001b[39m \u001b[38;5;28mgetattr\u001b[39m(_sparsetools, \u001b[38;5;28mself\u001b[39m\u001b[38;5;241m.\u001b[39mformat \u001b[38;5;241m+\u001b[39m \u001b[38;5;124m'\u001b[39m\u001b[38;5;124m_matmat\u001b[39m\u001b[38;5;124m'\u001b[39m)\n",
      "\u001b[1;31mMemoryError\u001b[0m: Unable to allocate 5.05 GiB for an array with shape (1356845118,) and data type int32"
     ]
    }
   ],
   "source": [
    "from sklearn.feature_extraction.text import TfidfVectorizer\n",
    "\n",
    "# Skapa TF-IDF-objekt\n",
    "tfidf = TfidfVectorizer(stop_words=\"english\")  \n",
    "\n",
    "# Omvandla \"tag\"-texten till en TF-IDF-matris\n",
    "tfidf_matrix = tfidf.fit_transform(movies[\"tfidf\"])\n",
    "\n",
    "# Spara filmtitlarna separat\n",
    "movie_titles = movies[\"title\"].tolist()\n",
    "\n",
    "from sklearn.metrics.pairwise import cosine_similarity\n",
    "\n",
    "# Beräkna likheten mellan alla filmer\n",
    "cosine_sim = cosine_similarity(tfidf_matrix, tfidf_matrix)\n",
    "\n",
    "\n",
    "import numpy as np\n",
    "\n",
    "def recommend_movie(selected_movie, movies, cosine_sim, top_n=5):\n",
    "    # Hitta indexet för den valda filmen\n",
    "    movie_index = movies[movies[\"title\"] == selected_movie].index[0]\n",
    "    \n",
    "    # Hämta likhetsvärden och sortera filmerna\n",
    "    similarity_scores = list(enumerate(cosine_sim[movie_index]))\n",
    "    sorted_scores = sorted(similarity_scores, key=lambda x: x[1], reverse=True)\n",
    "\n",
    "    # Välj de 5 närmaste filmerna (exkludera den valda filmen själv)\n",
    "    top_movies = sorted_scores[1:top_n+1]\n",
    "\n",
    "    # Returnera titlarna och deras likhetsvärden\n",
    "    return [(movies.iloc[i[0]][\"title\"], i[1]) for i in top_movies]\n",
    "\n",
    "# Testa funktionen\n",
    "selected_movie = \"Toy Story (1995)\"\n",
    "recommendations = recommend_movie(selected_movie, movies, cosine_sim, top_n=5)\n",
    "\n",
    "# Visa resultat\n",
    "for movie in recommendations:\n",
    "    print(f\"Rekommenderad: {movie[0]} (Likhet: {movie[1]:.2f})\")\n"
   ]
  },
  {
   "cell_type": "code",
   "execution_count": null,
   "metadata": {},
   "outputs": [],
   "source": [
    "from sklearn.feature_extraction.text import TfidfVectorizer\n",
    "from sklearn.metrics.pairwise import cosine_similarity\n",
    "\n",
    "tfidf = TfidfVectorizer(stop_words=\"english\") # tar bort alla ord som är vanligt förekommande som tex and,or motsv\n",
    "tfidf_vector = tfidf.fit_transform(filtered_movies[\"tfidf\"])\n",
    "\n",
    "test = \"Adventure Animation Children Comedy Fantasy bull terrier toy fire truck family dart great movie light pixar National Film Registry blockbuster HEROIC MISSION tom hanks pet dog sheriff favorite suburb birthday adventure famous score httpsmovielensorgtaganimation soldier warm CGI showdown very good internal logic fails first of trilogy DVDVideo frustration reference to marie antoinette arm battleship game Tumeys VHS American Animation buy toyota truck squeeze toy childs bedroom 55 movies every kid should seeEntertainment Weekly audio flashback Animation scifi moving almost favorite threat buddy movie baby storage shed fantasy learning a lesson toy dinosaur Oscar Best Picture cartoon comedy reconnaissance mission 3D space ranger walkie talkie male villain unlikely friendships signature depression toy robot CLV feelgood bullying toy gliding remote controlled toy car kids avi animation commercial Engaging Woody villian hurts toys falling from a window toybox John Lasseter shark redemption rain scene during opening credits dental braces banister car crash ad for toys cute male antagonist escape attempt kids movie family film double prize UNLIKELY FRIENDSHIPS biohazard sign view through binoculars very nice good cartoon chindren so funny Disney animated feature buzz lightyear character staircase catchphrase part of trilogy fishing rod bedroom birthday present dachshund exciting plot children cartoon classic delivery cult favorite erlends DVDs porcelain slinky dog buddy karate magnifying glass weightlifting car toys played doubt plastic army men poster ringing a doorbell misunderstanding innovative surprise ending pterodactyl sunroof calling someone an idiot story rival rivalry unny seatbelt good animation hat time lapse photography yelling jealousy mattel alien toy dog loyal friend boy twister the game violence mother son relationship Watched CG animation Pixar animation turbo boost little girl mutant comic hero torture rejection CGI classic hasbro cartoon dog candy land the board game Pixar operation game affection neighbor jumping through a sunroof battery Disney want to see again false accusation product placement encouragement rainy day watchlist beautiful favoritism reflection slow motion scene sleeping dog confrontation mixed soundtrack moving van bed lots of heart reference to mattel loyalty christmas present Toy Story national film registry friends troll doll talking in ones sleep arcade game cgi burn unusual friendship cult film house Tom Hanks villain medical mask christmas ss remorse corkboard cowboy soundtrack meeting astronaut family relationships Tim Allen clock dog dolls tim allen escape guilty conscience action figure toyota cowboy doll heartfelt computer generated imagery gas station bright bully dog as gift emotional radio controlled spaceman toy rescue mission ratedG Tumeys To See Again imdb top 250 lipstick on face mission scheming home cowboy boot flying animated wallpaper sunlight tough guy whimsica elementary school humorous male protagonist nesting egg backyard gratitude Owned fanciful lifting a female into the air childish claw crane woody character Cartoon BDVideo piggy bank childs birthday toy soldier animated dog brat two word title time travel christmas day neighborhood blinds chrysler automobile original story doorbell accepting reality talking toy first cgi film etch a sketch anthropomorphic toy utah teapot apology tyrannosaurus rex action figures the boys desk globe Comedy famous song toy story mouth fear self awareness doll TOYS COME TO LIFE child flashlight USA shepherdess explosion single mother chasing a truck toolbox Animation Os dois viram jumping from height animated fictional tv commercial joss whedon jack in the box rocket Want childs birthday party first part birthday party child destroys own toy fireplace dartboard ya boy card game running ohio crate Best of Rotten Tomatoes All Time magic 8 ball teamwork pizza van boy next door cgi animation window shivering itaege famous line subjective camera Buzz Lightyear surgical mask touching story witty recliner chair spacesuit monsters action shed martial arts rescue new toy lifting someone into the air light hearted hero brother sister relationship pull string doll antenna e a e chased by a dog directorial debut resourcefulness parachute low fantasy telling someone to shut up kids and family child villain skateboard children bad guy space explorer computer animation enemies become friends laughter talking to a toy thunder bully comeuppance clever microphone 3 dimensional karate chop toy tea set surrounded gift mockery forced puns animmation DARING RESCUES fast and a furious nostalgic 3d selflessness anthropomorphism locked in rousing child antagonist baby monitor new home soothing asking directions playskool fun family movie voice acting Oscar Special Achievement title spoken by character backfire characters point of view camera shot water arcade sliding down a banister mr potato head character hockey puck disney Family cartoon chrysler lebaron convertible 2009 reissue in Stereoscopic 3D child destroys anothers toy package fight face mask leggings binoculars love interest bouncy ball toys fistfight interesting toy comes to life brawl game of life board game wilhelm scream comeuppance looking out a window ballet flats technological marvel x291LIVEJohn Lasseter television commercial funny lines girl little boy falling from height dinosaur dead battery fun troubled production 1990s mr potato head urban setting pet as gift lovable characters rag doll friend good time pliers bo peep character ramp thunderstorm heros journey envy match ventilation shaft TAa Leoni does not star in this movie first of series funny van friendship falling out a window toy animal push button digital pizzeria visual pun scene before opening credits\"\n",
    "\n",
    "query_vector = tfidf.transform([test])\n",
    "movie_similarity = cosine_similarity(query_vector, tfidf_vector)\n",
    "\n",
    "similarity_score = list(enumerate(movie_similarity.flatten()))\n",
    "\n",
    "sorted_score = sorted(similarity_score, key=lambda x: x[1], reverse=True)\n",
    "\n",
    "top_movies = sorted_score[1:5+1]\n",
    "\n",
    "detailed_top_movies = [\n",
    "    {\n",
    "        \"movieId\": movies.iloc[i[0]][\"movieId\"],\n",
    "        \"title\": movies.iloc[i[0]][\"title\"],\n",
    "        \"similarity_score\": i[1]\n",
    "    }\n",
    "    for i in top_movies\n",
    "]\n",
    "\n",
    "for movie in detailed_top_movies:\n",
    "    print(f\"MovieId: {movie['movieId']}, {movie['title']}, Similarity Score: {movie['similarity_score']:.2}\")\n"
   ]
  },
  {
   "cell_type": "code",
   "execution_count": null,
   "metadata": {},
   "outputs": [],
   "source": [
    "def get_top_100(selected_movie, movies, top_n=100):\n",
    "\n",
    "    test = movies.loc[movies[\"movieId\"] == selected_movie, \"tfidf\"].values[0]\n",
    "    \n",
    "    query_vector = tfidf.transform([test])\n",
    "\n",
    "    movie_similarity = cosine_similarity(query_vector, tfidf_vector)\n",
    "\n",
    "    # movie_index = movies[movies[\"movieId\"] == selected_movie].index[0]\n",
    "\n",
    "    similarity_score = list(enumerate(movie_similarity.flatten()))\n",
    "\n",
    "    sorted_score = sorted(similarity_score, key=lambda x: x[1], reverse=True)\n",
    "\n",
    "    top_movies = sorted_score[1:top_n+1]\n",
    "\n",
    "    detailed_top_movies = [\n",
    "        {\n",
    "            \"movieId\": movies.iloc[i[0]][\"movieId\"],\n",
    "            \"title\": movies.iloc[i[0]][\"title\"],\n",
    "            \"similarity_score\": i[1]\n",
    "        }\n",
    "        for i in top_movies\n",
    "    ]\n",
    "    \n",
    "    return detailed_top_movies\n",
    "\n",
    "    # return [(movies.iloc[i[0]][\"movieId\"], i[1]) for i in top_movies]"
   ]
  },
  {
   "cell_type": "code",
   "execution_count": null,
   "metadata": {},
   "outputs": [],
   "source": [
    "selected_movie = 1\n",
    "topp_100 = get_top_100(selected_movie, filtered_movies, top_n=20)\n",
    "\n",
    "for movie in topp_100:\n",
    "    print(f\"MovieId: {movie['movieId']}, {movie['title']}, Similarity Score: {movie['similarity_score']:.2}\")"
   ]
  },
  {
   "cell_type": "code",
   "execution_count": null,
   "metadata": {},
   "outputs": [],
   "source": [
    "filtered_movies"
   ]
  },
  {
   "cell_type": "code",
   "execution_count": null,
   "metadata": {},
   "outputs": [],
   "source": [
    "def get_similar_movies(idx, cosine_sim, df, num_movies=100):\n",
    "    # idx = df[df[\"title\"] == title].index[0]  # Hitta index för filmen\n",
    "    sim_scores = list(enumerate(cosine_sim[idx]))  # Hämta likhetsmått\n",
    "    sim_scores = sorted(sim_scores, key=lambda x: x[1], reverse=True)  # Sortera efter likhet\n",
    "    sim_scores = sim_scores[1:num_movies+1]  # Välj topp 100 (exkludera sig själv)\n",
    "    movie_indices = [i[0] for i in sim_scores]  # Hämta index för liknande filmer\n",
    "    \n",
    "    return df.iloc[movie_indices][[\"movieId\", \"title\"]]  # Returnera liknande filmer\n",
    "\n",
    "# Exempelanrop\n",
    "index = 0\n",
    "similar_movies = get_similar_movies(index, movie_similarity, filtered_movies, num_movies=20)\n",
    "print(similar_movies)"
   ]
  }
 ],
 "metadata": {
  "kernelspec": {
   "display_name": ".venv",
   "language": "python",
   "name": "python3"
  },
  "language_info": {
   "codemirror_mode": {
    "name": "ipython",
    "version": 3
   },
   "file_extension": ".py",
   "mimetype": "text/x-python",
   "name": "python",
   "nbconvert_exporter": "python",
   "pygments_lexer": "ipython3",
   "version": "3.11.9"
  }
 },
 "nbformat": 4,
 "nbformat_minor": 2
}
