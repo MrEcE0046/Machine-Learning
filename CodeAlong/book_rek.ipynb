{
 "cells": [
  {
   "cell_type": "code",
   "execution_count": null,
   "metadata": {},
   "outputs": [
    {
     "name": "stderr",
     "output_type": "stream",
     "text": [
      "C:\\Users\\emil_\\AppData\\Local\\Temp\\ipykernel_17744\\2281312011.py:4: DtypeWarning: Columns (3) have mixed types. Specify dtype option on import or set low_memory=False.\n",
      "  books = pd.read_csv(\"Books.csv\")\n"
     ]
    },
    {
     "name": "stdout",
     "output_type": "stream",
     "text": [
      "<class 'pandas.core.frame.DataFrame'>\n",
      "RangeIndex: 271360 entries, 0 to 271359\n",
      "Data columns (total 8 columns):\n",
      " #   Column               Non-Null Count   Dtype \n",
      "---  ------               --------------   ----- \n",
      " 0   ISBN                 271360 non-null  object\n",
      " 1   Book-Title           271360 non-null  object\n",
      " 2   Book-Author          271358 non-null  object\n",
      " 3   Year-Of-Publication  271360 non-null  object\n",
      " 4   Publisher            271358 non-null  object\n",
      " 5   Image-URL-S          271360 non-null  object\n",
      " 6   Image-URL-M          271360 non-null  object\n",
      " 7   Image-URL-L          271357 non-null  object\n",
      "dtypes: object(8)\n",
      "memory usage: 16.6+ MB\n"
     ]
    }
   ],
   "source": [
    "import pandas as pd\n",
    "\n",
    "users = pd.read_csv(\"Users.csv\")\n",
    "books = pd.read_csv(\"Books.csv\")\n",
    "ratings = pd.read_csv(\"Ratings.csv\")"
   ]
  },
  {
   "cell_type": "code",
   "execution_count": 3,
   "metadata": {},
   "outputs": [
    {
     "name": "stdout",
     "output_type": "stream",
     "text": [
      "<class 'pandas.core.frame.DataFrame'>\n",
      "RangeIndex: 271360 entries, 0 to 271359\n",
      "Data columns (total 8 columns):\n",
      " #   Column               Non-Null Count   Dtype \n",
      "---  ------               --------------   ----- \n",
      " 0   ISBN                 271360 non-null  object\n",
      " 1   Book-Title           271360 non-null  object\n",
      " 2   Book-Author          271358 non-null  object\n",
      " 3   Year-Of-Publication  271360 non-null  object\n",
      " 4   Publisher            271358 non-null  object\n",
      " 5   Image-URL-S          271360 non-null  object\n",
      " 6   Image-URL-M          271360 non-null  object\n",
      " 7   Image-URL-L          271357 non-null  object\n",
      "dtypes: object(8)\n",
      "memory usage: 16.6+ MB\n"
     ]
    }
   ],
   "source": [
    "books.info()\n"
   ]
  },
  {
   "cell_type": "code",
   "execution_count": 4,
   "metadata": {},
   "outputs": [
    {
     "name": "stdout",
     "output_type": "stream",
     "text": [
      "<class 'pandas.core.frame.DataFrame'>\n",
      "RangeIndex: 278858 entries, 0 to 278857\n",
      "Data columns (total 3 columns):\n",
      " #   Column    Non-Null Count   Dtype  \n",
      "---  ------    --------------   -----  \n",
      " 0   User-ID   278858 non-null  int64  \n",
      " 1   Location  278858 non-null  object \n",
      " 2   Age       168096 non-null  float64\n",
      "dtypes: float64(1), int64(1), object(1)\n",
      "memory usage: 6.4+ MB\n"
     ]
    }
   ],
   "source": [
    "users.info()"
   ]
  },
  {
   "cell_type": "code",
   "execution_count": 5,
   "metadata": {},
   "outputs": [
    {
     "name": "stdout",
     "output_type": "stream",
     "text": [
      "<class 'pandas.core.frame.DataFrame'>\n",
      "RangeIndex: 1149780 entries, 0 to 1149779\n",
      "Data columns (total 3 columns):\n",
      " #   Column       Non-Null Count    Dtype \n",
      "---  ------       --------------    ----- \n",
      " 0   User-ID      1149780 non-null  int64 \n",
      " 1   ISBN         1149780 non-null  object\n",
      " 2   Book-Rating  1149780 non-null  int64 \n",
      "dtypes: int64(2), object(1)\n",
      "memory usage: 26.3+ MB\n"
     ]
    }
   ],
   "source": [
    "ratings.info()"
   ]
  },
  {
   "cell_type": "code",
   "execution_count": 9,
   "metadata": {},
   "outputs": [
    {
     "data": {
      "application/vnd.microsoft.datawrangler.viewer.v0+json": {
       "columns": [
        {
         "name": "index",
         "rawType": "object",
         "type": "string"
        },
        {
         "name": "User-ID",
         "rawType": "float64",
         "type": "float"
        },
        {
         "name": "Book-Rating",
         "rawType": "float64",
         "type": "float"
        }
       ],
       "conversionMethod": "pd.DataFrame",
       "ref": "97f2e196-d3d6-446d-8da3-10919ac10500",
       "rows": [
        [
         "count",
         "1149780.0",
         "1149780.0"
        ],
        [
         "mean",
         "140386.39512602412",
         "2.8669501991685364"
        ],
        [
         "std",
         "80562.27771851212",
         "3.8541838592016537"
        ],
        [
         "min",
         "2.0",
         "0.0"
        ],
        [
         "25%",
         "70345.0",
         "0.0"
        ],
        [
         "50%",
         "141010.0",
         "0.0"
        ],
        [
         "75%",
         "211028.0",
         "7.0"
        ],
        [
         "max",
         "278854.0",
         "10.0"
        ]
       ],
       "shape": {
        "columns": 2,
        "rows": 8
       }
      },
      "text/html": [
       "<div>\n",
       "<style scoped>\n",
       "    .dataframe tbody tr th:only-of-type {\n",
       "        vertical-align: middle;\n",
       "    }\n",
       "\n",
       "    .dataframe tbody tr th {\n",
       "        vertical-align: top;\n",
       "    }\n",
       "\n",
       "    .dataframe thead th {\n",
       "        text-align: right;\n",
       "    }\n",
       "</style>\n",
       "<table border=\"1\" class=\"dataframe\">\n",
       "  <thead>\n",
       "    <tr style=\"text-align: right;\">\n",
       "      <th></th>\n",
       "      <th>User-ID</th>\n",
       "      <th>Book-Rating</th>\n",
       "    </tr>\n",
       "  </thead>\n",
       "  <tbody>\n",
       "    <tr>\n",
       "      <th>count</th>\n",
       "      <td>1.149780e+06</td>\n",
       "      <td>1.149780e+06</td>\n",
       "    </tr>\n",
       "    <tr>\n",
       "      <th>mean</th>\n",
       "      <td>1.403864e+05</td>\n",
       "      <td>2.866950e+00</td>\n",
       "    </tr>\n",
       "    <tr>\n",
       "      <th>std</th>\n",
       "      <td>8.056228e+04</td>\n",
       "      <td>3.854184e+00</td>\n",
       "    </tr>\n",
       "    <tr>\n",
       "      <th>min</th>\n",
       "      <td>2.000000e+00</td>\n",
       "      <td>0.000000e+00</td>\n",
       "    </tr>\n",
       "    <tr>\n",
       "      <th>25%</th>\n",
       "      <td>7.034500e+04</td>\n",
       "      <td>0.000000e+00</td>\n",
       "    </tr>\n",
       "    <tr>\n",
       "      <th>50%</th>\n",
       "      <td>1.410100e+05</td>\n",
       "      <td>0.000000e+00</td>\n",
       "    </tr>\n",
       "    <tr>\n",
       "      <th>75%</th>\n",
       "      <td>2.110280e+05</td>\n",
       "      <td>7.000000e+00</td>\n",
       "    </tr>\n",
       "    <tr>\n",
       "      <th>max</th>\n",
       "      <td>2.788540e+05</td>\n",
       "      <td>1.000000e+01</td>\n",
       "    </tr>\n",
       "  </tbody>\n",
       "</table>\n",
       "</div>"
      ],
      "text/plain": [
       "            User-ID   Book-Rating\n",
       "count  1.149780e+06  1.149780e+06\n",
       "mean   1.403864e+05  2.866950e+00\n",
       "std    8.056228e+04  3.854184e+00\n",
       "min    2.000000e+00  0.000000e+00\n",
       "25%    7.034500e+04  0.000000e+00\n",
       "50%    1.410100e+05  0.000000e+00\n",
       "75%    2.110280e+05  7.000000e+00\n",
       "max    2.788540e+05  1.000000e+01"
      ]
     },
     "execution_count": 9,
     "metadata": {},
     "output_type": "execute_result"
    }
   ],
   "source": [
    "ratings.describe()"
   ]
  },
  {
   "cell_type": "code",
   "execution_count": 10,
   "metadata": {},
   "outputs": [
    {
     "data": {
      "application/vnd.microsoft.datawrangler.viewer.v0+json": {
       "columns": [
        {
         "name": "index",
         "rawType": "int64",
         "type": "integer"
        },
        {
         "name": "ISBN",
         "rawType": "object",
         "type": "string"
        },
        {
         "name": "Book-Title",
         "rawType": "object",
         "type": "string"
        },
        {
         "name": "Book-Author",
         "rawType": "object",
         "type": "unknown"
        },
        {
         "name": "Year-Of-Publication",
         "rawType": "object",
         "type": "unknown"
        },
        {
         "name": "Publisher",
         "rawType": "object",
         "type": "unknown"
        },
        {
         "name": "Image-URL-S",
         "rawType": "object",
         "type": "string"
        },
        {
         "name": "Image-URL-M",
         "rawType": "object",
         "type": "string"
        },
        {
         "name": "Image-URL-L",
         "rawType": "object",
         "type": "unknown"
        }
       ],
       "conversionMethod": "pd.DataFrame",
       "ref": "95458f86-0acc-4aad-a242-af2f209f1e1a",
       "rows": [
        [
         "0",
         "0195153448",
         "Classical Mythology",
         "Mark P. O. Morford",
         "2002",
         "Oxford University Press",
         "http://images.amazon.com/images/P/0195153448.01.THUMBZZZ.jpg",
         "http://images.amazon.com/images/P/0195153448.01.MZZZZZZZ.jpg",
         "http://images.amazon.com/images/P/0195153448.01.LZZZZZZZ.jpg"
        ],
        [
         "1",
         "0002005018",
         "Clara Callan",
         "Richard Bruce Wright",
         "2001",
         "HarperFlamingo Canada",
         "http://images.amazon.com/images/P/0002005018.01.THUMBZZZ.jpg",
         "http://images.amazon.com/images/P/0002005018.01.MZZZZZZZ.jpg",
         "http://images.amazon.com/images/P/0002005018.01.LZZZZZZZ.jpg"
        ],
        [
         "2",
         "0060973129",
         "Decision in Normandy",
         "Carlo D'Este",
         "1991",
         "HarperPerennial",
         "http://images.amazon.com/images/P/0060973129.01.THUMBZZZ.jpg",
         "http://images.amazon.com/images/P/0060973129.01.MZZZZZZZ.jpg",
         "http://images.amazon.com/images/P/0060973129.01.LZZZZZZZ.jpg"
        ],
        [
         "3",
         "0374157065",
         "Flu: The Story of the Great Influenza Pandemic of 1918 and the Search for the Virus That Caused It",
         "Gina Bari Kolata",
         "1999",
         "Farrar Straus Giroux",
         "http://images.amazon.com/images/P/0374157065.01.THUMBZZZ.jpg",
         "http://images.amazon.com/images/P/0374157065.01.MZZZZZZZ.jpg",
         "http://images.amazon.com/images/P/0374157065.01.LZZZZZZZ.jpg"
        ],
        [
         "4",
         "0393045218",
         "The Mummies of Urumchi",
         "E. J. W. Barber",
         "1999",
         "W. W. Norton &amp; Company",
         "http://images.amazon.com/images/P/0393045218.01.THUMBZZZ.jpg",
         "http://images.amazon.com/images/P/0393045218.01.MZZZZZZZ.jpg",
         "http://images.amazon.com/images/P/0393045218.01.LZZZZZZZ.jpg"
        ],
        [
         "5",
         "0399135782",
         "The Kitchen God's Wife",
         "Amy Tan",
         "1991",
         "Putnam Pub Group",
         "http://images.amazon.com/images/P/0399135782.01.THUMBZZZ.jpg",
         "http://images.amazon.com/images/P/0399135782.01.MZZZZZZZ.jpg",
         "http://images.amazon.com/images/P/0399135782.01.LZZZZZZZ.jpg"
        ],
        [
         "6",
         "0425176428",
         "What If?: The World's Foremost Military Historians Imagine What Might Have Been",
         "Robert Cowley",
         "2000",
         "Berkley Publishing Group",
         "http://images.amazon.com/images/P/0425176428.01.THUMBZZZ.jpg",
         "http://images.amazon.com/images/P/0425176428.01.MZZZZZZZ.jpg",
         "http://images.amazon.com/images/P/0425176428.01.LZZZZZZZ.jpg"
        ],
        [
         "7",
         "0671870432",
         "PLEADING GUILTY",
         "Scott Turow",
         "1993",
         "Audioworks",
         "http://images.amazon.com/images/P/0671870432.01.THUMBZZZ.jpg",
         "http://images.amazon.com/images/P/0671870432.01.MZZZZZZZ.jpg",
         "http://images.amazon.com/images/P/0671870432.01.LZZZZZZZ.jpg"
        ],
        [
         "8",
         "0679425608",
         "Under the Black Flag: The Romance and the Reality of Life Among the Pirates",
         "David Cordingly",
         "1996",
         "Random House",
         "http://images.amazon.com/images/P/0679425608.01.THUMBZZZ.jpg",
         "http://images.amazon.com/images/P/0679425608.01.MZZZZZZZ.jpg",
         "http://images.amazon.com/images/P/0679425608.01.LZZZZZZZ.jpg"
        ],
        [
         "9",
         "074322678X",
         "Where You'll Find Me: And Other Stories",
         "Ann Beattie",
         "2002",
         "Scribner",
         "http://images.amazon.com/images/P/074322678X.01.THUMBZZZ.jpg",
         "http://images.amazon.com/images/P/074322678X.01.MZZZZZZZ.jpg",
         "http://images.amazon.com/images/P/074322678X.01.LZZZZZZZ.jpg"
        ],
        [
         "10",
         "0771074670",
         "Nights Below Station Street",
         "David Adams Richards",
         "1988",
         "Emblem Editions",
         "http://images.amazon.com/images/P/0771074670.01.THUMBZZZ.jpg",
         "http://images.amazon.com/images/P/0771074670.01.MZZZZZZZ.jpg",
         "http://images.amazon.com/images/P/0771074670.01.LZZZZZZZ.jpg"
        ],
        [
         "11",
         "080652121X",
         "Hitler's Secret Bankers: The Myth of Swiss Neutrality During the Holocaust",
         "Adam Lebor",
         "2000",
         "Citadel Press",
         "http://images.amazon.com/images/P/080652121X.01.THUMBZZZ.jpg",
         "http://images.amazon.com/images/P/080652121X.01.MZZZZZZZ.jpg",
         "http://images.amazon.com/images/P/080652121X.01.LZZZZZZZ.jpg"
        ],
        [
         "12",
         "0887841740",
         "The Middle Stories",
         "Sheila Heti",
         "2004",
         "House of Anansi Press",
         "http://images.amazon.com/images/P/0887841740.01.THUMBZZZ.jpg",
         "http://images.amazon.com/images/P/0887841740.01.MZZZZZZZ.jpg",
         "http://images.amazon.com/images/P/0887841740.01.LZZZZZZZ.jpg"
        ],
        [
         "13",
         "1552041778",
         "Jane Doe",
         "R. J. Kaiser",
         "1999",
         "Mira Books",
         "http://images.amazon.com/images/P/1552041778.01.THUMBZZZ.jpg",
         "http://images.amazon.com/images/P/1552041778.01.MZZZZZZZ.jpg",
         "http://images.amazon.com/images/P/1552041778.01.LZZZZZZZ.jpg"
        ],
        [
         "14",
         "1558746218",
         "A Second Chicken Soup for the Woman's Soul (Chicken Soup for the Soul Series)",
         "Jack Canfield",
         "1998",
         "Health Communications",
         "http://images.amazon.com/images/P/1558746218.01.THUMBZZZ.jpg",
         "http://images.amazon.com/images/P/1558746218.01.MZZZZZZZ.jpg",
         "http://images.amazon.com/images/P/1558746218.01.LZZZZZZZ.jpg"
        ],
        [
         "15",
         "1567407781",
         "The Witchfinder (Amos Walker Mystery Series)",
         "Loren D. Estleman",
         "1998",
         "Brilliance Audio - Trade",
         "http://images.amazon.com/images/P/1567407781.01.THUMBZZZ.jpg",
         "http://images.amazon.com/images/P/1567407781.01.MZZZZZZZ.jpg",
         "http://images.amazon.com/images/P/1567407781.01.LZZZZZZZ.jpg"
        ],
        [
         "16",
         "1575663937",
         "More Cunning Than Man: A Social History of Rats and Man",
         "Robert Hendrickson",
         "1999",
         "Kensington Publishing Corp.",
         "http://images.amazon.com/images/P/1575663937.01.THUMBZZZ.jpg",
         "http://images.amazon.com/images/P/1575663937.01.MZZZZZZZ.jpg",
         "http://images.amazon.com/images/P/1575663937.01.LZZZZZZZ.jpg"
        ],
        [
         "17",
         "1881320189",
         "Goodbye to the Buttermilk Sky",
         "Julia Oliver",
         "1994",
         "River City Pub",
         "http://images.amazon.com/images/P/1881320189.01.THUMBZZZ.jpg",
         "http://images.amazon.com/images/P/1881320189.01.MZZZZZZZ.jpg",
         "http://images.amazon.com/images/P/1881320189.01.LZZZZZZZ.jpg"
        ],
        [
         "18",
         "0440234743",
         "The Testament",
         "John Grisham",
         "1999",
         "Dell",
         "http://images.amazon.com/images/P/0440234743.01.THUMBZZZ.jpg",
         "http://images.amazon.com/images/P/0440234743.01.MZZZZZZZ.jpg",
         "http://images.amazon.com/images/P/0440234743.01.LZZZZZZZ.jpg"
        ],
        [
         "19",
         "0452264464",
         "Beloved (Plume Contemporary Fiction)",
         "Toni Morrison",
         "1994",
         "Plume",
         "http://images.amazon.com/images/P/0452264464.01.THUMBZZZ.jpg",
         "http://images.amazon.com/images/P/0452264464.01.MZZZZZZZ.jpg",
         "http://images.amazon.com/images/P/0452264464.01.LZZZZZZZ.jpg"
        ],
        [
         "20",
         "0609804618",
         "Our Dumb Century: The Onion Presents 100 Years of Headlines from America's Finest News Source",
         "The Onion",
         "1999",
         "Three Rivers Press",
         "http://images.amazon.com/images/P/0609804618.01.THUMBZZZ.jpg",
         "http://images.amazon.com/images/P/0609804618.01.MZZZZZZZ.jpg",
         "http://images.amazon.com/images/P/0609804618.01.LZZZZZZZ.jpg"
        ],
        [
         "21",
         "1841721522",
         "New Vegetarian: Bold and Beautiful Recipes for Every Occasion",
         "Celia Brooks Brown",
         "2001",
         "Ryland Peters &amp; Small Ltd",
         "http://images.amazon.com/images/P/1841721522.01.THUMBZZZ.jpg",
         "http://images.amazon.com/images/P/1841721522.01.MZZZZZZZ.jpg",
         "http://images.amazon.com/images/P/1841721522.01.LZZZZZZZ.jpg"
        ],
        [
         "22",
         "1879384493",
         "If I'd Known Then What I Know Now: Why Not Learn from the Mistakes of Others? : You Can't Afford to Make Them All Yourself",
         "J. R. Parrish",
         "2003",
         "Cypress House",
         "http://images.amazon.com/images/P/1879384493.01.THUMBZZZ.jpg",
         "http://images.amazon.com/images/P/1879384493.01.MZZZZZZZ.jpg",
         "http://images.amazon.com/images/P/1879384493.01.LZZZZZZZ.jpg"
        ],
        [
         "23",
         "0061076031",
         "Mary-Kate &amp; Ashley Switching Goals (Mary-Kate and Ashley Starring in)",
         "Mary-Kate &amp; Ashley Olsen",
         "2000",
         "HarperEntertainment",
         "http://images.amazon.com/images/P/0061076031.01.THUMBZZZ.jpg",
         "http://images.amazon.com/images/P/0061076031.01.MZZZZZZZ.jpg",
         "http://images.amazon.com/images/P/0061076031.01.LZZZZZZZ.jpg"
        ],
        [
         "24",
         "0439095026",
         "Tell Me This Isn't Happening",
         "Robynn Clairday",
         "1999",
         "Scholastic",
         "http://images.amazon.com/images/P/0439095026.01.THUMBZZZ.jpg",
         "http://images.amazon.com/images/P/0439095026.01.MZZZZZZZ.jpg",
         "http://images.amazon.com/images/P/0439095026.01.LZZZZZZZ.jpg"
        ],
        [
         "25",
         "0689821166",
         "Flood : Mississippi 1927",
         "Kathleen Duey",
         "1998",
         "Aladdin",
         "http://images.amazon.com/images/P/0689821166.01.THUMBZZZ.jpg",
         "http://images.amazon.com/images/P/0689821166.01.MZZZZZZZ.jpg",
         "http://images.amazon.com/images/P/0689821166.01.LZZZZZZZ.jpg"
        ],
        [
         "26",
         "0971880107",
         "Wild Animus",
         "Rich Shapero",
         "2004",
         "Too Far",
         "http://images.amazon.com/images/P/0971880107.01.THUMBZZZ.jpg",
         "http://images.amazon.com/images/P/0971880107.01.MZZZZZZZ.jpg",
         "http://images.amazon.com/images/P/0971880107.01.LZZZZZZZ.jpg"
        ],
        [
         "27",
         "0345402871",
         "Airframe",
         "Michael Crichton",
         "1997",
         "Ballantine Books",
         "http://images.amazon.com/images/P/0345402871.01.THUMBZZZ.jpg",
         "http://images.amazon.com/images/P/0345402871.01.MZZZZZZZ.jpg",
         "http://images.amazon.com/images/P/0345402871.01.LZZZZZZZ.jpg"
        ],
        [
         "28",
         "0345417623",
         "Timeline",
         "MICHAEL CRICHTON",
         "2000",
         "Ballantine Books",
         "http://images.amazon.com/images/P/0345417623.01.THUMBZZZ.jpg",
         "http://images.amazon.com/images/P/0345417623.01.MZZZZZZZ.jpg",
         "http://images.amazon.com/images/P/0345417623.01.LZZZZZZZ.jpg"
        ],
        [
         "29",
         "0684823802",
         "OUT OF THE SILENT PLANET",
         "C.S. Lewis",
         "1996",
         "Scribner",
         "http://images.amazon.com/images/P/0684823802.01.THUMBZZZ.jpg",
         "http://images.amazon.com/images/P/0684823802.01.MZZZZZZZ.jpg",
         "http://images.amazon.com/images/P/0684823802.01.LZZZZZZZ.jpg"
        ],
        [
         "30",
         "0375759778",
         "Prague : A Novel",
         "ARTHUR PHILLIPS",
         "2003",
         "Random House Trade Paperbacks",
         "http://images.amazon.com/images/P/0375759778.01.THUMBZZZ.jpg",
         "http://images.amazon.com/images/P/0375759778.01.MZZZZZZZ.jpg",
         "http://images.amazon.com/images/P/0375759778.01.LZZZZZZZ.jpg"
        ],
        [
         "31",
         "0425163091",
         "Chocolate Jesus",
         "Stephan Jaramillo",
         "1998",
         "Berkley Publishing Group",
         "http://images.amazon.com/images/P/0425163091.01.THUMBZZZ.jpg",
         "http://images.amazon.com/images/P/0425163091.01.MZZZZZZZ.jpg",
         "http://images.amazon.com/images/P/0425163091.01.LZZZZZZZ.jpg"
        ],
        [
         "32",
         "3404921038",
         "Wie Barney es sieht.",
         "Mordecai Richler",
         "2002",
         "LÃ?Â¼bbe",
         "http://images.amazon.com/images/P/3404921038.01.THUMBZZZ.jpg",
         "http://images.amazon.com/images/P/3404921038.01.MZZZZZZZ.jpg",
         "http://images.amazon.com/images/P/3404921038.01.LZZZZZZZ.jpg"
        ],
        [
         "33",
         "3442353866",
         "Der Fluch der Kaiserin. Ein Richter- Di- Roman.",
         "Eleanor Cooney",
         "2001",
         "Goldmann",
         "http://images.amazon.com/images/P/3442353866.01.THUMBZZZ.jpg",
         "http://images.amazon.com/images/P/3442353866.01.MZZZZZZZ.jpg",
         "http://images.amazon.com/images/P/3442353866.01.LZZZZZZZ.jpg"
        ],
        [
         "34",
         "3442410665",
         "Sturmzeit. Roman.",
         "Charlotte Link",
         "1991",
         "Goldmann",
         "http://images.amazon.com/images/P/3442410665.01.THUMBZZZ.jpg",
         "http://images.amazon.com/images/P/3442410665.01.MZZZZZZZ.jpg",
         "http://images.amazon.com/images/P/3442410665.01.LZZZZZZZ.jpg"
        ],
        [
         "35",
         "3442446937",
         "Tage der Unschuld.",
         "Richard North Patterson",
         "2000",
         "Goldmann",
         "http://images.amazon.com/images/P/3442446937.01.THUMBZZZ.jpg",
         "http://images.amazon.com/images/P/3442446937.01.MZZZZZZZ.jpg",
         "http://images.amazon.com/images/P/3442446937.01.LZZZZZZZ.jpg"
        ],
        [
         "36",
         "0375406328",
         "Lying Awake",
         "Mark Salzman",
         "2000",
         "Alfred A. Knopf",
         "http://images.amazon.com/images/P/0375406328.01.THUMBZZZ.jpg",
         "http://images.amazon.com/images/P/0375406328.01.MZZZZZZZ.jpg",
         "http://images.amazon.com/images/P/0375406328.01.LZZZZZZZ.jpg"
        ],
        [
         "37",
         "0446310786",
         "To Kill a Mockingbird",
         "Harper Lee",
         "1988",
         "Little Brown &amp; Company",
         "http://images.amazon.com/images/P/0446310786.01.THUMBZZZ.jpg",
         "http://images.amazon.com/images/P/0446310786.01.MZZZZZZZ.jpg",
         "http://images.amazon.com/images/P/0446310786.01.LZZZZZZZ.jpg"
        ],
        [
         "38",
         "0449005615",
         "Seabiscuit: An American Legend",
         "LAURA HILLENBRAND",
         "2002",
         "Ballantine Books",
         "http://images.amazon.com/images/P/0449005615.01.THUMBZZZ.jpg",
         "http://images.amazon.com/images/P/0449005615.01.MZZZZZZZ.jpg",
         "http://images.amazon.com/images/P/0449005615.01.LZZZZZZZ.jpg"
        ],
        [
         "39",
         "0060168013",
         "Pigs in Heaven",
         "Barbara Kingsolver",
         "1993",
         "Harpercollins",
         "http://images.amazon.com/images/P/0060168013.01.THUMBZZZ.jpg",
         "http://images.amazon.com/images/P/0060168013.01.MZZZZZZZ.jpg",
         "http://images.amazon.com/images/P/0060168013.01.LZZZZZZZ.jpg"
        ],
        [
         "40",
         "038078243X",
         "Miss Zukas and the Raven's Dance",
         "Jo Dereske",
         "1996",
         "Avon",
         "http://images.amazon.com/images/P/038078243X.01.THUMBZZZ.jpg",
         "http://images.amazon.com/images/P/038078243X.01.MZZZZZZZ.jpg",
         "http://images.amazon.com/images/P/038078243X.01.LZZZZZZZ.jpg"
        ],
        [
         "41",
         "055321215X",
         "Pride and Prejudice",
         "Jane Austen",
         "1983",
         "Bantam",
         "http://images.amazon.com/images/P/055321215X.01.THUMBZZZ.jpg",
         "http://images.amazon.com/images/P/055321215X.01.MZZZZZZZ.jpg",
         "http://images.amazon.com/images/P/055321215X.01.LZZZZZZZ.jpg"
        ],
        [
         "42",
         "067176537X",
         "The Therapeutic Touch: How to Use Your Hands to Help or to Heal",
         "Dolores Krieger",
         "1979",
         "Fireside",
         "http://images.amazon.com/images/P/067176537X.01.THUMBZZZ.jpg",
         "http://images.amazon.com/images/P/067176537X.01.MZZZZZZZ.jpg",
         "http://images.amazon.com/images/P/067176537X.01.LZZZZZZZ.jpg"
        ],
        [
         "43",
         "0061099686",
         "Downtown",
         "Anne Rivers Siddons",
         "1995",
         "HarperTorch",
         "http://images.amazon.com/images/P/0061099686.01.THUMBZZZ.jpg",
         "http://images.amazon.com/images/P/0061099686.01.MZZZZZZZ.jpg",
         "http://images.amazon.com/images/P/0061099686.01.LZZZZZZZ.jpg"
        ],
        [
         "44",
         "0553582909",
         "Icebound",
         "Dean R. Koontz",
         "2000",
         "Bantam Books",
         "http://images.amazon.com/images/P/0553582909.01.THUMBZZZ.jpg",
         "http://images.amazon.com/images/P/0553582909.01.MZZZZZZZ.jpg",
         "http://images.amazon.com/images/P/0553582909.01.LZZZZZZZ.jpg"
        ],
        [
         "45",
         "0671888587",
         "I'll Be Seeing You",
         "Mary Higgins Clark",
         "1994",
         "Pocket",
         "http://images.amazon.com/images/P/0671888587.01.THUMBZZZ.jpg",
         "http://images.amazon.com/images/P/0671888587.01.MZZZZZZZ.jpg",
         "http://images.amazon.com/images/P/0671888587.01.LZZZZZZZ.jpg"
        ],
        [
         "46",
         "0553582747",
         "From the Corner of His Eye",
         "Dean Koontz",
         "2001",
         "Bantam Books",
         "http://images.amazon.com/images/P/0553582747.01.THUMBZZZ.jpg",
         "http://images.amazon.com/images/P/0553582747.01.MZZZZZZZ.jpg",
         "http://images.amazon.com/images/P/0553582747.01.LZZZZZZZ.jpg"
        ],
        [
         "47",
         "0425182908",
         "Isle of Dogs",
         "Patricia Cornwell",
         "2002",
         "Berkley Publishing Group",
         "http://images.amazon.com/images/P/0425182908.01.THUMBZZZ.jpg",
         "http://images.amazon.com/images/P/0425182908.01.MZZZZZZZ.jpg",
         "http://images.amazon.com/images/P/0425182908.01.LZZZZZZZ.jpg"
        ],
        [
         "48",
         "042518630X",
         "Purity in Death",
         "J.D. Robb",
         "2002",
         "Berkley Publishing Group",
         "http://images.amazon.com/images/P/042518630X.01.THUMBZZZ.jpg",
         "http://images.amazon.com/images/P/042518630X.01.MZZZZZZZ.jpg",
         "http://images.amazon.com/images/P/042518630X.01.LZZZZZZZ.jpg"
        ],
        [
         "49",
         "0440223571",
         "This Year It Will Be Different: And Other Stories",
         "Maeve Binchy",
         "1997",
         "Dell",
         "http://images.amazon.com/images/P/0440223571.01.THUMBZZZ.jpg",
         "http://images.amazon.com/images/P/0440223571.01.MZZZZZZZ.jpg",
         "http://images.amazon.com/images/P/0440223571.01.LZZZZZZZ.jpg"
        ]
       ],
       "shape": {
        "columns": 8,
        "rows": 271360
       }
      },
      "text/html": [
       "<div>\n",
       "<style scoped>\n",
       "    .dataframe tbody tr th:only-of-type {\n",
       "        vertical-align: middle;\n",
       "    }\n",
       "\n",
       "    .dataframe tbody tr th {\n",
       "        vertical-align: top;\n",
       "    }\n",
       "\n",
       "    .dataframe thead th {\n",
       "        text-align: right;\n",
       "    }\n",
       "</style>\n",
       "<table border=\"1\" class=\"dataframe\">\n",
       "  <thead>\n",
       "    <tr style=\"text-align: right;\">\n",
       "      <th></th>\n",
       "      <th>ISBN</th>\n",
       "      <th>Book-Title</th>\n",
       "      <th>Book-Author</th>\n",
       "      <th>Year-Of-Publication</th>\n",
       "      <th>Publisher</th>\n",
       "      <th>Image-URL-S</th>\n",
       "      <th>Image-URL-M</th>\n",
       "      <th>Image-URL-L</th>\n",
       "    </tr>\n",
       "  </thead>\n",
       "  <tbody>\n",
       "    <tr>\n",
       "      <th>0</th>\n",
       "      <td>0195153448</td>\n",
       "      <td>Classical Mythology</td>\n",
       "      <td>Mark P. O. Morford</td>\n",
       "      <td>2002</td>\n",
       "      <td>Oxford University Press</td>\n",
       "      <td>http://images.amazon.com/images/P/0195153448.0...</td>\n",
       "      <td>http://images.amazon.com/images/P/0195153448.0...</td>\n",
       "      <td>http://images.amazon.com/images/P/0195153448.0...</td>\n",
       "    </tr>\n",
       "    <tr>\n",
       "      <th>1</th>\n",
       "      <td>0002005018</td>\n",
       "      <td>Clara Callan</td>\n",
       "      <td>Richard Bruce Wright</td>\n",
       "      <td>2001</td>\n",
       "      <td>HarperFlamingo Canada</td>\n",
       "      <td>http://images.amazon.com/images/P/0002005018.0...</td>\n",
       "      <td>http://images.amazon.com/images/P/0002005018.0...</td>\n",
       "      <td>http://images.amazon.com/images/P/0002005018.0...</td>\n",
       "    </tr>\n",
       "    <tr>\n",
       "      <th>2</th>\n",
       "      <td>0060973129</td>\n",
       "      <td>Decision in Normandy</td>\n",
       "      <td>Carlo D'Este</td>\n",
       "      <td>1991</td>\n",
       "      <td>HarperPerennial</td>\n",
       "      <td>http://images.amazon.com/images/P/0060973129.0...</td>\n",
       "      <td>http://images.amazon.com/images/P/0060973129.0...</td>\n",
       "      <td>http://images.amazon.com/images/P/0060973129.0...</td>\n",
       "    </tr>\n",
       "    <tr>\n",
       "      <th>3</th>\n",
       "      <td>0374157065</td>\n",
       "      <td>Flu: The Story of the Great Influenza Pandemic...</td>\n",
       "      <td>Gina Bari Kolata</td>\n",
       "      <td>1999</td>\n",
       "      <td>Farrar Straus Giroux</td>\n",
       "      <td>http://images.amazon.com/images/P/0374157065.0...</td>\n",
       "      <td>http://images.amazon.com/images/P/0374157065.0...</td>\n",
       "      <td>http://images.amazon.com/images/P/0374157065.0...</td>\n",
       "    </tr>\n",
       "    <tr>\n",
       "      <th>4</th>\n",
       "      <td>0393045218</td>\n",
       "      <td>The Mummies of Urumchi</td>\n",
       "      <td>E. J. W. Barber</td>\n",
       "      <td>1999</td>\n",
       "      <td>W. W. Norton &amp;amp; Company</td>\n",
       "      <td>http://images.amazon.com/images/P/0393045218.0...</td>\n",
       "      <td>http://images.amazon.com/images/P/0393045218.0...</td>\n",
       "      <td>http://images.amazon.com/images/P/0393045218.0...</td>\n",
       "    </tr>\n",
       "    <tr>\n",
       "      <th>...</th>\n",
       "      <td>...</td>\n",
       "      <td>...</td>\n",
       "      <td>...</td>\n",
       "      <td>...</td>\n",
       "      <td>...</td>\n",
       "      <td>...</td>\n",
       "      <td>...</td>\n",
       "      <td>...</td>\n",
       "    </tr>\n",
       "    <tr>\n",
       "      <th>271355</th>\n",
       "      <td>0440400988</td>\n",
       "      <td>There's a Bat in Bunk Five</td>\n",
       "      <td>Paula Danziger</td>\n",
       "      <td>1988</td>\n",
       "      <td>Random House Childrens Pub (Mm)</td>\n",
       "      <td>http://images.amazon.com/images/P/0440400988.0...</td>\n",
       "      <td>http://images.amazon.com/images/P/0440400988.0...</td>\n",
       "      <td>http://images.amazon.com/images/P/0440400988.0...</td>\n",
       "    </tr>\n",
       "    <tr>\n",
       "      <th>271356</th>\n",
       "      <td>0525447644</td>\n",
       "      <td>From One to One Hundred</td>\n",
       "      <td>Teri Sloat</td>\n",
       "      <td>1991</td>\n",
       "      <td>Dutton Books</td>\n",
       "      <td>http://images.amazon.com/images/P/0525447644.0...</td>\n",
       "      <td>http://images.amazon.com/images/P/0525447644.0...</td>\n",
       "      <td>http://images.amazon.com/images/P/0525447644.0...</td>\n",
       "    </tr>\n",
       "    <tr>\n",
       "      <th>271357</th>\n",
       "      <td>006008667X</td>\n",
       "      <td>Lily Dale : The True Story of the Town that Ta...</td>\n",
       "      <td>Christine Wicker</td>\n",
       "      <td>2004</td>\n",
       "      <td>HarperSanFrancisco</td>\n",
       "      <td>http://images.amazon.com/images/P/006008667X.0...</td>\n",
       "      <td>http://images.amazon.com/images/P/006008667X.0...</td>\n",
       "      <td>http://images.amazon.com/images/P/006008667X.0...</td>\n",
       "    </tr>\n",
       "    <tr>\n",
       "      <th>271358</th>\n",
       "      <td>0192126040</td>\n",
       "      <td>Republic (World's Classics)</td>\n",
       "      <td>Plato</td>\n",
       "      <td>1996</td>\n",
       "      <td>Oxford University Press</td>\n",
       "      <td>http://images.amazon.com/images/P/0192126040.0...</td>\n",
       "      <td>http://images.amazon.com/images/P/0192126040.0...</td>\n",
       "      <td>http://images.amazon.com/images/P/0192126040.0...</td>\n",
       "    </tr>\n",
       "    <tr>\n",
       "      <th>271359</th>\n",
       "      <td>0767409752</td>\n",
       "      <td>A Guided Tour of Rene Descartes' Meditations o...</td>\n",
       "      <td>Christopher  Biffle</td>\n",
       "      <td>2000</td>\n",
       "      <td>McGraw-Hill Humanities/Social Sciences/Languages</td>\n",
       "      <td>http://images.amazon.com/images/P/0767409752.0...</td>\n",
       "      <td>http://images.amazon.com/images/P/0767409752.0...</td>\n",
       "      <td>http://images.amazon.com/images/P/0767409752.0...</td>\n",
       "    </tr>\n",
       "  </tbody>\n",
       "</table>\n",
       "<p>271360 rows × 8 columns</p>\n",
       "</div>"
      ],
      "text/plain": [
       "              ISBN                                         Book-Title  \\\n",
       "0       0195153448                                Classical Mythology   \n",
       "1       0002005018                                       Clara Callan   \n",
       "2       0060973129                               Decision in Normandy   \n",
       "3       0374157065  Flu: The Story of the Great Influenza Pandemic...   \n",
       "4       0393045218                             The Mummies of Urumchi   \n",
       "...            ...                                                ...   \n",
       "271355  0440400988                         There's a Bat in Bunk Five   \n",
       "271356  0525447644                            From One to One Hundred   \n",
       "271357  006008667X  Lily Dale : The True Story of the Town that Ta...   \n",
       "271358  0192126040                        Republic (World's Classics)   \n",
       "271359  0767409752  A Guided Tour of Rene Descartes' Meditations o...   \n",
       "\n",
       "                 Book-Author Year-Of-Publication  \\\n",
       "0         Mark P. O. Morford                2002   \n",
       "1       Richard Bruce Wright                2001   \n",
       "2               Carlo D'Este                1991   \n",
       "3           Gina Bari Kolata                1999   \n",
       "4            E. J. W. Barber                1999   \n",
       "...                      ...                 ...   \n",
       "271355        Paula Danziger                1988   \n",
       "271356            Teri Sloat                1991   \n",
       "271357      Christine Wicker                2004   \n",
       "271358                 Plato                1996   \n",
       "271359   Christopher  Biffle                2000   \n",
       "\n",
       "                                               Publisher  \\\n",
       "0                                Oxford University Press   \n",
       "1                                  HarperFlamingo Canada   \n",
       "2                                        HarperPerennial   \n",
       "3                                   Farrar Straus Giroux   \n",
       "4                             W. W. Norton &amp; Company   \n",
       "...                                                  ...   \n",
       "271355                   Random House Childrens Pub (Mm)   \n",
       "271356                                      Dutton Books   \n",
       "271357                                HarperSanFrancisco   \n",
       "271358                           Oxford University Press   \n",
       "271359  McGraw-Hill Humanities/Social Sciences/Languages   \n",
       "\n",
       "                                              Image-URL-S  \\\n",
       "0       http://images.amazon.com/images/P/0195153448.0...   \n",
       "1       http://images.amazon.com/images/P/0002005018.0...   \n",
       "2       http://images.amazon.com/images/P/0060973129.0...   \n",
       "3       http://images.amazon.com/images/P/0374157065.0...   \n",
       "4       http://images.amazon.com/images/P/0393045218.0...   \n",
       "...                                                   ...   \n",
       "271355  http://images.amazon.com/images/P/0440400988.0...   \n",
       "271356  http://images.amazon.com/images/P/0525447644.0...   \n",
       "271357  http://images.amazon.com/images/P/006008667X.0...   \n",
       "271358  http://images.amazon.com/images/P/0192126040.0...   \n",
       "271359  http://images.amazon.com/images/P/0767409752.0...   \n",
       "\n",
       "                                              Image-URL-M  \\\n",
       "0       http://images.amazon.com/images/P/0195153448.0...   \n",
       "1       http://images.amazon.com/images/P/0002005018.0...   \n",
       "2       http://images.amazon.com/images/P/0060973129.0...   \n",
       "3       http://images.amazon.com/images/P/0374157065.0...   \n",
       "4       http://images.amazon.com/images/P/0393045218.0...   \n",
       "...                                                   ...   \n",
       "271355  http://images.amazon.com/images/P/0440400988.0...   \n",
       "271356  http://images.amazon.com/images/P/0525447644.0...   \n",
       "271357  http://images.amazon.com/images/P/006008667X.0...   \n",
       "271358  http://images.amazon.com/images/P/0192126040.0...   \n",
       "271359  http://images.amazon.com/images/P/0767409752.0...   \n",
       "\n",
       "                                              Image-URL-L  \n",
       "0       http://images.amazon.com/images/P/0195153448.0...  \n",
       "1       http://images.amazon.com/images/P/0002005018.0...  \n",
       "2       http://images.amazon.com/images/P/0060973129.0...  \n",
       "3       http://images.amazon.com/images/P/0374157065.0...  \n",
       "4       http://images.amazon.com/images/P/0393045218.0...  \n",
       "...                                                   ...  \n",
       "271355  http://images.amazon.com/images/P/0440400988.0...  \n",
       "271356  http://images.amazon.com/images/P/0525447644.0...  \n",
       "271357  http://images.amazon.com/images/P/006008667X.0...  \n",
       "271358  http://images.amazon.com/images/P/0192126040.0...  \n",
       "271359  http://images.amazon.com/images/P/0767409752.0...  \n",
       "\n",
       "[271360 rows x 8 columns]"
      ]
     },
     "execution_count": 10,
     "metadata": {},
     "output_type": "execute_result"
    }
   ],
   "source": [
    "books"
   ]
  },
  {
   "cell_type": "code",
   "execution_count": 13,
   "metadata": {},
   "outputs": [
    {
     "data": {
      "application/vnd.microsoft.datawrangler.viewer.v0+json": {
       "columns": [
        {
         "name": "index",
         "rawType": "object",
         "type": "string"
        },
        {
         "name": "ISBN",
         "rawType": "object",
         "type": "unknown"
        },
        {
         "name": "Book-Title",
         "rawType": "object",
         "type": "unknown"
        },
        {
         "name": "Book-Author",
         "rawType": "object",
         "type": "unknown"
        },
        {
         "name": "Year-Of-Publication",
         "rawType": "int64",
         "type": "integer"
        },
        {
         "name": "Publisher",
         "rawType": "object",
         "type": "unknown"
        },
        {
         "name": "Image-URL-S",
         "rawType": "object",
         "type": "unknown"
        },
        {
         "name": "Image-URL-M",
         "rawType": "object",
         "type": "unknown"
        },
        {
         "name": "Image-URL-L",
         "rawType": "object",
         "type": "unknown"
        }
       ],
       "conversionMethod": "pd.DataFrame",
       "ref": "b6f598f6-40a5-4ee4-9cd0-559a08a375e6",
       "rows": [
        [
         "count",
         "242135",
         "242135",
         "242133",
         "242135",
         "242134",
         "242135",
         "242135",
         "242132"
        ],
        [
         "unique",
         "242135",
         "242135",
         "99684",
         "192",
         "16461",
         "242134",
         "242134",
         "242131"
        ],
        [
         "top",
         "0195153448",
         "Classical Mythology",
         "William Shakespeare",
         "2002",
         "Harlequin",
         "http://images.amazon.com/images/P/051513628X.01.THUMBZZZ.jpg",
         "http://images.amazon.com/images/P/051513628X.01.MZZZZZZZ.jpg",
         "http://images.amazon.com/images/P/051513628X.01.LZZZZZZZ.jpg"
        ],
        [
         "freq",
         "1",
         "1",
         "491",
         "12507",
         "7414",
         "2",
         "2",
         "2"
        ]
       ],
       "shape": {
        "columns": 8,
        "rows": 4
       }
      },
      "text/html": [
       "<div>\n",
       "<style scoped>\n",
       "    .dataframe tbody tr th:only-of-type {\n",
       "        vertical-align: middle;\n",
       "    }\n",
       "\n",
       "    .dataframe tbody tr th {\n",
       "        vertical-align: top;\n",
       "    }\n",
       "\n",
       "    .dataframe thead th {\n",
       "        text-align: right;\n",
       "    }\n",
       "</style>\n",
       "<table border=\"1\" class=\"dataframe\">\n",
       "  <thead>\n",
       "    <tr style=\"text-align: right;\">\n",
       "      <th></th>\n",
       "      <th>ISBN</th>\n",
       "      <th>Book-Title</th>\n",
       "      <th>Book-Author</th>\n",
       "      <th>Year-Of-Publication</th>\n",
       "      <th>Publisher</th>\n",
       "      <th>Image-URL-S</th>\n",
       "      <th>Image-URL-M</th>\n",
       "      <th>Image-URL-L</th>\n",
       "    </tr>\n",
       "  </thead>\n",
       "  <tbody>\n",
       "    <tr>\n",
       "      <th>count</th>\n",
       "      <td>242135</td>\n",
       "      <td>242135</td>\n",
       "      <td>242133</td>\n",
       "      <td>242135</td>\n",
       "      <td>242134</td>\n",
       "      <td>242135</td>\n",
       "      <td>242135</td>\n",
       "      <td>242132</td>\n",
       "    </tr>\n",
       "    <tr>\n",
       "      <th>unique</th>\n",
       "      <td>242135</td>\n",
       "      <td>242135</td>\n",
       "      <td>99684</td>\n",
       "      <td>192</td>\n",
       "      <td>16461</td>\n",
       "      <td>242134</td>\n",
       "      <td>242134</td>\n",
       "      <td>242131</td>\n",
       "    </tr>\n",
       "    <tr>\n",
       "      <th>top</th>\n",
       "      <td>0195153448</td>\n",
       "      <td>Classical Mythology</td>\n",
       "      <td>William Shakespeare</td>\n",
       "      <td>2002</td>\n",
       "      <td>Harlequin</td>\n",
       "      <td>http://images.amazon.com/images/P/051513628X.0...</td>\n",
       "      <td>http://images.amazon.com/images/P/051513628X.0...</td>\n",
       "      <td>http://images.amazon.com/images/P/051513628X.0...</td>\n",
       "    </tr>\n",
       "    <tr>\n",
       "      <th>freq</th>\n",
       "      <td>1</td>\n",
       "      <td>1</td>\n",
       "      <td>491</td>\n",
       "      <td>12507</td>\n",
       "      <td>7414</td>\n",
       "      <td>2</td>\n",
       "      <td>2</td>\n",
       "      <td>2</td>\n",
       "    </tr>\n",
       "  </tbody>\n",
       "</table>\n",
       "</div>"
      ],
      "text/plain": [
       "              ISBN           Book-Title          Book-Author  \\\n",
       "count       242135               242135               242133   \n",
       "unique      242135               242135                99684   \n",
       "top     0195153448  Classical Mythology  William Shakespeare   \n",
       "freq             1                    1                  491   \n",
       "\n",
       "        Year-Of-Publication  Publisher  \\\n",
       "count                242135     242134   \n",
       "unique                  192      16461   \n",
       "top                    2002  Harlequin   \n",
       "freq                  12507       7414   \n",
       "\n",
       "                                              Image-URL-S  \\\n",
       "count                                              242135   \n",
       "unique                                             242134   \n",
       "top     http://images.amazon.com/images/P/051513628X.0...   \n",
       "freq                                                    2   \n",
       "\n",
       "                                              Image-URL-M  \\\n",
       "count                                              242135   \n",
       "unique                                             242134   \n",
       "top     http://images.amazon.com/images/P/051513628X.0...   \n",
       "freq                                                    2   \n",
       "\n",
       "                                              Image-URL-L  \n",
       "count                                              242132  \n",
       "unique                                             242131  \n",
       "top     http://images.amazon.com/images/P/051513628X.0...  \n",
       "freq                                                    2  "
      ]
     },
     "execution_count": 13,
     "metadata": {},
     "output_type": "execute_result"
    }
   ],
   "source": [
    "new_books = books.drop_duplicates(\"Book-Title\")\n",
    "new_books.describe()"
   ]
  },
  {
   "cell_type": "code",
   "execution_count": 15,
   "metadata": {},
   "outputs": [
    {
     "data": {
      "application/vnd.microsoft.datawrangler.viewer.v0+json": {
       "columns": [
        {
         "name": "index",
         "rawType": "int64",
         "type": "integer"
        },
        {
         "name": "User-ID",
         "rawType": "int64",
         "type": "integer"
        },
        {
         "name": "Book-Rating",
         "rawType": "int64",
         "type": "integer"
        },
        {
         "name": "Book-Title",
         "rawType": "object",
         "type": "string"
        },
        {
         "name": "Book-Author",
         "rawType": "object",
         "type": "unknown"
        },
        {
         "name": "Year-Of-Publication",
         "rawType": "object",
         "type": "unknown"
        }
       ],
       "conversionMethod": "pd.DataFrame",
       "ref": "da19b2dc-9b0c-43e1-a962-77da8128d762",
       "rows": [
        [
         "0",
         "276725",
         "0",
         "Flesh Tones: A Novel",
         "M. J. Rose",
         "2002"
        ],
        [
         "1",
         "276729",
         "3",
         "Help!: Level 1",
         "Philip Prowse",
         "1999"
        ],
        [
         "2",
         "276729",
         "6",
         "The Amsterdam Connection : Level 4 (Cambridge English Readers)",
         "Sue Leather",
         "2001"
        ],
        [
         "3",
         "276746",
         "0",
         "Lightning",
         "Dean R. Koontz",
         "1996"
        ],
        [
         "4",
         "276746",
         "0",
         "Manhattan Hunt Club",
         "JOHN SAUL",
         "2002"
        ],
        [
         "5",
         "276746",
         "0",
         "Dark Paradise",
         "TAMI HOAG",
         "1994"
        ],
        [
         "6",
         "276746",
         "0",
         "Night Sins",
         "TAMI HOAG",
         "1995"
        ],
        [
         "7",
         "276746",
         "0",
         "At the Edge",
         "David Dun",
         "2002"
        ],
        [
         "8",
         "276746",
         "0",
         "Make Them Cry",
         "Kevin O'Brien",
         "2002"
        ],
        [
         "9",
         "276747",
         "9",
         "Little Altars Everywhere",
         "Rebecca Wells",
         "2003"
        ],
        [
         "10",
         "276747",
         "9",
         "Waiting to Exhale",
         "Terry McMillan",
         "1995"
        ],
        [
         "11",
         "276747",
         "8",
         "Birdsong: A Novel of Love and War",
         "Sebastian Faulks",
         "1997"
        ],
        [
         "12",
         "276747",
         "0",
         "Change Your Job, Change Your Life: High Impact Strategies for Finding Great Jobs in the Decade Ahead (Change Your Job Change Your Life, 7th ed)",
         "Ronald L. Krannich",
         "1999"
        ],
        [
         "13",
         "276747",
         "7",
         "The Golden Rule of Schmoozing",
         "Aye Jaye",
         "1998"
        ],
        [
         "14",
         "276748",
         "6",
         "Apricots on the Nile: A Memoir with Recipes",
         "Colette Rossant",
         "2002"
        ],
        [
         "15",
         "276751",
         "8",
         "Reise nach Ixtlan. Die Lehre des Don Juan.",
         "Carlos Castaneda",
         "1998"
        ],
        [
         "16",
         "276754",
         "8",
         "The Girl Who Loved Tom Gordon : A Novel",
         "Stephen King",
         "1999"
        ],
        [
         "17",
         "276755",
         "5",
         "The Pillars of the Earth",
         "Ken Follett",
         "1996"
        ],
        [
         "18",
         "276762",
         "0",
         "Southampton Row (Charlotte &amp; Thomas Pitt Novels (Hardcover))",
         "Anne Perry",
         "2002"
        ],
        [
         "19",
         "276762",
         "0",
         "CLOUT",
         "D. GIBBONS",
         "2024"
        ],
        [
         "20",
         "276762",
         "5",
         "See Jane Run",
         "Joy Fielding",
         "1992"
        ],
        [
         "21",
         "276762",
         "0",
         "The Dark Half",
         "Stephen King",
         "1994"
        ],
        [
         "22",
         "276762",
         "0",
         "Vater Himmel, Mutter Erde.",
         "Sue Harrison",
         "1995"
        ],
        [
         "23",
         "276762",
         "0",
         "Besiegt vom Sturm der Leidenschaft.",
         "Patricia Potter",
         "2002"
        ],
        [
         "24",
         "276762",
         "0",
         "Sturm der Liebe.",
         "Rosemary Rogers",
         "2001"
        ],
        [
         "25",
         "276762",
         "0",
         "Ich, Prinzessin aus dem Hause Al Saud. Ein Leben hinter tausend Schleiern.",
         "Jean P. Sasson",
         "1994"
        ],
        [
         "26",
         "276762",
         "0",
         "Der BronzehÃ?Â¤ndler.",
         "Hanns Kneifel",
         "1996"
        ],
        [
         "27",
         "276762",
         "8",
         "Die zweite Haut.",
         "Dean Koontz",
         "1995"
        ],
        [
         "28",
         "276762",
         "0",
         "Der Spion und die Zauberin.",
         "Susan King",
         "2000"
        ],
        [
         "29",
         "276762",
         "0",
         "Prinz der Kelche.",
         "Gayle Feyrer",
         "2001"
        ],
        [
         "30",
         "276762",
         "0",
         "Live aus Bagdad. Das Tagebuch einer Kriegs-Reporterin.",
         "Antonia Rados",
         "2003"
        ],
        [
         "31",
         "276762",
         "0",
         "Durch TeebaumÃ?Â¶l gesund und schÃ?Â¶n.",
         "Heidelore Kluge",
         "1995"
        ],
        [
         "32",
         "276762",
         "0",
         "Briefe der Liebe.",
         "Maria Nurowska",
         "1995"
        ],
        [
         "33",
         "276772",
         "0",
         "Saving Private Ryan",
         "Max Allan Collins",
         "1998"
        ],
        [
         "34",
         "276772",
         "7",
         "Pay Dirt (Mrs. Murphy Mysteries (Paperback))",
         "RITA MAE BROWN",
         "1996"
        ],
        [
         "35",
         "276772",
         "10",
         "Adressat unbekannt.",
         "Kathrine Kressmann Taylor",
         "2002"
        ],
        [
         "36",
         "276772",
         "10",
         "Henry der Held.",
         "Roddy Doyle",
         "2001"
        ],
        [
         "37",
         "276774",
         "0",
         "Im Schatten der Lilie. Die Erinnerungen der Eleonore von Aquitanien.",
         "Patrice Leavold",
         "2002"
        ],
        [
         "38",
         "276774",
         "0",
         "Die Teufelin. Roman.",
         "Fay Weldon",
         "1989"
        ],
        [
         "39",
         "276774",
         "9",
         "Endlich Nichtraucher.",
         "Allen Carr",
         "1992"
        ],
        [
         "40",
         "276774",
         "0",
         "Ein Liebhaber zuviel ist noch zu wenig.",
         "Gaby Hauptmann",
         "2000"
        ],
        [
         "41",
         "276780",
         "0",
         "Escarabajos Vuelan Al Atardecer, Los",
         "Maria Gripe",
         "1995"
        ],
        [
         "42",
         "276786",
         "0",
         "Vieja Nueva York",
         "Edith Wharton",
         "2003"
        ],
        [
         "43",
         "276786",
         "0",
         "Invitacion a la Etica",
         "Fernando Savater",
         "1995"
        ],
        [
         "44",
         "276786",
         "0",
         "Cuentos Inconclusos",
         "J. R. R. Tolkien",
         "1998"
        ],
        [
         "45",
         "276786",
         "0",
         "Isabelle Eberhardt",
         "Eglal Errera",
         "1991"
        ],
        [
         "46",
         "276786",
         "6",
         "El Elogio de La Sombra",
         "Tanazaki",
         "1998"
        ],
        [
         "47",
         "276788",
         "8",
         "Blackwood Farm (Rice, Anne, Vampire Chronicles.)",
         "ANNE RICE",
         "2003"
        ],
        [
         "48",
         "276788",
         "7",
         "Harry Potter and the Order of the Phoenix (Book 5)",
         "J. K. Rowling",
         "2003"
        ],
        [
         "49",
         "276796",
         "5",
         "Bridget Jones's Diary",
         "Helen Fielding",
         "1997"
        ]
       ],
       "shape": {
        "columns": 5,
        "rows": 883079
       }
      },
      "text/html": [
       "<div>\n",
       "<style scoped>\n",
       "    .dataframe tbody tr th:only-of-type {\n",
       "        vertical-align: middle;\n",
       "    }\n",
       "\n",
       "    .dataframe tbody tr th {\n",
       "        vertical-align: top;\n",
       "    }\n",
       "\n",
       "    .dataframe thead th {\n",
       "        text-align: right;\n",
       "    }\n",
       "</style>\n",
       "<table border=\"1\" class=\"dataframe\">\n",
       "  <thead>\n",
       "    <tr style=\"text-align: right;\">\n",
       "      <th></th>\n",
       "      <th>User-ID</th>\n",
       "      <th>Book-Rating</th>\n",
       "      <th>Book-Title</th>\n",
       "      <th>Book-Author</th>\n",
       "      <th>Year-Of-Publication</th>\n",
       "    </tr>\n",
       "  </thead>\n",
       "  <tbody>\n",
       "    <tr>\n",
       "      <th>0</th>\n",
       "      <td>276725</td>\n",
       "      <td>0</td>\n",
       "      <td>Flesh Tones: A Novel</td>\n",
       "      <td>M. J. Rose</td>\n",
       "      <td>2002</td>\n",
       "    </tr>\n",
       "    <tr>\n",
       "      <th>1</th>\n",
       "      <td>276729</td>\n",
       "      <td>3</td>\n",
       "      <td>Help!: Level 1</td>\n",
       "      <td>Philip Prowse</td>\n",
       "      <td>1999</td>\n",
       "    </tr>\n",
       "    <tr>\n",
       "      <th>2</th>\n",
       "      <td>276729</td>\n",
       "      <td>6</td>\n",
       "      <td>The Amsterdam Connection : Level 4 (Cambridge ...</td>\n",
       "      <td>Sue Leather</td>\n",
       "      <td>2001</td>\n",
       "    </tr>\n",
       "    <tr>\n",
       "      <th>3</th>\n",
       "      <td>276746</td>\n",
       "      <td>0</td>\n",
       "      <td>Lightning</td>\n",
       "      <td>Dean R. Koontz</td>\n",
       "      <td>1996</td>\n",
       "    </tr>\n",
       "    <tr>\n",
       "      <th>4</th>\n",
       "      <td>276746</td>\n",
       "      <td>0</td>\n",
       "      <td>Manhattan Hunt Club</td>\n",
       "      <td>JOHN SAUL</td>\n",
       "      <td>2002</td>\n",
       "    </tr>\n",
       "    <tr>\n",
       "      <th>...</th>\n",
       "      <td>...</td>\n",
       "      <td>...</td>\n",
       "      <td>...</td>\n",
       "      <td>...</td>\n",
       "      <td>...</td>\n",
       "    </tr>\n",
       "    <tr>\n",
       "      <th>883074</th>\n",
       "      <td>276704</td>\n",
       "      <td>0</td>\n",
       "      <td>Edgar Cayce on the Akashic Records: The Book o...</td>\n",
       "      <td>Kevin J. Todeschi</td>\n",
       "      <td>1998</td>\n",
       "    </tr>\n",
       "    <tr>\n",
       "      <th>883075</th>\n",
       "      <td>276704</td>\n",
       "      <td>9</td>\n",
       "      <td>Get Clark Smart : The Ultimate Guide for the S...</td>\n",
       "      <td>Clark Howard</td>\n",
       "      <td>2000</td>\n",
       "    </tr>\n",
       "    <tr>\n",
       "      <th>883076</th>\n",
       "      <td>276706</td>\n",
       "      <td>0</td>\n",
       "      <td>Eight Weeks to Optimum Health: A Proven Progra...</td>\n",
       "      <td>Andrew Weil</td>\n",
       "      <td>1997</td>\n",
       "    </tr>\n",
       "    <tr>\n",
       "      <th>883077</th>\n",
       "      <td>276709</td>\n",
       "      <td>10</td>\n",
       "      <td>The Sherbrooke Bride (Bride Trilogy (Paperback))</td>\n",
       "      <td>Catherine Coulter</td>\n",
       "      <td>1996</td>\n",
       "    </tr>\n",
       "    <tr>\n",
       "      <th>883078</th>\n",
       "      <td>276721</td>\n",
       "      <td>10</td>\n",
       "      <td>Fourth Grade Rats</td>\n",
       "      <td>Jerry Spinelli</td>\n",
       "      <td>1996</td>\n",
       "    </tr>\n",
       "  </tbody>\n",
       "</table>\n",
       "<p>883079 rows × 5 columns</p>\n",
       "</div>"
      ],
      "text/plain": [
       "        User-ID  Book-Rating  \\\n",
       "0        276725            0   \n",
       "1        276729            3   \n",
       "2        276729            6   \n",
       "3        276746            0   \n",
       "4        276746            0   \n",
       "...         ...          ...   \n",
       "883074   276704            0   \n",
       "883075   276704            9   \n",
       "883076   276706            0   \n",
       "883077   276709           10   \n",
       "883078   276721           10   \n",
       "\n",
       "                                               Book-Title        Book-Author  \\\n",
       "0                                    Flesh Tones: A Novel         M. J. Rose   \n",
       "1                                          Help!: Level 1      Philip Prowse   \n",
       "2       The Amsterdam Connection : Level 4 (Cambridge ...        Sue Leather   \n",
       "3                                               Lightning     Dean R. Koontz   \n",
       "4                                     Manhattan Hunt Club          JOHN SAUL   \n",
       "...                                                   ...                ...   \n",
       "883074  Edgar Cayce on the Akashic Records: The Book o...  Kevin J. Todeschi   \n",
       "883075  Get Clark Smart : The Ultimate Guide for the S...       Clark Howard   \n",
       "883076  Eight Weeks to Optimum Health: A Proven Progra...        Andrew Weil   \n",
       "883077   The Sherbrooke Bride (Bride Trilogy (Paperback))  Catherine Coulter   \n",
       "883078                                  Fourth Grade Rats     Jerry Spinelli   \n",
       "\n",
       "       Year-Of-Publication  \n",
       "0                     2002  \n",
       "1                     1999  \n",
       "2                     2001  \n",
       "3                     1996  \n",
       "4                     2002  \n",
       "...                    ...  \n",
       "883074                1998  \n",
       "883075                2000  \n",
       "883076                1997  \n",
       "883077                1996  \n",
       "883078                1996  \n",
       "\n",
       "[883079 rows x 5 columns]"
      ]
     },
     "execution_count": 15,
     "metadata": {},
     "output_type": "execute_result"
    }
   ],
   "source": [
    "ratings_with_name = ratings.merge(new_books, on=\"ISBN\")\n",
    "ratings_with_name.drop([\"ISBN\", \"Image-URL-S\", \"Image-URL-M\", \"Image-URL-L\", \"Publisher\"], axis=1, inplace=True)\n",
    "ratings_with_name"
   ]
  },
  {
   "cell_type": "code",
   "execution_count": null,
   "metadata": {},
   "outputs": [],
   "source": []
  }
 ],
 "metadata": {
  "kernelspec": {
   "display_name": ".venv",
   "language": "python",
   "name": "python3"
  },
  "language_info": {
   "codemirror_mode": {
    "name": "ipython",
    "version": 3
   },
   "file_extension": ".py",
   "mimetype": "text/x-python",
   "name": "python",
   "nbconvert_exporter": "python",
   "pygments_lexer": "ipython3",
   "version": "3.11.9"
  }
 },
 "nbformat": 4,
 "nbformat_minor": 2
}
