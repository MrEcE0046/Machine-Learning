{
 "cells": [
  {
   "cell_type": "code",
   "execution_count": 7,
   "metadata": {},
   "outputs": [],
   "source": [
    "import numpy as np\n",
    "import pandas as pd\n",
    "import matplotlib.pyplot as plt\n",
    "from sklearn.preprocessing import PolynomialFeatures\n",
    "from sklearn.model_selection import train_test_split\n",
    "from sklearn.preprocessing import StandardScaler"
   ]
  },
  {
   "cell_type": "code",
   "execution_count": null,
   "metadata": {},
   "outputs": [
    {
     "data": {
      "text/plain": [
       "((134, 19), (66, 19), (134,), (66,))"
      ]
     },
     "execution_count": 8,
     "metadata": {},
     "output_type": "execute_result"
    }
   ],
   "source": [
    "df = pd.read_csv(\"Advertising.csv\", index_col=0)\n",
    "X, y = df.drop(\"Sales\", axis=1), df[\"Sales\"]\n",
    "model_poly = PolynomialFeatures(3, include_bias=False)\n",
    "poly_features = model_poly.fit_transform(X)\n",
    "\n",
    "X_train, X_test, y_train, y_test = train_test_split(poly_features, y, test_size=0.33, random_state=42)\n",
    "\n",
    "X_train.shape, X_test.shape, y_train.shape, y_test.shape\n",
    "\n",
    "# 19 features, indikerar på dåligt"
   ]
  },
  {
   "cell_type": "code",
   "execution_count": null,
   "metadata": {},
   "outputs": [
    {
     "name": "stdout",
     "output_type": "stream",
     "text": [
      "Scaled X_train mean -0.00 std 1.00\n",
      "X_test mean -0.12 std 1.12\n"
     ]
    }
   ],
   "source": [
    "scalar = StandardScaler()\n",
    "scaled_X_train = scalar.fit_transform(X_train)\n",
    "scale_X_test = scalar.transform(X_test)\n",
    "\n",
    "print(f\"Scaled X_train mean {scaled_X_train.mean():.2f} std {scaled_X_train.std():.2f}\")\n",
    "print(f\"X_test mean {scale_X_test.mean():.2f} std {scale_X_test.std():.2f}\")\n",
    "# Vi försöker minska variansen"
   ]
  },
  {
   "cell_type": "code",
   "execution_count": 24,
   "metadata": {},
   "outputs": [
    {
     "name": "stdout",
     "output_type": "stream",
     "text": [
      "MSE: 0.32\n",
      "MAE: 0.56\n",
      "MAE: 0.43\n"
     ]
    }
   ],
   "source": [
    "from sklearn.linear_model import Ridge\n",
    "from sklearn.metrics import mean_squared_error, mean_absolute_error\n",
    "\n",
    "def ridge_regression(X, penalty=0):\n",
    "    model_ridge = Ridge(alpha=penalty)\n",
    "    model_ridge.fit(scaled_X_train, y_train)\n",
    "    y_pred = model_ridge.predict(X)\n",
    "    return y_pred\n",
    "\n",
    "y_pred = ridge_regression(scale_X_test, penalty=0.1)\n",
    "\n",
    "MSE = mean_squared_error(y_test, y_pred)\n",
    "MAE = mean_absolute_error(y_test, y_pred)\n",
    "RMSE = np.sqrt(MSE)\n",
    "\n",
    "print(f\"MSE: {MSE:.2f}\")\n",
    "print(f\"MAE: {float(RMSE):.2f}\")\n",
    "print(f\"MAE: {MAE:.2f}\")\n"
   ]
  },
  {
   "cell_type": "code",
   "execution_count": null,
   "metadata": {},
   "outputs": [
    {
     "name": "stdout",
     "output_type": "stream",
     "text": [
      "MSE: 0.62\n",
      "MAE: 0.79\n"
     ]
    },
    {
     "data": {
      "text/plain": [
       "array([ 1.89480144,  0.42062367,  0.        , -0.        ,  3.55216501,\n",
       "        0.        ,  0.        ,  0.01110965,  0.        , -0.42677394,\n",
       "       -0.        , -0.        ,  0.        ,  0.        , -0.        ,\n",
       "        0.        ,  0.06706906,  0.        ,  0.        ])"
      ]
     },
     "execution_count": 21,
     "metadata": {},
     "output_type": "execute_result"
    }
   ],
   "source": [
    "from sklearn.linear_model import Lasso\n",
    "\n",
    "model_lasso = Lasso(alpha=0.1)\n",
    "model_lasso.fit(scaled_X_train, y_train)\n",
    "y_pred = model_lasso.predict(scale_X_test)\n",
    "\n",
    "MSE = mean_squared_error(y_test, y_pred)\n",
    "MAE = mean_absolute_error(y_test, y_pred)\n",
    "RMSE = np.sqrt(MSE)\n",
    "\n",
    "print(f\"MSE: {MSE:.2f}\")\n",
    "print(f\"MAE: {float(RMSE):.2f}\")\n",
    "\n",
    "model_lasso.coef_\n",
    "\n",
    "# Man kan twaeaka för hand för att komma så långt som möjligt eller så låter vi datorn göra det."
   ]
  },
  {
   "cell_type": "code",
   "execution_count": 22,
   "metadata": {},
   "outputs": [
    {
     "name": "stdout",
     "output_type": "stream",
     "text": [
      "0.1\n"
     ]
    }
   ],
   "source": [
    "from sklearn.linear_model import RidgeCV\n",
    "\n",
    "model_ridgeCV = RidgeCV(alphas = [.0001, .001, .01, .1, .5, 1, 5, 10], scoring = \"neg_mean_squared_error\")\n",
    "model_ridgeCV.fit(scaled_X_train, y_train)\n",
    "print(model_ridgeCV.alpha_)\n",
    "\n",
    "# y_pred = model_ridgeCV.predict(scale_X_test)\n",
    "\n",
    "# MSE = mean_squared_error(y_test, y_pred)\n",
    "# MAE = mean_absolute_error(y_test, y_pred)\n",
    "# RMSE = np.sqrt(MSE)"
   ]
  },
  {
   "cell_type": "code",
   "execution_count": 28,
   "metadata": {},
   "outputs": [
    {
     "data": {
      "text/plain": [
       "(0.004968802520343365, 0.5785146895301981, 0.4629188302693299)"
      ]
     },
     "execution_count": 28,
     "metadata": {},
     "output_type": "execute_result"
    }
   ],
   "source": [
    "from sklearn.linear_model import LassoCV\n",
    "\n",
    "model_lasso_cv = LassoCV(eps = 0.001, n_alphas = 100, max_iter=10000, cv=5)\n",
    "model_lasso_cv.fit(scaled_X_train, y_train)\n",
    "y_pred = model_lasso_cv.predict(scale_X_test)\n",
    "\n",
    "model_lasso_cv.alpha_, np.sqrt(mean_squared_error(y_test, y_pred)), mean_absolute_error(y_test, y_pred)\n",
    "\n",
    "# print(model_lasso_cv.alpha_)"
   ]
  },
  {
   "cell_type": "code",
   "execution_count": null,
   "metadata": {},
   "outputs": [
    {
     "data": {
      "text/plain": [
       "(1.0, 0.004968802520343365, 0.5785146895301981, 0.4629188302693299)"
      ]
     },
     "execution_count": 29,
     "metadata": {},
     "output_type": "execute_result"
    }
   ],
   "source": [
    "from sklearn.linear_model import ElasticNetCV\n",
    "\n",
    "model_elasticnet_cv = ElasticNetCV(l1_ratio=[.1, .5, .7, .9, .95, .99, 1], eps = 0.001, n_alphas = 100, max_iter=10000, cv=5)\n",
    "model_elasticnet_cv.fit(scaled_X_train, y_train)\n",
    "y_pred = model_elasticnet_cv.predict(scale_X_test)\n",
    "\n",
    "model_elasticnet_cv.l1_ratio_, model_elasticnet_cv.alpha_, np.sqrt(mean_squared_error(y_test, y_pred)), mean_absolute_error(y_test, y_pred)\n",
    "\n",
    "# l1.ratio är 1 vilket betyder att lasso är den metod som är bäst för detta dataset. "
   ]
  },
  {
   "cell_type": "code",
   "execution_count": null,
   "metadata": {},
   "outputs": [],
   "source": []
  }
 ],
 "metadata": {
  "kernelspec": {
   "display_name": ".venv",
   "language": "python",
   "name": "python3"
  },
  "language_info": {
   "codemirror_mode": {
    "name": "ipython",
    "version": 3
   },
   "file_extension": ".py",
   "mimetype": "text/x-python",
   "name": "python",
   "nbconvert_exporter": "python",
   "pygments_lexer": "ipython3",
   "version": "3.11.9"
  }
 },
 "nbformat": 4,
 "nbformat_minor": 2
}
