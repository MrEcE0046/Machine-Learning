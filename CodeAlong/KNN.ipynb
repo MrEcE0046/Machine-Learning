{
 "cells": [
  {
   "cell_type": "code",
   "execution_count": null,
   "metadata": {},
   "outputs": [],
   "source": [
    "# Pipline and gridsearch\n",
    "\n",
    "from sklearn.model_selection import GridSearchCV\n",
    "from sklearn.pipeline import Pipeline\n",
    "from sklearn.preprocessing import StandardScaler\n",
    "from sklearn.linear_model import LogisticRegression\n",
    "from sklearn.neighbors import KNeighborsClassifier\n",
    "\n",
    "import numpy as np\n",
    "\n",
    "scaler = StandardScaler\n",
    "\n",
    "pip_log = Pipeline([(\"scaler\", scaler), (\"log\", LogisticRegression(solver=\"saga\", max_iter= 1000, penalty= \"elasticnet\"))])\n",
    "\n",
    "pip_KNN = Pipeline([(\"scaler\", scaler), (\"knn\", KNeighborsClassifier())])\n",
    "\n",
    "param_grid_KNN = {\"knn__n_neighbor\": list(range(1, 50))}\n",
    "\n",
    "l1_ratio = np.linspace(0.1, 20)\n",
    "\n",
    "param_grid_log = {\"log__l1_ratio\": l1_ratio}\n",
    "\n",
    "classifier_KNN = GridSearchCV(estimator= pip_KNN, param_grid=param_grid_KNN, cv=5, scoring=\"accuracy\")\n",
    "\n",
    "classifier_log= GridSearchCV(estimator= pip_log, param_grid=param_grid_log, cv=5, scoring=\"accuracy\")\n",
    "\n",
    "classifier_KNN.fit(X_train, y_train)\n",
    "\n",
    "classifier_log.fit(X_train, y_train)"
   ]
  },
  {
   "cell_type": "code",
   "execution_count": null,
   "metadata": {},
   "outputs": [],
   "source": [
    "classifier_KNN.best_estimator_.get_params()"
   ]
  },
  {
   "cell_type": "code",
   "execution_count": null,
   "metadata": {},
   "outputs": [],
   "source": [
    "classifier_log.best_estimator_.get_params()"
   ]
  },
  {
   "cell_type": "code",
   "execution_count": null,
   "metadata": {},
   "outputs": [],
   "source": [
    "y_pred = classifier_KNN.predict(X_test)\n",
    "\n",
    "print(classfication_report(y_test, y_pred))\n",
    "\n"
   ]
  }
 ],
 "metadata": {
  "language_info": {
   "name": "python"
  }
 },
 "nbformat": 4,
 "nbformat_minor": 2
}
