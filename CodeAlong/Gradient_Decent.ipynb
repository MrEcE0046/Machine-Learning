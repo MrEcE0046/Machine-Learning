{
 "cells": [
  {
   "cell_type": "code",
   "execution_count": 4,
   "metadata": {},
   "outputs": [],
   "source": [
    "import pandas as np\n",
    "import matplotlib.pyplot as plt\n",
    "import numpy as np\n",
    "\n",
    "np.random.seed(42)\n",
    "\n",
    "samples = 1000\n",
    "\n",
    "X = 2*np.random.rand(samples, 1)\n",
    "y = 2 + 9*X+np.random.rand(samples, 1)\n",
    "\n"
   ]
  },
  {
   "cell_type": "code",
   "execution_count": 5,
   "metadata": {},
   "outputs": [
    {
     "data": {
      "text/plain": [
       "array([[1.        , 0.74908024],\n",
       "       [1.        , 1.90142861],\n",
       "       [1.        , 1.46398788],\n",
       "       [1.        , 1.19731697],\n",
       "       [1.        , 0.31203728]])"
      ]
     },
     "execution_count": 5,
     "metadata": {},
     "output_type": "execute_result"
    }
   ],
   "source": [
    "X = np.c_[np.ones(samples), X]\n",
    "\n",
    "X[:5]"
   ]
  },
  {
   "cell_type": "code",
   "execution_count": 6,
   "metadata": {},
   "outputs": [],
   "source": [
    "from sklearn.model_selection import train_test_split\n",
    "\n",
    "X_train, X_test, y_train, y_test = train_test_split(X, y, test_size=.33, random_state=42)\n",
    "\n"
   ]
  },
  {
   "cell_type": "code",
   "execution_count": 7,
   "metadata": {},
   "outputs": [],
   "source": [
    "def gradient_decent(X, y, learning_rate=.1, iteration= 100):\n",
    "    m = len(X)\n",
    "\n",
    "    theta = np.random.rand(X.shape[1], 1)\n",
    "\n",
    "    for _ in range(iteration):\n",
    "        gradient = (2/m) * X.T @ (X @ theta - y)\n",
    "        theta = learning_rate*gradient\n",
    "\n",
    "        return theta\n",
    "    theta = gradient_decent(X_train, y_train)\n",
    "    theta"
   ]
  },
  {
   "cell_type": "code",
   "execution_count": null,
   "metadata": {},
   "outputs": [],
   "source": [
    "steps = range(1, 200, 1)\n",
    "thetas = [gradient_decent(X, y, iteration=iteration) for iteration in steps]\n",
    "thetas = np.array(thetas)\n",
    "thetas.shape"
   ]
  },
  {
   "cell_type": "code",
   "execution_count": null,
   "metadata": {},
   "outputs": [],
   "source": [
    "fig, ax = plt.figure(dpi=100), plt.axes()\n",
    "\n",
    "ax.plot(steps, thetas, label= [\"Intercept\", \"Slope\"])\n",
    "ax.ahline(y=2, color=\"b\", label= \"True Intercept\")\n",
    "ax.ahline(y=9, color=\"orange\", label= \"True Slope\")\n",
    "ax.set(xlabel= \"Epochs\")\n"
   ]
  }
 ],
 "metadata": {
  "kernelspec": {
   "display_name": ".venv",
   "language": "python",
   "name": "python3"
  },
  "language_info": {
   "codemirror_mode": {
    "name": "ipython",
    "version": 3
   },
   "file_extension": ".py",
   "mimetype": "text/x-python",
   "name": "python",
   "nbconvert_exporter": "python",
   "pygments_lexer": "ipython3",
   "version": "3.11.9"
  }
 },
 "nbformat": 4,
 "nbformat_minor": 2
}
